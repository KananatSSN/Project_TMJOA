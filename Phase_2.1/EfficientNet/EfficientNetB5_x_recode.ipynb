{
 "cells": [
  {
   "cell_type": "code",
   "execution_count": 1,
   "metadata": {},
   "outputs": [
    {
     "name": "stdout",
     "output_type": "stream",
     "text": [
      "2.9.0 1.26.4\n"
     ]
    }
   ],
   "source": [
    "import os\n",
    "import numpy as np\n",
    "\n",
    "import tensorflow as tf\n",
    "from tensorflow import keras\n",
    "\n",
    "print(tf.__version__, np.__version__)\n",
    "\n",
    "# Expected output 2.9.0, 1.26.4"
   ]
  },
  {
   "cell_type": "markdown",
   "metadata": {},
   "source": [
    "## Detect GPU and limit GPU memory usage if exist"
   ]
  },
  {
   "cell_type": "code",
   "execution_count": 2,
   "metadata": {},
   "outputs": [],
   "source": [
    "USE_GPU = True"
   ]
  },
  {
   "cell_type": "code",
   "execution_count": 3,
   "metadata": {},
   "outputs": [
    {
     "name": "stdout",
     "output_type": "stream",
     "text": [
      "[PhysicalDevice(name='/physical_device:GPU:0', device_type='GPU')]\n"
     ]
    }
   ],
   "source": [
    "gpus = tf.config.experimental.list_physical_devices('GPU')\n",
    "if gpus != []:\n",
    "    print(gpus)\n",
    "    for gpu in gpus: \n",
    "        tf.config.experimental.set_memory_growth(gpu, True)\n",
    "else:\n",
    "    print(\"No GPU on this machine\")\n",
    "\n",
    "# Expected output [PhysicalDevice(name='/physical_device:GPU:0', device_type='GPU')]"
   ]
  },
  {
   "cell_type": "code",
   "execution_count": 4,
   "metadata": {},
   "outputs": [],
   "source": [
    "if USE_GPU == False:\n",
    "    os.environ['CUDA_VISIBLE_DEVICES'] = '-1'"
   ]
  },
  {
   "cell_type": "code",
   "execution_count": 5,
   "metadata": {},
   "outputs": [
    {
     "name": "stdout",
     "output_type": "stream",
     "text": [
      "GPU found\n"
     ]
    }
   ],
   "source": [
    "if tf.test.gpu_device_name():\n",
    "    print('GPU found')\n",
    "else:\n",
    "    print(\"No GPU found\")"
   ]
  },
  {
   "cell_type": "markdown",
   "metadata": {},
   "source": [
    "# Load data"
   ]
  },
  {
   "cell_type": "code",
   "execution_count": 6,
   "metadata": {},
   "outputs": [
    {
     "name": "stdout",
     "output_type": "stream",
     "text": [
      "Found 39703 files belonging to 2 classes.\n"
     ]
    }
   ],
   "source": [
    "import numpy as np\n",
    "from matplotlib import pyplot as plt\n",
    "\n",
    "data_dir = r\"C:\\Users\\kanan\\Desktop\\data_x\\data_x\\train\"\n",
    "data = tf.keras.utils.image_dataset_from_directory(data_dir, image_size=(224, 224))\n",
    "\n",
    "# Expected output Found 32560 files belonging to 2 classes."
   ]
  },
  {
   "cell_type": "code",
   "execution_count": 7,
   "metadata": {},
   "outputs": [
    {
     "data": {
      "text/plain": [
       "<BatchDataset element_spec=(TensorSpec(shape=(None, 224, 224, 3), dtype=tf.float32, name=None), TensorSpec(shape=(None,), dtype=tf.int32, name=None))>"
      ]
     },
     "execution_count": 7,
     "metadata": {},
     "output_type": "execute_result"
    }
   ],
   "source": [
    "data"
   ]
  },
  {
   "cell_type": "code",
   "execution_count": 8,
   "metadata": {},
   "outputs": [],
   "source": [
    "data_iterator = data.as_numpy_iterator()\n",
    "batch = data_iterator.next()"
   ]
  },
  {
   "cell_type": "code",
   "execution_count": 9,
   "metadata": {},
   "outputs": [
    {
     "data": {
      "text/plain": [
       "(array([[[[  0.,   0.,   0.],\n",
       "          [  0.,   0.,   0.],\n",
       "          [  0.,   0.,   0.],\n",
       "          ...,\n",
       "          [  0.,   0.,   0.],\n",
       "          [  0.,   0.,   0.],\n",
       "          [  0.,   0.,   0.]],\n",
       " \n",
       "         [[  0.,   0.,   0.],\n",
       "          [  0.,   0.,   0.],\n",
       "          [  0.,   0.,   0.],\n",
       "          ...,\n",
       "          [  0.,   0.,   0.],\n",
       "          [  0.,   0.,   0.],\n",
       "          [  0.,   0.,   0.]],\n",
       " \n",
       "         [[  0.,   0.,   0.],\n",
       "          [  0.,   0.,   0.],\n",
       "          [  0.,   0.,   0.],\n",
       "          ...,\n",
       "          [  0.,   0.,   0.],\n",
       "          [  0.,   0.,   0.],\n",
       "          [  0.,   0.,   0.]],\n",
       " \n",
       "         ...,\n",
       " \n",
       "         [[  0.,   0.,   0.],\n",
       "          [  0.,   0.,   0.],\n",
       "          [  0.,   0.,   0.],\n",
       "          ...,\n",
       "          [  0.,   0.,   0.],\n",
       "          [  0.,   0.,   0.],\n",
       "          [  0.,   0.,   0.]],\n",
       " \n",
       "         [[  0.,   0.,   0.],\n",
       "          [  0.,   0.,   0.],\n",
       "          [  0.,   0.,   0.],\n",
       "          ...,\n",
       "          [  0.,   0.,   0.],\n",
       "          [  0.,   0.,   0.],\n",
       "          [  0.,   0.,   0.]],\n",
       " \n",
       "         [[  0.,   0.,   0.],\n",
       "          [  0.,   0.,   0.],\n",
       "          [  0.,   0.,   0.],\n",
       "          ...,\n",
       "          [  0.,   0.,   0.],\n",
       "          [  0.,   0.,   0.],\n",
       "          [  0.,   0.,   0.]]],\n",
       " \n",
       " \n",
       "        [[[  0.,   0.,   0.],\n",
       "          [  0.,   0.,   0.],\n",
       "          [  0.,   0.,   0.],\n",
       "          ...,\n",
       "          [  0.,   0.,   0.],\n",
       "          [  0.,   0.,   0.],\n",
       "          [  0.,   0.,   0.]],\n",
       " \n",
       "         [[  0.,   0.,   0.],\n",
       "          [  0.,   0.,   0.],\n",
       "          [  0.,   0.,   0.],\n",
       "          ...,\n",
       "          [  0.,   0.,   0.],\n",
       "          [  0.,   0.,   0.],\n",
       "          [  0.,   0.,   0.]],\n",
       " \n",
       "         [[  0.,   0.,   0.],\n",
       "          [  0.,   0.,   0.],\n",
       "          [  0.,   0.,   0.],\n",
       "          ...,\n",
       "          [  0.,   0.,   0.],\n",
       "          [  0.,   0.,   0.],\n",
       "          [  0.,   0.,   0.]],\n",
       " \n",
       "         ...,\n",
       " \n",
       "         [[  0.,   0.,   0.],\n",
       "          [  0.,   0.,   0.],\n",
       "          [  0.,   0.,   0.],\n",
       "          ...,\n",
       "          [  0.,   0.,   0.],\n",
       "          [  0.,   0.,   0.],\n",
       "          [  0.,   0.,   0.]],\n",
       " \n",
       "         [[  0.,   0.,   0.],\n",
       "          [  0.,   0.,   0.],\n",
       "          [  0.,   0.,   0.],\n",
       "          ...,\n",
       "          [  0.,   0.,   0.],\n",
       "          [  0.,   0.,   0.],\n",
       "          [  0.,   0.,   0.]],\n",
       " \n",
       "         [[  0.,   0.,   0.],\n",
       "          [  0.,   0.,   0.],\n",
       "          [  0.,   0.,   0.],\n",
       "          ...,\n",
       "          [  0.,   0.,   0.],\n",
       "          [  0.,   0.,   0.],\n",
       "          [  0.,   0.,   0.]]],\n",
       " \n",
       " \n",
       "        [[[  0.,   0.,   0.],\n",
       "          [  0.,   0.,   0.],\n",
       "          [  0.,   0.,   0.],\n",
       "          ...,\n",
       "          [  0.,   0.,   0.],\n",
       "          [  0.,   0.,   0.],\n",
       "          [  0.,   0.,   0.]],\n",
       " \n",
       "         [[  0.,   0.,   0.],\n",
       "          [  0.,   0.,   0.],\n",
       "          [  0.,   0.,   0.],\n",
       "          ...,\n",
       "          [  0.,   0.,   0.],\n",
       "          [  0.,   0.,   0.],\n",
       "          [  0.,   0.,   0.]],\n",
       " \n",
       "         [[  0.,   0.,   0.],\n",
       "          [  0.,   0.,   0.],\n",
       "          [  0.,   0.,   0.],\n",
       "          ...,\n",
       "          [  0.,   0.,   0.],\n",
       "          [  0.,   0.,   0.],\n",
       "          [  0.,   0.,   0.]],\n",
       " \n",
       "         ...,\n",
       " \n",
       "         [[  0.,   0.,   0.],\n",
       "          [  0.,   0.,   0.],\n",
       "          [  0.,   0.,   0.],\n",
       "          ...,\n",
       "          [223., 222., 220.],\n",
       "          [219., 217., 218.],\n",
       "          [215., 214., 212.]],\n",
       " \n",
       "         [[  0.,   0.,   0.],\n",
       "          [  0.,   0.,   0.],\n",
       "          [  0.,   0.,   0.],\n",
       "          ...,\n",
       "          [226., 224., 225.],\n",
       "          [222., 220., 223.],\n",
       "          [219., 217., 218.]],\n",
       " \n",
       "         [[  0.,   0.,   0.],\n",
       "          [  0.,   0.,   0.],\n",
       "          [  0.,   0.,   0.],\n",
       "          ...,\n",
       "          [227., 225., 228.],\n",
       "          [223., 221., 224.],\n",
       "          [220., 218., 221.]]],\n",
       " \n",
       " \n",
       "        ...,\n",
       " \n",
       " \n",
       "        [[[  0.,   0.,   0.],\n",
       "          [  0.,   0.,   0.],\n",
       "          [  0.,   0.,   0.],\n",
       "          ...,\n",
       "          [  0.,   0.,   0.],\n",
       "          [  0.,   0.,   0.],\n",
       "          [  0.,   0.,   0.]],\n",
       " \n",
       "         [[  0.,   0.,   0.],\n",
       "          [  0.,   0.,   0.],\n",
       "          [  0.,   0.,   0.],\n",
       "          ...,\n",
       "          [  0.,   0.,   0.],\n",
       "          [  0.,   0.,   0.],\n",
       "          [  0.,   0.,   0.]],\n",
       " \n",
       "         [[  0.,   0.,   0.],\n",
       "          [  0.,   0.,   0.],\n",
       "          [  0.,   0.,   0.],\n",
       "          ...,\n",
       "          [  0.,   0.,   0.],\n",
       "          [  0.,   0.,   0.],\n",
       "          [  0.,   0.,   0.]],\n",
       " \n",
       "         ...,\n",
       " \n",
       "         [[  0.,   0.,   0.],\n",
       "          [  0.,   0.,   0.],\n",
       "          [  0.,   0.,   0.],\n",
       "          ...,\n",
       "          [  0.,   0.,   0.],\n",
       "          [  0.,   0.,   0.],\n",
       "          [  0.,   0.,   0.]],\n",
       " \n",
       "         [[  0.,   0.,   0.],\n",
       "          [  0.,   0.,   0.],\n",
       "          [  0.,   0.,   0.],\n",
       "          ...,\n",
       "          [  0.,   0.,   0.],\n",
       "          [  0.,   0.,   0.],\n",
       "          [  0.,   0.,   0.]],\n",
       " \n",
       "         [[  0.,   0.,   0.],\n",
       "          [  0.,   0.,   0.],\n",
       "          [  0.,   0.,   0.],\n",
       "          ...,\n",
       "          [  0.,   0.,   0.],\n",
       "          [  0.,   0.,   0.],\n",
       "          [  0.,   0.,   0.]]],\n",
       " \n",
       " \n",
       "        [[[  0.,   0.,   0.],\n",
       "          [  0.,   0.,   0.],\n",
       "          [  0.,   0.,   0.],\n",
       "          ...,\n",
       "          [  0.,   0.,   0.],\n",
       "          [  0.,   0.,   0.],\n",
       "          [  0.,   0.,   0.]],\n",
       " \n",
       "         [[  0.,   0.,   0.],\n",
       "          [  0.,   0.,   0.],\n",
       "          [  0.,   0.,   0.],\n",
       "          ...,\n",
       "          [  0.,   0.,   0.],\n",
       "          [  0.,   0.,   0.],\n",
       "          [  0.,   0.,   0.]],\n",
       " \n",
       "         [[  0.,   0.,   0.],\n",
       "          [  0.,   0.,   0.],\n",
       "          [  0.,   0.,   0.],\n",
       "          ...,\n",
       "          [  0.,   0.,   0.],\n",
       "          [  0.,   0.,   0.],\n",
       "          [  0.,   0.,   0.]],\n",
       " \n",
       "         ...,\n",
       " \n",
       "         [[  0.,   0.,   0.],\n",
       "          [  0.,   0.,   0.],\n",
       "          [  0.,   0.,   0.],\n",
       "          ...,\n",
       "          [  0.,   0.,   0.],\n",
       "          [  0.,   0.,   0.],\n",
       "          [  0.,   0.,   0.]],\n",
       " \n",
       "         [[  0.,   0.,   0.],\n",
       "          [  0.,   0.,   0.],\n",
       "          [  0.,   0.,   0.],\n",
       "          ...,\n",
       "          [  0.,   0.,   0.],\n",
       "          [  0.,   0.,   0.],\n",
       "          [  0.,   0.,   0.]],\n",
       " \n",
       "         [[  0.,   0.,   0.],\n",
       "          [  0.,   0.,   0.],\n",
       "          [  0.,   0.,   0.],\n",
       "          ...,\n",
       "          [  0.,   0.,   0.],\n",
       "          [  0.,   0.,   0.],\n",
       "          [  0.,   0.,   0.]]],\n",
       " \n",
       " \n",
       "        [[[  0.,   0.,   0.],\n",
       "          [  0.,   0.,   0.],\n",
       "          [  0.,   0.,   0.],\n",
       "          ...,\n",
       "          [  0.,   0.,   0.],\n",
       "          [  0.,   0.,   0.],\n",
       "          [  0.,   0.,   0.]],\n",
       " \n",
       "         [[  0.,   0.,   0.],\n",
       "          [  0.,   0.,   0.],\n",
       "          [  0.,   0.,   0.],\n",
       "          ...,\n",
       "          [  0.,   0.,   0.],\n",
       "          [  0.,   0.,   0.],\n",
       "          [  0.,   0.,   0.]],\n",
       " \n",
       "         [[  0.,   0.,   0.],\n",
       "          [  0.,   0.,   0.],\n",
       "          [  0.,   0.,   0.],\n",
       "          ...,\n",
       "          [  0.,   0.,   0.],\n",
       "          [  0.,   0.,   0.],\n",
       "          [  0.,   0.,   0.]],\n",
       " \n",
       "         ...,\n",
       " \n",
       "         [[  0.,   0.,   0.],\n",
       "          [  0.,   0.,   0.],\n",
       "          [  0.,   0.,   0.],\n",
       "          ...,\n",
       "          [  0.,   0.,   0.],\n",
       "          [  0.,   0.,   0.],\n",
       "          [  0.,   0.,   0.]],\n",
       " \n",
       "         [[  0.,   0.,   0.],\n",
       "          [  0.,   0.,   0.],\n",
       "          [  0.,   0.,   0.],\n",
       "          ...,\n",
       "          [  0.,   0.,   0.],\n",
       "          [  0.,   0.,   0.],\n",
       "          [  0.,   0.,   0.]],\n",
       " \n",
       "         [[  0.,   0.,   0.],\n",
       "          [  0.,   0.,   0.],\n",
       "          [  0.,   0.,   0.],\n",
       "          ...,\n",
       "          [  0.,   0.,   0.],\n",
       "          [  0.,   0.,   0.],\n",
       "          [  0.,   0.,   0.]]]], dtype=float32),\n",
       " array([0, 1, 1, 0, 0, 1, 0, 1, 1, 1, 0, 1, 0, 1, 1, 0, 1, 1, 1, 0, 0, 0,\n",
       "        1, 1, 0, 0, 1, 1, 0, 1, 0, 0]))"
      ]
     },
     "execution_count": 9,
     "metadata": {},
     "output_type": "execute_result"
    }
   ],
   "source": [
    "data.as_numpy_iterator().next()"
   ]
  },
  {
   "cell_type": "markdown",
   "metadata": {},
   "source": [
    "# Split Train/Val"
   ]
  },
  {
   "cell_type": "code",
   "execution_count": 10,
   "metadata": {},
   "outputs": [],
   "source": [
    "train_size = int(len(data)*.8)\n",
    "val_size = int(len(data)*.2)"
   ]
  },
  {
   "cell_type": "code",
   "execution_count": 11,
   "metadata": {},
   "outputs": [
    {
     "data": {
      "text/plain": [
       "992"
      ]
     },
     "execution_count": 11,
     "metadata": {},
     "output_type": "execute_result"
    }
   ],
   "source": [
    "train_size"
   ]
  },
  {
   "cell_type": "code",
   "execution_count": 12,
   "metadata": {},
   "outputs": [],
   "source": [
    "train = data.take(train_size)\n",
    "val = data.skip(train_size).take(val_size)"
   ]
  },
  {
   "cell_type": "markdown",
   "metadata": {},
   "source": [
    "# Build model"
   ]
  },
  {
   "cell_type": "code",
   "execution_count": 13,
   "metadata": {},
   "outputs": [
    {
     "data": {
      "text/plain": [
       "<TakeDataset element_spec=(TensorSpec(shape=(None, 224, 224, 3), dtype=tf.float32, name=None), TensorSpec(shape=(None,), dtype=tf.int32, name=None))>"
      ]
     },
     "execution_count": 13,
     "metadata": {},
     "output_type": "execute_result"
    }
   ],
   "source": [
    "train"
   ]
  },
  {
   "cell_type": "code",
   "execution_count": 14,
   "metadata": {},
   "outputs": [],
   "source": [
    "# True = Training the base model\n",
    "\n",
    "TRAIN_FULL_NETWROK = False"
   ]
  },
  {
   "cell_type": "code",
   "execution_count": 15,
   "metadata": {},
   "outputs": [],
   "source": [
    "IMG_DIM = (224,224)\n",
    "INPUT_SHAPE = (224,224,3)"
   ]
  },
  {
   "cell_type": "code",
   "execution_count": 16,
   "metadata": {},
   "outputs": [],
   "source": [
    "base_model = tf.keras.applications.EfficientNetB5(input_shape=INPUT_SHAPE, include_top=False, weights='imagenet')\n",
    "base_model.trainable = TRAIN_FULL_NETWROK"
   ]
  },
  {
   "cell_type": "code",
   "execution_count": 17,
   "metadata": {},
   "outputs": [
    {
     "data": {
      "text/html": [
       "<div>\n",
       "<style scoped>\n",
       "    .dataframe tbody tr th:only-of-type {\n",
       "        vertical-align: middle;\n",
       "    }\n",
       "\n",
       "    .dataframe tbody tr th {\n",
       "        vertical-align: top;\n",
       "    }\n",
       "\n",
       "    .dataframe thead th {\n",
       "        text-align: right;\n",
       "    }\n",
       "</style>\n",
       "<table border=\"1\" class=\"dataframe\">\n",
       "  <thead>\n",
       "    <tr style=\"text-align: right;\">\n",
       "      <th></th>\n",
       "      <th>Layer Type</th>\n",
       "      <th>Layer Name</th>\n",
       "      <th>Layer Trainable</th>\n",
       "    </tr>\n",
       "  </thead>\n",
       "  <tbody>\n",
       "    <tr>\n",
       "      <th>0</th>\n",
       "      <td>&lt;keras.layers.core.activation.Activation object at 0x000001E4C0A008E0&gt;</td>\n",
       "      <td>block1a_activation</td>\n",
       "      <td>False</td>\n",
       "    </tr>\n",
       "    <tr>\n",
       "      <th>1</th>\n",
       "      <td>&lt;keras.layers.pooling.global_average_pooling2d.GlobalAveragePooling2D object at 0x000001E4C0A016C0&gt;</td>\n",
       "      <td>block1a_se_squeeze</td>\n",
       "      <td>False</td>\n",
       "    </tr>\n",
       "    <tr>\n",
       "      <th>2</th>\n",
       "      <td>&lt;keras.layers.reshaping.reshape.Reshape object at 0x000001E4C0A02320&gt;</td>\n",
       "      <td>block1a_se_reshape</td>\n",
       "      <td>False</td>\n",
       "    </tr>\n",
       "    <tr>\n",
       "      <th>3</th>\n",
       "      <td>&lt;keras.layers.convolutional.conv2d.Conv2D object at 0x000001E4C06E9EA0&gt;</td>\n",
       "      <td>block1a_se_reduce</td>\n",
       "      <td>False</td>\n",
       "    </tr>\n",
       "    <tr>\n",
       "      <th>4</th>\n",
       "      <td>&lt;keras.layers.convolutional.conv2d.Conv2D object at 0x000001E4C06E9D20&gt;</td>\n",
       "      <td>block1a_se_expand</td>\n",
       "      <td>False</td>\n",
       "    </tr>\n",
       "    <tr>\n",
       "      <th>...</th>\n",
       "      <td>...</td>\n",
       "      <td>...</td>\n",
       "      <td>...</td>\n",
       "    </tr>\n",
       "    <tr>\n",
       "      <th>562</th>\n",
       "      <td>&lt;keras.layers.regularization.dropout.Dropout object at 0x000001E486832FB0&gt;</td>\n",
       "      <td>block7c_drop</td>\n",
       "      <td>False</td>\n",
       "    </tr>\n",
       "    <tr>\n",
       "      <th>563</th>\n",
       "      <td>&lt;keras.layers.merging.add.Add object at 0x000001E486832CE0&gt;</td>\n",
       "      <td>block7c_add</td>\n",
       "      <td>False</td>\n",
       "    </tr>\n",
       "    <tr>\n",
       "      <th>564</th>\n",
       "      <td>&lt;keras.layers.convolutional.conv2d.Conv2D object at 0x000001E4C06E9030&gt;</td>\n",
       "      <td>top_conv</td>\n",
       "      <td>False</td>\n",
       "    </tr>\n",
       "    <tr>\n",
       "      <th>565</th>\n",
       "      <td>&lt;keras.layers.normalization.batch_normalization.BatchNormalization object at 0x000001E486830190&gt;</td>\n",
       "      <td>top_bn</td>\n",
       "      <td>False</td>\n",
       "    </tr>\n",
       "    <tr>\n",
       "      <th>566</th>\n",
       "      <td>&lt;keras.layers.core.activation.Activation object at 0x000001E486850040&gt;</td>\n",
       "      <td>top_activation</td>\n",
       "      <td>False</td>\n",
       "    </tr>\n",
       "  </tbody>\n",
       "</table>\n",
       "<p>567 rows × 3 columns</p>\n",
       "</div>"
      ],
      "text/plain": [
       "                                                                                              Layer Type  \\\n",
       "0                                 <keras.layers.core.activation.Activation object at 0x000001E4C0A008E0>   \n",
       "1    <keras.layers.pooling.global_average_pooling2d.GlobalAveragePooling2D object at 0x000001E4C0A016C0>   \n",
       "2                                  <keras.layers.reshaping.reshape.Reshape object at 0x000001E4C0A02320>   \n",
       "3                                <keras.layers.convolutional.conv2d.Conv2D object at 0x000001E4C06E9EA0>   \n",
       "4                                <keras.layers.convolutional.conv2d.Conv2D object at 0x000001E4C06E9D20>   \n",
       "..                                                                                                   ...   \n",
       "562                           <keras.layers.regularization.dropout.Dropout object at 0x000001E486832FB0>   \n",
       "563                                          <keras.layers.merging.add.Add object at 0x000001E486832CE0>   \n",
       "564                              <keras.layers.convolutional.conv2d.Conv2D object at 0x000001E4C06E9030>   \n",
       "565     <keras.layers.normalization.batch_normalization.BatchNormalization object at 0x000001E486830190>   \n",
       "566                               <keras.layers.core.activation.Activation object at 0x000001E486850040>   \n",
       "\n",
       "             Layer Name  Layer Trainable  \n",
       "0    block1a_activation            False  \n",
       "1    block1a_se_squeeze            False  \n",
       "2    block1a_se_reshape            False  \n",
       "3     block1a_se_reduce            False  \n",
       "4     block1a_se_expand            False  \n",
       "..                  ...              ...  \n",
       "562        block7c_drop            False  \n",
       "563         block7c_add            False  \n",
       "564            top_conv            False  \n",
       "565              top_bn            False  \n",
       "566      top_activation            False  \n",
       "\n",
       "[567 rows x 3 columns]"
      ]
     },
     "execution_count": 17,
     "metadata": {},
     "output_type": "execute_result"
    }
   ],
   "source": [
    "import pandas as pd\n",
    "\n",
    "pd.set_option('max_colwidth', None)\n",
    "layers = [(layer, layer.name, layer.trainable) for layer in base_model.layers[10:]]\n",
    "pd.DataFrame(layers, columns=['Layer Type', 'Layer Name', 'Layer Trainable'])"
   ]
  },
  {
   "cell_type": "code",
   "execution_count": 18,
   "metadata": {},
   "outputs": [],
   "source": [
    "from tensorflow.keras.layers import Dense, GlobalAveragePooling2D\n",
    "from tensorflow.keras.models import Model"
   ]
  },
  {
   "cell_type": "code",
   "execution_count": 19,
   "metadata": {},
   "outputs": [],
   "source": [
    "inputs = tf.keras.Input(shape=INPUT_SHAPE)\n",
    "\n",
    "x = base_model(inputs, training=TRAIN_FULL_NETWROK)\n",
    "x = GlobalAveragePooling2D()(x)\n",
    "x = Dense(1024, activation='relu')(x)\n",
    "x = Dense(512, activation='relu')(x)\n",
    "\n",
    "# A Dense classifier with a single unit (binary classification)\n",
    "outputs = Dense(1, activation='sigmoid')(x)\n",
    "model = Model(inputs=inputs, outputs=outputs)"
   ]
  },
  {
   "cell_type": "code",
   "execution_count": 20,
   "metadata": {},
   "outputs": [
    {
     "data": {
      "text/html": [
       "<div>\n",
       "<style scoped>\n",
       "    .dataframe tbody tr th:only-of-type {\n",
       "        vertical-align: middle;\n",
       "    }\n",
       "\n",
       "    .dataframe tbody tr th {\n",
       "        vertical-align: top;\n",
       "    }\n",
       "\n",
       "    .dataframe thead th {\n",
       "        text-align: right;\n",
       "    }\n",
       "</style>\n",
       "<table border=\"1\" class=\"dataframe\">\n",
       "  <thead>\n",
       "    <tr style=\"text-align: right;\">\n",
       "      <th></th>\n",
       "      <th>Layer Type</th>\n",
       "      <th>Layer Name</th>\n",
       "      <th>Layer Trainable</th>\n",
       "    </tr>\n",
       "  </thead>\n",
       "  <tbody>\n",
       "    <tr>\n",
       "      <th>0</th>\n",
       "      <td>&lt;keras.engine.input_layer.InputLayer object at 0x000001E4C0683B50&gt;</td>\n",
       "      <td>input_2</td>\n",
       "      <td>True</td>\n",
       "    </tr>\n",
       "    <tr>\n",
       "      <th>1</th>\n",
       "      <td>&lt;keras.engine.functional.Functional object at 0x000001E486853FD0&gt;</td>\n",
       "      <td>efficientnetb5</td>\n",
       "      <td>False</td>\n",
       "    </tr>\n",
       "    <tr>\n",
       "      <th>2</th>\n",
       "      <td>&lt;keras.layers.pooling.global_average_pooling2d.GlobalAveragePooling2D object at 0x000001E4C0683EE0&gt;</td>\n",
       "      <td>global_average_pooling2d</td>\n",
       "      <td>True</td>\n",
       "    </tr>\n",
       "    <tr>\n",
       "      <th>3</th>\n",
       "      <td>&lt;keras.layers.core.dense.Dense object at 0x000001E48BC08340&gt;</td>\n",
       "      <td>dense</td>\n",
       "      <td>True</td>\n",
       "    </tr>\n",
       "    <tr>\n",
       "      <th>4</th>\n",
       "      <td>&lt;keras.layers.core.dense.Dense object at 0x000001E48687DD20&gt;</td>\n",
       "      <td>dense_1</td>\n",
       "      <td>True</td>\n",
       "    </tr>\n",
       "    <tr>\n",
       "      <th>5</th>\n",
       "      <td>&lt;keras.layers.core.dense.Dense object at 0x000001E4C125DBA0&gt;</td>\n",
       "      <td>dense_2</td>\n",
       "      <td>True</td>\n",
       "    </tr>\n",
       "  </tbody>\n",
       "</table>\n",
       "</div>"
      ],
      "text/plain": [
       "                                                                                            Layer Type  \\\n",
       "0                                   <keras.engine.input_layer.InputLayer object at 0x000001E4C0683B50>   \n",
       "1                                    <keras.engine.functional.Functional object at 0x000001E486853FD0>   \n",
       "2  <keras.layers.pooling.global_average_pooling2d.GlobalAveragePooling2D object at 0x000001E4C0683EE0>   \n",
       "3                                         <keras.layers.core.dense.Dense object at 0x000001E48BC08340>   \n",
       "4                                         <keras.layers.core.dense.Dense object at 0x000001E48687DD20>   \n",
       "5                                         <keras.layers.core.dense.Dense object at 0x000001E4C125DBA0>   \n",
       "\n",
       "                 Layer Name  Layer Trainable  \n",
       "0                   input_2             True  \n",
       "1            efficientnetb5            False  \n",
       "2  global_average_pooling2d             True  \n",
       "3                     dense             True  \n",
       "4                   dense_1             True  \n",
       "5                   dense_2             True  "
      ]
     },
     "execution_count": 20,
     "metadata": {},
     "output_type": "execute_result"
    }
   ],
   "source": [
    "pd.set_option('max_colwidth', None)\n",
    "layers = [(layer, layer.name, layer.trainable) for layer in model.layers]\n",
    "pd.DataFrame(layers, columns=['Layer Type', 'Layer Name', 'Layer Trainable'])"
   ]
  },
  {
   "cell_type": "code",
   "execution_count": 21,
   "metadata": {},
   "outputs": [
    {
     "name": "stdout",
     "output_type": "stream",
     "text": [
      "Model: \"model\"\n",
      "_________________________________________________________________\n",
      " Layer (type)                Output Shape              Param #   \n",
      "=================================================================\n",
      " input_2 (InputLayer)        [(None, 224, 224, 3)]     0         \n",
      "                                                                 \n",
      " efficientnetb5 (Functional)  (None, 7, 7, 2048)       28513527  \n",
      "                                                                 \n",
      " global_average_pooling2d (G  (None, 2048)             0         \n",
      " lobalAveragePooling2D)                                          \n",
      "                                                                 \n",
      " dense (Dense)               (None, 1024)              2098176   \n",
      "                                                                 \n",
      " dense_1 (Dense)             (None, 512)               524800    \n",
      "                                                                 \n",
      " dense_2 (Dense)             (None, 1)                 513       \n",
      "                                                                 \n",
      "=================================================================\n",
      "Total params: 31,137,016\n",
      "Trainable params: 2,623,489\n",
      "Non-trainable params: 28,513,527\n",
      "_________________________________________________________________\n"
     ]
    }
   ],
   "source": [
    "model.summary()"
   ]
  },
  {
   "cell_type": "code",
   "execution_count": 22,
   "metadata": {},
   "outputs": [],
   "source": [
    "model.compile(loss=keras.losses.BinaryCrossentropy(from_logits=False), # change from_logits=True\n",
    "              optimizer= keras.optimizers.RMSprop(learning_rate=1e-2),\n",
    "              metrics = [keras.metrics.BinaryAccuracy()])"
   ]
  },
  {
   "cell_type": "markdown",
   "metadata": {},
   "source": [
    "# Set up training metrics"
   ]
  },
  {
   "cell_type": "code",
   "execution_count": 23,
   "metadata": {},
   "outputs": [],
   "source": [
    "from tensorflow.keras.callbacks import ModelCheckpoint, CSVLogger"
   ]
  },
  {
   "cell_type": "code",
   "execution_count": 24,
   "metadata": {},
   "outputs": [],
   "source": [
    "dir_path = r\"C:\\Users\\kanan\\Desktop\\data_x\"\n",
    "results_dir = os.path.join(dir_path, r'logs\\EfficientNet-B5')\n",
    "models_dir = os.path.join(dir_path, r'models\\EfficientNet-B5')\n",
    "\n",
    "if not os.path.isdir(results_dir):\n",
    "    os.makedirs(results_dir)\n",
    "    \n",
    "if not os.path.isdir(models_dir):\n",
    "    os.makedirs(models_dir)"
   ]
  },
  {
   "cell_type": "code",
   "execution_count": 25,
   "metadata": {},
   "outputs": [],
   "source": [
    "fig_train = 'EfficientNetB5_A_FE_train_224'\n",
    "log_file = os.path.join(results_dir, 'EfficientNetB5_A_FE_train_224.csv')\n",
    "model_path = os.path.join(models_dir, 'EfficientNetB5_A_FE_224.h5')"
   ]
  },
  {
   "cell_type": "code",
   "execution_count": 26,
   "metadata": {},
   "outputs": [],
   "source": [
    "callbacks = [\n",
    "    CSVLogger(log_file),\n",
    "    ModelCheckpoint(\n",
    "        filepath=os.path.join(models_dir,\"Eff-epoch-{epoch:02d}.h5\"),\n",
    "        save_weights_only=False,\n",
    "        save_best_only=False,\n",
    "        save_freq='epoch',\n",
    "        verbose=1\n",
    "    )\n",
    "]"
   ]
  },
  {
   "cell_type": "markdown",
   "metadata": {},
   "source": [
    "# Train model"
   ]
  },
  {
   "cell_type": "code",
   "execution_count": 27,
   "metadata": {},
   "outputs": [],
   "source": [
    "EPOCH =  50"
   ]
  },
  {
   "cell_type": "code",
   "execution_count": 28,
   "metadata": {},
   "outputs": [
    {
     "name": "stdout",
     "output_type": "stream",
     "text": [
      "Epoch 1/50\n",
      "220/992 [=====>........................] - ETA: 3:14 - loss: 2.7147 - binary_accuracy: 0.6523"
     ]
    }
   ],
   "source": [
    "history = model.fit(train, \n",
    "                    validation_data=val,\n",
    "                    epochs=EPOCH, \n",
    "                    verbose=1, \n",
    "                    callbacks=callbacks)"
   ]
  }
 ],
 "metadata": {
  "kernelspec": {
   "display_name": "2dmodelGPU",
   "language": "python",
   "name": "python3"
  },
  "language_info": {
   "codemirror_mode": {
    "name": "ipython",
    "version": 3
   },
   "file_extension": ".py",
   "mimetype": "text/x-python",
   "name": "python",
   "nbconvert_exporter": "python",
   "pygments_lexer": "ipython3",
   "version": "3.10.14"
  }
 },
 "nbformat": 4,
 "nbformat_minor": 2
}
