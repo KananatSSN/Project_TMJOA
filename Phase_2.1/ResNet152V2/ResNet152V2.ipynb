{
 "cells": [
  {
   "cell_type": "code",
   "execution_count": 1,
   "metadata": {},
   "outputs": [
    {
     "name": "stdout",
     "output_type": "stream",
     "text": [
      "2.9.0 1.26.4\n"
     ]
    }
   ],
   "source": [
    "import os\n",
    "import numpy as np\n",
    "\n",
    "import tensorflow as tf\n",
    "from tensorflow import keras\n",
    "\n",
    "print(tf.__version__, np.__version__)\n",
    "\n",
    "# Expected output 2.9.0, 1.26.4"
   ]
  },
  {
   "cell_type": "markdown",
   "metadata": {},
   "source": [
    "## Detect GPU and limit GPU memory usage if exist"
   ]
  },
  {
   "cell_type": "code",
   "execution_count": 2,
   "metadata": {},
   "outputs": [],
   "source": [
    "USE_GPU = True"
   ]
  },
  {
   "cell_type": "code",
   "execution_count": 3,
   "metadata": {},
   "outputs": [
    {
     "name": "stdout",
     "output_type": "stream",
     "text": [
      "[PhysicalDevice(name='/physical_device:GPU:0', device_type='GPU')]\n"
     ]
    }
   ],
   "source": [
    "gpus = tf.config.experimental.list_physical_devices('GPU')\n",
    "\n",
    "if gpus != []:\n",
    "    print(gpus)\n",
    "    for gpu in gpus: \n",
    "        tf.config.experimental.set_memory_growth(gpu, True)\n",
    "else:\n",
    "    print(\"No GPU on this machine\")\n",
    "\n",
    "# Expected output [PhysicalDevice(name='/physical_device:GPU:0', device_type='GPU')]"
   ]
  },
  {
   "cell_type": "code",
   "execution_count": 4,
   "metadata": {},
   "outputs": [],
   "source": [
    "if USE_GPU == False:\n",
    "    os.environ['CUDA_VISIBLE_DEVICES'] = '-1'"
   ]
  },
  {
   "cell_type": "code",
   "execution_count": 5,
   "metadata": {},
   "outputs": [
    {
     "name": "stdout",
     "output_type": "stream",
     "text": [
      "GPU found\n"
     ]
    }
   ],
   "source": [
    "if tf.test.gpu_device_name():\n",
    "    print('GPU found')\n",
    "else:\n",
    "    print(\"No GPU found\")"
   ]
  },
  {
   "cell_type": "markdown",
   "metadata": {},
   "source": [
    "# Model selector"
   ]
  },
  {
   "cell_type": "code",
   "execution_count": 6,
   "metadata": {},
   "outputs": [],
   "source": [
    "INPUT_SHAPE = (224,224,3)\n",
    "base_model = tf.keras.applications.ResNet152V2(input_shape=INPUT_SHAPE, include_top=False, weights='imagenet')\n",
    "model_name = \"ResNet152V2\""
   ]
  },
  {
   "cell_type": "markdown",
   "metadata": {},
   "source": [
    "# Load data"
   ]
  },
  {
   "cell_type": "code",
   "execution_count": 7,
   "metadata": {},
   "outputs": [
    {
     "name": "stdout",
     "output_type": "stream",
     "text": [
      "Found 39703 files belonging to 2 classes.\n"
     ]
    }
   ],
   "source": [
    "import numpy as np\n",
    "from matplotlib import pyplot as plt\n",
    "\n",
    "data_dir = r\"C:\\Users\\kanan\\Desktop\\data_x\\data_x\\train\"\n",
    "data = tf.keras.utils.image_dataset_from_directory(data_dir, image_size=(224, 224))\n",
    "\n",
    "# Expected output Found 39703 files belonging to 2 classes."
   ]
  },
  {
   "cell_type": "code",
   "execution_count": 8,
   "metadata": {},
   "outputs": [],
   "source": [
    "data_iterator = data.as_numpy_iterator()\n",
    "batch = data_iterator.next()"
   ]
  },
  {
   "cell_type": "markdown",
   "metadata": {},
   "source": [
    "# Split Train/Val"
   ]
  },
  {
   "cell_type": "code",
   "execution_count": 9,
   "metadata": {},
   "outputs": [],
   "source": [
    "train_size = int(len(data)*.8)\n",
    "val_size = int(len(data)*.2)"
   ]
  },
  {
   "cell_type": "code",
   "execution_count": 10,
   "metadata": {},
   "outputs": [],
   "source": [
    "train = data.take(train_size)\n",
    "val = data.skip(train_size).take(val_size)"
   ]
  },
  {
   "cell_type": "markdown",
   "metadata": {},
   "source": [
    "# Build model"
   ]
  },
  {
   "cell_type": "code",
   "execution_count": 11,
   "metadata": {},
   "outputs": [],
   "source": [
    "# True = Training the base model\n",
    "\n",
    "TRAIN_FULL_NETWROK = False"
   ]
  },
  {
   "cell_type": "code",
   "execution_count": 12,
   "metadata": {},
   "outputs": [],
   "source": [
    "IMG_DIM = (224,224)"
   ]
  },
  {
   "cell_type": "code",
   "execution_count": 13,
   "metadata": {},
   "outputs": [],
   "source": [
    "base_model.trainable = TRAIN_FULL_NETWROK"
   ]
  },
  {
   "cell_type": "code",
   "execution_count": 14,
   "metadata": {},
   "outputs": [],
   "source": [
    "from tensorflow.keras.layers import Dense, GlobalAveragePooling2D\n",
    "from tensorflow.keras.models import Model"
   ]
  },
  {
   "cell_type": "code",
   "execution_count": 15,
   "metadata": {},
   "outputs": [],
   "source": [
    "inputs = tf.keras.Input(shape=INPUT_SHAPE)\n",
    "\n",
    "x = base_model(inputs, training=TRAIN_FULL_NETWROK)\n",
    "x = GlobalAveragePooling2D()(x)\n",
    "x = Dense(1024, activation='relu')(x)\n",
    "x = Dense(512, activation='relu')(x)\n",
    "\n",
    "# A Dense classifier with a single unit (binary classification)\n",
    "outputs = Dense(1, activation='sigmoid')(x)\n",
    "model = Model(inputs=inputs, outputs=outputs)"
   ]
  },
  {
   "cell_type": "code",
   "execution_count": 16,
   "metadata": {},
   "outputs": [
    {
     "data": {
      "text/html": [
       "<div>\n",
       "<style scoped>\n",
       "    .dataframe tbody tr th:only-of-type {\n",
       "        vertical-align: middle;\n",
       "    }\n",
       "\n",
       "    .dataframe tbody tr th {\n",
       "        vertical-align: top;\n",
       "    }\n",
       "\n",
       "    .dataframe thead th {\n",
       "        text-align: right;\n",
       "    }\n",
       "</style>\n",
       "<table border=\"1\" class=\"dataframe\">\n",
       "  <thead>\n",
       "    <tr style=\"text-align: right;\">\n",
       "      <th></th>\n",
       "      <th>Layer Type</th>\n",
       "      <th>Layer Name</th>\n",
       "      <th>Layer Trainable</th>\n",
       "    </tr>\n",
       "  </thead>\n",
       "  <tbody>\n",
       "    <tr>\n",
       "      <th>0</th>\n",
       "      <td>&lt;keras.engine.input_layer.InputLayer object at 0x000002386965B880&gt;</td>\n",
       "      <td>input_2</td>\n",
       "      <td>True</td>\n",
       "    </tr>\n",
       "    <tr>\n",
       "      <th>1</th>\n",
       "      <td>&lt;keras.engine.functional.Functional object at 0x0000023867AA4220&gt;</td>\n",
       "      <td>resnet152v2</td>\n",
       "      <td>False</td>\n",
       "    </tr>\n",
       "    <tr>\n",
       "      <th>2</th>\n",
       "      <td>&lt;keras.layers.pooling.global_average_pooling2d.GlobalAveragePooling2D object at 0x000002386965B340&gt;</td>\n",
       "      <td>global_average_pooling2d</td>\n",
       "      <td>True</td>\n",
       "    </tr>\n",
       "    <tr>\n",
       "      <th>3</th>\n",
       "      <td>&lt;keras.layers.core.dense.Dense object at 0x00000236B668D7B0&gt;</td>\n",
       "      <td>dense</td>\n",
       "      <td>True</td>\n",
       "    </tr>\n",
       "    <tr>\n",
       "      <th>4</th>\n",
       "      <td>&lt;keras.layers.core.dense.Dense object at 0x000002386965ACE0&gt;</td>\n",
       "      <td>dense_1</td>\n",
       "      <td>True</td>\n",
       "    </tr>\n",
       "    <tr>\n",
       "      <th>5</th>\n",
       "      <td>&lt;keras.layers.core.dense.Dense object at 0x00000238697516F0&gt;</td>\n",
       "      <td>dense_2</td>\n",
       "      <td>True</td>\n",
       "    </tr>\n",
       "  </tbody>\n",
       "</table>\n",
       "</div>"
      ],
      "text/plain": [
       "                                                                                            Layer Type  \\\n",
       "0                                   <keras.engine.input_layer.InputLayer object at 0x000002386965B880>   \n",
       "1                                    <keras.engine.functional.Functional object at 0x0000023867AA4220>   \n",
       "2  <keras.layers.pooling.global_average_pooling2d.GlobalAveragePooling2D object at 0x000002386965B340>   \n",
       "3                                         <keras.layers.core.dense.Dense object at 0x00000236B668D7B0>   \n",
       "4                                         <keras.layers.core.dense.Dense object at 0x000002386965ACE0>   \n",
       "5                                         <keras.layers.core.dense.Dense object at 0x00000238697516F0>   \n",
       "\n",
       "                 Layer Name  Layer Trainable  \n",
       "0                   input_2             True  \n",
       "1               resnet152v2            False  \n",
       "2  global_average_pooling2d             True  \n",
       "3                     dense             True  \n",
       "4                   dense_1             True  \n",
       "5                   dense_2             True  "
      ]
     },
     "execution_count": 16,
     "metadata": {},
     "output_type": "execute_result"
    }
   ],
   "source": [
    "import pandas as pd\n",
    "\n",
    "pd.set_option('max_colwidth', None)\n",
    "layers = [(layer, layer.name, layer.trainable) for layer in model.layers]\n",
    "pd.DataFrame(layers, columns=['Layer Type', 'Layer Name', 'Layer Trainable'])"
   ]
  },
  {
   "cell_type": "code",
   "execution_count": 17,
   "metadata": {},
   "outputs": [
    {
     "name": "stdout",
     "output_type": "stream",
     "text": [
      "Model: \"model\"\n",
      "_________________________________________________________________\n",
      " Layer (type)                Output Shape              Param #   \n",
      "=================================================================\n",
      " input_2 (InputLayer)        [(None, 224, 224, 3)]     0         \n",
      "                                                                 \n",
      " resnet152v2 (Functional)    (None, 7, 7, 2048)        58331648  \n",
      "                                                                 \n",
      " global_average_pooling2d (G  (None, 2048)             0         \n",
      " lobalAveragePooling2D)                                          \n",
      "                                                                 \n",
      " dense (Dense)               (None, 1024)              2098176   \n",
      "                                                                 \n",
      " dense_1 (Dense)             (None, 512)               524800    \n",
      "                                                                 \n",
      " dense_2 (Dense)             (None, 1)                 513       \n",
      "                                                                 \n",
      "=================================================================\n",
      "Total params: 60,955,137\n",
      "Trainable params: 2,623,489\n",
      "Non-trainable params: 58,331,648\n",
      "_________________________________________________________________\n"
     ]
    }
   ],
   "source": [
    "model.summary()"
   ]
  },
  {
   "cell_type": "code",
   "execution_count": 18,
   "metadata": {},
   "outputs": [],
   "source": [
    "model.compile(loss=keras.losses.BinaryCrossentropy(from_logits=False), # change from_logits=True\n",
    "              optimizer= keras.optimizers.Adam(learning_rate=1e-2),\n",
    "              metrics = [keras.metrics.BinaryAccuracy()])"
   ]
  },
  {
   "cell_type": "markdown",
   "metadata": {},
   "source": [
    "# Set up training metrics"
   ]
  },
  {
   "cell_type": "code",
   "execution_count": 19,
   "metadata": {},
   "outputs": [],
   "source": [
    "from tensorflow.keras.callbacks import ModelCheckpoint, CSVLogger"
   ]
  },
  {
   "cell_type": "code",
   "execution_count": 20,
   "metadata": {},
   "outputs": [],
   "source": [
    "dir_path = r\"C:\\Users\\kanan\\Desktop\\data_x\"\n",
    "\n",
    "results_dir = \"logs\\\\\" + model_name\n",
    "results_dir = os.path.join(dir_path, results_dir)\n",
    "\n",
    "models_dir = \"models\\\\\" + model_name\n",
    "models_dir = os.path.join(dir_path, models_dir)\n",
    "\n",
    "if not os.path.isdir(results_dir):\n",
    "    os.makedirs(results_dir)\n",
    "    \n",
    "if not os.path.isdir(models_dir):\n",
    "    os.makedirs(models_dir)"
   ]
  },
  {
   "cell_type": "code",
   "execution_count": 21,
   "metadata": {},
   "outputs": [],
   "source": [
    "log_file = os.path.join(results_dir, f\"{model_name}_bo20_lr001.csv\")"
   ]
  },
  {
   "cell_type": "code",
   "execution_count": 22,
   "metadata": {},
   "outputs": [],
   "source": [
    "callbacks = [\n",
    "    CSVLogger(log_file),\n",
    "    ModelCheckpoint(\n",
    "        filepath=os.path.join(models_dir, f\"{model_name}_bo20_lr001.h5\"),\n",
    "        save_weights_only=False,\n",
    "        save_best_only=True,\n",
    "        save_freq='epoch',\n",
    "        verbose=1\n",
    "    )\n",
    "]"
   ]
  },
  {
   "cell_type": "markdown",
   "metadata": {},
   "source": [
    "# Train model"
   ]
  },
  {
   "cell_type": "code",
   "execution_count": 23,
   "metadata": {},
   "outputs": [
    {
     "name": "stdout",
     "output_type": "stream",
     "text": [
      "Epoch 1/20\n",
      "992/992 [==============================] - ETA: 0s - loss: 25.7293 - binary_accuracy: 0.5275\n",
      "Epoch 1: val_loss improved from inf to 0.69242, saving model to C:\\Users\\kanan\\Desktop\\data_x\\models\\ResNet152V2\\ResNet152V2_bo20_lr001.h5\n",
      "992/992 [==============================] - 333s 325ms/step - loss: 25.7293 - binary_accuracy: 0.5275 - val_loss: 0.6924 - val_binary_accuracy: 0.5252\n",
      "Epoch 2/20\n",
      "992/992 [==============================] - ETA: 0s - loss: 0.6916 - binary_accuracy: 0.5305\n",
      "Epoch 2: val_loss did not improve from 0.69242\n",
      "992/992 [==============================] - 333s 336ms/step - loss: 0.6916 - binary_accuracy: 0.5305 - val_loss: 0.6924 - val_binary_accuracy: 0.5253\n",
      "Epoch 3/20\n",
      "992/992 [==============================] - ETA: 0s - loss: 0.6916 - binary_accuracy: 0.5303\n",
      "Epoch 3: val_loss improved from 0.69242 to 0.69215, saving model to C:\\Users\\kanan\\Desktop\\data_x\\models\\ResNet152V2\\ResNet152V2_bo20_lr001.h5\n",
      "992/992 [==============================] - 335s 338ms/step - loss: 0.6916 - binary_accuracy: 0.5303 - val_loss: 0.6921 - val_binary_accuracy: 0.5255\n",
      "Epoch 4/20\n",
      "992/992 [==============================] - ETA: 0s - loss: 0.6916 - binary_accuracy: 0.5304\n",
      "Epoch 4: val_loss did not improve from 0.69215\n",
      "992/992 [==============================] - 335s 337ms/step - loss: 0.6916 - binary_accuracy: 0.5304 - val_loss: 0.6923 - val_binary_accuracy: 0.5252\n",
      "Epoch 5/20\n",
      "992/992 [==============================] - ETA: 0s - loss: 0.6916 - binary_accuracy: 0.5306\n",
      "Epoch 5: val_loss did not improve from 0.69215\n",
      "992/992 [==============================] - 335s 338ms/step - loss: 0.6916 - binary_accuracy: 0.5306 - val_loss: 0.6929 - val_binary_accuracy: 0.5238\n",
      "Epoch 6/20\n",
      "992/992 [==============================] - ETA: 0s - loss: 0.6916 - binary_accuracy: 0.5303\n",
      "Epoch 6: val_loss improved from 0.69215 to 0.69210, saving model to C:\\Users\\kanan\\Desktop\\data_x\\models\\ResNet152V2\\ResNet152V2_bo20_lr001.h5\n",
      "992/992 [==============================] - 336s 339ms/step - loss: 0.6916 - binary_accuracy: 0.5303 - val_loss: 0.6921 - val_binary_accuracy: 0.5251\n",
      "Epoch 7/20\n",
      "992/992 [==============================] - ETA: 0s - loss: 0.6915 - binary_accuracy: 0.5306\n",
      "Epoch 7: val_loss did not improve from 0.69210\n",
      "992/992 [==============================] - 336s 338ms/step - loss: 0.6915 - binary_accuracy: 0.5306 - val_loss: 0.6925 - val_binary_accuracy: 0.5256\n",
      "Epoch 8/20\n",
      "992/992 [==============================] - ETA: 0s - loss: 0.6916 - binary_accuracy: 0.5301\n",
      "Epoch 8: val_loss did not improve from 0.69210\n",
      "992/992 [==============================] - 336s 338ms/step - loss: 0.6916 - binary_accuracy: 0.5301 - val_loss: 0.6922 - val_binary_accuracy: 0.5247\n",
      "Epoch 9/20\n",
      "992/992 [==============================] - ETA: 0s - loss: 0.6915 - binary_accuracy: 0.5308\n",
      "Epoch 9: val_loss did not improve from 0.69210\n",
      "992/992 [==============================] - 335s 338ms/step - loss: 0.6915 - binary_accuracy: 0.5308 - val_loss: 0.6928 - val_binary_accuracy: 0.5263\n",
      "Epoch 10/20\n",
      "992/992 [==============================] - ETA: 0s - loss: 0.6916 - binary_accuracy: 0.5307\n",
      "Epoch 10: val_loss did not improve from 0.69210\n",
      "992/992 [==============================] - 343s 345ms/step - loss: 0.6916 - binary_accuracy: 0.5307 - val_loss: 0.6924 - val_binary_accuracy: 0.5247\n",
      "Epoch 11/20\n",
      "992/992 [==============================] - ETA: 0s - loss: 0.6916 - binary_accuracy: 0.5306\n",
      "Epoch 11: val_loss did not improve from 0.69210\n",
      "992/992 [==============================] - 346s 348ms/step - loss: 0.6916 - binary_accuracy: 0.5306 - val_loss: 0.6921 - val_binary_accuracy: 0.5257\n",
      "Epoch 12/20\n",
      "992/992 [==============================] - ETA: 0s - loss: 0.6915 - binary_accuracy: 0.5305\n",
      "Epoch 12: val_loss did not improve from 0.69210\n",
      "992/992 [==============================] - 342s 345ms/step - loss: 0.6915 - binary_accuracy: 0.5305 - val_loss: 0.6924 - val_binary_accuracy: 0.5251\n",
      "Epoch 13/20\n",
      "992/992 [==============================] - ETA: 0s - loss: 0.6915 - binary_accuracy: 0.5306\n",
      "Epoch 13: val_loss did not improve from 0.69210\n",
      "992/992 [==============================] - 336s 339ms/step - loss: 0.6915 - binary_accuracy: 0.5306 - val_loss: 0.6925 - val_binary_accuracy: 0.5241\n",
      "Epoch 14/20\n",
      "992/992 [==============================] - ETA: 0s - loss: 0.6916 - binary_accuracy: 0.5306\n",
      "Epoch 14: val_loss did not improve from 0.69210\n",
      "992/992 [==============================] - 336s 339ms/step - loss: 0.6916 - binary_accuracy: 0.5306 - val_loss: 0.6922 - val_binary_accuracy: 0.5255\n",
      "Epoch 15/20\n",
      "992/992 [==============================] - ETA: 0s - loss: 0.6916 - binary_accuracy: 0.5305\n",
      "Epoch 15: val_loss did not improve from 0.69210\n",
      "992/992 [==============================] - 336s 339ms/step - loss: 0.6916 - binary_accuracy: 0.5305 - val_loss: 0.6921 - val_binary_accuracy: 0.5257\n",
      "Epoch 16/20\n",
      "992/992 [==============================] - ETA: 0s - loss: 0.6916 - binary_accuracy: 0.5304\n",
      "Epoch 16: val_loss improved from 0.69210 to 0.69193, saving model to C:\\Users\\kanan\\Desktop\\data_x\\models\\ResNet152V2\\ResNet152V2_bo20_lr001.h5\n",
      "992/992 [==============================] - 337s 340ms/step - loss: 0.6916 - binary_accuracy: 0.5304 - val_loss: 0.6919 - val_binary_accuracy: 0.5267\n",
      "Epoch 17/20\n",
      "992/992 [==============================] - ETA: 0s - loss: 0.6916 - binary_accuracy: 0.5306\n",
      "Epoch 17: val_loss did not improve from 0.69193\n",
      "992/992 [==============================] - 337s 339ms/step - loss: 0.6916 - binary_accuracy: 0.5306 - val_loss: 0.6922 - val_binary_accuracy: 0.5255\n",
      "Epoch 18/20\n",
      "992/992 [==============================] - ETA: 0s - loss: 0.6916 - binary_accuracy: 0.5300\n",
      "Epoch 18: val_loss did not improve from 0.69193\n",
      "992/992 [==============================] - 337s 340ms/step - loss: 0.6916 - binary_accuracy: 0.5300 - val_loss: 0.6921 - val_binary_accuracy: 0.5239\n",
      "Epoch 19/20\n",
      "992/992 [==============================] - ETA: 0s - loss: 0.6916 - binary_accuracy: 0.5304\n",
      "Epoch 19: val_loss did not improve from 0.69193\n",
      "992/992 [==============================] - 337s 340ms/step - loss: 0.6916 - binary_accuracy: 0.5304 - val_loss: 0.6920 - val_binary_accuracy: 0.5260\n",
      "Epoch 20/20\n",
      "992/992 [==============================] - ETA: 0s - loss: 0.6915 - binary_accuracy: 0.5308\n",
      "Epoch 20: val_loss did not improve from 0.69193\n",
      "992/992 [==============================] - 337s 340ms/step - loss: 0.6915 - binary_accuracy: 0.5308 - val_loss: 0.6922 - val_binary_accuracy: 0.5260\n"
     ]
    }
   ],
   "source": [
    "history = model.fit(train, \n",
    "                    validation_data=val,\n",
    "                    epochs=20, \n",
    "                    verbose=1, \n",
    "                    callbacks=callbacks)"
   ]
  },
  {
   "cell_type": "code",
   "execution_count": 24,
   "metadata": {},
   "outputs": [
    {
     "data": {
      "image/png": "[encoded data removed]",
      "text/plain": [
       "<Figure size 640x480 with 1 Axes>"
      ]
     },
     "metadata": {},
     "output_type": "display_data"
    }
   ],
   "source": [
    "fig = plt.figure()\n",
    "plt.plot(history.history['loss'], color='teal', label='loss')\n",
    "plt.plot(history.history['val_loss'], color='orange', label='val_loss')\n",
    "fig.suptitle('Loss', fontsize=20)\n",
    "plt.legend(loc=\"upper left\")\n",
    "plt.show()"
   ]
  },
  {
   "cell_type": "markdown",
   "metadata": {},
   "source": [
    "# Reducing learning rate from 0.01 to 0.001 and continue"
   ]
  },
  {
   "cell_type": "markdown",
   "metadata": {},
   "source": [
    "Load model"
   ]
  },
  {
   "cell_type": "code",
   "execution_count": 25,
   "metadata": {},
   "outputs": [],
   "source": [
    "from tensorflow.keras.models import load_model\n",
    "\n",
    "\n",
    "saved_model_path = os.path.join(models_dir, f\"{model_name}_bo20_lr001.h5\")\n",
    "new_model = load_model(saved_model_path)"
   ]
  },
  {
   "cell_type": "markdown",
   "metadata": {},
   "source": [
    "Set new learning rate"
   ]
  },
  {
   "cell_type": "code",
   "execution_count": 26,
   "metadata": {},
   "outputs": [
    {
     "name": "stdout",
     "output_type": "stream",
     "text": [
      "Old learning rate: 0.009999999776482582\n"
     ]
    }
   ],
   "source": [
    "current_optimizer = new_model.optimizer\n",
    "current_lr = current_optimizer.learning_rate.numpy()\n",
    "\n",
    "print(f\"Old learning rate: {current_lr}\")"
   ]
  },
  {
   "cell_type": "code",
   "execution_count": 27,
   "metadata": {},
   "outputs": [],
   "source": [
    "new_model.compile(loss=keras.losses.BinaryCrossentropy(from_logits=False), \n",
    "              optimizer= keras.optimizers.Adam(learning_rate=1e-3),\n",
    "              metrics = [keras.metrics.BinaryAccuracy()])"
   ]
  },
  {
   "cell_type": "code",
   "execution_count": 28,
   "metadata": {},
   "outputs": [
    {
     "name": "stdout",
     "output_type": "stream",
     "text": [
      "New learning rate: 0.0010000000474974513\n"
     ]
    }
   ],
   "source": [
    "current_optimizer = new_model.optimizer\n",
    "current_lr = current_optimizer.learning_rate.numpy()\n",
    "\n",
    "print(f\"New learning rate: {current_lr}\")"
   ]
  },
  {
   "cell_type": "markdown",
   "metadata": {},
   "source": [
    "Continue training"
   ]
  },
  {
   "cell_type": "code",
   "execution_count": 29,
   "metadata": {},
   "outputs": [],
   "source": [
    "log_file = os.path.join(results_dir, f\"{model_name}_bo20_lr0001.csv\")"
   ]
  },
  {
   "cell_type": "code",
   "execution_count": 30,
   "metadata": {},
   "outputs": [],
   "source": [
    "callbacks = [\n",
    "    CSVLogger(log_file),\n",
    "    ModelCheckpoint(\n",
    "        filepath=os.path.join(models_dir,f\"{model_name}_bo20_lr0001.h5\"),\n",
    "        save_weights_only=False,\n",
    "        save_best_only=True,\n",
    "        save_freq='epoch',\n",
    "        verbose=1\n",
    "    )\n",
    "]"
   ]
  },
  {
   "cell_type": "code",
   "execution_count": 31,
   "metadata": {},
   "outputs": [
    {
     "name": "stdout",
     "output_type": "stream",
     "text": [
      "\n"
     ]
    }
   ],
   "source": [
    "print(\"\")"
   ]
  },
  {
   "cell_type": "code",
   "execution_count": 32,
   "metadata": {},
   "outputs": [
    {
     "name": "stdout",
     "output_type": "stream",
     "text": [
      "Epoch 1/20\n",
      "992/992 [==============================] - ETA: 0s - loss: 0.6913 - binary_accuracy: 0.5306\n",
      "Epoch 1: val_loss improved from inf to 0.69193, saving model to C:\\Users\\kanan\\Desktop\\data_x\\models\\ResNet152V2\\ResNet152V2_bo20_lr0001.h5\n",
      "992/992 [==============================] - 345s 341ms/step - loss: 0.6913 - binary_accuracy: 0.5306 - val_loss: 0.6919 - val_binary_accuracy: 0.5256\n",
      "Epoch 2/20\n",
      "992/992 [==============================] - ETA: 0s - loss: 0.6913 - binary_accuracy: 0.5305\n",
      "Epoch 2: val_loss improved from 0.69193 to 0.69177, saving model to C:\\Users\\kanan\\Desktop\\data_x\\models\\ResNet152V2\\ResNet152V2_bo20_lr0001.h5\n",
      "992/992 [==============================] - 338s 341ms/step - loss: 0.6913 - binary_accuracy: 0.5305 - val_loss: 0.6918 - val_binary_accuracy: 0.5267\n",
      "Epoch 3/20\n",
      "992/992 [==============================] - ETA: 0s - loss: 0.6913 - binary_accuracy: 0.5306\n",
      "Epoch 3: val_loss did not improve from 0.69177\n",
      "992/992 [==============================] - 337s 340ms/step - loss: 0.6913 - binary_accuracy: 0.5306 - val_loss: 0.6919 - val_binary_accuracy: 0.5258\n",
      "Epoch 4/20\n",
      "992/992 [==============================] - ETA: 0s - loss: 0.6913 - binary_accuracy: 0.5305\n",
      "Epoch 4: val_loss did not improve from 0.69177\n",
      "992/992 [==============================] - 337s 340ms/step - loss: 0.6913 - binary_accuracy: 0.5305 - val_loss: 0.6921 - val_binary_accuracy: 0.5239\n",
      "Epoch 5/20\n",
      "992/992 [==============================] - ETA: 0s - loss: 0.6913 - binary_accuracy: 0.5306\n",
      "Epoch 5: val_loss did not improve from 0.69177\n",
      "992/992 [==============================] - 338s 340ms/step - loss: 0.6913 - binary_accuracy: 0.5306 - val_loss: 0.6919 - val_binary_accuracy: 0.5253\n",
      "Epoch 6/20\n",
      "992/992 [==============================] - ETA: 0s - loss: 0.6913 - binary_accuracy: 0.5305\n",
      "Epoch 6: val_loss did not improve from 0.69177\n",
      "992/992 [==============================] - 337s 340ms/step - loss: 0.6913 - binary_accuracy: 0.5305 - val_loss: 0.6920 - val_binary_accuracy: 0.5248\n",
      "Epoch 7/20\n",
      "992/992 [==============================] - ETA: 0s - loss: 0.6913 - binary_accuracy: 0.5305\n",
      "Epoch 7: val_loss did not improve from 0.69177\n",
      "992/992 [==============================] - 338s 340ms/step - loss: 0.6913 - binary_accuracy: 0.5305 - val_loss: 0.6918 - val_binary_accuracy: 0.5263\n",
      "Epoch 8/20\n",
      "992/992 [==============================] - ETA: 0s - loss: 0.6913 - binary_accuracy: 0.5304\n",
      "Epoch 8: val_loss did not improve from 0.69177\n",
      "992/992 [==============================] - 339s 341ms/step - loss: 0.6913 - binary_accuracy: 0.5304 - val_loss: 0.6919 - val_binary_accuracy: 0.5260\n",
      "Epoch 9/20\n",
      "992/992 [==============================] - ETA: 0s - loss: 0.6913 - binary_accuracy: 0.5307\n",
      "Epoch 9: val_loss did not improve from 0.69177\n",
      "992/992 [==============================] - 336s 339ms/step - loss: 0.6913 - binary_accuracy: 0.5307 - val_loss: 0.6920 - val_binary_accuracy: 0.5248\n",
      "Epoch 10/20\n",
      "992/992 [==============================] - ETA: 0s - loss: 0.6913 - binary_accuracy: 0.5305\n",
      "Epoch 10: val_loss did not improve from 0.69177\n",
      "992/992 [==============================] - 339s 341ms/step - loss: 0.6913 - binary_accuracy: 0.5305 - val_loss: 0.6918 - val_binary_accuracy: 0.5262\n",
      "Epoch 11/20\n",
      "992/992 [==============================] - ETA: 0s - loss: 0.6913 - binary_accuracy: 0.5307\n",
      "Epoch 11: val_loss did not improve from 0.69177\n",
      "992/992 [==============================] - 339s 342ms/step - loss: 0.6913 - binary_accuracy: 0.5307 - val_loss: 0.6918 - val_binary_accuracy: 0.5266\n",
      "Epoch 12/20\n",
      "992/992 [==============================] - ETA: 0s - loss: 0.6913 - binary_accuracy: 0.5306\n",
      "Epoch 12: val_loss did not improve from 0.69177\n",
      "992/992 [==============================] - 338s 341ms/step - loss: 0.6913 - binary_accuracy: 0.5306 - val_loss: 0.6918 - val_binary_accuracy: 0.5262\n",
      "Epoch 13/20\n",
      "992/992 [==============================] - ETA: 0s - loss: 0.6913 - binary_accuracy: 0.5308\n",
      "Epoch 13: val_loss did not improve from 0.69177\n",
      "992/992 [==============================] - 340s 342ms/step - loss: 0.6913 - binary_accuracy: 0.5308 - val_loss: 0.6920 - val_binary_accuracy: 0.5247\n",
      "Epoch 14/20\n",
      "992/992 [==============================] - ETA: 0s - loss: 0.6913 - binary_accuracy: 0.5305\n",
      "Epoch 14: val_loss did not improve from 0.69177\n",
      "992/992 [==============================] - 339s 342ms/step - loss: 0.6913 - binary_accuracy: 0.5305 - val_loss: 0.6921 - val_binary_accuracy: 0.5244\n",
      "Epoch 15/20\n",
      "992/992 [==============================] - ETA: 0s - loss: 0.6913 - binary_accuracy: 0.5303\n",
      "Epoch 15: val_loss did not improve from 0.69177\n",
      "992/992 [==============================] - 340s 343ms/step - loss: 0.6913 - binary_accuracy: 0.5303 - val_loss: 0.6920 - val_binary_accuracy: 0.5251\n",
      "Epoch 16/20\n",
      "992/992 [==============================] - ETA: 0s - loss: 0.6913 - binary_accuracy: 0.5307\n",
      "Epoch 16: val_loss did not improve from 0.69177\n",
      "992/992 [==============================] - 340s 343ms/step - loss: 0.6913 - binary_accuracy: 0.5307 - val_loss: 0.6920 - val_binary_accuracy: 0.5246\n",
      "Epoch 17/20\n",
      "992/992 [==============================] - ETA: 0s - loss: 0.6913 - binary_accuracy: 0.5304\n",
      "Epoch 17: val_loss did not improve from 0.69177\n",
      "992/992 [==============================] - 341s 343ms/step - loss: 0.6913 - binary_accuracy: 0.5304 - val_loss: 0.6921 - val_binary_accuracy: 0.5244\n",
      "Epoch 18/20\n",
      "992/992 [==============================] - ETA: 0s - loss: 0.6913 - binary_accuracy: 0.5304\n",
      "Epoch 18: val_loss did not improve from 0.69177\n",
      "992/992 [==============================] - 340s 343ms/step - loss: 0.6913 - binary_accuracy: 0.5304 - val_loss: 0.6918 - val_binary_accuracy: 0.5266\n",
      "Epoch 19/20\n",
      "992/992 [==============================] - ETA: 0s - loss: 0.6913 - binary_accuracy: 0.5308\n",
      "Epoch 19: val_loss did not improve from 0.69177\n",
      "992/992 [==============================] - 340s 343ms/step - loss: 0.6913 - binary_accuracy: 0.5308 - val_loss: 0.6919 - val_binary_accuracy: 0.5257\n",
      "Epoch 20/20\n",
      "992/992 [==============================] - ETA: 0s - loss: 0.6913 - binary_accuracy: 0.5304\n",
      "Epoch 20: val_loss did not improve from 0.69177\n",
      "992/992 [==============================] - 339s 342ms/step - loss: 0.6913 - binary_accuracy: 0.5304 - val_loss: 0.6920 - val_binary_accuracy: 0.5249\n"
     ]
    }
   ],
   "source": [
    "history = new_model.fit(train, \n",
    "                    validation_data=val,\n",
    "                    epochs=20, \n",
    "                    verbose=1, \n",
    "                    callbacks=callbacks)"
   ]
  },
  {
   "cell_type": "code",
   "execution_count": 33,
   "metadata": {},
   "outputs": [
    {
     "data": {
      "image/png": "[encoded data removed]",
      "text/plain": [
       "<Figure size 640x480 with 1 Axes>"
      ]
     },
     "metadata": {},
     "output_type": "display_data"
    }
   ],
   "source": [
    "fig = plt.figure()\n",
    "plt.plot(history.history['loss'], color='teal', label='loss')\n",
    "plt.plot(history.history['val_loss'], color='orange', label='val_loss')\n",
    "fig.suptitle('Loss', fontsize=20)\n",
    "plt.legend(loc=\"upper left\")\n",
    "plt.show()"
   ]
  },
  {
   "cell_type": "markdown",
   "metadata": {},
   "source": [
    "# Test"
   ]
  },
  {
   "cell_type": "markdown",
   "metadata": {},
   "source": [
    "Load model"
   ]
  },
  {
   "cell_type": "code",
   "execution_count": 34,
   "metadata": {},
   "outputs": [],
   "source": [
    "from tensorflow.keras.models import load_model\n",
    "\n",
    "saved_model_path = os.path.join(models_dir, f\"{model_name}_bo20_lr0001.h5\")\n",
    "test_model = load_model(saved_model_path)"
   ]
  },
  {
   "cell_type": "markdown",
   "metadata": {},
   "source": [
    "Set measurement metrics"
   ]
  },
  {
   "cell_type": "code",
   "execution_count": 35,
   "metadata": {},
   "outputs": [],
   "source": [
    "from tensorflow.keras.metrics import Precision, Recall, BinaryAccuracy\n",
    "\n",
    "pre = Precision()\n",
    "re = Recall()\n",
    "acc = BinaryAccuracy()"
   ]
  },
  {
   "cell_type": "markdown",
   "metadata": {},
   "source": [
    "Load data"
   ]
  },
  {
   "cell_type": "code",
   "execution_count": 36,
   "metadata": {},
   "outputs": [
    {
     "name": "stdout",
     "output_type": "stream",
     "text": [
      "Found 7360 files belonging to 2 classes.\n"
     ]
    }
   ],
   "source": [
    "import numpy as np\n",
    "from matplotlib import pyplot as plt\n",
    "\n",
    "data_dir = r\"C:\\Users\\kanan\\Desktop\\data_x\\data_x\\test\"\n",
    "test = tf.keras.utils.image_dataset_from_directory(data_dir, image_size=(224, 224))\n",
    "\n",
    "# Expected output Found 7360 files belonging to 2 classes."
   ]
  },
  {
   "cell_type": "markdown",
   "metadata": {},
   "source": [
    "Testing"
   ]
  },
  {
   "cell_type": "code",
   "execution_count": 37,
   "metadata": {},
   "outputs": [],
   "source": [
    "test_iterator = test.as_numpy_iterator()\n",
    "batch = test_iterator.next()"
   ]
  },
  {
   "cell_type": "code",
   "execution_count": 38,
   "metadata": {},
   "outputs": [
    {
     "name": "stdout",
     "output_type": "stream",
     "text": [
      "1/1 [==============================] - 2s 2s/step\n",
      "1/1 [==============================] - 0s 38ms/step\n",
      "1/1 [==============================] - 0s 36ms/step\n",
      "1/1 [==============================] - 0s 36ms/step\n",
      "1/1 [==============================] - 0s 37ms/step\n",
      "1/1 [==============================] - 0s 36ms/step\n",
      "1/1 [==============================] - 0s 36ms/step\n",
      "1/1 [==============================] - 0s 38ms/step\n",
      "1/1 [==============================] - 0s 37ms/step\n",
      "1/1 [==============================] - 0s 36ms/step\n",
      "1/1 [==============================] - 0s 37ms/step\n",
      "1/1 [==============================] - 0s 37ms/step\n",
      "1/1 [==============================] - 0s 37ms/step\n",
      "1/1 [==============================] - 0s 35ms/step\n",
      "1/1 [==============================] - 0s 35ms/step\n",
      "1/1 [==============================] - 0s 37ms/step\n",
      "1/1 [==============================] - 0s 37ms/step\n",
      "1/1 [==============================] - 0s 35ms/step\n",
      "1/1 [==============================] - 0s 37ms/step\n",
      "1/1 [==============================] - 0s 36ms/step\n",
      "1/1 [==============================] - 0s 37ms/step\n",
      "1/1 [==============================] - 0s 37ms/step\n",
      "1/1 [==============================] - 0s 38ms/step\n",
      "1/1 [==============================] - 0s 38ms/step\n",
      "1/1 [==============================] - 0s 37ms/step\n",
      "1/1 [==============================] - 0s 37ms/step\n",
      "1/1 [==============================] - 0s 36ms/step\n",
      "1/1 [==============================] - 0s 37ms/step\n",
      "1/1 [==============================] - 0s 36ms/step\n",
      "1/1 [==============================] - 0s 36ms/step\n",
      "1/1 [==============================] - 0s 38ms/step\n",
      "1/1 [==============================] - 0s 36ms/step\n",
      "1/1 [==============================] - 0s 36ms/step\n",
      "1/1 [==============================] - 0s 38ms/step\n",
      "1/1 [==============================] - 0s 36ms/step\n",
      "1/1 [==============================] - 0s 37ms/step\n",
      "1/1 [==============================] - 0s 36ms/step\n",
      "1/1 [==============================] - 0s 36ms/step\n",
      "1/1 [==============================] - 0s 36ms/step\n",
      "1/1 [==============================] - 0s 37ms/step\n",
      "1/1 [==============================] - 0s 37ms/step\n",
      "1/1 [==============================] - 0s 36ms/step\n",
      "1/1 [==============================] - 0s 37ms/step\n",
      "1/1 [==============================] - 0s 37ms/step\n",
      "1/1 [==============================] - 0s 37ms/step\n",
      "1/1 [==============================] - 0s 39ms/step\n",
      "1/1 [==============================] - 0s 37ms/step\n",
      "1/1 [==============================] - 0s 36ms/step\n",
      "1/1 [==============================] - 0s 35ms/step\n",
      "1/1 [==============================] - 0s 37ms/step\n",
      "1/1 [==============================] - 0s 37ms/step\n",
      "1/1 [==============================] - 0s 37ms/step\n",
      "1/1 [==============================] - 0s 36ms/step\n",
      "1/1 [==============================] - 0s 39ms/step\n",
      "1/1 [==============================] - 0s 38ms/step\n",
      "1/1 [==============================] - 0s 37ms/step\n",
      "1/1 [==============================] - 0s 36ms/step\n",
      "1/1 [==============================] - 0s 36ms/step\n",
      "1/1 [==============================] - 0s 38ms/step\n",
      "1/1 [==============================] - 0s 38ms/step\n",
      "1/1 [==============================] - 0s 36ms/step\n",
      "1/1 [==============================] - 0s 37ms/step\n",
      "1/1 [==============================] - 0s 36ms/step\n",
      "1/1 [==============================] - 0s 36ms/step\n",
      "1/1 [==============================] - 0s 37ms/step\n",
      "1/1 [==============================] - 0s 36ms/step\n",
      "1/1 [==============================] - 0s 37ms/step\n",
      "1/1 [==============================] - 0s 36ms/step\n",
      "1/1 [==============================] - 0s 36ms/step\n",
      "1/1 [==============================] - 0s 36ms/step\n",
      "1/1 [==============================] - 0s 37ms/step\n",
      "1/1 [==============================] - 0s 38ms/step\n",
      "1/1 [==============================] - 0s 37ms/step\n",
      "1/1 [==============================] - 0s 37ms/step\n",
      "1/1 [==============================] - 0s 37ms/step\n",
      "1/1 [==============================] - 0s 37ms/step\n",
      "1/1 [==============================] - 0s 37ms/step\n",
      "1/1 [==============================] - 0s 37ms/step\n",
      "1/1 [==============================] - 0s 37ms/step\n",
      "1/1 [==============================] - 0s 36ms/step\n",
      "1/1 [==============================] - 0s 37ms/step\n",
      "1/1 [==============================] - 0s 37ms/step\n",
      "1/1 [==============================] - 0s 36ms/step\n",
      "1/1 [==============================] - 0s 38ms/step\n",
      "1/1 [==============================] - 0s 36ms/step\n",
      "1/1 [==============================] - 0s 37ms/step\n",
      "1/1 [==============================] - 0s 37ms/step\n",
      "1/1 [==============================] - 0s 37ms/step\n",
      "1/1 [==============================] - 0s 37ms/step\n",
      "1/1 [==============================] - 0s 37ms/step\n",
      "1/1 [==============================] - 0s 37ms/step\n",
      "1/1 [==============================] - 0s 39ms/step\n",
      "1/1 [==============================] - 0s 36ms/step\n",
      "1/1 [==============================] - 0s 37ms/step\n",
      "1/1 [==============================] - 0s 36ms/step\n",
      "1/1 [==============================] - 0s 36ms/step\n",
      "1/1 [==============================] - 0s 37ms/step\n",
      "1/1 [==============================] - 0s 36ms/step\n",
      "1/1 [==============================] - 0s 36ms/step\n",
      "1/1 [==============================] - 0s 37ms/step\n",
      "1/1 [==============================] - 0s 36ms/step\n",
      "1/1 [==============================] - 0s 38ms/step\n",
      "1/1 [==============================] - 0s 37ms/step\n",
      "1/1 [==============================] - 0s 39ms/step\n",
      "1/1 [==============================] - 0s 36ms/step\n",
      "1/1 [==============================] - 0s 36ms/step\n",
      "1/1 [==============================] - 0s 38ms/step\n",
      "1/1 [==============================] - 0s 37ms/step\n",
      "1/1 [==============================] - 0s 37ms/step\n",
      "1/1 [==============================] - 0s 36ms/step\n",
      "1/1 [==============================] - 0s 37ms/step\n",
      "1/1 [==============================] - 0s 37ms/step\n",
      "1/1 [==============================] - 0s 36ms/step\n",
      "1/1 [==============================] - 0s 39ms/step\n",
      "1/1 [==============================] - 0s 36ms/step\n",
      "1/1 [==============================] - 0s 37ms/step\n",
      "1/1 [==============================] - 0s 37ms/step\n",
      "1/1 [==============================] - 0s 37ms/step\n",
      "1/1 [==============================] - 0s 36ms/step\n",
      "1/1 [==============================] - 0s 37ms/step\n",
      "1/1 [==============================] - 0s 37ms/step\n",
      "1/1 [==============================] - 0s 37ms/step\n",
      "1/1 [==============================] - 0s 37ms/step\n",
      "1/1 [==============================] - 0s 36ms/step\n",
      "1/1 [==============================] - 0s 37ms/step\n",
      "1/1 [==============================] - 0s 36ms/step\n",
      "1/1 [==============================] - 0s 37ms/step\n",
      "1/1 [==============================] - 0s 37ms/step\n",
      "1/1 [==============================] - 0s 37ms/step\n",
      "1/1 [==============================] - 0s 38ms/step\n",
      "1/1 [==============================] - 0s 37ms/step\n",
      "1/1 [==============================] - 0s 36ms/step\n",
      "1/1 [==============================] - 0s 36ms/step\n",
      "1/1 [==============================] - 0s 37ms/step\n",
      "1/1 [==============================] - 0s 38ms/step\n",
      "1/1 [==============================] - 0s 37ms/step\n",
      "1/1 [==============================] - 0s 37ms/step\n",
      "1/1 [==============================] - 0s 37ms/step\n",
      "1/1 [==============================] - 0s 37ms/step\n",
      "1/1 [==============================] - 0s 38ms/step\n",
      "1/1 [==============================] - 0s 36ms/step\n",
      "1/1 [==============================] - 0s 36ms/step\n",
      "1/1 [==============================] - 0s 37ms/step\n",
      "1/1 [==============================] - 0s 37ms/step\n",
      "1/1 [==============================] - 0s 37ms/step\n",
      "1/1 [==============================] - 0s 36ms/step\n",
      "1/1 [==============================] - 0s 37ms/step\n",
      "1/1 [==============================] - 0s 38ms/step\n",
      "1/1 [==============================] - 0s 37ms/step\n",
      "1/1 [==============================] - 0s 37ms/step\n",
      "1/1 [==============================] - 0s 37ms/step\n",
      "1/1 [==============================] - 0s 36ms/step\n",
      "1/1 [==============================] - 0s 37ms/step\n",
      "1/1 [==============================] - 0s 37ms/step\n",
      "1/1 [==============================] - 0s 39ms/step\n",
      "1/1 [==============================] - 0s 36ms/step\n",
      "1/1 [==============================] - 0s 38ms/step\n",
      "1/1 [==============================] - 0s 36ms/step\n",
      "1/1 [==============================] - 0s 37ms/step\n",
      "1/1 [==============================] - 0s 37ms/step\n",
      "1/1 [==============================] - 0s 37ms/step\n",
      "1/1 [==============================] - 0s 36ms/step\n",
      "1/1 [==============================] - 0s 36ms/step\n",
      "1/1 [==============================] - 0s 37ms/step\n",
      "1/1 [==============================] - 0s 39ms/step\n",
      "1/1 [==============================] - 0s 37ms/step\n",
      "1/1 [==============================] - 0s 37ms/step\n",
      "1/1 [==============================] - 0s 37ms/step\n",
      "1/1 [==============================] - 0s 39ms/step\n",
      "1/1 [==============================] - 0s 36ms/step\n",
      "1/1 [==============================] - 0s 38ms/step\n",
      "1/1 [==============================] - 0s 36ms/step\n",
      "1/1 [==============================] - 0s 36ms/step\n",
      "1/1 [==============================] - 0s 37ms/step\n",
      "1/1 [==============================] - 0s 36ms/step\n",
      "1/1 [==============================] - 0s 36ms/step\n",
      "1/1 [==============================] - 0s 37ms/step\n",
      "1/1 [==============================] - 0s 36ms/step\n",
      "1/1 [==============================] - 0s 37ms/step\n",
      "1/1 [==============================] - 0s 37ms/step\n",
      "1/1 [==============================] - 0s 38ms/step\n",
      "1/1 [==============================] - 0s 36ms/step\n",
      "1/1 [==============================] - 0s 36ms/step\n",
      "1/1 [==============================] - 0s 37ms/step\n",
      "1/1 [==============================] - 0s 36ms/step\n",
      "1/1 [==============================] - 0s 37ms/step\n",
      "1/1 [==============================] - 0s 37ms/step\n",
      "1/1 [==============================] - 0s 37ms/step\n",
      "1/1 [==============================] - 0s 42ms/step\n",
      "1/1 [==============================] - 0s 37ms/step\n",
      "1/1 [==============================] - 0s 36ms/step\n",
      "1/1 [==============================] - 0s 37ms/step\n",
      "1/1 [==============================] - 0s 36ms/step\n",
      "1/1 [==============================] - 0s 36ms/step\n",
      "1/1 [==============================] - 0s 38ms/step\n",
      "1/1 [==============================] - 0s 38ms/step\n",
      "1/1 [==============================] - 0s 37ms/step\n",
      "1/1 [==============================] - 0s 37ms/step\n",
      "1/1 [==============================] - 0s 36ms/step\n",
      "1/1 [==============================] - 0s 37ms/step\n",
      "1/1 [==============================] - 0s 38ms/step\n",
      "1/1 [==============================] - 0s 38ms/step\n",
      "1/1 [==============================] - 0s 37ms/step\n",
      "1/1 [==============================] - 0s 36ms/step\n",
      "1/1 [==============================] - 0s 36ms/step\n",
      "1/1 [==============================] - 0s 37ms/step\n",
      "1/1 [==============================] - 0s 37ms/step\n",
      "1/1 [==============================] - 0s 38ms/step\n",
      "1/1 [==============================] - 0s 36ms/step\n",
      "1/1 [==============================] - 0s 39ms/step\n",
      "1/1 [==============================] - 0s 36ms/step\n",
      "1/1 [==============================] - 0s 36ms/step\n",
      "1/1 [==============================] - 0s 36ms/step\n",
      "1/1 [==============================] - 0s 37ms/step\n",
      "1/1 [==============================] - 0s 37ms/step\n",
      "1/1 [==============================] - 0s 40ms/step\n",
      "1/1 [==============================] - 0s 38ms/step\n",
      "1/1 [==============================] - 0s 38ms/step\n",
      "1/1 [==============================] - 0s 37ms/step\n",
      "1/1 [==============================] - 0s 37ms/step\n",
      "1/1 [==============================] - 0s 36ms/step\n",
      "1/1 [==============================] - 0s 38ms/step\n",
      "1/1 [==============================] - 0s 36ms/step\n",
      "1/1 [==============================] - 0s 36ms/step\n",
      "1/1 [==============================] - 0s 36ms/step\n",
      "1/1 [==============================] - 0s 38ms/step\n",
      "1/1 [==============================] - 0s 37ms/step\n",
      "1/1 [==============================] - 0s 37ms/step\n",
      "1/1 [==============================] - 0s 36ms/step\n"
     ]
    }
   ],
   "source": [
    "for batch in test_iterator: \n",
    "    X, y = batch\n",
    "    yhat = test_model.predict(X)\n",
    "    pre.update_state(y, yhat)\n",
    "    re.update_state(y, yhat)\n",
    "    acc.update_state(y, yhat)"
   ]
  },
  {
   "cell_type": "markdown",
   "metadata": {},
   "source": [
    "Test results"
   ]
  },
  {
   "cell_type": "code",
   "execution_count": 39,
   "metadata": {},
   "outputs": [
    {
     "name": "stdout",
     "output_type": "stream",
     "text": [
      "Precision : 0.6151746511459351\n",
      "Recall : 1.0\n",
      "Accuracy : 0.6151746511459351\n",
      "F1 Score : 0.7617438435554504\n"
     ]
    }
   ],
   "source": [
    "f1_score = 2 * (pre.result() * re.result()) / (pre.result() + re.result())\n",
    "print(f\"Precision : {pre.result().numpy()}\")\n",
    "print(f\"Recall : {re.result().numpy()}\")\n",
    "print(f\"Accuracy : {acc.result().numpy()}\")\n",
    "print(f\"F1 Score : {f1_score.numpy()}\")"
   ]
  }
 ],
 "metadata": {
  "kernelspec": {
   "display_name": "2dmodelGPU",
   "language": "python",
   "name": "python3"
  },
  "language_info": {
   "codemirror_mode": {
    "name": "ipython",
    "version": 3
   },
   "file_extension": ".py",
   "mimetype": "text/x-python",
   "name": "python",
   "nbconvert_exporter": "python",
   "pygments_lexer": "ipython3",
   "version": "3.10.14"
  }
 },
 "nbformat": 4,
 "nbformat_minor": 2
}
