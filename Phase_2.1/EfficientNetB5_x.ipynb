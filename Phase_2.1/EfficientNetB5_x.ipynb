{
 "cells": [
  {
   "cell_type": "code",
   "execution_count": 1,
   "metadata": {},
   "outputs": [
    {
     "name": "stdout",
     "output_type": "stream",
     "text": [
      "2.9.0\n"
     ]
    }
   ],
   "source": [
    "import os\n",
    "import pandas as pd\n",
    "import matplotlib.pyplot as plt\n",
    "import numpy as np\n",
    "import tensorflow as tf\n",
    "from tensorflow import keras\n",
    "from tensorflow.keras.preprocessing.image import img_to_array, load_img\n",
    "from tensorflow.keras.layers import Conv2D, MaxPooling2D, Flatten, Dense, InputLayer, GlobalAveragePooling2D\n",
    "from tensorflow.keras.models import Sequential, Model\n",
    "from tensorflow.keras import optimizers\n",
    "from tensorflow.keras.callbacks import ModelCheckpoint, CSVLogger\n",
    "\n",
    "import warnings\n",
    "#warnings.filterwarnings(\"ignore\")\n",
    "#tf version should be 2.9.0\n",
    "print(tf.__version__)"
   ]
  },
  {
   "cell_type": "code",
   "execution_count": 2,
   "metadata": {},
   "outputs": [],
   "source": [
    "rand_seed = 42"
   ]
  },
  {
   "cell_type": "code",
   "execution_count": 3,
   "metadata": {},
   "outputs": [],
   "source": [
    "dir_path = r\"C:\\Users\\acer\\Desktop\\Data_2D\\data_x\"\n",
    "results_dir = os.path.join(dir_path, r'logs\\EfficientNet-B5')\n",
    "models_dir = os.path.join(dir_path, r'models\\EfficientNet-B5')\n",
    "\n",
    "if not os.path.isdir(results_dir):\n",
    "    os.makedirs(results_dir)\n",
    "    \n",
    "if not os.path.isdir(models_dir):\n",
    "    os.makedirs(models_dir)"
   ]
  },
  {
   "cell_type": "code",
   "execution_count": 4,
   "metadata": {},
   "outputs": [],
   "source": [
    "# define the location of your dataset\n",
    "\n",
    "TRAIN_PATH = r\"C:\\Users\\acer\\Desktop\\Data_2D\\data_x\\train\"\n",
    "TRAIN_LABEL_PATH = r\"C:\\Users\\acer\\Desktop\\Data_2D\\data_x\\train_classification.csv\"\n",
    "\n",
    "VAL_PATH = r\"C:\\Users\\acer\\Desktop\\Data_2D\\data_x\\validation\"\n",
    "VAL_LABEL_PATH = r\"C:\\Users\\acer\\Desktop\\Data_2D\\data_x\\validation_classification.csv\"\n",
    "\n",
    "IMG_DIM = (224,224)\n",
    "INPUT_SHAPE = (224,224,3)\n",
    "\n",
    "BATCH_SIZE = 32\n",
    "EPOCH = 20\n",
    "x_axis_inc = 1 # for plotting the training acc and loss"
   ]
  },
  {
   "cell_type": "code",
   "execution_count": 5,
   "metadata": {},
   "outputs": [
    {
     "data": {
      "text/html": [
       "<div>\n",
       "<style scoped>\n",
       "    .dataframe tbody tr th:only-of-type {\n",
       "        vertical-align: middle;\n",
       "    }\n",
       "\n",
       "    .dataframe tbody tr th {\n",
       "        vertical-align: top;\n",
       "    }\n",
       "\n",
       "    .dataframe thead th {\n",
       "        text-align: right;\n",
       "    }\n",
       "</style>\n",
       "<table border=\"1\" class=\"dataframe\">\n",
       "  <thead>\n",
       "    <tr style=\"text-align: right;\">\n",
       "      <th></th>\n",
       "      <th>ID</th>\n",
       "      <th>c_erosion</th>\n",
       "    </tr>\n",
       "  </thead>\n",
       "  <tbody>\n",
       "    <tr>\n",
       "      <th>0</th>\n",
       "      <td>57-10397 R 2015_x_100</td>\n",
       "      <td>0</td>\n",
       "    </tr>\n",
       "    <tr>\n",
       "      <th>1</th>\n",
       "      <td>47-4881 R 2018_x_156</td>\n",
       "      <td>1</td>\n",
       "    </tr>\n",
       "    <tr>\n",
       "      <th>2</th>\n",
       "      <td>66-2177 L_x_216</td>\n",
       "      <td>0</td>\n",
       "    </tr>\n",
       "    <tr>\n",
       "      <th>3</th>\n",
       "      <td>61-20310 R_x_089</td>\n",
       "      <td>1</td>\n",
       "    </tr>\n",
       "    <tr>\n",
       "      <th>4</th>\n",
       "      <td>54-50 L_x_059</td>\n",
       "      <td>0</td>\n",
       "    </tr>\n",
       "  </tbody>\n",
       "</table>\n",
       "</div>"
      ],
      "text/plain": [
       "                      ID  c_erosion\n",
       "0  57-10397 R 2015_x_100          0\n",
       "1   47-4881 R 2018_x_156          1\n",
       "2        66-2177 L_x_216          0\n",
       "3       61-20310 R_x_089          1\n",
       "4          54-50 L_x_059          0"
      ]
     },
     "execution_count": 5,
     "metadata": {},
     "output_type": "execute_result"
    }
   ],
   "source": [
    "import pandas as pd\n",
    "\n",
    "def expand_dataframe(df):\n",
    "    # Create a list to hold the new rows\n",
    "    new_rows = []\n",
    "    \n",
    "    # Iterate through each row in the original dataframe\n",
    "    for _, row in df.iterrows():\n",
    "        # Duplicate the row 234 times (for indices 0-233)\n",
    "        for i in range(224):\n",
    "            new_row = row.copy()\n",
    "            new_row['ID'] = f\"{row['ID']}_x_{i:03d}\"  # Wrap the original ID and add suffix\n",
    "            new_rows.append(new_row)\n",
    "    \n",
    "    # Create a new dataframe from the list of new rows\n",
    "    new_df = pd.DataFrame(new_rows)\n",
    "    \n",
    "    return new_df\n",
    "\n",
    "train_original_df = pd.read_csv(TRAIN_LABEL_PATH)\n",
    "train_c_erosion_label = train_original_df[['ID','c_erosion']]\n",
    "# Create the new DataFrame\n",
    "train_df = expand_dataframe(train_c_erosion_label)\n",
    "\n",
    "# Shuffle the training data\n",
    "train_df = train_df.sample(frac=1, random_state=rand_seed).reset_index(drop=True)\n",
    "\n",
    "train_df.head()"
   ]
  },
  {
   "cell_type": "code",
   "execution_count": 6,
   "metadata": {},
   "outputs": [
    {
     "data": {
      "text/html": [
       "<div>\n",
       "<style scoped>\n",
       "    .dataframe tbody tr th:only-of-type {\n",
       "        vertical-align: middle;\n",
       "    }\n",
       "\n",
       "    .dataframe tbody tr th {\n",
       "        vertical-align: top;\n",
       "    }\n",
       "\n",
       "    .dataframe thead th {\n",
       "        text-align: right;\n",
       "    }\n",
       "</style>\n",
       "<table border=\"1\" class=\"dataframe\">\n",
       "  <thead>\n",
       "    <tr style=\"text-align: right;\">\n",
       "      <th></th>\n",
       "      <th>ID</th>\n",
       "      <th>c_erosion</th>\n",
       "      <th>image_path</th>\n",
       "    </tr>\n",
       "  </thead>\n",
       "  <tbody>\n",
       "    <tr>\n",
       "      <th>0</th>\n",
       "      <td>57-10397 R 2015_x_100</td>\n",
       "      <td>0</td>\n",
       "      <td>C:\\Users\\acer\\Desktop\\Data_2D\\data_x\\train\\57-...</td>\n",
       "    </tr>\n",
       "    <tr>\n",
       "      <th>1</th>\n",
       "      <td>47-4881 R 2018_x_156</td>\n",
       "      <td>1</td>\n",
       "      <td>C:\\Users\\acer\\Desktop\\Data_2D\\data_x\\train\\47-...</td>\n",
       "    </tr>\n",
       "    <tr>\n",
       "      <th>2</th>\n",
       "      <td>66-2177 L_x_216</td>\n",
       "      <td>0</td>\n",
       "      <td>C:\\Users\\acer\\Desktop\\Data_2D\\data_x\\train\\66-...</td>\n",
       "    </tr>\n",
       "    <tr>\n",
       "      <th>3</th>\n",
       "      <td>61-20310 R_x_089</td>\n",
       "      <td>1</td>\n",
       "      <td>C:\\Users\\acer\\Desktop\\Data_2D\\data_x\\train\\61-...</td>\n",
       "    </tr>\n",
       "    <tr>\n",
       "      <th>4</th>\n",
       "      <td>54-50 L_x_059</td>\n",
       "      <td>0</td>\n",
       "      <td>C:\\Users\\acer\\Desktop\\Data_2D\\data_x\\train\\54-...</td>\n",
       "    </tr>\n",
       "  </tbody>\n",
       "</table>\n",
       "</div>"
      ],
      "text/plain": [
       "                      ID  c_erosion  \\\n",
       "0  57-10397 R 2015_x_100          0   \n",
       "1   47-4881 R 2018_x_156          1   \n",
       "2        66-2177 L_x_216          0   \n",
       "3       61-20310 R_x_089          1   \n",
       "4          54-50 L_x_059          0   \n",
       "\n",
       "                                          image_path  \n",
       "0  C:\\Users\\acer\\Desktop\\Data_2D\\data_x\\train\\57-...  \n",
       "1  C:\\Users\\acer\\Desktop\\Data_2D\\data_x\\train\\47-...  \n",
       "2  C:\\Users\\acer\\Desktop\\Data_2D\\data_x\\train\\66-...  \n",
       "3  C:\\Users\\acer\\Desktop\\Data_2D\\data_x\\train\\61-...  \n",
       "4  C:\\Users\\acer\\Desktop\\Data_2D\\data_x\\train\\54-...  "
      ]
     },
     "execution_count": 6,
     "metadata": {},
     "output_type": "execute_result"
    }
   ],
   "source": [
    "data_labels = train_df\n",
    "target_labels = data_labels['c_erosion']\n",
    "data_labels['image_path'] =  data_labels.apply(lambda row: (os.path.join(TRAIN_PATH, str(row['ID'])) + '.jpg'), axis=1)\n",
    "data_labels.head()"
   ]
  },
  {
   "cell_type": "code",
   "execution_count": 7,
   "metadata": {},
   "outputs": [
    {
     "name": "stdout",
     "output_type": "stream",
     "text": [
      "(56896, 3)\n"
     ]
    }
   ],
   "source": [
    "print(data_labels.shape)"
   ]
  },
  {
   "cell_type": "code",
   "execution_count": 8,
   "metadata": {},
   "outputs": [
    {
     "name": "stdout",
     "output_type": "stream",
     "text": [
      "Total files: 56896\n",
      "Valid files: 56896\n",
      "Invalid files: 0\n"
     ]
    },
    {
     "data": {
      "text/html": [
       "<div>\n",
       "<style scoped>\n",
       "    .dataframe tbody tr th:only-of-type {\n",
       "        vertical-align: middle;\n",
       "    }\n",
       "\n",
       "    .dataframe tbody tr th {\n",
       "        vertical-align: top;\n",
       "    }\n",
       "\n",
       "    .dataframe thead th {\n",
       "        text-align: right;\n",
       "    }\n",
       "</style>\n",
       "<table border=\"1\" class=\"dataframe\">\n",
       "  <thead>\n",
       "    <tr style=\"text-align: right;\">\n",
       "      <th></th>\n",
       "      <th>ID</th>\n",
       "      <th>c_erosion</th>\n",
       "      <th>image_path</th>\n",
       "      <th>is_valid_file</th>\n",
       "    </tr>\n",
       "  </thead>\n",
       "  <tbody>\n",
       "    <tr>\n",
       "      <th>0</th>\n",
       "      <td>57-10397 R 2015_x_100</td>\n",
       "      <td>0</td>\n",
       "      <td>C:\\Users\\acer\\Desktop\\Data_2D\\data_x\\train\\57-...</td>\n",
       "      <td>True</td>\n",
       "    </tr>\n",
       "    <tr>\n",
       "      <th>1</th>\n",
       "      <td>47-4881 R 2018_x_156</td>\n",
       "      <td>1</td>\n",
       "      <td>C:\\Users\\acer\\Desktop\\Data_2D\\data_x\\train\\47-...</td>\n",
       "      <td>True</td>\n",
       "    </tr>\n",
       "    <tr>\n",
       "      <th>2</th>\n",
       "      <td>66-2177 L_x_216</td>\n",
       "      <td>0</td>\n",
       "      <td>C:\\Users\\acer\\Desktop\\Data_2D\\data_x\\train\\66-...</td>\n",
       "      <td>True</td>\n",
       "    </tr>\n",
       "    <tr>\n",
       "      <th>3</th>\n",
       "      <td>61-20310 R_x_089</td>\n",
       "      <td>1</td>\n",
       "      <td>C:\\Users\\acer\\Desktop\\Data_2D\\data_x\\train\\61-...</td>\n",
       "      <td>True</td>\n",
       "    </tr>\n",
       "    <tr>\n",
       "      <th>4</th>\n",
       "      <td>54-50 L_x_059</td>\n",
       "      <td>0</td>\n",
       "      <td>C:\\Users\\acer\\Desktop\\Data_2D\\data_x\\train\\54-...</td>\n",
       "      <td>True</td>\n",
       "    </tr>\n",
       "    <tr>\n",
       "      <th>5</th>\n",
       "      <td>60-7166 L_x_149</td>\n",
       "      <td>0</td>\n",
       "      <td>C:\\Users\\acer\\Desktop\\Data_2D\\data_x\\train\\60-...</td>\n",
       "      <td>True</td>\n",
       "    </tr>\n",
       "    <tr>\n",
       "      <th>6</th>\n",
       "      <td>61-700847 R_x_104</td>\n",
       "      <td>0</td>\n",
       "      <td>C:\\Users\\acer\\Desktop\\Data_2D\\data_x\\train\\61-...</td>\n",
       "      <td>True</td>\n",
       "    </tr>\n",
       "    <tr>\n",
       "      <th>7</th>\n",
       "      <td>65-27889 L_x_222</td>\n",
       "      <td>0</td>\n",
       "      <td>C:\\Users\\acer\\Desktop\\Data_2D\\data_x\\train\\65-...</td>\n",
       "      <td>True</td>\n",
       "    </tr>\n",
       "    <tr>\n",
       "      <th>8</th>\n",
       "      <td>61-20310 R_x_121</td>\n",
       "      <td>1</td>\n",
       "      <td>C:\\Users\\acer\\Desktop\\Data_2D\\data_x\\train\\61-...</td>\n",
       "      <td>True</td>\n",
       "    </tr>\n",
       "    <tr>\n",
       "      <th>9</th>\n",
       "      <td>64-8619 L 2022_x_051</td>\n",
       "      <td>0</td>\n",
       "      <td>C:\\Users\\acer\\Desktop\\Data_2D\\data_x\\train\\64-...</td>\n",
       "      <td>True</td>\n",
       "    </tr>\n",
       "  </tbody>\n",
       "</table>\n",
       "</div>"
      ],
      "text/plain": [
       "                      ID  c_erosion  \\\n",
       "0  57-10397 R 2015_x_100          0   \n",
       "1   47-4881 R 2018_x_156          1   \n",
       "2        66-2177 L_x_216          0   \n",
       "3       61-20310 R_x_089          1   \n",
       "4          54-50 L_x_059          0   \n",
       "5        60-7166 L_x_149          0   \n",
       "6      61-700847 R_x_104          0   \n",
       "7       65-27889 L_x_222          0   \n",
       "8       61-20310 R_x_121          1   \n",
       "9   64-8619 L 2022_x_051          0   \n",
       "\n",
       "                                          image_path  is_valid_file  \n",
       "0  C:\\Users\\acer\\Desktop\\Data_2D\\data_x\\train\\57-...           True  \n",
       "1  C:\\Users\\acer\\Desktop\\Data_2D\\data_x\\train\\47-...           True  \n",
       "2  C:\\Users\\acer\\Desktop\\Data_2D\\data_x\\train\\66-...           True  \n",
       "3  C:\\Users\\acer\\Desktop\\Data_2D\\data_x\\train\\61-...           True  \n",
       "4  C:\\Users\\acer\\Desktop\\Data_2D\\data_x\\train\\54-...           True  \n",
       "5  C:\\Users\\acer\\Desktop\\Data_2D\\data_x\\train\\60-...           True  \n",
       "6  C:\\Users\\acer\\Desktop\\Data_2D\\data_x\\train\\61-...           True  \n",
       "7  C:\\Users\\acer\\Desktop\\Data_2D\\data_x\\train\\65-...           True  \n",
       "8  C:\\Users\\acer\\Desktop\\Data_2D\\data_x\\train\\61-...           True  \n",
       "9  C:\\Users\\acer\\Desktop\\Data_2D\\data_x\\train\\64-...           True  "
      ]
     },
     "execution_count": 8,
     "metadata": {},
     "output_type": "execute_result"
    }
   ],
   "source": [
    "import pandas as pd\n",
    "import os\n",
    "\n",
    "def check_valid_files(df, column_name='image_path'):\n",
    "    # Create a new column for validity\n",
    "    df['is_valid_file'] = df[column_name].apply(os.path.isfile)\n",
    "    \n",
    "    # Print summary\n",
    "    total = len(df)\n",
    "    valid = df['is_valid_file'].sum()\n",
    "    invalid = total - valid\n",
    "    \n",
    "    print(f\"Total files: {total}\")\n",
    "    print(f\"Valid files: {valid}\")\n",
    "    print(f\"Invalid files: {invalid}\")\n",
    "    \n",
    "    # If there are invalid files, you can get them like this:\n",
    "    if invalid > 0:\n",
    "        print(\"\\nInvalid files:\")\n",
    "        invalid_files = df[~df['is_valid_file']][column_name]\n",
    "        for file in invalid_files:\n",
    "            print(file)\n",
    "    \n",
    "    return df\n",
    "\n",
    "check_valid_file_df = check_valid_files(data_labels)\n",
    "\n",
    "# You can access the results in the DataFrame\n",
    "check_valid_file_df.head(10)"
   ]
  },
  {
   "cell_type": "code",
   "execution_count": 9,
   "metadata": {},
   "outputs": [
    {
     "data": {
      "text/html": [
       "<div>\n",
       "<style scoped>\n",
       "    .dataframe tbody tr th:only-of-type {\n",
       "        vertical-align: middle;\n",
       "    }\n",
       "\n",
       "    .dataframe tbody tr th {\n",
       "        vertical-align: top;\n",
       "    }\n",
       "\n",
       "    .dataframe thead th {\n",
       "        text-align: right;\n",
       "    }\n",
       "</style>\n",
       "<table border=\"1\" class=\"dataframe\">\n",
       "  <thead>\n",
       "    <tr style=\"text-align: right;\">\n",
       "      <th></th>\n",
       "      <th>ID</th>\n",
       "      <th>c_erosion</th>\n",
       "    </tr>\n",
       "  </thead>\n",
       "  <tbody>\n",
       "    <tr>\n",
       "      <th>0</th>\n",
       "      <td>63-17877 R_x_020</td>\n",
       "      <td>0</td>\n",
       "    </tr>\n",
       "    <tr>\n",
       "      <th>1</th>\n",
       "      <td>61-5586 R_x_196</td>\n",
       "      <td>0</td>\n",
       "    </tr>\n",
       "    <tr>\n",
       "      <th>2</th>\n",
       "      <td>63-17877 R_x_090</td>\n",
       "      <td>0</td>\n",
       "    </tr>\n",
       "    <tr>\n",
       "      <th>3</th>\n",
       "      <td>60-34373 L 2019_x_113</td>\n",
       "      <td>0</td>\n",
       "    </tr>\n",
       "    <tr>\n",
       "      <th>4</th>\n",
       "      <td>53-24700 R_x_092</td>\n",
       "      <td>0</td>\n",
       "    </tr>\n",
       "  </tbody>\n",
       "</table>\n",
       "</div>"
      ],
      "text/plain": [
       "                      ID  c_erosion\n",
       "0       63-17877 R_x_020          0\n",
       "1        61-5586 R_x_196          0\n",
       "2       63-17877 R_x_090          0\n",
       "3  60-34373 L 2019_x_113          0\n",
       "4       53-24700 R_x_092          0"
      ]
     },
     "execution_count": 9,
     "metadata": {},
     "output_type": "execute_result"
    }
   ],
   "source": [
    "val_original_df = pd.read_csv(VAL_LABEL_PATH)\n",
    "val_c_erosion_label = val_original_df[['ID','c_erosion']]\n",
    "# Create the new DataFrame\n",
    "val_df = expand_dataframe(val_c_erosion_label)\n",
    "\n",
    "# Shuffle the validation data\n",
    "val_df = val_df.sample(frac=1, random_state=rand_seed).reset_index(drop=True)\n",
    "\n",
    "val_df.head()"
   ]
  },
  {
   "cell_type": "code",
   "execution_count": 10,
   "metadata": {},
   "outputs": [
    {
     "data": {
      "text/html": [
       "<div>\n",
       "<style scoped>\n",
       "    .dataframe tbody tr th:only-of-type {\n",
       "        vertical-align: middle;\n",
       "    }\n",
       "\n",
       "    .dataframe tbody tr th {\n",
       "        vertical-align: top;\n",
       "    }\n",
       "\n",
       "    .dataframe thead th {\n",
       "        text-align: right;\n",
       "    }\n",
       "</style>\n",
       "<table border=\"1\" class=\"dataframe\">\n",
       "  <thead>\n",
       "    <tr style=\"text-align: right;\">\n",
       "      <th></th>\n",
       "      <th>ID</th>\n",
       "      <th>c_erosion</th>\n",
       "      <th>image_path</th>\n",
       "    </tr>\n",
       "  </thead>\n",
       "  <tbody>\n",
       "    <tr>\n",
       "      <th>0</th>\n",
       "      <td>63-17877 R_x_020</td>\n",
       "      <td>0</td>\n",
       "      <td>C:\\Users\\acer\\Desktop\\Data_2D\\data_x\\validatio...</td>\n",
       "    </tr>\n",
       "    <tr>\n",
       "      <th>1</th>\n",
       "      <td>61-5586 R_x_196</td>\n",
       "      <td>0</td>\n",
       "      <td>C:\\Users\\acer\\Desktop\\Data_2D\\data_x\\validatio...</td>\n",
       "    </tr>\n",
       "    <tr>\n",
       "      <th>2</th>\n",
       "      <td>63-17877 R_x_090</td>\n",
       "      <td>0</td>\n",
       "      <td>C:\\Users\\acer\\Desktop\\Data_2D\\data_x\\validatio...</td>\n",
       "    </tr>\n",
       "    <tr>\n",
       "      <th>3</th>\n",
       "      <td>60-34373 L 2019_x_113</td>\n",
       "      <td>0</td>\n",
       "      <td>C:\\Users\\acer\\Desktop\\Data_2D\\data_x\\validatio...</td>\n",
       "    </tr>\n",
       "    <tr>\n",
       "      <th>4</th>\n",
       "      <td>53-24700 R_x_092</td>\n",
       "      <td>0</td>\n",
       "      <td>C:\\Users\\acer\\Desktop\\Data_2D\\data_x\\validatio...</td>\n",
       "    </tr>\n",
       "  </tbody>\n",
       "</table>\n",
       "</div>"
      ],
      "text/plain": [
       "                      ID  c_erosion  \\\n",
       "0       63-17877 R_x_020          0   \n",
       "1        61-5586 R_x_196          0   \n",
       "2       63-17877 R_x_090          0   \n",
       "3  60-34373 L 2019_x_113          0   \n",
       "4       53-24700 R_x_092          0   \n",
       "\n",
       "                                          image_path  \n",
       "0  C:\\Users\\acer\\Desktop\\Data_2D\\data_x\\validatio...  \n",
       "1  C:\\Users\\acer\\Desktop\\Data_2D\\data_x\\validatio...  \n",
       "2  C:\\Users\\acer\\Desktop\\Data_2D\\data_x\\validatio...  \n",
       "3  C:\\Users\\acer\\Desktop\\Data_2D\\data_x\\validatio...  \n",
       "4  C:\\Users\\acer\\Desktop\\Data_2D\\data_x\\validatio...  "
      ]
     },
     "execution_count": 10,
     "metadata": {},
     "output_type": "execute_result"
    }
   ],
   "source": [
    "val_labels = val_df[['ID','c_erosion']]\n",
    "target_val_labels = val_labels['c_erosion']\n",
    "val_labels['image_path'] =  val_labels.apply(lambda row: (os.path.join(VAL_PATH, str(row['ID'])) + '.jpg'), axis=1)\n",
    "val_labels.head()"
   ]
  },
  {
   "cell_type": "code",
   "execution_count": 11,
   "metadata": {},
   "outputs": [
    {
     "name": "stdout",
     "output_type": "stream",
     "text": [
      "Total files: 12096\n",
      "Valid files: 12096\n",
      "Invalid files: 0\n"
     ]
    },
    {
     "data": {
      "text/html": [
       "<div>\n",
       "<style scoped>\n",
       "    .dataframe tbody tr th:only-of-type {\n",
       "        vertical-align: middle;\n",
       "    }\n",
       "\n",
       "    .dataframe tbody tr th {\n",
       "        vertical-align: top;\n",
       "    }\n",
       "\n",
       "    .dataframe thead th {\n",
       "        text-align: right;\n",
       "    }\n",
       "</style>\n",
       "<table border=\"1\" class=\"dataframe\">\n",
       "  <thead>\n",
       "    <tr style=\"text-align: right;\">\n",
       "      <th></th>\n",
       "      <th>ID</th>\n",
       "      <th>c_erosion</th>\n",
       "      <th>image_path</th>\n",
       "      <th>is_valid_file</th>\n",
       "    </tr>\n",
       "  </thead>\n",
       "  <tbody>\n",
       "    <tr>\n",
       "      <th>0</th>\n",
       "      <td>63-17877 R_x_020</td>\n",
       "      <td>0</td>\n",
       "      <td>C:\\Users\\acer\\Desktop\\Data_2D\\data_x\\validatio...</td>\n",
       "      <td>True</td>\n",
       "    </tr>\n",
       "    <tr>\n",
       "      <th>1</th>\n",
       "      <td>61-5586 R_x_196</td>\n",
       "      <td>0</td>\n",
       "      <td>C:\\Users\\acer\\Desktop\\Data_2D\\data_x\\validatio...</td>\n",
       "      <td>True</td>\n",
       "    </tr>\n",
       "    <tr>\n",
       "      <th>2</th>\n",
       "      <td>63-17877 R_x_090</td>\n",
       "      <td>0</td>\n",
       "      <td>C:\\Users\\acer\\Desktop\\Data_2D\\data_x\\validatio...</td>\n",
       "      <td>True</td>\n",
       "    </tr>\n",
       "    <tr>\n",
       "      <th>3</th>\n",
       "      <td>60-34373 L 2019_x_113</td>\n",
       "      <td>0</td>\n",
       "      <td>C:\\Users\\acer\\Desktop\\Data_2D\\data_x\\validatio...</td>\n",
       "      <td>True</td>\n",
       "    </tr>\n",
       "    <tr>\n",
       "      <th>4</th>\n",
       "      <td>53-24700 R_x_092</td>\n",
       "      <td>0</td>\n",
       "      <td>C:\\Users\\acer\\Desktop\\Data_2D\\data_x\\validatio...</td>\n",
       "      <td>True</td>\n",
       "    </tr>\n",
       "  </tbody>\n",
       "</table>\n",
       "</div>"
      ],
      "text/plain": [
       "                      ID  c_erosion  \\\n",
       "0       63-17877 R_x_020          0   \n",
       "1        61-5586 R_x_196          0   \n",
       "2       63-17877 R_x_090          0   \n",
       "3  60-34373 L 2019_x_113          0   \n",
       "4       53-24700 R_x_092          0   \n",
       "\n",
       "                                          image_path  is_valid_file  \n",
       "0  C:\\Users\\acer\\Desktop\\Data_2D\\data_x\\validatio...           True  \n",
       "1  C:\\Users\\acer\\Desktop\\Data_2D\\data_x\\validatio...           True  \n",
       "2  C:\\Users\\acer\\Desktop\\Data_2D\\data_x\\validatio...           True  \n",
       "3  C:\\Users\\acer\\Desktop\\Data_2D\\data_x\\validatio...           True  \n",
       "4  C:\\Users\\acer\\Desktop\\Data_2D\\data_x\\validatio...           True  "
      ]
     },
     "execution_count": 11,
     "metadata": {},
     "output_type": "execute_result"
    }
   ],
   "source": [
    "check_valid_file_df = check_valid_files(val_labels)\n",
    "check_valid_file_df.head()"
   ]
  },
  {
   "cell_type": "code",
   "execution_count": 12,
   "metadata": {},
   "outputs": [],
   "source": [
    "train_data_size = 1000\n",
    "validation_data_size = 200"
   ]
  },
  {
   "cell_type": "code",
   "execution_count": 13,
   "metadata": {},
   "outputs": [],
   "source": [
    "train_data = np.array([img_to_array(load_img(img, target_size=IMG_DIM))\n",
    "                       for img in data_labels['image_path'][0:train_data_size].values.tolist()]).astype('float32')"
   ]
  },
  {
   "cell_type": "code",
   "execution_count": 14,
   "metadata": {},
   "outputs": [],
   "source": [
    "val_data = np.array([img_to_array(load_img(img, target_size=IMG_DIM))\n",
    "                       for img in val_labels['image_path'][0:validation_data_size].values.tolist()]).astype('float32')"
   ]
  },
  {
   "cell_type": "code",
   "execution_count": 15,
   "metadata": {},
   "outputs": [
    {
     "name": "stdout",
     "output_type": "stream",
     "text": [
      "Training Dataset Size: (1000, 224, 224, 3)\n",
      "Validation Dataset Size: (200, 224, 224, 3)\n"
     ]
    }
   ],
   "source": [
    "print('Training Dataset Size:', train_data.shape)\n",
    "print('Validation Dataset Size:', val_data.shape)"
   ]
  },
  {
   "cell_type": "markdown",
   "metadata": {},
   "source": [
    "## Prepare for Transfer Learning"
   ]
  },
  {
   "cell_type": "code",
   "execution_count": 16,
   "metadata": {},
   "outputs": [],
   "source": [
    "prep_in = tf.keras.applications.efficientnet.preprocess_input"
   ]
  },
  {
   "cell_type": "code",
   "execution_count": 17,
   "metadata": {},
   "outputs": [],
   "source": [
    "x_train_new = train_data.astype('int')\n",
    "x_val_new = val_data.astype('int')"
   ]
  },
  {
   "cell_type": "code",
   "execution_count": 18,
   "metadata": {},
   "outputs": [],
   "source": [
    "x_train_in = prep_in(x_train_new)\n",
    "x_val_in = prep_in(x_val_new)"
   ]
  },
  {
   "cell_type": "code",
   "execution_count": 19,
   "metadata": {},
   "outputs": [],
   "source": [
    "train_labels_enc = target_labels[0:train_data_size].to_numpy()\n",
    "val_labels_enc = target_val_labels[0:validation_data_size].to_numpy()"
   ]
  },
  {
   "cell_type": "code",
   "execution_count": 22,
   "metadata": {},
   "outputs": [],
   "source": [
    "# Get the VGG16 model so we can do transfer learning\n",
    "base_model = tf.keras.applications.EfficientNetB5(input_shape=INPUT_SHAPE, include_top=False, weights='imagenet')"
   ]
  },
  {
   "cell_type": "code",
   "execution_count": 23,
   "metadata": {},
   "outputs": [
    {
     "name": "stdout",
     "output_type": "stream",
     "text": [
      "Number of layers in the base model:  577\n"
     ]
    }
   ],
   "source": [
    "print('Number of layers in the base model: ', len(base_model.layers))"
   ]
  },
  {
   "cell_type": "code",
   "execution_count": 24,
   "metadata": {},
   "outputs": [
    {
     "data": {
      "text/html": [
       "<div>\n",
       "<style scoped>\n",
       "    .dataframe tbody tr th:only-of-type {\n",
       "        vertical-align: middle;\n",
       "    }\n",
       "\n",
       "    .dataframe tbody tr th {\n",
       "        vertical-align: top;\n",
       "    }\n",
       "\n",
       "    .dataframe thead th {\n",
       "        text-align: right;\n",
       "    }\n",
       "</style>\n",
       "<table border=\"1\" class=\"dataframe\">\n",
       "  <thead>\n",
       "    <tr style=\"text-align: right;\">\n",
       "      <th></th>\n",
       "      <th>Layer Type</th>\n",
       "      <th>Layer Name</th>\n",
       "      <th>Layer Trainable</th>\n",
       "    </tr>\n",
       "  </thead>\n",
       "  <tbody>\n",
       "    <tr>\n",
       "      <th>0</th>\n",
       "      <td>&lt;keras.engine.input_layer.InputLayer object at 0x00000172D9D534F0&gt;</td>\n",
       "      <td>input_1</td>\n",
       "      <td>True</td>\n",
       "    </tr>\n",
       "    <tr>\n",
       "      <th>1</th>\n",
       "      <td>&lt;keras.layers.preprocessing.image_preprocessing.Rescaling object at 0x00000172DC837760&gt;</td>\n",
       "      <td>rescaling</td>\n",
       "      <td>True</td>\n",
       "    </tr>\n",
       "    <tr>\n",
       "      <th>2</th>\n",
       "      <td>&lt;keras.layers.preprocessing.normalization.Normalization object at 0x00000172DC837310&gt;</td>\n",
       "      <td>normalization</td>\n",
       "      <td>True</td>\n",
       "    </tr>\n",
       "    <tr>\n",
       "      <th>3</th>\n",
       "      <td>&lt;keras.layers.core.tf_op_layer.TFOpLambda object at 0x00000172DF756040&gt;</td>\n",
       "      <td>tf.math.truediv</td>\n",
       "      <td>True</td>\n",
       "    </tr>\n",
       "    <tr>\n",
       "      <th>4</th>\n",
       "      <td>&lt;keras.layers.reshaping.zero_padding2d.ZeroPadding2D object at 0x00000172DC837D30&gt;</td>\n",
       "      <td>stem_conv_pad</td>\n",
       "      <td>True</td>\n",
       "    </tr>\n",
       "    <tr>\n",
       "      <th>...</th>\n",
       "      <td>...</td>\n",
       "      <td>...</td>\n",
       "      <td>...</td>\n",
       "    </tr>\n",
       "    <tr>\n",
       "      <th>572</th>\n",
       "      <td>&lt;keras.layers.regularization.dropout.Dropout object at 0x00000172DABCF550&gt;</td>\n",
       "      <td>block7c_drop</td>\n",
       "      <td>True</td>\n",
       "    </tr>\n",
       "    <tr>\n",
       "      <th>573</th>\n",
       "      <td>&lt;keras.layers.merging.add.Add object at 0x00000172DABD98B0&gt;</td>\n",
       "      <td>block7c_add</td>\n",
       "      <td>True</td>\n",
       "    </tr>\n",
       "    <tr>\n",
       "      <th>574</th>\n",
       "      <td>&lt;keras.layers.convolutional.conv2d.Conv2D object at 0x00000172D9E6CD60&gt;</td>\n",
       "      <td>top_conv</td>\n",
       "      <td>True</td>\n",
       "    </tr>\n",
       "    <tr>\n",
       "      <th>575</th>\n",
       "      <td>&lt;keras.layers.normalization.batch_normalization.BatchNormalization object at 0x00000172DE0BDB50&gt;</td>\n",
       "      <td>top_bn</td>\n",
       "      <td>True</td>\n",
       "    </tr>\n",
       "    <tr>\n",
       "      <th>576</th>\n",
       "      <td>&lt;keras.layers.core.activation.Activation object at 0x00000172DE152100&gt;</td>\n",
       "      <td>top_activation</td>\n",
       "      <td>True</td>\n",
       "    </tr>\n",
       "  </tbody>\n",
       "</table>\n",
       "<p>577 rows × 3 columns</p>\n",
       "</div>"
      ],
      "text/plain": [
       "                                                                                           Layer Type  \\\n",
       "0                                  <keras.engine.input_layer.InputLayer object at 0x00000172D9D534F0>   \n",
       "1             <keras.layers.preprocessing.image_preprocessing.Rescaling object at 0x00000172DC837760>   \n",
       "2               <keras.layers.preprocessing.normalization.Normalization object at 0x00000172DC837310>   \n",
       "3                             <keras.layers.core.tf_op_layer.TFOpLambda object at 0x00000172DF756040>   \n",
       "4                  <keras.layers.reshaping.zero_padding2d.ZeroPadding2D object at 0x00000172DC837D30>   \n",
       "..                                                                                                ...   \n",
       "572                        <keras.layers.regularization.dropout.Dropout object at 0x00000172DABCF550>   \n",
       "573                                       <keras.layers.merging.add.Add object at 0x00000172DABD98B0>   \n",
       "574                           <keras.layers.convolutional.conv2d.Conv2D object at 0x00000172D9E6CD60>   \n",
       "575  <keras.layers.normalization.batch_normalization.BatchNormalization object at 0x00000172DE0BDB50>   \n",
       "576                            <keras.layers.core.activation.Activation object at 0x00000172DE152100>   \n",
       "\n",
       "          Layer Name  Layer Trainable  \n",
       "0            input_1             True  \n",
       "1          rescaling             True  \n",
       "2      normalization             True  \n",
       "3    tf.math.truediv             True  \n",
       "4      stem_conv_pad             True  \n",
       "..               ...              ...  \n",
       "572     block7c_drop             True  \n",
       "573      block7c_add             True  \n",
       "574         top_conv             True  \n",
       "575           top_bn             True  \n",
       "576   top_activation             True  \n",
       "\n",
       "[577 rows x 3 columns]"
      ]
     },
     "execution_count": 24,
     "metadata": {},
     "output_type": "execute_result"
    }
   ],
   "source": [
    "pd.set_option('max_colwidth', None)\n",
    "layers = [(layer, layer.name, layer.trainable) for layer in base_model.layers]\n",
    "pd.DataFrame(layers, columns=['Layer Type', 'Layer Name', 'Layer Trainable'])"
   ]
  },
  {
   "cell_type": "markdown",
   "metadata": {},
   "source": [
    "## Slapping AvgPool > 1024_Dense > 512_Dense > 1_output on top of the EfficientNet"
   ]
  },
  {
   "cell_type": "code",
   "execution_count": 25,
   "metadata": {},
   "outputs": [
    {
     "data": {
      "text/html": [
       "<div>\n",
       "<style scoped>\n",
       "    .dataframe tbody tr th:only-of-type {\n",
       "        vertical-align: middle;\n",
       "    }\n",
       "\n",
       "    .dataframe tbody tr th {\n",
       "        vertical-align: top;\n",
       "    }\n",
       "\n",
       "    .dataframe thead th {\n",
       "        text-align: right;\n",
       "    }\n",
       "</style>\n",
       "<table border=\"1\" class=\"dataframe\">\n",
       "  <thead>\n",
       "    <tr style=\"text-align: right;\">\n",
       "      <th></th>\n",
       "      <th>Layer Type</th>\n",
       "      <th>Layer Name</th>\n",
       "      <th>Layer Trainable</th>\n",
       "    </tr>\n",
       "  </thead>\n",
       "  <tbody>\n",
       "    <tr>\n",
       "      <th>0</th>\n",
       "      <td>&lt;keras.layers.core.activation.Activation object at 0x00000172D819AB50&gt;</td>\n",
       "      <td>block1a_activation</td>\n",
       "      <td>False</td>\n",
       "    </tr>\n",
       "    <tr>\n",
       "      <th>1</th>\n",
       "      <td>&lt;keras.layers.pooling.global_average_pooling2d.GlobalAveragePooling2D object at 0x00000172DF756AF0&gt;</td>\n",
       "      <td>block1a_se_squeeze</td>\n",
       "      <td>False</td>\n",
       "    </tr>\n",
       "    <tr>\n",
       "      <th>2</th>\n",
       "      <td>&lt;keras.layers.reshaping.reshape.Reshape object at 0x00000172DA0A5FA0&gt;</td>\n",
       "      <td>block1a_se_reshape</td>\n",
       "      <td>False</td>\n",
       "    </tr>\n",
       "    <tr>\n",
       "      <th>3</th>\n",
       "      <td>&lt;keras.layers.convolutional.conv2d.Conv2D object at 0x00000172DA0A5A60&gt;</td>\n",
       "      <td>block1a_se_reduce</td>\n",
       "      <td>False</td>\n",
       "    </tr>\n",
       "    <tr>\n",
       "      <th>4</th>\n",
       "      <td>&lt;keras.layers.convolutional.conv2d.Conv2D object at 0x00000172DA21FF10&gt;</td>\n",
       "      <td>block1a_se_expand</td>\n",
       "      <td>False</td>\n",
       "    </tr>\n",
       "    <tr>\n",
       "      <th>...</th>\n",
       "      <td>...</td>\n",
       "      <td>...</td>\n",
       "      <td>...</td>\n",
       "    </tr>\n",
       "    <tr>\n",
       "      <th>562</th>\n",
       "      <td>&lt;keras.layers.regularization.dropout.Dropout object at 0x00000172DABCF550&gt;</td>\n",
       "      <td>block7c_drop</td>\n",
       "      <td>False</td>\n",
       "    </tr>\n",
       "    <tr>\n",
       "      <th>563</th>\n",
       "      <td>&lt;keras.layers.merging.add.Add object at 0x00000172DABD98B0&gt;</td>\n",
       "      <td>block7c_add</td>\n",
       "      <td>False</td>\n",
       "    </tr>\n",
       "    <tr>\n",
       "      <th>564</th>\n",
       "      <td>&lt;keras.layers.convolutional.conv2d.Conv2D object at 0x00000172D9E6CD60&gt;</td>\n",
       "      <td>top_conv</td>\n",
       "      <td>False</td>\n",
       "    </tr>\n",
       "    <tr>\n",
       "      <th>565</th>\n",
       "      <td>&lt;keras.layers.normalization.batch_normalization.BatchNormalization object at 0x00000172DE0BDB50&gt;</td>\n",
       "      <td>top_bn</td>\n",
       "      <td>False</td>\n",
       "    </tr>\n",
       "    <tr>\n",
       "      <th>566</th>\n",
       "      <td>&lt;keras.layers.core.activation.Activation object at 0x00000172DE152100&gt;</td>\n",
       "      <td>top_activation</td>\n",
       "      <td>False</td>\n",
       "    </tr>\n",
       "  </tbody>\n",
       "</table>\n",
       "<p>567 rows × 3 columns</p>\n",
       "</div>"
      ],
      "text/plain": [
       "                                                                                              Layer Type  \\\n",
       "0                                 <keras.layers.core.activation.Activation object at 0x00000172D819AB50>   \n",
       "1    <keras.layers.pooling.global_average_pooling2d.GlobalAveragePooling2D object at 0x00000172DF756AF0>   \n",
       "2                                  <keras.layers.reshaping.reshape.Reshape object at 0x00000172DA0A5FA0>   \n",
       "3                                <keras.layers.convolutional.conv2d.Conv2D object at 0x00000172DA0A5A60>   \n",
       "4                                <keras.layers.convolutional.conv2d.Conv2D object at 0x00000172DA21FF10>   \n",
       "..                                                                                                   ...   \n",
       "562                           <keras.layers.regularization.dropout.Dropout object at 0x00000172DABCF550>   \n",
       "563                                          <keras.layers.merging.add.Add object at 0x00000172DABD98B0>   \n",
       "564                              <keras.layers.convolutional.conv2d.Conv2D object at 0x00000172D9E6CD60>   \n",
       "565     <keras.layers.normalization.batch_normalization.BatchNormalization object at 0x00000172DE0BDB50>   \n",
       "566                               <keras.layers.core.activation.Activation object at 0x00000172DE152100>   \n",
       "\n",
       "             Layer Name  Layer Trainable  \n",
       "0    block1a_activation            False  \n",
       "1    block1a_se_squeeze            False  \n",
       "2    block1a_se_reshape            False  \n",
       "3     block1a_se_reduce            False  \n",
       "4     block1a_se_expand            False  \n",
       "..                  ...              ...  \n",
       "562        block7c_drop            False  \n",
       "563         block7c_add            False  \n",
       "564            top_conv            False  \n",
       "565              top_bn            False  \n",
       "566      top_activation            False  \n",
       "\n",
       "[567 rows x 3 columns]"
      ]
     },
     "execution_count": 25,
     "metadata": {},
     "output_type": "execute_result"
    }
   ],
   "source": [
    "base_model.trainable = False\n",
    "\n",
    "pd.set_option('max_colwidth', None)\n",
    "layers = [(layer, layer.name, layer.trainable) for layer in base_model.layers[10:]]\n",
    "pd.DataFrame(layers, columns=['Layer Type', 'Layer Name', 'Layer Trainable'])"
   ]
  },
  {
   "cell_type": "code",
   "execution_count": 26,
   "metadata": {},
   "outputs": [],
   "source": [
    "fig_train = 'EfficientNetB5_A_FE_train_224'\n",
    "log_file = os.path.join(results_dir, 'EfficientNetB5_A_FE_train_224.csv')\n",
    "model_path = os.path.join(models_dir, 'EfficientNetB5_A_FE_224.h5')"
   ]
  },
  {
   "cell_type": "code",
   "execution_count": 27,
   "metadata": {},
   "outputs": [],
   "source": [
    "# Create a new model on top\n",
    "\n",
    "inputs = tf.keras.Input(shape=INPUT_SHAPE)\n",
    "# We make sure that the base_model is running in inference mode here,\n",
    "# by passing 'training=False'. This is important for fine-tuning\n",
    "x = base_model(inputs, training=False)\n",
    "\n",
    "x = GlobalAveragePooling2D()(x)\n",
    "x = Dense(1024, activation='relu')(x)\n",
    "x = Dense(512, activation='relu')(x)\n",
    "\n",
    "# A Dense classifier with a single unit (binary classification)\n",
    "outputs = Dense(1, activation='sigmoid')(x)\n",
    "model = Model(inputs, outputs)"
   ]
  },
  {
   "cell_type": "code",
   "execution_count": 28,
   "metadata": {},
   "outputs": [
    {
     "data": {
      "text/html": [
       "<div>\n",
       "<style scoped>\n",
       "    .dataframe tbody tr th:only-of-type {\n",
       "        vertical-align: middle;\n",
       "    }\n",
       "\n",
       "    .dataframe tbody tr th {\n",
       "        vertical-align: top;\n",
       "    }\n",
       "\n",
       "    .dataframe thead th {\n",
       "        text-align: right;\n",
       "    }\n",
       "</style>\n",
       "<table border=\"1\" class=\"dataframe\">\n",
       "  <thead>\n",
       "    <tr style=\"text-align: right;\">\n",
       "      <th></th>\n",
       "      <th>Layer Type</th>\n",
       "      <th>Layer Name</th>\n",
       "      <th>Layer Trainable</th>\n",
       "    </tr>\n",
       "  </thead>\n",
       "  <tbody>\n",
       "    <tr>\n",
       "      <th>0</th>\n",
       "      <td>&lt;keras.engine.input_layer.InputLayer object at 0x00000172DAD2FCA0&gt;</td>\n",
       "      <td>input_2</td>\n",
       "      <td>True</td>\n",
       "    </tr>\n",
       "    <tr>\n",
       "      <th>1</th>\n",
       "      <td>&lt;keras.engine.functional.Functional object at 0x00000172DABD2DC0&gt;</td>\n",
       "      <td>efficientnetb5</td>\n",
       "      <td>False</td>\n",
       "    </tr>\n",
       "    <tr>\n",
       "      <th>2</th>\n",
       "      <td>&lt;keras.layers.pooling.global_average_pooling2d.GlobalAveragePooling2D object at 0x00000172DAD2FB80&gt;</td>\n",
       "      <td>global_average_pooling2d</td>\n",
       "      <td>True</td>\n",
       "    </tr>\n",
       "    <tr>\n",
       "      <th>3</th>\n",
       "      <td>&lt;keras.layers.core.dense.Dense object at 0x00000172DD2E1640&gt;</td>\n",
       "      <td>dense</td>\n",
       "      <td>True</td>\n",
       "    </tr>\n",
       "    <tr>\n",
       "      <th>4</th>\n",
       "      <td>&lt;keras.layers.core.dense.Dense object at 0x00000172DE22CFD0&gt;</td>\n",
       "      <td>dense_1</td>\n",
       "      <td>True</td>\n",
       "    </tr>\n",
       "    <tr>\n",
       "      <th>5</th>\n",
       "      <td>&lt;keras.layers.core.dense.Dense object at 0x00000172DAD2FD00&gt;</td>\n",
       "      <td>dense_2</td>\n",
       "      <td>True</td>\n",
       "    </tr>\n",
       "  </tbody>\n",
       "</table>\n",
       "</div>"
      ],
      "text/plain": [
       "                                                                                            Layer Type  \\\n",
       "0                                   <keras.engine.input_layer.InputLayer object at 0x00000172DAD2FCA0>   \n",
       "1                                    <keras.engine.functional.Functional object at 0x00000172DABD2DC0>   \n",
       "2  <keras.layers.pooling.global_average_pooling2d.GlobalAveragePooling2D object at 0x00000172DAD2FB80>   \n",
       "3                                         <keras.layers.core.dense.Dense object at 0x00000172DD2E1640>   \n",
       "4                                         <keras.layers.core.dense.Dense object at 0x00000172DE22CFD0>   \n",
       "5                                         <keras.layers.core.dense.Dense object at 0x00000172DAD2FD00>   \n",
       "\n",
       "                 Layer Name  Layer Trainable  \n",
       "0                   input_2             True  \n",
       "1            efficientnetb5            False  \n",
       "2  global_average_pooling2d             True  \n",
       "3                     dense             True  \n",
       "4                   dense_1             True  \n",
       "5                   dense_2             True  "
      ]
     },
     "execution_count": 28,
     "metadata": {},
     "output_type": "execute_result"
    }
   ],
   "source": [
    "pd.set_option('max_colwidth', None)\n",
    "layers = [(layer, layer.name, layer.trainable) for layer in model.layers]\n",
    "pd.DataFrame(layers, columns=['Layer Type', 'Layer Name', 'Layer Trainable'])"
   ]
  },
  {
   "cell_type": "code",
   "execution_count": 29,
   "metadata": {},
   "outputs": [
    {
     "name": "stdout",
     "output_type": "stream",
     "text": [
      "Model: \"model\"\n",
      "_________________________________________________________________\n",
      " Layer (type)                Output Shape              Param #   \n",
      "=================================================================\n",
      " input_2 (InputLayer)        [(None, 224, 224, 3)]     0         \n",
      "                                                                 \n",
      " efficientnetb5 (Functional)  (None, 7, 7, 2048)       28513527  \n",
      "                                                                 \n",
      " global_average_pooling2d (G  (None, 2048)             0         \n",
      " lobalAveragePooling2D)                                          \n",
      "                                                                 \n",
      " dense (Dense)               (None, 1024)              2098176   \n",
      "                                                                 \n",
      " dense_1 (Dense)             (None, 512)               524800    \n",
      "                                                                 \n",
      " dense_2 (Dense)             (None, 1)                 513       \n",
      "                                                                 \n",
      "=================================================================\n",
      "Total params: 31,137,016\n",
      "Trainable params: 2,623,489\n",
      "Non-trainable params: 28,513,527\n",
      "_________________________________________________________________\n"
     ]
    }
   ],
   "source": [
    "model.summary()"
   ]
  },
  {
   "cell_type": "code",
   "execution_count": 30,
   "metadata": {},
   "outputs": [],
   "source": [
    "callbacks = [\n",
    "    CSVLogger(log_file),\n",
    "    ModelCheckpoint(\n",
    "        filepath=os.path.join(models_dir,\"Eff-epoch-{epoch:02d}.h5\"),\n",
    "        save_weights_only=False,\n",
    "        save_best_only=False,\n",
    "        save_freq='epoch',\n",
    "        verbose=1\n",
    "    )\n",
    "]"
   ]
  },
  {
   "cell_type": "code",
   "execution_count": 31,
   "metadata": {},
   "outputs": [
    {
     "name": "stderr",
     "output_type": "stream",
     "text": [
      "c:\\Users\\acer\\anaconda3\\envs\\example2D\\lib\\site-packages\\keras\\optimizers\\optimizer_v2\\rmsprop.py:135: UserWarning: The `lr` argument is deprecated, use `learning_rate` instead.\n",
      "  super(RMSprop, self).__init__(name, **kwargs)\n"
     ]
    }
   ],
   "source": [
    "model.compile(loss=keras.losses.BinaryCrossentropy(from_logits=True),\n",
    "              optimizer= keras.optimizers.RMSprop(lr=1e-3),\n",
    "              metrics = [keras.metrics.BinaryAccuracy()])"
   ]
  },
  {
   "cell_type": "code",
   "execution_count": 32,
   "metadata": {},
   "outputs": [
    {
     "name": "stdout",
     "output_type": "stream",
     "text": [
      "Epoch 1/20\n"
     ]
    },
    {
     "name": "stderr",
     "output_type": "stream",
     "text": [
      "c:\\Users\\acer\\anaconda3\\envs\\example2D\\lib\\site-packages\\tensorflow\\python\\util\\dispatch.py:1082: UserWarning: \"`binary_crossentropy` received `from_logits=True`, but the `output` argument was produced by a sigmoid or softmax activation and thus does not represent logits. Was this intended?\"\n",
      "  return dispatch_target(*args, **kwargs)\n"
     ]
    },
    {
     "name": "stdout",
     "output_type": "stream",
     "text": [
      "32/32 [==============================] - ETA: 0s - loss: 0.7849 - binary_accuracy: 0.5730\n",
      "Epoch 1: saving model to C:\\Users\\acer\\Desktop\\Data_2D\\data_x\\models\\EfficientNet-B5\\Eff-epoch-01.h5\n",
      "32/32 [==============================] - 103s 3s/step - loss: 0.7849 - binary_accuracy: 0.5730 - val_loss: 0.6571 - val_binary_accuracy: 0.6450\n",
      "Epoch 2/20\n",
      "32/32 [==============================] - ETA: 0s - loss: 0.6446 - binary_accuracy: 0.6350\n",
      "Epoch 2: saving model to C:\\Users\\acer\\Desktop\\Data_2D\\data_x\\models\\EfficientNet-B5\\Eff-epoch-02.h5\n",
      "32/32 [==============================] - 90s 3s/step - loss: 0.6446 - binary_accuracy: 0.6350 - val_loss: 0.6716 - val_binary_accuracy: 0.5700\n",
      "Epoch 3/20\n",
      "32/32 [==============================] - ETA: 0s - loss: 0.5975 - binary_accuracy: 0.6500\n",
      "Epoch 3: saving model to C:\\Users\\acer\\Desktop\\Data_2D\\data_x\\models\\EfficientNet-B5\\Eff-epoch-03.h5\n",
      "32/32 [==============================] - 89s 3s/step - loss: 0.5975 - binary_accuracy: 0.6500 - val_loss: 0.6582 - val_binary_accuracy: 0.5900\n",
      "Epoch 4/20\n",
      "32/32 [==============================] - ETA: 0s - loss: 0.5426 - binary_accuracy: 0.6930\n",
      "Epoch 4: saving model to C:\\Users\\acer\\Desktop\\Data_2D\\data_x\\models\\EfficientNet-B5\\Eff-epoch-04.h5\n",
      "32/32 [==============================] - 89s 3s/step - loss: 0.5426 - binary_accuracy: 0.6930 - val_loss: 0.9094 - val_binary_accuracy: 0.5200\n",
      "Epoch 5/20\n",
      "32/32 [==============================] - ETA: 0s - loss: 0.5308 - binary_accuracy: 0.7030\n",
      "Epoch 5: saving model to C:\\Users\\acer\\Desktop\\Data_2D\\data_x\\models\\EfficientNet-B5\\Eff-epoch-05.h5\n",
      "32/32 [==============================] - 89s 3s/step - loss: 0.5308 - binary_accuracy: 0.7030 - val_loss: 0.8262 - val_binary_accuracy: 0.5900\n",
      "Epoch 6/20\n",
      "32/32 [==============================] - ETA: 0s - loss: 0.4777 - binary_accuracy: 0.7320\n",
      "Epoch 6: saving model to C:\\Users\\acer\\Desktop\\Data_2D\\data_x\\models\\EfficientNet-B5\\Eff-epoch-06.h5\n",
      "32/32 [==============================] - 92s 3s/step - loss: 0.4777 - binary_accuracy: 0.7320 - val_loss: 0.7407 - val_binary_accuracy: 0.5800\n",
      "Epoch 7/20\n",
      "32/32 [==============================] - ETA: 0s - loss: 0.4638 - binary_accuracy: 0.7490\n",
      "Epoch 7: saving model to C:\\Users\\acer\\Desktop\\Data_2D\\data_x\\models\\EfficientNet-B5\\Eff-epoch-07.h5\n",
      "32/32 [==============================] - 89s 3s/step - loss: 0.4638 - binary_accuracy: 0.7490 - val_loss: 0.8237 - val_binary_accuracy: 0.5700\n",
      "Epoch 8/20\n",
      "32/32 [==============================] - ETA: 0s - loss: 0.4536 - binary_accuracy: 0.7540\n",
      "Epoch 8: saving model to C:\\Users\\acer\\Desktop\\Data_2D\\data_x\\models\\EfficientNet-B5\\Eff-epoch-08.h5\n",
      "32/32 [==============================] - 89s 3s/step - loss: 0.4536 - binary_accuracy: 0.7540 - val_loss: 0.8207 - val_binary_accuracy: 0.6200\n",
      "Epoch 9/20\n",
      "32/32 [==============================] - ETA: 0s - loss: 0.4142 - binary_accuracy: 0.7600\n",
      "Epoch 9: saving model to C:\\Users\\acer\\Desktop\\Data_2D\\data_x\\models\\EfficientNet-B5\\Eff-epoch-09.h5\n",
      "32/32 [==============================] - 89s 3s/step - loss: 0.4142 - binary_accuracy: 0.7600 - val_loss: 0.8815 - val_binary_accuracy: 0.6200\n",
      "Epoch 10/20\n",
      "32/32 [==============================] - ETA: 0s - loss: 0.3969 - binary_accuracy: 0.7910\n",
      "Epoch 10: saving model to C:\\Users\\acer\\Desktop\\Data_2D\\data_x\\models\\EfficientNet-B5\\Eff-epoch-10.h5\n",
      "32/32 [==============================] - 89s 3s/step - loss: 0.3969 - binary_accuracy: 0.7910 - val_loss: 1.1926 - val_binary_accuracy: 0.5700\n",
      "Epoch 11/20\n",
      "32/32 [==============================] - ETA: 0s - loss: 0.3869 - binary_accuracy: 0.7930\n",
      "Epoch 11: saving model to C:\\Users\\acer\\Desktop\\Data_2D\\data_x\\models\\EfficientNet-B5\\Eff-epoch-11.h5\n",
      "32/32 [==============================] - 88s 3s/step - loss: 0.3869 - binary_accuracy: 0.7930 - val_loss: 0.8991 - val_binary_accuracy: 0.5600\n",
      "Epoch 12/20\n",
      "32/32 [==============================] - ETA: 0s - loss: 0.3770 - binary_accuracy: 0.7940\n",
      "Epoch 12: saving model to C:\\Users\\acer\\Desktop\\Data_2D\\data_x\\models\\EfficientNet-B5\\Eff-epoch-12.h5\n",
      "32/32 [==============================] - 90s 3s/step - loss: 0.3770 - binary_accuracy: 0.7940 - val_loss: 1.2171 - val_binary_accuracy: 0.5650\n",
      "Epoch 13/20\n",
      "32/32 [==============================] - ETA: 0s - loss: 0.3521 - binary_accuracy: 0.8020\n",
      "Epoch 13: saving model to C:\\Users\\acer\\Desktop\\Data_2D\\data_x\\models\\EfficientNet-B5\\Eff-epoch-13.h5\n",
      "32/32 [==============================] - 87s 3s/step - loss: 0.3521 - binary_accuracy: 0.8020 - val_loss: 1.3228 - val_binary_accuracy: 0.6000\n",
      "Epoch 14/20\n",
      "32/32 [==============================] - ETA: 0s - loss: 0.3339 - binary_accuracy: 0.8020\n",
      "Epoch 14: saving model to C:\\Users\\acer\\Desktop\\Data_2D\\data_x\\models\\EfficientNet-B5\\Eff-epoch-14.h5\n",
      "32/32 [==============================] - 88s 3s/step - loss: 0.3339 - binary_accuracy: 0.8020 - val_loss: 1.3559 - val_binary_accuracy: 0.5600\n",
      "Epoch 15/20\n",
      "32/32 [==============================] - ETA: 0s - loss: 0.3313 - binary_accuracy: 0.8280\n",
      "Epoch 15: saving model to C:\\Users\\acer\\Desktop\\Data_2D\\data_x\\models\\EfficientNet-B5\\Eff-epoch-15.h5\n",
      "32/32 [==============================] - 91s 3s/step - loss: 0.3313 - binary_accuracy: 0.8280 - val_loss: 1.3079 - val_binary_accuracy: 0.5950\n",
      "Epoch 16/20\n",
      "32/32 [==============================] - ETA: 0s - loss: 0.3377 - binary_accuracy: 0.8050\n",
      "Epoch 16: saving model to C:\\Users\\acer\\Desktop\\Data_2D\\data_x\\models\\EfficientNet-B5\\Eff-epoch-16.h5\n",
      "32/32 [==============================] - 89s 3s/step - loss: 0.3377 - binary_accuracy: 0.8050 - val_loss: 1.3130 - val_binary_accuracy: 0.5800\n",
      "Epoch 17/20\n",
      "32/32 [==============================] - ETA: 0s - loss: 0.2826 - binary_accuracy: 0.8250\n",
      "Epoch 17: saving model to C:\\Users\\acer\\Desktop\\Data_2D\\data_x\\models\\EfficientNet-B5\\Eff-epoch-17.h5\n",
      "32/32 [==============================] - 89s 3s/step - loss: 0.2826 - binary_accuracy: 0.8250 - val_loss: 1.5853 - val_binary_accuracy: 0.6350\n",
      "Epoch 18/20\n",
      "32/32 [==============================] - ETA: 0s - loss: 0.2990 - binary_accuracy: 0.8210\n",
      "Epoch 18: saving model to C:\\Users\\acer\\Desktop\\Data_2D\\data_x\\models\\EfficientNet-B5\\Eff-epoch-18.h5\n",
      "32/32 [==============================] - 88s 3s/step - loss: 0.2990 - binary_accuracy: 0.8210 - val_loss: 1.4379 - val_binary_accuracy: 0.6150\n",
      "Epoch 19/20\n",
      "32/32 [==============================] - ETA: 0s - loss: 0.3153 - binary_accuracy: 0.8310\n",
      "Epoch 19: saving model to C:\\Users\\acer\\Desktop\\Data_2D\\data_x\\models\\EfficientNet-B5\\Eff-epoch-19.h5\n",
      "32/32 [==============================] - 88s 3s/step - loss: 0.3153 - binary_accuracy: 0.8310 - val_loss: 2.1768 - val_binary_accuracy: 0.5700\n",
      "Epoch 20/20\n",
      "32/32 [==============================] - ETA: 0s - loss: 0.2997 - binary_accuracy: 0.8250\n",
      "Epoch 20: saving model to C:\\Users\\acer\\Desktop\\Data_2D\\data_x\\models\\EfficientNet-B5\\Eff-epoch-20.h5\n",
      "32/32 [==============================] - 87s 3s/step - loss: 0.2997 - binary_accuracy: 0.8250 - val_loss: 1.7547 - val_binary_accuracy: 0.6050\n"
     ]
    }
   ],
   "source": [
    "history = model.fit(x=x_train_in, \n",
    "                    y=train_labels_enc,\n",
    "                    validation_data=(x_val_in, val_labels_enc),\n",
    "                    epochs=EPOCH, \n",
    "                    verbose=1, \n",
    "                    callbacks=callbacks)"
   ]
  },
  {
   "cell_type": "code",
   "execution_count": 33,
   "metadata": {},
   "outputs": [
    {
     "data": {
      "text/plain": [
       "dict_keys(['loss', 'binary_accuracy', 'val_loss', 'val_binary_accuracy'])"
      ]
     },
     "execution_count": 33,
     "metadata": {},
     "output_type": "execute_result"
    }
   ],
   "source": [
    "history_dict = history.history\n",
    "history_dict.keys()"
   ]
  },
  {
   "cell_type": "code",
   "execution_count": 34,
   "metadata": {},
   "outputs": [],
   "source": [
    "epoch_list = list(range(1,EPOCH+1))\n",
    "y_train_acc = history.history['binary_accuracy']\n",
    "y_train_loss = history.history['loss']"
   ]
  },
  {
   "cell_type": "code",
   "execution_count": 35,
   "metadata": {},
   "outputs": [
    {
     "name": "stdout",
     "output_type": "stream",
     "text": [
      "[0.5730000138282776, 0.6349999904632568, 0.6499999761581421, 0.6930000185966492, 0.703000009059906, 0.7319999933242798, 0.7490000128746033, 0.7540000081062317, 0.7599999904632568, 0.7910000085830688, 0.7929999828338623, 0.7940000295639038, 0.8019999861717224, 0.8019999861717224, 0.828000009059906, 0.8050000071525574, 0.824999988079071, 0.8209999799728394, 0.8309999704360962, 0.824999988079071]\n"
     ]
    }
   ],
   "source": [
    "print(y_train_acc)"
   ]
  },
  {
   "cell_type": "code",
   "execution_count": 36,
   "metadata": {},
   "outputs": [
    {
     "name": "stdout",
     "output_type": "stream",
     "text": [
      "[0.7848941683769226, 0.6446096897125244, 0.5975244045257568, 0.5425624847412109, 0.5307867527008057, 0.47771456837654114, 0.46382439136505127, 0.4536462128162384, 0.4142265021800995, 0.3968580663204193, 0.3868872821331024, 0.37695661187171936, 0.3520560562610626, 0.3339458405971527, 0.3312993049621582, 0.3376658260822296, 0.2826150953769684, 0.2989995777606964, 0.31528350710868835, 0.2996891140937805]\n"
     ]
    }
   ],
   "source": [
    "print(y_train_loss)"
   ]
  }
 ],
 "metadata": {
  "kernelspec": {
   "display_name": "example2D",
   "language": "python",
   "name": "python3"
  },
  "language_info": {
   "codemirror_mode": {
    "name": "ipython",
    "version": 3
   },
   "file_extension": ".py",
   "mimetype": "text/x-python",
   "name": "python",
   "nbconvert_exporter": "python",
   "pygments_lexer": "ipython3",
   "version": "3.9.18"
  }
 },
 "nbformat": 4,
 "nbformat_minor": 2
}
