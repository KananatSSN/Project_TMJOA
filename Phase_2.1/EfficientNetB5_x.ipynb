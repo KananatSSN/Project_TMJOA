{
 "cells": [
  {
   "cell_type": "code",
   "execution_count": 1,
   "metadata": {},
   "outputs": [
    {
     "name": "stdout",
     "output_type": "stream",
     "text": [
      "2.9.0\n"
     ]
    }
   ],
   "source": [
    "import os\n",
    "import numpy as np\n",
    "\n",
    "import tensorflow as tf\n",
    "from tensorflow import keras\n",
    "from tensorflow.keras.preprocessing.image import img_to_array, load_img\n",
    "from tensorflow.keras.layers import Dense, GlobalAveragePooling2D\n",
    "from tensorflow.keras.models import Model\n",
    "from tensorflow.keras.callbacks import ModelCheckpoint, CSVLogger\n",
    "\n",
    "#warnings.filterwarnings(\"ignore\")\n",
    "#tf version should be 2.9.0\n",
    "print(tf.__version__)"
   ]
  },
  {
   "cell_type": "code",
   "execution_count": 2,
   "metadata": {},
   "outputs": [],
   "source": [
    "rand_seed = 42"
   ]
  },
  {
   "cell_type": "code",
   "execution_count": 3,
   "metadata": {},
   "outputs": [],
   "source": [
    "dir_path = r\"C:\\Users\\acer\\Desktop\\Data_2D\\data_x\"\n",
    "results_dir = os.path.join(dir_path, r'logs\\EfficientNet-B5')\n",
    "models_dir = os.path.join(dir_path, r'models\\EfficientNet-B5')\n",
    "\n",
    "if not os.path.isdir(results_dir):\n",
    "    os.makedirs(results_dir)\n",
    "    \n",
    "if not os.path.isdir(models_dir):\n",
    "    os.makedirs(models_dir)"
   ]
  },
  {
   "cell_type": "code",
   "execution_count": 4,
   "metadata": {},
   "outputs": [],
   "source": [
    "# define the location of your dataset\n",
    "\n",
    "TRAIN_PATH = r\"C:\\Users\\acer\\Desktop\\Data_2D\\data_x\\train\"\n",
    "TRAIN_LABEL_PATH = r\"C:\\Users\\acer\\Desktop\\Data_2D\\data_x\\train_classification.csv\"\n",
    "\n",
    "VAL_PATH = r\"C:\\Users\\acer\\Desktop\\Data_2D\\data_x\\validation\"\n",
    "VAL_LABEL_PATH = r\"C:\\Users\\acer\\Desktop\\Data_2D\\data_x\\validation_classification.csv\"\n",
    "\n",
    "IMG_DIM = (224,224)\n",
    "INPUT_SHAPE = (224,224,3)\n",
    "\n",
    "BATCH_SIZE = 32\n",
    "EPOCH = 20\n",
    "x_axis_inc = 1 # for plotting the training acc and loss"
   ]
  },
  {
   "cell_type": "code",
   "execution_count": 5,
   "metadata": {},
   "outputs": [
    {
     "data": {
      "text/html": [
       "<div>\n",
       "<style scoped>\n",
       "    .dataframe tbody tr th:only-of-type {\n",
       "        vertical-align: middle;\n",
       "    }\n",
       "\n",
       "    .dataframe tbody tr th {\n",
       "        vertical-align: top;\n",
       "    }\n",
       "\n",
       "    .dataframe thead th {\n",
       "        text-align: right;\n",
       "    }\n",
       "</style>\n",
       "<table border=\"1\" class=\"dataframe\">\n",
       "  <thead>\n",
       "    <tr style=\"text-align: right;\">\n",
       "      <th></th>\n",
       "      <th>ID</th>\n",
       "      <th>c_erosion</th>\n",
       "    </tr>\n",
       "  </thead>\n",
       "  <tbody>\n",
       "    <tr>\n",
       "      <th>0</th>\n",
       "      <td>66-4559 L_x_000</td>\n",
       "      <td>1</td>\n",
       "    </tr>\n",
       "    <tr>\n",
       "      <th>0</th>\n",
       "      <td>66-4559 L_x_001</td>\n",
       "      <td>1</td>\n",
       "    </tr>\n",
       "    <tr>\n",
       "      <th>0</th>\n",
       "      <td>66-4559 L_x_002</td>\n",
       "      <td>1</td>\n",
       "    </tr>\n",
       "    <tr>\n",
       "      <th>0</th>\n",
       "      <td>66-4559 L_x_003</td>\n",
       "      <td>1</td>\n",
       "    </tr>\n",
       "    <tr>\n",
       "      <th>0</th>\n",
       "      <td>66-4559 L_x_004</td>\n",
       "      <td>1</td>\n",
       "    </tr>\n",
       "  </tbody>\n",
       "</table>\n",
       "</div>"
      ],
      "text/plain": [
       "                ID  c_erosion\n",
       "0  66-4559 L_x_000          1\n",
       "0  66-4559 L_x_001          1\n",
       "0  66-4559 L_x_002          1\n",
       "0  66-4559 L_x_003          1\n",
       "0  66-4559 L_x_004          1"
      ]
     },
     "execution_count": 5,
     "metadata": {},
     "output_type": "execute_result"
    }
   ],
   "source": [
    "import pandas as pd\n",
    "\n",
    "def expand_dataframe(df):\n",
    "    # Create a list to hold the new rows\n",
    "    new_rows = []\n",
    "    \n",
    "    # Iterate through each row in the original dataframe\n",
    "    for _, row in df.iterrows():\n",
    "        # Duplicate the row 234 times (for indices 0-233)\n",
    "        for i in range(224):\n",
    "            new_row = row.copy()\n",
    "            new_row['ID'] = f\"{row['ID']}_x_{i:03d}\"  # Wrap the original ID and add suffix\n",
    "            new_rows.append(new_row)\n",
    "    \n",
    "    # Create a new dataframe from the list of new rows\n",
    "    new_df = pd.DataFrame(new_rows)\n",
    "    \n",
    "    return new_df\n",
    "\n",
    "train_original_df = pd.read_csv(TRAIN_LABEL_PATH)\n",
    "\n",
    "train_original_df = train_original_df.sample(frac=1, random_state=rand_seed).reset_index(drop=True)\n",
    "\n",
    "train_c_erosion_label = train_original_df[['ID','c_erosion']]\n",
    "# Create the new DataFrame\n",
    "train_df = expand_dataframe(train_c_erosion_label)\n",
    "\n",
    "# Shuffle the training data\n",
    "#train_df = train_df.sample(frac=1, random_state=rand_seed).reset_index(drop=True)\n",
    "\n",
    "train_df.head()"
   ]
  },
  {
   "cell_type": "code",
   "execution_count": 6,
   "metadata": {},
   "outputs": [
    {
     "data": {
      "text/html": [
       "<div>\n",
       "<style scoped>\n",
       "    .dataframe tbody tr th:only-of-type {\n",
       "        vertical-align: middle;\n",
       "    }\n",
       "\n",
       "    .dataframe tbody tr th {\n",
       "        vertical-align: top;\n",
       "    }\n",
       "\n",
       "    .dataframe thead th {\n",
       "        text-align: right;\n",
       "    }\n",
       "</style>\n",
       "<table border=\"1\" class=\"dataframe\">\n",
       "  <thead>\n",
       "    <tr style=\"text-align: right;\">\n",
       "      <th></th>\n",
       "      <th>ID</th>\n",
       "      <th>c_erosion</th>\n",
       "      <th>image_path</th>\n",
       "    </tr>\n",
       "  </thead>\n",
       "  <tbody>\n",
       "    <tr>\n",
       "      <th>0</th>\n",
       "      <td>66-4559 L_x_000</td>\n",
       "      <td>1</td>\n",
       "      <td>C:\\Users\\acer\\Desktop\\Data_2D\\data_x\\train\\66-...</td>\n",
       "    </tr>\n",
       "    <tr>\n",
       "      <th>0</th>\n",
       "      <td>66-4559 L_x_001</td>\n",
       "      <td>1</td>\n",
       "      <td>C:\\Users\\acer\\Desktop\\Data_2D\\data_x\\train\\66-...</td>\n",
       "    </tr>\n",
       "    <tr>\n",
       "      <th>0</th>\n",
       "      <td>66-4559 L_x_002</td>\n",
       "      <td>1</td>\n",
       "      <td>C:\\Users\\acer\\Desktop\\Data_2D\\data_x\\train\\66-...</td>\n",
       "    </tr>\n",
       "    <tr>\n",
       "      <th>0</th>\n",
       "      <td>66-4559 L_x_003</td>\n",
       "      <td>1</td>\n",
       "      <td>C:\\Users\\acer\\Desktop\\Data_2D\\data_x\\train\\66-...</td>\n",
       "    </tr>\n",
       "    <tr>\n",
       "      <th>0</th>\n",
       "      <td>66-4559 L_x_004</td>\n",
       "      <td>1</td>\n",
       "      <td>C:\\Users\\acer\\Desktop\\Data_2D\\data_x\\train\\66-...</td>\n",
       "    </tr>\n",
       "  </tbody>\n",
       "</table>\n",
       "</div>"
      ],
      "text/plain": [
       "                ID  c_erosion  \\\n",
       "0  66-4559 L_x_000          1   \n",
       "0  66-4559 L_x_001          1   \n",
       "0  66-4559 L_x_002          1   \n",
       "0  66-4559 L_x_003          1   \n",
       "0  66-4559 L_x_004          1   \n",
       "\n",
       "                                          image_path  \n",
       "0  C:\\Users\\acer\\Desktop\\Data_2D\\data_x\\train\\66-...  \n",
       "0  C:\\Users\\acer\\Desktop\\Data_2D\\data_x\\train\\66-...  \n",
       "0  C:\\Users\\acer\\Desktop\\Data_2D\\data_x\\train\\66-...  \n",
       "0  C:\\Users\\acer\\Desktop\\Data_2D\\data_x\\train\\66-...  \n",
       "0  C:\\Users\\acer\\Desktop\\Data_2D\\data_x\\train\\66-...  "
      ]
     },
     "execution_count": 6,
     "metadata": {},
     "output_type": "execute_result"
    }
   ],
   "source": [
    "data_labels = train_df\n",
    "target_labels = data_labels['c_erosion']\n",
    "data_labels['image_path'] =  data_labels.apply(lambda row: (os.path.join(TRAIN_PATH, str(row['ID'])) + '.jpg'), axis=1)\n",
    "data_labels.head()"
   ]
  },
  {
   "cell_type": "code",
   "execution_count": 7,
   "metadata": {},
   "outputs": [
    {
     "name": "stdout",
     "output_type": "stream",
     "text": [
      "(56896, 3)\n"
     ]
    }
   ],
   "source": [
    "print(data_labels.shape)"
   ]
  },
  {
   "cell_type": "code",
   "execution_count": 8,
   "metadata": {},
   "outputs": [
    {
     "name": "stdout",
     "output_type": "stream",
     "text": [
      "Total files: 56896\n",
      "Valid files: 56896\n",
      "Invalid files: 0\n"
     ]
    },
    {
     "data": {
      "text/html": [
       "<div>\n",
       "<style scoped>\n",
       "    .dataframe tbody tr th:only-of-type {\n",
       "        vertical-align: middle;\n",
       "    }\n",
       "\n",
       "    .dataframe tbody tr th {\n",
       "        vertical-align: top;\n",
       "    }\n",
       "\n",
       "    .dataframe thead th {\n",
       "        text-align: right;\n",
       "    }\n",
       "</style>\n",
       "<table border=\"1\" class=\"dataframe\">\n",
       "  <thead>\n",
       "    <tr style=\"text-align: right;\">\n",
       "      <th></th>\n",
       "      <th>ID</th>\n",
       "      <th>c_erosion</th>\n",
       "      <th>image_path</th>\n",
       "      <th>is_valid_file</th>\n",
       "    </tr>\n",
       "  </thead>\n",
       "  <tbody>\n",
       "    <tr>\n",
       "      <th>0</th>\n",
       "      <td>66-4559 L_x_000</td>\n",
       "      <td>1</td>\n",
       "      <td>C:\\Users\\acer\\Desktop\\Data_2D\\data_x\\train\\66-...</td>\n",
       "      <td>True</td>\n",
       "    </tr>\n",
       "    <tr>\n",
       "      <th>0</th>\n",
       "      <td>66-4559 L_x_001</td>\n",
       "      <td>1</td>\n",
       "      <td>C:\\Users\\acer\\Desktop\\Data_2D\\data_x\\train\\66-...</td>\n",
       "      <td>True</td>\n",
       "    </tr>\n",
       "    <tr>\n",
       "      <th>0</th>\n",
       "      <td>66-4559 L_x_002</td>\n",
       "      <td>1</td>\n",
       "      <td>C:\\Users\\acer\\Desktop\\Data_2D\\data_x\\train\\66-...</td>\n",
       "      <td>True</td>\n",
       "    </tr>\n",
       "    <tr>\n",
       "      <th>0</th>\n",
       "      <td>66-4559 L_x_003</td>\n",
       "      <td>1</td>\n",
       "      <td>C:\\Users\\acer\\Desktop\\Data_2D\\data_x\\train\\66-...</td>\n",
       "      <td>True</td>\n",
       "    </tr>\n",
       "    <tr>\n",
       "      <th>0</th>\n",
       "      <td>66-4559 L_x_004</td>\n",
       "      <td>1</td>\n",
       "      <td>C:\\Users\\acer\\Desktop\\Data_2D\\data_x\\train\\66-...</td>\n",
       "      <td>True</td>\n",
       "    </tr>\n",
       "    <tr>\n",
       "      <th>0</th>\n",
       "      <td>66-4559 L_x_005</td>\n",
       "      <td>1</td>\n",
       "      <td>C:\\Users\\acer\\Desktop\\Data_2D\\data_x\\train\\66-...</td>\n",
       "      <td>True</td>\n",
       "    </tr>\n",
       "    <tr>\n",
       "      <th>0</th>\n",
       "      <td>66-4559 L_x_006</td>\n",
       "      <td>1</td>\n",
       "      <td>C:\\Users\\acer\\Desktop\\Data_2D\\data_x\\train\\66-...</td>\n",
       "      <td>True</td>\n",
       "    </tr>\n",
       "    <tr>\n",
       "      <th>0</th>\n",
       "      <td>66-4559 L_x_007</td>\n",
       "      <td>1</td>\n",
       "      <td>C:\\Users\\acer\\Desktop\\Data_2D\\data_x\\train\\66-...</td>\n",
       "      <td>True</td>\n",
       "    </tr>\n",
       "    <tr>\n",
       "      <th>0</th>\n",
       "      <td>66-4559 L_x_008</td>\n",
       "      <td>1</td>\n",
       "      <td>C:\\Users\\acer\\Desktop\\Data_2D\\data_x\\train\\66-...</td>\n",
       "      <td>True</td>\n",
       "    </tr>\n",
       "    <tr>\n",
       "      <th>0</th>\n",
       "      <td>66-4559 L_x_009</td>\n",
       "      <td>1</td>\n",
       "      <td>C:\\Users\\acer\\Desktop\\Data_2D\\data_x\\train\\66-...</td>\n",
       "      <td>True</td>\n",
       "    </tr>\n",
       "  </tbody>\n",
       "</table>\n",
       "</div>"
      ],
      "text/plain": [
       "                ID  c_erosion  \\\n",
       "0  66-4559 L_x_000          1   \n",
       "0  66-4559 L_x_001          1   \n",
       "0  66-4559 L_x_002          1   \n",
       "0  66-4559 L_x_003          1   \n",
       "0  66-4559 L_x_004          1   \n",
       "0  66-4559 L_x_005          1   \n",
       "0  66-4559 L_x_006          1   \n",
       "0  66-4559 L_x_007          1   \n",
       "0  66-4559 L_x_008          1   \n",
       "0  66-4559 L_x_009          1   \n",
       "\n",
       "                                          image_path  is_valid_file  \n",
       "0  C:\\Users\\acer\\Desktop\\Data_2D\\data_x\\train\\66-...           True  \n",
       "0  C:\\Users\\acer\\Desktop\\Data_2D\\data_x\\train\\66-...           True  \n",
       "0  C:\\Users\\acer\\Desktop\\Data_2D\\data_x\\train\\66-...           True  \n",
       "0  C:\\Users\\acer\\Desktop\\Data_2D\\data_x\\train\\66-...           True  \n",
       "0  C:\\Users\\acer\\Desktop\\Data_2D\\data_x\\train\\66-...           True  \n",
       "0  C:\\Users\\acer\\Desktop\\Data_2D\\data_x\\train\\66-...           True  \n",
       "0  C:\\Users\\acer\\Desktop\\Data_2D\\data_x\\train\\66-...           True  \n",
       "0  C:\\Users\\acer\\Desktop\\Data_2D\\data_x\\train\\66-...           True  \n",
       "0  C:\\Users\\acer\\Desktop\\Data_2D\\data_x\\train\\66-...           True  \n",
       "0  C:\\Users\\acer\\Desktop\\Data_2D\\data_x\\train\\66-...           True  "
      ]
     },
     "execution_count": 8,
     "metadata": {},
     "output_type": "execute_result"
    }
   ],
   "source": [
    "import pandas as pd\n",
    "import os\n",
    "\n",
    "def check_valid_files(df, column_name='image_path'):\n",
    "    # Create a new column for validity\n",
    "    df['is_valid_file'] = df[column_name].apply(os.path.isfile)\n",
    "    \n",
    "    # Print summary\n",
    "    total = len(df)\n",
    "    valid = df['is_valid_file'].sum()\n",
    "    invalid = total - valid\n",
    "    \n",
    "    print(f\"Total files: {total}\")\n",
    "    print(f\"Valid files: {valid}\")\n",
    "    print(f\"Invalid files: {invalid}\")\n",
    "    \n",
    "    # If there are invalid files, you can get them like this:\n",
    "    if invalid > 0:\n",
    "        print(\"\\nInvalid files:\")\n",
    "        invalid_files = df[~df['is_valid_file']][column_name]\n",
    "        for file in invalid_files:\n",
    "            print(file)\n",
    "    \n",
    "    return df\n",
    "\n",
    "check_valid_file_df = check_valid_files(data_labels)\n",
    "\n",
    "# You can access the results in the DataFrame\n",
    "check_valid_file_df.head(10)"
   ]
  },
  {
   "cell_type": "code",
   "execution_count": 9,
   "metadata": {},
   "outputs": [
    {
     "data": {
      "text/html": [
       "<div>\n",
       "<style scoped>\n",
       "    .dataframe tbody tr th:only-of-type {\n",
       "        vertical-align: middle;\n",
       "    }\n",
       "\n",
       "    .dataframe tbody tr th {\n",
       "        vertical-align: top;\n",
       "    }\n",
       "\n",
       "    .dataframe thead th {\n",
       "        text-align: right;\n",
       "    }\n",
       "</style>\n",
       "<table border=\"1\" class=\"dataframe\">\n",
       "  <thead>\n",
       "    <tr style=\"text-align: right;\">\n",
       "      <th></th>\n",
       "      <th>ID</th>\n",
       "      <th>c_erosion</th>\n",
       "    </tr>\n",
       "  </thead>\n",
       "  <tbody>\n",
       "    <tr>\n",
       "      <th>0</th>\n",
       "      <td>63-17877 R_x_020</td>\n",
       "      <td>0</td>\n",
       "    </tr>\n",
       "    <tr>\n",
       "      <th>1</th>\n",
       "      <td>61-5586 R_x_196</td>\n",
       "      <td>0</td>\n",
       "    </tr>\n",
       "    <tr>\n",
       "      <th>2</th>\n",
       "      <td>63-17877 R_x_090</td>\n",
       "      <td>0</td>\n",
       "    </tr>\n",
       "    <tr>\n",
       "      <th>3</th>\n",
       "      <td>60-34373 L 2019_x_113</td>\n",
       "      <td>0</td>\n",
       "    </tr>\n",
       "    <tr>\n",
       "      <th>4</th>\n",
       "      <td>53-24700 R_x_092</td>\n",
       "      <td>0</td>\n",
       "    </tr>\n",
       "  </tbody>\n",
       "</table>\n",
       "</div>"
      ],
      "text/plain": [
       "                      ID  c_erosion\n",
       "0       63-17877 R_x_020          0\n",
       "1        61-5586 R_x_196          0\n",
       "2       63-17877 R_x_090          0\n",
       "3  60-34373 L 2019_x_113          0\n",
       "4       53-24700 R_x_092          0"
      ]
     },
     "execution_count": 9,
     "metadata": {},
     "output_type": "execute_result"
    }
   ],
   "source": [
    "val_original_df = pd.read_csv(VAL_LABEL_PATH)\n",
    "val_c_erosion_label = val_original_df[['ID','c_erosion']]\n",
    "# Create the new DataFrame\n",
    "val_df = expand_dataframe(val_c_erosion_label)\n",
    "\n",
    "# Shuffle the validation data\n",
    "val_df = val_df.sample(frac=1, random_state=rand_seed).reset_index(drop=True)\n",
    "\n",
    "val_df.head()"
   ]
  },
  {
   "cell_type": "code",
   "execution_count": 10,
   "metadata": {},
   "outputs": [
    {
     "data": {
      "text/html": [
       "<div>\n",
       "<style scoped>\n",
       "    .dataframe tbody tr th:only-of-type {\n",
       "        vertical-align: middle;\n",
       "    }\n",
       "\n",
       "    .dataframe tbody tr th {\n",
       "        vertical-align: top;\n",
       "    }\n",
       "\n",
       "    .dataframe thead th {\n",
       "        text-align: right;\n",
       "    }\n",
       "</style>\n",
       "<table border=\"1\" class=\"dataframe\">\n",
       "  <thead>\n",
       "    <tr style=\"text-align: right;\">\n",
       "      <th></th>\n",
       "      <th>ID</th>\n",
       "      <th>c_erosion</th>\n",
       "      <th>image_path</th>\n",
       "    </tr>\n",
       "  </thead>\n",
       "  <tbody>\n",
       "    <tr>\n",
       "      <th>0</th>\n",
       "      <td>63-17877 R_x_020</td>\n",
       "      <td>0</td>\n",
       "      <td>C:\\Users\\acer\\Desktop\\Data_2D\\data_x\\validatio...</td>\n",
       "    </tr>\n",
       "    <tr>\n",
       "      <th>1</th>\n",
       "      <td>61-5586 R_x_196</td>\n",
       "      <td>0</td>\n",
       "      <td>C:\\Users\\acer\\Desktop\\Data_2D\\data_x\\validatio...</td>\n",
       "    </tr>\n",
       "    <tr>\n",
       "      <th>2</th>\n",
       "      <td>63-17877 R_x_090</td>\n",
       "      <td>0</td>\n",
       "      <td>C:\\Users\\acer\\Desktop\\Data_2D\\data_x\\validatio...</td>\n",
       "    </tr>\n",
       "    <tr>\n",
       "      <th>3</th>\n",
       "      <td>60-34373 L 2019_x_113</td>\n",
       "      <td>0</td>\n",
       "      <td>C:\\Users\\acer\\Desktop\\Data_2D\\data_x\\validatio...</td>\n",
       "    </tr>\n",
       "    <tr>\n",
       "      <th>4</th>\n",
       "      <td>53-24700 R_x_092</td>\n",
       "      <td>0</td>\n",
       "      <td>C:\\Users\\acer\\Desktop\\Data_2D\\data_x\\validatio...</td>\n",
       "    </tr>\n",
       "  </tbody>\n",
       "</table>\n",
       "</div>"
      ],
      "text/plain": [
       "                      ID  c_erosion  \\\n",
       "0       63-17877 R_x_020          0   \n",
       "1        61-5586 R_x_196          0   \n",
       "2       63-17877 R_x_090          0   \n",
       "3  60-34373 L 2019_x_113          0   \n",
       "4       53-24700 R_x_092          0   \n",
       "\n",
       "                                          image_path  \n",
       "0  C:\\Users\\acer\\Desktop\\Data_2D\\data_x\\validatio...  \n",
       "1  C:\\Users\\acer\\Desktop\\Data_2D\\data_x\\validatio...  \n",
       "2  C:\\Users\\acer\\Desktop\\Data_2D\\data_x\\validatio...  \n",
       "3  C:\\Users\\acer\\Desktop\\Data_2D\\data_x\\validatio...  \n",
       "4  C:\\Users\\acer\\Desktop\\Data_2D\\data_x\\validatio...  "
      ]
     },
     "execution_count": 10,
     "metadata": {},
     "output_type": "execute_result"
    }
   ],
   "source": [
    "val_labels = val_df[['ID','c_erosion']]\n",
    "target_val_labels = val_labels['c_erosion']\n",
    "val_labels['image_path'] =  val_labels.apply(lambda row: (os.path.join(VAL_PATH, str(row['ID'])) + '.jpg'), axis=1)\n",
    "val_labels.head()"
   ]
  },
  {
   "cell_type": "code",
   "execution_count": 11,
   "metadata": {},
   "outputs": [
    {
     "name": "stdout",
     "output_type": "stream",
     "text": [
      "Total files: 12096\n",
      "Valid files: 12096\n",
      "Invalid files: 0\n"
     ]
    },
    {
     "data": {
      "text/html": [
       "<div>\n",
       "<style scoped>\n",
       "    .dataframe tbody tr th:only-of-type {\n",
       "        vertical-align: middle;\n",
       "    }\n",
       "\n",
       "    .dataframe tbody tr th {\n",
       "        vertical-align: top;\n",
       "    }\n",
       "\n",
       "    .dataframe thead th {\n",
       "        text-align: right;\n",
       "    }\n",
       "</style>\n",
       "<table border=\"1\" class=\"dataframe\">\n",
       "  <thead>\n",
       "    <tr style=\"text-align: right;\">\n",
       "      <th></th>\n",
       "      <th>ID</th>\n",
       "      <th>c_erosion</th>\n",
       "      <th>image_path</th>\n",
       "      <th>is_valid_file</th>\n",
       "    </tr>\n",
       "  </thead>\n",
       "  <tbody>\n",
       "    <tr>\n",
       "      <th>0</th>\n",
       "      <td>63-17877 R_x_020</td>\n",
       "      <td>0</td>\n",
       "      <td>C:\\Users\\acer\\Desktop\\Data_2D\\data_x\\validatio...</td>\n",
       "      <td>True</td>\n",
       "    </tr>\n",
       "    <tr>\n",
       "      <th>1</th>\n",
       "      <td>61-5586 R_x_196</td>\n",
       "      <td>0</td>\n",
       "      <td>C:\\Users\\acer\\Desktop\\Data_2D\\data_x\\validatio...</td>\n",
       "      <td>True</td>\n",
       "    </tr>\n",
       "    <tr>\n",
       "      <th>2</th>\n",
       "      <td>63-17877 R_x_090</td>\n",
       "      <td>0</td>\n",
       "      <td>C:\\Users\\acer\\Desktop\\Data_2D\\data_x\\validatio...</td>\n",
       "      <td>True</td>\n",
       "    </tr>\n",
       "    <tr>\n",
       "      <th>3</th>\n",
       "      <td>60-34373 L 2019_x_113</td>\n",
       "      <td>0</td>\n",
       "      <td>C:\\Users\\acer\\Desktop\\Data_2D\\data_x\\validatio...</td>\n",
       "      <td>True</td>\n",
       "    </tr>\n",
       "    <tr>\n",
       "      <th>4</th>\n",
       "      <td>53-24700 R_x_092</td>\n",
       "      <td>0</td>\n",
       "      <td>C:\\Users\\acer\\Desktop\\Data_2D\\data_x\\validatio...</td>\n",
       "      <td>True</td>\n",
       "    </tr>\n",
       "  </tbody>\n",
       "</table>\n",
       "</div>"
      ],
      "text/plain": [
       "                      ID  c_erosion  \\\n",
       "0       63-17877 R_x_020          0   \n",
       "1        61-5586 R_x_196          0   \n",
       "2       63-17877 R_x_090          0   \n",
       "3  60-34373 L 2019_x_113          0   \n",
       "4       53-24700 R_x_092          0   \n",
       "\n",
       "                                          image_path  is_valid_file  \n",
       "0  C:\\Users\\acer\\Desktop\\Data_2D\\data_x\\validatio...           True  \n",
       "1  C:\\Users\\acer\\Desktop\\Data_2D\\data_x\\validatio...           True  \n",
       "2  C:\\Users\\acer\\Desktop\\Data_2D\\data_x\\validatio...           True  \n",
       "3  C:\\Users\\acer\\Desktop\\Data_2D\\data_x\\validatio...           True  \n",
       "4  C:\\Users\\acer\\Desktop\\Data_2D\\data_x\\validatio...           True  "
      ]
     },
     "execution_count": 11,
     "metadata": {},
     "output_type": "execute_result"
    }
   ],
   "source": [
    "check_valid_file_df = check_valid_files(val_labels)\n",
    "check_valid_file_df.head()"
   ]
  },
  {
   "cell_type": "code",
   "execution_count": 12,
   "metadata": {},
   "outputs": [],
   "source": [
    "train_data_size = 2240\n",
    "validation_data_size = 200"
   ]
  },
  {
   "cell_type": "code",
   "execution_count": 13,
   "metadata": {},
   "outputs": [],
   "source": [
    "train_data = np.array([img_to_array(load_img(img, target_size=IMG_DIM))\n",
    "                       for img in data_labels['image_path'][0:train_data_size].values.tolist()]).astype('float32')"
   ]
  },
  {
   "cell_type": "code",
   "execution_count": 14,
   "metadata": {},
   "outputs": [],
   "source": [
    "val_data = np.array([img_to_array(load_img(img, target_size=IMG_DIM))\n",
    "                       for img in val_labels['image_path'][0:validation_data_size].values.tolist()]).astype('float32')"
   ]
  },
  {
   "cell_type": "code",
   "execution_count": 15,
   "metadata": {},
   "outputs": [
    {
     "name": "stdout",
     "output_type": "stream",
     "text": [
      "Training Dataset Size: (2240, 224, 224, 3)\n",
      "Validation Dataset Size: (200, 224, 224, 3)\n"
     ]
    }
   ],
   "source": [
    "print('Training Dataset Size:', train_data.shape)\n",
    "print('Validation Dataset Size:', val_data.shape)"
   ]
  },
  {
   "cell_type": "markdown",
   "metadata": {},
   "source": [
    "## Prepare for Transfer Learning"
   ]
  },
  {
   "cell_type": "code",
   "execution_count": 16,
   "metadata": {},
   "outputs": [],
   "source": [
    "prep_in = tf.keras.applications.efficientnet.preprocess_input"
   ]
  },
  {
   "cell_type": "code",
   "execution_count": 17,
   "metadata": {},
   "outputs": [],
   "source": [
    "x_train_new = train_data.astype('int')\n",
    "x_val_new = val_data.astype('int')"
   ]
  },
  {
   "cell_type": "code",
   "execution_count": 18,
   "metadata": {},
   "outputs": [],
   "source": [
    "x_train_in = prep_in(x_train_new)\n",
    "x_val_in = prep_in(x_val_new)"
   ]
  },
  {
   "cell_type": "code",
   "execution_count": 19,
   "metadata": {},
   "outputs": [],
   "source": [
    "train_labels_enc = target_labels[0:train_data_size].to_numpy()\n",
    "val_labels_enc = target_val_labels[0:validation_data_size].to_numpy()"
   ]
  },
  {
   "cell_type": "code",
   "execution_count": 20,
   "metadata": {},
   "outputs": [],
   "source": [
    "# Get the VGG16 model so we can do transfer learning\n",
    "base_model = tf.keras.applications.EfficientNetB5(input_shape=INPUT_SHAPE, include_top=False, weights='imagenet')"
   ]
  },
  {
   "cell_type": "code",
   "execution_count": 21,
   "metadata": {},
   "outputs": [
    {
     "name": "stdout",
     "output_type": "stream",
     "text": [
      "Number of layers in the base model:  577\n"
     ]
    }
   ],
   "source": [
    "print('Number of layers in the base model: ', len(base_model.layers))"
   ]
  },
  {
   "cell_type": "code",
   "execution_count": 22,
   "metadata": {},
   "outputs": [
    {
     "data": {
      "text/html": [
       "<div>\n",
       "<style scoped>\n",
       "    .dataframe tbody tr th:only-of-type {\n",
       "        vertical-align: middle;\n",
       "    }\n",
       "\n",
       "    .dataframe tbody tr th {\n",
       "        vertical-align: top;\n",
       "    }\n",
       "\n",
       "    .dataframe thead th {\n",
       "        text-align: right;\n",
       "    }\n",
       "</style>\n",
       "<table border=\"1\" class=\"dataframe\">\n",
       "  <thead>\n",
       "    <tr style=\"text-align: right;\">\n",
       "      <th></th>\n",
       "      <th>Layer Type</th>\n",
       "      <th>Layer Name</th>\n",
       "      <th>Layer Trainable</th>\n",
       "    </tr>\n",
       "  </thead>\n",
       "  <tbody>\n",
       "    <tr>\n",
       "      <th>0</th>\n",
       "      <td>&lt;keras.engine.input_layer.InputLayer object at 0x0000020D6E4BA760&gt;</td>\n",
       "      <td>input_1</td>\n",
       "      <td>True</td>\n",
       "    </tr>\n",
       "    <tr>\n",
       "      <th>1</th>\n",
       "      <td>&lt;keras.layers.preprocessing.image_preprocessing.Rescaling object at 0x0000020D6E4EEC40&gt;</td>\n",
       "      <td>rescaling</td>\n",
       "      <td>True</td>\n",
       "    </tr>\n",
       "    <tr>\n",
       "      <th>2</th>\n",
       "      <td>&lt;keras.layers.preprocessing.normalization.Normalization object at 0x0000020D6E4EE5E0&gt;</td>\n",
       "      <td>normalization</td>\n",
       "      <td>True</td>\n",
       "    </tr>\n",
       "    <tr>\n",
       "      <th>3</th>\n",
       "      <td>&lt;keras.layers.core.tf_op_layer.TFOpLambda object at 0x0000020D6B8B3370&gt;</td>\n",
       "      <td>tf.math.truediv</td>\n",
       "      <td>True</td>\n",
       "    </tr>\n",
       "    <tr>\n",
       "      <th>4</th>\n",
       "      <td>&lt;keras.layers.reshaping.zero_padding2d.ZeroPadding2D object at 0x0000020D6B8B36A0&gt;</td>\n",
       "      <td>stem_conv_pad</td>\n",
       "      <td>True</td>\n",
       "    </tr>\n",
       "    <tr>\n",
       "      <th>...</th>\n",
       "      <td>...</td>\n",
       "      <td>...</td>\n",
       "      <td>...</td>\n",
       "    </tr>\n",
       "    <tr>\n",
       "      <th>572</th>\n",
       "      <td>&lt;keras.layers.regularization.dropout.Dropout object at 0x0000020D6FA2FB50&gt;</td>\n",
       "      <td>block7c_drop</td>\n",
       "      <td>True</td>\n",
       "    </tr>\n",
       "    <tr>\n",
       "      <th>573</th>\n",
       "      <td>&lt;keras.layers.merging.add.Add object at 0x0000020D6FA2FAF0&gt;</td>\n",
       "      <td>block7c_add</td>\n",
       "      <td>True</td>\n",
       "    </tr>\n",
       "    <tr>\n",
       "      <th>574</th>\n",
       "      <td>&lt;keras.layers.convolutional.conv2d.Conv2D object at 0x0000020D7261E880&gt;</td>\n",
       "      <td>top_conv</td>\n",
       "      <td>True</td>\n",
       "    </tr>\n",
       "    <tr>\n",
       "      <th>575</th>\n",
       "      <td>&lt;keras.layers.normalization.batch_normalization.BatchNormalization object at 0x0000020D6FA38190&gt;</td>\n",
       "      <td>top_bn</td>\n",
       "      <td>True</td>\n",
       "    </tr>\n",
       "    <tr>\n",
       "      <th>576</th>\n",
       "      <td>&lt;keras.layers.core.activation.Activation object at 0x0000020D6FA38EE0&gt;</td>\n",
       "      <td>top_activation</td>\n",
       "      <td>True</td>\n",
       "    </tr>\n",
       "  </tbody>\n",
       "</table>\n",
       "<p>577 rows × 3 columns</p>\n",
       "</div>"
      ],
      "text/plain": [
       "                                                                                           Layer Type  \\\n",
       "0                                  <keras.engine.input_layer.InputLayer object at 0x0000020D6E4BA760>   \n",
       "1             <keras.layers.preprocessing.image_preprocessing.Rescaling object at 0x0000020D6E4EEC40>   \n",
       "2               <keras.layers.preprocessing.normalization.Normalization object at 0x0000020D6E4EE5E0>   \n",
       "3                             <keras.layers.core.tf_op_layer.TFOpLambda object at 0x0000020D6B8B3370>   \n",
       "4                  <keras.layers.reshaping.zero_padding2d.ZeroPadding2D object at 0x0000020D6B8B36A0>   \n",
       "..                                                                                                ...   \n",
       "572                        <keras.layers.regularization.dropout.Dropout object at 0x0000020D6FA2FB50>   \n",
       "573                                       <keras.layers.merging.add.Add object at 0x0000020D6FA2FAF0>   \n",
       "574                           <keras.layers.convolutional.conv2d.Conv2D object at 0x0000020D7261E880>   \n",
       "575  <keras.layers.normalization.batch_normalization.BatchNormalization object at 0x0000020D6FA38190>   \n",
       "576                            <keras.layers.core.activation.Activation object at 0x0000020D6FA38EE0>   \n",
       "\n",
       "          Layer Name  Layer Trainable  \n",
       "0            input_1             True  \n",
       "1          rescaling             True  \n",
       "2      normalization             True  \n",
       "3    tf.math.truediv             True  \n",
       "4      stem_conv_pad             True  \n",
       "..               ...              ...  \n",
       "572     block7c_drop             True  \n",
       "573      block7c_add             True  \n",
       "574         top_conv             True  \n",
       "575           top_bn             True  \n",
       "576   top_activation             True  \n",
       "\n",
       "[577 rows x 3 columns]"
      ]
     },
     "execution_count": 22,
     "metadata": {},
     "output_type": "execute_result"
    }
   ],
   "source": [
    "pd.set_option('max_colwidth', None)\n",
    "layers = [(layer, layer.name, layer.trainable) for layer in base_model.layers]\n",
    "pd.DataFrame(layers, columns=['Layer Type', 'Layer Name', 'Layer Trainable'])"
   ]
  },
  {
   "cell_type": "markdown",
   "metadata": {},
   "source": [
    "## Slapping AvgPool > 1024_Dense > 512_Dense > 1_output on top of the EfficientNet"
   ]
  },
  {
   "cell_type": "code",
   "execution_count": 23,
   "metadata": {},
   "outputs": [
    {
     "data": {
      "text/html": [
       "<div>\n",
       "<style scoped>\n",
       "    .dataframe tbody tr th:only-of-type {\n",
       "        vertical-align: middle;\n",
       "    }\n",
       "\n",
       "    .dataframe tbody tr th {\n",
       "        vertical-align: top;\n",
       "    }\n",
       "\n",
       "    .dataframe thead th {\n",
       "        text-align: right;\n",
       "    }\n",
       "</style>\n",
       "<table border=\"1\" class=\"dataframe\">\n",
       "  <thead>\n",
       "    <tr style=\"text-align: right;\">\n",
       "      <th></th>\n",
       "      <th>Layer Type</th>\n",
       "      <th>Layer Name</th>\n",
       "      <th>Layer Trainable</th>\n",
       "    </tr>\n",
       "  </thead>\n",
       "  <tbody>\n",
       "    <tr>\n",
       "      <th>0</th>\n",
       "      <td>&lt;keras.layers.core.activation.Activation object at 0x0000020D725EF370&gt;</td>\n",
       "      <td>block1a_activation</td>\n",
       "      <td>False</td>\n",
       "    </tr>\n",
       "    <tr>\n",
       "      <th>1</th>\n",
       "      <td>&lt;keras.layers.pooling.global_average_pooling2d.GlobalAveragePooling2D object at 0x0000020D725EB940&gt;</td>\n",
       "      <td>block1a_se_squeeze</td>\n",
       "      <td>False</td>\n",
       "    </tr>\n",
       "    <tr>\n",
       "      <th>2</th>\n",
       "      <td>&lt;keras.layers.reshaping.reshape.Reshape object at 0x0000020D6EFC5430&gt;</td>\n",
       "      <td>block1a_se_reshape</td>\n",
       "      <td>False</td>\n",
       "    </tr>\n",
       "    <tr>\n",
       "      <th>3</th>\n",
       "      <td>&lt;keras.layers.convolutional.conv2d.Conv2D object at 0x0000020D6EFC7580&gt;</td>\n",
       "      <td>block1a_se_reduce</td>\n",
       "      <td>False</td>\n",
       "    </tr>\n",
       "    <tr>\n",
       "      <th>4</th>\n",
       "      <td>&lt;keras.layers.convolutional.conv2d.Conv2D object at 0x0000020D6EFC72E0&gt;</td>\n",
       "      <td>block1a_se_expand</td>\n",
       "      <td>False</td>\n",
       "    </tr>\n",
       "    <tr>\n",
       "      <th>...</th>\n",
       "      <td>...</td>\n",
       "      <td>...</td>\n",
       "      <td>...</td>\n",
       "    </tr>\n",
       "    <tr>\n",
       "      <th>562</th>\n",
       "      <td>&lt;keras.layers.regularization.dropout.Dropout object at 0x0000020D6FA2FB50&gt;</td>\n",
       "      <td>block7c_drop</td>\n",
       "      <td>False</td>\n",
       "    </tr>\n",
       "    <tr>\n",
       "      <th>563</th>\n",
       "      <td>&lt;keras.layers.merging.add.Add object at 0x0000020D6FA2FAF0&gt;</td>\n",
       "      <td>block7c_add</td>\n",
       "      <td>False</td>\n",
       "    </tr>\n",
       "    <tr>\n",
       "      <th>564</th>\n",
       "      <td>&lt;keras.layers.convolutional.conv2d.Conv2D object at 0x0000020D7261E880&gt;</td>\n",
       "      <td>top_conv</td>\n",
       "      <td>False</td>\n",
       "    </tr>\n",
       "    <tr>\n",
       "      <th>565</th>\n",
       "      <td>&lt;keras.layers.normalization.batch_normalization.BatchNormalization object at 0x0000020D6FA38190&gt;</td>\n",
       "      <td>top_bn</td>\n",
       "      <td>False</td>\n",
       "    </tr>\n",
       "    <tr>\n",
       "      <th>566</th>\n",
       "      <td>&lt;keras.layers.core.activation.Activation object at 0x0000020D6FA38EE0&gt;</td>\n",
       "      <td>top_activation</td>\n",
       "      <td>False</td>\n",
       "    </tr>\n",
       "  </tbody>\n",
       "</table>\n",
       "<p>567 rows × 3 columns</p>\n",
       "</div>"
      ],
      "text/plain": [
       "                                                                                              Layer Type  \\\n",
       "0                                 <keras.layers.core.activation.Activation object at 0x0000020D725EF370>   \n",
       "1    <keras.layers.pooling.global_average_pooling2d.GlobalAveragePooling2D object at 0x0000020D725EB940>   \n",
       "2                                  <keras.layers.reshaping.reshape.Reshape object at 0x0000020D6EFC5430>   \n",
       "3                                <keras.layers.convolutional.conv2d.Conv2D object at 0x0000020D6EFC7580>   \n",
       "4                                <keras.layers.convolutional.conv2d.Conv2D object at 0x0000020D6EFC72E0>   \n",
       "..                                                                                                   ...   \n",
       "562                           <keras.layers.regularization.dropout.Dropout object at 0x0000020D6FA2FB50>   \n",
       "563                                          <keras.layers.merging.add.Add object at 0x0000020D6FA2FAF0>   \n",
       "564                              <keras.layers.convolutional.conv2d.Conv2D object at 0x0000020D7261E880>   \n",
       "565     <keras.layers.normalization.batch_normalization.BatchNormalization object at 0x0000020D6FA38190>   \n",
       "566                               <keras.layers.core.activation.Activation object at 0x0000020D6FA38EE0>   \n",
       "\n",
       "             Layer Name  Layer Trainable  \n",
       "0    block1a_activation            False  \n",
       "1    block1a_se_squeeze            False  \n",
       "2    block1a_se_reshape            False  \n",
       "3     block1a_se_reduce            False  \n",
       "4     block1a_se_expand            False  \n",
       "..                  ...              ...  \n",
       "562        block7c_drop            False  \n",
       "563         block7c_add            False  \n",
       "564            top_conv            False  \n",
       "565              top_bn            False  \n",
       "566      top_activation            False  \n",
       "\n",
       "[567 rows x 3 columns]"
      ]
     },
     "execution_count": 23,
     "metadata": {},
     "output_type": "execute_result"
    }
   ],
   "source": [
    "base_model.trainable = False\n",
    "\n",
    "pd.set_option('max_colwidth', None)\n",
    "layers = [(layer, layer.name, layer.trainable) for layer in base_model.layers[10:]]\n",
    "pd.DataFrame(layers, columns=['Layer Type', 'Layer Name', 'Layer Trainable'])"
   ]
  },
  {
   "cell_type": "code",
   "execution_count": 24,
   "metadata": {},
   "outputs": [],
   "source": [
    "fig_train = 'EfficientNetB5_A_FE_train_224'\n",
    "log_file = os.path.join(results_dir, 'EfficientNetB5_A_FE_train_224.csv')\n",
    "model_path = os.path.join(models_dir, 'EfficientNetB5_A_FE_224.h5')"
   ]
  },
  {
   "cell_type": "code",
   "execution_count": 25,
   "metadata": {},
   "outputs": [],
   "source": [
    "# Create a new model on top\n",
    "\n",
    "inputs = tf.keras.Input(shape=INPUT_SHAPE)\n",
    "# We make sure that the base_model is running in inference mode here,\n",
    "# by passing 'training=False'. This is important for fine-tuning\n",
    "x = base_model(inputs, training=False)\n",
    "\n",
    "x = GlobalAveragePooling2D()(x)\n",
    "x = Dense(1024, activation='relu')(x)\n",
    "x = Dense(512, activation='relu')(x)\n",
    "\n",
    "# A Dense classifier with a single unit (binary classification)\n",
    "outputs = Dense(1, activation='sigmoid')(x)\n",
    "model = Model(inputs, outputs)"
   ]
  },
  {
   "cell_type": "code",
   "execution_count": 26,
   "metadata": {},
   "outputs": [
    {
     "data": {
      "text/html": [
       "<div>\n",
       "<style scoped>\n",
       "    .dataframe tbody tr th:only-of-type {\n",
       "        vertical-align: middle;\n",
       "    }\n",
       "\n",
       "    .dataframe tbody tr th {\n",
       "        vertical-align: top;\n",
       "    }\n",
       "\n",
       "    .dataframe thead th {\n",
       "        text-align: right;\n",
       "    }\n",
       "</style>\n",
       "<table border=\"1\" class=\"dataframe\">\n",
       "  <thead>\n",
       "    <tr style=\"text-align: right;\">\n",
       "      <th></th>\n",
       "      <th>Layer Type</th>\n",
       "      <th>Layer Name</th>\n",
       "      <th>Layer Trainable</th>\n",
       "    </tr>\n",
       "  </thead>\n",
       "  <tbody>\n",
       "    <tr>\n",
       "      <th>0</th>\n",
       "      <td>&lt;keras.engine.input_layer.InputLayer object at 0x0000020D6FADA5E0&gt;</td>\n",
       "      <td>input_2</td>\n",
       "      <td>True</td>\n",
       "    </tr>\n",
       "    <tr>\n",
       "      <th>1</th>\n",
       "      <td>&lt;keras.engine.functional.Functional object at 0x0000020D6FA2FEB0&gt;</td>\n",
       "      <td>efficientnetb5</td>\n",
       "      <td>False</td>\n",
       "    </tr>\n",
       "    <tr>\n",
       "      <th>2</th>\n",
       "      <td>&lt;keras.layers.pooling.global_average_pooling2d.GlobalAveragePooling2D object at 0x0000020D721D47F0&gt;</td>\n",
       "      <td>global_average_pooling2d</td>\n",
       "      <td>True</td>\n",
       "    </tr>\n",
       "    <tr>\n",
       "      <th>3</th>\n",
       "      <td>&lt;keras.layers.core.dense.Dense object at 0x0000020D721D7A60&gt;</td>\n",
       "      <td>dense</td>\n",
       "      <td>True</td>\n",
       "    </tr>\n",
       "    <tr>\n",
       "      <th>4</th>\n",
       "      <td>&lt;keras.layers.core.dense.Dense object at 0x0000020D6FA2F820&gt;</td>\n",
       "      <td>dense_1</td>\n",
       "      <td>True</td>\n",
       "    </tr>\n",
       "    <tr>\n",
       "      <th>5</th>\n",
       "      <td>&lt;keras.layers.core.dense.Dense object at 0x0000020D70566400&gt;</td>\n",
       "      <td>dense_2</td>\n",
       "      <td>True</td>\n",
       "    </tr>\n",
       "  </tbody>\n",
       "</table>\n",
       "</div>"
      ],
      "text/plain": [
       "                                                                                            Layer Type  \\\n",
       "0                                   <keras.engine.input_layer.InputLayer object at 0x0000020D6FADA5E0>   \n",
       "1                                    <keras.engine.functional.Functional object at 0x0000020D6FA2FEB0>   \n",
       "2  <keras.layers.pooling.global_average_pooling2d.GlobalAveragePooling2D object at 0x0000020D721D47F0>   \n",
       "3                                         <keras.layers.core.dense.Dense object at 0x0000020D721D7A60>   \n",
       "4                                         <keras.layers.core.dense.Dense object at 0x0000020D6FA2F820>   \n",
       "5                                         <keras.layers.core.dense.Dense object at 0x0000020D70566400>   \n",
       "\n",
       "                 Layer Name  Layer Trainable  \n",
       "0                   input_2             True  \n",
       "1            efficientnetb5            False  \n",
       "2  global_average_pooling2d             True  \n",
       "3                     dense             True  \n",
       "4                   dense_1             True  \n",
       "5                   dense_2             True  "
      ]
     },
     "execution_count": 26,
     "metadata": {},
     "output_type": "execute_result"
    }
   ],
   "source": [
    "pd.set_option('max_colwidth', None)\n",
    "layers = [(layer, layer.name, layer.trainable) for layer in model.layers]\n",
    "pd.DataFrame(layers, columns=['Layer Type', 'Layer Name', 'Layer Trainable'])"
   ]
  },
  {
   "cell_type": "code",
   "execution_count": 27,
   "metadata": {},
   "outputs": [
    {
     "name": "stdout",
     "output_type": "stream",
     "text": [
      "Model: \"model\"\n",
      "_________________________________________________________________\n",
      " Layer (type)                Output Shape              Param #   \n",
      "=================================================================\n",
      " input_2 (InputLayer)        [(None, 224, 224, 3)]     0         \n",
      "                                                                 \n",
      " efficientnetb5 (Functional)  (None, 7, 7, 2048)       28513527  \n",
      "                                                                 \n",
      " global_average_pooling2d (G  (None, 2048)             0         \n",
      " lobalAveragePooling2D)                                          \n",
      "                                                                 \n",
      " dense (Dense)               (None, 1024)              2098176   \n",
      "                                                                 \n",
      " dense_1 (Dense)             (None, 512)               524800    \n",
      "                                                                 \n",
      " dense_2 (Dense)             (None, 1)                 513       \n",
      "                                                                 \n",
      "=================================================================\n",
      "Total params: 31,137,016\n",
      "Trainable params: 2,623,489\n",
      "Non-trainable params: 28,513,527\n",
      "_________________________________________________________________\n"
     ]
    }
   ],
   "source": [
    "model.summary()"
   ]
  },
  {
   "cell_type": "code",
   "execution_count": 28,
   "metadata": {},
   "outputs": [],
   "source": [
    "callbacks = [\n",
    "    CSVLogger(log_file),\n",
    "    ModelCheckpoint(\n",
    "        filepath=os.path.join(models_dir,\"Eff-epoch-{epoch:02d}.h5\"),\n",
    "        save_weights_only=False,\n",
    "        save_best_only=False,\n",
    "        save_freq='epoch',\n",
    "        verbose=1\n",
    "    )\n",
    "]"
   ]
  },
  {
   "cell_type": "code",
   "execution_count": 29,
   "metadata": {},
   "outputs": [
    {
     "name": "stderr",
     "output_type": "stream",
     "text": [
      "c:\\Users\\acer\\anaconda3\\envs\\example2D\\lib\\site-packages\\keras\\optimizers\\optimizer_v2\\rmsprop.py:135: UserWarning: The `lr` argument is deprecated, use `learning_rate` instead.\n",
      "  super(RMSprop, self).__init__(name, **kwargs)\n"
     ]
    }
   ],
   "source": [
    "model.compile(loss=keras.losses.BinaryCrossentropy(from_logits=True),\n",
    "              optimizer= keras.optimizers.RMSprop(lr=1e-3),\n",
    "              metrics = [keras.metrics.BinaryAccuracy()])"
   ]
  },
  {
   "cell_type": "code",
   "execution_count": 30,
   "metadata": {},
   "outputs": [
    {
     "name": "stdout",
     "output_type": "stream",
     "text": [
      "Epoch 1/20\n"
     ]
    },
    {
     "name": "stderr",
     "output_type": "stream",
     "text": [
      "c:\\Users\\acer\\anaconda3\\envs\\example2D\\lib\\site-packages\\tensorflow\\python\\util\\dispatch.py:1082: UserWarning: \"`binary_crossentropy` received `from_logits=True`, but the `output` argument was produced by a sigmoid or softmax activation and thus does not represent logits. Was this intended?\"\n",
      "  return dispatch_target(*args, **kwargs)\n"
     ]
    },
    {
     "name": "stdout",
     "output_type": "stream",
     "text": [
      "70/70 [==============================] - ETA: 0s - loss: 0.5044 - binary_accuracy: 0.7536\n",
      "Epoch 1: saving model to C:\\Users\\acer\\Desktop\\Data_2D\\data_x\\models\\EfficientNet-B5\\Eff-epoch-01.h5\n",
      "70/70 [==============================] - 189s 3s/step - loss: 0.5044 - binary_accuracy: 0.7536 - val_loss: 0.9620 - val_binary_accuracy: 0.6050\n",
      "Epoch 2/20\n",
      "70/70 [==============================] - ETA: 0s - loss: 0.2952 - binary_accuracy: 0.8451\n",
      "Epoch 2: saving model to C:\\Users\\acer\\Desktop\\Data_2D\\data_x\\models\\EfficientNet-B5\\Eff-epoch-02.h5\n",
      "70/70 [==============================] - 178s 3s/step - loss: 0.2952 - binary_accuracy: 0.8451 - val_loss: 1.1558 - val_binary_accuracy: 0.6350\n",
      "Epoch 3/20\n",
      "70/70 [==============================] - ETA: 0s - loss: 0.2523 - binary_accuracy: 0.8598\n",
      "Epoch 3: saving model to C:\\Users\\acer\\Desktop\\Data_2D\\data_x\\models\\EfficientNet-B5\\Eff-epoch-03.h5\n",
      "70/70 [==============================] - 177s 3s/step - loss: 0.2523 - binary_accuracy: 0.8598 - val_loss: 1.3794 - val_binary_accuracy: 0.6400\n",
      "Epoch 4/20\n",
      "70/70 [==============================] - ETA: 0s - loss: 0.2436 - binary_accuracy: 0.8687\n",
      "Epoch 4: saving model to C:\\Users\\acer\\Desktop\\Data_2D\\data_x\\models\\EfficientNet-B5\\Eff-epoch-04.h5\n",
      "70/70 [==============================] - 183s 3s/step - loss: 0.2436 - binary_accuracy: 0.8687 - val_loss: 1.3941 - val_binary_accuracy: 0.6300\n",
      "Epoch 5/20\n",
      "70/70 [==============================] - ETA: 0s - loss: 0.2448 - binary_accuracy: 0.8741\n",
      "Epoch 5: saving model to C:\\Users\\acer\\Desktop\\Data_2D\\data_x\\models\\EfficientNet-B5\\Eff-epoch-05.h5\n",
      "70/70 [==============================] - 177s 3s/step - loss: 0.2448 - binary_accuracy: 0.8741 - val_loss: 1.6560 - val_binary_accuracy: 0.6350\n",
      "Epoch 6/20\n",
      "70/70 [==============================] - ETA: 0s - loss: 0.2335 - binary_accuracy: 0.8826\n",
      "Epoch 6: saving model to C:\\Users\\acer\\Desktop\\Data_2D\\data_x\\models\\EfficientNet-B5\\Eff-epoch-06.h5\n",
      "70/70 [==============================] - 183s 3s/step - loss: 0.2335 - binary_accuracy: 0.8826 - val_loss: 1.6412 - val_binary_accuracy: 0.6450\n",
      "Epoch 7/20\n",
      "70/70 [==============================] - ETA: 0s - loss: 0.2035 - binary_accuracy: 0.8862\n",
      "Epoch 7: saving model to C:\\Users\\acer\\Desktop\\Data_2D\\data_x\\models\\EfficientNet-B5\\Eff-epoch-07.h5\n",
      "70/70 [==============================] - 177s 3s/step - loss: 0.2035 - binary_accuracy: 0.8862 - val_loss: 1.7102 - val_binary_accuracy: 0.6300\n",
      "Epoch 8/20\n",
      "70/70 [==============================] - ETA: 0s - loss: 0.1981 - binary_accuracy: 0.8888\n",
      "Epoch 8: saving model to C:\\Users\\acer\\Desktop\\Data_2D\\data_x\\models\\EfficientNet-B5\\Eff-epoch-08.h5\n",
      "70/70 [==============================] - 178s 3s/step - loss: 0.1981 - binary_accuracy: 0.8888 - val_loss: 1.9352 - val_binary_accuracy: 0.6550\n",
      "Epoch 9/20\n",
      "70/70 [==============================] - ETA: 0s - loss: 0.2074 - binary_accuracy: 0.8897\n",
      "Epoch 9: saving model to C:\\Users\\acer\\Desktop\\Data_2D\\data_x\\models\\EfficientNet-B5\\Eff-epoch-09.h5\n",
      "70/70 [==============================] - 179s 3s/step - loss: 0.2074 - binary_accuracy: 0.8897 - val_loss: 1.9050 - val_binary_accuracy: 0.6450\n",
      "Epoch 10/20\n",
      "70/70 [==============================] - ETA: 0s - loss: 0.2079 - binary_accuracy: 0.8866\n",
      "Epoch 10: saving model to C:\\Users\\acer\\Desktop\\Data_2D\\data_x\\models\\EfficientNet-B5\\Eff-epoch-10.h5\n",
      "70/70 [==============================] - 183s 3s/step - loss: 0.2079 - binary_accuracy: 0.8866 - val_loss: 2.1656 - val_binary_accuracy: 0.6350\n",
      "Epoch 11/20\n",
      "70/70 [==============================] - ETA: 0s - loss: 0.1954 - binary_accuracy: 0.8906\n",
      "Epoch 11: saving model to C:\\Users\\acer\\Desktop\\Data_2D\\data_x\\models\\EfficientNet-B5\\Eff-epoch-11.h5\n",
      "70/70 [==============================] - 178s 3s/step - loss: 0.1954 - binary_accuracy: 0.8906 - val_loss: 2.2350 - val_binary_accuracy: 0.6550\n",
      "Epoch 12/20\n",
      "70/70 [==============================] - ETA: 0s - loss: 0.1883 - binary_accuracy: 0.8946\n",
      "Epoch 12: saving model to C:\\Users\\acer\\Desktop\\Data_2D\\data_x\\models\\EfficientNet-B5\\Eff-epoch-12.h5\n",
      "70/70 [==============================] - 184s 3s/step - loss: 0.1883 - binary_accuracy: 0.8946 - val_loss: 2.3201 - val_binary_accuracy: 0.6650\n",
      "Epoch 13/20\n",
      "70/70 [==============================] - ETA: 0s - loss: 0.2076 - binary_accuracy: 0.8938\n",
      "Epoch 13: saving model to C:\\Users\\acer\\Desktop\\Data_2D\\data_x\\models\\EfficientNet-B5\\Eff-epoch-13.h5\n",
      "70/70 [==============================] - 178s 3s/step - loss: 0.2076 - binary_accuracy: 0.8938 - val_loss: 2.2693 - val_binary_accuracy: 0.6400\n",
      "Epoch 14/20\n",
      "70/70 [==============================] - ETA: 0s - loss: 0.1878 - binary_accuracy: 0.8938\n",
      "Epoch 14: saving model to C:\\Users\\acer\\Desktop\\Data_2D\\data_x\\models\\EfficientNet-B5\\Eff-epoch-14.h5\n",
      "70/70 [==============================] - 185s 3s/step - loss: 0.1878 - binary_accuracy: 0.8938 - val_loss: 2.4483 - val_binary_accuracy: 0.6400\n",
      "Epoch 15/20\n",
      "70/70 [==============================] - ETA: 0s - loss: 0.1867 - binary_accuracy: 0.8955\n",
      "Epoch 15: saving model to C:\\Users\\acer\\Desktop\\Data_2D\\data_x\\models\\EfficientNet-B5\\Eff-epoch-15.h5\n",
      "70/70 [==============================] - 178s 3s/step - loss: 0.1867 - binary_accuracy: 0.8955 - val_loss: 2.8701 - val_binary_accuracy: 0.6550\n",
      "Epoch 16/20\n",
      "70/70 [==============================] - ETA: 0s - loss: 0.1984 - binary_accuracy: 0.8924\n",
      "Epoch 16: saving model to C:\\Users\\acer\\Desktop\\Data_2D\\data_x\\models\\EfficientNet-B5\\Eff-epoch-16.h5\n",
      "70/70 [==============================] - 179s 3s/step - loss: 0.1984 - binary_accuracy: 0.8924 - val_loss: 2.9833 - val_binary_accuracy: 0.6450\n",
      "Epoch 17/20\n",
      "70/70 [==============================] - ETA: 0s - loss: 0.1907 - binary_accuracy: 0.8893\n",
      "Epoch 17: saving model to C:\\Users\\acer\\Desktop\\Data_2D\\data_x\\models\\EfficientNet-B5\\Eff-epoch-17.h5\n",
      "70/70 [==============================] - 181s 3s/step - loss: 0.1907 - binary_accuracy: 0.8893 - val_loss: 2.6477 - val_binary_accuracy: 0.6500\n",
      "Epoch 18/20\n",
      "70/70 [==============================] - ETA: 0s - loss: 0.1872 - binary_accuracy: 0.8942\n",
      "Epoch 18: saving model to C:\\Users\\acer\\Desktop\\Data_2D\\data_x\\models\\EfficientNet-B5\\Eff-epoch-18.h5\n",
      "70/70 [==============================] - 179s 3s/step - loss: 0.1872 - binary_accuracy: 0.8942 - val_loss: 2.4430 - val_binary_accuracy: 0.6550\n",
      "Epoch 19/20\n",
      "70/70 [==============================] - ETA: 0s - loss: 0.1807 - binary_accuracy: 0.8978\n",
      "Epoch 19: saving model to C:\\Users\\acer\\Desktop\\Data_2D\\data_x\\models\\EfficientNet-B5\\Eff-epoch-19.h5\n",
      "70/70 [==============================] - 179s 3s/step - loss: 0.1807 - binary_accuracy: 0.8978 - val_loss: 2.7559 - val_binary_accuracy: 0.6600\n",
      "Epoch 20/20\n",
      "70/70 [==============================] - ETA: 0s - loss: 0.1967 - binary_accuracy: 0.8960\n",
      "Epoch 20: saving model to C:\\Users\\acer\\Desktop\\Data_2D\\data_x\\models\\EfficientNet-B5\\Eff-epoch-20.h5\n",
      "70/70 [==============================] - 178s 3s/step - loss: 0.1967 - binary_accuracy: 0.8960 - val_loss: 2.9747 - val_binary_accuracy: 0.6550\n"
     ]
    }
   ],
   "source": [
    "history = model.fit(x=x_train_in, \n",
    "                    y=train_labels_enc,\n",
    "                    validation_data=(x_val_in, val_labels_enc),\n",
    "                    epochs=EPOCH, \n",
    "                    verbose=1, \n",
    "                    callbacks=callbacks)"
   ]
  },
  {
   "cell_type": "code",
   "execution_count": 31,
   "metadata": {},
   "outputs": [
    {
     "data": {
      "text/plain": [
       "dict_keys(['loss', 'binary_accuracy', 'val_loss', 'val_binary_accuracy'])"
      ]
     },
     "execution_count": 31,
     "metadata": {},
     "output_type": "execute_result"
    }
   ],
   "source": [
    "history_dict = history.history\n",
    "history_dict.keys()"
   ]
  },
  {
   "cell_type": "code",
   "execution_count": 32,
   "metadata": {},
   "outputs": [],
   "source": [
    "epoch_list = list(range(1,EPOCH+1))\n",
    "y_train_acc = history.history['binary_accuracy']\n",
    "y_train_loss = history.history['loss']"
   ]
  },
  {
   "cell_type": "code",
   "execution_count": 33,
   "metadata": {},
   "outputs": [
    {
     "name": "stdout",
     "output_type": "stream",
     "text": [
      "[0.7535714507102966, 0.8450892567634583, 0.8598214387893677, 0.8687499761581421, 0.8741071224212646, 0.8825892806053162, 0.8861607313156128, 0.8888393044471741, 0.8897321224212646, 0.8866071701049805, 0.890625, 0.8946428298950195, 0.893750011920929, 0.893750011920929, 0.8955357074737549, 0.8924106955528259, 0.8892857432365417, 0.8941964507102966, 0.8977678418159485, 0.8959821462631226]\n"
     ]
    }
   ],
   "source": [
    "print(y_train_acc)"
   ]
  },
  {
   "cell_type": "code",
   "execution_count": 34,
   "metadata": {},
   "outputs": [
    {
     "name": "stdout",
     "output_type": "stream",
     "text": [
      "[0.5043524503707886, 0.2951582372188568, 0.2523457705974579, 0.24357308447360992, 0.24480023980140686, 0.2335074543952942, 0.20348107814788818, 0.19805607199668884, 0.20740440487861633, 0.20793087780475616, 0.19537465274333954, 0.1883123368024826, 0.2076093554496765, 0.18783624470233917, 0.18668022751808167, 0.19843189418315887, 0.19069421291351318, 0.18722878396511078, 0.18066027760505676, 0.19670090079307556]\n"
     ]
    }
   ],
   "source": [
    "print(y_train_loss)"
   ]
  }
 ],
 "metadata": {
  "kernelspec": {
   "display_name": "example2D",
   "language": "python",
   "name": "python3"
  },
  "language_info": {
   "codemirror_mode": {
    "name": "ipython",
    "version": 3
   },
   "file_extension": ".py",
   "mimetype": "text/x-python",
   "name": "python",
   "nbconvert_exporter": "python",
   "pygments_lexer": "ipython3",
   "version": "3.9.18"
  }
 },
 "nbformat": 4,
 "nbformat_minor": 2
}
