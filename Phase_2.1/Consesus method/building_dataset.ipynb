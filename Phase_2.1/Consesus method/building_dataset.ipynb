{
 "cells": [
  {
   "cell_type": "markdown",
   "metadata": {},
   "source": [
    "This dataset is based on data_x.zip on Dr. EKK computer (The version with train/validation/test built to be used with tf.keras.utils.image_dataset_from_directory function)"
   ]
  },
  {
   "cell_type": "markdown",
   "metadata": {},
   "source": [
    "source_folder = the validation set"
   ]
  },
  {
   "cell_type": "code",
   "execution_count": null,
   "metadata": {},
   "outputs": [],
   "source": [
    "import os\n",
    "import shutil\n",
    "import re\n",
    "\n",
    "def group_files_by_prefix(source_folder):\n",
    "    # Ensure the source folder exists\n",
    "    if not os.path.exists(source_folder):\n",
    "        print(f\"The folder {source_folder} does not exist.\")\n",
    "        return\n",
    "\n",
    "    # Get all .jpg files in the source folder\n",
    "    jpg_files = [f for f in os.listdir(source_folder) if f.lower().endswith('.jpg')]\n",
    "\n",
    "    # Group files by prefix\n",
    "    file_groups = {}\n",
    "    for file in jpg_files:\n",
    "        # Extract the prefix (everything before the first underscore)\n",
    "        match = re.match(r'^(.*?)_', file)\n",
    "        if match:\n",
    "            prefix = match.group(1)\n",
    "            if prefix not in file_groups:\n",
    "                file_groups[prefix] = []\n",
    "            file_groups[prefix].append(file)\n",
    "\n",
    "    # Create folders and move files\n",
    "    for prefix, files in file_groups.items():\n",
    "        # Create a new folder for this prefix\n",
    "        new_folder = os.path.join(source_folder, prefix)\n",
    "        os.makedirs(new_folder, exist_ok=True)\n",
    "\n",
    "        # Move all files with this prefix to the new folder\n",
    "        for file in files:\n",
    "            source_path = os.path.join(source_folder, file)\n",
    "            destination_path = os.path.join(new_folder, file)\n",
    "            shutil.move(source_path, destination_path)\n",
    "        \n",
    "        print(f\"Moved {len(files)} files to {new_folder}\")\n",
    "\n",
    "# Usage\n",
    "source_folder = \"/path/to/your/folder\"\n",
    "group_files_by_prefix(source_folder)"
   ]
  }
 ],
 "metadata": {
  "language_info": {
   "name": "python"
  }
 },
 "nbformat": 4,
 "nbformat_minor": 2
}
