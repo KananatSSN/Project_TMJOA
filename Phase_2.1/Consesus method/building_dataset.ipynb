{
 "cells": [
  {
   "cell_type": "markdown",
   "metadata": {},
   "source": [
    "This dataset is based on data_x.zip on Dr. EKK computer (The version with train/validation/test built to be used with tf.keras.utils.image_dataset_from_directory function)"
   ]
  },
  {
   "cell_type": "markdown",
   "metadata": {},
   "source": [
    "source_folder = the validation set"
   ]
  },
  {
   "cell_type": "code",
   "execution_count": 4,
   "metadata": {},
   "outputs": [
    {
     "name": "stdout",
     "output_type": "stream",
     "text": [
      "Moved 141 files to D:\\Drive D\\data_x\\test\\erosion_1\\48-5955 L\n",
      "Moved 166 files to D:\\Drive D\\data_x\\test\\erosion_1\\49-3614 L\n",
      "Moved 143 files to D:\\Drive D\\data_x\\test\\erosion_1\\51-26987 L\n",
      "Moved 134 files to D:\\Drive D\\data_x\\test\\erosion_1\\54-1411 R\n",
      "Moved 156 files to D:\\Drive D\\data_x\\test\\erosion_1\\57-12957 L\n",
      "Moved 148 files to D:\\Drive D\\data_x\\test\\erosion_1\\58-38918 L\n",
      "Moved 129 files to D:\\Drive D\\data_x\\test\\erosion_1\\59-14284 R\n",
      "Moved 128 files to D:\\Drive D\\data_x\\test\\erosion_1\\60-24908 L 2023\n",
      "Moved 146 files to D:\\Drive D\\data_x\\test\\erosion_1\\60-2918 L\n",
      "Moved 77 files to D:\\Drive D\\data_x\\test\\erosion_1\\60-33107 L\n",
      "Moved 119 files to D:\\Drive D\\data_x\\test\\erosion_1\\60-33107 R\n",
      "Moved 137 files to D:\\Drive D\\data_x\\test\\erosion_1\\60-33597 L 2017\n",
      "Moved 122 files to D:\\Drive D\\data_x\\test\\erosion_1\\60-34373 R 2017\n",
      "Moved 159 files to D:\\Drive D\\data_x\\test\\erosion_1\\60-4194 R\n",
      "Moved 128 files to D:\\Drive D\\data_x\\test\\erosion_1\\60-700919 R\n",
      "Moved 101 files to D:\\Drive D\\data_x\\test\\erosion_1\\60-9722 R\n",
      "Moved 109 files to D:\\Drive D\\data_x\\test\\erosion_1\\61-6974 L\n",
      "Moved 159 files to D:\\Drive D\\data_x\\test\\erosion_1\\62-2274 R 2019\n",
      "Moved 151 files to D:\\Drive D\\data_x\\test\\erosion_1\\62-24749 L\n",
      "Moved 108 files to D:\\Drive D\\data_x\\test\\erosion_1\\62-700605 R\n",
      "Moved 113 files to D:\\Drive D\\data_x\\test\\erosion_1\\62-7533 R 2020\n",
      "Moved 126 files to D:\\Drive D\\data_x\\test\\erosion_1\\62-8585 R\n",
      "Moved 161 files to D:\\Drive D\\data_x\\test\\erosion_1\\63-1330 L\n",
      "Moved 101 files to D:\\Drive D\\data_x\\test\\erosion_1\\63-17862 L\n",
      "Moved 130 files to D:\\Drive D\\data_x\\test\\erosion_1\\63-7894 R\n",
      "Moved 105 files to D:\\Drive D\\data_x\\test\\erosion_1\\64-7936 L\n",
      "Moved 142 files to D:\\Drive D\\data_x\\test\\erosion_1\\64-7980 L\n",
      "Moved 129 files to D:\\Drive D\\data_x\\test\\erosion_1\\65-23331 R\n",
      "Moved 106 files to D:\\Drive D\\data_x\\test\\erosion_1\\65-2425 L 2022 10 03\n",
      "Moved 81 files to D:\\Drive D\\data_x\\test\\erosion_1\\65-2425 L 2023\n",
      "Moved 189 files to D:\\Drive D\\data_x\\test\\erosion_1\\65-4998 L\n",
      "Moved 107 files to D:\\Drive D\\data_x\\test\\erosion_1\\66-21702 L\n",
      "Moved 109 files to D:\\Drive D\\data_x\\test\\erosion_1\\66-23248 R 2023 11 29\n",
      "Moved 137 files to D:\\Drive D\\data_x\\test\\erosion_1\\66-700404 R\n",
      "Moved 131 files to D:\\Drive D\\data_x\\test\\erosion_1\\66-700681 R\n"
     ]
    }
   ],
   "source": [
    "import os\n",
    "import shutil\n",
    "import re\n",
    "\n",
    "def group_files_by_prefix(source_folder):\n",
    "    # Ensure the source folder exists\n",
    "    if not os.path.exists(source_folder):\n",
    "        print(f\"The folder {source_folder} does not exist.\")\n",
    "        return\n",
    "\n",
    "    # Get all .jpg files in the source folder\n",
    "    jpg_files = [f for f in os.listdir(source_folder) if f.lower().endswith('.jpg')]\n",
    "\n",
    "    # Group files by prefix\n",
    "    file_groups = {}\n",
    "    for file in jpg_files:\n",
    "        # Extract the prefix (everything before the first underscore)\n",
    "        match = re.match(r'^(.*?)_', file)\n",
    "        if match:\n",
    "            prefix = match.group(1)\n",
    "            if prefix not in file_groups:\n",
    "                file_groups[prefix] = []\n",
    "            file_groups[prefix].append(file)\n",
    "\n",
    "    # Create folders and move files\n",
    "    for prefix, files in file_groups.items():\n",
    "        # Create a new folder for this prefix\n",
    "        new_folder = os.path.join(source_folder, prefix)\n",
    "        os.makedirs(new_folder, exist_ok=True)\n",
    "\n",
    "        # Move all files with this prefix to the new folder\n",
    "        for file in files:\n",
    "            source_path = os.path.join(source_folder, file)\n",
    "            destination_path = os.path.join(new_folder, file)\n",
    "            shutil.move(source_path, destination_path)\n",
    "        \n",
    "        print(f\"Moved {len(files)} files to {new_folder}\")\n",
    "\n",
    "# Usage\n",
    "source_folder = r\"D:\\Drive D\\data_x\\test\\erosion_1\"\n",
    "group_files_by_prefix(source_folder)"
   ]
  }
 ],
 "metadata": {
  "kernelspec": {
   "display_name": "2dmodelGPU",
   "language": "python",
   "name": "python3"
  },
  "language_info": {
   "codemirror_mode": {
    "name": "ipython",
    "version": 3
   },
   "file_extension": ".py",
   "mimetype": "text/x-python",
   "name": "python",
   "nbconvert_exporter": "python",
   "pygments_lexer": "ipython3",
   "version": "3.10.14"
  }
 },
 "nbformat": 4,
 "nbformat_minor": 2
}
