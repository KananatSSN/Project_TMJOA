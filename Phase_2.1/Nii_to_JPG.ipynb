{
 "cells": [
  {
   "cell_type": "code",
   "execution_count": null,
   "metadata": {},
   "outputs": [],
   "source": [
    "import os\n",
    "import nibabel as nib\n",
    "import matplotlib.pyplot as plt\n",
    "from glob import glob\n",
    "\n",
    "def extract_slices_from_folder(input_folder, output_base_dir):\n",
    "    # Get all .nii.gz files in the input folder\n",
    "    nii_files = glob(os.path.join(input_folder, '*.nii.gz'))\n",
    "\n",
    "    for nii_file in nii_files:\n",
    "        # Load the NIfTI file\n",
    "        img = nib.load(nii_file)\n",
    "        data = img.get_fdata()\n",
    "\n",
    "        # Get the filename without extension\n",
    "        base_name = os.path.splitext(os.path.splitext(os.path.basename(nii_file))[0])[0]\n",
    "\n",
    "        # Create output folders\n",
    "        folders = [f\"{base_name}_x\", f\"{base_name}_y\", f\"{base_name}_z\"]\n",
    "        for folder in folders:\n",
    "            os.makedirs(os.path.join(output_base_dir, folder), exist_ok=True)\n",
    "\n",
    "        # Extract and save slices\n",
    "        for axis in range(3):\n",
    "            for i in range(data.shape[axis]):\n",
    "                if axis == 0:\n",
    "                    slice_data = data[i, :, :]\n",
    "                    out_file = os.path.join(output_base_dir, f\"{base_name}_x\", f\"{base_name}_x_{i:03d}.jpg\")\n",
    "                elif axis == 1:\n",
    "                    slice_data = data[:, i, :]\n",
    "                    out_file = os.path.join(output_base_dir, f\"{base_name}_y\", f\"{base_name}_y_{i:03d}.jpg\")\n",
    "                else:\n",
    "                    slice_data = data[:, :, i]\n",
    "                    out_file = os.path.join(output_base_dir, f\"{base_name}_z\", f\"{base_name}_z_{i:03d}.jpg\")\n",
    "\n",
    "                plt.imsave(out_file, slice_data, cmap='gray')\n",
    "\n",
    "        print(f\"Slices extracted from {base_name} and saved in folders: {', '.join(folders)}\")\n",
    "\n",
    "    print(\"All .nii.gz files processed.\")\n",
    "\n",
    "# Usage example\n",
    "input_folder = r\"C:\\Users\\acer\\Desktop\\Data_0\\Nii_cropped_224\"\n",
    "output_base_dir = r\"C:\\Users\\acer\\Desktop\\Data_0\\Nii_toJPG\"\n",
    "extract_slices_from_folder(input_folder, output_base_dir)"
   ]
  }
 ],
 "metadata": {
  "kernelspec": {
   "display_name": "Python 3",
   "language": "python",
   "name": "python3"
  },
  "language_info": {
   "codemirror_mode": {
    "name": "ipython",
    "version": 3
   },
   "file_extension": ".py",
   "mimetype": "text/x-python",
   "name": "python",
   "nbconvert_exporter": "python",
   "pygments_lexer": "ipython3",
   "version": "3.11.4"
  }
 },
 "nbformat": 4,
 "nbformat_minor": 2
}
