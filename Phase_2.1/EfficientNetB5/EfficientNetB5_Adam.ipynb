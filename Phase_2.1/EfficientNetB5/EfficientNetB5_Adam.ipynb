{
 "cells": [
  {
   "cell_type": "code",
   "execution_count": 1,
   "metadata": {},
   "outputs": [
    {
     "name": "stdout",
     "output_type": "stream",
     "text": [
      "2.9.0 1.26.4\n"
     ]
    }
   ],
   "source": [
    "import os\n",
    "import numpy as np\n",
    "\n",
    "import tensorflow as tf\n",
    "from tensorflow import keras\n",
    "\n",
    "print(tf.__version__, np.__version__)\n",
    "\n",
    "# Expected output 2.9.0, 1.26.4"
   ]
  },
  {
   "cell_type": "markdown",
   "metadata": {},
   "source": [
    "## Detect GPU and limit GPU memory usage if exist"
   ]
  },
  {
   "cell_type": "code",
   "execution_count": 2,
   "metadata": {},
   "outputs": [],
   "source": [
    "USE_GPU = True"
   ]
  },
  {
   "cell_type": "code",
   "execution_count": 3,
   "metadata": {},
   "outputs": [
    {
     "name": "stdout",
     "output_type": "stream",
     "text": [
      "[PhysicalDevice(name='/physical_device:GPU:0', device_type='GPU')]\n"
     ]
    }
   ],
   "source": [
    "gpus = tf.config.experimental.list_physical_devices('GPU')\n",
    "\n",
    "if gpus != []:\n",
    "    print(gpus)\n",
    "    for gpu in gpus: \n",
    "        tf.config.experimental.set_memory_growth(gpu, True)\n",
    "else:\n",
    "    print(\"No GPU on this machine\")\n",
    "\n",
    "# Expected output [PhysicalDevice(name='/physical_device:GPU:0', device_type='GPU')]"
   ]
  },
  {
   "cell_type": "code",
   "execution_count": 4,
   "metadata": {},
   "outputs": [],
   "source": [
    "if USE_GPU == False:\n",
    "    os.environ['CUDA_VISIBLE_DEVICES'] = '-1'"
   ]
  },
  {
   "cell_type": "code",
   "execution_count": 5,
   "metadata": {},
   "outputs": [
    {
     "name": "stdout",
     "output_type": "stream",
     "text": [
      "GPU found\n"
     ]
    }
   ],
   "source": [
    "if tf.test.gpu_device_name():\n",
    "    print('GPU found')\n",
    "else:\n",
    "    print(\"No GPU found\")"
   ]
  },
  {
   "cell_type": "markdown",
   "metadata": {},
   "source": [
    "# Model selector"
   ]
  },
  {
   "cell_type": "code",
   "execution_count": 6,
   "metadata": {},
   "outputs": [],
   "source": [
    "INPUT_SHAPE = (224,224,3)\n",
    "base_model = tf.keras.applications.EfficientNetB5(input_shape=INPUT_SHAPE, include_top=False, weights='imagenet')\n",
    "model_name = \"EfficientNetB5\""
   ]
  },
  {
   "cell_type": "markdown",
   "metadata": {},
   "source": [
    "# Load data"
   ]
  },
  {
   "cell_type": "code",
   "execution_count": 7,
   "metadata": {},
   "outputs": [
    {
     "name": "stdout",
     "output_type": "stream",
     "text": [
      "Found 39703 files belonging to 2 classes.\n"
     ]
    }
   ],
   "source": [
    "import numpy as np\n",
    "from matplotlib import pyplot as plt\n",
    "\n",
    "data_dir = r\"C:\\Users\\kanan\\Desktop\\data_x\\data_x\\train\"\n",
    "data = tf.keras.utils.image_dataset_from_directory(data_dir, image_size=(224, 224))\n",
    "\n",
    "# Expected output Found 39703 files belonging to 2 classes."
   ]
  },
  {
   "cell_type": "code",
   "execution_count": 8,
   "metadata": {},
   "outputs": [],
   "source": [
    "data_iterator = data.as_numpy_iterator()\n",
    "batch = data_iterator.next()"
   ]
  },
  {
   "cell_type": "markdown",
   "metadata": {},
   "source": [
    "# Split Train/Val"
   ]
  },
  {
   "cell_type": "code",
   "execution_count": 9,
   "metadata": {},
   "outputs": [],
   "source": [
    "train_size = int(len(data)*.8)\n",
    "val_size = int(len(data)*.2)"
   ]
  },
  {
   "cell_type": "code",
   "execution_count": 10,
   "metadata": {},
   "outputs": [],
   "source": [
    "train = data.take(train_size)\n",
    "val = data.skip(train_size).take(val_size)"
   ]
  },
  {
   "cell_type": "markdown",
   "metadata": {},
   "source": [
    "# Build model"
   ]
  },
  {
   "cell_type": "code",
   "execution_count": 11,
   "metadata": {},
   "outputs": [],
   "source": [
    "# True = Training the base model\n",
    "\n",
    "TRAIN_FULL_NETWROK = False"
   ]
  },
  {
   "cell_type": "code",
   "execution_count": 12,
   "metadata": {},
   "outputs": [],
   "source": [
    "IMG_DIM = (224,224)"
   ]
  },
  {
   "cell_type": "code",
   "execution_count": 13,
   "metadata": {},
   "outputs": [],
   "source": [
    "base_model.trainable = TRAIN_FULL_NETWROK"
   ]
  },
  {
   "cell_type": "code",
   "execution_count": 14,
   "metadata": {},
   "outputs": [],
   "source": [
    "from tensorflow.keras.layers import Dense, GlobalAveragePooling2D\n",
    "from tensorflow.keras.models import Model"
   ]
  },
  {
   "cell_type": "code",
   "execution_count": 15,
   "metadata": {},
   "outputs": [],
   "source": [
    "inputs = tf.keras.Input(shape=INPUT_SHAPE)\n",
    "\n",
    "x = base_model(inputs, training=TRAIN_FULL_NETWROK)\n",
    "x = GlobalAveragePooling2D()(x)\n",
    "x = Dense(1024, activation='relu')(x)\n",
    "x = Dense(512, activation='relu')(x)\n",
    "\n",
    "# A Dense classifier with a single unit (binary classification)\n",
    "outputs = Dense(1, activation='sigmoid')(x)\n",
    "model = Model(inputs=inputs, outputs=outputs)"
   ]
  },
  {
   "cell_type": "code",
   "execution_count": 16,
   "metadata": {},
   "outputs": [
    {
     "data": {
      "text/html": [
       "<div>\n",
       "<style scoped>\n",
       "    .dataframe tbody tr th:only-of-type {\n",
       "        vertical-align: middle;\n",
       "    }\n",
       "\n",
       "    .dataframe tbody tr th {\n",
       "        vertical-align: top;\n",
       "    }\n",
       "\n",
       "    .dataframe thead th {\n",
       "        text-align: right;\n",
       "    }\n",
       "</style>\n",
       "<table border=\"1\" class=\"dataframe\">\n",
       "  <thead>\n",
       "    <tr style=\"text-align: right;\">\n",
       "      <th></th>\n",
       "      <th>Layer Type</th>\n",
       "      <th>Layer Name</th>\n",
       "      <th>Layer Trainable</th>\n",
       "    </tr>\n",
       "  </thead>\n",
       "  <tbody>\n",
       "    <tr>\n",
       "      <th>0</th>\n",
       "      <td>&lt;keras.engine.input_layer.InputLayer object at 0x0000025768B69A80&gt;</td>\n",
       "      <td>input_2</td>\n",
       "      <td>True</td>\n",
       "    </tr>\n",
       "    <tr>\n",
       "      <th>1</th>\n",
       "      <td>&lt;keras.engine.functional.Functional object at 0x0000025768ABD6C0&gt;</td>\n",
       "      <td>efficientnetb5</td>\n",
       "      <td>False</td>\n",
       "    </tr>\n",
       "    <tr>\n",
       "      <th>2</th>\n",
       "      <td>&lt;keras.layers.pooling.global_average_pooling2d.GlobalAveragePooling2D object at 0x00000255D61379D0&gt;</td>\n",
       "      <td>global_average_pooling2d</td>\n",
       "      <td>True</td>\n",
       "    </tr>\n",
       "    <tr>\n",
       "      <th>3</th>\n",
       "      <td>&lt;keras.layers.core.dense.Dense object at 0x00000255D26A9780&gt;</td>\n",
       "      <td>dense</td>\n",
       "      <td>True</td>\n",
       "    </tr>\n",
       "    <tr>\n",
       "      <th>4</th>\n",
       "      <td>&lt;keras.layers.core.dense.Dense object at 0x0000025768B69420&gt;</td>\n",
       "      <td>dense_1</td>\n",
       "      <td>True</td>\n",
       "    </tr>\n",
       "    <tr>\n",
       "      <th>5</th>\n",
       "      <td>&lt;keras.layers.core.dense.Dense object at 0x000002576C042740&gt;</td>\n",
       "      <td>dense_2</td>\n",
       "      <td>True</td>\n",
       "    </tr>\n",
       "  </tbody>\n",
       "</table>\n",
       "</div>"
      ],
      "text/plain": [
       "                                                                                            Layer Type  \\\n",
       "0                                   <keras.engine.input_layer.InputLayer object at 0x0000025768B69A80>   \n",
       "1                                    <keras.engine.functional.Functional object at 0x0000025768ABD6C0>   \n",
       "2  <keras.layers.pooling.global_average_pooling2d.GlobalAveragePooling2D object at 0x00000255D61379D0>   \n",
       "3                                         <keras.layers.core.dense.Dense object at 0x00000255D26A9780>   \n",
       "4                                         <keras.layers.core.dense.Dense object at 0x0000025768B69420>   \n",
       "5                                         <keras.layers.core.dense.Dense object at 0x000002576C042740>   \n",
       "\n",
       "                 Layer Name  Layer Trainable  \n",
       "0                   input_2             True  \n",
       "1            efficientnetb5            False  \n",
       "2  global_average_pooling2d             True  \n",
       "3                     dense             True  \n",
       "4                   dense_1             True  \n",
       "5                   dense_2             True  "
      ]
     },
     "execution_count": 16,
     "metadata": {},
     "output_type": "execute_result"
    }
   ],
   "source": [
    "import pandas as pd\n",
    "\n",
    "pd.set_option('max_colwidth', None)\n",
    "layers = [(layer, layer.name, layer.trainable) for layer in model.layers]\n",
    "pd.DataFrame(layers, columns=['Layer Type', 'Layer Name', 'Layer Trainable'])"
   ]
  },
  {
   "cell_type": "code",
   "execution_count": 17,
   "metadata": {},
   "outputs": [
    {
     "name": "stdout",
     "output_type": "stream",
     "text": [
      "Model: \"model\"\n",
      "_________________________________________________________________\n",
      " Layer (type)                Output Shape              Param #   \n",
      "=================================================================\n",
      " input_2 (InputLayer)        [(None, 224, 224, 3)]     0         \n",
      "                                                                 \n",
      " efficientnetb5 (Functional)  (None, 7, 7, 2048)       28513527  \n",
      "                                                                 \n",
      " global_average_pooling2d (G  (None, 2048)             0         \n",
      " lobalAveragePooling2D)                                          \n",
      "                                                                 \n",
      " dense (Dense)               (None, 1024)              2098176   \n",
      "                                                                 \n",
      " dense_1 (Dense)             (None, 512)               524800    \n",
      "                                                                 \n",
      " dense_2 (Dense)             (None, 1)                 513       \n",
      "                                                                 \n",
      "=================================================================\n",
      "Total params: 31,137,016\n",
      "Trainable params: 2,623,489\n",
      "Non-trainable params: 28,513,527\n",
      "_________________________________________________________________\n"
     ]
    }
   ],
   "source": [
    "model.summary()"
   ]
  },
  {
   "cell_type": "code",
   "execution_count": 18,
   "metadata": {},
   "outputs": [],
   "source": [
    "model.compile(loss=keras.losses.BinaryCrossentropy(from_logits=False), # change from_logits=True\n",
    "              optimizer= keras.optimizers.Adam(learning_rate=1e-2),\n",
    "              metrics = [keras.metrics.BinaryAccuracy()])"
   ]
  },
  {
   "cell_type": "markdown",
   "metadata": {},
   "source": [
    "# Set up training metrics"
   ]
  },
  {
   "cell_type": "code",
   "execution_count": 19,
   "metadata": {},
   "outputs": [],
   "source": [
    "from tensorflow.keras.callbacks import ModelCheckpoint, CSVLogger"
   ]
  },
  {
   "cell_type": "code",
   "execution_count": 20,
   "metadata": {},
   "outputs": [],
   "source": [
    "dir_path = r\"C:\\Users\\kanan\\Desktop\\data_x\"\n",
    "\n",
    "results_dir = \"logs\\\\\" + model_name\n",
    "results_dir = os.path.join(dir_path, results_dir)\n",
    "\n",
    "models_dir = \"models\\\\\" + model_name\n",
    "models_dir = os.path.join(dir_path, models_dir)\n",
    "\n",
    "if not os.path.isdir(results_dir):\n",
    "    os.makedirs(results_dir)\n",
    "    \n",
    "if not os.path.isdir(models_dir):\n",
    "    os.makedirs(models_dir)"
   ]
  },
  {
   "cell_type": "code",
   "execution_count": 21,
   "metadata": {},
   "outputs": [],
   "source": [
    "log_file = os.path.join(results_dir, f\"{model_name}_bo20_lr001.csv\")"
   ]
  },
  {
   "cell_type": "code",
   "execution_count": 22,
   "metadata": {},
   "outputs": [],
   "source": [
    "callbacks = [\n",
    "    CSVLogger(log_file),\n",
    "    ModelCheckpoint(\n",
    "        filepath=os.path.join(models_dir, f\"{model_name}_bo20_lr001.h5\"),\n",
    "        save_weights_only=False,\n",
    "        save_best_only=True,\n",
    "        save_freq='epoch',\n",
    "        verbose=1\n",
    "    )\n",
    "]"
   ]
  },
  {
   "cell_type": "markdown",
   "metadata": {},
   "source": [
    "# Train model"
   ]
  },
  {
   "cell_type": "code",
   "execution_count": 23,
   "metadata": {},
   "outputs": [
    {
     "name": "stdout",
     "output_type": "stream",
     "text": [
      "Epoch 1/20\n"
     ]
    }
   ],
   "source": [
    "history = model.fit(train, \n",
    "                    validation_data=val,\n",
    "                    epochs=20, \n",
    "                    verbose=1, \n",
    "                    callbacks=callbacks)"
   ]
  },
  {
   "cell_type": "code",
   "execution_count": null,
   "metadata": {},
   "outputs": [
    {
     "data": {
      "image/png": "[encoded data removed]",
      "text/plain": [
       "<Figure size 640x480 with 1 Axes>"
      ]
     },
     "metadata": {},
     "output_type": "display_data"
    }
   ],
   "source": [
    "fig = plt.figure()\n",
    "plt.plot(history.history['loss'], color='teal', label='loss')\n",
    "plt.plot(history.history['val_loss'], color='orange', label='val_loss')\n",
    "fig.suptitle('Loss', fontsize=20)\n",
    "plt.legend(loc=\"upper left\")\n",
    "plt.show()"
   ]
  },
  {
   "cell_type": "markdown",
   "metadata": {},
   "source": [
    "# Reducing learning rate from 0.01 to 0.001 and continue"
   ]
  },
  {
   "cell_type": "markdown",
   "metadata": {},
   "source": [
    "Load model"
   ]
  },
  {
   "cell_type": "code",
   "execution_count": null,
   "metadata": {},
   "outputs": [],
   "source": [
    "from tensorflow.keras.models import load_model\n",
    "\n",
    "\n",
    "saved_model_path = os.path.join(models_dir, f\"{model_name}_bo20_lr001.h5\")\n",
    "new_model = load_model(saved_model_path)"
   ]
  },
  {
   "cell_type": "markdown",
   "metadata": {},
   "source": [
    "Set new learning rate"
   ]
  },
  {
   "cell_type": "code",
   "execution_count": null,
   "metadata": {},
   "outputs": [
    {
     "name": "stdout",
     "output_type": "stream",
     "text": [
      "Old learning rate: 0.009999999776482582\n"
     ]
    }
   ],
   "source": [
    "current_optimizer = new_model.optimizer\n",
    "current_lr = current_optimizer.learning_rate.numpy()\n",
    "\n",
    "print(f\"Old learning rate: {current_lr}\")"
   ]
  },
  {
   "cell_type": "code",
   "execution_count": null,
   "metadata": {},
   "outputs": [],
   "source": [
    "new_model.compile(loss=keras.losses.BinaryCrossentropy(from_logits=False), \n",
    "              optimizer= keras.optimizers.Adam(learning_rate=1e-3),\n",
    "              metrics = [keras.metrics.BinaryAccuracy()])"
   ]
  },
  {
   "cell_type": "code",
   "execution_count": null,
   "metadata": {},
   "outputs": [
    {
     "name": "stdout",
     "output_type": "stream",
     "text": [
      "New learning rate: 0.0010000000474974513\n"
     ]
    }
   ],
   "source": [
    "current_optimizer = new_model.optimizer\n",
    "current_lr = current_optimizer.learning_rate.numpy()\n",
    "\n",
    "print(f\"New learning rate: {current_lr}\")"
   ]
  },
  {
   "cell_type": "markdown",
   "metadata": {},
   "source": [
    "Continue training"
   ]
  },
  {
   "cell_type": "code",
   "execution_count": null,
   "metadata": {},
   "outputs": [],
   "source": [
    "log_file = os.path.join(results_dir, f\"{model_name}_bo20_lr0001.csv\")"
   ]
  },
  {
   "cell_type": "code",
   "execution_count": null,
   "metadata": {},
   "outputs": [],
   "source": [
    "callbacks = [\n",
    "    CSVLogger(log_file),\n",
    "    ModelCheckpoint(\n",
    "        filepath=os.path.join(models_dir,f\"{model_name}_bo20_lr0001.h5\"),\n",
    "        save_weights_only=False,\n",
    "        save_best_only=True,\n",
    "        save_freq='epoch',\n",
    "        verbose=1\n",
    "    )\n",
    "]"
   ]
  },
  {
   "cell_type": "code",
   "execution_count": null,
   "metadata": {},
   "outputs": [
    {
     "name": "stdout",
     "output_type": "stream",
     "text": [
      "Epoch 1/20\n",
      "992/992 [==============================] - ETA: 0s - loss: 0.1211 - binary_accuracy: 0.9497\n",
      "Epoch 1: val_loss improved from inf to 0.20405, saving model to C:\\Users\\kanan\\Desktop\\data_x\\models\\EfficientNetB7\\EfficientNetB7_bo20_lr0001.h5\n",
      "992/992 [==============================] - 592s 582ms/step - loss: 0.1211 - binary_accuracy: 0.9497 - val_loss: 0.2041 - val_binary_accuracy: 0.9238\n",
      "Epoch 2/20\n",
      "992/992 [==============================] - ETA: 0s - loss: 0.1099 - binary_accuracy: 0.9534\n",
      "Epoch 2: val_loss improved from 0.20405 to 0.20264, saving model to C:\\Users\\kanan\\Desktop\\data_x\\models\\EfficientNetB7\\EfficientNetB7_bo20_lr0001.h5\n",
      "992/992 [==============================] - 567s 572ms/step - loss: 0.1099 - binary_accuracy: 0.9534 - val_loss: 0.2026 - val_binary_accuracy: 0.9239\n",
      "Epoch 3/20\n",
      "992/992 [==============================] - ETA: 0s - loss: 0.1052 - binary_accuracy: 0.9550\n",
      "Epoch 3: val_loss did not improve from 0.20264\n",
      "992/992 [==============================] - 567s 571ms/step - loss: 0.1052 - binary_accuracy: 0.9550 - val_loss: 0.2047 - val_binary_accuracy: 0.9249\n",
      "Epoch 4/20\n",
      "992/992 [==============================] - ETA: 0s - loss: 0.1024 - binary_accuracy: 0.9565\n",
      "Epoch 4: val_loss did not improve from 0.20264\n",
      "992/992 [==============================] - 566s 571ms/step - loss: 0.1024 - binary_accuracy: 0.9565 - val_loss: 0.2094 - val_binary_accuracy: 0.9265\n",
      "Epoch 5/20\n",
      "992/992 [==============================] - ETA: 0s - loss: 0.0987 - binary_accuracy: 0.9577\n",
      "Epoch 5: val_loss improved from 0.20264 to 0.20084, saving model to C:\\Users\\kanan\\Desktop\\data_x\\models\\EfficientNetB7\\EfficientNetB7_bo20_lr0001.h5\n",
      "992/992 [==============================] - 568s 573ms/step - loss: 0.0987 - binary_accuracy: 0.9577 - val_loss: 0.2008 - val_binary_accuracy: 0.9291\n",
      "Epoch 6/20\n",
      "992/992 [==============================] - ETA: 0s - loss: 0.0957 - binary_accuracy: 0.9593\n",
      "Epoch 6: val_loss did not improve from 0.20084\n",
      "992/992 [==============================] - 567s 572ms/step - loss: 0.0957 - binary_accuracy: 0.9593 - val_loss: 0.2179 - val_binary_accuracy: 0.9288\n",
      "Epoch 7/20\n",
      "992/992 [==============================] - ETA: 0s - loss: 0.0942 - binary_accuracy: 0.9592\n",
      "Epoch 7: val_loss did not improve from 0.20084\n",
      "992/992 [==============================] - 567s 572ms/step - loss: 0.0942 - binary_accuracy: 0.9592 - val_loss: 0.2125 - val_binary_accuracy: 0.9289\n",
      "Epoch 8/20\n",
      "992/992 [==============================] - ETA: 0s - loss: 0.0920 - binary_accuracy: 0.9604\n",
      "Epoch 8: val_loss did not improve from 0.20084\n",
      "992/992 [==============================] - 567s 572ms/step - loss: 0.0920 - binary_accuracy: 0.9604 - val_loss: 0.2157 - val_binary_accuracy: 0.9296\n",
      "Epoch 9/20\n",
      "992/992 [==============================] - ETA: 0s - loss: 0.0904 - binary_accuracy: 0.9614\n",
      "Epoch 9: val_loss did not improve from 0.20084\n",
      "992/992 [==============================] - 568s 573ms/step - loss: 0.0904 - binary_accuracy: 0.9614 - val_loss: 0.2240 - val_binary_accuracy: 0.9287\n",
      "Epoch 10/20\n",
      "992/992 [==============================] - ETA: 0s - loss: 0.0880 - binary_accuracy: 0.9626\n",
      "Epoch 10: val_loss did not improve from 0.20084\n",
      "992/992 [==============================] - 568s 572ms/step - loss: 0.0880 - binary_accuracy: 0.9626 - val_loss: 0.2274 - val_binary_accuracy: 0.9307\n",
      "Epoch 11/20\n",
      "992/992 [==============================] - ETA: 0s - loss: 0.0870 - binary_accuracy: 0.9634\n",
      "Epoch 11: val_loss did not improve from 0.20084\n",
      "992/992 [==============================] - 568s 572ms/step - loss: 0.0870 - binary_accuracy: 0.9634 - val_loss: 0.2253 - val_binary_accuracy: 0.9320\n",
      "Epoch 12/20\n",
      "992/992 [==============================] - ETA: 0s - loss: 0.0855 - binary_accuracy: 0.9641\n",
      "Epoch 12: val_loss did not improve from 0.20084\n",
      "992/992 [==============================] - 568s 572ms/step - loss: 0.0855 - binary_accuracy: 0.9641 - val_loss: 0.2378 - val_binary_accuracy: 0.9328\n",
      "Epoch 13/20\n",
      "992/992 [==============================] - ETA: 0s - loss: 0.0828 - binary_accuracy: 0.9645\n",
      "Epoch 13: val_loss did not improve from 0.20084\n",
      "992/992 [==============================] - 567s 572ms/step - loss: 0.0828 - binary_accuracy: 0.9645 - val_loss: 0.2343 - val_binary_accuracy: 0.9318\n",
      "Epoch 14/20\n",
      "992/992 [==============================] - ETA: 0s - loss: 0.0820 - binary_accuracy: 0.9651\n",
      "Epoch 14: val_loss did not improve from 0.20084\n",
      "992/992 [==============================] - 568s 573ms/step - loss: 0.0820 - binary_accuracy: 0.9651 - val_loss: 0.2473 - val_binary_accuracy: 0.9335\n",
      "Epoch 15/20\n",
      "992/992 [==============================] - ETA: 0s - loss: 0.0816 - binary_accuracy: 0.9653\n",
      "Epoch 15: val_loss did not improve from 0.20084\n",
      "992/992 [==============================] - 594s 599ms/step - loss: 0.0816 - binary_accuracy: 0.9653 - val_loss: 0.2388 - val_binary_accuracy: 0.9328\n",
      "Epoch 16/20\n",
      "992/992 [==============================] - ETA: 0s - loss: 0.0792 - binary_accuracy: 0.9664\n",
      "Epoch 16: val_loss did not improve from 0.20084\n",
      "992/992 [==============================] - 596s 600ms/step - loss: 0.0792 - binary_accuracy: 0.9664 - val_loss: 0.2420 - val_binary_accuracy: 0.9328\n",
      "Epoch 17/20\n",
      "992/992 [==============================] - ETA: 0s - loss: 0.0793 - binary_accuracy: 0.9668\n",
      "Epoch 17: val_loss did not improve from 0.20084\n",
      "992/992 [==============================] - 589s 594ms/step - loss: 0.0793 - binary_accuracy: 0.9668 - val_loss: 0.2566 - val_binary_accuracy: 0.9304\n",
      "Epoch 18/20\n",
      "992/992 [==============================] - ETA: 0s - loss: 0.0778 - binary_accuracy: 0.9670\n",
      "Epoch 18: val_loss did not improve from 0.20084\n",
      "992/992 [==============================] - 597s 602ms/step - loss: 0.0778 - binary_accuracy: 0.9670 - val_loss: 0.2441 - val_binary_accuracy: 0.9349\n",
      "Epoch 19/20\n",
      "992/992 [==============================] - ETA: 0s - loss: 0.0766 - binary_accuracy: 0.9680\n",
      "Epoch 19: val_loss did not improve from 0.20084\n",
      "992/992 [==============================] - 598s 603ms/step - loss: 0.0766 - binary_accuracy: 0.9680 - val_loss: 0.2469 - val_binary_accuracy: 0.9330\n",
      "Epoch 20/20\n",
      "992/992 [==============================] - ETA: 0s - loss: 0.0754 - binary_accuracy: 0.9684\n",
      "Epoch 20: val_loss did not improve from 0.20084\n",
      "992/992 [==============================] - 598s 603ms/step - loss: 0.0754 - binary_accuracy: 0.9684 - val_loss: 0.2541 - val_binary_accuracy: 0.9352\n"
     ]
    }
   ],
   "source": [
    "history = new_model.fit(train, \n",
    "                    validation_data=val,\n",
    "                    epochs=20, \n",
    "                    verbose=1, \n",
    "                    callbacks=callbacks)"
   ]
  },
  {
   "cell_type": "code",
   "execution_count": null,
   "metadata": {},
   "outputs": [
    {
     "data": {
      "image/png": "[encoded data removed]",
      "text/plain": [
       "<Figure size 640x480 with 1 Axes>"
      ]
     },
     "metadata": {},
     "output_type": "display_data"
    }
   ],
   "source": [
    "fig = plt.figure()\n",
    "plt.plot(history.history['loss'], color='teal', label='loss')\n",
    "plt.plot(history.history['val_loss'], color='orange', label='val_loss')\n",
    "fig.suptitle('Loss', fontsize=20)\n",
    "plt.legend(loc=\"upper left\")\n",
    "plt.show()"
   ]
  },
  {
   "cell_type": "markdown",
   "metadata": {},
   "source": [
    "# Test"
   ]
  },
  {
   "cell_type": "markdown",
   "metadata": {},
   "source": [
    "Load model"
   ]
  },
  {
   "cell_type": "code",
   "execution_count": null,
   "metadata": {},
   "outputs": [],
   "source": [
    "from tensorflow.keras.models import load_model\n",
    "\n",
    "saved_model_path = os.path.join(models_dir, f\"{model_name}_bo20_lr0001.h5\")\n",
    "test_model = load_model(saved_model_path)"
   ]
  },
  {
   "cell_type": "markdown",
   "metadata": {},
   "source": [
    "Set measurement metrics"
   ]
  },
  {
   "cell_type": "code",
   "execution_count": null,
   "metadata": {},
   "outputs": [],
   "source": [
    "from tensorflow.keras.metrics import Precision, Recall, BinaryAccuracy\n",
    "\n",
    "pre = Precision()\n",
    "re = Recall()\n",
    "acc = BinaryAccuracy()"
   ]
  },
  {
   "cell_type": "markdown",
   "metadata": {},
   "source": [
    "Load data"
   ]
  },
  {
   "cell_type": "code",
   "execution_count": null,
   "metadata": {},
   "outputs": [
    {
     "name": "stdout",
     "output_type": "stream",
     "text": [
      "Found 7360 files belonging to 2 classes.\n"
     ]
    }
   ],
   "source": [
    "import numpy as np\n",
    "from matplotlib import pyplot as plt\n",
    "\n",
    "data_dir = r\"C:\\Users\\kanan\\Desktop\\data_x\\data_x\\test\"\n",
    "test = tf.keras.utils.image_dataset_from_directory(data_dir, image_size=(224, 224))\n",
    "\n",
    "# Expected output Found 7360 files belonging to 2 classes."
   ]
  },
  {
   "cell_type": "markdown",
   "metadata": {},
   "source": [
    "Testing"
   ]
  },
  {
   "cell_type": "code",
   "execution_count": null,
   "metadata": {},
   "outputs": [],
   "source": [
    "test_iterator = test.as_numpy_iterator()\n",
    "batch = test_iterator.next()"
   ]
  },
  {
   "cell_type": "code",
   "execution_count": null,
   "metadata": {},
   "outputs": [
    {
     "name": "stdout",
     "output_type": "stream",
     "text": [
      "1/1 [==============================] - 4s 4s/step\n",
      "1/1 [==============================] - 0s 86ms/step\n",
      "1/1 [==============================] - 0s 85ms/step\n",
      "1/1 [==============================] - 0s 91ms/step\n",
      "1/1 [==============================] - 0s 93ms/step\n",
      "1/1 [==============================] - 0s 93ms/step\n",
      "1/1 [==============================] - 0s 96ms/step\n",
      "1/1 [==============================] - 0s 87ms/step\n",
      "1/1 [==============================] - 0s 89ms/step\n",
      "1/1 [==============================] - 0s 86ms/step\n",
      "1/1 [==============================] - 0s 96ms/step\n",
      "1/1 [==============================] - 0s 84ms/step\n",
      "1/1 [==============================] - 0s 86ms/step\n",
      "1/1 [==============================] - 0s 89ms/step\n",
      "1/1 [==============================] - 0s 97ms/step\n",
      "1/1 [==============================] - 0s 93ms/step\n",
      "1/1 [==============================] - 0s 101ms/step\n",
      "1/1 [==============================] - 0s 101ms/step\n",
      "1/1 [==============================] - 0s 96ms/step\n",
      "1/1 [==============================] - 0s 97ms/step\n",
      "1/1 [==============================] - 0s 92ms/step\n",
      "1/1 [==============================] - 0s 97ms/step\n",
      "1/1 [==============================] - 0s 97ms/step\n",
      "1/1 [==============================] - 0s 99ms/step\n",
      "1/1 [==============================] - 0s 92ms/step\n",
      "1/1 [==============================] - 0s 95ms/step\n",
      "1/1 [==============================] - 0s 96ms/step\n",
      "1/1 [==============================] - 0s 86ms/step\n",
      "1/1 [==============================] - 0s 88ms/step\n",
      "1/1 [==============================] - 0s 91ms/step\n",
      "1/1 [==============================] - 0s 93ms/step\n",
      "1/1 [==============================] - 0s 86ms/step\n",
      "1/1 [==============================] - 0s 99ms/step\n",
      "1/1 [==============================] - 0s 99ms/step\n",
      "1/1 [==============================] - 0s 98ms/step\n",
      "1/1 [==============================] - 0s 97ms/step\n",
      "1/1 [==============================] - 0s 100ms/step\n",
      "1/1 [==============================] - 0s 88ms/step\n",
      "1/1 [==============================] - 0s 101ms/step\n",
      "1/1 [==============================] - 0s 94ms/step\n",
      "1/1 [==============================] - 0s 93ms/step\n",
      "1/1 [==============================] - 0s 95ms/step\n",
      "1/1 [==============================] - 0s 96ms/step\n",
      "1/1 [==============================] - 0s 91ms/step\n",
      "1/1 [==============================] - 0s 100ms/step\n",
      "1/1 [==============================] - 0s 91ms/step\n",
      "1/1 [==============================] - 0s 98ms/step\n",
      "1/1 [==============================] - 0s 94ms/step\n",
      "1/1 [==============================] - 0s 93ms/step\n",
      "1/1 [==============================] - 0s 93ms/step\n",
      "1/1 [==============================] - 0s 98ms/step\n",
      "1/1 [==============================] - 0s 95ms/step\n",
      "1/1 [==============================] - 0s 91ms/step\n",
      "1/1 [==============================] - 0s 93ms/step\n",
      "1/1 [==============================] - 0s 88ms/step\n",
      "1/1 [==============================] - 0s 98ms/step\n",
      "1/1 [==============================] - 0s 100ms/step\n",
      "1/1 [==============================] - 0s 88ms/step\n",
      "1/1 [==============================] - 0s 93ms/step\n",
      "1/1 [==============================] - 0s 98ms/step\n",
      "1/1 [==============================] - 0s 90ms/step\n",
      "1/1 [==============================] - 0s 87ms/step\n",
      "1/1 [==============================] - 0s 88ms/step\n",
      "1/1 [==============================] - 0s 103ms/step\n",
      "1/1 [==============================] - 0s 93ms/step\n",
      "1/1 [==============================] - 0s 99ms/step\n",
      "1/1 [==============================] - 0s 87ms/step\n",
      "1/1 [==============================] - 0s 90ms/step\n",
      "1/1 [==============================] - 0s 91ms/step\n",
      "1/1 [==============================] - 0s 93ms/step\n",
      "1/1 [==============================] - 0s 88ms/step\n",
      "1/1 [==============================] - 0s 95ms/step\n",
      "1/1 [==============================] - 0s 101ms/step\n",
      "1/1 [==============================] - 0s 96ms/step\n",
      "1/1 [==============================] - 0s 102ms/step\n",
      "1/1 [==============================] - 0s 90ms/step\n",
      "1/1 [==============================] - 0s 94ms/step\n",
      "1/1 [==============================] - 0s 88ms/step\n",
      "1/1 [==============================] - 0s 93ms/step\n",
      "1/1 [==============================] - 0s 92ms/step\n",
      "1/1 [==============================] - 0s 97ms/step\n",
      "1/1 [==============================] - 0s 101ms/step\n",
      "1/1 [==============================] - 0s 100ms/step\n",
      "1/1 [==============================] - 0s 97ms/step\n",
      "1/1 [==============================] - 0s 97ms/step\n",
      "1/1 [==============================] - 0s 89ms/step\n",
      "1/1 [==============================] - 0s 99ms/step\n",
      "1/1 [==============================] - 0s 105ms/step\n",
      "1/1 [==============================] - 0s 90ms/step\n",
      "1/1 [==============================] - 0s 88ms/step\n",
      "1/1 [==============================] - 0s 92ms/step\n",
      "1/1 [==============================] - 0s 94ms/step\n",
      "1/1 [==============================] - 0s 102ms/step\n",
      "1/1 [==============================] - 0s 88ms/step\n",
      "1/1 [==============================] - 0s 92ms/step\n",
      "1/1 [==============================] - 0s 94ms/step\n",
      "1/1 [==============================] - 0s 99ms/step\n",
      "1/1 [==============================] - 0s 100ms/step\n",
      "1/1 [==============================] - 0s 102ms/step\n",
      "1/1 [==============================] - 0s 103ms/step\n",
      "1/1 [==============================] - 0s 95ms/step\n",
      "1/1 [==============================] - 0s 96ms/step\n",
      "1/1 [==============================] - 0s 87ms/step\n",
      "1/1 [==============================] - 0s 89ms/step\n",
      "1/1 [==============================] - 0s 93ms/step\n",
      "1/1 [==============================] - 0s 96ms/step\n",
      "1/1 [==============================] - 0s 96ms/step\n",
      "1/1 [==============================] - 0s 92ms/step\n",
      "1/1 [==============================] - 0s 91ms/step\n",
      "1/1 [==============================] - 0s 102ms/step\n",
      "1/1 [==============================] - 0s 102ms/step\n",
      "1/1 [==============================] - 0s 95ms/step\n",
      "1/1 [==============================] - 0s 103ms/step\n",
      "1/1 [==============================] - 0s 93ms/step\n",
      "1/1 [==============================] - 0s 91ms/step\n",
      "1/1 [==============================] - 0s 94ms/step\n",
      "1/1 [==============================] - 0s 96ms/step\n",
      "1/1 [==============================] - 0s 100ms/step\n",
      "1/1 [==============================] - 0s 92ms/step\n",
      "1/1 [==============================] - 0s 92ms/step\n",
      "1/1 [==============================] - 0s 101ms/step\n",
      "1/1 [==============================] - 0s 98ms/step\n",
      "1/1 [==============================] - 0s 94ms/step\n",
      "1/1 [==============================] - 0s 95ms/step\n",
      "1/1 [==============================] - 0s 95ms/step\n",
      "1/1 [==============================] - 0s 105ms/step\n",
      "1/1 [==============================] - 0s 96ms/step\n",
      "1/1 [==============================] - 0s 91ms/step\n",
      "1/1 [==============================] - 0s 104ms/step\n",
      "1/1 [==============================] - 0s 103ms/step\n",
      "1/1 [==============================] - 0s 99ms/step\n",
      "1/1 [==============================] - 0s 90ms/step\n",
      "1/1 [==============================] - 0s 97ms/step\n",
      "1/1 [==============================] - 0s 96ms/step\n",
      "1/1 [==============================] - 0s 102ms/step\n",
      "1/1 [==============================] - 0s 91ms/step\n",
      "1/1 [==============================] - 0s 100ms/step\n",
      "1/1 [==============================] - 0s 87ms/step\n",
      "1/1 [==============================] - 0s 96ms/step\n",
      "1/1 [==============================] - 0s 99ms/step\n",
      "1/1 [==============================] - 0s 100ms/step\n",
      "1/1 [==============================] - 0s 102ms/step\n",
      "1/1 [==============================] - 0s 103ms/step\n",
      "1/1 [==============================] - 0s 91ms/step\n",
      "1/1 [==============================] - 0s 92ms/step\n",
      "1/1 [==============================] - 0s 94ms/step\n",
      "1/1 [==============================] - 0s 104ms/step\n",
      "1/1 [==============================] - 0s 89ms/step\n",
      "1/1 [==============================] - 0s 100ms/step\n",
      "1/1 [==============================] - 0s 106ms/step\n",
      "1/1 [==============================] - 0s 90ms/step\n",
      "1/1 [==============================] - 0s 97ms/step\n",
      "1/1 [==============================] - 0s 91ms/step\n",
      "1/1 [==============================] - 0s 101ms/step\n",
      "1/1 [==============================] - 0s 93ms/step\n",
      "1/1 [==============================] - 0s 94ms/step\n",
      "1/1 [==============================] - 0s 91ms/step\n",
      "1/1 [==============================] - 0s 99ms/step\n",
      "1/1 [==============================] - 0s 90ms/step\n",
      "1/1 [==============================] - 0s 98ms/step\n",
      "1/1 [==============================] - 0s 93ms/step\n",
      "1/1 [==============================] - 0s 102ms/step\n",
      "1/1 [==============================] - 0s 91ms/step\n",
      "1/1 [==============================] - 0s 89ms/step\n",
      "1/1 [==============================] - 0s 101ms/step\n",
      "1/1 [==============================] - 0s 101ms/step\n",
      "1/1 [==============================] - 0s 98ms/step\n",
      "1/1 [==============================] - 0s 91ms/step\n",
      "1/1 [==============================] - 0s 100ms/step\n",
      "1/1 [==============================] - 0s 100ms/step\n",
      "1/1 [==============================] - 0s 95ms/step\n",
      "1/1 [==============================] - 0s 103ms/step\n",
      "1/1 [==============================] - 0s 95ms/step\n",
      "1/1 [==============================] - 0s 100ms/step\n",
      "1/1 [==============================] - 0s 93ms/step\n",
      "1/1 [==============================] - 0s 104ms/step\n",
      "1/1 [==============================] - 0s 89ms/step\n",
      "1/1 [==============================] - 0s 100ms/step\n",
      "1/1 [==============================] - 0s 97ms/step\n",
      "1/1 [==============================] - 0s 91ms/step\n",
      "1/1 [==============================] - 0s 103ms/step\n",
      "1/1 [==============================] - 0s 93ms/step\n",
      "1/1 [==============================] - 0s 92ms/step\n",
      "1/1 [==============================] - 0s 93ms/step\n",
      "1/1 [==============================] - 0s 92ms/step\n",
      "1/1 [==============================] - 0s 93ms/step\n",
      "1/1 [==============================] - 0s 101ms/step\n",
      "1/1 [==============================] - 0s 96ms/step\n",
      "1/1 [==============================] - 0s 91ms/step\n",
      "1/1 [==============================] - 0s 92ms/step\n",
      "1/1 [==============================] - 0s 102ms/step\n",
      "1/1 [==============================] - 0s 107ms/step\n",
      "1/1 [==============================] - 0s 95ms/step\n",
      "1/1 [==============================] - 0s 98ms/step\n",
      "1/1 [==============================] - 0s 99ms/step\n",
      "1/1 [==============================] - 0s 94ms/step\n",
      "1/1 [==============================] - 0s 91ms/step\n",
      "1/1 [==============================] - 0s 98ms/step\n",
      "1/1 [==============================] - 0s 97ms/step\n",
      "1/1 [==============================] - 0s 96ms/step\n",
      "1/1 [==============================] - 0s 93ms/step\n",
      "1/1 [==============================] - 0s 99ms/step\n",
      "1/1 [==============================] - 0s 102ms/step\n",
      "1/1 [==============================] - 0s 103ms/step\n",
      "1/1 [==============================] - 0s 94ms/step\n",
      "1/1 [==============================] - 0s 88ms/step\n",
      "1/1 [==============================] - 0s 91ms/step\n",
      "1/1 [==============================] - 0s 93ms/step\n",
      "1/1 [==============================] - 0s 88ms/step\n",
      "1/1 [==============================] - 0s 102ms/step\n",
      "1/1 [==============================] - 0s 112ms/step\n",
      "1/1 [==============================] - 0s 96ms/step\n",
      "1/1 [==============================] - 0s 106ms/step\n",
      "1/1 [==============================] - 0s 95ms/step\n",
      "1/1 [==============================] - 0s 87ms/step\n",
      "1/1 [==============================] - 0s 94ms/step\n",
      "1/1 [==============================] - 0s 94ms/step\n",
      "1/1 [==============================] - 0s 110ms/step\n",
      "1/1 [==============================] - 0s 90ms/step\n",
      "1/1 [==============================] - 0s 94ms/step\n",
      "1/1 [==============================] - 0s 96ms/step\n",
      "1/1 [==============================] - 0s 99ms/step\n",
      "1/1 [==============================] - 0s 100ms/step\n",
      "1/1 [==============================] - 0s 94ms/step\n",
      "1/1 [==============================] - 0s 97ms/step\n",
      "1/1 [==============================] - 0s 97ms/step\n",
      "1/1 [==============================] - 0s 97ms/step\n",
      "1/1 [==============================] - 0s 102ms/step\n",
      "1/1 [==============================] - 0s 101ms/step\n"
     ]
    }
   ],
   "source": [
    "for batch in test_iterator: \n",
    "    X, y = batch\n",
    "    yhat = test_model.predict(X)\n",
    "    pre.update_state(y, yhat)\n",
    "    re.update_state(y, yhat)\n",
    "    acc.update_state(y, yhat)"
   ]
  },
  {
   "cell_type": "markdown",
   "metadata": {},
   "source": [
    "Test results"
   ]
  },
  {
   "cell_type": "code",
   "execution_count": null,
   "metadata": {},
   "outputs": [
    {
     "name": "stdout",
     "output_type": "stream",
     "text": [
      "Precision : 0.8478313088417053\n",
      "Recall : 0.7853496074676514\n",
      "Accuracy : 0.7813864350318909\n",
      "F1 Score : 0.8153952360153198\n"
     ]
    }
   ],
   "source": [
    "f1_score = 2 * (pre.result() * re.result()) / (pre.result() + re.result())\n",
    "print(f\"Precision : {pre.result().numpy()}\")\n",
    "print(f\"Recall : {re.result().numpy()}\")\n",
    "print(f\"Accuracy : {acc.result().numpy()}\")\n",
    "print(f\"F1 Score : {f1_score.numpy()}\")"
   ]
  }
 ],
 "metadata": {
  "kernelspec": {
   "display_name": "2dmodelGPU",
   "language": "python",
   "name": "python3"
  },
  "language_info": {
   "codemirror_mode": {
    "name": "ipython",
    "version": 3
   },
   "file_extension": ".py",
   "mimetype": "text/x-python",
   "name": "python",
   "nbconvert_exporter": "python",
   "pygments_lexer": "ipython3",
   "version": "3.10.14"
  }
 },
 "nbformat": 4,
 "nbformat_minor": 2
}
