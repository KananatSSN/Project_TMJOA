{
 "cells": [
  {
   "cell_type": "code",
   "execution_count": 1,
   "metadata": {},
   "outputs": [
    {
     "name": "stdout",
     "output_type": "stream",
     "text": [
      "Folders have been moved and Excel files have been created successfully.\n"
     ]
    }
   ],
   "source": [
    "import pandas as pd\n",
    "import os\n",
    "import shutil\n",
    "import random\n",
    "import numpy as np\n",
    "\n",
    "# Read the Excel file\n",
    "df = pd.read_excel(r\"C:\\Users\\acer\\Desktop\\Data_0\\Classification_1.xlsx\")\n",
    "\n",
    "# Fix seed for reproducibility\n",
    "random_seed = 42\n",
    "random.seed(random_seed)\n",
    "np.random.seed(random_seed)\n",
    "\n",
    "# Randomly shuffle the dataframe\n",
    "df = df.sample(frac=1, random_state=random_seed).reset_index(drop=True)\n",
    "\n",
    "# Calculate split sizes\n",
    "total = len(df)\n",
    "train_split = int(0.7 * total)\n",
    "val_split = int(0.15 * total)\n",
    "\n",
    "# Split the dataframe\n",
    "train_df = df[:train_split]\n",
    "val_df = df[train_split:train_split+val_split]\n",
    "test_df = df[train_split+val_split:]\n",
    "\n",
    "# Create train, validation, and test folders and save the corresponding classification.xlsx files\n",
    "dict_df = {'train':train_df, 'validation':val_df, 'test':test_df}\n",
    "data_path = r\"C:\\Users\\acer\\Desktop\\Data_2D3layers\"\n",
    "for folder in ['train', 'validation', 'test']:\n",
    "    folder_path = os.path.join(data_path, folder)\n",
    "    os.makedirs(folder_path, exist_ok=True)\n",
    "    file_name = f'{folder}_classification.xlsx'\n",
    "    excel_path = os.path.join(folder_path, file_name)\n",
    "    dict_df[folder].to_excel(excel_path, index=False)\n",
    "\n",
    "# Get folder lists for each split\n",
    "train_folders = train_df['ID'].tolist()\n",
    "val_folders = val_df['ID'].tolist()\n",
    "test_folders = test_df['ID'].tolist()\n",
    "\n",
    "# Function to move folders\n",
    "def move_folders(folder_list, source_path, destination_path):\n",
    "    for folder in folder_list:\n",
    "        for xyz in ['x', 'y', 'z']:\n",
    "            folder_xyz = f\"{folder}_{xyz}\"\n",
    "            source = os.path.join(source_path, folder_xyz)\n",
    "            dest = os.path.join(destination_path, folder_xyz)\n",
    "            shutil.copytree(source, dest, dirs_exist_ok=True)\n",
    "\n",
    "# Move folders to their respective destinations\n",
    "source = r\"C:\\Users\\acer\\Desktop\\Data_0\\Nii_toJPG_3layers\"\n",
    "destination_train = r\"C:\\Users\\acer\\Desktop\\Data_2D3layers\\train\"\n",
    "destination_validation = r\"C:\\Users\\acer\\Desktop\\Data_2D3layers\\validation\"\n",
    "destination_test = r\"C:\\Users\\acer\\Desktop\\Data_2D3layers\\test\"\n",
    "move_folders(train_folders,source, destination_train)\n",
    "move_folders(val_folders,source, destination_validation)\n",
    "move_folders(test_folders,source, destination_test)\n",
    "\n",
    "print(\"Folders have been moved and Excel files have been created successfully.\")"
   ]
  }
 ],
 "metadata": {
  "kernelspec": {
   "display_name": "Python 3",
   "language": "python",
   "name": "python3"
  },
  "language_info": {
   "codemirror_mode": {
    "name": "ipython",
    "version": 3
   },
   "file_extension": ".py",
   "mimetype": "text/x-python",
   "name": "python",
   "nbconvert_exporter": "python",
   "pygments_lexer": "ipython3",
   "version": "3.11.4"
  }
 },
 "nbformat": 4,
 "nbformat_minor": 2
}
