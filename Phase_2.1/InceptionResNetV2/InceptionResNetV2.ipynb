{
 "cells": [
  {
   "cell_type": "code",
   "execution_count": 1,
   "metadata": {},
   "outputs": [
    {
     "name": "stdout",
     "output_type": "stream",
     "text": [
      "2.9.0 1.26.4\n"
     ]
    }
   ],
   "source": [
    "import os\n",
    "import numpy as np\n",
    "\n",
    "import tensorflow as tf\n",
    "from tensorflow import keras\n",
    "\n",
    "print(tf.__version__, np.__version__)\n",
    "\n",
    "# Expected output 2.9.0, 1.26.4"
   ]
  },
  {
   "cell_type": "markdown",
   "metadata": {},
   "source": [
    "## Detect GPU and limit GPU memory usage if exist"
   ]
  },
  {
   "cell_type": "code",
   "execution_count": 2,
   "metadata": {},
   "outputs": [],
   "source": [
    "USE_GPU = True"
   ]
  },
  {
   "cell_type": "code",
   "execution_count": 3,
   "metadata": {},
   "outputs": [
    {
     "name": "stdout",
     "output_type": "stream",
     "text": [
      "[PhysicalDevice(name='/physical_device:GPU:0', device_type='GPU')]\n"
     ]
    }
   ],
   "source": [
    "gpus = tf.config.experimental.list_physical_devices('GPU')\n",
    "\n",
    "if gpus != []:\n",
    "    print(gpus)\n",
    "    for gpu in gpus: \n",
    "        tf.config.experimental.set_memory_growth(gpu, True)\n",
    "else:\n",
    "    print(\"No GPU on this machine\")\n",
    "\n",
    "# Expected output [PhysicalDevice(name='/physical_device:GPU:0', device_type='GPU')]"
   ]
  },
  {
   "cell_type": "code",
   "execution_count": 4,
   "metadata": {},
   "outputs": [],
   "source": [
    "if USE_GPU == False:\n",
    "    os.environ['CUDA_VISIBLE_DEVICES'] = '-1'"
   ]
  },
  {
   "cell_type": "code",
   "execution_count": 5,
   "metadata": {},
   "outputs": [
    {
     "name": "stdout",
     "output_type": "stream",
     "text": [
      "GPU found\n"
     ]
    }
   ],
   "source": [
    "if tf.test.gpu_device_name():\n",
    "    print('GPU found')\n",
    "else:\n",
    "    print(\"No GPU found\")"
   ]
  },
  {
   "cell_type": "markdown",
   "metadata": {},
   "source": [
    "# Model selector"
   ]
  },
  {
   "cell_type": "code",
   "execution_count": 6,
   "metadata": {},
   "outputs": [],
   "source": [
    "INPUT_SHAPE = (224,224,3)\n",
    "base_model = tf.keras.applications.InceptionResNetV2(input_shape=INPUT_SHAPE, include_top=False, weights='imagenet')\n",
    "model_name = \"InceptionResNetV2\""
   ]
  },
  {
   "cell_type": "markdown",
   "metadata": {},
   "source": [
    "# Load data"
   ]
  },
  {
   "cell_type": "code",
   "execution_count": 7,
   "metadata": {},
   "outputs": [
    {
     "name": "stdout",
     "output_type": "stream",
     "text": [
      "Found 39703 files belonging to 2 classes.\n"
     ]
    }
   ],
   "source": [
    "import numpy as np\n",
    "from matplotlib import pyplot as plt\n",
    "\n",
    "data_dir = r\"C:\\Users\\kanan\\Desktop\\data_x\\data_x\\train\"\n",
    "data = tf.keras.utils.image_dataset_from_directory(data_dir, image_size=(224, 224))\n",
    "\n",
    "# Expected output Found 39703 files belonging to 2 classes."
   ]
  },
  {
   "cell_type": "code",
   "execution_count": 8,
   "metadata": {},
   "outputs": [],
   "source": [
    "data_iterator = data.as_numpy_iterator()\n",
    "batch = data_iterator.next()"
   ]
  },
  {
   "cell_type": "markdown",
   "metadata": {},
   "source": [
    "# Split Train/Val"
   ]
  },
  {
   "cell_type": "code",
   "execution_count": 9,
   "metadata": {},
   "outputs": [],
   "source": [
    "train_size = int(len(data)*.8)\n",
    "val_size = int(len(data)*.2)"
   ]
  },
  {
   "cell_type": "code",
   "execution_count": 10,
   "metadata": {},
   "outputs": [],
   "source": [
    "train = data.take(train_size)\n",
    "val = data.skip(train_size).take(val_size)"
   ]
  },
  {
   "cell_type": "markdown",
   "metadata": {},
   "source": [
    "# Build model"
   ]
  },
  {
   "cell_type": "code",
   "execution_count": 11,
   "metadata": {},
   "outputs": [],
   "source": [
    "# True = Training the base model\n",
    "\n",
    "TRAIN_FULL_NETWROK = False"
   ]
  },
  {
   "cell_type": "code",
   "execution_count": 12,
   "metadata": {},
   "outputs": [],
   "source": [
    "IMG_DIM = (224,224)"
   ]
  },
  {
   "cell_type": "code",
   "execution_count": 13,
   "metadata": {},
   "outputs": [],
   "source": [
    "base_model.trainable = TRAIN_FULL_NETWROK"
   ]
  },
  {
   "cell_type": "code",
   "execution_count": 14,
   "metadata": {},
   "outputs": [],
   "source": [
    "from tensorflow.keras.layers import Dense, GlobalAveragePooling2D\n",
    "from tensorflow.keras.models import Model"
   ]
  },
  {
   "cell_type": "code",
   "execution_count": 15,
   "metadata": {},
   "outputs": [],
   "source": [
    "inputs = tf.keras.Input(shape=INPUT_SHAPE)\n",
    "\n",
    "x = base_model(inputs, training=TRAIN_FULL_NETWROK)\n",
    "x = GlobalAveragePooling2D()(x)\n",
    "x = Dense(1024, activation='relu')(x)\n",
    "x = Dense(512, activation='relu')(x)\n",
    "\n",
    "# A Dense classifier with a single unit (binary classification)\n",
    "outputs = Dense(1, activation='sigmoid')(x)\n",
    "model = Model(inputs=inputs, outputs=outputs)"
   ]
  },
  {
   "cell_type": "code",
   "execution_count": 16,
   "metadata": {},
   "outputs": [
    {
     "data": {
      "text/html": [
       "<div>\n",
       "<style scoped>\n",
       "    .dataframe tbody tr th:only-of-type {\n",
       "        vertical-align: middle;\n",
       "    }\n",
       "\n",
       "    .dataframe tbody tr th {\n",
       "        vertical-align: top;\n",
       "    }\n",
       "\n",
       "    .dataframe thead th {\n",
       "        text-align: right;\n",
       "    }\n",
       "</style>\n",
       "<table border=\"1\" class=\"dataframe\">\n",
       "  <thead>\n",
       "    <tr style=\"text-align: right;\">\n",
       "      <th></th>\n",
       "      <th>Layer Type</th>\n",
       "      <th>Layer Name</th>\n",
       "      <th>Layer Trainable</th>\n",
       "    </tr>\n",
       "  </thead>\n",
       "  <tbody>\n",
       "    <tr>\n",
       "      <th>0</th>\n",
       "      <td>&lt;keras.engine.input_layer.InputLayer object at 0x0000025768B69A80&gt;</td>\n",
       "      <td>input_2</td>\n",
       "      <td>True</td>\n",
       "    </tr>\n",
       "    <tr>\n",
       "      <th>1</th>\n",
       "      <td>&lt;keras.engine.functional.Functional object at 0x0000025768ABD6C0&gt;</td>\n",
       "      <td>efficientnetb5</td>\n",
       "      <td>False</td>\n",
       "    </tr>\n",
       "    <tr>\n",
       "      <th>2</th>\n",
       "      <td>&lt;keras.layers.pooling.global_average_pooling2d.GlobalAveragePooling2D object at 0x00000255D61379D0&gt;</td>\n",
       "      <td>global_average_pooling2d</td>\n",
       "      <td>True</td>\n",
       "    </tr>\n",
       "    <tr>\n",
       "      <th>3</th>\n",
       "      <td>&lt;keras.layers.core.dense.Dense object at 0x00000255D26A9780&gt;</td>\n",
       "      <td>dense</td>\n",
       "      <td>True</td>\n",
       "    </tr>\n",
       "    <tr>\n",
       "      <th>4</th>\n",
       "      <td>&lt;keras.layers.core.dense.Dense object at 0x0000025768B69420&gt;</td>\n",
       "      <td>dense_1</td>\n",
       "      <td>True</td>\n",
       "    </tr>\n",
       "    <tr>\n",
       "      <th>5</th>\n",
       "      <td>&lt;keras.layers.core.dense.Dense object at 0x000002576C042740&gt;</td>\n",
       "      <td>dense_2</td>\n",
       "      <td>True</td>\n",
       "    </tr>\n",
       "  </tbody>\n",
       "</table>\n",
       "</div>"
      ],
      "text/plain": [
       "                                                                                            Layer Type  \\\n",
       "0                                   <keras.engine.input_layer.InputLayer object at 0x0000025768B69A80>   \n",
       "1                                    <keras.engine.functional.Functional object at 0x0000025768ABD6C0>   \n",
       "2  <keras.layers.pooling.global_average_pooling2d.GlobalAveragePooling2D object at 0x00000255D61379D0>   \n",
       "3                                         <keras.layers.core.dense.Dense object at 0x00000255D26A9780>   \n",
       "4                                         <keras.layers.core.dense.Dense object at 0x0000025768B69420>   \n",
       "5                                         <keras.layers.core.dense.Dense object at 0x000002576C042740>   \n",
       "\n",
       "                 Layer Name  Layer Trainable  \n",
       "0                   input_2             True  \n",
       "1            efficientnetb5            False  \n",
       "2  global_average_pooling2d             True  \n",
       "3                     dense             True  \n",
       "4                   dense_1             True  \n",
       "5                   dense_2             True  "
      ]
     },
     "execution_count": 16,
     "metadata": {},
     "output_type": "execute_result"
    }
   ],
   "source": [
    "import pandas as pd\n",
    "\n",
    "pd.set_option('max_colwidth', None)\n",
    "layers = [(layer, layer.name, layer.trainable) for layer in model.layers]\n",
    "pd.DataFrame(layers, columns=['Layer Type', 'Layer Name', 'Layer Trainable'])"
   ]
  },
  {
   "cell_type": "code",
   "execution_count": 17,
   "metadata": {},
   "outputs": [
    {
     "name": "stdout",
     "output_type": "stream",
     "text": [
      "Model: \"model\"\n",
      "_________________________________________________________________\n",
      " Layer (type)                Output Shape              Param #   \n",
      "=================================================================\n",
      " input_2 (InputLayer)        [(None, 224, 224, 3)]     0         \n",
      "                                                                 \n",
      " efficientnetb5 (Functional)  (None, 7, 7, 2048)       28513527  \n",
      "                                                                 \n",
      " global_average_pooling2d (G  (None, 2048)             0         \n",
      " lobalAveragePooling2D)                                          \n",
      "                                                                 \n",
      " dense (Dense)               (None, 1024)              2098176   \n",
      "                                                                 \n",
      " dense_1 (Dense)             (None, 512)               524800    \n",
      "                                                                 \n",
      " dense_2 (Dense)             (None, 1)                 513       \n",
      "                                                                 \n",
      "=================================================================\n",
      "Total params: 31,137,016\n",
      "Trainable params: 2,623,489\n",
      "Non-trainable params: 28,513,527\n",
      "_________________________________________________________________\n"
     ]
    }
   ],
   "source": [
    "model.summary()"
   ]
  },
  {
   "cell_type": "code",
   "execution_count": 18,
   "metadata": {},
   "outputs": [],
   "source": [
    "model.compile(loss=keras.losses.BinaryCrossentropy(from_logits=False), # change from_logits=True\n",
    "              optimizer= keras.optimizers.Adam(learning_rate=1e-2),\n",
    "              metrics = [keras.metrics.BinaryAccuracy()])"
   ]
  },
  {
   "cell_type": "markdown",
   "metadata": {},
   "source": [
    "# Set up training metrics"
   ]
  },
  {
   "cell_type": "code",
   "execution_count": 19,
   "metadata": {},
   "outputs": [],
   "source": [
    "from tensorflow.keras.callbacks import ModelCheckpoint, CSVLogger"
   ]
  },
  {
   "cell_type": "code",
   "execution_count": 20,
   "metadata": {},
   "outputs": [],
   "source": [
    "dir_path = r\"C:\\Users\\kanan\\Desktop\\data_x\"\n",
    "\n",
    "results_dir = \"logs\\\\\" + model_name\n",
    "results_dir = os.path.join(dir_path, results_dir)\n",
    "\n",
    "models_dir = \"models\\\\\" + model_name\n",
    "models_dir = os.path.join(dir_path, models_dir)\n",
    "\n",
    "if not os.path.isdir(results_dir):\n",
    "    os.makedirs(results_dir)\n",
    "    \n",
    "if not os.path.isdir(models_dir):\n",
    "    os.makedirs(models_dir)"
   ]
  },
  {
   "cell_type": "code",
   "execution_count": 21,
   "metadata": {},
   "outputs": [],
   "source": [
    "log_file = os.path.join(results_dir, f\"{model_name}_bo20_lr001.csv\")"
   ]
  },
  {
   "cell_type": "code",
   "execution_count": 22,
   "metadata": {},
   "outputs": [],
   "source": [
    "callbacks = [\n",
    "    CSVLogger(log_file),\n",
    "    ModelCheckpoint(\n",
    "        filepath=os.path.join(models_dir, f\"{model_name}_bo20_lr001.h5\"),\n",
    "        save_weights_only=False,\n",
    "        save_best_only=True,\n",
    "        save_freq='epoch',\n",
    "        verbose=1\n",
    "    )\n",
    "]"
   ]
  },
  {
   "cell_type": "markdown",
   "metadata": {},
   "source": [
    "# Train model"
   ]
  },
  {
   "cell_type": "code",
   "execution_count": 23,
   "metadata": {},
   "outputs": [
    {
     "name": "stdout",
     "output_type": "stream",
     "text": [
      "Epoch 1/20\n",
      "992/992 [==============================] - ETA: 0s - loss: 0.5711 - binary_accuracy: 0.7622\n",
      "Epoch 1: val_loss improved from inf to 0.45168, saving model to C:\\Users\\kanan\\Desktop\\data_x\\models\\EfficientNetB5\\EfficientNetB5_bo20_lr001.h5\n",
      "992/992 [==============================] - 350s 340ms/step - loss: 0.5711 - binary_accuracy: 0.7622 - val_loss: 0.4517 - val_binary_accuracy: 0.7857\n",
      "Epoch 2/20\n",
      "992/992 [==============================] - ETA: 0s - loss: 0.3957 - binary_accuracy: 0.8210\n",
      "Epoch 2: val_loss improved from 0.45168 to 0.37486, saving model to C:\\Users\\kanan\\Desktop\\data_x\\models\\EfficientNetB5\\EfficientNetB5_bo20_lr001.h5\n",
      "992/992 [==============================] - 344s 347ms/step - loss: 0.3957 - binary_accuracy: 0.8210 - val_loss: 0.3749 - val_binary_accuracy: 0.8265\n",
      "Epoch 3/20\n",
      "992/992 [==============================] - ETA: 0s - loss: 0.3394 - binary_accuracy: 0.8463\n",
      "Epoch 3: val_loss improved from 0.37486 to 0.35592, saving model to C:\\Users\\kanan\\Desktop\\data_x\\models\\EfficientNetB5\\EfficientNetB5_bo20_lr001.h5\n",
      "992/992 [==============================] - 345s 348ms/step - loss: 0.3394 - binary_accuracy: 0.8463 - val_loss: 0.3559 - val_binary_accuracy: 0.8305\n",
      "Epoch 4/20\n",
      "992/992 [==============================] - ETA: 0s - loss: 0.2912 - binary_accuracy: 0.8735\n",
      "Epoch 4: val_loss improved from 0.35592 to 0.29382, saving model to C:\\Users\\kanan\\Desktop\\data_x\\models\\EfficientNetB5\\EfficientNetB5_bo20_lr001.h5\n",
      "992/992 [==============================] - 345s 348ms/step - loss: 0.2912 - binary_accuracy: 0.8735 - val_loss: 0.2938 - val_binary_accuracy: 0.8729\n",
      "Epoch 5/20\n",
      "992/992 [==============================] - ETA: 0s - loss: 0.2510 - binary_accuracy: 0.8907\n",
      "Epoch 5: val_loss improved from 0.29382 to 0.26559, saving model to C:\\Users\\kanan\\Desktop\\data_x\\models\\EfficientNetB5\\EfficientNetB5_bo20_lr001.h5\n",
      "992/992 [==============================] - 346s 348ms/step - loss: 0.2510 - binary_accuracy: 0.8907 - val_loss: 0.2656 - val_binary_accuracy: 0.8812\n",
      "Epoch 6/20\n",
      "992/992 [==============================] - ETA: 0s - loss: 0.2226 - binary_accuracy: 0.9042\n",
      "Epoch 6: val_loss did not improve from 0.26559\n",
      "992/992 [==============================] - 345s 348ms/step - loss: 0.2226 - binary_accuracy: 0.9042 - val_loss: 0.2686 - val_binary_accuracy: 0.8876\n",
      "Epoch 7/20\n",
      "992/992 [==============================] - ETA: 0s - loss: 0.1987 - binary_accuracy: 0.9166\n",
      "Epoch 7: val_loss improved from 0.26559 to 0.23338, saving model to C:\\Users\\kanan\\Desktop\\data_x\\models\\EfficientNetB5\\EfficientNetB5_bo20_lr001.h5\n",
      "992/992 [==============================] - 346s 349ms/step - loss: 0.1987 - binary_accuracy: 0.9166 - val_loss: 0.2334 - val_binary_accuracy: 0.9032\n",
      "Epoch 8/20\n",
      "992/992 [==============================] - ETA: 0s - loss: 0.1766 - binary_accuracy: 0.9238\n",
      "Epoch 8: val_loss improved from 0.23338 to 0.21337, saving model to C:\\Users\\kanan\\Desktop\\data_x\\models\\EfficientNetB5\\EfficientNetB5_bo20_lr001.h5\n",
      "992/992 [==============================] - 346s 349ms/step - loss: 0.1766 - binary_accuracy: 0.9238 - val_loss: 0.2134 - val_binary_accuracy: 0.9065\n",
      "Epoch 9/20\n",
      "992/992 [==============================] - ETA: 0s - loss: 0.1603 - binary_accuracy: 0.9337\n",
      "Epoch 9: val_loss did not improve from 0.21337\n",
      "992/992 [==============================] - 346s 349ms/step - loss: 0.1603 - binary_accuracy: 0.9337 - val_loss: 0.2376 - val_binary_accuracy: 0.9061\n",
      "Epoch 10/20\n",
      "992/992 [==============================] - ETA: 0s - loss: 0.1509 - binary_accuracy: 0.9390\n",
      "Epoch 10: val_loss did not improve from 0.21337\n",
      "992/992 [==============================] - 345s 347ms/step - loss: 0.1509 - binary_accuracy: 0.9390 - val_loss: 0.2607 - val_binary_accuracy: 0.8987\n",
      "Epoch 11/20\n",
      "992/992 [==============================] - ETA: 0s - loss: 0.1395 - binary_accuracy: 0.9443\n",
      "Epoch 11: val_loss improved from 0.21337 to 0.20034, saving model to C:\\Users\\kanan\\Desktop\\data_x\\models\\EfficientNetB5\\EfficientNetB5_bo20_lr001.h5\n",
      "992/992 [==============================] - 347s 350ms/step - loss: 0.1395 - binary_accuracy: 0.9443 - val_loss: 0.2003 - val_binary_accuracy: 0.9245\n",
      "Epoch 12/20\n",
      "992/992 [==============================] - ETA: 0s - loss: 0.1260 - binary_accuracy: 0.9500\n",
      "Epoch 12: val_loss did not improve from 0.20034\n",
      "992/992 [==============================] - 346s 349ms/step - loss: 0.1260 - binary_accuracy: 0.9500 - val_loss: 0.2059 - val_binary_accuracy: 0.9291\n",
      "Epoch 13/20\n",
      "992/992 [==============================] - ETA: 0s - loss: 0.1227 - binary_accuracy: 0.9521\n",
      "Epoch 13: val_loss improved from 0.20034 to 0.18231, saving model to C:\\Users\\kanan\\Desktop\\data_x\\models\\EfficientNetB5\\EfficientNetB5_bo20_lr001.h5\n",
      "992/992 [==============================] - 347s 350ms/step - loss: 0.1227 - binary_accuracy: 0.9521 - val_loss: 0.1823 - val_binary_accuracy: 0.9301\n",
      "Epoch 14/20\n",
      "992/992 [==============================] - ETA: 0s - loss: 0.1046 - binary_accuracy: 0.9587\n",
      "Epoch 14: val_loss improved from 0.18231 to 0.17251, saving model to C:\\Users\\kanan\\Desktop\\data_x\\models\\EfficientNetB5\\EfficientNetB5_bo20_lr001.h5\n",
      "992/992 [==============================] - 346s 349ms/step - loss: 0.1046 - binary_accuracy: 0.9587 - val_loss: 0.1725 - val_binary_accuracy: 0.9360\n",
      "Epoch 15/20\n",
      "992/992 [==============================] - ETA: 0s - loss: 0.0962 - binary_accuracy: 0.9606\n",
      "Epoch 15: val_loss did not improve from 0.17251\n",
      "992/992 [==============================] - 346s 349ms/step - loss: 0.0962 - binary_accuracy: 0.9606 - val_loss: 0.2583 - val_binary_accuracy: 0.9122\n",
      "Epoch 16/20\n",
      "992/992 [==============================] - ETA: 0s - loss: 0.0927 - binary_accuracy: 0.9636\n",
      "Epoch 16: val_loss did not improve from 0.17251\n",
      "992/992 [==============================] - 346s 349ms/step - loss: 0.0927 - binary_accuracy: 0.9636 - val_loss: 0.1987 - val_binary_accuracy: 0.9361\n",
      "Epoch 17/20\n",
      "992/992 [==============================] - ETA: 0s - loss: 0.0899 - binary_accuracy: 0.9648\n",
      "Epoch 17: val_loss improved from 0.17251 to 0.16095, saving model to C:\\Users\\kanan\\Desktop\\data_x\\models\\EfficientNetB5\\EfficientNetB5_bo20_lr001.h5\n",
      "992/992 [==============================] - 347s 350ms/step - loss: 0.0899 - binary_accuracy: 0.9648 - val_loss: 0.1609 - val_binary_accuracy: 0.9394\n",
      "Epoch 18/20\n",
      "992/992 [==============================] - ETA: 0s - loss: 0.0906 - binary_accuracy: 0.9665\n",
      "Epoch 18: val_loss did not improve from 0.16095\n",
      "992/992 [==============================] - 346s 349ms/step - loss: 0.0906 - binary_accuracy: 0.9665 - val_loss: 0.1785 - val_binary_accuracy: 0.9337\n",
      "Epoch 19/20\n",
      "992/992 [==============================] - ETA: 0s - loss: 0.0796 - binary_accuracy: 0.9689\n",
      "Epoch 19: val_loss did not improve from 0.16095\n",
      "992/992 [==============================] - 346s 349ms/step - loss: 0.0796 - binary_accuracy: 0.9689 - val_loss: 0.2035 - val_binary_accuracy: 0.9447\n",
      "Epoch 20/20\n",
      "992/992 [==============================] - ETA: 0s - loss: 0.0786 - binary_accuracy: 0.9693\n",
      "Epoch 20: val_loss did not improve from 0.16095\n",
      "992/992 [==============================] - 346s 349ms/step - loss: 0.0786 - binary_accuracy: 0.9693 - val_loss: 0.2811 - val_binary_accuracy: 0.9163\n"
     ]
    }
   ],
   "source": [
    "history = model.fit(train, \n",
    "                    validation_data=val,\n",
    "                    epochs=20, \n",
    "                    verbose=1, \n",
    "                    callbacks=callbacks)"
   ]
  },
  {
   "cell_type": "code",
   "execution_count": 24,
   "metadata": {},
   "outputs": [
    {
     "data": {
      "image/png": "[encoded data removed]",
      "text/plain": [
       "<Figure size 640x480 with 1 Axes>"
      ]
     },
     "metadata": {},
     "output_type": "display_data"
    }
   ],
   "source": [
    "fig = plt.figure()\n",
    "plt.plot(history.history['loss'], color='teal', label='loss')\n",
    "plt.plot(history.history['val_loss'], color='orange', label='val_loss')\n",
    "fig.suptitle('Loss', fontsize=20)\n",
    "plt.legend(loc=\"upper left\")\n",
    "plt.show()"
   ]
  },
  {
   "cell_type": "markdown",
   "metadata": {},
   "source": [
    "# Reducing learning rate from 0.01 to 0.001 and continue"
   ]
  },
  {
   "cell_type": "markdown",
   "metadata": {},
   "source": [
    "Load model"
   ]
  },
  {
   "cell_type": "code",
   "execution_count": 25,
   "metadata": {},
   "outputs": [],
   "source": [
    "from tensorflow.keras.models import load_model\n",
    "\n",
    "\n",
    "saved_model_path = os.path.join(models_dir, f\"{model_name}_bo20_lr001.h5\")\n",
    "new_model = load_model(saved_model_path)"
   ]
  },
  {
   "cell_type": "markdown",
   "metadata": {},
   "source": [
    "Set new learning rate"
   ]
  },
  {
   "cell_type": "code",
   "execution_count": 26,
   "metadata": {},
   "outputs": [
    {
     "name": "stdout",
     "output_type": "stream",
     "text": [
      "Old learning rate: 0.009999999776482582\n"
     ]
    }
   ],
   "source": [
    "current_optimizer = new_model.optimizer\n",
    "current_lr = current_optimizer.learning_rate.numpy()\n",
    "\n",
    "print(f\"Old learning rate: {current_lr}\")"
   ]
  },
  {
   "cell_type": "code",
   "execution_count": 27,
   "metadata": {},
   "outputs": [],
   "source": [
    "new_model.compile(loss=keras.losses.BinaryCrossentropy(from_logits=False), \n",
    "              optimizer= keras.optimizers.Adam(learning_rate=1e-3),\n",
    "              metrics = [keras.metrics.BinaryAccuracy()])"
   ]
  },
  {
   "cell_type": "code",
   "execution_count": 28,
   "metadata": {},
   "outputs": [
    {
     "name": "stdout",
     "output_type": "stream",
     "text": [
      "New learning rate: 0.0010000000474974513\n"
     ]
    }
   ],
   "source": [
    "current_optimizer = new_model.optimizer\n",
    "current_lr = current_optimizer.learning_rate.numpy()\n",
    "\n",
    "print(f\"New learning rate: {current_lr}\")"
   ]
  },
  {
   "cell_type": "markdown",
   "metadata": {},
   "source": [
    "Continue training"
   ]
  },
  {
   "cell_type": "code",
   "execution_count": 29,
   "metadata": {},
   "outputs": [],
   "source": [
    "log_file = os.path.join(results_dir, f\"{model_name}_bo20_lr0001.csv\")"
   ]
  },
  {
   "cell_type": "code",
   "execution_count": 30,
   "metadata": {},
   "outputs": [],
   "source": [
    "callbacks = [\n",
    "    CSVLogger(log_file),\n",
    "    ModelCheckpoint(\n",
    "        filepath=os.path.join(models_dir,f\"{model_name}_bo20_lr0001.h5\"),\n",
    "        save_weights_only=False,\n",
    "        save_best_only=True,\n",
    "        save_freq='epoch',\n",
    "        verbose=1\n",
    "    )\n",
    "]"
   ]
  },
  {
   "cell_type": "code",
   "execution_count": 31,
   "metadata": {},
   "outputs": [
    {
     "name": "stdout",
     "output_type": "stream",
     "text": [
      "Epoch 1/20\n",
      "992/992 [==============================] - ETA: 0s - loss: 0.0430 - binary_accuracy: 0.9833\n",
      "Epoch 1: val_loss improved from inf to 0.14309, saving model to C:\\Users\\kanan\\Desktop\\data_x\\models\\EfficientNetB5\\EfficientNetB5_bo20_lr0001.h5\n",
      "992/992 [==============================] - 358s 352ms/step - loss: 0.0430 - binary_accuracy: 0.9833 - val_loss: 0.1431 - val_binary_accuracy: 0.9592\n",
      "Epoch 2/20\n",
      "992/992 [==============================] - ETA: 0s - loss: 0.0331 - binary_accuracy: 0.9870\n",
      "Epoch 2: val_loss did not improve from 0.14309\n",
      "992/992 [==============================] - 348s 351ms/step - loss: 0.0331 - binary_accuracy: 0.9870 - val_loss: 0.1454 - val_binary_accuracy: 0.9617\n",
      "Epoch 3/20\n",
      "992/992 [==============================] - ETA: 0s - loss: 0.0287 - binary_accuracy: 0.9894\n",
      "Epoch 3: val_loss did not improve from 0.14309\n",
      "992/992 [==============================] - 348s 351ms/step - loss: 0.0287 - binary_accuracy: 0.9894 - val_loss: 0.1439 - val_binary_accuracy: 0.9633\n",
      "Epoch 4/20\n",
      "992/992 [==============================] - ETA: 0s - loss: 0.0258 - binary_accuracy: 0.9905\n",
      "Epoch 4: val_loss did not improve from 0.14309\n",
      "992/992 [==============================] - 349s 352ms/step - loss: 0.0258 - binary_accuracy: 0.9905 - val_loss: 0.1536 - val_binary_accuracy: 0.9632\n",
      "Epoch 5/20\n",
      "992/992 [==============================] - ETA: 0s - loss: 0.0233 - binary_accuracy: 0.9912\n",
      "Epoch 5: val_loss did not improve from 0.14309\n",
      "992/992 [==============================] - 349s 352ms/step - loss: 0.0233 - binary_accuracy: 0.9912 - val_loss: 0.1593 - val_binary_accuracy: 0.9622\n",
      "Epoch 6/20\n",
      "992/992 [==============================] - ETA: 0s - loss: 0.0214 - binary_accuracy: 0.9919\n",
      "Epoch 6: val_loss did not improve from 0.14309\n",
      "992/992 [==============================] - 349s 352ms/step - loss: 0.0214 - binary_accuracy: 0.9919 - val_loss: 0.1617 - val_binary_accuracy: 0.9632\n",
      "Epoch 7/20\n",
      "992/992 [==============================] - ETA: 0s - loss: 0.0195 - binary_accuracy: 0.9925\n",
      "Epoch 7: val_loss did not improve from 0.14309\n",
      "992/992 [==============================] - 349s 352ms/step - loss: 0.0195 - binary_accuracy: 0.9925 - val_loss: 0.1631 - val_binary_accuracy: 0.9643\n",
      "Epoch 8/20\n",
      "992/992 [==============================] - ETA: 0s - loss: 0.0177 - binary_accuracy: 0.9934\n",
      "Epoch 8: val_loss did not improve from 0.14309\n",
      "992/992 [==============================] - 349s 352ms/step - loss: 0.0177 - binary_accuracy: 0.9934 - val_loss: 0.1934 - val_binary_accuracy: 0.9608\n",
      "Epoch 9/20\n",
      "992/992 [==============================] - ETA: 0s - loss: 0.0172 - binary_accuracy: 0.9934\n",
      "Epoch 9: val_loss did not improve from 0.14309\n",
      "992/992 [==============================] - 350s 353ms/step - loss: 0.0172 - binary_accuracy: 0.9934 - val_loss: 0.1841 - val_binary_accuracy: 0.9640\n",
      "Epoch 10/20\n",
      "992/992 [==============================] - ETA: 0s - loss: 0.0161 - binary_accuracy: 0.9942\n",
      "Epoch 10: val_loss did not improve from 0.14309\n",
      "992/992 [==============================] - 349s 352ms/step - loss: 0.0161 - binary_accuracy: 0.9942 - val_loss: 0.1919 - val_binary_accuracy: 0.9646\n",
      "Epoch 11/20\n",
      "992/992 [==============================] - ETA: 0s - loss: 0.0148 - binary_accuracy: 0.9944\n",
      "Epoch 11: val_loss did not improve from 0.14309\n",
      "992/992 [==============================] - 350s 353ms/step - loss: 0.0148 - binary_accuracy: 0.9944 - val_loss: 0.1861 - val_binary_accuracy: 0.9640\n",
      "Epoch 12/20\n",
      "992/992 [==============================] - ETA: 0s - loss: 0.0130 - binary_accuracy: 0.9955\n",
      "Epoch 12: val_loss did not improve from 0.14309\n",
      "992/992 [==============================] - 350s 352ms/step - loss: 0.0130 - binary_accuracy: 0.9955 - val_loss: 0.1977 - val_binary_accuracy: 0.9643\n",
      "Epoch 13/20\n",
      "992/992 [==============================] - ETA: 0s - loss: 0.0125 - binary_accuracy: 0.9951\n",
      "Epoch 13: val_loss did not improve from 0.14309\n",
      "992/992 [==============================] - 350s 353ms/step - loss: 0.0125 - binary_accuracy: 0.9951 - val_loss: 0.2206 - val_binary_accuracy: 0.9640\n",
      "Epoch 14/20\n",
      "992/992 [==============================] - ETA: 0s - loss: 0.0135 - binary_accuracy: 0.9952\n",
      "Epoch 14: val_loss did not improve from 0.14309\n",
      "992/992 [==============================] - 350s 353ms/step - loss: 0.0135 - binary_accuracy: 0.9952 - val_loss: 0.2025 - val_binary_accuracy: 0.9666\n",
      "Epoch 15/20\n",
      "992/992 [==============================] - ETA: 0s - loss: 0.0119 - binary_accuracy: 0.9960\n",
      "Epoch 15: val_loss did not improve from 0.14309\n",
      "992/992 [==============================] - 350s 353ms/step - loss: 0.0119 - binary_accuracy: 0.9960 - val_loss: 0.2019 - val_binary_accuracy: 0.9657\n",
      "Epoch 16/20\n",
      "992/992 [==============================] - ETA: 0s - loss: 0.0111 - binary_accuracy: 0.9962\n",
      "Epoch 16: val_loss did not improve from 0.14309\n",
      "992/992 [==============================] - 350s 353ms/step - loss: 0.0111 - binary_accuracy: 0.9962 - val_loss: 0.2168 - val_binary_accuracy: 0.9656\n",
      "Epoch 17/20\n",
      "992/992 [==============================] - ETA: 0s - loss: 0.0098 - binary_accuracy: 0.9964\n",
      "Epoch 17: val_loss did not improve from 0.14309\n",
      "992/992 [==============================] - 350s 353ms/step - loss: 0.0098 - binary_accuracy: 0.9964 - val_loss: 0.2186 - val_binary_accuracy: 0.9652\n",
      "Epoch 18/20\n",
      "992/992 [==============================] - ETA: 0s - loss: 0.0107 - binary_accuracy: 0.9960\n",
      "Epoch 18: val_loss did not improve from 0.14309\n",
      "992/992 [==============================] - 350s 353ms/step - loss: 0.0107 - binary_accuracy: 0.9960 - val_loss: 0.2302 - val_binary_accuracy: 0.9647\n",
      "Epoch 19/20\n",
      "992/992 [==============================] - ETA: 0s - loss: 0.0094 - binary_accuracy: 0.9963\n",
      "Epoch 19: val_loss did not improve from 0.14309\n",
      "992/992 [==============================] - 351s 353ms/step - loss: 0.0094 - binary_accuracy: 0.9963 - val_loss: 0.2291 - val_binary_accuracy: 0.9661\n",
      "Epoch 20/20\n",
      "992/992 [==============================] - ETA: 0s - loss: 0.0085 - binary_accuracy: 0.9971\n",
      "Epoch 20: val_loss did not improve from 0.14309\n",
      "992/992 [==============================] - 351s 353ms/step - loss: 0.0085 - binary_accuracy: 0.9971 - val_loss: 0.2345 - val_binary_accuracy: 0.9661\n"
     ]
    }
   ],
   "source": [
    "history = new_model.fit(train, \n",
    "                    validation_data=val,\n",
    "                    epochs=20, \n",
    "                    verbose=1, \n",
    "                    callbacks=callbacks)"
   ]
  },
  {
   "cell_type": "code",
   "execution_count": 32,
   "metadata": {},
   "outputs": [
    {
     "data": {
      "image/png": "[encoded data removed]",
      "text/plain": [
       "<Figure size 640x480 with 1 Axes>"
      ]
     },
     "metadata": {},
     "output_type": "display_data"
    }
   ],
   "source": [
    "fig = plt.figure()\n",
    "plt.plot(history.history['loss'], color='teal', label='loss')\n",
    "plt.plot(history.history['val_loss'], color='orange', label='val_loss')\n",
    "fig.suptitle('Loss', fontsize=20)\n",
    "plt.legend(loc=\"upper left\")\n",
    "plt.show()"
   ]
  },
  {
   "cell_type": "markdown",
   "metadata": {},
   "source": [
    "# Test"
   ]
  },
  {
   "cell_type": "markdown",
   "metadata": {},
   "source": [
    "Load model"
   ]
  },
  {
   "cell_type": "code",
   "execution_count": 33,
   "metadata": {},
   "outputs": [],
   "source": [
    "from tensorflow.keras.models import load_model\n",
    "\n",
    "saved_model_path = os.path.join(models_dir, f\"{model_name}_bo20_lr0001.h5\")\n",
    "test_model = load_model(saved_model_path)"
   ]
  },
  {
   "cell_type": "markdown",
   "metadata": {},
   "source": [
    "Set measurement metrics"
   ]
  },
  {
   "cell_type": "code",
   "execution_count": 34,
   "metadata": {},
   "outputs": [],
   "source": [
    "from tensorflow.keras.metrics import Precision, Recall, BinaryAccuracy\n",
    "\n",
    "pre = Precision()\n",
    "re = Recall()\n",
    "acc = BinaryAccuracy()"
   ]
  },
  {
   "cell_type": "markdown",
   "metadata": {},
   "source": [
    "Load data"
   ]
  },
  {
   "cell_type": "code",
   "execution_count": 35,
   "metadata": {},
   "outputs": [
    {
     "name": "stdout",
     "output_type": "stream",
     "text": [
      "Found 7360 files belonging to 2 classes.\n"
     ]
    }
   ],
   "source": [
    "import numpy as np\n",
    "from matplotlib import pyplot as plt\n",
    "\n",
    "data_dir = r\"C:\\Users\\kanan\\Desktop\\data_x\\data_x\\test\"\n",
    "test = tf.keras.utils.image_dataset_from_directory(data_dir, image_size=(224, 224))\n",
    "\n",
    "# Expected output Found 7360 files belonging to 2 classes."
   ]
  },
  {
   "cell_type": "markdown",
   "metadata": {},
   "source": [
    "Testing"
   ]
  },
  {
   "cell_type": "code",
   "execution_count": 36,
   "metadata": {},
   "outputs": [],
   "source": [
    "test_iterator = test.as_numpy_iterator()\n",
    "batch = test_iterator.next()"
   ]
  },
  {
   "cell_type": "code",
   "execution_count": 37,
   "metadata": {},
   "outputs": [
    {
     "name": "stdout",
     "output_type": "stream",
     "text": [
      "1/1 [==============================] - 2s 2s/step\n",
      "1/1 [==============================] - 0s 31ms/step\n",
      "1/1 [==============================] - 0s 31ms/step\n",
      "1/1 [==============================] - 0s 31ms/step\n",
      "1/1 [==============================] - 0s 47ms/step\n",
      "1/1 [==============================] - 0s 31ms/step\n",
      "1/1 [==============================] - 0s 31ms/step\n",
      "1/1 [==============================] - 0s 47ms/step\n",
      "1/1 [==============================] - 0s 47ms/step\n",
      "1/1 [==============================] - 0s 31ms/step\n",
      "1/1 [==============================] - 0s 31ms/step\n",
      "1/1 [==============================] - 0s 31ms/step\n",
      "1/1 [==============================] - 0s 47ms/step\n",
      "1/1 [==============================] - 0s 47ms/step\n",
      "1/1 [==============================] - 0s 31ms/step\n",
      "1/1 [==============================] - 0s 31ms/step\n",
      "1/1 [==============================] - 0s 47ms/step\n",
      "1/1 [==============================] - 0s 47ms/step\n",
      "1/1 [==============================] - 0s 47ms/step\n",
      "1/1 [==============================] - 0s 31ms/step\n",
      "1/1 [==============================] - 0s 47ms/step\n",
      "1/1 [==============================] - 0s 31ms/step\n",
      "1/1 [==============================] - 0s 47ms/step\n",
      "1/1 [==============================] - 0s 47ms/step\n",
      "1/1 [==============================] - 0s 47ms/step\n",
      "1/1 [==============================] - 0s 47ms/step\n",
      "1/1 [==============================] - 0s 31ms/step\n",
      "1/1 [==============================] - 0s 31ms/step\n",
      "1/1 [==============================] - 0s 31ms/step\n",
      "1/1 [==============================] - 0s 31ms/step\n",
      "1/1 [==============================] - 0s 47ms/step\n",
      "1/1 [==============================] - 0s 47ms/step\n",
      "1/1 [==============================] - 0s 31ms/step\n",
      "1/1 [==============================] - 0s 31ms/step\n",
      "1/1 [==============================] - 0s 47ms/step\n",
      "1/1 [==============================] - 0s 31ms/step\n",
      "1/1 [==============================] - 0s 31ms/step\n",
      "1/1 [==============================] - 0s 31ms/step\n",
      "1/1 [==============================] - 0s 47ms/step\n",
      "1/1 [==============================] - 0s 47ms/step\n",
      "1/1 [==============================] - 0s 47ms/step\n",
      "1/1 [==============================] - 0s 31ms/step\n",
      "1/1 [==============================] - 0s 47ms/step\n",
      "1/1 [==============================] - 0s 47ms/step\n",
      "1/1 [==============================] - 0s 47ms/step\n",
      "1/1 [==============================] - 0s 47ms/step\n",
      "1/1 [==============================] - 0s 31ms/step\n",
      "1/1 [==============================] - 0s 31ms/step\n",
      "1/1 [==============================] - 0s 47ms/step\n",
      "1/1 [==============================] - 0s 31ms/step\n",
      "1/1 [==============================] - 0s 31ms/step\n",
      "1/1 [==============================] - 0s 47ms/step\n",
      "1/1 [==============================] - 0s 47ms/step\n",
      "1/1 [==============================] - 0s 31ms/step\n",
      "1/1 [==============================] - 0s 47ms/step\n",
      "1/1 [==============================] - 0s 47ms/step\n",
      "1/1 [==============================] - 0s 47ms/step\n",
      "1/1 [==============================] - 0s 47ms/step\n",
      "1/1 [==============================] - 0s 31ms/step\n",
      "1/1 [==============================] - 0s 31ms/step\n",
      "1/1 [==============================] - 0s 47ms/step\n",
      "1/1 [==============================] - 0s 47ms/step\n",
      "1/1 [==============================] - 0s 47ms/step\n",
      "1/1 [==============================] - 0s 47ms/step\n",
      "1/1 [==============================] - 0s 47ms/step\n",
      "1/1 [==============================] - 0s 47ms/step\n",
      "1/1 [==============================] - 0s 31ms/step\n",
      "1/1 [==============================] - 0s 47ms/step\n",
      "1/1 [==============================] - 0s 47ms/step\n",
      "1/1 [==============================] - 0s 47ms/step\n",
      "1/1 [==============================] - 0s 31ms/step\n",
      "1/1 [==============================] - 0s 31ms/step\n",
      "1/1 [==============================] - 0s 47ms/step\n",
      "1/1 [==============================] - 0s 47ms/step\n",
      "1/1 [==============================] - 0s 31ms/step\n",
      "1/1 [==============================] - 0s 47ms/step\n",
      "1/1 [==============================] - 0s 31ms/step\n",
      "1/1 [==============================] - 0s 47ms/step\n",
      "1/1 [==============================] - 0s 31ms/step\n",
      "1/1 [==============================] - 0s 47ms/step\n",
      "1/1 [==============================] - 0s 31ms/step\n",
      "1/1 [==============================] - 0s 47ms/step\n",
      "1/1 [==============================] - 0s 31ms/step\n",
      "1/1 [==============================] - 0s 47ms/step\n",
      "1/1 [==============================] - 0s 31ms/step\n",
      "1/1 [==============================] - 0s 47ms/step\n",
      "1/1 [==============================] - 0s 47ms/step\n",
      "1/1 [==============================] - 0s 31ms/step\n",
      "1/1 [==============================] - 0s 31ms/step\n",
      "1/1 [==============================] - 0s 31ms/step\n",
      "1/1 [==============================] - 0s 47ms/step\n",
      "1/1 [==============================] - 0s 47ms/step\n",
      "1/1 [==============================] - 0s 31ms/step\n",
      "1/1 [==============================] - 0s 47ms/step\n",
      "1/1 [==============================] - 0s 47ms/step\n",
      "1/1 [==============================] - 0s 31ms/step\n",
      "1/1 [==============================] - 0s 47ms/step\n",
      "1/1 [==============================] - 0s 47ms/step\n",
      "1/1 [==============================] - 0s 31ms/step\n",
      "1/1 [==============================] - 0s 47ms/step\n",
      "1/1 [==============================] - 0s 31ms/step\n",
      "1/1 [==============================] - 0s 31ms/step\n",
      "1/1 [==============================] - 0s 31ms/step\n",
      "1/1 [==============================] - 0s 47ms/step\n",
      "1/1 [==============================] - 0s 47ms/step\n",
      "1/1 [==============================] - 0s 47ms/step\n",
      "1/1 [==============================] - 0s 47ms/step\n",
      "1/1 [==============================] - 0s 47ms/step\n",
      "1/1 [==============================] - 0s 31ms/step\n",
      "1/1 [==============================] - 0s 31ms/step\n",
      "1/1 [==============================] - 0s 31ms/step\n",
      "1/1 [==============================] - 0s 31ms/step\n",
      "1/1 [==============================] - 0s 31ms/step\n",
      "1/1 [==============================] - 0s 31ms/step\n",
      "1/1 [==============================] - 0s 31ms/step\n",
      "1/1 [==============================] - 0s 31ms/step\n",
      "1/1 [==============================] - 0s 47ms/step\n",
      "1/1 [==============================] - 0s 47ms/step\n",
      "1/1 [==============================] - 0s 47ms/step\n",
      "1/1 [==============================] - 0s 31ms/step\n",
      "1/1 [==============================] - 0s 31ms/step\n",
      "1/1 [==============================] - 0s 47ms/step\n",
      "1/1 [==============================] - 0s 31ms/step\n",
      "1/1 [==============================] - 0s 47ms/step\n",
      "1/1 [==============================] - 0s 31ms/step\n",
      "1/1 [==============================] - 0s 47ms/step\n",
      "1/1 [==============================] - 0s 31ms/step\n",
      "1/1 [==============================] - 0s 47ms/step\n",
      "1/1 [==============================] - 0s 31ms/step\n",
      "1/1 [==============================] - 0s 31ms/step\n",
      "1/1 [==============================] - 0s 31ms/step\n",
      "1/1 [==============================] - 0s 47ms/step\n",
      "1/1 [==============================] - 0s 47ms/step\n",
      "1/1 [==============================] - 0s 31ms/step\n",
      "1/1 [==============================] - 0s 31ms/step\n",
      "1/1 [==============================] - 0s 47ms/step\n",
      "1/1 [==============================] - 0s 31ms/step\n",
      "1/1 [==============================] - 0s 31ms/step\n",
      "1/1 [==============================] - 0s 47ms/step\n",
      "1/1 [==============================] - 0s 47ms/step\n",
      "1/1 [==============================] - 0s 31ms/step\n",
      "1/1 [==============================] - 0s 31ms/step\n",
      "1/1 [==============================] - 0s 47ms/step\n",
      "1/1 [==============================] - 0s 47ms/step\n",
      "1/1 [==============================] - 0s 47ms/step\n",
      "1/1 [==============================] - 0s 47ms/step\n",
      "1/1 [==============================] - 0s 31ms/step\n",
      "1/1 [==============================] - 0s 31ms/step\n",
      "1/1 [==============================] - 0s 47ms/step\n",
      "1/1 [==============================] - 0s 47ms/step\n",
      "1/1 [==============================] - 0s 31ms/step\n",
      "1/1 [==============================] - 0s 47ms/step\n",
      "1/1 [==============================] - 0s 31ms/step\n",
      "1/1 [==============================] - 0s 31ms/step\n",
      "1/1 [==============================] - 0s 47ms/step\n",
      "1/1 [==============================] - 0s 47ms/step\n",
      "1/1 [==============================] - 0s 47ms/step\n",
      "1/1 [==============================] - 0s 47ms/step\n",
      "1/1 [==============================] - 0s 47ms/step\n",
      "1/1 [==============================] - 0s 31ms/step\n",
      "1/1 [==============================] - 0s 47ms/step\n",
      "1/1 [==============================] - 0s 31ms/step\n",
      "1/1 [==============================] - 0s 47ms/step\n",
      "1/1 [==============================] - 0s 47ms/step\n",
      "1/1 [==============================] - 0s 31ms/step\n",
      "1/1 [==============================] - 0s 47ms/step\n",
      "1/1 [==============================] - 0s 31ms/step\n",
      "1/1 [==============================] - 0s 31ms/step\n",
      "1/1 [==============================] - 0s 47ms/step\n",
      "1/1 [==============================] - 0s 31ms/step\n",
      "1/1 [==============================] - 0s 31ms/step\n",
      "1/1 [==============================] - 0s 31ms/step\n",
      "1/1 [==============================] - 0s 31ms/step\n",
      "1/1 [==============================] - 0s 31ms/step\n",
      "1/1 [==============================] - 0s 31ms/step\n",
      "1/1 [==============================] - 0s 31ms/step\n",
      "1/1 [==============================] - 0s 31ms/step\n",
      "1/1 [==============================] - 0s 31ms/step\n",
      "1/1 [==============================] - 0s 47ms/step\n",
      "1/1 [==============================] - 0s 47ms/step\n",
      "1/1 [==============================] - 0s 31ms/step\n",
      "1/1 [==============================] - 0s 31ms/step\n",
      "1/1 [==============================] - 0s 47ms/step\n",
      "1/1 [==============================] - 0s 31ms/step\n",
      "1/1 [==============================] - 0s 31ms/step\n",
      "1/1 [==============================] - 0s 31ms/step\n",
      "1/1 [==============================] - 0s 47ms/step\n",
      "1/1 [==============================] - 0s 31ms/step\n",
      "1/1 [==============================] - 0s 31ms/step\n",
      "1/1 [==============================] - 0s 31ms/step\n",
      "1/1 [==============================] - 0s 31ms/step\n",
      "1/1 [==============================] - 0s 31ms/step\n",
      "1/1 [==============================] - 0s 47ms/step\n",
      "1/1 [==============================] - 0s 47ms/step\n",
      "1/1 [==============================] - 0s 47ms/step\n",
      "1/1 [==============================] - 0s 31ms/step\n",
      "1/1 [==============================] - 0s 31ms/step\n",
      "1/1 [==============================] - 0s 31ms/step\n",
      "1/1 [==============================] - 0s 31ms/step\n",
      "1/1 [==============================] - 0s 47ms/step\n",
      "1/1 [==============================] - 0s 47ms/step\n",
      "1/1 [==============================] - 0s 47ms/step\n",
      "1/1 [==============================] - 0s 47ms/step\n",
      "1/1 [==============================] - 0s 47ms/step\n",
      "1/1 [==============================] - 0s 47ms/step\n",
      "1/1 [==============================] - 0s 47ms/step\n",
      "1/1 [==============================] - 0s 47ms/step\n",
      "1/1 [==============================] - 0s 47ms/step\n",
      "1/1 [==============================] - 0s 31ms/step\n",
      "1/1 [==============================] - 0s 47ms/step\n",
      "1/1 [==============================] - 0s 47ms/step\n",
      "1/1 [==============================] - 0s 31ms/step\n",
      "1/1 [==============================] - 0s 47ms/step\n",
      "1/1 [==============================] - 0s 31ms/step\n",
      "1/1 [==============================] - 0s 47ms/step\n",
      "1/1 [==============================] - 0s 47ms/step\n",
      "1/1 [==============================] - 0s 47ms/step\n",
      "1/1 [==============================] - 0s 31ms/step\n",
      "1/1 [==============================] - 0s 31ms/step\n",
      "1/1 [==============================] - 0s 31ms/step\n",
      "1/1 [==============================] - 0s 31ms/step\n",
      "1/1 [==============================] - 0s 31ms/step\n",
      "1/1 [==============================] - 0s 47ms/step\n",
      "1/1 [==============================] - 0s 47ms/step\n",
      "1/1 [==============================] - 0s 31ms/step\n",
      "1/1 [==============================] - 0s 31ms/step\n",
      "1/1 [==============================] - 0s 31ms/step\n",
      "1/1 [==============================] - 0s 47ms/step\n",
      "1/1 [==============================] - 0s 31ms/step\n"
     ]
    }
   ],
   "source": [
    "for batch in test_iterator: \n",
    "    X, y = batch\n",
    "    yhat = test_model.predict(X)\n",
    "    pre.update_state(y, yhat)\n",
    "    re.update_state(y, yhat)\n",
    "    acc.update_state(y, yhat)"
   ]
  },
  {
   "cell_type": "markdown",
   "metadata": {},
   "source": [
    "Test results"
   ]
  },
  {
   "cell_type": "code",
   "execution_count": 38,
   "metadata": {},
   "outputs": [
    {
     "name": "stdout",
     "output_type": "stream",
     "text": [
      "Precision : 0.8605230450630188\n",
      "Recall : 0.7662453055381775\n",
      "Accuracy : 0.7797489166259766\n",
      "F1 Score : 0.8106522560119629\n"
     ]
    }
   ],
   "source": [
    "f1_score = 2 * (pre.result() * re.result()) / (pre.result() + re.result())\n",
    "print(f\"Precision : {pre.result().numpy()}\")\n",
    "print(f\"Recall : {re.result().numpy()}\")\n",
    "print(f\"Accuracy : {acc.result().numpy()}\")\n",
    "print(f\"F1 Score : {f1_score.numpy()}\")"
   ]
  }
 ],
 "metadata": {
  "kernelspec": {
   "display_name": "2dmodelGPU",
   "language": "python",
   "name": "python3"
  },
  "language_info": {
   "codemirror_mode": {
    "name": "ipython",
    "version": 3
   },
   "file_extension": ".py",
   "mimetype": "text/x-python",
   "name": "python",
   "nbconvert_exporter": "python",
   "pygments_lexer": "ipython3",
   "version": "3.10.14"
  }
 },
 "nbformat": 4,
 "nbformat_minor": 2
}
