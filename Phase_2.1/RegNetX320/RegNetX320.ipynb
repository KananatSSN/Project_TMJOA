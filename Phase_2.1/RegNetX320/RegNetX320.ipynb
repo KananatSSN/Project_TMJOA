{
 "cells": [
  {
   "cell_type": "code",
   "execution_count": 1,
   "metadata": {},
   "outputs": [
    {
     "name": "stdout",
     "output_type": "stream",
     "text": [
      "2.9.0 1.26.4\n"
     ]
    }
   ],
   "source": [
    "import os\n",
    "import numpy as np\n",
    "\n",
    "import tensorflow as tf\n",
    "from tensorflow import keras\n",
    "\n",
    "print(tf.__version__, np.__version__)\n",
    "\n",
    "# Expected output 2.9.0, 1.26.4"
   ]
  },
  {
   "cell_type": "markdown",
   "metadata": {},
   "source": [
    "## Detect GPU and limit GPU memory usage if exist"
   ]
  },
  {
   "cell_type": "code",
   "execution_count": 2,
   "metadata": {},
   "outputs": [],
   "source": [
    "USE_GPU = True"
   ]
  },
  {
   "cell_type": "code",
   "execution_count": 3,
   "metadata": {},
   "outputs": [
    {
     "name": "stdout",
     "output_type": "stream",
     "text": [
      "[PhysicalDevice(name='/physical_device:GPU:0', device_type='GPU')]\n"
     ]
    }
   ],
   "source": [
    "gpus = tf.config.experimental.list_physical_devices('GPU')\n",
    "\n",
    "if gpus != []:\n",
    "    print(gpus)\n",
    "    for gpu in gpus: \n",
    "        tf.config.experimental.set_memory_growth(gpu, True)\n",
    "else:\n",
    "    print(\"No GPU on this machine\")\n",
    "\n",
    "# Expected output [PhysicalDevice(name='/physical_device:GPU:0', device_type='GPU')]"
   ]
  },
  {
   "cell_type": "code",
   "execution_count": 4,
   "metadata": {},
   "outputs": [],
   "source": [
    "if USE_GPU == False:\n",
    "    os.environ['CUDA_VISIBLE_DEVICES'] = '-1'"
   ]
  },
  {
   "cell_type": "code",
   "execution_count": 5,
   "metadata": {},
   "outputs": [
    {
     "name": "stdout",
     "output_type": "stream",
     "text": [
      "GPU found\n"
     ]
    }
   ],
   "source": [
    "if tf.test.gpu_device_name():\n",
    "    print('GPU found')\n",
    "else:\n",
    "    print(\"No GPU found\")"
   ]
  },
  {
   "cell_type": "markdown",
   "metadata": {},
   "source": [
    "# Model selector"
   ]
  },
  {
   "cell_type": "code",
   "execution_count": 6,
   "metadata": {},
   "outputs": [
    {
     "name": "stdout",
     "output_type": "stream",
     "text": [
      "Downloading data from https://storage.googleapis.com/tensorflow/keras-applications/regnet/regnetx320_notop.h5\n",
      "422542312/422542312 [==============================] - 22s 0us/step\n"
     ]
    }
   ],
   "source": [
    "INPUT_SHAPE = (224,224,3)\n",
    "base_model = tf.keras.applications.RegNetX320(input_shape=INPUT_SHAPE, include_top=False, weights='imagenet')\n",
    "model_name = \"RegNetX320\""
   ]
  },
  {
   "cell_type": "markdown",
   "metadata": {},
   "source": [
    "# Load data"
   ]
  },
  {
   "cell_type": "code",
   "execution_count": 7,
   "metadata": {},
   "outputs": [
    {
     "name": "stdout",
     "output_type": "stream",
     "text": [
      "Found 39703 files belonging to 2 classes.\n"
     ]
    }
   ],
   "source": [
    "import numpy as np\n",
    "from matplotlib import pyplot as plt\n",
    "\n",
    "data_dir = r\"C:\\Users\\kanan\\Desktop\\data_x\\data_x\\train\"\n",
    "data = tf.keras.utils.image_dataset_from_directory(data_dir, image_size=(224, 224))\n",
    "\n",
    "# Expected output Found 39703 files belonging to 2 classes."
   ]
  },
  {
   "cell_type": "code",
   "execution_count": 8,
   "metadata": {},
   "outputs": [],
   "source": [
    "data_iterator = data.as_numpy_iterator()\n",
    "batch = data_iterator.next()"
   ]
  },
  {
   "cell_type": "markdown",
   "metadata": {},
   "source": [
    "# Split Train/Val"
   ]
  },
  {
   "cell_type": "code",
   "execution_count": 9,
   "metadata": {},
   "outputs": [],
   "source": [
    "train_size = int(len(data)*.8)\n",
    "val_size = int(len(data)*.2)"
   ]
  },
  {
   "cell_type": "code",
   "execution_count": 10,
   "metadata": {},
   "outputs": [],
   "source": [
    "train = data.take(train_size)\n",
    "val = data.skip(train_size).take(val_size)"
   ]
  },
  {
   "cell_type": "markdown",
   "metadata": {},
   "source": [
    "# Build model"
   ]
  },
  {
   "cell_type": "code",
   "execution_count": 11,
   "metadata": {},
   "outputs": [],
   "source": [
    "# True = Training the base model\n",
    "\n",
    "TRAIN_FULL_NETWROK = False"
   ]
  },
  {
   "cell_type": "code",
   "execution_count": 12,
   "metadata": {},
   "outputs": [],
   "source": [
    "IMG_DIM = (224,224)"
   ]
  },
  {
   "cell_type": "code",
   "execution_count": 13,
   "metadata": {},
   "outputs": [],
   "source": [
    "base_model.trainable = TRAIN_FULL_NETWROK"
   ]
  },
  {
   "cell_type": "code",
   "execution_count": 14,
   "metadata": {},
   "outputs": [],
   "source": [
    "from tensorflow.keras.layers import Dense, GlobalAveragePooling2D\n",
    "from tensorflow.keras.models import Model"
   ]
  },
  {
   "cell_type": "code",
   "execution_count": 15,
   "metadata": {},
   "outputs": [],
   "source": [
    "inputs = tf.keras.Input(shape=INPUT_SHAPE)\n",
    "\n",
    "x = base_model(inputs, training=TRAIN_FULL_NETWROK)\n",
    "x = GlobalAveragePooling2D()(x)\n",
    "x = Dense(1024, activation='relu')(x)\n",
    "x = Dense(512, activation='relu')(x)\n",
    "\n",
    "# A Dense classifier with a single unit (binary classification)\n",
    "outputs = Dense(1, activation='sigmoid')(x)\n",
    "model = Model(inputs=inputs, outputs=outputs)"
   ]
  },
  {
   "cell_type": "code",
   "execution_count": 16,
   "metadata": {},
   "outputs": [
    {
     "data": {
      "text/html": [
       "<div>\n",
       "<style scoped>\n",
       "    .dataframe tbody tr th:only-of-type {\n",
       "        vertical-align: middle;\n",
       "    }\n",
       "\n",
       "    .dataframe tbody tr th {\n",
       "        vertical-align: top;\n",
       "    }\n",
       "\n",
       "    .dataframe thead th {\n",
       "        text-align: right;\n",
       "    }\n",
       "</style>\n",
       "<table border=\"1\" class=\"dataframe\">\n",
       "  <thead>\n",
       "    <tr style=\"text-align: right;\">\n",
       "      <th></th>\n",
       "      <th>Layer Type</th>\n",
       "      <th>Layer Name</th>\n",
       "      <th>Layer Trainable</th>\n",
       "    </tr>\n",
       "  </thead>\n",
       "  <tbody>\n",
       "    <tr>\n",
       "      <th>0</th>\n",
       "      <td>&lt;keras.engine.input_layer.InputLayer object at 0x000001570A7F7820&gt;</td>\n",
       "      <td>input_2</td>\n",
       "      <td>True</td>\n",
       "    </tr>\n",
       "    <tr>\n",
       "      <th>1</th>\n",
       "      <td>&lt;keras.engine.functional.Functional object at 0x000001564AFC70D0&gt;</td>\n",
       "      <td>regnetx320</td>\n",
       "      <td>False</td>\n",
       "    </tr>\n",
       "    <tr>\n",
       "      <th>2</th>\n",
       "      <td>&lt;keras.layers.pooling.global_average_pooling2d.GlobalAveragePooling2D object at 0x000001570A8D81C0&gt;</td>\n",
       "      <td>global_average_pooling2d</td>\n",
       "      <td>True</td>\n",
       "    </tr>\n",
       "    <tr>\n",
       "      <th>3</th>\n",
       "      <td>&lt;keras.layers.core.dense.Dense object at 0x000001570A7F7EB0&gt;</td>\n",
       "      <td>dense</td>\n",
       "      <td>True</td>\n",
       "    </tr>\n",
       "    <tr>\n",
       "      <th>4</th>\n",
       "      <td>&lt;keras.layers.core.dense.Dense object at 0x0000015640B186A0&gt;</td>\n",
       "      <td>dense_1</td>\n",
       "      <td>True</td>\n",
       "    </tr>\n",
       "    <tr>\n",
       "      <th>5</th>\n",
       "      <td>&lt;keras.layers.core.dense.Dense object at 0x000001570AB93F10&gt;</td>\n",
       "      <td>dense_2</td>\n",
       "      <td>True</td>\n",
       "    </tr>\n",
       "  </tbody>\n",
       "</table>\n",
       "</div>"
      ],
      "text/plain": [
       "                                                                                            Layer Type  \\\n",
       "0                                   <keras.engine.input_layer.InputLayer object at 0x000001570A7F7820>   \n",
       "1                                    <keras.engine.functional.Functional object at 0x000001564AFC70D0>   \n",
       "2  <keras.layers.pooling.global_average_pooling2d.GlobalAveragePooling2D object at 0x000001570A8D81C0>   \n",
       "3                                         <keras.layers.core.dense.Dense object at 0x000001570A7F7EB0>   \n",
       "4                                         <keras.layers.core.dense.Dense object at 0x0000015640B186A0>   \n",
       "5                                         <keras.layers.core.dense.Dense object at 0x000001570AB93F10>   \n",
       "\n",
       "                 Layer Name  Layer Trainable  \n",
       "0                   input_2             True  \n",
       "1                regnetx320            False  \n",
       "2  global_average_pooling2d             True  \n",
       "3                     dense             True  \n",
       "4                   dense_1             True  \n",
       "5                   dense_2             True  "
      ]
     },
     "execution_count": 16,
     "metadata": {},
     "output_type": "execute_result"
    }
   ],
   "source": [
    "import pandas as pd\n",
    "\n",
    "pd.set_option('max_colwidth', None)\n",
    "layers = [(layer, layer.name, layer.trainable) for layer in model.layers]\n",
    "pd.DataFrame(layers, columns=['Layer Type', 'Layer Name', 'Layer Trainable'])"
   ]
  },
  {
   "cell_type": "code",
   "execution_count": 17,
   "metadata": {},
   "outputs": [
    {
     "name": "stdout",
     "output_type": "stream",
     "text": [
      "Model: \"model\"\n",
      "_________________________________________________________________\n",
      " Layer (type)                Output Shape              Param #   \n",
      "=================================================================\n",
      " input_2 (InputLayer)        [(None, 224, 224, 3)]     0         \n",
      "                                                                 \n",
      " regnetx320 (Functional)     (None, 7, 7, 2520)        105452576 \n",
      "                                                                 \n",
      " global_average_pooling2d (G  (None, 2520)             0         \n",
      " lobalAveragePooling2D)                                          \n",
      "                                                                 \n",
      " dense (Dense)               (None, 1024)              2581504   \n",
      "                                                                 \n",
      " dense_1 (Dense)             (None, 512)               524800    \n",
      "                                                                 \n",
      " dense_2 (Dense)             (None, 1)                 513       \n",
      "                                                                 \n",
      "=================================================================\n",
      "Total params: 108,559,393\n",
      "Trainable params: 3,106,817\n",
      "Non-trainable params: 105,452,576\n",
      "_________________________________________________________________\n"
     ]
    }
   ],
   "source": [
    "model.summary()"
   ]
  },
  {
   "cell_type": "code",
   "execution_count": 18,
   "metadata": {},
   "outputs": [],
   "source": [
    "model.compile(loss=keras.losses.BinaryCrossentropy(from_logits=False), # change from_logits=True\n",
    "              optimizer= keras.optimizers.Adam(learning_rate=1e-2),\n",
    "              metrics = [keras.metrics.BinaryAccuracy()])"
   ]
  },
  {
   "cell_type": "markdown",
   "metadata": {},
   "source": [
    "# Set up training metrics"
   ]
  },
  {
   "cell_type": "code",
   "execution_count": 19,
   "metadata": {},
   "outputs": [],
   "source": [
    "from tensorflow.keras.callbacks import ModelCheckpoint, CSVLogger"
   ]
  },
  {
   "cell_type": "code",
   "execution_count": 20,
   "metadata": {},
   "outputs": [],
   "source": [
    "dir_path = r\"C:\\Users\\kanan\\Desktop\\data_x\"\n",
    "\n",
    "results_dir = \"logs\\\\\" + model_name\n",
    "results_dir = os.path.join(dir_path, results_dir)\n",
    "\n",
    "models_dir = \"models\\\\\" + model_name\n",
    "models_dir = os.path.join(dir_path, models_dir)\n",
    "\n",
    "if not os.path.isdir(results_dir):\n",
    "    os.makedirs(results_dir)\n",
    "    \n",
    "if not os.path.isdir(models_dir):\n",
    "    os.makedirs(models_dir)"
   ]
  },
  {
   "cell_type": "code",
   "execution_count": 21,
   "metadata": {},
   "outputs": [],
   "source": [
    "log_file = os.path.join(results_dir, f\"{model_name}_bo20_lr001.csv\")"
   ]
  },
  {
   "cell_type": "code",
   "execution_count": 22,
   "metadata": {},
   "outputs": [],
   "source": [
    "callbacks = [\n",
    "    CSVLogger(log_file),\n",
    "    ModelCheckpoint(\n",
    "        filepath=os.path.join(models_dir, f\"{model_name}_bo20_lr001.h5\"),\n",
    "        save_weights_only=False,\n",
    "        save_best_only=True,\n",
    "        save_freq='epoch',\n",
    "        verbose=1\n",
    "    )\n",
    "]"
   ]
  },
  {
   "cell_type": "markdown",
   "metadata": {},
   "source": [
    "# Train model"
   ]
  },
  {
   "cell_type": "code",
   "execution_count": 23,
   "metadata": {},
   "outputs": [
    {
     "name": "stdout",
     "output_type": "stream",
     "text": [
      "Epoch 1/20\n",
      "992/992 [==============================] - ETA: 0s - loss: 0.6409 - binary_accuracy: 0.7287\n",
      "Epoch 1: val_loss improved from inf to 0.47518, saving model to C:\\Users\\kanan\\Desktop\\data_x\\models\\RegNetX320\\RegNetX320_bo20_lr001.h5\n",
      "992/992 [==============================] - 931s 923ms/step - loss: 0.6409 - binary_accuracy: 0.7287 - val_loss: 0.4752 - val_binary_accuracy: 0.7776\n",
      "Epoch 2/20\n",
      "992/992 [==============================] - ETA: 0s - loss: 0.4746 - binary_accuracy: 0.7794\n",
      "Epoch 2: val_loss improved from 0.47518 to 0.45361, saving model to C:\\Users\\kanan\\Desktop\\data_x\\models\\RegNetX320\\RegNetX320_bo20_lr001.h5\n",
      "992/992 [==============================] - 951s 959ms/step - loss: 0.4746 - binary_accuracy: 0.7794 - val_loss: 0.4536 - val_binary_accuracy: 0.8009\n",
      "Epoch 3/20\n",
      "992/992 [==============================] - ETA: 0s - loss: 0.4419 - binary_accuracy: 0.7967\n",
      "Epoch 3: val_loss improved from 0.45361 to 0.41717, saving model to C:\\Users\\kanan\\Desktop\\data_x\\models\\RegNetX320\\RegNetX320_bo20_lr001.h5\n",
      "992/992 [==============================] - 956s 964ms/step - loss: 0.4419 - binary_accuracy: 0.7967 - val_loss: 0.4172 - val_binary_accuracy: 0.8088\n",
      "Epoch 4/20\n",
      "992/992 [==============================] - ETA: 0s - loss: 0.4235 - binary_accuracy: 0.8060\n",
      "Epoch 4: val_loss improved from 0.41717 to 0.41043, saving model to C:\\Users\\kanan\\Desktop\\data_x\\models\\RegNetX320\\RegNetX320_bo20_lr001.h5\n",
      "992/992 [==============================] - 964s 972ms/step - loss: 0.4235 - binary_accuracy: 0.8060 - val_loss: 0.4104 - val_binary_accuracy: 0.8158\n",
      "Epoch 5/20\n",
      "992/992 [==============================] - ETA: 0s - loss: 0.4071 - binary_accuracy: 0.8151\n",
      "Epoch 5: val_loss did not improve from 0.41043\n",
      "992/992 [==============================] - 962s 970ms/step - loss: 0.4071 - binary_accuracy: 0.8151 - val_loss: 0.4283 - val_binary_accuracy: 0.7973\n",
      "Epoch 6/20\n",
      "992/992 [==============================] - ETA: 0s - loss: 0.4015 - binary_accuracy: 0.8167\n",
      "Epoch 6: val_loss improved from 0.41043 to 0.39273, saving model to C:\\Users\\kanan\\Desktop\\data_x\\models\\RegNetX320\\RegNetX320_bo20_lr001.h5\n",
      "992/992 [==============================] - 964s 972ms/step - loss: 0.4015 - binary_accuracy: 0.8167 - val_loss: 0.3927 - val_binary_accuracy: 0.8231\n",
      "Epoch 7/20\n",
      "992/992 [==============================] - ETA: 0s - loss: 0.3933 - binary_accuracy: 0.8190\n",
      "Epoch 7: val_loss did not improve from 0.39273\n",
      "992/992 [==============================] - 966s 974ms/step - loss: 0.3933 - binary_accuracy: 0.8190 - val_loss: 0.4581 - val_binary_accuracy: 0.7824\n",
      "Epoch 8/20\n",
      "992/992 [==============================] - ETA: 0s - loss: 0.3774 - binary_accuracy: 0.8276\n",
      "Epoch 8: val_loss improved from 0.39273 to 0.38542, saving model to C:\\Users\\kanan\\Desktop\\data_x\\models\\RegNetX320\\RegNetX320_bo20_lr001.h5\n",
      "992/992 [==============================] - 962s 969ms/step - loss: 0.3774 - binary_accuracy: 0.8276 - val_loss: 0.3854 - val_binary_accuracy: 0.8305\n",
      "Epoch 9/20\n",
      "992/992 [==============================] - ETA: 0s - loss: 0.3795 - binary_accuracy: 0.8284\n",
      "Epoch 9: val_loss improved from 0.38542 to 0.37137, saving model to C:\\Users\\kanan\\Desktop\\data_x\\models\\RegNetX320\\RegNetX320_bo20_lr001.h5\n",
      "992/992 [==============================] - 927s 935ms/step - loss: 0.3795 - binary_accuracy: 0.8284 - val_loss: 0.3714 - val_binary_accuracy: 0.8317\n",
      "Epoch 10/20\n",
      "992/992 [==============================] - ETA: 0s - loss: 0.3674 - binary_accuracy: 0.8356\n",
      "Epoch 10: val_loss did not improve from 0.37137\n",
      "992/992 [==============================] - 923s 930ms/step - loss: 0.3674 - binary_accuracy: 0.8356 - val_loss: 0.3761 - val_binary_accuracy: 0.8351\n",
      "Epoch 11/20\n",
      "992/992 [==============================] - ETA: 0s - loss: 0.3578 - binary_accuracy: 0.8410\n",
      "Epoch 11: val_loss did not improve from 0.37137\n",
      "992/992 [==============================] - 921s 928ms/step - loss: 0.3578 - binary_accuracy: 0.8410 - val_loss: 0.4200 - val_binary_accuracy: 0.8153\n",
      "Epoch 12/20\n",
      "992/992 [==============================] - ETA: 0s - loss: 0.3530 - binary_accuracy: 0.8418\n",
      "Epoch 12: val_loss improved from 0.37137 to 0.35637, saving model to C:\\Users\\kanan\\Desktop\\data_x\\models\\RegNetX320\\RegNetX320_bo20_lr001.h5\n",
      "992/992 [==============================] - 927s 935ms/step - loss: 0.3530 - binary_accuracy: 0.8418 - val_loss: 0.3564 - val_binary_accuracy: 0.8419\n",
      "Epoch 13/20\n",
      "992/992 [==============================] - ETA: 0s - loss: 0.3543 - binary_accuracy: 0.8374\n",
      "Epoch 13: val_loss did not improve from 0.35637\n",
      "992/992 [==============================] - 933s 941ms/step - loss: 0.3543 - binary_accuracy: 0.8374 - val_loss: 0.3670 - val_binary_accuracy: 0.8364\n",
      "Epoch 14/20\n",
      "992/992 [==============================] - ETA: 0s - loss: 0.3525 - binary_accuracy: 0.8405\n",
      "Epoch 14: val_loss did not improve from 0.35637\n",
      "992/992 [==============================] - 935s 942ms/step - loss: 0.3525 - binary_accuracy: 0.8405 - val_loss: 0.3655 - val_binary_accuracy: 0.8391\n",
      "Epoch 15/20\n",
      "992/992 [==============================] - ETA: 0s - loss: 0.3439 - binary_accuracy: 0.8455\n",
      "Epoch 15: val_loss did not improve from 0.35637\n",
      "992/992 [==============================] - 921s 928ms/step - loss: 0.3439 - binary_accuracy: 0.8455 - val_loss: 0.3893 - val_binary_accuracy: 0.8226\n",
      "Epoch 16/20\n",
      "992/992 [==============================] - ETA: 0s - loss: 0.3412 - binary_accuracy: 0.8474\n",
      "Epoch 16: val_loss did not improve from 0.35637\n",
      "992/992 [==============================] - 893s 900ms/step - loss: 0.3412 - binary_accuracy: 0.8474 - val_loss: 0.3637 - val_binary_accuracy: 0.8309\n",
      "Epoch 17/20\n",
      "992/992 [==============================] - ETA: 0s - loss: 0.3389 - binary_accuracy: 0.8472\n",
      "Epoch 17: val_loss improved from 0.35637 to 0.34269, saving model to C:\\Users\\kanan\\Desktop\\data_x\\models\\RegNetX320\\RegNetX320_bo20_lr001.h5\n",
      "992/992 [==============================] - 894s 901ms/step - loss: 0.3389 - binary_accuracy: 0.8472 - val_loss: 0.3427 - val_binary_accuracy: 0.8508\n",
      "Epoch 18/20\n",
      "992/992 [==============================] - ETA: 0s - loss: 0.3294 - binary_accuracy: 0.8545\n",
      "Epoch 18: val_loss did not improve from 0.34269\n",
      "992/992 [==============================] - 893s 900ms/step - loss: 0.3294 - binary_accuracy: 0.8545 - val_loss: 0.4230 - val_binary_accuracy: 0.7876\n",
      "Epoch 19/20\n",
      "992/992 [==============================] - ETA: 0s - loss: 0.3314 - binary_accuracy: 0.8525\n",
      "Epoch 19: val_loss improved from 0.34269 to 0.34121, saving model to C:\\Users\\kanan\\Desktop\\data_x\\models\\RegNetX320\\RegNetX320_bo20_lr001.h5\n",
      "992/992 [==============================] - 932s 939ms/step - loss: 0.3314 - binary_accuracy: 0.8525 - val_loss: 0.3412 - val_binary_accuracy: 0.8485\n",
      "Epoch 20/20\n",
      "992/992 [==============================] - ETA: 0s - loss: 0.3298 - binary_accuracy: 0.8537\n",
      "Epoch 20: val_loss did not improve from 0.34121\n",
      "992/992 [==============================] - 930s 938ms/step - loss: 0.3298 - binary_accuracy: 0.8537 - val_loss: 0.3943 - val_binary_accuracy: 0.8311\n"
     ]
    }
   ],
   "source": [
    "history = model.fit(train, \n",
    "                    validation_data=val,\n",
    "                    epochs=20, \n",
    "                    verbose=1, \n",
    "                    callbacks=callbacks)"
   ]
  },
  {
   "cell_type": "code",
   "execution_count": 24,
   "metadata": {},
   "outputs": [
    {
     "data": {
      "image/png": "[encoded data removed]",
      "text/plain": [
       "<Figure size 640x480 with 1 Axes>"
      ]
     },
     "metadata": {},
     "output_type": "display_data"
    }
   ],
   "source": [
    "fig = plt.figure()\n",
    "plt.plot(history.history['loss'], color='teal', label='loss')\n",
    "plt.plot(history.history['val_loss'], color='orange', label='val_loss')\n",
    "fig.suptitle('Loss', fontsize=20)\n",
    "plt.legend(loc=\"upper left\")\n",
    "plt.show()"
   ]
  },
  {
   "cell_type": "markdown",
   "metadata": {},
   "source": [
    "# Reducing learning rate from 0.01 to 0.001 and continue"
   ]
  },
  {
   "cell_type": "markdown",
   "metadata": {},
   "source": [
    "Load model"
   ]
  },
  {
   "cell_type": "code",
   "execution_count": 25,
   "metadata": {},
   "outputs": [],
   "source": [
    "from tensorflow.keras.models import load_model\n",
    "\n",
    "\n",
    "saved_model_path = os.path.join(models_dir, f\"{model_name}_bo20_lr001.h5\")\n",
    "new_model = load_model(saved_model_path)"
   ]
  },
  {
   "cell_type": "markdown",
   "metadata": {},
   "source": [
    "Set new learning rate"
   ]
  },
  {
   "cell_type": "code",
   "execution_count": 26,
   "metadata": {},
   "outputs": [
    {
     "name": "stdout",
     "output_type": "stream",
     "text": [
      "Old learning rate: 0.009999999776482582\n"
     ]
    }
   ],
   "source": [
    "current_optimizer = new_model.optimizer\n",
    "current_lr = current_optimizer.learning_rate.numpy()\n",
    "\n",
    "print(f\"Old learning rate: {current_lr}\")"
   ]
  },
  {
   "cell_type": "code",
   "execution_count": 27,
   "metadata": {},
   "outputs": [],
   "source": [
    "new_model.compile(loss=keras.losses.BinaryCrossentropy(from_logits=False), \n",
    "              optimizer= keras.optimizers.Adam(learning_rate=1e-3),\n",
    "              metrics = [keras.metrics.BinaryAccuracy()])"
   ]
  },
  {
   "cell_type": "code",
   "execution_count": 28,
   "metadata": {},
   "outputs": [
    {
     "name": "stdout",
     "output_type": "stream",
     "text": [
      "New learning rate: 0.0010000000474974513\n"
     ]
    }
   ],
   "source": [
    "current_optimizer = new_model.optimizer\n",
    "current_lr = current_optimizer.learning_rate.numpy()\n",
    "\n",
    "print(f\"New learning rate: {current_lr}\")"
   ]
  },
  {
   "cell_type": "markdown",
   "metadata": {},
   "source": [
    "Continue training"
   ]
  },
  {
   "cell_type": "code",
   "execution_count": 29,
   "metadata": {},
   "outputs": [],
   "source": [
    "log_file = os.path.join(results_dir, f\"{model_name}_bo20_lr0001.csv\")"
   ]
  },
  {
   "cell_type": "code",
   "execution_count": 30,
   "metadata": {},
   "outputs": [],
   "source": [
    "callbacks = [\n",
    "    CSVLogger(log_file),\n",
    "    ModelCheckpoint(\n",
    "        filepath=os.path.join(models_dir,f\"{model_name}_bo20_lr0001.h5\"),\n",
    "        save_weights_only=False,\n",
    "        save_best_only=True,\n",
    "        save_freq='epoch',\n",
    "        verbose=1\n",
    "    )\n",
    "]"
   ]
  },
  {
   "cell_type": "code",
   "execution_count": 31,
   "metadata": {},
   "outputs": [
    {
     "name": "stdout",
     "output_type": "stream",
     "text": [
      "Epoch 1/20\n",
      "992/992 [==============================] - ETA: 0s - loss: 0.2879 - binary_accuracy: 0.8731\n",
      "Epoch 1: val_loss improved from inf to 0.33459, saving model to C:\\Users\\kanan\\Desktop\\data_x\\models\\RegNetX320\\RegNetX320_bo20_lr0001.h5\n",
      "992/992 [==============================] - 938s 942ms/step - loss: 0.2879 - binary_accuracy: 0.8731 - val_loss: 0.3346 - val_binary_accuracy: 0.8556\n",
      "Epoch 2/20\n",
      "992/992 [==============================] - ETA: 0s - loss: 0.2833 - binary_accuracy: 0.8748\n",
      "Epoch 2: val_loss improved from 0.33459 to 0.33295, saving model to C:\\Users\\kanan\\Desktop\\data_x\\models\\RegNetX320\\RegNetX320_bo20_lr0001.h5\n",
      "992/992 [==============================] - 934s 941ms/step - loss: 0.2833 - binary_accuracy: 0.8748 - val_loss: 0.3330 - val_binary_accuracy: 0.8547\n",
      "Epoch 3/20\n",
      "992/992 [==============================] - ETA: 0s - loss: 0.2815 - binary_accuracy: 0.8754\n",
      "Epoch 3: val_loss did not improve from 0.33295\n",
      "992/992 [==============================] - 934s 942ms/step - loss: 0.2815 - binary_accuracy: 0.8754 - val_loss: 0.3470 - val_binary_accuracy: 0.8494\n",
      "Epoch 4/20\n",
      "992/992 [==============================] - ETA: 0s - loss: 0.2799 - binary_accuracy: 0.8769\n",
      "Epoch 4: val_loss improved from 0.33295 to 0.33204, saving model to C:\\Users\\kanan\\Desktop\\data_x\\models\\RegNetX320\\RegNetX320_bo20_lr0001.h5\n",
      "992/992 [==============================] - 934s 941ms/step - loss: 0.2799 - binary_accuracy: 0.8769 - val_loss: 0.3320 - val_binary_accuracy: 0.8550\n",
      "Epoch 5/20\n",
      "992/992 [==============================] - ETA: 0s - loss: 0.2784 - binary_accuracy: 0.8778\n",
      "Epoch 5: val_loss did not improve from 0.33204\n",
      "992/992 [==============================] - 936s 943ms/step - loss: 0.2784 - binary_accuracy: 0.8778 - val_loss: 0.3341 - val_binary_accuracy: 0.8526\n",
      "Epoch 6/20\n",
      "992/992 [==============================] - ETA: 0s - loss: 0.2782 - binary_accuracy: 0.8777\n",
      "Epoch 6: val_loss did not improve from 0.33204\n",
      "992/992 [==============================] - 950s 958ms/step - loss: 0.2782 - binary_accuracy: 0.8777 - val_loss: 0.3378 - val_binary_accuracy: 0.8557\n",
      "Epoch 7/20\n",
      "992/992 [==============================] - ETA: 0s - loss: 0.2760 - binary_accuracy: 0.8783\n",
      "Epoch 7: val_loss did not improve from 0.33204\n",
      "992/992 [==============================] - 958s 966ms/step - loss: 0.2760 - binary_accuracy: 0.8783 - val_loss: 0.3337 - val_binary_accuracy: 0.8547\n",
      "Epoch 8/20\n",
      "992/992 [==============================] - ETA: 0s - loss: 0.2760 - binary_accuracy: 0.8786\n",
      "Epoch 8: val_loss did not improve from 0.33204\n",
      "992/992 [==============================] - 962s 970ms/step - loss: 0.2760 - binary_accuracy: 0.8786 - val_loss: 0.3328 - val_binary_accuracy: 0.8522\n",
      "Epoch 9/20\n",
      "992/992 [==============================] - ETA: 0s - loss: 0.2746 - binary_accuracy: 0.8784\n",
      "Epoch 9: val_loss did not improve from 0.33204\n",
      "992/992 [==============================] - 964s 972ms/step - loss: 0.2746 - binary_accuracy: 0.8784 - val_loss: 0.3391 - val_binary_accuracy: 0.8542\n",
      "Epoch 10/20\n",
      "992/992 [==============================] - ETA: 0s - loss: 0.2737 - binary_accuracy: 0.8798\n",
      "Epoch 10: val_loss did not improve from 0.33204\n",
      "992/992 [==============================] - 966s 974ms/step - loss: 0.2737 - binary_accuracy: 0.8798 - val_loss: 0.3352 - val_binary_accuracy: 0.8521\n",
      "Epoch 11/20\n",
      "992/992 [==============================] - ETA: 0s - loss: 0.2723 - binary_accuracy: 0.8809\n",
      "Epoch 11: val_loss improved from 0.33204 to 0.33026, saving model to C:\\Users\\kanan\\Desktop\\data_x\\models\\RegNetX320\\RegNetX320_bo20_lr0001.h5\n",
      "992/992 [==============================] - 968s 976ms/step - loss: 0.2723 - binary_accuracy: 0.8809 - val_loss: 0.3303 - val_binary_accuracy: 0.8541\n",
      "Epoch 12/20\n",
      "992/992 [==============================] - ETA: 0s - loss: 0.2727 - binary_accuracy: 0.8810\n",
      "Epoch 12: val_loss did not improve from 0.33026\n",
      "992/992 [==============================] - 968s 976ms/step - loss: 0.2727 - binary_accuracy: 0.8810 - val_loss: 0.3314 - val_binary_accuracy: 0.8546\n",
      "Epoch 13/20\n",
      "992/992 [==============================] - ETA: 0s - loss: 0.2707 - binary_accuracy: 0.8810\n",
      "Epoch 13: val_loss did not improve from 0.33026\n",
      "992/992 [==============================] - 971s 979ms/step - loss: 0.2707 - binary_accuracy: 0.8810 - val_loss: 0.3317 - val_binary_accuracy: 0.8547\n",
      "Epoch 14/20\n",
      "992/992 [==============================] - ETA: 0s - loss: 0.2699 - binary_accuracy: 0.8816\n",
      "Epoch 14: val_loss did not improve from 0.33026\n",
      "992/992 [==============================] - 972s 980ms/step - loss: 0.2699 - binary_accuracy: 0.8816 - val_loss: 0.3320 - val_binary_accuracy: 0.8571\n",
      "Epoch 15/20\n",
      "992/992 [==============================] - ETA: 0s - loss: 0.2694 - binary_accuracy: 0.8820\n",
      "Epoch 15: val_loss did not improve from 0.33026\n",
      "992/992 [==============================] - 971s 979ms/step - loss: 0.2694 - binary_accuracy: 0.8820 - val_loss: 0.3317 - val_binary_accuracy: 0.8556\n",
      "Epoch 16/20\n",
      "992/992 [==============================] - ETA: 0s - loss: 0.2688 - binary_accuracy: 0.8822\n",
      "Epoch 16: val_loss improved from 0.33026 to 0.32825, saving model to C:\\Users\\kanan\\Desktop\\data_x\\models\\RegNetX320\\RegNetX320_bo20_lr0001.h5\n",
      "992/992 [==============================] - 973s 981ms/step - loss: 0.2688 - binary_accuracy: 0.8822 - val_loss: 0.3283 - val_binary_accuracy: 0.8569\n",
      "Epoch 17/20\n",
      "992/992 [==============================] - ETA: 0s - loss: 0.2682 - binary_accuracy: 0.8837\n",
      "Epoch 17: val_loss did not improve from 0.32825\n",
      "992/992 [==============================] - 974s 982ms/step - loss: 0.2682 - binary_accuracy: 0.8837 - val_loss: 0.3313 - val_binary_accuracy: 0.8557\n",
      "Epoch 18/20\n",
      "992/992 [==============================] - ETA: 0s - loss: 0.2674 - binary_accuracy: 0.8842\n",
      "Epoch 18: val_loss did not improve from 0.32825\n",
      "992/992 [==============================] - 974s 982ms/step - loss: 0.2674 - binary_accuracy: 0.8842 - val_loss: 0.3298 - val_binary_accuracy: 0.8545\n",
      "Epoch 19/20\n",
      "992/992 [==============================] - ETA: 0s - loss: 0.2660 - binary_accuracy: 0.8834\n",
      "Epoch 19: val_loss did not improve from 0.32825\n",
      "992/992 [==============================] - 976s 984ms/step - loss: 0.2660 - binary_accuracy: 0.8834 - val_loss: 0.3308 - val_binary_accuracy: 0.8569\n",
      "Epoch 20/20\n",
      "992/992 [==============================] - ETA: 0s - loss: 0.2660 - binary_accuracy: 0.8847\n",
      "Epoch 20: val_loss did not improve from 0.32825\n",
      "992/992 [==============================] - 973s 981ms/step - loss: 0.2660 - binary_accuracy: 0.8847 - val_loss: 0.3311 - val_binary_accuracy: 0.8598\n"
     ]
    }
   ],
   "source": [
    "history = new_model.fit(train, \n",
    "                    validation_data=val,\n",
    "                    epochs=20, \n",
    "                    verbose=1, \n",
    "                    callbacks=callbacks)"
   ]
  },
  {
   "cell_type": "code",
   "execution_count": 32,
   "metadata": {},
   "outputs": [
    {
     "data": {
      "image/png": "[encoded data removed]",
      "text/plain": [
       "<Figure size 640x480 with 1 Axes>"
      ]
     },
     "metadata": {},
     "output_type": "display_data"
    }
   ],
   "source": [
    "fig = plt.figure()\n",
    "plt.plot(history.history['loss'], color='teal', label='loss')\n",
    "plt.plot(history.history['val_loss'], color='orange', label='val_loss')\n",
    "fig.suptitle('Loss', fontsize=20)\n",
    "plt.legend(loc=\"upper left\")\n",
    "plt.show()"
   ]
  },
  {
   "cell_type": "markdown",
   "metadata": {},
   "source": [
    "# Test"
   ]
  },
  {
   "cell_type": "markdown",
   "metadata": {},
   "source": [
    "Load model"
   ]
  },
  {
   "cell_type": "code",
   "execution_count": 33,
   "metadata": {},
   "outputs": [],
   "source": [
    "from tensorflow.keras.models import load_model\n",
    "\n",
    "saved_model_path = os.path.join(models_dir, f\"{model_name}_bo20_lr0001.h5\")\n",
    "test_model = load_model(saved_model_path)"
   ]
  },
  {
   "cell_type": "markdown",
   "metadata": {},
   "source": [
    "Set measurement metrics"
   ]
  },
  {
   "cell_type": "code",
   "execution_count": 34,
   "metadata": {},
   "outputs": [],
   "source": [
    "from tensorflow.keras.metrics import Precision, Recall, BinaryAccuracy\n",
    "\n",
    "pre = Precision()\n",
    "re = Recall()\n",
    "acc = BinaryAccuracy()"
   ]
  },
  {
   "cell_type": "markdown",
   "metadata": {},
   "source": [
    "Load data"
   ]
  },
  {
   "cell_type": "code",
   "execution_count": 35,
   "metadata": {},
   "outputs": [
    {
     "name": "stdout",
     "output_type": "stream",
     "text": [
      "Found 7360 files belonging to 2 classes.\n"
     ]
    }
   ],
   "source": [
    "import numpy as np\n",
    "from matplotlib import pyplot as plt\n",
    "\n",
    "data_dir = r\"C:\\Users\\kanan\\Desktop\\data_x\\data_x\\test\"\n",
    "test = tf.keras.utils.image_dataset_from_directory(data_dir, image_size=(224, 224))\n",
    "\n",
    "# Expected output Found 7360 files belonging to 2 classes."
   ]
  },
  {
   "cell_type": "markdown",
   "metadata": {},
   "source": [
    "Testing"
   ]
  },
  {
   "cell_type": "code",
   "execution_count": 36,
   "metadata": {},
   "outputs": [],
   "source": [
    "test_iterator = test.as_numpy_iterator()\n",
    "batch = test_iterator.next()"
   ]
  },
  {
   "cell_type": "code",
   "execution_count": 37,
   "metadata": {},
   "outputs": [
    {
     "name": "stdout",
     "output_type": "stream",
     "text": [
      "1/1 [==============================] - 2s 2s/step\n",
      "1/1 [==============================] - 0s 28ms/step\n",
      "1/1 [==============================] - 0s 29ms/step\n",
      "1/1 [==============================] - 0s 28ms/step\n",
      "1/1 [==============================] - 0s 28ms/step\n",
      "1/1 [==============================] - 0s 28ms/step\n",
      "1/1 [==============================] - 0s 28ms/step\n"
     ]
    },
    {
     "ename": "ResourceExhaustedError",
     "evalue": "Graph execution error:\n\nDetected at node 'model/regnetx320/regnetx320_Stage_0_XBlock_0_conv_3x3/StatefulPartitionedCall' defined at (most recent call last):\n    File \"c:\\Users\\kanan\\miniconda3\\envs\\2dmodelGPU\\lib\\runpy.py\", line 196, in _run_module_as_main\n      return _run_code(code, main_globals, None,\n    File \"c:\\Users\\kanan\\miniconda3\\envs\\2dmodelGPU\\lib\\runpy.py\", line 86, in _run_code\n      exec(code, run_globals)\n    File \"c:\\Users\\kanan\\miniconda3\\envs\\2dmodelGPU\\lib\\site-packages\\ipykernel_launcher.py\", line 18, in <module>\n      app.launch_new_instance()\n    File \"c:\\Users\\kanan\\miniconda3\\envs\\2dmodelGPU\\lib\\site-packages\\traitlets\\config\\application.py\", line 1075, in launch_instance\n      app.start()\n    File \"c:\\Users\\kanan\\miniconda3\\envs\\2dmodelGPU\\lib\\site-packages\\ipykernel\\kernelapp.py\", line 739, in start\n      self.io_loop.start()\n    File \"c:\\Users\\kanan\\miniconda3\\envs\\2dmodelGPU\\lib\\site-packages\\tornado\\platform\\asyncio.py\", line 205, in start\n      self.asyncio_loop.run_forever()\n    File \"c:\\Users\\kanan\\miniconda3\\envs\\2dmodelGPU\\lib\\asyncio\\base_events.py\", line 603, in run_forever\n      self._run_once()\n    File \"c:\\Users\\kanan\\miniconda3\\envs\\2dmodelGPU\\lib\\asyncio\\base_events.py\", line 1909, in _run_once\n      handle._run()\n    File \"c:\\Users\\kanan\\miniconda3\\envs\\2dmodelGPU\\lib\\asyncio\\events.py\", line 80, in _run\n      self._context.run(self._callback, *self._args)\n    File \"c:\\Users\\kanan\\miniconda3\\envs\\2dmodelGPU\\lib\\site-packages\\ipykernel\\kernelbase.py\", line 545, in dispatch_queue\n      await self.process_one()\n    File \"c:\\Users\\kanan\\miniconda3\\envs\\2dmodelGPU\\lib\\site-packages\\ipykernel\\kernelbase.py\", line 534, in process_one\n      await dispatch(*args)\n    File \"c:\\Users\\kanan\\miniconda3\\envs\\2dmodelGPU\\lib\\site-packages\\ipykernel\\kernelbase.py\", line 437, in dispatch_shell\n      await result\n    File \"c:\\Users\\kanan\\miniconda3\\envs\\2dmodelGPU\\lib\\site-packages\\ipykernel\\ipkernel.py\", line 362, in execute_request\n      await super().execute_request(stream, ident, parent)\n    File \"c:\\Users\\kanan\\miniconda3\\envs\\2dmodelGPU\\lib\\site-packages\\ipykernel\\kernelbase.py\", line 778, in execute_request\n      reply_content = await reply_content\n    File \"c:\\Users\\kanan\\miniconda3\\envs\\2dmodelGPU\\lib\\site-packages\\ipykernel\\ipkernel.py\", line 449, in do_execute\n      res = shell.run_cell(\n    File \"c:\\Users\\kanan\\miniconda3\\envs\\2dmodelGPU\\lib\\site-packages\\ipykernel\\zmqshell.py\", line 549, in run_cell\n      return super().run_cell(*args, **kwargs)\n    File \"c:\\Users\\kanan\\miniconda3\\envs\\2dmodelGPU\\lib\\site-packages\\IPython\\core\\interactiveshell.py\", line 3075, in run_cell\n      result = self._run_cell(\n    File \"c:\\Users\\kanan\\miniconda3\\envs\\2dmodelGPU\\lib\\site-packages\\IPython\\core\\interactiveshell.py\", line 3130, in _run_cell\n      result = runner(coro)\n    File \"c:\\Users\\kanan\\miniconda3\\envs\\2dmodelGPU\\lib\\site-packages\\IPython\\core\\async_helpers.py\", line 129, in _pseudo_sync_runner\n      coro.send(None)\n    File \"c:\\Users\\kanan\\miniconda3\\envs\\2dmodelGPU\\lib\\site-packages\\IPython\\core\\interactiveshell.py\", line 3334, in run_cell_async\n      has_raised = await self.run_ast_nodes(code_ast.body, cell_name,\n    File \"c:\\Users\\kanan\\miniconda3\\envs\\2dmodelGPU\\lib\\site-packages\\IPython\\core\\interactiveshell.py\", line 3517, in run_ast_nodes\n      if await self.run_code(code, result, async_=asy):\n    File \"c:\\Users\\kanan\\miniconda3\\envs\\2dmodelGPU\\lib\\site-packages\\IPython\\core\\interactiveshell.py\", line 3577, in run_code\n      exec(code_obj, self.user_global_ns, self.user_ns)\n    File \"C:\\Users\\kanan\\AppData\\Local\\Temp\\ipykernel_14080\\4016680956.py\", line 3, in <module>\n      yhat = test_model.predict(X)\n    File \"c:\\Users\\kanan\\miniconda3\\envs\\2dmodelGPU\\lib\\site-packages\\keras\\utils\\traceback_utils.py\", line 64, in error_handler\n      return fn(*args, **kwargs)\n    File \"c:\\Users\\kanan\\miniconda3\\envs\\2dmodelGPU\\lib\\site-packages\\keras\\engine\\training.py\", line 2033, in predict\n      tmp_batch_outputs = self.predict_function(iterator)\n    File \"c:\\Users\\kanan\\miniconda3\\envs\\2dmodelGPU\\lib\\site-packages\\keras\\engine\\training.py\", line 1845, in predict_function\n      return step_function(self, iterator)\n    File \"c:\\Users\\kanan\\miniconda3\\envs\\2dmodelGPU\\lib\\site-packages\\keras\\engine\\training.py\", line 1834, in step_function\n      outputs = model.distribute_strategy.run(run_step, args=(data,))\n    File \"c:\\Users\\kanan\\miniconda3\\envs\\2dmodelGPU\\lib\\site-packages\\keras\\engine\\training.py\", line 1823, in run_step\n      outputs = model.predict_step(data)\n    File \"c:\\Users\\kanan\\miniconda3\\envs\\2dmodelGPU\\lib\\site-packages\\keras\\engine\\training.py\", line 1791, in predict_step\n      return self(x, training=False)\n    File \"c:\\Users\\kanan\\miniconda3\\envs\\2dmodelGPU\\lib\\site-packages\\keras\\utils\\traceback_utils.py\", line 64, in error_handler\n      return fn(*args, **kwargs)\n    File \"c:\\Users\\kanan\\miniconda3\\envs\\2dmodelGPU\\lib\\site-packages\\keras\\engine\\training.py\", line 490, in __call__\n      return super().__call__(*args, **kwargs)\n    File \"c:\\Users\\kanan\\miniconda3\\envs\\2dmodelGPU\\lib\\site-packages\\keras\\utils\\traceback_utils.py\", line 64, in error_handler\n      return fn(*args, **kwargs)\n    File \"c:\\Users\\kanan\\miniconda3\\envs\\2dmodelGPU\\lib\\site-packages\\keras\\engine\\base_layer.py\", line 1014, in __call__\n      outputs = call_fn(inputs, *args, **kwargs)\n    File \"c:\\Users\\kanan\\miniconda3\\envs\\2dmodelGPU\\lib\\site-packages\\keras\\utils\\traceback_utils.py\", line 92, in error_handler\n      return fn(*args, **kwargs)\n    File \"c:\\Users\\kanan\\miniconda3\\envs\\2dmodelGPU\\lib\\site-packages\\keras\\engine\\functional.py\", line 458, in call\n      return self._run_internal_graph(\n    File \"c:\\Users\\kanan\\miniconda3\\envs\\2dmodelGPU\\lib\\site-packages\\keras\\engine\\functional.py\", line 596, in _run_internal_graph\n      outputs = node.layer(*args, **kwargs)\n    File \"c:\\Users\\kanan\\miniconda3\\envs\\2dmodelGPU\\lib\\site-packages\\keras\\utils\\traceback_utils.py\", line 64, in error_handler\n      return fn(*args, **kwargs)\n    File \"c:\\Users\\kanan\\miniconda3\\envs\\2dmodelGPU\\lib\\site-packages\\keras\\engine\\training.py\", line 490, in __call__\n      return super().__call__(*args, **kwargs)\n    File \"c:\\Users\\kanan\\miniconda3\\envs\\2dmodelGPU\\lib\\site-packages\\keras\\utils\\traceback_utils.py\", line 64, in error_handler\n      return fn(*args, **kwargs)\n    File \"c:\\Users\\kanan\\miniconda3\\envs\\2dmodelGPU\\lib\\site-packages\\keras\\engine\\base_layer.py\", line 1014, in __call__\n      outputs = call_fn(inputs, *args, **kwargs)\n    File \"c:\\Users\\kanan\\miniconda3\\envs\\2dmodelGPU\\lib\\site-packages\\keras\\utils\\traceback_utils.py\", line 92, in error_handler\n      return fn(*args, **kwargs)\n    File \"c:\\Users\\kanan\\miniconda3\\envs\\2dmodelGPU\\lib\\site-packages\\keras\\engine\\functional.py\", line 458, in call\n      return self._run_internal_graph(\n    File \"c:\\Users\\kanan\\miniconda3\\envs\\2dmodelGPU\\lib\\site-packages\\keras\\engine\\functional.py\", line 596, in _run_internal_graph\n      outputs = node.layer(*args, **kwargs)\n    File \"c:\\Users\\kanan\\miniconda3\\envs\\2dmodelGPU\\lib\\site-packages\\keras\\utils\\traceback_utils.py\", line 64, in error_handler\n      return fn(*args, **kwargs)\n    File \"c:\\Users\\kanan\\miniconda3\\envs\\2dmodelGPU\\lib\\site-packages\\keras\\engine\\base_layer.py\", line 1014, in __call__\n      outputs = call_fn(inputs, *args, **kwargs)\n    File \"c:\\Users\\kanan\\miniconda3\\envs\\2dmodelGPU\\lib\\site-packages\\keras\\utils\\traceback_utils.py\", line 92, in error_handler\n      return fn(*args, **kwargs)\n    File \"c:\\Users\\kanan\\miniconda3\\envs\\2dmodelGPU\\lib\\site-packages\\keras\\layers\\convolutional\\base_conv.py\", line 248, in call\n      outputs = self._jit_compiled_convolution_op(inputs, self.kernel)\nNode: 'model/regnetx320/regnetx320_Stage_0_XBlock_0_conv_3x3/StatefulPartitionedCall'\nOut of memory while trying to allocate 686074496 bytes.\nBufferAssignment OOM Debugging.\nBufferAssignment stats:\n             parameter allocation:  516.44MiB\n              constant allocation:         0B\n        maybe_live_out allocation:  128.62MiB\n     preallocated temp allocation:  654.29MiB\n  preallocated temp fragmentation:         0B (0.00%)\n                 total allocation:    1.27GiB\n              total fragmentation:  126.65MiB (9.75%)\nPeak buffers:\n\tBuffer 1:\n\t\tSize: 523.73MiB\n\t\tXLA Label: fusion\n\t\tShape: f32[32,113,113,336]\n\t\t==========================\n\n\tBuffer 2:\n\t\tSize: 514.50MiB\n\t\tOperator: op_name=\"XLA_Args\"\n\t\tEntry Parameter Subshape: f32[32,112,112,336]\n\t\t==========================\n\n\tBuffer 3:\n\t\tSize: 128.62MiB\n\t\tOperator: op_type=\"Conv2D\" op_name=\"Conv2D\" source_file=\"c:\\\\Users\\\\kanan\\\\miniconda3\\\\envs\\\\2dmodelGPU\\\\lib\\\\site-packages\\\\keras\\\\layers\\\\convolutional\\\\base_conv.py\" source_line=225\n\t\tXLA Label: custom-call\n\t\tShape: f32[32,56,56,336]\n\t\t==========================\n\n\tBuffer 4:\n\t\tSize: 128.62MiB\n\t\tOperator: op_type=\"Conv2D\" op_name=\"Conv2D\" source_file=\"c:\\\\Users\\\\kanan\\\\miniconda3\\\\envs\\\\2dmodelGPU\\\\lib\\\\site-packages\\\\keras\\\\layers\\\\convolutional\\\\base_conv.py\" source_line=225\n\t\tXLA Label: copy\n\t\tShape: f32[32,56,56,336]\n\t\t==========================\n\n\tBuffer 5:\n\t\tSize: 1.94MiB\n\t\tOperator: op_name=\"XLA_Args\"\n\t\tXLA Label: copy\n\t\tShape: f32[3,3,168,336]\n\t\t==========================\n\n\tBuffer 6:\n\t\tSize: 1.94MiB\n\t\tOperator: op_name=\"XLA_Args\"\n\t\tEntry Parameter Subshape: f32[3,3,168,336]\n\t\t==========================\n\n\tBuffer 7:\n\t\tSize: 16B\n\t\tOperator: op_type=\"Conv2D\" op_name=\"Conv2D\" source_file=\"c:\\\\Users\\\\kanan\\\\miniconda3\\\\envs\\\\2dmodelGPU\\\\lib\\\\site-packages\\\\keras\\\\layers\\\\convolutional\\\\base_conv.py\" source_line=225\n\t\tXLA Label: custom-call\n\t\tShape: (f32[32,56,56,336], u8[2070016])\n\t\t==========================\n\n\n\t [[{{node model/regnetx320/regnetx320_Stage_0_XBlock_0_conv_3x3/StatefulPartitionedCall}}]]\nHint: If you want to see a list of allocated tensors when OOM happens, add report_tensor_allocations_upon_oom to RunOptions for current allocation info. This isn't available when running in Eager mode.\n [Op:__inference_predict_function_247548]",
     "output_type": "error",
     "traceback": [
      "\u001b[1;31m---------------------------------------------------------------------------\u001b[0m",
      "\u001b[1;31mResourceExhaustedError\u001b[0m                    Traceback (most recent call last)",
      "Cell \u001b[1;32mIn[37], line 3\u001b[0m\n\u001b[0;32m      1\u001b[0m \u001b[38;5;28;01mfor\u001b[39;00m batch \u001b[38;5;129;01min\u001b[39;00m test_iterator: \n\u001b[0;32m      2\u001b[0m     X, y \u001b[38;5;241m=\u001b[39m batch\n\u001b[1;32m----> 3\u001b[0m     yhat \u001b[38;5;241m=\u001b[39m \u001b[43mtest_model\u001b[49m\u001b[38;5;241;43m.\u001b[39;49m\u001b[43mpredict\u001b[49m\u001b[43m(\u001b[49m\u001b[43mX\u001b[49m\u001b[43m)\u001b[49m\n\u001b[0;32m      4\u001b[0m     pre\u001b[38;5;241m.\u001b[39mupdate_state(y, yhat)\n\u001b[0;32m      5\u001b[0m     re\u001b[38;5;241m.\u001b[39mupdate_state(y, yhat)\n",
      "File \u001b[1;32mc:\\Users\\kanan\\miniconda3\\envs\\2dmodelGPU\\lib\\site-packages\\keras\\utils\\traceback_utils.py:67\u001b[0m, in \u001b[0;36mfilter_traceback.<locals>.error_handler\u001b[1;34m(*args, **kwargs)\u001b[0m\n\u001b[0;32m     65\u001b[0m \u001b[38;5;28;01mexcept\u001b[39;00m \u001b[38;5;167;01mException\u001b[39;00m \u001b[38;5;28;01mas\u001b[39;00m e:  \u001b[38;5;66;03m# pylint: disable=broad-except\u001b[39;00m\n\u001b[0;32m     66\u001b[0m   filtered_tb \u001b[38;5;241m=\u001b[39m _process_traceback_frames(e\u001b[38;5;241m.\u001b[39m__traceback__)\n\u001b[1;32m---> 67\u001b[0m   \u001b[38;5;28;01mraise\u001b[39;00m e\u001b[38;5;241m.\u001b[39mwith_traceback(filtered_tb) \u001b[38;5;28;01mfrom\u001b[39;00m \u001b[38;5;28;01mNone\u001b[39;00m\n\u001b[0;32m     68\u001b[0m \u001b[38;5;28;01mfinally\u001b[39;00m:\n\u001b[0;32m     69\u001b[0m   \u001b[38;5;28;01mdel\u001b[39;00m filtered_tb\n",
      "File \u001b[1;32mc:\\Users\\kanan\\miniconda3\\envs\\2dmodelGPU\\lib\\site-packages\\tensorflow\\python\\eager\\execute.py:54\u001b[0m, in \u001b[0;36mquick_execute\u001b[1;34m(op_name, num_outputs, inputs, attrs, ctx, name)\u001b[0m\n\u001b[0;32m     52\u001b[0m \u001b[38;5;28;01mtry\u001b[39;00m:\n\u001b[0;32m     53\u001b[0m   ctx\u001b[38;5;241m.\u001b[39mensure_initialized()\n\u001b[1;32m---> 54\u001b[0m   tensors \u001b[38;5;241m=\u001b[39m pywrap_tfe\u001b[38;5;241m.\u001b[39mTFE_Py_Execute(ctx\u001b[38;5;241m.\u001b[39m_handle, device_name, op_name,\n\u001b[0;32m     55\u001b[0m                                       inputs, attrs, num_outputs)\n\u001b[0;32m     56\u001b[0m \u001b[38;5;28;01mexcept\u001b[39;00m core\u001b[38;5;241m.\u001b[39m_NotOkStatusException \u001b[38;5;28;01mas\u001b[39;00m e:\n\u001b[0;32m     57\u001b[0m   \u001b[38;5;28;01mif\u001b[39;00m name \u001b[38;5;129;01mis\u001b[39;00m \u001b[38;5;129;01mnot\u001b[39;00m \u001b[38;5;28;01mNone\u001b[39;00m:\n",
      "\u001b[1;31mResourceExhaustedError\u001b[0m: Graph execution error:\n\nDetected at node 'model/regnetx320/regnetx320_Stage_0_XBlock_0_conv_3x3/StatefulPartitionedCall' defined at (most recent call last):\n    File \"c:\\Users\\kanan\\miniconda3\\envs\\2dmodelGPU\\lib\\runpy.py\", line 196, in _run_module_as_main\n      return _run_code(code, main_globals, None,\n    File \"c:\\Users\\kanan\\miniconda3\\envs\\2dmodelGPU\\lib\\runpy.py\", line 86, in _run_code\n      exec(code, run_globals)\n    File \"c:\\Users\\kanan\\miniconda3\\envs\\2dmodelGPU\\lib\\site-packages\\ipykernel_launcher.py\", line 18, in <module>\n      app.launch_new_instance()\n    File \"c:\\Users\\kanan\\miniconda3\\envs\\2dmodelGPU\\lib\\site-packages\\traitlets\\config\\application.py\", line 1075, in launch_instance\n      app.start()\n    File \"c:\\Users\\kanan\\miniconda3\\envs\\2dmodelGPU\\lib\\site-packages\\ipykernel\\kernelapp.py\", line 739, in start\n      self.io_loop.start()\n    File \"c:\\Users\\kanan\\miniconda3\\envs\\2dmodelGPU\\lib\\site-packages\\tornado\\platform\\asyncio.py\", line 205, in start\n      self.asyncio_loop.run_forever()\n    File \"c:\\Users\\kanan\\miniconda3\\envs\\2dmodelGPU\\lib\\asyncio\\base_events.py\", line 603, in run_forever\n      self._run_once()\n    File \"c:\\Users\\kanan\\miniconda3\\envs\\2dmodelGPU\\lib\\asyncio\\base_events.py\", line 1909, in _run_once\n      handle._run()\n    File \"c:\\Users\\kanan\\miniconda3\\envs\\2dmodelGPU\\lib\\asyncio\\events.py\", line 80, in _run\n      self._context.run(self._callback, *self._args)\n    File \"c:\\Users\\kanan\\miniconda3\\envs\\2dmodelGPU\\lib\\site-packages\\ipykernel\\kernelbase.py\", line 545, in dispatch_queue\n      await self.process_one()\n    File \"c:\\Users\\kanan\\miniconda3\\envs\\2dmodelGPU\\lib\\site-packages\\ipykernel\\kernelbase.py\", line 534, in process_one\n      await dispatch(*args)\n    File \"c:\\Users\\kanan\\miniconda3\\envs\\2dmodelGPU\\lib\\site-packages\\ipykernel\\kernelbase.py\", line 437, in dispatch_shell\n      await result\n    File \"c:\\Users\\kanan\\miniconda3\\envs\\2dmodelGPU\\lib\\site-packages\\ipykernel\\ipkernel.py\", line 362, in execute_request\n      await super().execute_request(stream, ident, parent)\n    File \"c:\\Users\\kanan\\miniconda3\\envs\\2dmodelGPU\\lib\\site-packages\\ipykernel\\kernelbase.py\", line 778, in execute_request\n      reply_content = await reply_content\n    File \"c:\\Users\\kanan\\miniconda3\\envs\\2dmodelGPU\\lib\\site-packages\\ipykernel\\ipkernel.py\", line 449, in do_execute\n      res = shell.run_cell(\n    File \"c:\\Users\\kanan\\miniconda3\\envs\\2dmodelGPU\\lib\\site-packages\\ipykernel\\zmqshell.py\", line 549, in run_cell\n      return super().run_cell(*args, **kwargs)\n    File \"c:\\Users\\kanan\\miniconda3\\envs\\2dmodelGPU\\lib\\site-packages\\IPython\\core\\interactiveshell.py\", line 3075, in run_cell\n      result = self._run_cell(\n    File \"c:\\Users\\kanan\\miniconda3\\envs\\2dmodelGPU\\lib\\site-packages\\IPython\\core\\interactiveshell.py\", line 3130, in _run_cell\n      result = runner(coro)\n    File \"c:\\Users\\kanan\\miniconda3\\envs\\2dmodelGPU\\lib\\site-packages\\IPython\\core\\async_helpers.py\", line 129, in _pseudo_sync_runner\n      coro.send(None)\n    File \"c:\\Users\\kanan\\miniconda3\\envs\\2dmodelGPU\\lib\\site-packages\\IPython\\core\\interactiveshell.py\", line 3334, in run_cell_async\n      has_raised = await self.run_ast_nodes(code_ast.body, cell_name,\n    File \"c:\\Users\\kanan\\miniconda3\\envs\\2dmodelGPU\\lib\\site-packages\\IPython\\core\\interactiveshell.py\", line 3517, in run_ast_nodes\n      if await self.run_code(code, result, async_=asy):\n    File \"c:\\Users\\kanan\\miniconda3\\envs\\2dmodelGPU\\lib\\site-packages\\IPython\\core\\interactiveshell.py\", line 3577, in run_code\n      exec(code_obj, self.user_global_ns, self.user_ns)\n    File \"C:\\Users\\kanan\\AppData\\Local\\Temp\\ipykernel_14080\\4016680956.py\", line 3, in <module>\n      yhat = test_model.predict(X)\n    File \"c:\\Users\\kanan\\miniconda3\\envs\\2dmodelGPU\\lib\\site-packages\\keras\\utils\\traceback_utils.py\", line 64, in error_handler\n      return fn(*args, **kwargs)\n    File \"c:\\Users\\kanan\\miniconda3\\envs\\2dmodelGPU\\lib\\site-packages\\keras\\engine\\training.py\", line 2033, in predict\n      tmp_batch_outputs = self.predict_function(iterator)\n    File \"c:\\Users\\kanan\\miniconda3\\envs\\2dmodelGPU\\lib\\site-packages\\keras\\engine\\training.py\", line 1845, in predict_function\n      return step_function(self, iterator)\n    File \"c:\\Users\\kanan\\miniconda3\\envs\\2dmodelGPU\\lib\\site-packages\\keras\\engine\\training.py\", line 1834, in step_function\n      outputs = model.distribute_strategy.run(run_step, args=(data,))\n    File \"c:\\Users\\kanan\\miniconda3\\envs\\2dmodelGPU\\lib\\site-packages\\keras\\engine\\training.py\", line 1823, in run_step\n      outputs = model.predict_step(data)\n    File \"c:\\Users\\kanan\\miniconda3\\envs\\2dmodelGPU\\lib\\site-packages\\keras\\engine\\training.py\", line 1791, in predict_step\n      return self(x, training=False)\n    File \"c:\\Users\\kanan\\miniconda3\\envs\\2dmodelGPU\\lib\\site-packages\\keras\\utils\\traceback_utils.py\", line 64, in error_handler\n      return fn(*args, **kwargs)\n    File \"c:\\Users\\kanan\\miniconda3\\envs\\2dmodelGPU\\lib\\site-packages\\keras\\engine\\training.py\", line 490, in __call__\n      return super().__call__(*args, **kwargs)\n    File \"c:\\Users\\kanan\\miniconda3\\envs\\2dmodelGPU\\lib\\site-packages\\keras\\utils\\traceback_utils.py\", line 64, in error_handler\n      return fn(*args, **kwargs)\n    File \"c:\\Users\\kanan\\miniconda3\\envs\\2dmodelGPU\\lib\\site-packages\\keras\\engine\\base_layer.py\", line 1014, in __call__\n      outputs = call_fn(inputs, *args, **kwargs)\n    File \"c:\\Users\\kanan\\miniconda3\\envs\\2dmodelGPU\\lib\\site-packages\\keras\\utils\\traceback_utils.py\", line 92, in error_handler\n      return fn(*args, **kwargs)\n    File \"c:\\Users\\kanan\\miniconda3\\envs\\2dmodelGPU\\lib\\site-packages\\keras\\engine\\functional.py\", line 458, in call\n      return self._run_internal_graph(\n    File \"c:\\Users\\kanan\\miniconda3\\envs\\2dmodelGPU\\lib\\site-packages\\keras\\engine\\functional.py\", line 596, in _run_internal_graph\n      outputs = node.layer(*args, **kwargs)\n    File \"c:\\Users\\kanan\\miniconda3\\envs\\2dmodelGPU\\lib\\site-packages\\keras\\utils\\traceback_utils.py\", line 64, in error_handler\n      return fn(*args, **kwargs)\n    File \"c:\\Users\\kanan\\miniconda3\\envs\\2dmodelGPU\\lib\\site-packages\\keras\\engine\\training.py\", line 490, in __call__\n      return super().__call__(*args, **kwargs)\n    File \"c:\\Users\\kanan\\miniconda3\\envs\\2dmodelGPU\\lib\\site-packages\\keras\\utils\\traceback_utils.py\", line 64, in error_handler\n      return fn(*args, **kwargs)\n    File \"c:\\Users\\kanan\\miniconda3\\envs\\2dmodelGPU\\lib\\site-packages\\keras\\engine\\base_layer.py\", line 1014, in __call__\n      outputs = call_fn(inputs, *args, **kwargs)\n    File \"c:\\Users\\kanan\\miniconda3\\envs\\2dmodelGPU\\lib\\site-packages\\keras\\utils\\traceback_utils.py\", line 92, in error_handler\n      return fn(*args, **kwargs)\n    File \"c:\\Users\\kanan\\miniconda3\\envs\\2dmodelGPU\\lib\\site-packages\\keras\\engine\\functional.py\", line 458, in call\n      return self._run_internal_graph(\n    File \"c:\\Users\\kanan\\miniconda3\\envs\\2dmodelGPU\\lib\\site-packages\\keras\\engine\\functional.py\", line 596, in _run_internal_graph\n      outputs = node.layer(*args, **kwargs)\n    File \"c:\\Users\\kanan\\miniconda3\\envs\\2dmodelGPU\\lib\\site-packages\\keras\\utils\\traceback_utils.py\", line 64, in error_handler\n      return fn(*args, **kwargs)\n    File \"c:\\Users\\kanan\\miniconda3\\envs\\2dmodelGPU\\lib\\site-packages\\keras\\engine\\base_layer.py\", line 1014, in __call__\n      outputs = call_fn(inputs, *args, **kwargs)\n    File \"c:\\Users\\kanan\\miniconda3\\envs\\2dmodelGPU\\lib\\site-packages\\keras\\utils\\traceback_utils.py\", line 92, in error_handler\n      return fn(*args, **kwargs)\n    File \"c:\\Users\\kanan\\miniconda3\\envs\\2dmodelGPU\\lib\\site-packages\\keras\\layers\\convolutional\\base_conv.py\", line 248, in call\n      outputs = self._jit_compiled_convolution_op(inputs, self.kernel)\nNode: 'model/regnetx320/regnetx320_Stage_0_XBlock_0_conv_3x3/StatefulPartitionedCall'\nOut of memory while trying to allocate 686074496 bytes.\nBufferAssignment OOM Debugging.\nBufferAssignment stats:\n             parameter allocation:  516.44MiB\n              constant allocation:         0B\n        maybe_live_out allocation:  128.62MiB\n     preallocated temp allocation:  654.29MiB\n  preallocated temp fragmentation:         0B (0.00%)\n                 total allocation:    1.27GiB\n              total fragmentation:  126.65MiB (9.75%)\nPeak buffers:\n\tBuffer 1:\n\t\tSize: 523.73MiB\n\t\tXLA Label: fusion\n\t\tShape: f32[32,113,113,336]\n\t\t==========================\n\n\tBuffer 2:\n\t\tSize: 514.50MiB\n\t\tOperator: op_name=\"XLA_Args\"\n\t\tEntry Parameter Subshape: f32[32,112,112,336]\n\t\t==========================\n\n\tBuffer 3:\n\t\tSize: 128.62MiB\n\t\tOperator: op_type=\"Conv2D\" op_name=\"Conv2D\" source_file=\"c:\\\\Users\\\\kanan\\\\miniconda3\\\\envs\\\\2dmodelGPU\\\\lib\\\\site-packages\\\\keras\\\\layers\\\\convolutional\\\\base_conv.py\" source_line=225\n\t\tXLA Label: custom-call\n\t\tShape: f32[32,56,56,336]\n\t\t==========================\n\n\tBuffer 4:\n\t\tSize: 128.62MiB\n\t\tOperator: op_type=\"Conv2D\" op_name=\"Conv2D\" source_file=\"c:\\\\Users\\\\kanan\\\\miniconda3\\\\envs\\\\2dmodelGPU\\\\lib\\\\site-packages\\\\keras\\\\layers\\\\convolutional\\\\base_conv.py\" source_line=225\n\t\tXLA Label: copy\n\t\tShape: f32[32,56,56,336]\n\t\t==========================\n\n\tBuffer 5:\n\t\tSize: 1.94MiB\n\t\tOperator: op_name=\"XLA_Args\"\n\t\tXLA Label: copy\n\t\tShape: f32[3,3,168,336]\n\t\t==========================\n\n\tBuffer 6:\n\t\tSize: 1.94MiB\n\t\tOperator: op_name=\"XLA_Args\"\n\t\tEntry Parameter Subshape: f32[3,3,168,336]\n\t\t==========================\n\n\tBuffer 7:\n\t\tSize: 16B\n\t\tOperator: op_type=\"Conv2D\" op_name=\"Conv2D\" source_file=\"c:\\\\Users\\\\kanan\\\\miniconda3\\\\envs\\\\2dmodelGPU\\\\lib\\\\site-packages\\\\keras\\\\layers\\\\convolutional\\\\base_conv.py\" source_line=225\n\t\tXLA Label: custom-call\n\t\tShape: (f32[32,56,56,336], u8[2070016])\n\t\t==========================\n\n\n\t [[{{node model/regnetx320/regnetx320_Stage_0_XBlock_0_conv_3x3/StatefulPartitionedCall}}]]\nHint: If you want to see a list of allocated tensors when OOM happens, add report_tensor_allocations_upon_oom to RunOptions for current allocation info. This isn't available when running in Eager mode.\n [Op:__inference_predict_function_247548]"
     ]
    }
   ],
   "source": [
    "for batch in test_iterator: \n",
    "    X, y = batch\n",
    "    yhat = test_model.predict(X)\n",
    "    pre.update_state(y, yhat)\n",
    "    re.update_state(y, yhat)\n",
    "    acc.update_state(y, yhat)"
   ]
  },
  {
   "cell_type": "markdown",
   "metadata": {},
   "source": [
    "Test results"
   ]
  },
  {
   "cell_type": "code",
   "execution_count": null,
   "metadata": {},
   "outputs": [],
   "source": [
    "f1_score = 2 * (pre.result() * re.result()) / (pre.result() + re.result())\n",
    "print(f\"Precision : {pre.result().numpy()}\")\n",
    "print(f\"Recall : {re.result().numpy()}\")\n",
    "print(f\"Accuracy : {acc.result().numpy()}\")\n",
    "print(f\"F1 Score : {f1_score.numpy()}\")"
   ]
  }
 ],
 "metadata": {
  "kernelspec": {
   "display_name": "2dmodelGPU",
   "language": "python",
   "name": "python3"
  },
  "language_info": {
   "codemirror_mode": {
    "name": "ipython",
    "version": 3
   },
   "file_extension": ".py",
   "mimetype": "text/x-python",
   "name": "python",
   "nbconvert_exporter": "python",
   "pygments_lexer": "ipython3",
   "version": "3.10.14"
  }
 },
 "nbformat": 4,
 "nbformat_minor": 2
}
