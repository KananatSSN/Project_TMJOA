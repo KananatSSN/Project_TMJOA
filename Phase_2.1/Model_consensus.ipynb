{
 "cells": [
  {
   "cell_type": "code",
   "execution_count": null,
   "metadata": {},
   "outputs": [],
   "source": [
    "import os\n",
    "\n",
    "# Replace this with the path to your main folder\n",
    "root_folder = \"D:\\Drive D\\models\"\n",
    "\n",
    "# Get all files ending with \"lr0001.h5\" in all subfolders\n",
    "model_paths = [\n",
    "    os.path.join(dirpath, filename)\n",
    "    for dirpath, dirnames, filenames in os.walk(root_folder)\n",
    "    for filename in filenames\n",
    "    if filename.endswith(\"lr0001.h5\")\n",
    "]\n",
    "\n",
    "# Now you can iterate through these files\n",
    "print(f\"There {len(model_paths)} models in {root_folder}\")\n",
    "for file_path in model_paths:\n",
    "    print(file_path)\n",
    "    # Add your processing code here"
   ]
  },
  {
   "cell_type": "code",
   "execution_count": null,
   "metadata": {},
   "outputs": [],
   "source": [
    "import tensorflow as tf\n",
    "from tensorflow.keras.models import load_model\n",
    "from tensorflow.keras.metrics import Precision, Recall, BinaryAccuracy\n",
    "import pandas as pd\n",
    "import time\n",
    "import numpy as np\n",
    "\n",
    "pre = Precision()\n",
    "re = Recall()\n",
    "acc = BinaryAccuracy()\n",
    "\n",
    "data_dir = r\"C:\\Users\\kanan\\Desktop\\data_x\\data_x\\test\"\n",
    "test = tf.keras.utils.image_dataset_from_directory(data_dir, image_size=(224, 224))"
   ]
  }
 ],
 "metadata": {
  "language_info": {
   "name": "python"
  }
 },
 "nbformat": 4,
 "nbformat_minor": 2
}
