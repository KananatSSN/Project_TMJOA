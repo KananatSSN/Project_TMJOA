{
 "cells": [
  {
   "cell_type": "code",
   "execution_count": 2,
   "metadata": {},
   "outputs": [],
   "source": [
    "import utils_func as utils"
   ]
  },
  {
   "cell_type": "code",
   "execution_count": 3,
   "metadata": {},
   "outputs": [],
   "source": [
    "file_path = r\"C:\\Users\\acer\\Desktop\\Data\\47-4881 L 2014.nii.gz\"\n",
    "info = utils.check_nifti_dimensions(file_path)"
   ]
  },
  {
   "cell_type": "code",
   "execution_count": 4,
   "metadata": {},
   "outputs": [
    {
     "name": "stdout",
     "output_type": "stream",
     "text": [
      "{'file_path': 'C:\\\\Users\\\\acer\\\\Desktop\\\\Data\\\\47-4881 L 2014.nii.gz', 'dimensions': (224, 224, 224), 'voxel_sizes': (0.125, 0.125, 0.125), 'n_dimensions': 3, 'n_voxels': 11239424, 'data_type': 'int16', 'affine': array([[ -0.125 ,  -0.    ,  -0.    ,  32.9375],\n",
      "       [ -0.    ,   0.125 ,   0.    , -30.0625],\n",
      "       [  0.    ,   0.    ,  -0.125 ,  32.875 ],\n",
      "       [  0.    ,   0.    ,   0.    ,   1.    ]])}\n"
     ]
    }
   ],
   "source": [
    "print(info)"
   ]
  }
 ],
 "metadata": {
  "kernelspec": {
   "display_name": "2dmodelGPU",
   "language": "python",
   "name": "python3"
  },
  "language_info": {
   "codemirror_mode": {
    "name": "ipython",
    "version": 3
   },
   "file_extension": ".py",
   "mimetype": "text/x-python",
   "name": "python",
   "nbconvert_exporter": "python",
   "pygments_lexer": "ipython3",
   "version": "3.12.4"
  }
 },
 "nbformat": 4,
 "nbformat_minor": 2
}
