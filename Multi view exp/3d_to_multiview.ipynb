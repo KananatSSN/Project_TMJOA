{
 "cells": [
  {
   "cell_type": "code",
   "execution_count": 61,
   "id": "b1c9708a",
   "metadata": {},
   "outputs": [],
   "source": [
    "import numpy as np\n",
    "import nibabel as nib\n",
    "import matplotlib\n",
    "import matplotlib.pyplot as plt\n",
    "import plotly.graph_objects as go\n",
    "from skimage import measure\n",
    "from scipy import ndimage\n",
    "import argparse\n",
    "import os\n",
    "import math\n",
    "import time\n",
    "import sys\n",
    "import gc\n",
    "from pathlib import Path\n",
    "import shutil\n",
    "from typing import List, Tuple\n",
    "import psutil\n",
    "import warnings\n",
    "import k3d\n",
    "from scipy.ndimage import map_coordinates"
   ]
  },
  {
   "cell_type": "code",
   "execution_count": 13,
   "id": "6acfc94f",
   "metadata": {},
   "outputs": [
    {
     "name": "stdout",
     "output_type": "stream",
     "text": [
      "[[ -0.125   -0.      -0.      32.9375]\n",
      " [ -0.       0.125    0.     -30.0625]\n",
      " [  0.       0.      -0.125   32.875 ]\n",
      " [  0.       0.       0.       1.    ]]\n"
     ]
    }
   ],
   "source": [
    "image_path = r\"C:\\Users\\acer\\Desktop\\Project_TMJOA\\Data\\output\\training_dataset_OA\\test\\0\\57-16393 L_adjustedBG.nii.gz\"\n",
    "nib_image = nib.load(image_path)\n",
    "\n",
    "print(nib_image.affine)"
   ]
  },
  {
   "cell_type": "code",
   "execution_count": 49,
   "id": "f93f81d4",
   "metadata": {},
   "outputs": [
    {
     "name": "stdout",
     "output_type": "stream",
     "text": [
      "1374.0 -250.0\n",
      "(255, 255, 255) 16581375\n"
     ]
    },
    {
     "name": "stderr",
     "output_type": "stream",
     "text": [
      "c:\\Users\\acer\\anaconda3\\envs\\2dmodelGPU\\Lib\\site-packages\\traittypes\\traittypes.py:97: UserWarning: Given trait value dtype \"float32\" does not match required type \"uint8\". A coerced copy has been created.\n",
      "  warnings.warn(\n"
     ]
    },
    {
     "data": {
      "application/vnd.jupyter.widget-view+json": {
       "model_id": "374628fb36e24c259f75434a0cb2b28c",
       "version_major": 2,
       "version_minor": 0
      },
      "text/plain": [
       "Output()"
      ]
     },
     "metadata": {},
     "output_type": "display_data"
    }
   ],
   "source": [
    "img_data = nib_image.get_fdata(dtype=np.float32, caching='unchanged')\n",
    "\n",
    "print(img_data.max(), img_data.min())\n",
    "print(img_data.shape, img_data.size)\n",
    "\n",
    "plot = k3d.plot()\n",
    "obj = k3d.voxels(img_data, compression_level=1)\n",
    "plot += obj\n",
    "plot.display()"
   ]
  },
  {
   "cell_type": "code",
   "execution_count": 59,
   "id": "40f62dc6",
   "metadata": {},
   "outputs": [
    {
     "name": "stdout",
     "output_type": "stream",
     "text": [
      "1 0\n"
     ]
    },
    {
     "data": {
      "application/vnd.jupyter.widget-view+json": {
       "model_id": "7e7343ca2254426c983f439d95c80b3f",
       "version_major": 2,
       "version_minor": 0
      },
      "text/plain": [
       "Output()"
      ]
     },
     "metadata": {},
     "output_type": "display_data"
    }
   ],
   "source": [
    "img_data_thresholded = np.where(img_data > -250, 1, 0)\n",
    "\n",
    "img_data_thresholded = img_data_thresholded.astype(np.uint8)\n",
    "\n",
    "#img_data_thresholded = np.rot90(img_data_thresholded, axes=(0, 2))\n",
    "\n",
    "print(img_data_thresholded.max(), img_data_thresholded.min())\n",
    "\n",
    "plot = k3d.plot()\n",
    "obj = k3d.voxels(img_data_thresholded, compression_level=1)\n",
    "plot += obj\n",
    "plot.display()"
   ]
  },
  {
   "cell_type": "code",
   "execution_count": 60,
   "id": "dafbda72",
   "metadata": {},
   "outputs": [
    {
     "data": {
      "application/vnd.jupyter.widget-view+json": {
       "model_id": "a28d50c3214c4dbf8444cfd1e544fc11",
       "version_major": 2,
       "version_minor": 0
      },
      "text/plain": [
       "Output()"
      ]
     },
     "metadata": {},
     "output_type": "display_data"
    }
   ],
   "source": [
    "verts, faces, normals, _ = measure.marching_cubes(\n",
    "                img_data_thresholded, \n",
    "                level=0.5,\n",
    "                step_size=1\n",
    "            )\n",
    "\n",
    "plot = k3d.plot()            \n",
    "obj = k3d.mesh(verts, faces, side='double')\n",
    "plot +=  obj\n",
    "\n",
    "plot.display()"
   ]
  },
  {
   "cell_type": "code",
   "execution_count": null,
   "id": "75eb8e8f",
   "metadata": {},
   "outputs": [],
   "source": [
    "distances = 5\n",
    "n_verts = len(verts)\n",
    "n_distances = len(distances)\n",
    "\n",
    "for i, (vertex, normal) in enumerate(zip(verts, normals)):\n",
    "    if i % 10000 == 0:\n",
    "        print(f\"Processing vertex {i}/{len(verts)}\")\n",
    "\n",
    "    for j, dist in enumerate(distances):\n",
    "        # Calculate sampling points along normals\n",
    "        sample_points = vertex + dist * normals\n",
    "        \n",
    "        # Convert to image coordinates (transpose for map_coordinates)\n",
    "        coords = sample_points.T  # Shape: (3, N)\n",
    "        \n",
    "        \n",
    "        # Sample the image at these coordinates\n",
    "        sampled_data[:, i] = map_coordinates(\n",
    "            img_data, \n",
    "            coords, \n",
    "            order=1,\n",
    "            mode='constant',\n",
    "            cval=0\n",
    "        )\n",
    "    \n",
    "    colors[i]\n",
    "    return sampled_data"
   ]
  }
 ],
 "metadata": {
  "kernelspec": {
   "display_name": "2dmodelGPU",
   "language": "python",
   "name": "python3"
  },
  "language_info": {
   "codemirror_mode": {
    "name": "ipython",
    "version": 3
   },
   "file_extension": ".py",
   "mimetype": "text/x-python",
   "name": "python",
   "nbconvert_exporter": "python",
   "pygments_lexer": "ipython3",
   "version": "3.12.4"
  }
 },
 "nbformat": 4,
 "nbformat_minor": 5
}
