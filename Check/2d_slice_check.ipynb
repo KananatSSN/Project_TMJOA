{
 "cells": [
  {
   "cell_type": "code",
   "execution_count": 1,
   "metadata": {},
   "outputs": [
    {
     "data": {
      "application/vnd.jupyter.widget-view+json": {
       "model_id": "7749926c2dd34275a5c89d87da7a2fe6",
       "version_major": 2,
       "version_minor": 0
      },
      "text/plain": [
       "interactive(children=(RadioButtons(description='Dimension:', options=(('Dim 0', 0), ('Dim 1', 1), ('Dim 2', 2)…"
      ]
     },
     "metadata": {},
     "output_type": "display_data"
    }
   ],
   "source": [
    "import nibabel as nib\n",
    "import numpy as np\n",
    "import matplotlib.pyplot as plt\n",
    "from ipywidgets import interact, interactive, fixed\n",
    "from ipywidgets import widgets\n",
    "\n",
    "def display_nifti_slice(file_path):\n",
    "    # Load the NIfTI file\n",
    "    img = nib.load(file_path)\n",
    "    data = img.get_fdata()\n",
    "\n",
    "    def plot_slice(dimension, slice_index):\n",
    "        plt.figure(figsize=(10, 10))\n",
    "        if dimension == 0:\n",
    "            plt.imshow(data[slice_index, :, :], cmap='gray')\n",
    "        elif dimension == 1:\n",
    "            plt.imshow(data[:, slice_index, :], cmap='gray')\n",
    "        else:\n",
    "            plt.imshow(data[:, :, slice_index], cmap='gray')\n",
    "        plt.axis('off')\n",
    "        plt.title(f'Dimension {dimension}, Slice {slice_index}')\n",
    "        plt.show()\n",
    "\n",
    "    def update_slice(dimension, slice_index):\n",
    "        plot_slice(dimension, slice_index)\n",
    "\n",
    "    dim_widget = widgets.RadioButtons(\n",
    "        options=[('Dim 0', 0), ('Dim 1', 1), ('Dim 2', 2)],\n",
    "        description='Dimension:',\n",
    "        disabled=False\n",
    "    )\n",
    "\n",
    "    slice_widget = widgets.IntSlider(\n",
    "        value=data.shape[0]//2,\n",
    "        min=0,\n",
    "        max=data.shape[0]-1,\n",
    "        step=1,\n",
    "        description='Slice:',\n",
    "        disabled=False,\n",
    "        continuous_update=False,\n",
    "        orientation='horizontal',\n",
    "        readout=True,\n",
    "        readout_format='d'\n",
    "    )\n",
    "\n",
    "    def update_slice_range(*args):\n",
    "        dimension = dim_widget.value\n",
    "        slice_widget.max = data.shape[dimension] - 1\n",
    "        slice_widget.value = data.shape[dimension] // 2\n",
    "\n",
    "    dim_widget.observe(update_slice_range, 'value')\n",
    "\n",
    "    interact(update_slice, dimension=dim_widget, slice_index=slice_widget)\n",
    "\n",
    "# Usage\n",
    "file_path = r\"C:\\Users\\acer\\Desktop\\Data_0\\Nii_flipped\\47-4881 L 2014_masked_squeezed.nii.gz\"\n",
    "display_nifti_slice(file_path)"
   ]
  }
 ],
 "metadata": {
  "kernelspec": {
   "display_name": "Python 3",
   "language": "python",
   "name": "python3"
  },
  "language_info": {
   "codemirror_mode": {
    "name": "ipython",
    "version": 3
   },
   "file_extension": ".py",
   "mimetype": "text/x-python",
   "name": "python",
   "nbconvert_exporter": "python",
   "pygments_lexer": "ipython3",
   "version": "3.11.4"
  }
 },
 "nbformat": 4,
 "nbformat_minor": 2
}
