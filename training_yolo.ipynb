{
 "cells": [
  {
   "cell_type": "code",
   "execution_count": null,
   "id": "62ab5e99",
   "metadata": {},
   "outputs": [],
   "source": [
    "from ultralytics import YOLO\n",
    "\n",
    "model = YOLO('yolo11m-cls.pt')  # Load the classification model\n",
    "\n",
    "# Start training\n",
    "results = model.train(\n",
    "    data=r\"D:\\Kananat\\Data\\training_dataset_2D\\training_dataset_OA_multiview\",\n",
    "    name='MultiView_OA',\n",
    "    epochs=500,\n",
    "    patience=150,\n",
    "    imgsz=640,\n",
    "    dropout=0.1,\n",
    "    batch=16,\n",
    "    device='0'  # Use '0' for first GPU, 'cpu' for CPU training\n",
    ")"
   ]
  }
 ],
 "metadata": {
  "kernelspec": {
   "display_name": "Yolo",
   "language": "python",
   "name": "python3"
  },
  "language_info": {
   "codemirror_mode": {
    "name": "ipython",
    "version": 3
   },
   "file_extension": ".py",
   "mimetype": "text/x-python",
   "name": "python",
   "nbconvert_exporter": "python",
   "pygments_lexer": "ipython3",
   "version": "3.12.11"
  }
 },
 "nbformat": 4,
 "nbformat_minor": 5
}
