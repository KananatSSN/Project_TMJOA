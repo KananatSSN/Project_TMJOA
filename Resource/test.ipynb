{
 "cells": [
  {
   "cell_type": "code",
   "execution_count": 1,
   "metadata": {},
   "outputs": [
    {
     "name": "stdout",
     "output_type": "stream",
     "text": [
      "Current value of i: 1\n",
      "Current value of i: 3\n",
      "Current value of i: 5\n",
      "Current value of i: 7\n",
      "Current value of i: 9\n"
     ]
    }
   ],
   "source": [
    "for i in range(10):\n",
    "    # Check if the current value of i meets the condition\n",
    "    if i % 2 == 0:\n",
    "        # Skip the current iteration if the condition is true\n",
    "        continue\n",
    "    # Code to execute if the condition is not met\n",
    "    print(f\"Current value of i: {i}\")"
   ]
  },
  {
   "cell_type": "code",
   "execution_count": 6,
   "metadata": {},
   "outputs": [
    {
     "name": "stdout",
     "output_type": "stream",
     "text": [
      "47-16872 L\n"
     ]
    }
   ],
   "source": [
    "import os\n",
    "\n",
    "folpath = r\"C:\\Users\\acer\\Desktop\\Data_0\\Nii\"\n",
    "filepath = sorted(os.listdir(folpath))[0]\n",
    "file_name = filepath.split(\".\")[0]\n",
    "\n",
    "print(file_name)"
   ]
  }
 ],
 "metadata": {
  "kernelspec": {
   "display_name": "Python 3",
   "language": "python",
   "name": "python3"
  },
  "language_info": {
   "codemirror_mode": {
    "name": "ipython",
    "version": 3
   },
   "file_extension": ".py",
   "mimetype": "text/x-python",
   "name": "python",
   "nbconvert_exporter": "python",
   "pygments_lexer": "ipython3",
   "version": "3.11.4"
  }
 },
 "nbformat": 4,
 "nbformat_minor": 2
}
