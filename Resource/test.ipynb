{
 "cells": [
  {
   "cell_type": "code",
   "execution_count": 1,
   "metadata": {},
   "outputs": [
    {
     "name": "stdout",
     "output_type": "stream",
     "text": [
      "Current value of i: 1\n",
      "Current value of i: 3\n",
      "Current value of i: 5\n",
      "Current value of i: 7\n",
      "Current value of i: 9\n"
     ]
    }
   ],
   "source": [
    "for i in range(10):\n",
    "    # Check if the current value of i meets the condition\n",
    "    if i % 2 == 0:\n",
    "        # Skip the current iteration if the condition is true\n",
    "        continue\n",
    "    # Code to execute if the condition is not met\n",
    "    print(f\"Current value of i: {i}\")"
   ]
  },
  {
   "cell_type": "code",
   "execution_count": 4,
   "metadata": {},
   "outputs": [
    {
     "name": "stdout",
     "output_type": "stream",
     "text": [
      "True\n"
     ]
    }
   ],
   "source": [
    "import os\n",
    "\n",
    "path = r\"C:\\Users\\acer\\Desktop\\Back up\\raw_Data_and_extra\\Data\\58-2015\"\n",
    "test = os.path.isdir(path)\n",
    "print(test)"
   ]
  }
 ],
 "metadata": {
  "kernelspec": {
   "display_name": "Python 3",
   "language": "python",
   "name": "python3"
  },
  "language_info": {
   "codemirror_mode": {
    "name": "ipython",
    "version": 3
   },
   "file_extension": ".py",
   "mimetype": "text/x-python",
   "name": "python",
   "nbconvert_exporter": "python",
   "pygments_lexer": "ipython3",
   "version": "3.11.4"
  }
 },
 "nbformat": 4,
 "nbformat_minor": 2
}
