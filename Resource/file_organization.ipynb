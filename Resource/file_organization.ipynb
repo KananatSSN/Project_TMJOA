{
 "cells": [
  {
   "cell_type": "code",
   "execution_count": null,
   "metadata": {
    "vscode": {
     "languageId": "plaintext"
    }
   },
   "outputs": [],
   "source": [
    "import os\n",
    "import shutil\n",
    "import re\n",
    "\n",
    "def organize_patient_files(source_folder, destination_base_folder):\n",
    "    \"\"\"\n",
    "    Organizes medical image files into patient-specific folders.\n",
    "    \n",
    "    Args:\n",
    "        source_folder (str): Path to the folder containing the image files\n",
    "        destination_base_folder (str): Path where patient folders will be created\n",
    "    \"\"\"\n",
    "    # Create the destination base folder if it doesn't exist\n",
    "    if not os.path.exists(destination_base_folder):\n",
    "        os.makedirs(destination_base_folder)\n",
    "    \n",
    "    # Regular expression to match the file pattern and extract patient ID\n",
    "    # Matches patterns like \"51-3282 R_x_074.jpg\"\n",
    "    pattern = r'([\\d-]+ R).*\\.jpg'\n",
    "    \n",
    "    # Dictionary to keep track of processed files for each patient\n",
    "    processed_files = {}\n",
    "    \n",
    "    # Iterate through all files in the source folder\n",
    "    for filename in os.listdir(source_folder):\n",
    "        if filename.lower().endswith('.jpg'):\n",
    "            # Try to extract patient ID using regex\n",
    "            match = re.match(pattern, filename)\n",
    "            \n",
    "            if match:\n",
    "                patient_id = match.group(1).strip()  # Get the patient ID and remove any trailing spaces\n",
    "                \n",
    "                # Create patient folder if it doesn't exist\n",
    "                patient_folder = os.path.join(destination_base_folder, patient_id)\n",
    "                if not os.path.exists(patient_folder):\n",
    "                    os.makedirs(patient_folder)\n",
    "                \n",
    "                # Copy the file to the patient's folder\n",
    "                source_file = os.path.join(source_folder, filename)\n",
    "                destination_file = os.path.join(patient_folder, filename)\n",
    "                \n",
    "                shutil.copy2(source_file, destination_file)\n",
    "                \n",
    "                # Keep track of processed files\n",
    "                if patient_id not in processed_files:\n",
    "                    processed_files[patient_id] = []\n",
    "                processed_files[patient_id].append(filename)\n",
    "    \n",
    "    # Print summary of processed files\n",
    "    print(\"\\nProcessing Summary:\")\n",
    "    print(\"-----------------\")\n",
    "    for patient_id, files in processed_files.items():\n",
    "        print(f\"\\nPatient {patient_id}:\")\n",
    "        print(f\"Number of files processed: {len(files)}\")\n",
    "        print(\"Files:\", \", \".join(files[:3]) + (\"...\" if len(files) > 3 else \"\"))\n",
    "\n",
    "# Example usage\n",
    "if __name__ == \"__main__\":\n",
    "    # Replace these paths with your actual paths\n",
    "    source_folder = \"path/to/source/folder\"\n",
    "    destination_base_folder = \"path/to/destination/folder\"\n",
    "    \n",
    "    organize_patient_files(source_folder, destination_base_folder)"
   ]
  }
 ],
 "metadata": {
  "language_info": {
   "name": "python"
  }
 },
 "nbformat": 4,
 "nbformat_minor": 2
}
