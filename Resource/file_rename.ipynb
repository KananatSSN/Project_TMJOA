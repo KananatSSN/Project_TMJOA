{
 "cells": [
  {
   "cell_type": "markdown",
   "metadata": {},
   "source": [
    "This is for removing all suffix"
   ]
  },
  {
   "cell_type": "code",
   "execution_count": null,
   "metadata": {},
   "outputs": [],
   "source": [
    "import os\n",
    "\n",
    "# Set the directory where your files are located\n",
    "directory = r\"C:\\Users\\acer\\Desktop\\Data_0\\Nii_cropped_224\"\n",
    "\n",
    "# Loop through each file in the directory\n",
    "for filename in os.listdir(directory):\n",
    "    if filename.endswith(\".nii.gz\"):\n",
    "        base_name = filename.split('.')[0]\n",
    "        base_name = filename.split('_')[0]\n",
    "        new_filename = f\"{base_name}.nii.gz\"\n",
    "        os.rename(os.path.join(directory, filename), os.path.join(directory, new_filename))\n",
    "        print(f'Renamed {filename} to {new_filename}')\n"
   ]
  },
  {
   "cell_type": "markdown",
   "metadata": {},
   "source": [
    "This is for name it to the same naming convention as in classification.xlsx"
   ]
  },
  {
   "cell_type": "code",
   "execution_count": null,
   "metadata": {},
   "outputs": [],
   "source": [
    "import os\n",
    "\n",
    "def check_uniqueness(directory):\n",
    "    # Set to store unique (prefix, suffix) tuples\n",
    "    unique_combinations = set()\n",
    "    patient_with_multiple_scan = []\n",
    "    # Iterate through each file in the directory\n",
    "    for filename in os.listdir(directory):\n",
    "        if filename.endswith(\".nii.gz\"):  # Check if the file is a .nii file\n",
    "            raw_name = filename.split('.')[0]\n",
    "            parts = raw_name.split('_')\n",
    "            if len(parts) >= 2:\n",
    "                patient_number = parts[0]\n",
    "                L_or_R = parts[-1]\n",
    "                # Create a tuple of prefix and suffix\n",
    "                patient_LR = (patient_number, L_or_R)\n",
    "                \n",
    "                # Check if the combination has already been encountered\n",
    "                if patient_LR in unique_combinations:\n",
    "                    patient_with_multiple_scan.append(patient_number)\n",
    "                unique_combinations.add(patient_LR)\n",
    "    \n",
    "    return patient_with_multiple_scan\n",
    "\n",
    "# Replace 'your_directory_path' with the path to the directory containing the files\n",
    "directory_path = r\"C:\\Users\\acer\\Desktop\\Data_Prep_3\\CropTMJ2_squeezed\"\n",
    "patient_with_multiple_scan = check_uniqueness(directory_path)\n",
    "print(patient_with_multiple_scan)\n"
   ]
  },
  {
   "cell_type": "code",
   "execution_count": null,
   "metadata": {},
   "outputs": [],
   "source": [
    "patient_with_multiple_scan[:2]"
   ]
  },
  {
   "cell_type": "code",
   "execution_count": null,
   "metadata": {},
   "outputs": [],
   "source": [
    "patient_with_multiple_scan[2:]"
   ]
  },
  {
   "cell_type": "code",
   "execution_count": null,
   "metadata": {},
   "outputs": [],
   "source": [
    "import os\n",
    "\n",
    "def rename_files(directory, exclude_list):\n",
    "    # Iterate through each file in the directory\n",
    "    for filename in os.listdir(directory):\n",
    "        parts = filename.split('_')\n",
    "        patient_number = parts[0]\n",
    "        if patient_number not in exclude_list and filename.endswith(\".nii.gz\"):\n",
    "            # Assuming the date is always in the same position\n",
    "            if len(parts) > 3:\n",
    "                # Remove the date parts (year, month, day)\n",
    "                old_name = filename.split('.')[0]\n",
    "                old_name_parts = old_name.split('_')\n",
    "                #new_name = '_'.join([old_name_parts[0], old_name_parts[4]])\n",
    "                new_name = f\"{old_name_parts[0][:2]}-{old_name_parts[0][2:]} {old_name_parts[4]}.nii.gz\"\n",
    "                old_path = os.path.join(directory, filename)\n",
    "                new_path = os.path.join(directory, new_name)\n",
    "                # Rename the file\n",
    "                os.rename(old_path, new_path)\n",
    "                print(f\"Renamed '{filename}' to '{new_name}'\")\n",
    "\n",
    "# List of files to exclude from renaming\n",
    "exclude_list = patient_with_multiple_scan\n",
    "\n",
    "# Replace 'your_directory_path' with the path to the directory containing the files\n",
    "directory_path = r\"C:\\Users\\acer\\Desktop\\Data_Prep_3\\CropTMJ2_squeezed - Copy\"\n",
    "rename_files(directory_path, exclude_list)\n"
   ]
  }
 ],
 "metadata": {
  "kernelspec": {
   "display_name": "Python 3",
   "language": "python",
   "name": "python3"
  },
  "language_info": {
   "codemirror_mode": {
    "name": "ipython",
    "version": 3
   },
   "file_extension": ".py",
   "mimetype": "text/x-python",
   "name": "python",
   "nbconvert_exporter": "python",
   "pygments_lexer": "ipython3",
   "version": "3.11.4"
  }
 },
 "nbformat": 4,
 "nbformat_minor": 2
}
