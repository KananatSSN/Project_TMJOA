{
 "cells": [
  {
   "cell_type": "code",
   "execution_count": null,
   "metadata": {},
   "outputs": [],
   "source": [
    "import os\n",
    "\n",
    "# Set the directory where your files are located\n",
    "directory = r\"C:\\Users\\acer\\Desktop\\Test_output\"\n",
    "\n",
    "# Loop through each file in the directory\n",
    "for filename in os.listdir(directory):\n",
    "    if filename.endswith(\".nii.gz\"):\n",
    "        parts = filename.split('_')\n",
    "        # Build the new filename\n",
    "        new_filename = '_'.join(parts[:5])  # Keeps the first four parts (ID, Year, Month, Day)\n",
    "        if 'flipped' in filename:\n",
    "            new_filename += '_flipped'  # Add flipped if it's part of the original name\n",
    "        new_filename += '.nii.gz'  # Append the file extension\n",
    "        # Rename the file\n",
    "        os.rename(os.path.join(directory, filename), os.path.join(directory, new_filename))\n",
    "        print(f'Renamed {filename} to {new_filename}')\n"
   ]
  }
 ],
 "metadata": {
  "language_info": {
   "name": "python"
  }
 },
 "nbformat": 4,
 "nbformat_minor": 2
}
