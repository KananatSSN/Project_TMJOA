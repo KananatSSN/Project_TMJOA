{
 "cells": [
  {
   "cell_type": "code",
   "execution_count": 1,
   "metadata": {},
   "outputs": [
    {
     "name": "stdout",
     "output_type": "stream",
     "text": [
      "Test data structure created in C:\\Users\\acer\\Desktop\\Raw_data_test\n"
     ]
    }
   ],
   "source": [
    "import os\n",
    "import shutil\n",
    "import random\n",
    "\n",
    "def create_test_data_structure(source_dir, destination_dir):\n",
    "    # Create the destination directory if it doesn't exist\n",
    "    os.makedirs(destination_dir, exist_ok=True)\n",
    "\n",
    "    # Iterate through year folders\n",
    "    for year_folder in os.listdir(source_dir):\n",
    "        year_path = os.path.join(source_dir, year_folder)\n",
    "        if os.path.isdir(year_path):\n",
    "            # Create the year folder in the destination directory\n",
    "            dest_year_path = os.path.join(destination_dir, year_folder)\n",
    "            os.makedirs(dest_year_path, exist_ok=True)\n",
    "\n",
    "            # Get all patient folders in the year folder\n",
    "            patient_folders = [f for f in os.listdir(year_path) if os.path.isdir(os.path.join(year_path, f))]\n",
    "\n",
    "            # If there are 2 or more patient folders, randomly select 2\n",
    "            if len(patient_folders) >= 2:\n",
    "                selected_patients = random.sample(patient_folders, 2)\n",
    "            else:\n",
    "                selected_patients = patient_folders\n",
    "\n",
    "            # Copy the selected patient folders to the destination\n",
    "            for patient in selected_patients:\n",
    "                src_patient_path = os.path.join(year_path, patient)\n",
    "                dest_patient_path = os.path.join(dest_year_path, patient)\n",
    "                shutil.copytree(src_patient_path, dest_patient_path)\n",
    "\n",
    "    print(f\"Test data structure created in {destination_dir}\")\n",
    "\n",
    "# Usage\n",
    "source_directory = r\"C:\\Users\\acer\\Desktop\\Back up\\raw_Data_and_extra\\Data\"\n",
    "destination_directory = r\"C:\\Users\\acer\\Desktop\\Raw_data_test\"\n",
    "\n",
    "create_test_data_structure(source_directory, destination_directory)"
   ]
  }
 ],
 "metadata": {
  "kernelspec": {
   "display_name": "base",
   "language": "python",
   "name": "python3"
  },
  "language_info": {
   "codemirror_mode": {
    "name": "ipython",
    "version": 3
   },
   "file_extension": ".py",
   "mimetype": "text/x-python",
   "name": "python",
   "nbconvert_exporter": "python",
   "pygments_lexer": "ipython3",
   "version": "3.10.14"
  }
 },
 "nbformat": 4,
 "nbformat_minor": 2
}
