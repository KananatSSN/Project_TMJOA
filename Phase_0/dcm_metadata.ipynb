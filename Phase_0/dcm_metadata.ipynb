{
 "cells": [
  {
   "cell_type": "code",
   "execution_count": null,
   "metadata": {},
   "outputs": [],
   "source": [
    "import os\n",
    "import pandas as pd\n",
    "import pydicom\n",
    "\n",
    "def get_dicom_metadata(file_path):\n",
    "    # Read the DICOM file\n",
    "    ds = pydicom.dcmread(file_path, force=True)\n",
    "    # Extract metadata\n",
    "    metadata = {\n",
    "        'PatientID': ds.get('PatientID', 'N/A'),\n",
    "        'StudyDate': ds.get('StudyDate', 'N/A'),\n",
    "        'Modality': ds.get('Modality', 'N/A'),\n",
    "        'Manufacturer': ds.get('Manufacturer', 'N/A'),\n",
    "        'InstitutionName': ds.get('InstitutionName', 'N/A'),\n",
    "        'BodyPartExamined': ds.get('BodyPartExamined', 'N/A'),\n",
    "        'PatientAge': ds.get('PatientAge', 'N/A'),\n",
    "        'PatientSex': ds.get('PatientSex', 'N/A'),\n",
    "        'StudyDescription': ds.get('StudyDescription', 'N/A'),\n",
    "        'SeriesDescription': ds.get('SeriesDescription', 'N/A'),\n",
    "        'ProtocolName': ds.get('ProtocolName', 'N/A')\n",
    "    }\n",
    "    return metadata\n",
    "\n",
    "def process_dicom_files(folder_path):\n",
    "    # Initialize an empty list to store metadata\n",
    "    data = []\n",
    "\n",
    "    # Iterate through all files in the folder\n",
    "    for filename in os.listdir(folder_path):\n",
    "        if filename.endswith('.dcm'):\n",
    "            file_path = os.path.join(folder_path, filename)\n",
    "            metadata = get_dicom_metadata(file_path)\n",
    "            metadata['Filename'] = filename\n",
    "            data.append(metadata)\n",
    "\n",
    "    # Create a DataFrame from the data\n",
    "    df = pd.DataFrame(data)\n",
    "    return df\n",
    "\n",
    "folder_path = r\"C:\\Users\\acer\\Desktop\\Back up\\raw_Data_and_extra\\Data\\65-2022\\63-17957 L dicom\"\n",
    "df = process_dicom_files(folder_path)\n",
    "print(df)\n",
    "# Example usage\n",
    "\n"
   ]
  },
  {
   "cell_type": "code",
   "execution_count": null,
   "metadata": {},
   "outputs": [],
   "source": [
    "file_path = r\"C:\\Users\\acer\\Desktop\\Back up\\raw_Data_and_extra\\Data\\65-2022\\63-17957 L dicom\\_Z\\SLZ+000.dcm\"\n",
    "test = get_dicom_metadata(file_path)"
   ]
  },
  {
   "cell_type": "code",
   "execution_count": null,
   "metadata": {},
   "outputs": [],
   "source": [
    "print(test)"
   ]
  }
 ],
 "metadata": {
  "kernelspec": {
   "display_name": "Python 3",
   "language": "python",
   "name": "python3"
  },
  "language_info": {
   "codemirror_mode": {
    "name": "ipython",
    "version": 3
   },
   "file_extension": ".py",
   "mimetype": "text/x-python",
   "name": "python",
   "nbconvert_exporter": "python",
   "pygments_lexer": "ipython3",
   "version": "3.11.4"
  }
 },
 "nbformat": 4,
 "nbformat_minor": 2
}
