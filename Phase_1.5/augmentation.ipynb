{
 "cells": [
  {
   "cell_type": "code",
   "execution_count": 1,
   "metadata": {},
   "outputs": [],
   "source": [
    "from volumentations import *\n",
    "import nibabel as nib\n",
    "import os"
   ]
  },
  {
   "cell_type": "code",
   "execution_count": 3,
   "metadata": {},
   "outputs": [],
   "source": [
    "def get_augmentation(patch_size):\n",
    "    return Compose([\n",
    "        Rotate((-15, 15), (0, 0), (0, 0), p=0.5),\n",
    "        RandomCropFromBorders(crop_value=0.1, p=0.5),\n",
    "        ElasticTransform((0, 0.25), interpolation=2, p=0.1),\n",
    "        Resize(patch_size, interpolation=1, resize_type=0, always_apply=True, p=1.0),\n",
    "        Flip(0, p=0.5),\n",
    "        Flip(1, p=0.5),\n",
    "        Flip(2, p=0.5),\n",
    "        RandomRotate90((1, 2), p=0.5),\n",
    "        GaussianNoise(var_limit=(0, 5), p=0.2),\n",
    "        RandomGamma(gamma_limit=(80, 120), p=0.2),\n",
    "    ], p=1.0)\n",
    "\n",
    "aug = get_augmentation((64, 128, 128))\n",
    "\n",
    "input_path = r\"C:\\Users\\acer\\Desktop\\Test_input\\47-4881 L 2014_masked_squeezed.nii.gz\"\n",
    "nii_data = nib.load(input_path)\n",
    "img = nii_data.get_fdata()\n",
    "\n",
    "# without mask\n",
    "data = {'image': img}\n",
    "aug_data = aug(**data)\n",
    "img = aug_data['image']\n"
   ]
  },
  {
   "cell_type": "code",
   "execution_count": 4,
   "metadata": {},
   "outputs": [],
   "source": [
    "new_img = nib.Nifti1Image(img, nii_data.affine, nii_data.header)\n",
    "output_path = r\"C:\\Users\\acer\\Desktop\\Test_output\\47-4881 L 2014_masked_squeezed.nii.gz\"\n",
    "nib.save(new_img, output_path)"
   ]
  }
 ],
 "metadata": {
  "kernelspec": {
   "display_name": "Python 3",
   "language": "python",
   "name": "python3"
  },
  "language_info": {
   "codemirror_mode": {
    "name": "ipython",
    "version": 3
   },
   "file_extension": ".py",
   "mimetype": "text/x-python",
   "name": "python",
   "nbconvert_exporter": "python",
   "pygments_lexer": "ipython3",
   "version": "3.11.4"
  }
 },
 "nbformat": 4,
 "nbformat_minor": 2
}
