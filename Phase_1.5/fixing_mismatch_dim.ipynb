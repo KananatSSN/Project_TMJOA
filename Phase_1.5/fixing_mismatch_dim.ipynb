{
 "cells": [
  {
   "cell_type": "code",
   "execution_count": null,
   "metadata": {},
   "outputs": [],
   "source": [
    "import nibabel as nib\n",
    "\n",
    "file_path = r\"C:\\Users\\acer\\Desktop\\Data_Prep_1\\labelsTr\\58651_2020_11_02_L_segmented.nii.gz\"\n",
    "img = nib.load(file_path)\n",
    "segmented_vol = img.get_fdata()\n",
    "print(segmented_vol.shape)\n",
    "print(type(segmented_vol))"
   ]
  },
  {
   "cell_type": "code",
   "execution_count": null,
   "metadata": {},
   "outputs": [],
   "source": [
    "file_path = r\"C:\\Users\\acer\\Desktop\\Data_Prep_1\\imagesTr\\58651_2020_11_02_L.nii\"\n",
    "img = nib.load(file_path)\n",
    "original_vol = img.get_fdata()\n",
    "print(original_vol.shape)\n",
    "print(type(original_vol))"
   ]
  },
  {
   "cell_type": "code",
   "execution_count": null,
   "metadata": {},
   "outputs": [],
   "source": [
    "file_path = r\"C:\\Users\\acer\\Desktop\\Data_Prep_1\\imagesTr\\5450_2016_02_26_L.nii\"\n",
    "img = nib.load(file_path)\n",
    "original_vol = img.get_fdata()\n",
    "print(original_vol.shape)\n",
    "print(type(original_vol))"
   ]
  },
  {
   "cell_type": "code",
   "execution_count": null,
   "metadata": {},
   "outputs": [],
   "source": [
    "file_path = r\"C:\\Users\\acer\\Desktop\\Data_Prep_1\\labelsTr\\Output\\5450_2016_02_26_L_segmented_filled.nii.gz\"\n",
    "img = nib.load(file_path)\n",
    "original_vol = img.get_fdata()\n",
    "print(original_vol.shape)\n",
    "print(type(original_vol))"
   ]
  },
  {
   "cell_type": "code",
   "execution_count": null,
   "metadata": {},
   "outputs": [],
   "source": [
    "file_path = r\"C:\\Users\\acer\\Desktop\\Test\\test.nii.gz\"\n",
    "img = nib.load(file_path)\n",
    "original_vol = img.get_fdata()\n",
    "print(original_vol.shape)\n",
    "print(type(original_vol))"
   ]
  },
  {
   "cell_type": "code",
   "execution_count": null,
   "metadata": {},
   "outputs": [],
   "source": [
    "import os\n",
    "import nibabel as nib\n",
    "import pandas as pd\n",
    "import numpy as np\n",
    "\n",
    "# Paths to the directories\n",
    "folder1_path = r\"C:\\Users\\acer\\Desktop\\Data_Prep_1\\imagesTr\"  # Change to your first folder path\n",
    "folder2_path = r\"C:\\Users\\acer\\Desktop\\Data_Prep_1\\labelsTr\\Output\" # Change to your second folder path\n",
    "\n",
    "# List all .nii files in the first folder\n",
    "files_folder1 = [f for f in os.listdir(folder1_path) if f.endswith('.nii')]\n",
    "\n",
    "results = []\n",
    "# Iterate through the list of .nii files\n",
    "for file_name in files_folder1:\n",
    "    # Construct the file path for the current file\n",
    "    file_path = os.path.join(folder1_path, file_name)\n",
    "    \n",
    "    # Load the .nii file using nibabel\n",
    "    nii_img = nib.load(file_path)\n",
    "    nii_dims = nii_img.shape\n",
    "    \n",
    "    # Construct the corresponding segmentation file name\n",
    "    # Assuming the naming convention holds perfectly\n",
    "    base_name = file_name.split('.')[0]  # remove the .nii extension\n",
    "    segmentation_file_name = f\"{base_name}_segmented_filled.nii.gz\"\n",
    "    \n",
    "    # Construct the path for the segmentation file\n",
    "    segmentation_file_path = os.path.join(folder2_path, segmentation_file_name)\n",
    "    \n",
    "    # Check if the segmentation file exists\n",
    "    if os.path.exists(segmentation_file_path):\n",
    "        # Load the segmentation file\n",
    "        seg_img = nib.load(segmentation_file_path)\n",
    "        seg_dims = seg_img.shape\n",
    "\n",
    "        dim_differences = tuple(np.array(seg_dims) - np.array(nii_dims))\n",
    "        \n",
    "        # Check if dimensions match\n",
    "        dimensions_match = nii_dims == seg_dims\n",
    "        \n",
    "        # Append results to list\n",
    "        results.append({\n",
    "            \"Original File\": file_name,\n",
    "            \"Segmentation File\": segmentation_file_name,\n",
    "            \"Original Dimensions\": nii_dims,\n",
    "            \"Segmentation Dimensions\": seg_dims,\n",
    "            \"Dimension Differences\": dim_differences,\n",
    "            \"Dimensions Match\": dimensions_match\n",
    "        })\n",
    "    else:\n",
    "        results.append({\n",
    "            \"Original File\": file_name,\n",
    "            \"Segmentation File\": segmentation_file_name,\n",
    "            \"Original Dimensions\": nii_dims,\n",
    "            \"Segmentation Dimensions\": \"File not found\",\n",
    "            \"Dimension Differences\": \"N/A\",\n",
    "            \"Dimensions Match\": \"File not found\"\n",
    "        })\n",
    "\n",
    "df = pd.DataFrame(results)\n",
    "print(df)"
   ]
  },
  {
   "cell_type": "code",
   "execution_count": null,
   "metadata": {},
   "outputs": [],
   "source": [
    "\n",
    "# Create padding configuration\n",
    "pad_width = ((0, 481-415), (0, 0), (0, 0))  # pad before, pad after for each dimension\n",
    "\n",
    "# Pad the array\n",
    "padded_array = np.pad(segmented_vol, pad_width=pad_width, mode='constant', constant_values=0)\n",
    "print(padded_array.shape)\n",
    "print(type(padded_array))"
   ]
  },
  {
   "cell_type": "code",
   "execution_count": null,
   "metadata": {},
   "outputs": [],
   "source": [
    "file_path = r\"C:\\Users\\acer\\Desktop\\Test\\58651_2020_11_02_L.nii\"  # Change this to the desired output path\n",
    "result_img = nib.Nifti1Image(padded_array, img.affine, img.header)\n",
    "nib.save(result_img, file_path)"
   ]
  },
  {
   "cell_type": "code",
   "execution_count": null,
   "metadata": {},
   "outputs": [],
   "source": [
    "file_path = r\"C:\\Users\\acer\\Desktop\\Test\\58651_2020_11_02_L.nii\"\n",
    "img = nib.load(file_path)\n",
    "test_vol = img.get_fdata()\n",
    "print(test_vol.shape)\n",
    "print(type(test_vol))"
   ]
  },
  {
   "cell_type": "code",
   "execution_count": null,
   "metadata": {},
   "outputs": [],
   "source": [
    "from matplotlib import pyplot as plt\n",
    "\n",
    "slice_number = 260\n",
    "\n",
    "f, axarr = plt.subplots(1,3)\n",
    "axarr[0].set_title(\"Original\")\n",
    "axarr[0].imshow(original_vol[:,:,slice_number], cmap = 'grey')\n",
    "axarr[1].set_title(\"Segmentation\")\n",
    "axarr[1].imshow(original_vol[:,:,slice_number], cmap = 'grey')\n",
    "axarr[1].imshow(segmented_vol[:,:,slice_number], cmap='YlGn', alpha=0.5)\n",
    "axarr[2].set_title(\"Padded\")\n",
    "axarr[2].imshow(original_vol[:,:,slice_number], cmap = 'grey')\n",
    "axarr[2].imshow(padded_array[:,:,slice_number], cmap='YlGn', alpha=0.5)"
   ]
  },
  {
   "cell_type": "code",
   "execution_count": null,
   "metadata": {},
   "outputs": [],
   "source": [
    "import numpy as np\n",
    "\n",
    "slice_number = 260\n",
    "origianl_slice = original_vol[:,:,slice_number]\n",
    "segmented_slice = segmented_vol[:,:,slice_number]\n",
    "masked_image = np.where(segmented_slice == 1, origianl_slice, 0)"
   ]
  }
 ],
 "metadata": {
  "kernelspec": {
   "display_name": "Python 3",
   "language": "python",
   "name": "python3"
  },
  "language_info": {
   "codemirror_mode": {
    "name": "ipython",
    "version": 3
   },
   "file_extension": ".py",
   "mimetype": "text/x-python",
   "name": "python",
   "nbconvert_exporter": "python",
   "pygments_lexer": "ipython3",
   "version": "3.11.4"
  }
 },
 "nbformat": 4,
 "nbformat_minor": 2
}
