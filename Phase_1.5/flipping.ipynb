{
 "cells": [
  {
   "cell_type": "code",
   "execution_count": null,
   "metadata": {},
   "outputs": [],
   "source": [
    "import nibabel as nib\n",
    "from matplotlib import pyplot as plt\n",
    "import numpy as np\n",
    "import os"
   ]
  },
  {
   "cell_type": "code",
   "execution_count": null,
   "metadata": {},
   "outputs": [],
   "source": [
    "def flip_vol_R_to_L(input_path,output_folder):\n",
    "    vol_img = nib.load(input_path)\n",
    "    vol = vol_img.get_fdata()\n",
    "\n",
    "    flipped_vol = np.zeros_like(vol)\n",
    "    for slice_number in range(vol.shape[2]):\n",
    "        flipped_vol[:,:,slice_number] = np.flip(vol[:,:,slice_number],0)\n",
    "    \n",
    "    #display result\n",
    "    # slice_number_show = vol.shape[2]//2\n",
    "    # original_slice = vol[:,:,slice_number_show]\n",
    "    # flipped_slice = flipped_vol[:,:,slice_number_show]\n",
    "    # f, axarr = plt.subplots(1,2)\n",
    "    # axarr[0].set_title(\"Original\")\n",
    "    # axarr[0].imshow(original_slice, cmap = 'grey')\n",
    "    # axarr[1].set_title(\"Flipped\")\n",
    "    # axarr[1].imshow(flipped_slice, cmap = 'grey')\n",
    "\n",
    "    result_img = nib.Nifti1Image(flipped_vol, vol_img.affine, vol_img.header)\n",
    "\n",
    "    output_name = os.path.basename(input_path)\n",
    "    output_name = os.path.splitext(output_name)[0]\n",
    "    output_name = os.path.splitext(output_name)[0]\n",
    "    output_name = f\"{output_name}_flipped.nii.gz\"\n",
    "    output_path = os.path.join(output_folder,output_name)\n",
    "    nib.save(result_img, output_path)"
   ]
  },
  {
   "cell_type": "code",
   "execution_count": null,
   "metadata": {},
   "outputs": [],
   "source": [
    "def select_files_with_R(folder_path):\n",
    "\n",
    "    if not os.path.exists(folder_path):\n",
    "        print(f\"The folder {folder_path} does not exist.\")\n",
    "        return []\n",
    "    \n",
    "    selected_files = []\n",
    "    # Iterate through all files in the folder\n",
    "    for filename in os.listdir(folder_path):\n",
    "        # Check if the filename contains \"_R_\"\n",
    "        if \" R \" in filename:\n",
    "            selected_files.append(filename)\n",
    "    \n",
    "    return selected_files\n",
    "\n",
    "## Usage\n",
    "# folder_path = r\"C:\\Users\\acer\\Desktop\\Data_Prep_2\\imagesTr\\Cropped\"\n",
    "# selected_files = select_files_with_R(folder_path)\n",
    "# print(\"Selected files:\", selected_files)"
   ]
  },
  {
   "cell_type": "code",
   "execution_count": null,
   "metadata": {},
   "outputs": [],
   "source": [
    "input_folder = r\"C:\\Users\\acer\\Desktop\\Data_0\\Nii_masked\\Squeezed\"\n",
    "output_folder = r\"C:\\Users\\acer\\Desktop\\Data_0\\Nii_flipped\"\n",
    "selected_files = select_files_with_R(input_folder)\n",
    "\n",
    "progress_count = 0\n",
    "for filename in selected_files:\n",
    "\n",
    "    progress_count += 1\n",
    "    print(f\"[Processing {progress_count} out of {len(selected_files)}]\")\n",
    "\n",
    "    input_path = os.path.join(input_folder, filename)\n",
    "    #print(f\"input_path : {input_path}\")\n",
    "    flip_vol_R_to_L(input_path,output_folder)\n",
    "    "
   ]
  },
  {
   "cell_type": "markdown",
   "metadata": {},
   "source": [
    "Moving L to the same folder as R_flipped"
   ]
  },
  {
   "cell_type": "code",
   "execution_count": null,
   "metadata": {},
   "outputs": [],
   "source": [
    "import shutil\n",
    "import os\n",
    "\n",
    "def copy_file(source_path, destination_path):\n",
    "    try:\n",
    "        shutil.copy2(source_path, destination_path)\n",
    "        print(f\"File copied successfully from {source_path} to {destination_path}\")\n",
    "    except IOError as e:\n",
    "        print(f\"Unable to copy file. {e}\")\n",
    "    except:\n",
    "        print(\"Unexpected error:\", sys.exc_info())\n",
    "\n",
    "# # Example usage\n",
    "# source = \"/path/to/source/file.txt\"\n",
    "# destination = \"/path/to/destination/folder\"\n",
    "\n",
    "# # If you want to keep the original filename\n",
    "# destination_path = os.path.join(destination, os.path.basename(source))\n",
    "\n",
    "# copy_file(source, destination_path)"
   ]
  },
  {
   "cell_type": "code",
   "execution_count": null,
   "metadata": {},
   "outputs": [],
   "source": [
    "folder_path = r\"C:\\Users\\acer\\Desktop\\Data_0\\Nii_masked\\Squeezed\"\n",
    "# Iterate through all files in the folder\n",
    "for filename in os.listdir(folder_path):\n",
    "    # Check if the filename contains \" L_\"\n",
    "    if \" L_\" in filename:\n",
    "        source_path = os.path.join(folder_path, filename)\n",
    "        destination_folder = r\"C:\\Users\\acer\\Desktop\\Data_0\\Nii_flipped\"\n",
    "        destination_path = os.path.join(destination_folder, filename)\n",
    "        copy_file(source_path, destination_path)"
   ]
  }
 ],
 "metadata": {
  "kernelspec": {
   "display_name": "Python 3",
   "language": "python",
   "name": "python3"
  },
  "language_info": {
   "codemirror_mode": {
    "name": "ipython",
    "version": 3
   },
   "file_extension": ".py",
   "mimetype": "text/x-python",
   "name": "python",
   "nbconvert_exporter": "python",
   "pygments_lexer": "ipython3",
   "version": "3.11.4"
  }
 },
 "nbformat": 4,
 "nbformat_minor": 2
}
