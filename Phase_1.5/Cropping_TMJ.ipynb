{
 "cells": [
  {
   "cell_type": "markdown",
   "metadata": {},
   "source": [
    "Something weird happenning to 62330_2019_01_11_R_masked_cropped_flipped_cropTMJ.nii.gz in cropTMJ2\n",
    "\n",
    "It seem like the first cut (in dim1) is in the wrong direction\n",
    "It somehow get flipped????"
   ]
  },
  {
   "cell_type": "code",
   "execution_count": null,
   "metadata": {},
   "outputs": [],
   "source": [
    "import nibabel as nib\n",
    "from matplotlib import pyplot as plt\n",
    "import numpy as np\n",
    "import os\n",
    "from scipy.signal import find_peaks"
   ]
  },
  {
   "cell_type": "code",
   "execution_count": null,
   "metadata": {},
   "outputs": [],
   "source": [
    "def local_minima(data):\n",
    "    # Inverting the data to find local minima as local maxima\n",
    "    inverted_data = -np.array(data)\n",
    "    \n",
    "    # Finding local maxima in the inverted data\n",
    "    peaks, _ = find_peaks(inverted_data)\n",
    "    \n",
    "    if len(peaks) > 1:\n",
    "        filtered_peak = [value for value in peaks if value > 100]\n",
    "        peaks = [min(filtered_peak)]\n",
    "    if len(peaks) == 0:\n",
    "        peaks = [150]\n",
    "\n",
    "    peak_pos = peaks[0]\n",
    "    #peak_value = data[peak_pos]\n",
    "    return peak_pos#, peak_value\n",
    "\n",
    "    # Plotting the data\n",
    "    # plt.figure(figsize=(10, 5))\n",
    "    # plt.plot(data, label='Data')\n",
    "    \n",
    "    # # Highlighting local minima\n",
    "    # plt.scatter(peaks, np.array(data)[peaks], color='red', label='Local Minima', zorder=5)\n",
    "    \n",
    "    # # Adding labels and legend\n",
    "    # plt.title('Local Minima in the Data')\n",
    "    # plt.xlabel('Index')\n",
    "    # plt.ylabel('Value')\n",
    "    # plt.legend()\n",
    "    # plt.grid(True)\n",
    "    # plt.show()\n",
    "    # return peaks"
   ]
  },
  {
   "cell_type": "code",
   "execution_count": null,
   "metadata": {},
   "outputs": [],
   "source": [
    "def first_non_background_column(arr, background=-3990):\n",
    "\n",
    "    for col_index in range(arr.shape[1]):\n",
    "        if np.any(arr[:, col_index] > background):\n",
    "            return col_index\n",
    "        \n",
    "    return -1"
   ]
  },
  {
   "cell_type": "code",
   "execution_count": null,
   "metadata": {},
   "outputs": [],
   "source": [
    "def cropping_TMJ(input_path, output_folder):\n",
    "    vol_img = nib.load(input_path)\n",
    "    vol = vol_img.get_fdata()\n",
    "\n",
    "    top = []\n",
    "\n",
    "    for slice_number in range(vol.shape[1]):\n",
    "        slice_data = vol[:, slice_number, :]\n",
    "        top_pixel = first_non_background_column(slice_data, background=-3900)\n",
    "        top.append(top_pixel)\n",
    "\n",
    "    flip_top = max(top) - np.array(top)\n",
    "    peak_pos = local_minima(flip_top)\n",
    "\n",
    "    cutting_axis_1 = peak_pos\n",
    "    cutting_axis_2 = first_non_background_column(vol[:,peak_pos,:], background=-3900) + 50\n",
    "\n",
    "    result_vol = vol[:,0:cutting_axis_1, 0:cutting_axis_2]\n",
    "    result_img = nib.Nifti1Image(result_vol, vol_img.affine, vol_img.header)\n",
    "\n",
    "    output_name = os.path.basename(input_path)\n",
    "    output_name = os.path.splitext(output_name)[0]\n",
    "    output_name = os.path.splitext(output_name)[0]\n",
    "    output_name = f\"{output_name}_cropTMJ.nii.gz\"\n",
    "    output_path = os.path.join(output_folder,output_name)\n",
    "\n",
    "    nib.save(result_img, output_path)\n",
    "\n",
    "input_path = r\"C:\\Users\\acer\\Desktop\\Data_Prep_3\\images\\648619_2021_10_25_R_masked_cropped_flipped.nii.gz\"\n",
    "output_folder = r\"C:\\Users\\acer\\Desktop\\Test_output\"\n",
    "cropping_TMJ(input_path, output_folder)"
   ]
  },
  {
   "cell_type": "code",
   "execution_count": null,
   "metadata": {},
   "outputs": [],
   "source": [
    "input_folder = r\"C:\\Users\\acer\\Desktop\\Data_Prep_3\\images\"\n",
    "output_folder = r\"C:\\Users\\acer\\Desktop\\Data_Prep_3\\CropTMJ2\"\n",
    "\n",
    "files = os.listdir(input_folder)\n",
    "number_of_files = len(files)\n",
    "\n",
    "progress_count = 0\n",
    "for filename in files:\n",
    "\n",
    "    progress_count += 1\n",
    "    print(f\"[Processing {progress_count} out of {number_of_files}]\")\n",
    "\n",
    "    input_path = os.path.join(input_folder, filename)\n",
    "    #print(f\"input_path : {input_path}\")\n",
    "    cropping_TMJ(input_path, output_folder)"
   ]
  },
  {
   "cell_type": "code",
   "execution_count": null,
   "metadata": {},
   "outputs": [],
   "source": [
    "input_path = r\"C:\\Users\\acer\\Desktop\\Data_Prep_3\\CropTMJ2\\62330_2019_01_11_R_masked_cropped_flipped_cropTMJ.nii.gz\"\n",
    "vol_img = nib.load(input_path)\n",
    "weird_vol = vol_img.get_fdata()"
   ]
  },
  {
   "cell_type": "code",
   "execution_count": null,
   "metadata": {},
   "outputs": [],
   "source": [
    "input_path = r\"C:\\Users\\acer\\Desktop\\Data_Prep_3\\images\\62330_2019_01_11_R_masked_cropped_flipped.nii.gz\"\n",
    "vol_img = nib.load(input_path)\n",
    "original_vol = vol_img.get_fdata()"
   ]
  },
  {
   "cell_type": "code",
   "execution_count": null,
   "metadata": {},
   "outputs": [],
   "source": [
    "input_path = r\"C:\\Users\\acer\\Desktop\\Data_Prep_3\\images\\5450_2016_02_26_L_masked_cropped.nii.gz\"\n",
    "vol_img = nib.load(input_path)\n",
    "normal_vol = vol_img.get_fdata()"
   ]
  },
  {
   "cell_type": "code",
   "execution_count": null,
   "metadata": {},
   "outputs": [],
   "source": [
    "weird_slice = weird_vol[:,weird_vol.shape[1]//2,:]\n",
    "origin_slice = original_vol[:,original_vol.shape[1]//2,:]\n",
    "normal_slice = normal_vol[:,normal_vol.shape[1]//2,:]\n",
    "\n",
    "f, axarr = plt.subplots(1,3)\n",
    "axarr[0].set_title(\"Original slice\")\n",
    "axarr[0].imshow(origin_slice, cmap = 'grey')\n",
    "axarr[1].set_title(\"Weird slice\")\n",
    "axarr[1].imshow(weird_slice, cmap = 'grey')\n",
    "axarr[2].set_title(\"Normal slice\")\n",
    "axarr[2].imshow(normal_slice, cmap = 'grey')"
   ]
  }
 ],
 "metadata": {
  "kernelspec": {
   "display_name": "Python 3",
   "language": "python",
   "name": "python3"
  },
  "language_info": {
   "codemirror_mode": {
    "name": "ipython",
    "version": 3
   },
   "file_extension": ".py",
   "mimetype": "text/x-python",
   "name": "python",
   "nbconvert_exporter": "python",
   "pygments_lexer": "ipython3",
   "version": "3.11.4"
  }
 },
 "nbformat": 4,
 "nbformat_minor": 2
}
