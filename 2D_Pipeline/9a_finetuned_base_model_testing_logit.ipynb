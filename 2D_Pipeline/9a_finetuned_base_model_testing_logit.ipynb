{
 "cells": [
  {
   "cell_type": "code",
   "execution_count": null,
   "metadata": {},
   "outputs": [],
   "source": [
    "import os\n",
    "import tensorflow as tf\n",
    "\n",
    "def predict_logits(model_path, test_dir):\n",
    "    \"\"\"\n",
    "    Takes a model path and test directory, returns dictionary of filename:logit pairs.\n",
    "    \n",
    "    Args:\n",
    "        model_path (str): Path to the .h5 model file\n",
    "        test_dir (str): Directory containing test images\n",
    "        \n",
    "    Returns:\n",
    "        dict: Dictionary with filenames as keys and logits as values\n",
    "    \"\"\"\n",
    "    # Load model\n",
    "    model = tf.keras.models.load_model(model_path)\n",
    "    \n",
    "    # Get all image files recursively\n",
    "    image_files = []\n",
    "    for root, _, files in os.walk(test_dir):\n",
    "        for file in files:\n",
    "            if file.lower().endswith('.jpg'):\n",
    "                image_files.append(os.path.join(root, file))\n",
    "    \n",
    "    # Create dataset\n",
    "    def process_image(path):\n",
    "        img = tf.io.read_file(path)\n",
    "        img = tf.image.decode_jpeg(img, channels=3)\n",
    "        img = tf.image.resize(img, (224, 224)) \n",
    "        img = tf.cast(img, tf.float32) / 255.0 # <<<<<<<< test if this is needed!!!!!!!!!\n",
    "        return img\n",
    "    \n",
    "    # Create dataset from image files\n",
    "    dataset = tf.data.Dataset.from_tensor_slices(image_files)\n",
    "    dataset = dataset.map(process_image)\n",
    "    dataset = dataset.batch(32)\n",
    "    \n",
    "    # Get predictions\n",
    "    predictions = model.predict(dataset, verbose=0)\n",
    "    \n",
    "    # Create dictionary of filename:logit pairs\n",
    "    results = {os.path.basename(fname): float(logit) \n",
    "              for fname, logit in zip(image_files, predictions.flatten())}\n",
    "    \n",
    "    return results\n",
    "\n",
    "# Example usage:\n",
    "# model_path = \"path/to/your/model.h5\"\n",
    "# test_dir = \"path/to/test/data\"\n",
    "# results = predict_logits(model_path, test_dir)"
   ]
  }
 ],
 "metadata": {
  "kernelspec": {
   "display_name": "2dmodelGPU",
   "language": "python",
   "name": "python3"
  },
  "language_info": {
   "codemirror_mode": {
    "name": "ipython",
    "version": 3
   },
   "file_extension": ".py",
   "mimetype": "text/x-python",
   "name": "python",
   "nbconvert_exporter": "python",
   "pygments_lexer": "ipython3",
   "version": "3.12.4"
  }
 },
 "nbformat": 4,
 "nbformat_minor": 2
}
