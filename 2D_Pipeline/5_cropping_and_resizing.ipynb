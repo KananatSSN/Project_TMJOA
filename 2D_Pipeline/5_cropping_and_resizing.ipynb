{
 "cells": [
  {
   "cell_type": "markdown",
   "metadata": {},
   "source": [
    "Squeeze > Flip > Crop/Pad"
   ]
  },
  {
   "cell_type": "code",
   "execution_count": null,
   "metadata": {},
   "outputs": [],
   "source": [
    "import nibabel as nib\n",
    "from matplotlib import pyplot as plt\n",
    "import numpy as np\n",
    "import os"
   ]
  },
  {
   "cell_type": "markdown",
   "metadata": {},
   "source": [
    "# Squeezing out the empty slices"
   ]
  },
  {
   "cell_type": "markdown",
   "metadata": {},
   "source": [
    "Remove all slices that all pixels in that slice have value below 'background_value'"
   ]
  },
  {
   "cell_type": "code",
   "execution_count": null,
   "metadata": {},
   "outputs": [],
   "source": [
    "def filter_slices(image, axis, background_value):\n",
    "    non_background_slices = []\n",
    "    for i in range(image.shape[axis]):\n",
    "        if axis == 0:\n",
    "            slice_2d = image[i, :, :]\n",
    "        elif axis == 1:\n",
    "            slice_2d = image[:, i, :]\n",
    "        elif axis == 2:\n",
    "            slice_2d = image[:, :, i]\n",
    "        \n",
    "        if not np.all(slice_2d <= background_value):\n",
    "            non_background_slices.append(i)\n",
    "    \n",
    "    if axis == 0:\n",
    "        filtered_image = image[non_background_slices, :, :]\n",
    "    elif axis == 1:\n",
    "        filtered_image = image[:, non_background_slices, :]\n",
    "    elif axis == 2:\n",
    "        filtered_image = image[:, :, non_background_slices]\n",
    "    \n",
    "    return filtered_image"
   ]
  },
  {
   "cell_type": "code",
   "execution_count": null,
   "metadata": {},
   "outputs": [],
   "source": [
    "# expected: input_vol = nib.load([path_to_.nii.gz file])\n",
    "\n",
    "def filter_vol(input_vol, background_value):\n",
    "    vol = input_vol.get_fdata()\n",
    "    \n",
    "    filtered_image = filter_slices(vol, 0, background_value)\n",
    "    filtered_image = filter_slices(filtered_image, 1, background_value)\n",
    "    filtered_image = filter_slices(filtered_image, 2, background_value)\n",
    "\n",
    "    output_vol = nib.Nifti1Image(filtered_image, input_vol.affine, input_vol.header)\n",
    "\n",
    "    return output_vol"
   ]
  },
  {
   "cell_type": "markdown",
   "metadata": {},
   "source": [
    "# Flip R to L"
   ]
  },
  {
   "cell_type": "code",
   "execution_count": null,
   "metadata": {},
   "outputs": [],
   "source": [
    "# expected: input_vol = nib.load([path_to_.nii.gz file])\n",
    "\n",
    "def flip_vol_R_to_L(input_vol):\n",
    "    vol = input_vol.get_fdata()\n",
    "\n",
    "    flipped_vol = np.zeros_like(vol)\n",
    "    for slice_number in range(vol.shape[2]):\n",
    "        flipped_vol[:,:,slice_number] = np.flip(vol[:,:,slice_number],0)\n",
    "    \n",
    "    output_vol = nib.Nifti1Image(flipped_vol, input_vol.affine, input_vol.header)\n",
    "\n",
    "    return output_vol"
   ]
  },
  {
   "cell_type": "markdown",
   "metadata": {},
   "source": [
    "# Cropping"
   ]
  },
  {
   "cell_type": "markdown",
   "metadata": {},
   "source": [
    "continue working here"
   ]
  },
  {
   "cell_type": "code",
   "execution_count": null,
   "metadata": {},
   "outputs": [],
   "source": [
    "def resize_nifti(input_file, output_file, target_shape=(224, 224, 224), padding_value=-4000, background_threshold=-3000):\n",
    "    # Load the NIfTI file\n",
    "    img = nib.load(input_file)\n",
    "    data = img.get_fdata()\n",
    "    \n",
    "    # Get the current shape\n",
    "    current_shape = data.shape\n",
    "    \n",
    "    # Initialize the output array with the padding value\n",
    "    output_data = np.full(target_shape, padding_value)\n",
    "    \n",
    "    # Dimension 0: Cropping and padding while preserving non-background voxels in [:, 0:100, :]\n",
    "    if current_shape[0] > target_shape[0]:\n",
    "        # Find the range of non-background voxels in [:, 0:100, :]\n",
    "        non_bg_indices = np.where(data[:, 0:100, :] > background_threshold)[0]\n",
    "        if len(non_bg_indices) > 0:\n",
    "            start_preserve = non_bg_indices.min()\n",
    "            end_preserve = non_bg_indices.max() + 1\n",
    "            \n",
    "            # Calculate potential crop\n",
    "            total_crop = current_shape[0] - target_shape[0]\n",
    "            start_crop = max(0, start_preserve - (total_crop // 2))\n",
    "            end_crop = min(current_shape[0], start_crop + target_shape[0])\n",
    "            \n",
    "            # Adjust if end_crop removes non-background voxels\n",
    "            if end_crop < end_preserve:\n",
    "                end_crop = min(current_shape[0], end_preserve)\n",
    "                start_crop = max(0, end_crop - target_shape[0])\n",
    "            \n",
    "            # Perform cropping\n",
    "            dim0_data = data[start_crop:end_crop, :, :]\n",
    "            \n",
    "            # Pad if necessary (in case we couldn't crop fully)\n",
    "            if dim0_data.shape[0] < target_shape[0]:\n",
    "                pad_before = (target_shape[0] - dim0_data.shape[0]) // 2\n",
    "                pad_after = target_shape[0] - dim0_data.shape[0] - pad_before\n",
    "                dim0_data = np.pad(dim0_data, ((pad_before, pad_after), (0, 0), (0, 0)), \n",
    "                                   mode='constant', constant_values=padding_value)\n",
    "        else:\n",
    "            # If no non-background voxels, crop from center\n",
    "            start = (current_shape[0] - target_shape[0]) // 2\n",
    "            end = start + target_shape[0]\n",
    "            dim0_data = data[start:end, :, :]\n",
    "    else:\n",
    "        # Pad if smaller\n",
    "        pad_before = (target_shape[0] - current_shape[0]) // 2\n",
    "        pad_after = target_shape[0] - current_shape[0] - pad_before\n",
    "        dim0_data = np.pad(data, ((pad_before, pad_after), (0, 0), (0, 0)), \n",
    "                           mode='constant', constant_values=padding_value)\n",
    "\n",
    "    # Dimension 1: Cropping and padding at the end\n",
    "    if dim0_data.shape[1] > target_shape[1]:\n",
    "        dim1_data = dim0_data[:, :target_shape[1], :]\n",
    "    else:\n",
    "        pad_width = target_shape[1] - dim0_data.shape[1]\n",
    "        dim1_data = np.pad(dim0_data, ((0, 0), (0, pad_width), (0, 0)), \n",
    "                           mode='constant', constant_values=padding_value)\n",
    "\n",
    "    # Dimension 2: Same as dimension 1\n",
    "    if dim1_data.shape[2] > target_shape[2]:\n",
    "        output_data = dim1_data[:, :, :target_shape[2]]\n",
    "    else:\n",
    "        pad_width = target_shape[2] - dim1_data.shape[2]\n",
    "        output_data = np.pad(dim1_data, ((0, 0), (0, 0), (0, pad_width)), \n",
    "                             mode='constant', constant_values=padding_value)\n",
    "\n",
    "    # Create a new NIfTI image with the resized data\n",
    "    new_img = nib.Nifti1Image(output_data, img.affine, img.header)\n",
    "    \n",
    "    # Save the resized image\n",
    "    nib.save(new_img, output_file)\n",
    "\n",
    "# The process_folder function remains the same\n",
    "def process_folder(input_folder, output_folder):\n",
    "    if not os.path.exists(output_folder):\n",
    "        os.makedirs(output_folder)\n",
    "    \n",
    "    for filename in os.listdir(input_folder):\n",
    "        if filename.endswith('.nii') or filename.endswith('.nii.gz'):\n",
    "            input_path = os.path.join(input_folder, filename)\n",
    "            output_path = os.path.join(output_folder, filename)\n",
    "            resize_nifti(input_path, output_path)\n",
    "            print(f\"Processed: {filename}\")\n",
    "\n",
    "# Usage\n",
    "input_folder = r\"C:\\Users\\acer\\Desktop\\Data_0\\Nii_flipped\"\n",
    "output_folder = r\"C:\\Users\\acer\\Desktop\\Data_0\\Nii_cropped_224\"\n",
    "process_folder(input_folder, output_folder)"
   ]
  }
 ],
 "metadata": {
  "language_info": {
   "name": "python"
  }
 },
 "nbformat": 4,
 "nbformat_minor": 2
}
