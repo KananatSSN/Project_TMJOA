{
 "cells": [
  {
   "cell_type": "code",
   "execution_count": 1,
   "metadata": {},
   "outputs": [],
   "source": [
    "import nibabel as nib\n",
    "import numpy as np\n",
    "import os\n",
    "from scipy.signal import find_peaks"
   ]
  },
  {
   "cell_type": "markdown",
   "metadata": {},
   "source": [
    "# Squeezing out the empty slices"
   ]
  },
  {
   "cell_type": "markdown",
   "metadata": {},
   "source": [
    "Remove all slices that all pixels in that slice have value below 'background_value'"
   ]
  },
  {
   "cell_type": "code",
   "execution_count": 2,
   "metadata": {},
   "outputs": [],
   "source": [
    "def filter_slices(image, axis, background_value = -4000):\n",
    "    non_background_slices = []\n",
    "    for i in range(image.shape[axis]):\n",
    "        if axis == 0:\n",
    "            slice_2d = image[i, :, :]\n",
    "        elif axis == 1:\n",
    "            slice_2d = image[:, i, :]\n",
    "        elif axis == 2:\n",
    "            slice_2d = image[:, :, i]\n",
    "        \n",
    "        if not np.all(slice_2d <= background_value):\n",
    "            non_background_slices.append(i)\n",
    "    \n",
    "    if axis == 0:\n",
    "        filtered_image = image[non_background_slices, :, :]\n",
    "    elif axis == 1:\n",
    "        filtered_image = image[:, non_background_slices, :]\n",
    "    elif axis == 2:\n",
    "        filtered_image = image[:, :, non_background_slices]\n",
    "    \n",
    "    return filtered_image"
   ]
  },
  {
   "cell_type": "code",
   "execution_count": 3,
   "metadata": {},
   "outputs": [],
   "source": [
    "# expected: input_vol = nib.load([path_to_.nii.gz file])\n",
    "\n",
    "def filter_vol(input_vol, background_value):\n",
    "    vol = input_vol.get_fdata()\n",
    "    \n",
    "    filtered_image = filter_slices(vol, 0, background_value)\n",
    "    filtered_image = filter_slices(filtered_image, 1, background_value)\n",
    "    filtered_image = filter_slices(filtered_image, 2, background_value)\n",
    "\n",
    "    output_vol = nib.Nifti1Image(filtered_image, input_vol.affine, input_vol.header)\n",
    "\n",
    "    return output_vol"
   ]
  },
  {
   "cell_type": "markdown",
   "metadata": {},
   "source": [
    "# Flip R to L"
   ]
  },
  {
   "cell_type": "code",
   "execution_count": 4,
   "metadata": {},
   "outputs": [],
   "source": [
    "# expected: input_vol = nib.load([path_to_.nii.gz file])\n",
    "\n",
    "def flip_vol_R_to_L(input_vol):\n",
    "    vol = input_vol.get_fdata()\n",
    "\n",
    "    flipped_vol = np.zeros_like(vol)\n",
    "    for slice_number in range(vol.shape[2]):\n",
    "        flipped_vol[:,:,slice_number] = np.flip(vol[:,:,slice_number],0)\n",
    "    \n",
    "    output_vol = nib.Nifti1Image(flipped_vol, input_vol.affine, input_vol.header)\n",
    "\n",
    "    return output_vol"
   ]
  },
  {
   "cell_type": "code",
   "execution_count": 5,
   "metadata": {},
   "outputs": [],
   "source": [
    "# expected: input_path = r\"C:\\Users\\acer\\Desktop\\TMJOA\\Masked\\47-16872 L_masked.nii.gz\"\n",
    "\n",
    "def check_for_L_or_R(input_path) :\n",
    "    file_name = os.path.basename(input_path)\n",
    "\n",
    "    # Check if \"R_\" or \"L_\" is in the file name\n",
    "    if \"R_\" in file_name:\n",
    "        return 'R'\n",
    "    elif \"L_\" in file_name:\n",
    "        return 'L'\n",
    "    else:\n",
    "        raise ValueError(\"File name does not contain 'R_' or 'L_'\")"
   ]
  },
  {
   "cell_type": "markdown",
   "metadata": {},
   "source": [
    "# Crop the condyle"
   ]
  },
  {
   "cell_type": "markdown",
   "metadata": {},
   "source": [
    "Crop the condyle at the lowest point in the bone curve"
   ]
  },
  {
   "cell_type": "code",
   "execution_count": 6,
   "metadata": {},
   "outputs": [],
   "source": [
    "def local_minima(data):\n",
    "    # Inverting the data to find local minima as local maxima\n",
    "    inverted_data = -np.array(data)\n",
    "    \n",
    "    # Finding local maxima in the inverted data\n",
    "    peaks, _ = find_peaks(inverted_data)\n",
    "    \n",
    "    if len(peaks) > 1:\n",
    "        filtered_peak = [value for value in peaks if value > 100]\n",
    "        peaks = [min(filtered_peak)]\n",
    "    if len(peaks) == 0:\n",
    "        peaks = [150]\n",
    "\n",
    "    peak_pos = peaks[0]\n",
    "    #peak_value = data[peak_pos]\n",
    "    return peak_pos#, peak_value"
   ]
  },
  {
   "cell_type": "code",
   "execution_count": 7,
   "metadata": {},
   "outputs": [],
   "source": [
    "def first_non_background_column(arr, background=-3990):\n",
    "\n",
    "    for col_index in range(arr.shape[1]):\n",
    "        if np.any(arr[:, col_index] > background):\n",
    "            return col_index\n",
    "        \n",
    "    return -1"
   ]
  },
  {
   "cell_type": "code",
   "execution_count": 8,
   "metadata": {},
   "outputs": [],
   "source": [
    "# expected: input_vol = nib.load(input_path)\n",
    "\n",
    "def cropping_TMJ(input_vol):\n",
    "    \n",
    "    vol = input_vol.get_fdata()\n",
    "\n",
    "    top = []\n",
    "\n",
    "    for slice_number in range(vol.shape[1]):\n",
    "        slice_data = vol[:, slice_number, :]\n",
    "        top_pixel = first_non_background_column(slice_data, background=-3900)\n",
    "        top.append(top_pixel)\n",
    "\n",
    "    flip_top = max(top) - np.array(top)\n",
    "    peak_pos = local_minima(flip_top)\n",
    "\n",
    "    cutting_axis_1 = peak_pos\n",
    "    cutting_axis_2 = first_non_background_column(vol[:,peak_pos,:], background=-3900) + 50\n",
    "\n",
    "    result_vol = vol[:,0:cutting_axis_1, 0:cutting_axis_2]\n",
    "    result_img = nib.Nifti1Image(result_vol, input_vol.affine, input_vol.header)\n",
    "\n",
    "    return result_img"
   ]
  },
  {
   "cell_type": "markdown",
   "metadata": {},
   "source": [
    "# Cropp down to 224, 224, 224"
   ]
  },
  {
   "cell_type": "markdown",
   "metadata": {},
   "source": [
    "Crop down to dimensions 224, 224, 224 while making sure to preserve the condylar head"
   ]
  },
  {
   "cell_type": "code",
   "execution_count": 9,
   "metadata": {},
   "outputs": [],
   "source": [
    "# expected: input_vol = nib.load(input_path)\n",
    "\n",
    "def resize_nifti(input_vol, target_shape=(224, 224, 224), padding_value=-4000, background_threshold=-3000):\n",
    "    # Load the NIfTI file\n",
    "    data = input_vol.get_fdata()\n",
    "\n",
    "    # Get the current shape\n",
    "    current_shape = data.shape\n",
    "    \n",
    "    # Initialize the output array with the padding value\n",
    "    output_data = np.full(target_shape, padding_value)\n",
    "    \n",
    "    # Dimension 0: Cropping and padding while preserving non-background voxels in [:, 0:100, :]\n",
    "    if current_shape[0] > target_shape[0]:\n",
    "        # Find the range of non-background voxels in [:, 0:100, :]\n",
    "        non_bg_indices = np.where(data[:, 0:100, :] > background_threshold)[0]\n",
    "        if len(non_bg_indices) > 0:\n",
    "            start_preserve = non_bg_indices.min()\n",
    "            end_preserve = non_bg_indices.max() + 1\n",
    "            \n",
    "            # Calculate potential crop\n",
    "            total_crop = current_shape[0] - target_shape[0]\n",
    "            start_crop = max(0, start_preserve - (total_crop // 2))\n",
    "            end_crop = min(current_shape[0], start_crop + target_shape[0])\n",
    "            \n",
    "            # Adjust if end_crop removes non-background voxels\n",
    "            if end_crop < end_preserve:\n",
    "                end_crop = min(current_shape[0], end_preserve)\n",
    "                start_crop = max(0, end_crop - target_shape[0])\n",
    "            \n",
    "            # Perform cropping\n",
    "            dim0_data = data[start_crop:end_crop, :, :]\n",
    "            \n",
    "            # Pad if necessary (in case we couldn't crop fully)\n",
    "            if dim0_data.shape[0] < target_shape[0]:\n",
    "                pad_before = (target_shape[0] - dim0_data.shape[0]) // 2\n",
    "                pad_after = target_shape[0] - dim0_data.shape[0] - pad_before\n",
    "                dim0_data = np.pad(dim0_data, ((pad_before, pad_after), (0, 0), (0, 0)), \n",
    "                                   mode='constant', constant_values=padding_value)\n",
    "        else:\n",
    "            # If no non-background voxels, crop from center\n",
    "            start = (current_shape[0] - target_shape[0]) // 2\n",
    "            end = start + target_shape[0]\n",
    "            dim0_data = data[start:end, :, :]\n",
    "    else:\n",
    "        # Pad if smaller\n",
    "        pad_before = (target_shape[0] - current_shape[0]) // 2\n",
    "        pad_after = target_shape[0] - current_shape[0] - pad_before\n",
    "        dim0_data = np.pad(data, ((pad_before, pad_after), (0, 0), (0, 0)), \n",
    "                           mode='constant', constant_values=padding_value)\n",
    "\n",
    "    # Dimension 1: Cropping and padding at the end\n",
    "    if dim0_data.shape[1] > target_shape[1]:\n",
    "        dim1_data = dim0_data[:, :target_shape[1], :]\n",
    "    else:\n",
    "        pad_width = target_shape[1] - dim0_data.shape[1]\n",
    "        dim1_data = np.pad(dim0_data, ((0, 0), (0, pad_width), (0, 0)), \n",
    "                           mode='constant', constant_values=padding_value)\n",
    "\n",
    "    # Dimension 2: Same as dimension 1\n",
    "    if dim1_data.shape[2] > target_shape[2]:\n",
    "        output_data = dim1_data[:, :, :target_shape[2]]\n",
    "    else:\n",
    "        pad_width = target_shape[2] - dim1_data.shape[2]\n",
    "        output_data = np.pad(dim1_data, ((0, 0), (0, 0), (0, pad_width)), \n",
    "                             mode='constant', constant_values=padding_value)\n",
    "\n",
    "    # Create a new NIfTI image with the resized data\n",
    "    output_vol = nib.Nifti1Image(output_data, input_vol.affine, input_vol.header)\n",
    "    \n",
    "    # Save the resized image\n",
    "    return output_vol"
   ]
  },
  {
   "cell_type": "markdown",
   "metadata": {},
   "source": [
    "# Main"
   ]
  },
  {
   "cell_type": "code",
   "execution_count": 12,
   "metadata": {},
   "outputs": [
    {
     "name": "stdout",
     "output_type": "stream",
     "text": [
      "There are 4 .nii files in the C:\\Users\\acer\\Desktop\\TMJOA\\Masked\n",
      "[Processing 1 out of 4]\n",
      "[Processing 2 out of 4]\n",
      "[Processing 3 out of 4]\n",
      "[Processing 4 out of 4]\n",
      "Done\n"
     ]
    }
   ],
   "source": [
    "input_folder = r\"C:\\Users\\acer\\Desktop\\TMJOA\\Masked\"\n",
    "output_folder = r\"C:\\Users\\acer\\Desktop\\TMJOA\\test_output\"\n",
    "\n",
    "nii_count = len([filename for filename in os.listdir(input_folder) if filename.endswith('.nii.gz')])\n",
    "print(f\"There are {nii_count} .nii files in the {input_folder}\")\n",
    "\n",
    "progress_count = 0\n",
    "\n",
    "files = sorted(os.listdir(input_folder))\n",
    "\n",
    "for filename in files :\n",
    "    if filename.endswith('.nii.gz'):\n",
    "        progress_count += 1\n",
    "        print(f\"[Processing {progress_count} out of {nii_count}]\")\n",
    "\n",
    "        input_path = os.path.join(input_folder, filename)\n",
    "\n",
    "        output_filename = filename.split(\".\")[0]\n",
    "        output_filename = f\"{output_filename}_preprocessed.nii.gz\"\n",
    "        output_path = os.path.join(output_folder, output_filename)\n",
    "\n",
    "        if os.path.exists(input_path) :\n",
    "\n",
    "            input_vol = nib.load(input_path)\n",
    "\n",
    "            output_vol = filter_vol(input_vol, background_value = -4000)\n",
    "            if check_for_L_or_R(input_path) == 'R':\n",
    "                output_vol = flip_vol_R_to_L(output_vol)\n",
    "            output_vol = cropping_TMJ(output_vol)\n",
    "            output_vol = resize_nifti(output_vol, target_shape=(224, 224, 224), padding_value=-4000, background_threshold=-3000)\n",
    "\n",
    "            nib.save(output_vol, output_path)\n",
    "        else:\n",
    "            vol_exist = os.path.exists(input_path)\n",
    "            print(f\"Error : vol {vol_exist}\")\n",
    "\n",
    "print(\"Done\")"
   ]
  }
 ],
 "metadata": {
  "kernelspec": {
   "display_name": "base",
   "language": "python",
   "name": "python3"
  },
  "language_info": {
   "codemirror_mode": {
    "name": "ipython",
    "version": 3
   },
   "file_extension": ".py",
   "mimetype": "text/x-python",
   "name": "python",
   "nbconvert_exporter": "python",
   "pygments_lexer": "ipython3",
   "version": "3.12.5"
  }
 },
 "nbformat": 4,
 "nbformat_minor": 2
}
