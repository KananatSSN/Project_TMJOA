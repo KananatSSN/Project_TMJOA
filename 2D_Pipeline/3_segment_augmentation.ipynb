{
 "cells": [
  {
   "cell_type": "code",
   "execution_count": null,
   "metadata": {},
   "outputs": [],
   "source": [
    "import nibabel as nib\n",
    "from matplotlib import pyplot as plt\n",
    "import numpy as np\n",
    "import cv2\n",
    "from skimage.segmentation import expand_labels"
   ]
  },
  {
   "cell_type": "code",
   "execution_count": null,
   "metadata": {},
   "outputs": [],
   "source": [
    "def array2cv(array) :\n",
    "    slice = (array * 255).astype(np.uint8)\n",
    "    return slice"
   ]
  },
  {
   "cell_type": "code",
   "execution_count": null,
   "metadata": {},
   "outputs": [],
   "source": [
    "def fillhole(img):\n",
    "\n",
    "    contours, _ = cv2.findContours(img, cv2.RETR_EXTERNAL, cv2.CHAIN_APPROX_SIMPLE)\n",
    "\n",
    "    if len(contours) == 0:\n",
    "        return cv2.cvtColor(img, cv2.COLOR_GRAY2BGR)\n",
    "    else:\n",
    "        # Assuming the smallest contour is the hole (this might need adjustment based on your image)\n",
    "        contours = sorted(contours, key=cv2.contourArea)\n",
    "        hole = contours[0]  # Change the index based on your specific image\n",
    "\n",
    "        # Create a color version of the binary image if you want to fill the hole in color or visualize\n",
    "        color_image = cv2.cvtColor(img, cv2.COLOR_GRAY2BGR)\n",
    "\n",
    "        # Draw the contour to fill the hole\n",
    "        cv2.drawContours(color_image, [hole], 0, (255, 255, 255), -1)\n",
    "    \n",
    "    return color_image"
   ]
  },
  {
   "cell_type": "code",
   "execution_count": null,
   "metadata": {},
   "outputs": [],
   "source": [
    "def cv2array(cv_img):\n",
    "    gray_image = cv2.cvtColor(cv_img, cv2.COLOR_BGR2GRAY)\n",
    "    _, binary_image_final = cv2.threshold(gray_image, 127, 255, cv2.THRESH_BINARY)\n",
    "    return binary_image_final"
   ]
  },
  {
   "cell_type": "code",
   "execution_count": null,
   "metadata": {},
   "outputs": [],
   "source": [
    "import os\n",
    "\n",
    "input_folder = r\"C:\\Users\\acer\\Desktop\\Data_0\\Segmentation\"\n",
    "output_folder = r\"C:\\Users\\acer\\Desktop\\Data_0\\Segmentation\\Filled\"\n",
    "\n",
    "nii_count = len([filename for filename in os.listdir(input_folder) if filename.endswith('.nii.gz')])\n",
    "print(f\"There are {nii_count} .nii.gz files in the {input_folder}\")\n",
    "\n",
    "progress_count = 0\n",
    "\n",
    "files = sorted(os.listdir(input_folder))\n",
    "\n",
    "for input_name in files :\n",
    "    if input_name.endswith('.nii.gz'):\n",
    "        progress_count += 1\n",
    "        print(f\"[Processing {progress_count} out of {nii_count}]\")\n",
    "        \n",
    "        input_path = os.path.join(input_folder, input_name)\n",
    "\n",
    "        output_name = os.path.basename(input_path)\n",
    "        output_name, _ = os.path.splitext(output_name)\n",
    "        output_name, _ = os.path.splitext(output_name)\n",
    "        output_name = f\"{output_name}_filled.nii.gz\"\n",
    "\n",
    "        output_path = os.path.join(output_folder, output_name)\n",
    "\n",
    "        img = nib.load(input_path)\n",
    "        data = img.get_fdata()\n",
    "        new_data = np.zeros_like(data)\n",
    "\n",
    "        for slice_number in range(new_data.shape[2]):\n",
    "            slice = data[:,:,slice_number]\n",
    "            slice = expand_labels(slice, distance=5)\n",
    "            cv_img = array2cv(slice)\n",
    "            filled_cv_img = fillhole(cv_img)\n",
    "            array_img = cv2array(filled_cv_img)\n",
    "            new_data[:,:,slice_number] = array_img\n",
    "\n",
    "        result_img = nib.Nifti1Image(new_data, img.affine, img.header)\n",
    "        nib.save(result_img, output_path)"
   ]
  },
  {
   "cell_type": "code",
   "execution_count": null,
   "metadata": {},
   "outputs": [],
   "source": [
    "# Result Example\n",
    "\n",
    "file_path = r\"C:\\Users\\acer\\Desktop\\Data_0\\Segmentation\\5450 L_segmented.nii.gz\"\n",
    "img = nib.load(file_path)\n",
    "data = img.get_fdata()\n",
    "print(data.shape)\n",
    "\n",
    "slice_number = 260\n",
    "\n",
    "slice = data[:,:,slice_number]\n",
    "\n",
    "#expand the edge of the segmentation a little\n",
    "slice = expand_labels(slice, distance=5)\n",
    "\n",
    "#fill the hole if there are holes\n",
    "cv_img = array2cv(slice)\n",
    "filled_cv_img = fillhole(cv_img)\n",
    "array_img = cv2array(filled_cv_img)\n",
    "\n",
    "#display result\n",
    "f, axarr = plt.subplots(1,2)\n",
    "axarr[0].set_title(\"Input\")\n",
    "axarr[0].imshow(data[:,:,slice_number], cmap = 'grey')\n",
    "axarr[1].set_title(\"Output\")\n",
    "axarr[1].imshow(array_img, cmap = 'grey')"
   ]
  }
 ],
 "metadata": {
  "kernelspec": {
   "display_name": "Python 3",
   "language": "python",
   "name": "python3"
  },
  "language_info": {
   "codemirror_mode": {
    "name": "ipython",
    "version": 3
   },
   "file_extension": ".py",
   "mimetype": "text/x-python",
   "name": "python",
   "nbconvert_exporter": "python",
   "pygments_lexer": "ipython3",
   "version": "3.11.4"
  }
 },
 "nbformat": 4,
 "nbformat_minor": 2
}
