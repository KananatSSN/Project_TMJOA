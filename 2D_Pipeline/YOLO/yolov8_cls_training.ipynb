{
 "cells": [
  {
   "cell_type": "code",
   "execution_count": 2,
   "metadata": {},
   "outputs": [],
   "source": [
    "import os\n",
    "import shutil\n",
    "from sklearn.model_selection import train_test_split\n",
    "from PIL import Image\n",
    "import glob\n",
    "\n",
    "def prepare_classification_dataset(\n",
    "    source_data_path,\n",
    "    output_path,\n",
    "    train_ratio=0.8,\n",
    "    validate_images=True\n",
    "):\n",
    "    \"\"\"\n",
    "    Prepares a dataset for YOLOv8 classification training by organizing images into the expected directory structure.\n",
    "    \n",
    "    Args:\n",
    "        source_data_path (str): Path to your raw data\n",
    "        output_path (str): Where to create the organized dataset\n",
    "        train_ratio (float): Proportion of data to use for training (default 0.8)\n",
    "        validate_images (bool): Whether to check if images are valid before copying\n",
    "    \"\"\"\n",
    "    # Create main directories\n",
    "    train_dir = os.path.join(output_path, 'train')\n",
    "    val_dir = os.path.join(output_path, 'test')\n",
    "    os.makedirs(train_dir, exist_ok=True)\n",
    "    os.makedirs(val_dir, exist_ok=True)\n",
    "\n",
    "    # Get list of classes (assuming class names are directory names)\n",
    "    classes = [d for d in os.listdir(source_data_path) \n",
    "              if os.path.isdir(os.path.join(source_data_path, d))]\n",
    "\n",
    "    for class_name in classes:\n",
    "        # Create class directories in train and val\n",
    "        os.makedirs(os.path.join(train_dir, class_name), exist_ok=True)\n",
    "        os.makedirs(os.path.join(val_dir, class_name), exist_ok=True)\n",
    "\n",
    "        # Get all images for this class\n",
    "        class_path = os.path.join(source_data_path, class_name)\n",
    "        images = []\n",
    "        for ext in ('*.jpg', '*.jpeg', '*.png', '*.bmp', '*.webp'):\n",
    "            images.extend(glob.glob(os.path.join(class_path, ext)))\n",
    "\n",
    "        # Split into train and validation sets\n",
    "        train_images, val_images = train_test_split(\n",
    "            images, \n",
    "            train_size=train_ratio,\n",
    "            random_state=42  # For reproducibility\n",
    "        )\n",
    "\n",
    "        # Function to safely copy images\n",
    "        def copy_images(image_list, destination_dir):\n",
    "            for img_path in image_list:\n",
    "                if validate_images:\n",
    "                    try:\n",
    "                        # Attempt to open the image to verify it's valid\n",
    "                        with Image.open(img_path) as img:\n",
    "                            img.verify()\n",
    "                    except Exception as e:\n",
    "                        print(f\"Skipping corrupted image {img_path}: {str(e)}\")\n",
    "                        continue\n",
    "\n",
    "                # Copy the image to appropriate directory\n",
    "                dest_path = os.path.join(destination_dir, class_name, os.path.basename(img_path))\n",
    "                shutil.copy2(img_path, dest_path)\n",
    "\n",
    "        # Copy images to train and validation directories\n",
    "        copy_images(train_images, train_dir)\n",
    "        copy_images(val_images, val_dir)\n",
    "\n",
    "    return len(classes), classes"
   ]
  },
  {
   "cell_type": "code",
   "execution_count": null,
   "metadata": {},
   "outputs": [],
   "source": [
    "source_path = r\"D:\\Kananat\\TF_TMJOA_jpg_x_5px\"\n",
    "output_path = r\"D:\\Kananat\\TF_TMJOA_jpg_x_5px_yolo\"\n",
    "\n",
    "num_classes, class_names = prepare_classification_dataset(\n",
    "    source_path,\n",
    "    output_path,\n",
    "    train_ratio=0.8,\n",
    "    validate_images=True\n",
    ")"
   ]
  },
  {
   "cell_type": "code",
   "execution_count": 1,
   "metadata": {},
   "outputs": [
    {
     "name": "stdout",
     "output_type": "stream",
     "text": [
      "Ultralytics 8.3.44  Python-3.12.0 torch-2.5.1 CUDA:0 (Quadro P4000, 8192MiB)\n",
      "\u001b[34m\u001b[1mengine\\trainer: \u001b[0mtask=classify, mode=train, model=yolov8m-cls.pt, data=D:\\Kananat\\_dataset_2d, epochs=100, time=None, patience=100, batch=32, imgsz=224, save=True, save_period=-1, cache=False, device=0, workers=8, project=None, name=train2, exist_ok=False, pretrained=True, optimizer=auto, verbose=True, seed=0, deterministic=True, single_cls=False, rect=False, cos_lr=False, close_mosaic=10, resume=False, amp=True, fraction=1.0, profile=False, freeze=None, multi_scale=False, overlap_mask=True, mask_ratio=4, dropout=0.0, val=True, split=val, save_json=False, save_hybrid=False, conf=None, iou=0.7, max_det=300, half=False, dnn=False, plots=True, source=None, vid_stride=1, stream_buffer=False, visualize=False, augment=False, agnostic_nms=False, classes=None, retina_masks=False, embed=None, show=False, save_frames=False, save_txt=False, save_conf=False, save_crop=False, show_labels=True, show_conf=True, show_boxes=True, line_width=None, format=torchscript, keras=False, optimize=False, int8=False, dynamic=False, simplify=True, opset=None, workspace=None, nms=False, lr0=0.01, lrf=0.01, momentum=0.937, weight_decay=0.0005, warmup_epochs=3.0, warmup_momentum=0.8, warmup_bias_lr=0.1, box=7.5, cls=0.5, dfl=1.5, pose=12.0, kobj=1.0, nbs=64, hsv_h=0.015, hsv_s=0.7, hsv_v=0.4, degrees=0.0, translate=0.1, scale=0.5, shear=0.0, perspective=0.0, flipud=0.0, fliplr=0.5, bgr=0.0, mosaic=1.0, mixup=0.0, copy_paste=0.0, copy_paste_mode=flip, auto_augment=randaugment, erasing=0.4, crop_fraction=1.0, cfg=None, tracker=botsort.yaml, save_dir=runs\\classify\\train2\n",
      "\u001b[34m\u001b[1mtrain:\u001b[0m D:\\Kananat\\_dataset_2d\\train... found 15075 images in 2 classes  \n",
      "\u001b[34m\u001b[1mval:\u001b[0m D:\\Kananat\\_dataset_2d\\val... found 844 images in 2 classes  \n",
      "\u001b[34m\u001b[1mtest:\u001b[0m D:\\Kananat\\_dataset_2d\\test... found 434 images in 2 classes  \n",
      "Overriding model.yaml nc=1000 with nc=2\n",
      "\n",
      "                   from  n    params  module                                       arguments                     \n",
      "  0                  -1  1      1392  ultralytics.nn.modules.conv.Conv             [3, 48, 3, 2]                 \n",
      "  1                  -1  1     41664  ultralytics.nn.modules.conv.Conv             [48, 96, 3, 2]                \n",
      "  2                  -1  2    111360  ultralytics.nn.modules.block.C2f             [96, 96, 2, True]             \n",
      "  3                  -1  1    166272  ultralytics.nn.modules.conv.Conv             [96, 192, 3, 2]               \n",
      "  4                  -1  4    813312  ultralytics.nn.modules.block.C2f             [192, 192, 4, True]           \n",
      "  5                  -1  1    664320  ultralytics.nn.modules.conv.Conv             [192, 384, 3, 2]              \n",
      "  6                  -1  4   3248640  ultralytics.nn.modules.block.C2f             [384, 384, 4, True]           \n",
      "  7                  -1  1   2655744  ultralytics.nn.modules.conv.Conv             [384, 768, 3, 2]              \n",
      "  8                  -1  2   7084032  ultralytics.nn.modules.block.C2f             [768, 768, 2, True]           \n",
      "  9                  -1  1    988162  ultralytics.nn.modules.head.Classify         [768, 2]                      \n",
      "YOLOv8m-cls summary: 141 layers, 15,774,898 parameters, 15,774,898 gradients, 41.9 GFLOPs\n",
      "Transferred 228/230 items from pretrained weights\n",
      "\u001b[34m\u001b[1mAMP: \u001b[0mrunning Automatic Mixed Precision (AMP) checks...\n",
      "\u001b[34m\u001b[1mAMP: \u001b[0mchecks passed \n"
     ]
    },
    {
     "name": "stderr",
     "output_type": "stream",
     "text": [
      "\u001b[34m\u001b[1mtrain: \u001b[0mScanning D:\\Kananat\\_dataset_2d\\train... 15075 images, 0 corrupt: 100%|██████████| 15075/15075 [00:04<00:00, 3378.53it/s]\n"
     ]
    },
    {
     "name": "stdout",
     "output_type": "stream",
     "text": [
      "\u001b[34m\u001b[1mtrain: \u001b[0mNew cache created: D:\\Kananat\\_dataset_2d\\train.cache\n"
     ]
    },
    {
     "name": "stderr",
     "output_type": "stream",
     "text": [
      "\u001b[34m\u001b[1mval: \u001b[0mScanning D:\\Kananat\\_dataset_2d\\val... 844 images, 0 corrupt: 100%|██████████| 844/844 [00:00<00:00, 1123.17it/s]"
     ]
    },
    {
     "name": "stdout",
     "output_type": "stream",
     "text": [
      "\u001b[34m\u001b[1mval: \u001b[0mNew cache created: D:\\Kananat\\_dataset_2d\\val.cache\n"
     ]
    },
    {
     "name": "stderr",
     "output_type": "stream",
     "text": [
      "\n"
     ]
    },
    {
     "name": "stdout",
     "output_type": "stream",
     "text": [
      "\u001b[34m\u001b[1moptimizer:\u001b[0m 'optimizer=auto' found, ignoring 'lr0=0.01' and 'momentum=0.937' and determining best 'optimizer', 'lr0' and 'momentum' automatically... \n",
      "\u001b[34m\u001b[1moptimizer:\u001b[0m SGD(lr=0.01, momentum=0.9) with parameter groups 38 weight(decay=0.0), 39 weight(decay=0.0005), 39 bias(decay=0.0)\n",
      "Image sizes 224 train, 224 val\n",
      "Using 8 dataloader workers\n",
      "Logging results to \u001b[1mruns\\classify\\train2\u001b[0m\n",
      "Starting training for 100 epochs...\n",
      "\n",
      "      Epoch    GPU_mem       loss  Instances       Size\n"
     ]
    },
    {
     "name": "stderr",
     "output_type": "stream",
     "text": [
      "      1/100      1.66G      0.627          3        224: 100%|██████████| 472/472 [01:29<00:00,  5.25it/s]\n",
      "               classes   top1_acc   top5_acc: 100%|██████████| 14/14 [00:01<00:00,  8.92it/s]"
     ]
    },
    {
     "name": "stdout",
     "output_type": "stream",
     "text": [
      "                   all      0.648          1\n"
     ]
    },
    {
     "name": "stderr",
     "output_type": "stream",
     "text": [
      "\n"
     ]
    },
    {
     "name": "stdout",
     "output_type": "stream",
     "text": [
      "\n",
      "      Epoch    GPU_mem       loss  Instances       Size\n"
     ]
    },
    {
     "name": "stderr",
     "output_type": "stream",
     "text": [
      "      2/100      1.74G     0.5546          3        224: 100%|██████████| 472/472 [01:33<00:00,  5.03it/s]\n",
      "               classes   top1_acc   top5_acc: 100%|██████████| 14/14 [00:01<00:00,  8.83it/s]"
     ]
    },
    {
     "name": "stdout",
     "output_type": "stream",
     "text": [
      "                   all      0.694          1\n"
     ]
    },
    {
     "name": "stderr",
     "output_type": "stream",
     "text": [
      "\n"
     ]
    },
    {
     "name": "stdout",
     "output_type": "stream",
     "text": [
      "\n",
      "      Epoch    GPU_mem       loss  Instances       Size\n"
     ]
    },
    {
     "name": "stderr",
     "output_type": "stream",
     "text": [
      "      3/100      1.74G      0.513          3        224: 100%|██████████| 472/472 [01:35<00:00,  4.95it/s]\n",
      "               classes   top1_acc   top5_acc: 100%|██████████| 14/14 [00:01<00:00,  8.60it/s]"
     ]
    },
    {
     "name": "stdout",
     "output_type": "stream",
     "text": [
      "                   all      0.703          1\n"
     ]
    },
    {
     "name": "stderr",
     "output_type": "stream",
     "text": [
      "\n"
     ]
    },
    {
     "name": "stdout",
     "output_type": "stream",
     "text": [
      "\n",
      "      Epoch    GPU_mem       loss  Instances       Size\n"
     ]
    },
    {
     "name": "stderr",
     "output_type": "stream",
     "text": [
      "      4/100      1.74G     0.4804          3        224: 100%|██████████| 472/472 [01:35<00:00,  4.93it/s]\n",
      "               classes   top1_acc   top5_acc: 100%|██████████| 14/14 [00:01<00:00,  8.49it/s]"
     ]
    },
    {
     "name": "stdout",
     "output_type": "stream",
     "text": [
      "                   all      0.713          1\n"
     ]
    },
    {
     "name": "stderr",
     "output_type": "stream",
     "text": [
      "\n"
     ]
    },
    {
     "name": "stdout",
     "output_type": "stream",
     "text": [
      "\n",
      "      Epoch    GPU_mem       loss  Instances       Size\n"
     ]
    },
    {
     "name": "stderr",
     "output_type": "stream",
     "text": [
      "      5/100      1.74G     0.4358          3        224: 100%|██████████| 472/472 [01:36<00:00,  4.91it/s]\n",
      "               classes   top1_acc   top5_acc: 100%|██████████| 14/14 [00:01<00:00,  8.54it/s]"
     ]
    },
    {
     "name": "stdout",
     "output_type": "stream",
     "text": [
      "                   all      0.733          1\n"
     ]
    },
    {
     "name": "stderr",
     "output_type": "stream",
     "text": [
      "\n"
     ]
    },
    {
     "name": "stdout",
     "output_type": "stream",
     "text": [
      "\n",
      "      Epoch    GPU_mem       loss  Instances       Size\n"
     ]
    },
    {
     "name": "stderr",
     "output_type": "stream",
     "text": [
      "      6/100      1.74G     0.3973          3        224: 100%|██████████| 472/472 [01:36<00:00,  4.88it/s]\n",
      "               classes   top1_acc   top5_acc: 100%|██████████| 14/14 [00:01<00:00,  8.46it/s]"
     ]
    },
    {
     "name": "stdout",
     "output_type": "stream",
     "text": [
      "                   all      0.692          1\n"
     ]
    },
    {
     "name": "stderr",
     "output_type": "stream",
     "text": [
      "\n"
     ]
    },
    {
     "name": "stdout",
     "output_type": "stream",
     "text": [
      "\n",
      "      Epoch    GPU_mem       loss  Instances       Size\n"
     ]
    },
    {
     "name": "stderr",
     "output_type": "stream",
     "text": [
      "      7/100      1.74G     0.3746          3        224: 100%|██████████| 472/472 [01:36<00:00,  4.89it/s]\n",
      "               classes   top1_acc   top5_acc: 100%|██████████| 14/14 [00:01<00:00,  8.58it/s]"
     ]
    },
    {
     "name": "stdout",
     "output_type": "stream",
     "text": [
      "                   all        0.7          1\n"
     ]
    },
    {
     "name": "stderr",
     "output_type": "stream",
     "text": [
      "\n"
     ]
    },
    {
     "name": "stdout",
     "output_type": "stream",
     "text": [
      "\n",
      "      Epoch    GPU_mem       loss  Instances       Size\n"
     ]
    },
    {
     "name": "stderr",
     "output_type": "stream",
     "text": [
      "      8/100      1.74G     0.3512          3        224: 100%|██████████| 472/472 [04:13<00:00,  1.86it/s]\n",
      "               classes   top1_acc   top5_acc: 100%|██████████| 14/14 [00:04<00:00,  2.84it/s]"
     ]
    },
    {
     "name": "stdout",
     "output_type": "stream",
     "text": [
      "                   all      0.678          1\n"
     ]
    },
    {
     "name": "stderr",
     "output_type": "stream",
     "text": [
      "\n"
     ]
    },
    {
     "name": "stdout",
     "output_type": "stream",
     "text": [
      "\n",
      "      Epoch    GPU_mem       loss  Instances       Size\n"
     ]
    },
    {
     "name": "stderr",
     "output_type": "stream",
     "text": [
      "      9/100      1.74G     0.3265          3        224: 100%|██████████| 472/472 [01:29<00:00,  5.28it/s]\n",
      "               classes   top1_acc   top5_acc: 100%|██████████| 14/14 [00:01<00:00,  8.42it/s]"
     ]
    },
    {
     "name": "stdout",
     "output_type": "stream",
     "text": [
      "                   all      0.703          1\n"
     ]
    },
    {
     "name": "stderr",
     "output_type": "stream",
     "text": [
      "\n"
     ]
    },
    {
     "name": "stdout",
     "output_type": "stream",
     "text": [
      "\n",
      "      Epoch    GPU_mem       loss  Instances       Size\n"
     ]
    },
    {
     "name": "stderr",
     "output_type": "stream",
     "text": [
      "     10/100      1.74G     0.3093          3        224: 100%|██████████| 472/472 [01:33<00:00,  5.08it/s]\n",
      "               classes   top1_acc   top5_acc: 100%|██████████| 14/14 [00:01<00:00,  8.78it/s]"
     ]
    },
    {
     "name": "stdout",
     "output_type": "stream",
     "text": [
      "                   all      0.688          1\n"
     ]
    },
    {
     "name": "stderr",
     "output_type": "stream",
     "text": [
      "\n"
     ]
    },
    {
     "name": "stdout",
     "output_type": "stream",
     "text": [
      "\n",
      "      Epoch    GPU_mem       loss  Instances       Size\n"
     ]
    },
    {
     "name": "stderr",
     "output_type": "stream",
     "text": [
      "     11/100      1.74G     0.2978          3        224: 100%|██████████| 472/472 [01:35<00:00,  4.96it/s]\n",
      "               classes   top1_acc   top5_acc: 100%|██████████| 14/14 [00:01<00:00,  8.53it/s]"
     ]
    },
    {
     "name": "stdout",
     "output_type": "stream",
     "text": [
      "                   all      0.704          1\n"
     ]
    },
    {
     "name": "stderr",
     "output_type": "stream",
     "text": [
      "\n"
     ]
    },
    {
     "name": "stdout",
     "output_type": "stream",
     "text": [
      "\n",
      "      Epoch    GPU_mem       loss  Instances       Size\n"
     ]
    },
    {
     "name": "stderr",
     "output_type": "stream",
     "text": [
      "     12/100      1.74G     0.2784          3        224: 100%|██████████| 472/472 [01:35<00:00,  4.92it/s]\n",
      "               classes   top1_acc   top5_acc: 100%|██████████| 14/14 [00:01<00:00,  8.55it/s]"
     ]
    },
    {
     "name": "stdout",
     "output_type": "stream",
     "text": [
      "                   all      0.711          1\n"
     ]
    },
    {
     "name": "stderr",
     "output_type": "stream",
     "text": [
      "\n"
     ]
    },
    {
     "name": "stdout",
     "output_type": "stream",
     "text": [
      "\n",
      "      Epoch    GPU_mem       loss  Instances       Size\n"
     ]
    },
    {
     "name": "stderr",
     "output_type": "stream",
     "text": [
      "     13/100      1.74G     0.2645          3        224: 100%|██████████| 472/472 [01:36<00:00,  4.91it/s]\n",
      "               classes   top1_acc   top5_acc: 100%|██████████| 14/14 [00:01<00:00,  8.43it/s]"
     ]
    },
    {
     "name": "stdout",
     "output_type": "stream",
     "text": [
      "                   all      0.675          1\n"
     ]
    },
    {
     "name": "stderr",
     "output_type": "stream",
     "text": [
      "\n"
     ]
    },
    {
     "name": "stdout",
     "output_type": "stream",
     "text": [
      "\n",
      "      Epoch    GPU_mem       loss  Instances       Size\n"
     ]
    },
    {
     "name": "stderr",
     "output_type": "stream",
     "text": [
      "     14/100      1.74G     0.2587          3        224: 100%|██████████| 472/472 [01:35<00:00,  4.93it/s]\n",
      "               classes   top1_acc   top5_acc: 100%|██████████| 14/14 [00:01<00:00,  8.50it/s]"
     ]
    },
    {
     "name": "stdout",
     "output_type": "stream",
     "text": [
      "                   all      0.698          1\n"
     ]
    },
    {
     "name": "stderr",
     "output_type": "stream",
     "text": [
      "\n"
     ]
    },
    {
     "name": "stdout",
     "output_type": "stream",
     "text": [
      "\n",
      "      Epoch    GPU_mem       loss  Instances       Size\n"
     ]
    },
    {
     "name": "stderr",
     "output_type": "stream",
     "text": [
      "     15/100      1.74G     0.2441          3        224: 100%|██████████| 472/472 [01:36<00:00,  4.88it/s]\n",
      "               classes   top1_acc   top5_acc: 100%|██████████| 14/14 [00:01<00:00,  8.54it/s]"
     ]
    },
    {
     "name": "stdout",
     "output_type": "stream",
     "text": [
      "                   all      0.707          1\n"
     ]
    },
    {
     "name": "stderr",
     "output_type": "stream",
     "text": [
      "\n"
     ]
    },
    {
     "name": "stdout",
     "output_type": "stream",
     "text": [
      "\n",
      "      Epoch    GPU_mem       loss  Instances       Size\n"
     ]
    },
    {
     "name": "stderr",
     "output_type": "stream",
     "text": [
      "     16/100      1.74G     0.2311          3        224: 100%|██████████| 472/472 [01:36<00:00,  4.91it/s]\n",
      "               classes   top1_acc   top5_acc: 100%|██████████| 14/14 [00:01<00:00,  8.56it/s]"
     ]
    },
    {
     "name": "stdout",
     "output_type": "stream",
     "text": [
      "                   all      0.704          1\n"
     ]
    },
    {
     "name": "stderr",
     "output_type": "stream",
     "text": [
      "\n"
     ]
    },
    {
     "name": "stdout",
     "output_type": "stream",
     "text": [
      "\n",
      "      Epoch    GPU_mem       loss  Instances       Size\n"
     ]
    },
    {
     "name": "stderr",
     "output_type": "stream",
     "text": [
      "     17/100      1.74G     0.2235          3        224: 100%|██████████| 472/472 [01:36<00:00,  4.90it/s]\n",
      "               classes   top1_acc   top5_acc: 100%|██████████| 14/14 [00:01<00:00,  8.55it/s]"
     ]
    },
    {
     "name": "stdout",
     "output_type": "stream",
     "text": [
      "                   all      0.705          1\n"
     ]
    },
    {
     "name": "stderr",
     "output_type": "stream",
     "text": [
      "\n"
     ]
    },
    {
     "name": "stdout",
     "output_type": "stream",
     "text": [
      "\n",
      "      Epoch    GPU_mem       loss  Instances       Size\n"
     ]
    },
    {
     "name": "stderr",
     "output_type": "stream",
     "text": [
      "     18/100      1.74G     0.2155          3        224: 100%|██████████| 472/472 [01:36<00:00,  4.90it/s]\n",
      "               classes   top1_acc   top5_acc: 100%|██████████| 14/14 [00:01<00:00,  8.79it/s]"
     ]
    },
    {
     "name": "stdout",
     "output_type": "stream",
     "text": [
      "                   all      0.703          1\n"
     ]
    },
    {
     "name": "stderr",
     "output_type": "stream",
     "text": [
      "\n"
     ]
    },
    {
     "name": "stdout",
     "output_type": "stream",
     "text": [
      "\n",
      "      Epoch    GPU_mem       loss  Instances       Size\n"
     ]
    },
    {
     "name": "stderr",
     "output_type": "stream",
     "text": [
      "     19/100      1.74G     0.2032          3        224: 100%|██████████| 472/472 [01:35<00:00,  4.94it/s]\n",
      "               classes   top1_acc   top5_acc: 100%|██████████| 14/14 [00:01<00:00,  8.67it/s]"
     ]
    },
    {
     "name": "stdout",
     "output_type": "stream",
     "text": [
      "                   all      0.709          1\n"
     ]
    },
    {
     "name": "stderr",
     "output_type": "stream",
     "text": [
      "\n"
     ]
    },
    {
     "name": "stdout",
     "output_type": "stream",
     "text": [
      "\n",
      "      Epoch    GPU_mem       loss  Instances       Size\n"
     ]
    },
    {
     "name": "stderr",
     "output_type": "stream",
     "text": [
      "     20/100      1.74G     0.2087          3        224: 100%|██████████| 472/472 [01:36<00:00,  4.92it/s]\n",
      "               classes   top1_acc   top5_acc: 100%|██████████| 14/14 [00:01<00:00,  8.53it/s]"
     ]
    },
    {
     "name": "stdout",
     "output_type": "stream",
     "text": [
      "                   all      0.705          1\n"
     ]
    },
    {
     "name": "stderr",
     "output_type": "stream",
     "text": [
      "\n"
     ]
    },
    {
     "name": "stdout",
     "output_type": "stream",
     "text": [
      "\n",
      "      Epoch    GPU_mem       loss  Instances       Size\n"
     ]
    },
    {
     "name": "stderr",
     "output_type": "stream",
     "text": [
      "     21/100      1.74G     0.2091          3        224: 100%|██████████| 472/472 [01:36<00:00,  4.90it/s]\n",
      "               classes   top1_acc   top5_acc: 100%|██████████| 14/14 [00:01<00:00,  8.61it/s]"
     ]
    },
    {
     "name": "stdout",
     "output_type": "stream",
     "text": [
      "                   all      0.718          1\n"
     ]
    },
    {
     "name": "stderr",
     "output_type": "stream",
     "text": [
      "\n"
     ]
    },
    {
     "name": "stdout",
     "output_type": "stream",
     "text": [
      "\n",
      "      Epoch    GPU_mem       loss  Instances       Size\n"
     ]
    },
    {
     "name": "stderr",
     "output_type": "stream",
     "text": [
      "     22/100      1.74G      0.188          3        224: 100%|██████████| 472/472 [01:36<00:00,  4.91it/s]\n",
      "               classes   top1_acc   top5_acc: 100%|██████████| 14/14 [00:01<00:00,  8.65it/s]"
     ]
    },
    {
     "name": "stdout",
     "output_type": "stream",
     "text": [
      "                   all      0.701          1\n"
     ]
    },
    {
     "name": "stderr",
     "output_type": "stream",
     "text": [
      "\n"
     ]
    },
    {
     "name": "stdout",
     "output_type": "stream",
     "text": [
      "\n",
      "      Epoch    GPU_mem       loss  Instances       Size\n"
     ]
    },
    {
     "name": "stderr",
     "output_type": "stream",
     "text": [
      "     23/100      1.74G     0.1869          3        224: 100%|██████████| 472/472 [01:36<00:00,  4.91it/s]\n",
      "               classes   top1_acc   top5_acc: 100%|██████████| 14/14 [00:01<00:00,  8.51it/s]"
     ]
    },
    {
     "name": "stdout",
     "output_type": "stream",
     "text": [
      "                   all      0.714          1\n"
     ]
    },
    {
     "name": "stderr",
     "output_type": "stream",
     "text": [
      "\n"
     ]
    },
    {
     "name": "stdout",
     "output_type": "stream",
     "text": [
      "\n",
      "      Epoch    GPU_mem       loss  Instances       Size\n"
     ]
    },
    {
     "name": "stderr",
     "output_type": "stream",
     "text": [
      "     24/100      1.74G     0.1786          3        224: 100%|██████████| 472/472 [01:36<00:00,  4.90it/s]\n",
      "               classes   top1_acc   top5_acc: 100%|██████████| 14/14 [00:01<00:00,  8.41it/s]"
     ]
    },
    {
     "name": "stdout",
     "output_type": "stream",
     "text": [
      "                   all       0.71          1\n"
     ]
    },
    {
     "name": "stderr",
     "output_type": "stream",
     "text": [
      "\n"
     ]
    },
    {
     "name": "stdout",
     "output_type": "stream",
     "text": [
      "\n",
      "      Epoch    GPU_mem       loss  Instances       Size\n"
     ]
    },
    {
     "name": "stderr",
     "output_type": "stream",
     "text": [
      "     25/100      1.74G     0.1748          3        224: 100%|██████████| 472/472 [01:36<00:00,  4.89it/s]\n",
      "               classes   top1_acc   top5_acc: 100%|██████████| 14/14 [00:01<00:00,  8.46it/s]"
     ]
    },
    {
     "name": "stdout",
     "output_type": "stream",
     "text": [
      "                   all      0.709          1\n"
     ]
    },
    {
     "name": "stderr",
     "output_type": "stream",
     "text": [
      "\n"
     ]
    },
    {
     "name": "stdout",
     "output_type": "stream",
     "text": [
      "\n",
      "      Epoch    GPU_mem       loss  Instances       Size\n"
     ]
    },
    {
     "name": "stderr",
     "output_type": "stream",
     "text": [
      "     26/100      1.74G      0.173          3        224: 100%|██████████| 472/472 [01:35<00:00,  4.92it/s]\n",
      "               classes   top1_acc   top5_acc: 100%|██████████| 14/14 [00:01<00:00,  8.45it/s]"
     ]
    },
    {
     "name": "stdout",
     "output_type": "stream",
     "text": [
      "                   all      0.712          1\n"
     ]
    },
    {
     "name": "stderr",
     "output_type": "stream",
     "text": [
      "\n"
     ]
    },
    {
     "name": "stdout",
     "output_type": "stream",
     "text": [
      "\n",
      "      Epoch    GPU_mem       loss  Instances       Size\n"
     ]
    },
    {
     "name": "stderr",
     "output_type": "stream",
     "text": [
      "     27/100      1.74G     0.1737          3        224: 100%|██████████| 472/472 [01:36<00:00,  4.91it/s]\n",
      "               classes   top1_acc   top5_acc: 100%|██████████| 14/14 [00:01<00:00,  8.46it/s]"
     ]
    },
    {
     "name": "stdout",
     "output_type": "stream",
     "text": [
      "                   all      0.705          1\n"
     ]
    },
    {
     "name": "stderr",
     "output_type": "stream",
     "text": [
      "\n"
     ]
    },
    {
     "name": "stdout",
     "output_type": "stream",
     "text": [
      "\n",
      "      Epoch    GPU_mem       loss  Instances       Size\n"
     ]
    },
    {
     "name": "stderr",
     "output_type": "stream",
     "text": [
      "     28/100      1.74G     0.1674          3        224: 100%|██████████| 472/472 [01:36<00:00,  4.89it/s]\n",
      "               classes   top1_acc   top5_acc: 100%|██████████| 14/14 [00:01<00:00,  8.48it/s]"
     ]
    },
    {
     "name": "stdout",
     "output_type": "stream",
     "text": [
      "                   all      0.691          1\n"
     ]
    },
    {
     "name": "stderr",
     "output_type": "stream",
     "text": [
      "\n"
     ]
    },
    {
     "name": "stdout",
     "output_type": "stream",
     "text": [
      "\n",
      "      Epoch    GPU_mem       loss  Instances       Size\n"
     ]
    },
    {
     "name": "stderr",
     "output_type": "stream",
     "text": [
      "     29/100      1.74G     0.1643          3        224: 100%|██████████| 472/472 [01:36<00:00,  4.89it/s]\n",
      "               classes   top1_acc   top5_acc: 100%|██████████| 14/14 [00:01<00:00,  8.42it/s]"
     ]
    },
    {
     "name": "stdout",
     "output_type": "stream",
     "text": [
      "                   all      0.712          1\n"
     ]
    },
    {
     "name": "stderr",
     "output_type": "stream",
     "text": [
      "\n"
     ]
    },
    {
     "name": "stdout",
     "output_type": "stream",
     "text": [
      "\n",
      "      Epoch    GPU_mem       loss  Instances       Size\n"
     ]
    },
    {
     "name": "stderr",
     "output_type": "stream",
     "text": [
      "     30/100      1.74G     0.1551          3        224: 100%|██████████| 472/472 [01:36<00:00,  4.90it/s]\n",
      "               classes   top1_acc   top5_acc: 100%|██████████| 14/14 [00:01<00:00,  8.61it/s]"
     ]
    },
    {
     "name": "stdout",
     "output_type": "stream",
     "text": [
      "                   all       0.72          1\n"
     ]
    },
    {
     "name": "stderr",
     "output_type": "stream",
     "text": [
      "\n"
     ]
    },
    {
     "name": "stdout",
     "output_type": "stream",
     "text": [
      "\n",
      "      Epoch    GPU_mem       loss  Instances       Size\n"
     ]
    },
    {
     "name": "stderr",
     "output_type": "stream",
     "text": [
      "     31/100      1.74G     0.1565          3        224: 100%|██████████| 472/472 [01:36<00:00,  4.90it/s]\n",
      "               classes   top1_acc   top5_acc: 100%|██████████| 14/14 [00:01<00:00,  8.53it/s]"
     ]
    },
    {
     "name": "stdout",
     "output_type": "stream",
     "text": [
      "                   all      0.722          1\n"
     ]
    },
    {
     "name": "stderr",
     "output_type": "stream",
     "text": [
      "\n"
     ]
    },
    {
     "name": "stdout",
     "output_type": "stream",
     "text": [
      "\n",
      "      Epoch    GPU_mem       loss  Instances       Size\n"
     ]
    },
    {
     "name": "stderr",
     "output_type": "stream",
     "text": [
      "     32/100      1.74G     0.1517          3        224: 100%|██████████| 472/472 [01:36<00:00,  4.89it/s]\n",
      "               classes   top1_acc   top5_acc: 100%|██████████| 14/14 [00:01<00:00,  8.59it/s]"
     ]
    },
    {
     "name": "stdout",
     "output_type": "stream",
     "text": [
      "                   all      0.722          1\n"
     ]
    },
    {
     "name": "stderr",
     "output_type": "stream",
     "text": [
      "\n"
     ]
    },
    {
     "name": "stdout",
     "output_type": "stream",
     "text": [
      "\n",
      "      Epoch    GPU_mem       loss  Instances       Size\n"
     ]
    },
    {
     "name": "stderr",
     "output_type": "stream",
     "text": [
      "     33/100      1.74G     0.1558          3        224: 100%|██████████| 472/472 [01:36<00:00,  4.88it/s]\n",
      "               classes   top1_acc   top5_acc: 100%|██████████| 14/14 [00:01<00:00,  8.45it/s]"
     ]
    },
    {
     "name": "stdout",
     "output_type": "stream",
     "text": [
      "                   all      0.713          1\n"
     ]
    },
    {
     "name": "stderr",
     "output_type": "stream",
     "text": [
      "\n"
     ]
    },
    {
     "name": "stdout",
     "output_type": "stream",
     "text": [
      "\n",
      "      Epoch    GPU_mem       loss  Instances       Size\n"
     ]
    },
    {
     "name": "stderr",
     "output_type": "stream",
     "text": [
      "     34/100      1.74G     0.1426          3        224: 100%|██████████| 472/472 [01:36<00:00,  4.90it/s]\n",
      "               classes   top1_acc   top5_acc: 100%|██████████| 14/14 [00:01<00:00,  8.19it/s]"
     ]
    },
    {
     "name": "stdout",
     "output_type": "stream",
     "text": [
      "                   all      0.724          1\n"
     ]
    },
    {
     "name": "stderr",
     "output_type": "stream",
     "text": [
      "\n"
     ]
    },
    {
     "name": "stdout",
     "output_type": "stream",
     "text": [
      "\n",
      "      Epoch    GPU_mem       loss  Instances       Size\n"
     ]
    },
    {
     "name": "stderr",
     "output_type": "stream",
     "text": [
      "     35/100      1.74G     0.1462          3        224: 100%|██████████| 472/472 [01:37<00:00,  4.84it/s]\n",
      "               classes   top1_acc   top5_acc: 100%|██████████| 14/14 [00:01<00:00,  8.19it/s]"
     ]
    },
    {
     "name": "stdout",
     "output_type": "stream",
     "text": [
      "                   all      0.722          1\n"
     ]
    },
    {
     "name": "stderr",
     "output_type": "stream",
     "text": [
      "\n"
     ]
    },
    {
     "name": "stdout",
     "output_type": "stream",
     "text": [
      "\n",
      "      Epoch    GPU_mem       loss  Instances       Size\n"
     ]
    },
    {
     "name": "stderr",
     "output_type": "stream",
     "text": [
      "     36/100      1.74G     0.1347          3        224: 100%|██████████| 472/472 [01:37<00:00,  4.85it/s]\n",
      "               classes   top1_acc   top5_acc: 100%|██████████| 14/14 [00:01<00:00,  8.42it/s]"
     ]
    },
    {
     "name": "stdout",
     "output_type": "stream",
     "text": [
      "                   all      0.732          1\n"
     ]
    },
    {
     "name": "stderr",
     "output_type": "stream",
     "text": [
      "\n"
     ]
    },
    {
     "name": "stdout",
     "output_type": "stream",
     "text": [
      "\n",
      "      Epoch    GPU_mem       loss  Instances       Size\n"
     ]
    },
    {
     "name": "stderr",
     "output_type": "stream",
     "text": [
      "     37/100      1.74G     0.1356          3        224: 100%|██████████| 472/472 [01:37<00:00,  4.85it/s]\n",
      "               classes   top1_acc   top5_acc: 100%|██████████| 14/14 [00:01<00:00,  8.44it/s]"
     ]
    },
    {
     "name": "stdout",
     "output_type": "stream",
     "text": [
      "                   all       0.72          1\n"
     ]
    },
    {
     "name": "stderr",
     "output_type": "stream",
     "text": [
      "\n"
     ]
    },
    {
     "name": "stdout",
     "output_type": "stream",
     "text": [
      "\n",
      "      Epoch    GPU_mem       loss  Instances       Size\n"
     ]
    },
    {
     "name": "stderr",
     "output_type": "stream",
     "text": [
      "     38/100      1.74G     0.1363          3        224: 100%|██████████| 472/472 [01:37<00:00,  4.85it/s]\n",
      "               classes   top1_acc   top5_acc: 100%|██████████| 14/14 [00:01<00:00,  8.41it/s]"
     ]
    },
    {
     "name": "stdout",
     "output_type": "stream",
     "text": [
      "                   all      0.723          1\n"
     ]
    },
    {
     "name": "stderr",
     "output_type": "stream",
     "text": [
      "\n"
     ]
    },
    {
     "name": "stdout",
     "output_type": "stream",
     "text": [
      "\n",
      "      Epoch    GPU_mem       loss  Instances       Size\n"
     ]
    },
    {
     "name": "stderr",
     "output_type": "stream",
     "text": [
      "     39/100      1.74G     0.1239          3        224: 100%|██████████| 472/472 [01:37<00:00,  4.83it/s]\n",
      "               classes   top1_acc   top5_acc: 100%|██████████| 14/14 [00:01<00:00,  8.34it/s]"
     ]
    },
    {
     "name": "stdout",
     "output_type": "stream",
     "text": [
      "                   all      0.719          1\n"
     ]
    },
    {
     "name": "stderr",
     "output_type": "stream",
     "text": [
      "\n"
     ]
    },
    {
     "name": "stdout",
     "output_type": "stream",
     "text": [
      "\n",
      "      Epoch    GPU_mem       loss  Instances       Size\n"
     ]
    },
    {
     "name": "stderr",
     "output_type": "stream",
     "text": [
      "     40/100      1.74G     0.1315          3        224: 100%|██████████| 472/472 [01:38<00:00,  4.80it/s]\n",
      "               classes   top1_acc   top5_acc: 100%|██████████| 14/14 [00:01<00:00,  8.28it/s]"
     ]
    },
    {
     "name": "stdout",
     "output_type": "stream",
     "text": [
      "                   all      0.714          1\n"
     ]
    },
    {
     "name": "stderr",
     "output_type": "stream",
     "text": [
      "\n"
     ]
    },
    {
     "name": "stdout",
     "output_type": "stream",
     "text": [
      "\n",
      "      Epoch    GPU_mem       loss  Instances       Size\n"
     ]
    },
    {
     "name": "stderr",
     "output_type": "stream",
     "text": [
      "     41/100      1.74G     0.1255          3        224: 100%|██████████| 472/472 [01:38<00:00,  4.81it/s]\n",
      "               classes   top1_acc   top5_acc: 100%|██████████| 14/14 [00:01<00:00,  8.33it/s]"
     ]
    },
    {
     "name": "stdout",
     "output_type": "stream",
     "text": [
      "                   all       0.71          1\n"
     ]
    },
    {
     "name": "stderr",
     "output_type": "stream",
     "text": [
      "\n"
     ]
    },
    {
     "name": "stdout",
     "output_type": "stream",
     "text": [
      "\n",
      "      Epoch    GPU_mem       loss  Instances       Size\n"
     ]
    },
    {
     "name": "stderr",
     "output_type": "stream",
     "text": [
      "     42/100      1.74G     0.1267          3        224: 100%|██████████| 472/472 [01:37<00:00,  4.83it/s]\n",
      "               classes   top1_acc   top5_acc: 100%|██████████| 14/14 [00:01<00:00,  8.45it/s]"
     ]
    },
    {
     "name": "stdout",
     "output_type": "stream",
     "text": [
      "                   all      0.716          1\n"
     ]
    },
    {
     "name": "stderr",
     "output_type": "stream",
     "text": [
      "\n"
     ]
    },
    {
     "name": "stdout",
     "output_type": "stream",
     "text": [
      "\n",
      "      Epoch    GPU_mem       loss  Instances       Size\n"
     ]
    },
    {
     "name": "stderr",
     "output_type": "stream",
     "text": [
      "     43/100      1.74G      0.126          3        224: 100%|██████████| 472/472 [01:35<00:00,  4.92it/s]\n",
      "               classes   top1_acc   top5_acc: 100%|██████████| 14/14 [00:01<00:00,  8.40it/s]"
     ]
    },
    {
     "name": "stdout",
     "output_type": "stream",
     "text": [
      "                   all      0.723          1\n"
     ]
    },
    {
     "name": "stderr",
     "output_type": "stream",
     "text": [
      "\n"
     ]
    },
    {
     "name": "stdout",
     "output_type": "stream",
     "text": [
      "\n",
      "      Epoch    GPU_mem       loss  Instances       Size\n"
     ]
    },
    {
     "name": "stderr",
     "output_type": "stream",
     "text": [
      "     44/100      1.74G     0.1176          3        224: 100%|██████████| 472/472 [01:36<00:00,  4.92it/s]\n",
      "               classes   top1_acc   top5_acc: 100%|██████████| 14/14 [00:01<00:00,  8.55it/s]"
     ]
    },
    {
     "name": "stdout",
     "output_type": "stream",
     "text": [
      "                   all      0.716          1\n"
     ]
    },
    {
     "name": "stderr",
     "output_type": "stream",
     "text": [
      "\n"
     ]
    },
    {
     "name": "stdout",
     "output_type": "stream",
     "text": [
      "\n",
      "      Epoch    GPU_mem       loss  Instances       Size\n"
     ]
    },
    {
     "name": "stderr",
     "output_type": "stream",
     "text": [
      "     45/100      1.74G      0.118          3        224: 100%|██████████| 472/472 [01:35<00:00,  4.92it/s]\n",
      "               classes   top1_acc   top5_acc: 100%|██████████| 14/14 [00:01<00:00,  8.50it/s]"
     ]
    },
    {
     "name": "stdout",
     "output_type": "stream",
     "text": [
      "                   all      0.714          1\n"
     ]
    },
    {
     "name": "stderr",
     "output_type": "stream",
     "text": [
      "\n"
     ]
    },
    {
     "name": "stdout",
     "output_type": "stream",
     "text": [
      "\n",
      "      Epoch    GPU_mem       loss  Instances       Size\n"
     ]
    },
    {
     "name": "stderr",
     "output_type": "stream",
     "text": [
      "     46/100      1.74G      0.116          3        224: 100%|██████████| 472/472 [01:36<00:00,  4.89it/s]\n",
      "               classes   top1_acc   top5_acc: 100%|██████████| 14/14 [00:01<00:00,  8.44it/s]"
     ]
    },
    {
     "name": "stdout",
     "output_type": "stream",
     "text": [
      "                   all      0.707          1\n"
     ]
    },
    {
     "name": "stderr",
     "output_type": "stream",
     "text": [
      "\n"
     ]
    },
    {
     "name": "stdout",
     "output_type": "stream",
     "text": [
      "\n",
      "      Epoch    GPU_mem       loss  Instances       Size\n"
     ]
    },
    {
     "name": "stderr",
     "output_type": "stream",
     "text": [
      "     47/100      1.74G     0.1108          3        224: 100%|██████████| 472/472 [02:19<00:00,  3.38it/s]\n",
      "               classes   top1_acc   top5_acc: 100%|██████████| 14/14 [00:05<00:00,  2.69it/s]"
     ]
    },
    {
     "name": "stdout",
     "output_type": "stream",
     "text": [
      "                   all      0.706          1\n"
     ]
    },
    {
     "name": "stderr",
     "output_type": "stream",
     "text": [
      "\n"
     ]
    },
    {
     "name": "stdout",
     "output_type": "stream",
     "text": [
      "\n",
      "      Epoch    GPU_mem       loss  Instances       Size\n"
     ]
    },
    {
     "name": "stderr",
     "output_type": "stream",
     "text": [
      "     48/100      1.74G     0.1188          3        224: 100%|██████████| 472/472 [04:57<00:00,  1.59it/s]\n",
      "               classes   top1_acc   top5_acc: 100%|██████████| 14/14 [00:05<00:00,  2.69it/s]"
     ]
    },
    {
     "name": "stdout",
     "output_type": "stream",
     "text": [
      "                   all      0.713          1\n"
     ]
    },
    {
     "name": "stderr",
     "output_type": "stream",
     "text": [
      "\n"
     ]
    },
    {
     "name": "stdout",
     "output_type": "stream",
     "text": [
      "\n",
      "      Epoch    GPU_mem       loss  Instances       Size\n"
     ]
    },
    {
     "name": "stderr",
     "output_type": "stream",
     "text": [
      "     49/100      1.74G     0.1139          3        224: 100%|██████████| 472/472 [05:09<00:00,  1.52it/s]\n",
      "               classes   top1_acc   top5_acc: 100%|██████████| 14/14 [00:05<00:00,  2.70it/s]"
     ]
    },
    {
     "name": "stdout",
     "output_type": "stream",
     "text": [
      "                   all      0.712          1\n"
     ]
    },
    {
     "name": "stderr",
     "output_type": "stream",
     "text": [
      "\n"
     ]
    },
    {
     "name": "stdout",
     "output_type": "stream",
     "text": [
      "\n",
      "      Epoch    GPU_mem       loss  Instances       Size\n"
     ]
    },
    {
     "name": "stderr",
     "output_type": "stream",
     "text": [
      "     50/100      1.74G      0.102          3        224: 100%|██████████| 472/472 [05:10<00:00,  1.52it/s]\n",
      "               classes   top1_acc   top5_acc: 100%|██████████| 14/14 [00:05<00:00,  2.69it/s]"
     ]
    },
    {
     "name": "stdout",
     "output_type": "stream",
     "text": [
      "                   all      0.709          1\n"
     ]
    },
    {
     "name": "stderr",
     "output_type": "stream",
     "text": [
      "\n"
     ]
    },
    {
     "name": "stdout",
     "output_type": "stream",
     "text": [
      "\n",
      "      Epoch    GPU_mem       loss  Instances       Size\n"
     ]
    },
    {
     "name": "stderr",
     "output_type": "stream",
     "text": [
      "     51/100      1.74G     0.1114          3        224: 100%|██████████| 472/472 [05:09<00:00,  1.52it/s]\n",
      "               classes   top1_acc   top5_acc: 100%|██████████| 14/14 [00:05<00:00,  2.70it/s]"
     ]
    },
    {
     "name": "stdout",
     "output_type": "stream",
     "text": [
      "                   all      0.718          1\n"
     ]
    },
    {
     "name": "stderr",
     "output_type": "stream",
     "text": [
      "\n"
     ]
    },
    {
     "name": "stdout",
     "output_type": "stream",
     "text": [
      "\n",
      "      Epoch    GPU_mem       loss  Instances       Size\n"
     ]
    },
    {
     "name": "stderr",
     "output_type": "stream",
     "text": [
      "     52/100      1.74G     0.1017          3        224: 100%|██████████| 472/472 [05:09<00:00,  1.52it/s]\n",
      "               classes   top1_acc   top5_acc: 100%|██████████| 14/14 [00:05<00:00,  2.70it/s]"
     ]
    },
    {
     "name": "stdout",
     "output_type": "stream",
     "text": [
      "                   all      0.717          1\n"
     ]
    },
    {
     "name": "stderr",
     "output_type": "stream",
     "text": [
      "\n"
     ]
    },
    {
     "name": "stdout",
     "output_type": "stream",
     "text": [
      "\n",
      "      Epoch    GPU_mem       loss  Instances       Size\n"
     ]
    },
    {
     "name": "stderr",
     "output_type": "stream",
     "text": [
      "     53/100      1.74G     0.1023          3        224: 100%|██████████| 472/472 [05:10<00:00,  1.52it/s]\n",
      "               classes   top1_acc   top5_acc: 100%|██████████| 14/14 [00:05<00:00,  2.70it/s]"
     ]
    },
    {
     "name": "stdout",
     "output_type": "stream",
     "text": [
      "                   all       0.71          1\n"
     ]
    },
    {
     "name": "stderr",
     "output_type": "stream",
     "text": [
      "\n"
     ]
    },
    {
     "name": "stdout",
     "output_type": "stream",
     "text": [
      "\n",
      "      Epoch    GPU_mem       loss  Instances       Size\n"
     ]
    },
    {
     "name": "stderr",
     "output_type": "stream",
     "text": [
      "     54/100      1.74G    0.09628          3        224: 100%|██████████| 472/472 [05:10<00:00,  1.52it/s]\n",
      "               classes   top1_acc   top5_acc: 100%|██████████| 14/14 [00:05<00:00,  2.69it/s]"
     ]
    },
    {
     "name": "stdout",
     "output_type": "stream",
     "text": [
      "                   all      0.712          1\n"
     ]
    },
    {
     "name": "stderr",
     "output_type": "stream",
     "text": [
      "\n"
     ]
    },
    {
     "name": "stdout",
     "output_type": "stream",
     "text": [
      "\n",
      "      Epoch    GPU_mem       loss  Instances       Size\n"
     ]
    },
    {
     "name": "stderr",
     "output_type": "stream",
     "text": [
      "     55/100      1.74G     0.1059          3        224: 100%|██████████| 472/472 [05:10<00:00,  1.52it/s]\n",
      "               classes   top1_acc   top5_acc: 100%|██████████| 14/14 [00:05<00:00,  2.69it/s]"
     ]
    },
    {
     "name": "stdout",
     "output_type": "stream",
     "text": [
      "                   all       0.71          1\n"
     ]
    },
    {
     "name": "stderr",
     "output_type": "stream",
     "text": [
      "\n"
     ]
    },
    {
     "name": "stdout",
     "output_type": "stream",
     "text": [
      "\n",
      "      Epoch    GPU_mem       loss  Instances       Size\n"
     ]
    },
    {
     "name": "stderr",
     "output_type": "stream",
     "text": [
      "     56/100      1.74G     0.1067          3        224: 100%|██████████| 472/472 [05:10<00:00,  1.52it/s]\n",
      "               classes   top1_acc   top5_acc: 100%|██████████| 14/14 [00:05<00:00,  2.69it/s]"
     ]
    },
    {
     "name": "stdout",
     "output_type": "stream",
     "text": [
      "                   all      0.714          1\n"
     ]
    },
    {
     "name": "stderr",
     "output_type": "stream",
     "text": [
      "\n"
     ]
    },
    {
     "name": "stdout",
     "output_type": "stream",
     "text": [
      "\n",
      "      Epoch    GPU_mem       loss  Instances       Size\n"
     ]
    },
    {
     "name": "stderr",
     "output_type": "stream",
     "text": [
      "     57/100      1.74G    0.09197          3        224: 100%|██████████| 472/472 [05:09<00:00,  1.52it/s]\n",
      "               classes   top1_acc   top5_acc: 100%|██████████| 14/14 [00:05<00:00,  2.70it/s]"
     ]
    },
    {
     "name": "stdout",
     "output_type": "stream",
     "text": [
      "                   all      0.712          1\n"
     ]
    },
    {
     "name": "stderr",
     "output_type": "stream",
     "text": [
      "\n"
     ]
    },
    {
     "name": "stdout",
     "output_type": "stream",
     "text": [
      "\n",
      "      Epoch    GPU_mem       loss  Instances       Size\n"
     ]
    },
    {
     "name": "stderr",
     "output_type": "stream",
     "text": [
      "     58/100      1.74G     0.0968          3        224: 100%|██████████| 472/472 [05:10<00:00,  1.52it/s]\n",
      "               classes   top1_acc   top5_acc: 100%|██████████| 14/14 [00:05<00:00,  2.70it/s]"
     ]
    },
    {
     "name": "stdout",
     "output_type": "stream",
     "text": [
      "                   all      0.722          1\n"
     ]
    },
    {
     "name": "stderr",
     "output_type": "stream",
     "text": [
      "\n"
     ]
    },
    {
     "name": "stdout",
     "output_type": "stream",
     "text": [
      "\n",
      "      Epoch    GPU_mem       loss  Instances       Size\n"
     ]
    },
    {
     "name": "stderr",
     "output_type": "stream",
     "text": [
      "     59/100      1.74G    0.09295          3        224: 100%|██████████| 472/472 [05:09<00:00,  1.52it/s]\n",
      "               classes   top1_acc   top5_acc: 100%|██████████| 14/14 [00:05<00:00,  2.69it/s]"
     ]
    },
    {
     "name": "stdout",
     "output_type": "stream",
     "text": [
      "                   all      0.713          1\n"
     ]
    },
    {
     "name": "stderr",
     "output_type": "stream",
     "text": [
      "\n"
     ]
    },
    {
     "name": "stdout",
     "output_type": "stream",
     "text": [
      "\n",
      "      Epoch    GPU_mem       loss  Instances       Size\n"
     ]
    },
    {
     "name": "stderr",
     "output_type": "stream",
     "text": [
      "     60/100      1.74G    0.08529          3        224: 100%|██████████| 472/472 [05:09<00:00,  1.52it/s]\n",
      "               classes   top1_acc   top5_acc: 100%|██████████| 14/14 [00:05<00:00,  2.70it/s]"
     ]
    },
    {
     "name": "stdout",
     "output_type": "stream",
     "text": [
      "                   all      0.711          1\n"
     ]
    },
    {
     "name": "stderr",
     "output_type": "stream",
     "text": [
      "\n"
     ]
    },
    {
     "name": "stdout",
     "output_type": "stream",
     "text": [
      "\n",
      "      Epoch    GPU_mem       loss  Instances       Size\n"
     ]
    },
    {
     "name": "stderr",
     "output_type": "stream",
     "text": [
      "     61/100      1.74G     0.0907          3        224: 100%|██████████| 472/472 [05:09<00:00,  1.52it/s]\n",
      "               classes   top1_acc   top5_acc: 100%|██████████| 14/14 [00:05<00:00,  2.70it/s]"
     ]
    },
    {
     "name": "stdout",
     "output_type": "stream",
     "text": [
      "                   all      0.709          1\n"
     ]
    },
    {
     "name": "stderr",
     "output_type": "stream",
     "text": [
      "\n"
     ]
    },
    {
     "name": "stdout",
     "output_type": "stream",
     "text": [
      "\n",
      "      Epoch    GPU_mem       loss  Instances       Size\n"
     ]
    },
    {
     "name": "stderr",
     "output_type": "stream",
     "text": [
      "     62/100      1.74G    0.08828          3        224: 100%|██████████| 472/472 [05:09<00:00,  1.52it/s]\n",
      "               classes   top1_acc   top5_acc: 100%|██████████| 14/14 [00:05<00:00,  2.70it/s]"
     ]
    },
    {
     "name": "stdout",
     "output_type": "stream",
     "text": [
      "                   all      0.704          1\n"
     ]
    },
    {
     "name": "stderr",
     "output_type": "stream",
     "text": [
      "\n"
     ]
    },
    {
     "name": "stdout",
     "output_type": "stream",
     "text": [
      "\n",
      "      Epoch    GPU_mem       loss  Instances       Size\n"
     ]
    },
    {
     "name": "stderr",
     "output_type": "stream",
     "text": [
      "     63/100      1.74G    0.08564          3        224: 100%|██████████| 472/472 [04:16<00:00,  1.84it/s]\n",
      "               classes   top1_acc   top5_acc: 100%|██████████| 14/14 [00:01<00:00,  9.69it/s]"
     ]
    },
    {
     "name": "stdout",
     "output_type": "stream",
     "text": [
      "                   all      0.703          1\n"
     ]
    },
    {
     "name": "stderr",
     "output_type": "stream",
     "text": [
      "\n"
     ]
    },
    {
     "name": "stdout",
     "output_type": "stream",
     "text": [
      "\n",
      "      Epoch    GPU_mem       loss  Instances       Size\n"
     ]
    },
    {
     "name": "stderr",
     "output_type": "stream",
     "text": [
      "     64/100      1.74G    0.08007          3        224: 100%|██████████| 472/472 [01:27<00:00,  5.41it/s]\n",
      "               classes   top1_acc   top5_acc: 100%|██████████| 14/14 [00:01<00:00,  9.11it/s]"
     ]
    },
    {
     "name": "stdout",
     "output_type": "stream",
     "text": [
      "                   all      0.703          1\n"
     ]
    },
    {
     "name": "stderr",
     "output_type": "stream",
     "text": [
      "\n"
     ]
    },
    {
     "name": "stdout",
     "output_type": "stream",
     "text": [
      "\n",
      "      Epoch    GPU_mem       loss  Instances       Size\n"
     ]
    },
    {
     "name": "stderr",
     "output_type": "stream",
     "text": [
      "     65/100      1.74G    0.08544          3        224: 100%|██████████| 472/472 [01:32<00:00,  5.10it/s]\n",
      "               classes   top1_acc   top5_acc: 100%|██████████| 14/14 [00:01<00:00,  8.65it/s]"
     ]
    },
    {
     "name": "stdout",
     "output_type": "stream",
     "text": [
      "                   all      0.701          1\n"
     ]
    },
    {
     "name": "stderr",
     "output_type": "stream",
     "text": [
      "\n"
     ]
    },
    {
     "name": "stdout",
     "output_type": "stream",
     "text": [
      "\n",
      "      Epoch    GPU_mem       loss  Instances       Size\n"
     ]
    },
    {
     "name": "stderr",
     "output_type": "stream",
     "text": [
      "     66/100      1.74G    0.07988          3        224: 100%|██████████| 472/472 [01:34<00:00,  4.97it/s]\n",
      "               classes   top1_acc   top5_acc: 100%|██████████| 14/14 [00:01<00:00,  8.51it/s]"
     ]
    },
    {
     "name": "stdout",
     "output_type": "stream",
     "text": [
      "                   all      0.699          1\n"
     ]
    },
    {
     "name": "stderr",
     "output_type": "stream",
     "text": [
      "\n"
     ]
    },
    {
     "name": "stdout",
     "output_type": "stream",
     "text": [
      "\n",
      "      Epoch    GPU_mem       loss  Instances       Size\n"
     ]
    },
    {
     "name": "stderr",
     "output_type": "stream",
     "text": [
      "     67/100      1.74G    0.08064          3        224: 100%|██████████| 472/472 [01:35<00:00,  4.94it/s]\n",
      "               classes   top1_acc   top5_acc: 100%|██████████| 14/14 [00:01<00:00,  8.51it/s]"
     ]
    },
    {
     "name": "stdout",
     "output_type": "stream",
     "text": [
      "                   all      0.703          1\n"
     ]
    },
    {
     "name": "stderr",
     "output_type": "stream",
     "text": [
      "\n"
     ]
    },
    {
     "name": "stdout",
     "output_type": "stream",
     "text": [
      "\n",
      "      Epoch    GPU_mem       loss  Instances       Size\n"
     ]
    },
    {
     "name": "stderr",
     "output_type": "stream",
     "text": [
      "     68/100      1.74G    0.07096          3        224: 100%|██████████| 472/472 [01:36<00:00,  4.92it/s]\n",
      "               classes   top1_acc   top5_acc: 100%|██████████| 14/14 [00:01<00:00,  8.54it/s]"
     ]
    },
    {
     "name": "stdout",
     "output_type": "stream",
     "text": [
      "                   all      0.704          1\n"
     ]
    },
    {
     "name": "stderr",
     "output_type": "stream",
     "text": [
      "\n"
     ]
    },
    {
     "name": "stdout",
     "output_type": "stream",
     "text": [
      "\n",
      "      Epoch    GPU_mem       loss  Instances       Size\n"
     ]
    },
    {
     "name": "stderr",
     "output_type": "stream",
     "text": [
      "     69/100      1.74G    0.07531          3        224: 100%|██████████| 472/472 [01:36<00:00,  4.92it/s]\n",
      "               classes   top1_acc   top5_acc: 100%|██████████| 14/14 [00:01<00:00,  8.78it/s]"
     ]
    },
    {
     "name": "stdout",
     "output_type": "stream",
     "text": [
      "                   all      0.707          1\n"
     ]
    },
    {
     "name": "stderr",
     "output_type": "stream",
     "text": [
      "\n"
     ]
    },
    {
     "name": "stdout",
     "output_type": "stream",
     "text": [
      "\n",
      "      Epoch    GPU_mem       loss  Instances       Size\n"
     ]
    },
    {
     "name": "stderr",
     "output_type": "stream",
     "text": [
      "     70/100      1.74G    0.07781          3        224: 100%|██████████| 472/472 [01:36<00:00,  4.89it/s]\n",
      "               classes   top1_acc   top5_acc: 100%|██████████| 14/14 [00:01<00:00,  8.54it/s]"
     ]
    },
    {
     "name": "stdout",
     "output_type": "stream",
     "text": [
      "                   all      0.712          1\n"
     ]
    },
    {
     "name": "stderr",
     "output_type": "stream",
     "text": [
      "\n"
     ]
    },
    {
     "name": "stdout",
     "output_type": "stream",
     "text": [
      "\n",
      "      Epoch    GPU_mem       loss  Instances       Size\n"
     ]
    },
    {
     "name": "stderr",
     "output_type": "stream",
     "text": [
      "     71/100      1.74G    0.07196          3        224: 100%|██████████| 472/472 [03:39<00:00,  2.15it/s]\n",
      "               classes   top1_acc   top5_acc: 100%|██████████| 14/14 [00:05<00:00,  2.70it/s]"
     ]
    },
    {
     "name": "stdout",
     "output_type": "stream",
     "text": [
      "                   all      0.712          1\n"
     ]
    },
    {
     "name": "stderr",
     "output_type": "stream",
     "text": [
      "\n"
     ]
    },
    {
     "name": "stdout",
     "output_type": "stream",
     "text": [
      "\n",
      "      Epoch    GPU_mem       loss  Instances       Size\n"
     ]
    },
    {
     "name": "stderr",
     "output_type": "stream",
     "text": [
      "     72/100      1.74G     0.0693          3        224: 100%|██████████| 472/472 [05:10<00:00,  1.52it/s]\n",
      "               classes   top1_acc   top5_acc: 100%|██████████| 14/14 [00:05<00:00,  2.70it/s]"
     ]
    },
    {
     "name": "stdout",
     "output_type": "stream",
     "text": [
      "                   all       0.71          1\n"
     ]
    },
    {
     "name": "stderr",
     "output_type": "stream",
     "text": [
      "\n"
     ]
    },
    {
     "name": "stdout",
     "output_type": "stream",
     "text": [
      "\n",
      "      Epoch    GPU_mem       loss  Instances       Size\n"
     ]
    },
    {
     "name": "stderr",
     "output_type": "stream",
     "text": [
      "     73/100      1.74G    0.06877          3        224: 100%|██████████| 472/472 [05:10<00:00,  1.52it/s]\n",
      "               classes   top1_acc   top5_acc: 100%|██████████| 14/14 [00:05<00:00,  2.70it/s]"
     ]
    },
    {
     "name": "stdout",
     "output_type": "stream",
     "text": [
      "                   all      0.709          1\n"
     ]
    },
    {
     "name": "stderr",
     "output_type": "stream",
     "text": [
      "\n"
     ]
    },
    {
     "name": "stdout",
     "output_type": "stream",
     "text": [
      "\n",
      "      Epoch    GPU_mem       loss  Instances       Size\n"
     ]
    },
    {
     "name": "stderr",
     "output_type": "stream",
     "text": [
      "     74/100      1.74G     0.0674          3        224: 100%|██████████| 472/472 [05:09<00:00,  1.52it/s]\n",
      "               classes   top1_acc   top5_acc: 100%|██████████| 14/14 [00:05<00:00,  2.69it/s]"
     ]
    },
    {
     "name": "stdout",
     "output_type": "stream",
     "text": [
      "                   all       0.71          1\n"
     ]
    },
    {
     "name": "stderr",
     "output_type": "stream",
     "text": [
      "\n"
     ]
    },
    {
     "name": "stdout",
     "output_type": "stream",
     "text": [
      "\n",
      "      Epoch    GPU_mem       loss  Instances       Size\n"
     ]
    },
    {
     "name": "stderr",
     "output_type": "stream",
     "text": [
      "     75/100      1.74G    0.06849          3        224: 100%|██████████| 472/472 [05:09<00:00,  1.52it/s]\n",
      "               classes   top1_acc   top5_acc: 100%|██████████| 14/14 [00:05<00:00,  2.69it/s]"
     ]
    },
    {
     "name": "stdout",
     "output_type": "stream",
     "text": [
      "                   all      0.712          1\n"
     ]
    },
    {
     "name": "stderr",
     "output_type": "stream",
     "text": [
      "\n"
     ]
    },
    {
     "name": "stdout",
     "output_type": "stream",
     "text": [
      "\n",
      "      Epoch    GPU_mem       loss  Instances       Size\n"
     ]
    },
    {
     "name": "stderr",
     "output_type": "stream",
     "text": [
      "     76/100      1.74G    0.06509          3        224: 100%|██████████| 472/472 [05:09<00:00,  1.52it/s]\n",
      "               classes   top1_acc   top5_acc: 100%|██████████| 14/14 [00:05<00:00,  2.70it/s]"
     ]
    },
    {
     "name": "stdout",
     "output_type": "stream",
     "text": [
      "                   all      0.713          1\n"
     ]
    },
    {
     "name": "stderr",
     "output_type": "stream",
     "text": [
      "\n"
     ]
    },
    {
     "name": "stdout",
     "output_type": "stream",
     "text": [
      "\n",
      "      Epoch    GPU_mem       loss  Instances       Size\n"
     ]
    },
    {
     "name": "stderr",
     "output_type": "stream",
     "text": [
      "     77/100      1.74G    0.06493          3        224: 100%|██████████| 472/472 [04:58<00:00,  1.58it/s]\n",
      "               classes   top1_acc   top5_acc: 100%|██████████| 14/14 [00:05<00:00,  2.72it/s]"
     ]
    },
    {
     "name": "stdout",
     "output_type": "stream",
     "text": [
      "                   all      0.711          1\n"
     ]
    },
    {
     "name": "stderr",
     "output_type": "stream",
     "text": [
      "\n"
     ]
    },
    {
     "name": "stdout",
     "output_type": "stream",
     "text": [
      "\n",
      "      Epoch    GPU_mem       loss  Instances       Size\n"
     ]
    },
    {
     "name": "stderr",
     "output_type": "stream",
     "text": [
      "     78/100      1.74G    0.05738          3        224: 100%|██████████| 472/472 [05:07<00:00,  1.54it/s]\n",
      "               classes   top1_acc   top5_acc: 100%|██████████| 14/14 [00:05<00:00,  2.72it/s]"
     ]
    },
    {
     "name": "stdout",
     "output_type": "stream",
     "text": [
      "                   all      0.712          1\n"
     ]
    },
    {
     "name": "stderr",
     "output_type": "stream",
     "text": [
      "\n"
     ]
    },
    {
     "name": "stdout",
     "output_type": "stream",
     "text": [
      "\n",
      "      Epoch    GPU_mem       loss  Instances       Size\n"
     ]
    },
    {
     "name": "stderr",
     "output_type": "stream",
     "text": [
      "     79/100      1.74G    0.05946          3        224: 100%|██████████| 472/472 [05:07<00:00,  1.54it/s]\n",
      "               classes   top1_acc   top5_acc: 100%|██████████| 14/14 [00:05<00:00,  2.73it/s]"
     ]
    },
    {
     "name": "stdout",
     "output_type": "stream",
     "text": [
      "                   all      0.711          1\n"
     ]
    },
    {
     "name": "stderr",
     "output_type": "stream",
     "text": [
      "\n"
     ]
    },
    {
     "name": "stdout",
     "output_type": "stream",
     "text": [
      "\n",
      "      Epoch    GPU_mem       loss  Instances       Size\n"
     ]
    },
    {
     "name": "stderr",
     "output_type": "stream",
     "text": [
      "     80/100      1.74G    0.06147          3        224: 100%|██████████| 472/472 [05:07<00:00,  1.54it/s]\n",
      "               classes   top1_acc   top5_acc: 100%|██████████| 14/14 [00:05<00:00,  2.72it/s]"
     ]
    },
    {
     "name": "stdout",
     "output_type": "stream",
     "text": [
      "                   all      0.713          1\n"
     ]
    },
    {
     "name": "stderr",
     "output_type": "stream",
     "text": [
      "\n"
     ]
    },
    {
     "name": "stdout",
     "output_type": "stream",
     "text": [
      "\n",
      "      Epoch    GPU_mem       loss  Instances       Size\n"
     ]
    },
    {
     "name": "stderr",
     "output_type": "stream",
     "text": [
      "     81/100      1.74G    0.05802          3        224: 100%|██████████| 472/472 [05:06<00:00,  1.54it/s]\n",
      "               classes   top1_acc   top5_acc: 100%|██████████| 14/14 [00:05<00:00,  2.72it/s]"
     ]
    },
    {
     "name": "stdout",
     "output_type": "stream",
     "text": [
      "                   all      0.712          1\n"
     ]
    },
    {
     "name": "stderr",
     "output_type": "stream",
     "text": [
      "\n"
     ]
    },
    {
     "name": "stdout",
     "output_type": "stream",
     "text": [
      "\n",
      "      Epoch    GPU_mem       loss  Instances       Size\n"
     ]
    },
    {
     "name": "stderr",
     "output_type": "stream",
     "text": [
      "     82/100      1.74G    0.05133          3        224: 100%|██████████| 472/472 [05:07<00:00,  1.54it/s]\n",
      "               classes   top1_acc   top5_acc: 100%|██████████| 14/14 [00:05<00:00,  2.72it/s]"
     ]
    },
    {
     "name": "stdout",
     "output_type": "stream",
     "text": [
      "                   all      0.711          1\n"
     ]
    },
    {
     "name": "stderr",
     "output_type": "stream",
     "text": [
      "\n"
     ]
    },
    {
     "name": "stdout",
     "output_type": "stream",
     "text": [
      "\n",
      "      Epoch    GPU_mem       loss  Instances       Size\n"
     ]
    },
    {
     "name": "stderr",
     "output_type": "stream",
     "text": [
      "     83/100      1.74G    0.05412          3        224: 100%|██████████| 472/472 [05:07<00:00,  1.54it/s]\n",
      "               classes   top1_acc   top5_acc: 100%|██████████| 14/14 [00:05<00:00,  2.72it/s]"
     ]
    },
    {
     "name": "stdout",
     "output_type": "stream",
     "text": [
      "                   all      0.711          1\n"
     ]
    },
    {
     "name": "stderr",
     "output_type": "stream",
     "text": [
      "\n"
     ]
    },
    {
     "name": "stdout",
     "output_type": "stream",
     "text": [
      "\n",
      "      Epoch    GPU_mem       loss  Instances       Size\n"
     ]
    },
    {
     "name": "stderr",
     "output_type": "stream",
     "text": [
      "     84/100      1.74G    0.05227          3        224: 100%|██████████| 472/472 [05:07<00:00,  1.54it/s]\n",
      "               classes   top1_acc   top5_acc: 100%|██████████| 14/14 [00:05<00:00,  2.73it/s]"
     ]
    },
    {
     "name": "stdout",
     "output_type": "stream",
     "text": [
      "                   all       0.71          1\n"
     ]
    },
    {
     "name": "stderr",
     "output_type": "stream",
     "text": [
      "\n"
     ]
    },
    {
     "name": "stdout",
     "output_type": "stream",
     "text": [
      "\n",
      "      Epoch    GPU_mem       loss  Instances       Size\n"
     ]
    },
    {
     "name": "stderr",
     "output_type": "stream",
     "text": [
      "     85/100      1.74G    0.05286          3        224: 100%|██████████| 472/472 [05:06<00:00,  1.54it/s]\n",
      "               classes   top1_acc   top5_acc: 100%|██████████| 14/14 [00:05<00:00,  2.73it/s]"
     ]
    },
    {
     "name": "stdout",
     "output_type": "stream",
     "text": [
      "                   all      0.709          1\n"
     ]
    },
    {
     "name": "stderr",
     "output_type": "stream",
     "text": [
      "\n"
     ]
    },
    {
     "name": "stdout",
     "output_type": "stream",
     "text": [
      "\n",
      "      Epoch    GPU_mem       loss  Instances       Size\n"
     ]
    },
    {
     "name": "stderr",
     "output_type": "stream",
     "text": [
      "     86/100      1.74G    0.05331          3        224: 100%|██████████| 472/472 [05:06<00:00,  1.54it/s]\n",
      "               classes   top1_acc   top5_acc: 100%|██████████| 14/14 [00:05<00:00,  2.72it/s]"
     ]
    },
    {
     "name": "stdout",
     "output_type": "stream",
     "text": [
      "                   all      0.709          1\n"
     ]
    },
    {
     "name": "stderr",
     "output_type": "stream",
     "text": [
      "\n"
     ]
    },
    {
     "name": "stdout",
     "output_type": "stream",
     "text": [
      "\n",
      "      Epoch    GPU_mem       loss  Instances       Size\n"
     ]
    },
    {
     "name": "stderr",
     "output_type": "stream",
     "text": [
      "     87/100      1.74G    0.04795          3        224: 100%|██████████| 472/472 [05:06<00:00,  1.54it/s]\n",
      "               classes   top1_acc   top5_acc: 100%|██████████| 14/14 [00:05<00:00,  2.73it/s]"
     ]
    },
    {
     "name": "stdout",
     "output_type": "stream",
     "text": [
      "                   all      0.709          1\n"
     ]
    },
    {
     "name": "stderr",
     "output_type": "stream",
     "text": [
      "\n"
     ]
    },
    {
     "name": "stdout",
     "output_type": "stream",
     "text": [
      "\n",
      "      Epoch    GPU_mem       loss  Instances       Size\n"
     ]
    },
    {
     "name": "stderr",
     "output_type": "stream",
     "text": [
      "     88/100      1.74G    0.05265          3        224: 100%|██████████| 472/472 [05:06<00:00,  1.54it/s]\n",
      "               classes   top1_acc   top5_acc: 100%|██████████| 14/14 [00:05<00:00,  2.72it/s]"
     ]
    },
    {
     "name": "stdout",
     "output_type": "stream",
     "text": [
      "                   all      0.709          1\n"
     ]
    },
    {
     "name": "stderr",
     "output_type": "stream",
     "text": [
      "\n"
     ]
    },
    {
     "name": "stdout",
     "output_type": "stream",
     "text": [
      "\n",
      "      Epoch    GPU_mem       loss  Instances       Size\n"
     ]
    },
    {
     "name": "stderr",
     "output_type": "stream",
     "text": [
      "     89/100      1.74G    0.05138          3        224: 100%|██████████| 472/472 [05:06<00:00,  1.54it/s]\n",
      "               classes   top1_acc   top5_acc: 100%|██████████| 14/14 [00:05<00:00,  2.73it/s]"
     ]
    },
    {
     "name": "stdout",
     "output_type": "stream",
     "text": [
      "                   all      0.709          1\n"
     ]
    },
    {
     "name": "stderr",
     "output_type": "stream",
     "text": [
      "\n"
     ]
    },
    {
     "name": "stdout",
     "output_type": "stream",
     "text": [
      "\n",
      "      Epoch    GPU_mem       loss  Instances       Size\n"
     ]
    },
    {
     "name": "stderr",
     "output_type": "stream",
     "text": [
      "     90/100      1.74G    0.04885          3        224: 100%|██████████| 472/472 [05:07<00:00,  1.54it/s]\n",
      "               classes   top1_acc   top5_acc: 100%|██████████| 14/14 [00:05<00:00,  2.72it/s]"
     ]
    },
    {
     "name": "stdout",
     "output_type": "stream",
     "text": [
      "                   all      0.709          1\n"
     ]
    },
    {
     "name": "stderr",
     "output_type": "stream",
     "text": [
      "\n"
     ]
    },
    {
     "name": "stdout",
     "output_type": "stream",
     "text": [
      "\n",
      "      Epoch    GPU_mem       loss  Instances       Size\n"
     ]
    },
    {
     "name": "stderr",
     "output_type": "stream",
     "text": [
      "     91/100      1.74G    0.04543          3        224: 100%|██████████| 472/472 [05:06<00:00,  1.54it/s]\n",
      "               classes   top1_acc   top5_acc: 100%|██████████| 14/14 [00:05<00:00,  2.73it/s]"
     ]
    },
    {
     "name": "stdout",
     "output_type": "stream",
     "text": [
      "                   all       0.71          1\n"
     ]
    },
    {
     "name": "stderr",
     "output_type": "stream",
     "text": [
      "\n"
     ]
    },
    {
     "name": "stdout",
     "output_type": "stream",
     "text": [
      "\n",
      "      Epoch    GPU_mem       loss  Instances       Size\n"
     ]
    },
    {
     "name": "stderr",
     "output_type": "stream",
     "text": [
      "     92/100      1.74G    0.04713          3        224: 100%|██████████| 472/472 [05:05<00:00,  1.54it/s]\n",
      "               classes   top1_acc   top5_acc: 100%|██████████| 14/14 [00:05<00:00,  2.73it/s]"
     ]
    },
    {
     "name": "stdout",
     "output_type": "stream",
     "text": [
      "                   all       0.71          1\n"
     ]
    },
    {
     "name": "stderr",
     "output_type": "stream",
     "text": [
      "\n"
     ]
    },
    {
     "name": "stdout",
     "output_type": "stream",
     "text": [
      "\n",
      "      Epoch    GPU_mem       loss  Instances       Size\n"
     ]
    },
    {
     "name": "stderr",
     "output_type": "stream",
     "text": [
      "     93/100      1.74G    0.04816          3        224: 100%|██████████| 472/472 [05:06<00:00,  1.54it/s]\n",
      "               classes   top1_acc   top5_acc: 100%|██████████| 14/14 [00:05<00:00,  2.73it/s]"
     ]
    },
    {
     "name": "stdout",
     "output_type": "stream",
     "text": [
      "                   all      0.711          1\n"
     ]
    },
    {
     "name": "stderr",
     "output_type": "stream",
     "text": [
      "\n"
     ]
    },
    {
     "name": "stdout",
     "output_type": "stream",
     "text": [
      "\n",
      "      Epoch    GPU_mem       loss  Instances       Size\n"
     ]
    },
    {
     "name": "stderr",
     "output_type": "stream",
     "text": [
      "     94/100      1.74G     0.0431          3        224: 100%|██████████| 472/472 [05:06<00:00,  1.54it/s]\n",
      "               classes   top1_acc   top5_acc: 100%|██████████| 14/14 [00:05<00:00,  2.74it/s]"
     ]
    },
    {
     "name": "stdout",
     "output_type": "stream",
     "text": [
      "                   all      0.714          1\n"
     ]
    },
    {
     "name": "stderr",
     "output_type": "stream",
     "text": [
      "\n"
     ]
    },
    {
     "name": "stdout",
     "output_type": "stream",
     "text": [
      "\n",
      "      Epoch    GPU_mem       loss  Instances       Size\n"
     ]
    },
    {
     "name": "stderr",
     "output_type": "stream",
     "text": [
      "     95/100      1.74G    0.04133          3        224: 100%|██████████| 472/472 [05:06<00:00,  1.54it/s]\n",
      "               classes   top1_acc   top5_acc: 100%|██████████| 14/14 [00:05<00:00,  2.73it/s]"
     ]
    },
    {
     "name": "stdout",
     "output_type": "stream",
     "text": [
      "                   all      0.717          1\n"
     ]
    },
    {
     "name": "stderr",
     "output_type": "stream",
     "text": [
      "\n"
     ]
    },
    {
     "name": "stdout",
     "output_type": "stream",
     "text": [
      "\n",
      "      Epoch    GPU_mem       loss  Instances       Size\n"
     ]
    },
    {
     "name": "stderr",
     "output_type": "stream",
     "text": [
      "     96/100      1.74G    0.03854          3        224: 100%|██████████| 472/472 [05:05<00:00,  1.54it/s]\n",
      "               classes   top1_acc   top5_acc: 100%|██████████| 14/14 [00:05<00:00,  2.73it/s]"
     ]
    },
    {
     "name": "stdout",
     "output_type": "stream",
     "text": [
      "                   all      0.717          1\n"
     ]
    },
    {
     "name": "stderr",
     "output_type": "stream",
     "text": [
      "\n"
     ]
    },
    {
     "name": "stdout",
     "output_type": "stream",
     "text": [
      "\n",
      "      Epoch    GPU_mem       loss  Instances       Size\n"
     ]
    },
    {
     "name": "stderr",
     "output_type": "stream",
     "text": [
      "     97/100      1.74G     0.0404          3        224: 100%|██████████| 472/472 [05:06<00:00,  1.54it/s]\n",
      "               classes   top1_acc   top5_acc: 100%|██████████| 14/14 [00:05<00:00,  2.74it/s]"
     ]
    },
    {
     "name": "stdout",
     "output_type": "stream",
     "text": [
      "                   all      0.718          1\n"
     ]
    },
    {
     "name": "stderr",
     "output_type": "stream",
     "text": [
      "\n"
     ]
    },
    {
     "name": "stdout",
     "output_type": "stream",
     "text": [
      "\n",
      "      Epoch    GPU_mem       loss  Instances       Size\n"
     ]
    },
    {
     "name": "stderr",
     "output_type": "stream",
     "text": [
      "     98/100      1.74G      0.039          3        224: 100%|██████████| 472/472 [05:06<00:00,  1.54it/s]\n",
      "               classes   top1_acc   top5_acc: 100%|██████████| 14/14 [00:05<00:00,  2.74it/s]"
     ]
    },
    {
     "name": "stdout",
     "output_type": "stream",
     "text": [
      "                   all      0.719          1\n"
     ]
    },
    {
     "name": "stderr",
     "output_type": "stream",
     "text": [
      "\n"
     ]
    },
    {
     "name": "stdout",
     "output_type": "stream",
     "text": [
      "\n",
      "      Epoch    GPU_mem       loss  Instances       Size\n"
     ]
    },
    {
     "name": "stderr",
     "output_type": "stream",
     "text": [
      "     99/100      1.74G    0.03875          3        224: 100%|██████████| 472/472 [05:06<00:00,  1.54it/s]\n",
      "               classes   top1_acc   top5_acc: 100%|██████████| 14/14 [00:05<00:00,  2.73it/s]"
     ]
    },
    {
     "name": "stdout",
     "output_type": "stream",
     "text": [
      "                   all      0.719          1\n"
     ]
    },
    {
     "name": "stderr",
     "output_type": "stream",
     "text": [
      "\n"
     ]
    },
    {
     "name": "stdout",
     "output_type": "stream",
     "text": [
      "\n",
      "      Epoch    GPU_mem       loss  Instances       Size\n"
     ]
    },
    {
     "name": "stderr",
     "output_type": "stream",
     "text": [
      "    100/100      1.74G    0.03943          3        224: 100%|██████████| 472/472 [05:06<00:00,  1.54it/s]\n",
      "               classes   top1_acc   top5_acc: 100%|██████████| 14/14 [00:05<00:00,  2.73it/s]"
     ]
    },
    {
     "name": "stdout",
     "output_type": "stream",
     "text": [
      "                   all      0.717          1\n"
     ]
    },
    {
     "name": "stderr",
     "output_type": "stream",
     "text": [
      "\n"
     ]
    },
    {
     "name": "stdout",
     "output_type": "stream",
     "text": [
      "\n",
      "100 epochs completed in 5.506 hours.\n",
      "Optimizer stripped from runs\\classify\\train2\\weights\\last.pt, 31.7MB\n",
      "Optimizer stripped from runs\\classify\\train2\\weights\\best.pt, 31.7MB\n",
      "\n",
      "Validating runs\\classify\\train2\\weights\\best.pt...\n",
      "Ultralytics 8.3.44  Python-3.12.0 torch-2.5.1 CUDA:0 (Quadro P4000, 8192MiB)\n",
      "YOLOv8m-cls summary (fused): 103 layers, 15,765,218 parameters, 0 gradients, 41.6 GFLOPs\n",
      "\u001b[34m\u001b[1mtrain:\u001b[0m D:\\Kananat\\_dataset_2d\\train... found 15075 images in 2 classes  \n",
      "\u001b[34m\u001b[1mval:\u001b[0m D:\\Kananat\\_dataset_2d\\val... found 844 images in 2 classes  \n",
      "\u001b[34m\u001b[1mtest:\u001b[0m D:\\Kananat\\_dataset_2d\\test... found 434 images in 2 classes  \n"
     ]
    },
    {
     "name": "stderr",
     "output_type": "stream",
     "text": [
      "               classes   top1_acc   top5_acc: 100%|██████████| 14/14 [00:05<00:00,  2.79it/s]\n"
     ]
    },
    {
     "name": "stdout",
     "output_type": "stream",
     "text": [
      "                   all      0.733          1\n",
      "Speed: 0.2ms preprocess, 5.7ms inference, 0.0ms loss, 0.0ms postprocess per image\n",
      "Results saved to \u001b[1mruns\\classify\\train2\u001b[0m\n"
     ]
    }
   ],
   "source": [
    "from ultralytics import YOLO\n",
    "\n",
    "model = YOLO('yolov8m-cls.pt')  # Load the classification model\n",
    "\n",
    "# Start training\n",
    "results = model.train(\n",
    "    data=r\"D:\\Kananat\\_dataset_2d\",\n",
    "    epochs=100,\n",
    "    imgsz=224,\n",
    "    batch=32,\n",
    "    device='0'  # Use '0' for first GPU, 'cpu' for CPU training\n",
    ")"
   ]
  },
  {
   "cell_type": "code",
   "execution_count": null,
   "metadata": {},
   "outputs": [],
   "source": [
    "from pathlib import Path\n",
    "from sklearn.metrics import accuracy_score, precision_score, recall_score, f1_score, confusion_matrix\n",
    "import numpy as np\n",
    "\n",
    "def evaluate_binary_classifier(model, test_dir):\n",
    "    all_preds = []\n",
    "    all_trues = []\n",
    "    \n",
    "    # Process test images\n",
    "    for class_path in Path(test_dir).iterdir():\n",
    "        if class_path.is_dir():\n",
    "            class_name = class_path.name\n",
    "            class_idx = list(model.names.values()).index(class_name)\n",
    "            \n",
    "            for img_path in class_path.glob('*.*'):\n",
    "                if img_path.suffix.lower() in ['.jpg', '.jpeg', '.png', '.bmp']:\n",
    "                    results = model.predict(str(img_path))\n",
    "                    pred_class = results[0].probs.top1\n",
    "                    \n",
    "                    all_preds.append(pred_class)\n",
    "                    all_trues.append(class_idx)\n",
    "    \n",
    "    # Convert to numpy arrays\n",
    "    y_true = np.array(all_trues)\n",
    "    y_pred = np.array(all_preds)\n",
    "    \n",
    "    # Calculate metrics\n",
    "    accuracy = accuracy_score(y_true, y_pred)\n",
    "    precision = precision_score(y_true, y_pred)\n",
    "    recall = recall_score(y_true, y_pred)  # Same as sensitivity\n",
    "    f1 = f1_score(y_true, y_pred)\n",
    "    \n",
    "    # Calculate confusion matrix\n",
    "    tn, fp, fn, tp = confusion_matrix(y_true, y_pred).ravel()\n",
    "    \n",
    "    # Calculate specificity (true negative rate)\n",
    "    specificity = tn / (tn + fp)\n",
    "    \n",
    "    # Print results\n",
    "    print(\"\\nBinary Classification Metrics:\")\n",
    "    print(f\"Accuracy: {accuracy:.3f}\")\n",
    "    print(f\"Precision: {precision:.3f}\")\n",
    "    print(f\"Recall (Sensitivity): {recall:.3f}\")\n",
    "    print(f\"Specificity: {specificity:.3f}\")\n",
    "    print(f\"F1 Score: {f1:.3f}\")\n",
    "    \n",
    "    # Print confusion matrix\n",
    "    print(\"\\nConfusion Matrix:\")\n",
    "    print(f\"True Negatives: {tn}\")\n",
    "    print(f\"False Positives: {fp}\")\n",
    "    print(f\"False Negatives: {fn}\")\n",
    "    print(f\"True Positives: {tp}\")\n",
    "    \n",
    "    return {\n",
    "        'accuracy': accuracy,\n",
    "        'precision': precision,\n",
    "        'recall': recall,\n",
    "        'specificity': specificity,\n",
    "        'f1': f1,\n",
    "        'confusion_matrix': {\n",
    "            'tn': tn, 'fp': fp,\n",
    "            'fn': fn, 'tp': tp\n",
    "        }\n",
    "    }\n",
    "\n",
    "# Load and evaluate model\n",
    "model = YOLO(r'C:\\Users\\kanan\\Desktop\\Project_TMJOA\\2D_Pipeline\\YOLO\\runs\\classify\\train\\weights\\best.pt')\n",
    "test_dir = r\"D:\\Kananat\\TF_TMJOA_jpg_x_5px_test\"\n",
    "metrics = evaluate_binary_classifier(model, test_dir)\n",
    "\n",
    "# Optional: Save results to file\n",
    "with open('binary_classification_results.txt', 'w') as f:\n",
    "    f.write(\"Binary Classification Results\\n\")\n",
    "    f.write(\"-\" * 30 + \"\\n\")\n",
    "    f.write(f\"Accuracy: {metrics['accuracy']:.3f}\\n\")\n",
    "    f.write(f\"Precision: {metrics['precision']:.3f}\\n\")\n",
    "    f.write(f\"Recall (Sensitivity): {metrics['recall']:.3f}\\n\")\n",
    "    f.write(f\"Specificity: {metrics['specificity']:.3f}\\n\")\n",
    "    f.write(f\"F1 Score: {metrics['f1']:.3f}\\n\\n\")\n",
    "    \n",
    "    f.write(\"Confusion Matrix\\n\")\n",
    "    f.write(\"-\" * 30 + \"\\n\")\n",
    "    f.write(f\"True Negatives: {metrics['confusion_matrix']['tn']}\\n\")\n",
    "    f.write(f\"False Positives: {metrics['confusion_matrix']['fp']}\\n\")\n",
    "    f.write(f\"False Negatives: {metrics['confusion_matrix']['fn']}\\n\")\n",
    "    f.write(f\"True Positives: {metrics['confusion_matrix']['tp']}\\n\")"
   ]
  }
 ],
 "metadata": {
  "kernelspec": {
   "display_name": "IGB0",
   "language": "python",
   "name": "python3"
  },
  "language_info": {
   "codemirror_mode": {
    "name": "ipython",
    "version": 3
   },
   "file_extension": ".py",
   "mimetype": "text/x-python",
   "name": "python",
   "nbconvert_exporter": "python",
   "pygments_lexer": "ipython3",
   "version": "3.12.0"
  }
 },
 "nbformat": 4,
 "nbformat_minor": 2
}
