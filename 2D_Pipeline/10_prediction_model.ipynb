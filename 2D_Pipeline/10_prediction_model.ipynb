{
 "cells": [
  {
   "cell_type": "code",
   "execution_count": 7,
   "metadata": {},
   "outputs": [],
   "source": [
    "import numpy as np\n",
    "from PIL import Image\n",
    "from ultralytics import YOLO\n",
    "\n",
    "def predict_single_image(model, image_path, image_size=(224, 224)):\n",
    "    \"\"\"\n",
    "    Predict the class of a single image using a YOLOv8-cls model.\n",
    "    \n",
    "    Args:\n",
    "        model: A loaded YOLOv8-cls model\n",
    "        image_path: String path to the image file\n",
    "        image_size: Tuple of (width, height) for input image size, default (224, 224)\n",
    "    \"\"\"\n",
    "    # Open and preprocess the image\n",
    "    img = Image.open(image_path)\n",
    "    \n",
    "    if img.mode != 'RGB':\n",
    "        img = img.convert('RGB')\n",
    "    \n",
    "    # Resize the image - note that PIL takes (width, height)\n",
    "    img = img.resize(image_size, Image.Resampling.LANCZOS)\n",
    "    \n",
    "    # Convert to numpy array and ensure correct dimensions\n",
    "    img_array = np.array(img)\n",
    "    \n",
    "    # Ensure the image has the right shape (height, width, channels)\n",
    "    print(f\"Image shape before processing: {img_array.shape}\")\n",
    "    \n",
    "    # Normalize pixel values\n",
    "    img_array = img_array.astype(np.float32) / 255.0\n",
    "    \n",
    "    # Make prediction\n",
    "    results = model.predict(source=image_path, verbose=False)\n",
    "    \n",
    "    # Process results\n",
    "    # Get the probabilities from the results\n",
    "    probs = results[0].probs\n",
    "    predicted_class = int(probs.top1)\n",
    "    confidence = float(probs.top1conf)\n",
    "    \n",
    "    return {\n",
    "        'predicted_class': predicted_class,\n",
    "        'confidence': confidence,\n",
    "        'all_probabilities': probs.data.tolist()\n",
    "    }"
   ]
  },
  {
   "cell_type": "code",
   "execution_count": 9,
   "metadata": {},
   "outputs": [
    {
     "name": "stdout",
     "output_type": "stream",
     "text": [
      "Image shape before processing: (224, 224, 3)\n",
      "Predicted class: 0\n",
      "Confidence: 99.77%\n",
      "all_probabilities: [0.997739315032959, 0.002260662382468581]\n"
     ]
    }
   ],
   "source": [
    "# Load your model\n",
    "model = YOLO(r'C:\\Users\\kanan\\Desktop\\Project_TMJOA\\2D_Pipeline\\YOLO\\runs\\classify\\train\\weights\\best.pt')  # Replace with your model path\n",
    "\n",
    "# Path to your image\n",
    "image_path = r'D:\\Kananat\\TF_TMJOA_jpg_x_5px_test_batch_by_ID\\erosion_0\\51-3282 R\\51-3282 R_x_088.jpg'  # Replace with your image path\n",
    "\n",
    "# Get prediction\n",
    "result = predict_single_image(model, image_path)\n",
    "\n",
    "# Print results in a readable format\n",
    "print(f\"Predicted class: {result['predicted_class']}\")\n",
    "print(f\"Confidence: {result['confidence']:.2%}\")\n",
    "print(f\"all_probabilities: {result['all_probabilities']}\")"
   ]
  }
 ],
 "metadata": {
  "kernelspec": {
   "display_name": "IGB0",
   "language": "python",
   "name": "python3"
  },
  "language_info": {
   "codemirror_mode": {
    "name": "ipython",
    "version": 3
   },
   "file_extension": ".py",
   "mimetype": "text/x-python",
   "name": "python",
   "nbconvert_exporter": "python",
   "pygments_lexer": "ipython3",
   "version": "3.12.0"
  }
 },
 "nbformat": 4,
 "nbformat_minor": 2
}
