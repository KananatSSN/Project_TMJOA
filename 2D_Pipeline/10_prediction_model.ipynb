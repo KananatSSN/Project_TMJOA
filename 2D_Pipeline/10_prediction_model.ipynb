{
 "cells": [
  {
   "cell_type": "code",
   "execution_count": null,
   "metadata": {},
   "outputs": [],
   "source": [
    "import numpy as np\n",
    "from tensorflow.keras.preprocessing import image\n",
    "from ultralytics import YOLO\n",
    "\n",
    "def predict_single_image(model, image_path, image_size=(224, 224)):\n",
    "    \"\"\"\n",
    "    Predict the class of a single image using a YOLOv8-cls model.\n",
    "    \n",
    "    Args:\n",
    "        model: A loaded YOLOv8-cls model\n",
    "        image_path: String path to the image file\n",
    "        image_size: Tuple of (height, width) for input image size, default (224, 224)\n",
    "    \n",
    "    Returns:\n",
    "        Dictionary containing:\n",
    "        - predicted_class: Index of the predicted class\n",
    "        - confidence: Confidence score for the prediction\n",
    "        - all_probabilities: Array of probabilities for all classes\n",
    "    \"\"\"\n",
    "    # Load the image and convert it to the correct size\n",
    "    # We use target_size to ensure the image matches what the model expects\n",
    "    img = image.load_img(image_path, target_size=image_size)\n",
    "    \n",
    "    # Convert the image to a numpy array so we can perform calculations\n",
    "    img_array = image.img_to_array(img)\n",
    "    \n",
    "    # Add a batch dimension since models expect batches of images\n",
    "    # This transforms shape from (height, width, channels) to (1, height, width, channels)\n",
    "    img_array = np.expand_dims(img_array, axis=0)\n",
    "    \n",
    "    # Normalize pixel values to be between 0 and 1\n",
    "    # This is important for the model to process the image correctly\n",
    "    img_array = img_array / 255.0\n",
    "    \n",
    "    # Get model predictions\n",
    "    prediction = model.predict(img_array, verbose=1)\n",
    "    \n",
    "    # Process the prediction results\n",
    "    # Get the array of probabilities for all classes\n",
    "    class_probabilities = prediction[0]\n",
    "    \n",
    "    # Find the class with highest probability\n",
    "    predicted_class = np.argmax(class_probabilities)\n",
    "    \n",
    "    # Get the confidence score (probability) for the predicted class\n",
    "    confidence = class_probabilities[predicted_class]\n",
    "    \n",
    "    # Return results in an organized dictionary\n",
    "    return {\n",
    "        'predicted_class': int(predicted_class),\n",
    "        'confidence': float(confidence),\n",
    "        'all_probabilities': class_probabilities.tolist()\n",
    "    }"
   ]
  },
  {
   "cell_type": "code",
   "execution_count": null,
   "metadata": {},
   "outputs": [],
   "source": [
    "# Load your model\n",
    "model = YOLO('2D_Pipeline\\YOLO\\runs\\classify\\train\\weights\\best.pt')  # Replace with your model path\n",
    "\n",
    "# Path to your image\n",
    "image_path = 'path/to/your/image.jpg'  # Replace with your image path\n",
    "\n",
    "# Get prediction\n",
    "result = predict_single_image(model, image_path)\n",
    "\n",
    "# Print results in a readable format\n",
    "print(f\"Predicted class: {result['predicted_class']}\")\n",
    "print(f\"Confidence: {result['confidence']:.2%}\")"
   ]
  }
 ],
 "metadata": {
  "kernelspec": {
   "display_name": "2dmodelGPU",
   "language": "python",
   "name": "python3"
  },
  "language_info": {
   "name": "python",
   "version": "3.12.4"
  }
 },
 "nbformat": 4,
 "nbformat_minor": 2
}
