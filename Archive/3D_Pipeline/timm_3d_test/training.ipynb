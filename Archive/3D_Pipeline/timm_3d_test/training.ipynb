{
 "cells": [
  {
   "cell_type": "code",
   "execution_count": 1,
   "id": "8a6203d3",
   "metadata": {},
   "outputs": [],
   "source": [
    "import torch\n",
    "import torch.nn as nn\n",
    "import torch.optim as optim\n",
    "from torch.utils.data import Dataset, DataLoader\n",
    "import torchvision.transforms as transforms\n",
    "import nibabel as nib\n",
    "import numpy as np\n",
    "import os\n",
    "import glob\n",
    "from pathlib import Path\n",
    "import matplotlib.pyplot as plt\n",
    "from sklearn.metrics import classification_report, confusion_matrix\n",
    "import seaborn as sns\n",
    "from tqdm.notebook import tqdm\n",
    "import time\n",
    "import copy\n",
    "import csv\n",
    "import pandas as pd\n",
    "from datetime import datetime"
   ]
  },
  {
   "cell_type": "code",
   "execution_count": 2,
   "id": "b72ddf65",
   "metadata": {},
   "outputs": [
    {
     "name": "stdout",
     "output_type": "stream",
     "text": [
      "Using device: cuda\n",
      "GPU: Quadro P4000\n",
      "GPU Memory: 8.0 GB\n"
     ]
    }
   ],
   "source": [
    "device = torch.device('cuda' if torch.cuda.is_available() else 'cpu')\n",
    "print(f\"Using device: {device}\")\n",
    "if torch.cuda.is_available():\n",
    "    print(f\"GPU: {torch.cuda.get_device_name(0)}\")\n",
    "    print(f\"GPU Memory: {torch.cuda.get_device_properties(0).total_memory / 1024**3:.1f} GB\")"
   ]
  },
  {
   "cell_type": "code",
   "execution_count": 3,
   "id": "ba73698e",
   "metadata": {},
   "outputs": [],
   "source": [
    "class CSVLogger:\n",
    "    \"\"\"\n",
    "    CSV Logger for training metrics - similar to Keras CSVLogger\n",
    "    \"\"\"\n",
    "    def __init__(self, filename='training_log.csv', separator=',', append=False):\n",
    "        \"\"\"\n",
    "        Initialize CSV Logger\n",
    "        \n",
    "        Args:\n",
    "            filename: Name of the CSV file\n",
    "            separator: Separator character (default: comma)\n",
    "            append: Whether to append to existing file or overwrite\n",
    "        \"\"\"\n",
    "        self.filename = filename\n",
    "        self.separator = separator\n",
    "        self.append = append\n",
    "        self.keys = None\n",
    "        self.file_exists = os.path.isfile(filename) and append\n",
    "        \n",
    "        # Create directory if it doesn't exist\n",
    "        os.makedirs(os.path.dirname(filename) if os.path.dirname(filename) else '.', exist_ok=True)\n",
    "        \n",
    "        if not self.file_exists:\n",
    "            # Create new file with headers\n",
    "            self.file = open(filename, 'w', newline='', encoding='utf-8')\n",
    "            self.writer = None\n",
    "        else:\n",
    "            # Append to existing file\n",
    "            self.file = open(filename, 'a', newline='', encoding='utf-8')\n",
    "            self.writer = csv.writer(self.file, delimiter=self.separator)\n",
    "    \n",
    "    def log(self, logs):\n",
    "        \"\"\"\n",
    "        Log metrics to CSV file\n",
    "        \n",
    "        Args:\n",
    "            logs: Dictionary of metrics to log\n",
    "        \"\"\"\n",
    "        if self.keys is None:\n",
    "            self.keys = sorted(logs.keys())\n",
    "            self.writer = csv.DictWriter(self.file, fieldnames=self.keys, delimiter=self.separator)\n",
    "            if not self.file_exists:\n",
    "                self.writer.writeheader()\n",
    "        \n",
    "        # Write the row\n",
    "        self.writer.writerow(logs)\n",
    "        self.file.flush()\n",
    "    \n",
    "    def close(self):\n",
    "        \"\"\"Close the CSV file\"\"\"\n",
    "        if hasattr(self, 'file'):\n",
    "            self.file.close()\n",
    "    \n",
    "    def __enter__(self):\n",
    "        return self\n",
    "    \n",
    "    def __exit__(self, exc_type, exc_val, exc_tb):\n",
    "        self.close()"
   ]
  },
  {
   "cell_type": "code",
   "execution_count": 4,
   "id": "7022406e",
   "metadata": {},
   "outputs": [],
   "source": [
    "class Config:\n",
    "    # Data paths - UPDATE THESE PATHS\n",
    "    data_root = r\"D:\\Kananat\\Data\\training_dataset\"  # Update this path\n",
    "    train_dir = os.path.join(data_root, \"train\")\n",
    "    val_dir = os.path.join(data_root, \"val\") \n",
    "    test_dir = os.path.join(data_root, \"test\")\n",
    "    \n",
    "    # Training parameters\n",
    "    batch_size = 2  # Small batch size for 3D data due to memory constraints\n",
    "    num_epochs = 100\n",
    "    learning_rate = 1e-4\n",
    "    weight_decay = 1e-5\n",
    "    \n",
    "    # Model parameters\n",
    "    input_size = (224, 224, 224)\n",
    "    num_classes = 2\n",
    "    \n",
    "    # Training settings\n",
    "    patience = 25  # Early stopping patience\n",
    "    save_best_model = True\n",
    "    model_save_path = r\"C:\\Users\\kanan\\Desktop\\Project_TMJOA\\3D_Pipeline\\densenet121_tiny_nonrotate_augment\\densenet121_tiny_best.pth\"\n",
    "    \n",
    "    # CSV Logging\n",
    "    csv_log_path = r\"C:\\Users\\kanan\\Desktop\\Project_TMJOA\\3D_Pipeline\\densenet121_tiny_nonrotate_augment\\densenet121_tiny_history.csv\"\n",
    "    log_detailed_metrics = True  # Log additional metrics like learning rate, epoch time\n",
    "    \n",
    "    # Monitoring\n",
    "    print_freq = 1\n",
    "    plot_losses = True\n",
    "\n",
    "    # Backbone\n",
    "    backbone = \"convnext_tiny\"  # Backbone model to use\n",
    "\n",
    "config = Config()"
   ]
  },
  {
   "cell_type": "code",
   "execution_count": 5,
   "id": "f5ec8090",
   "metadata": {},
   "outputs": [],
   "source": [
    "class Medical3DDataset(Dataset):\n",
    "    def __init__(self, data_dir, transform=None, target_size=(224, 224, 224)):\n",
    "        \"\"\"\n",
    "        Dataset for 3D medical images in .nii.gz format\n",
    "        \n",
    "        Args:\n",
    "            data_dir: Directory containing class folders\n",
    "            transform: Data augmentation function (if provided)\n",
    "            target_size: Target size for resizing (224, 224, 224)\n",
    "        \"\"\"\n",
    "        self.data_dir = data_dir\n",
    "        self.transform = transform\n",
    "        self.target_size = target_size\n",
    "        self.samples = []\n",
    "        self.class_to_idx = {}\n",
    "        \n",
    "        # Get class folders\n",
    "        class_folders = [d for d in os.listdir(data_dir) \n",
    "                        if os.path.isdir(os.path.join(data_dir, d))]\n",
    "        class_folders.sort()\n",
    "        \n",
    "        # Create class to index mapping\n",
    "        for idx, class_name in enumerate(class_folders):\n",
    "            self.class_to_idx[class_name] = idx\n",
    "            \n",
    "        # Collect all samples\n",
    "        for class_name in class_folders:\n",
    "            class_dir = os.path.join(data_dir, class_name)\n",
    "            class_idx = self.class_to_idx[class_name]\n",
    "            \n",
    "            # Find all .nii.gz files\n",
    "            nii_files = glob.glob(os.path.join(class_dir, \"*.nii.gz\"))\n",
    "            \n",
    "            for file_path in nii_files:\n",
    "                self.samples.append((file_path, class_idx))\n",
    "                \n",
    "        print(f\"Found {len(self.samples)} samples in {len(class_folders)} classes\")\n",
    "        print(f\"Classes: {self.class_to_idx}\")\n",
    "        \n",
    "    def __len__(self):\n",
    "        return len(self.samples)\n",
    "    \n",
    "    def __getitem__(self, idx):\n",
    "        file_path, label = self.samples[idx]\n",
    "        \n",
    "        # Load .nii.gz file\n",
    "        nii_img = nib.load(file_path)\n",
    "        image = nii_img.get_fdata()\n",
    "        \n",
    "        # Convert to float32\n",
    "        image = image.astype(np.float32)\n",
    "        \n",
    "        # Resize from (255, 255, 255) to (224, 224, 224)\n",
    "        image = self.resize_3d(image, self.target_size)\n",
    "        \n",
    "        # Normalize to [0, 1]\n",
    "        if image.max() > image.min():\n",
    "            image = (image - image.min()) / (image.max() - image.min())\n",
    "\n",
    "        # Apply data augmentation if provided\n",
    "        if self.transform:\n",
    "            image = self.transform(image)\n",
    "            image = image.astype(np.float32)\n",
    "\n",
    "        if image.max() > image.min():\n",
    "            image = (image - image.min()) / (image.max() - image.min())\n",
    "        \n",
    "        # Add channel dimension and convert to tensor\n",
    "        image = torch.from_numpy(image).unsqueeze(0)  # Shape: (1, 224, 224, 224)\n",
    "            \n",
    "        return image, torch.tensor(label, dtype=torch.long)\n",
    "    \n",
    "    def resize_3d(self, image, target_size):\n",
    "        \"\"\"\n",
    "        Resize 3D image from (255, 255, 255) to target_size using interpolation\n",
    "        \"\"\"\n",
    "        from scipy.ndimage import zoom\n",
    "        \n",
    "        current_size = image.shape\n",
    "        zoom_factors = [target_size[i] / current_size[i] for i in range(3)]\n",
    "        \n",
    "        # Use order=1 for linear interpolation (good balance of speed and quality)\n",
    "        resized_image = zoom(image, zoom_factors, order=1)\n",
    "        \n",
    "        return resized_image"
   ]
  },
  {
   "cell_type": "code",
   "execution_count": 6,
   "id": "fbeb5640",
   "metadata": {},
   "outputs": [],
   "source": [
    "import volumentations\n",
    "\n",
    "def get_augmentation(patch_size):\n",
    "    return volumentations.Compose([\n",
    "        # volumentations.Rotate((-10, 10), (0, 0), (0, 0), p=0.5),\n",
    "        # volumentations.Rotate((0, 0), (-10, 10), (0, 0), p=0.5),\n",
    "        # volumentations.Rotate((0, 0), (0, 0), (-10, 10), p=0.5),\n",
    "        volumentations.RandomCropFromBorders(crop_value=0.1, p=0.5),\n",
    "        volumentations.ElasticTransform((0, 0.25), interpolation=2, p=0.1),\n",
    "        volumentations.Resize(patch_size, interpolation=1, resize_type=0, always_apply=True, p=1.0),\n",
    "        # volumentations.Flip(0, p=0.5),\n",
    "        # volumentations.Flip(1, p=0.5),\n",
    "        # volumentations.Flip(2, p=0.5),\n",
    "        # volumentations.RandomRotate90((1, 2), p=0.5),\n",
    "        volumentations.GaussianNoise(var_limit=(0, 5), p=0.2),\n",
    "        # volumentations.RandomGamma(gamma_limit=(80, 120), p=0.2),\n",
    "    ], p=1.0)\n",
    "\n",
    "def augment_volume(volume):\n",
    "\n",
    "    augment = get_augmentation(volume.shape)\n",
    "    augmented_volume = augment(image=volume)[\"image\"]\n",
    "    \n",
    "    return augmented_volume"
   ]
  },
  {
   "cell_type": "code",
   "execution_count": 7,
   "id": "30831f3f",
   "metadata": {},
   "outputs": [
    {
     "name": "stdout",
     "output_type": "stream",
     "text": [
      "Found 254 samples in 2 classes\n",
      "Classes: {'0': 0, '1': 1}\n",
      "Found 73 samples in 2 classes\n",
      "Classes: {'0': 0, '1': 1}\n",
      "Found 37 samples in 2 classes\n",
      "Classes: {'0': 0, '1': 1}\n",
      "Train batches: 127\n",
      "Val batches: 37\n",
      "Test batches: 19\n"
     ]
    }
   ],
   "source": [
    "def create_data_loaders(config, train_transform=None, val_transform=None):\n",
    "    \"\"\"Create train, validation, and test data loaders\"\"\"\n",
    "    \n",
    "    # Create datasets\n",
    "    train_dataset = Medical3DDataset(config.train_dir, transform=train_transform)\n",
    "    val_dataset = Medical3DDataset(config.val_dir, transform=val_transform)\n",
    "    test_dataset = Medical3DDataset(config.test_dir, transform=val_transform)\n",
    "    \n",
    "    # Create data loaders\n",
    "    train_loader = DataLoader(\n",
    "        train_dataset, \n",
    "        batch_size=config.batch_size, \n",
    "        shuffle=True, \n",
    "        num_workers=0,\n",
    "        pin_memory=True if torch.cuda.is_available() else False\n",
    "    )\n",
    "    \n",
    "    val_loader = DataLoader(\n",
    "        val_dataset, \n",
    "        batch_size=config.batch_size, \n",
    "        shuffle=False, \n",
    "        num_workers=0,\n",
    "        pin_memory=True if torch.cuda.is_available() else False\n",
    "    )\n",
    "    \n",
    "    test_loader = DataLoader(\n",
    "        test_dataset, \n",
    "        batch_size=config.batch_size, \n",
    "        shuffle=False, \n",
    "        num_workers=0,\n",
    "        pin_memory=True if torch.cuda.is_available() else False\n",
    "    )\n",
    "    \n",
    "    return train_loader, val_loader, test_loader, train_dataset.class_to_idx\n",
    "\n",
    "# Create data loaders\n",
    "# Note: Pass your data augmentation function as train_transform if you have one\n",
    "# Example: train_loader, val_loader, test_loader, class_to_idx = create_data_loaders(config, train_transform=your_augmentation_function)\n",
    "train_loader, val_loader, test_loader, class_to_idx = create_data_loaders(config, train_transform=augment_volume)\n",
    "print(f\"Train batches: {len(train_loader)}\")\n",
    "print(f\"Val batches: {len(val_loader)}\")\n",
    "print(f\"Test batches: {len(test_loader)}\")"
   ]
  },
  {
   "cell_type": "code",
   "execution_count": 8,
   "id": "92789b97",
   "metadata": {},
   "outputs": [],
   "source": [
    "def train_epoch(model, train_loader, criterion, optimizer, device, epoch, config):\n",
    "    \"\"\"Train for one epoch\"\"\"\n",
    "    model.train()\n",
    "    running_loss = 0.0\n",
    "    running_corrects = 0\n",
    "    total_samples = 0\n",
    "    \n",
    "    progress_bar = tqdm(train_loader, desc=f'Epoch {epoch+1}/{config.num_epochs}')\n",
    "    \n",
    "    for batch_idx, (inputs, labels) in enumerate(progress_bar):\n",
    "        inputs = inputs.to(device)\n",
    "        labels = labels.to(device)\n",
    "        \n",
    "        # Zero gradients\n",
    "        optimizer.zero_grad()\n",
    "        \n",
    "        # Forward pass\n",
    "        outputs = model(inputs)\n",
    "        loss = criterion(outputs, labels)\n",
    "        \n",
    "        # Backward pass\n",
    "        loss.backward()\n",
    "        optimizer.step()\n",
    "        \n",
    "        # Statistics\n",
    "        _, preds = torch.max(outputs, 1)\n",
    "        running_loss += loss.item() * inputs.size(0)\n",
    "        running_corrects += torch.sum(preds == labels.data)\n",
    "        total_samples += inputs.size(0)\n",
    "        \n",
    "        # Update progress bar\n",
    "        if batch_idx % config.print_freq == 0:\n",
    "            current_loss = running_loss / total_samples\n",
    "            current_acc = running_corrects.double() / total_samples\n",
    "            progress_bar.set_postfix({\n",
    "                'Loss': f'{current_loss:.4f}',\n",
    "                'Acc': f'{current_acc:.4f}'\n",
    "            })\n",
    "    \n",
    "    epoch_loss = running_loss / total_samples\n",
    "    epoch_acc = running_corrects.double() / total_samples\n",
    "    \n",
    "    return epoch_loss, epoch_acc.item()"
   ]
  },
  {
   "cell_type": "code",
   "execution_count": 9,
   "id": "03b5700b",
   "metadata": {},
   "outputs": [],
   "source": [
    "def validate_epoch(model, val_loader, criterion, device):\n",
    "    \"\"\"Validate for one epoch\"\"\"\n",
    "    model.eval()\n",
    "    running_loss = 0.0\n",
    "    running_corrects = 0\n",
    "    total_samples = 0\n",
    "    \n",
    "    with torch.no_grad():\n",
    "        for inputs, labels in tqdm(val_loader, desc='Validating'):\n",
    "            inputs = inputs.to(device)\n",
    "            labels = labels.to(device)\n",
    "            \n",
    "            outputs = model(inputs)\n",
    "            loss = criterion(outputs, labels)\n",
    "            \n",
    "            _, preds = torch.max(outputs, 1)\n",
    "            running_loss += loss.item() * inputs.size(0)\n",
    "            running_corrects += torch.sum(preds == labels.data)\n",
    "            total_samples += inputs.size(0)\n",
    "    \n",
    "    epoch_loss = running_loss / total_samples\n",
    "    epoch_acc = running_corrects.double() / total_samples\n",
    "    \n",
    "    return epoch_loss, epoch_acc.item()"
   ]
  },
  {
   "cell_type": "code",
   "execution_count": 10,
   "id": "1913b311",
   "metadata": {},
   "outputs": [],
   "source": [
    "def train_model(model, train_loader, val_loader, config):\n",
    "    \"\"\"Main training function with CSV logging\"\"\"\n",
    "    \n",
    "    # Move model to device\n",
    "    model = model.to(device)\n",
    "    \n",
    "    # Loss function and optimizer\n",
    "    criterion = nn.CrossEntropyLoss()\n",
    "    optimizer = optim.Adam(model.parameters(), lr=config.learning_rate, weight_decay=config.weight_decay)\n",
    "    \n",
    "    # Learning rate scheduler\n",
    "    scheduler = optim.lr_scheduler.ReduceLROnPlateau(optimizer, mode='min', patience=5, factor=0.5)\n",
    "    \n",
    "    # Initialize CSV Logger\n",
    "    csv_logger = CSVLogger(config.csv_log_path, append=False)\n",
    "    \n",
    "    # Training history\n",
    "    train_losses = []\n",
    "    train_accs = []\n",
    "    val_losses = []\n",
    "    val_accs = []\n",
    "    \n",
    "    # Early stopping\n",
    "    best_val_loss = float('inf')\n",
    "    best_model_wts = copy.deepcopy(model.state_dict())\n",
    "    patience_counter = 0\n",
    "    \n",
    "    print(\"Starting training...\")\n",
    "    print(f\"Metrics will be logged to: {config.csv_log_path}\")\n",
    "    print(\"-\" * 50)\n",
    "    \n",
    "    try:\n",
    "        for epoch in range(config.num_epochs):\n",
    "            epoch_start_time = time.time()\n",
    "            \n",
    "            # Train\n",
    "            train_loss, train_acc = train_epoch(model, train_loader, criterion, optimizer, device, epoch, config)\n",
    "            \n",
    "            # Validate\n",
    "            val_loss, val_acc = validate_epoch(model, val_loader, criterion, device)\n",
    "            \n",
    "            # Get current learning rate\n",
    "            current_lr = optimizer.param_groups[0]['lr']\n",
    "            \n",
    "            # Update scheduler\n",
    "            scheduler.step(val_loss)\n",
    "            \n",
    "            # Save history\n",
    "            train_losses.append(train_loss)\n",
    "            train_accs.append(train_acc)\n",
    "            val_losses.append(val_loss)\n",
    "            val_accs.append(val_acc)\n",
    "            \n",
    "            epoch_time = time.time() - epoch_start_time\n",
    "            \n",
    "            # Prepare metrics for CSV logging\n",
    "            metrics = {\n",
    "                'epoch': epoch + 1,\n",
    "                'train_loss': train_loss,\n",
    "                'train_accuracy': train_acc,\n",
    "                'val_loss': val_loss,\n",
    "                'val_accuracy': val_acc,\n",
    "                'learning_rate': current_lr,\n",
    "                'epoch_time': epoch_time,\n",
    "                'timestamp': datetime.now().strftime('%Y-%m-%d %H:%M:%S')\n",
    "            }\n",
    "            \n",
    "            # Add additional metrics if enabled\n",
    "            if config.log_detailed_metrics:\n",
    "                metrics.update({\n",
    "                    'best_val_loss': best_val_loss if val_loss >= best_val_loss else val_loss,\n",
    "                    'patience_counter': patience_counter,\n",
    "                    'is_best_epoch': val_loss < best_val_loss\n",
    "                })\n",
    "            \n",
    "            # Log to CSV\n",
    "            csv_logger.log(metrics)\n",
    "            \n",
    "            print(f'Epoch {epoch+1}/{config.num_epochs}:')\n",
    "            print(f'  Train Loss: {train_loss:.4f}, Train Acc: {train_acc:.4f}')\n",
    "            print(f'  Val Loss: {val_loss:.4f}, Val Acc: {val_acc:.4f}')\n",
    "            print(f'  Learning Rate: {current_lr:.2e}')\n",
    "            print(f'  Time: {epoch_time:.2f}s')\n",
    "            print('-' * 50)\n",
    "            \n",
    "            # Early stopping and best model saving\n",
    "            if val_loss < best_val_loss:\n",
    "                best_val_loss = val_loss\n",
    "                best_model_wts = copy.deepcopy(model.state_dict())\n",
    "                patience_counter = 0\n",
    "                \n",
    "                if config.save_best_model:\n",
    "                    torch.save({\n",
    "                        'epoch': epoch,\n",
    "                        'model_state_dict': model.state_dict(),\n",
    "                        'optimizer_state_dict': optimizer.state_dict(),\n",
    "                        'best_val_loss': best_val_loss,\n",
    "                        'train_losses': train_losses,\n",
    "                        'val_losses': val_losses,\n",
    "                        'train_accs': train_accs,\n",
    "                        'val_accs': val_accs,\n",
    "                        'class_to_idx': class_to_idx\n",
    "                    }, config.model_save_path)\n",
    "                    print(f'Best model saved to {config.model_save_path}')\n",
    "            else:\n",
    "                patience_counter += 1\n",
    "                \n",
    "            if patience_counter >= config.patience:\n",
    "                print(f'Early stopping triggered after {epoch+1} epochs')\n",
    "                break\n",
    "                \n",
    "    finally:\n",
    "        # Always close the CSV logger\n",
    "        csv_logger.close()\n",
    "    \n",
    "    # Load best model weights\n",
    "    model.load_state_dict(best_model_wts)\n",
    "    \n",
    "    return model, {\n",
    "        'train_losses': train_losses,\n",
    "        'train_accs': train_accs,\n",
    "        'val_losses': val_losses,\n",
    "        'val_accs': val_accs\n",
    "    }"
   ]
  },
  {
   "cell_type": "code",
   "execution_count": 11,
   "id": "19d49b19",
   "metadata": {},
   "outputs": [
    {
     "data": {
      "text/plain": [
       "===============================================================================================\n",
       "Layer (type:depth-idx)                        Output Shape              Param #\n",
       "===============================================================================================\n",
       "DenseNet                                      [4, 2]                    --\n",
       "├─Sequential: 1-1                             [4, 1024, 7, 7, 7]        --\n",
       "│    └─Conv3d: 2-1                            [4, 64, 112, 112, 112]    21,952\n",
       "│    └─BatchNormAct3d: 2-2                    [4, 64, 112, 112, 112]    128\n",
       "│    │    └─Identity: 3-1                     [4, 64, 112, 112, 112]    --\n",
       "│    │    └─ReLU: 3-2                         [4, 64, 112, 112, 112]    --\n",
       "│    └─MaxPool3d: 2-3                         [4, 64, 56, 56, 56]       --\n",
       "│    └─DenseBlock: 2-4                        [4, 256, 56, 56, 56]      --\n",
       "│    │    └─DenseLayer: 3-3                   [4, 32, 56, 56, 56]       119,168\n",
       "│    │    └─DenseLayer: 3-4                   [4, 32, 56, 56, 56]       123,328\n",
       "│    │    └─DenseLayer: 3-5                   [4, 32, 56, 56, 56]       127,488\n",
       "│    │    └─DenseLayer: 3-6                   [4, 32, 56, 56, 56]       131,648\n",
       "│    │    └─DenseLayer: 3-7                   [4, 32, 56, 56, 56]       135,808\n",
       "│    │    └─DenseLayer: 3-8                   [4, 32, 56, 56, 56]       139,968\n",
       "│    └─DenseTransition: 2-5                   [4, 128, 28, 28, 28]      --\n",
       "│    │    └─BatchNormAct3d: 3-9               [4, 256, 56, 56, 56]      512\n",
       "│    │    └─Conv3d: 3-10                      [4, 128, 56, 56, 56]      32,768\n",
       "│    │    └─AvgPool3d: 3-11                   [4, 128, 28, 28, 28]      --\n",
       "│    └─DenseBlock: 2-6                        [4, 512, 28, 28, 28]      --\n",
       "│    │    └─DenseLayer: 3-12                  [4, 32, 28, 28, 28]       127,488\n",
       "│    │    └─DenseLayer: 3-13                  [4, 32, 28, 28, 28]       131,648\n",
       "│    │    └─DenseLayer: 3-14                  [4, 32, 28, 28, 28]       135,808\n",
       "│    │    └─DenseLayer: 3-15                  [4, 32, 28, 28, 28]       139,968\n",
       "│    │    └─DenseLayer: 3-16                  [4, 32, 28, 28, 28]       144,128\n",
       "│    │    └─DenseLayer: 3-17                  [4, 32, 28, 28, 28]       148,288\n",
       "│    │    └─DenseLayer: 3-18                  [4, 32, 28, 28, 28]       152,448\n",
       "│    │    └─DenseLayer: 3-19                  [4, 32, 28, 28, 28]       156,608\n",
       "│    │    └─DenseLayer: 3-20                  [4, 32, 28, 28, 28]       160,768\n",
       "│    │    └─DenseLayer: 3-21                  [4, 32, 28, 28, 28]       164,928\n",
       "│    │    └─DenseLayer: 3-22                  [4, 32, 28, 28, 28]       169,088\n",
       "│    │    └─DenseLayer: 3-23                  [4, 32, 28, 28, 28]       173,248\n",
       "│    └─DenseTransition: 2-7                   [4, 256, 14, 14, 14]      --\n",
       "│    │    └─BatchNormAct3d: 3-24              [4, 512, 28, 28, 28]      1,024\n",
       "│    │    └─Conv3d: 3-25                      [4, 256, 28, 28, 28]      131,072\n",
       "│    │    └─AvgPool3d: 3-26                   [4, 256, 14, 14, 14]      --\n",
       "│    └─DenseBlock: 2-8                        [4, 1024, 14, 14, 14]     --\n",
       "│    │    └─DenseLayer: 3-27                  [4, 32, 14, 14, 14]       144,128\n",
       "│    │    └─DenseLayer: 3-28                  [4, 32, 14, 14, 14]       148,288\n",
       "│    │    └─DenseLayer: 3-29                  [4, 32, 14, 14, 14]       152,448\n",
       "│    │    └─DenseLayer: 3-30                  [4, 32, 14, 14, 14]       156,608\n",
       "│    │    └─DenseLayer: 3-31                  [4, 32, 14, 14, 14]       160,768\n",
       "│    │    └─DenseLayer: 3-32                  [4, 32, 14, 14, 14]       164,928\n",
       "│    │    └─DenseLayer: 3-33                  [4, 32, 14, 14, 14]       169,088\n",
       "│    │    └─DenseLayer: 3-34                  [4, 32, 14, 14, 14]       173,248\n",
       "│    │    └─DenseLayer: 3-35                  [4, 32, 14, 14, 14]       177,408\n",
       "│    │    └─DenseLayer: 3-36                  [4, 32, 14, 14, 14]       181,568\n",
       "│    │    └─DenseLayer: 3-37                  [4, 32, 14, 14, 14]       185,728\n",
       "│    │    └─DenseLayer: 3-38                  [4, 32, 14, 14, 14]       189,888\n",
       "│    │    └─DenseLayer: 3-39                  [4, 32, 14, 14, 14]       194,048\n",
       "│    │    └─DenseLayer: 3-40                  [4, 32, 14, 14, 14]       198,208\n",
       "│    │    └─DenseLayer: 3-41                  [4, 32, 14, 14, 14]       202,368\n",
       "│    │    └─DenseLayer: 3-42                  [4, 32, 14, 14, 14]       206,528\n",
       "│    │    └─DenseLayer: 3-43                  [4, 32, 14, 14, 14]       210,688\n",
       "│    │    └─DenseLayer: 3-44                  [4, 32, 14, 14, 14]       214,848\n",
       "│    │    └─DenseLayer: 3-45                  [4, 32, 14, 14, 14]       219,008\n",
       "│    │    └─DenseLayer: 3-46                  [4, 32, 14, 14, 14]       223,168\n",
       "│    │    └─DenseLayer: 3-47                  [4, 32, 14, 14, 14]       227,328\n",
       "│    │    └─DenseLayer: 3-48                  [4, 32, 14, 14, 14]       231,488\n",
       "│    │    └─DenseLayer: 3-49                  [4, 32, 14, 14, 14]       235,648\n",
       "│    │    └─DenseLayer: 3-50                  [4, 32, 14, 14, 14]       239,808\n",
       "│    └─DenseTransition: 2-9                   [4, 512, 7, 7, 7]         --\n",
       "│    │    └─BatchNormAct3d: 3-51              [4, 1024, 14, 14, 14]     2,048\n",
       "│    │    └─Conv3d: 3-52                      [4, 512, 14, 14, 14]      524,288\n",
       "│    │    └─AvgPool3d: 3-53                   [4, 512, 7, 7, 7]         --\n",
       "│    └─DenseBlock: 2-10                       [4, 1024, 7, 7, 7]        --\n",
       "│    │    └─DenseLayer: 3-54                  [4, 32, 7, 7, 7]          177,408\n",
       "│    │    └─DenseLayer: 3-55                  [4, 32, 7, 7, 7]          181,568\n",
       "│    │    └─DenseLayer: 3-56                  [4, 32, 7, 7, 7]          185,728\n",
       "│    │    └─DenseLayer: 3-57                  [4, 32, 7, 7, 7]          189,888\n",
       "│    │    └─DenseLayer: 3-58                  [4, 32, 7, 7, 7]          194,048\n",
       "│    │    └─DenseLayer: 3-59                  [4, 32, 7, 7, 7]          198,208\n",
       "│    │    └─DenseLayer: 3-60                  [4, 32, 7, 7, 7]          202,368\n",
       "│    │    └─DenseLayer: 3-61                  [4, 32, 7, 7, 7]          206,528\n",
       "│    │    └─DenseLayer: 3-62                  [4, 32, 7, 7, 7]          210,688\n",
       "│    │    └─DenseLayer: 3-63                  [4, 32, 7, 7, 7]          214,848\n",
       "│    │    └─DenseLayer: 3-64                  [4, 32, 7, 7, 7]          219,008\n",
       "│    │    └─DenseLayer: 3-65                  [4, 32, 7, 7, 7]          223,168\n",
       "│    │    └─DenseLayer: 3-66                  [4, 32, 7, 7, 7]          227,328\n",
       "│    │    └─DenseLayer: 3-67                  [4, 32, 7, 7, 7]          231,488\n",
       "│    │    └─DenseLayer: 3-68                  [4, 32, 7, 7, 7]          235,648\n",
       "│    │    └─DenseLayer: 3-69                  [4, 32, 7, 7, 7]          239,808\n",
       "│    └─BatchNormAct3d: 2-11                   [4, 1024, 7, 7, 7]        2,048\n",
       "│    │    └─Identity: 3-70                    [4, 1024, 7, 7, 7]        --\n",
       "│    │    └─ReLU: 3-71                        [4, 1024, 7, 7, 7]        --\n",
       "├─SelectAdaptivePool3d: 1-2                   [4, 1024]                 --\n",
       "│    └─AdaptiveAvgPool3d: 2-12                [4, 1024, 1, 1, 1]        --\n",
       "│    └─Flatten: 2-13                          [4, 1024]                 --\n",
       "├─Dropout: 1-3                                [4, 1024]                 --\n",
       "├─Linear: 1-4                                 [4, 2]                    2,050\n",
       "===============================================================================================\n",
       "Total params: 11,244,674\n",
       "Trainable params: 11,244,674\n",
       "Non-trainable params: 0\n",
       "Total mult-adds (Units.GIGABYTES): 919.70\n",
       "===============================================================================================\n",
       "Input size (MB): 179.83\n",
       "Forward/backward pass size (MB): 10930.34\n",
       "Params size (MB): 44.64\n",
       "Estimated Total Size (MB): 11154.81\n",
       "==============================================================================================="
      ]
     },
     "execution_count": 11,
     "metadata": {},
     "output_type": "execute_result"
    }
   ],
   "source": [
    "import timm_3d\n",
    "from torchinfo import summary\n",
    "\n",
    "model = timm_3d.create_model(\n",
    "    'densenet121',\n",
    "    pretrained=False,\n",
    "    num_classes=2\n",
    ")\n",
    "\n",
    "model.features.conv0 = nn.Conv3d(1, 64, kernel_size=(7, 7, 7), stride=(2, 2, 2), padding=(3, 3, 3), bias=False)\n",
    "\n",
    "# print(model)\n",
    "\n",
    "summary(model, input_size=(4, 1, 224, 224, 224)) \n"
   ]
  },
  {
   "cell_type": "code",
   "execution_count": 12,
   "id": "0b67b136",
   "metadata": {},
   "outputs": [
    {
     "name": "stdout",
     "output_type": "stream",
     "text": [
      "Starting training...\n",
      "Metrics will be logged to: C:\\Users\\kanan\\Desktop\\Project_TMJOA\\3D_Pipeline\\densenet121_tiny_nonrotate_augment\\densenet121_tiny_history.csv\n",
      "--------------------------------------------------\n"
     ]
    },
    {
     "data": {
      "application/vnd.jupyter.widget-view+json": {
       "model_id": "36a44d90ee524940a5943cfcc0e90098",
       "version_major": 2,
       "version_minor": 0
      },
      "text/plain": [
       "Epoch 1/100:   0%|          | 0/127 [00:00<?, ?it/s]"
      ]
     },
     "metadata": {},
     "output_type": "display_data"
    },
    {
     "data": {
      "application/vnd.jupyter.widget-view+json": {
       "model_id": "b92332295ae546edb446f43ae18efaeb",
       "version_major": 2,
       "version_minor": 0
      },
      "text/plain": [
       "Validating:   0%|          | 0/37 [00:00<?, ?it/s]"
      ]
     },
     "metadata": {},
     "output_type": "display_data"
    },
    {
     "name": "stdout",
     "output_type": "stream",
     "text": [
      "Epoch 1/100:\n",
      "  Train Loss: 0.7181, Train Acc: 0.5472\n",
      "  Val Loss: 0.6821, Val Acc: 0.5479\n",
      "  Learning Rate: 1.00e-04\n",
      "  Time: 21792.77s\n",
      "--------------------------------------------------\n",
      "Best model saved to C:\\Users\\kanan\\Desktop\\Project_TMJOA\\3D_Pipeline\\densenet121_tiny_nonrotate_augment\\densenet121_tiny_best.pth\n"
     ]
    },
    {
     "data": {
      "application/vnd.jupyter.widget-view+json": {
       "model_id": "758a7ab229a34b33907454cc9045d92e",
       "version_major": 2,
       "version_minor": 0
      },
      "text/plain": [
       "Epoch 2/100:   0%|          | 0/127 [00:00<?, ?it/s]"
      ]
     },
     "metadata": {},
     "output_type": "display_data"
    },
    {
     "data": {
      "application/vnd.jupyter.widget-view+json": {
       "model_id": "5fed173eb2ad4806914a0406ed7814f8",
       "version_major": 2,
       "version_minor": 0
      },
      "text/plain": [
       "Validating:   0%|          | 0/37 [00:00<?, ?it/s]"
      ]
     },
     "metadata": {},
     "output_type": "display_data"
    },
    {
     "name": "stdout",
     "output_type": "stream",
     "text": [
      "Epoch 2/100:\n",
      "  Train Loss: 0.7065, Train Acc: 0.5315\n",
      "  Val Loss: 0.6957, Val Acc: 0.5479\n",
      "  Learning Rate: 1.00e-04\n",
      "  Time: 20025.26s\n",
      "--------------------------------------------------\n"
     ]
    },
    {
     "data": {
      "application/vnd.jupyter.widget-view+json": {
       "model_id": "5c68edac46674a2f8205595a5409eba4",
       "version_major": 2,
       "version_minor": 0
      },
      "text/plain": [
       "Epoch 3/100:   0%|          | 0/127 [00:00<?, ?it/s]"
      ]
     },
     "metadata": {},
     "output_type": "display_data"
    },
    {
     "data": {
      "application/vnd.jupyter.widget-view+json": {
       "model_id": "efc707c673b04cfeb203e6af42fc6441",
       "version_major": 2,
       "version_minor": 0
      },
      "text/plain": [
       "Validating:   0%|          | 0/37 [00:00<?, ?it/s]"
      ]
     },
     "metadata": {},
     "output_type": "display_data"
    },
    {
     "name": "stdout",
     "output_type": "stream",
     "text": [
      "Epoch 3/100:\n",
      "  Train Loss: 0.6992, Train Acc: 0.5591\n",
      "  Val Loss: 0.7018, Val Acc: 0.5479\n",
      "  Learning Rate: 1.00e-04\n",
      "  Time: 20065.15s\n",
      "--------------------------------------------------\n"
     ]
    },
    {
     "data": {
      "application/vnd.jupyter.widget-view+json": {
       "model_id": "6a4588f638304571b8599031f7f4f698",
       "version_major": 2,
       "version_minor": 0
      },
      "text/plain": [
       "Epoch 4/100:   0%|          | 0/127 [00:00<?, ?it/s]"
      ]
     },
     "metadata": {},
     "output_type": "display_data"
    },
    {
     "data": {
      "application/vnd.jupyter.widget-view+json": {
       "model_id": "96ada7556f0644e68c5b676962b515e1",
       "version_major": 2,
       "version_minor": 0
      },
      "text/plain": [
       "Validating:   0%|          | 0/37 [00:00<?, ?it/s]"
      ]
     },
     "metadata": {},
     "output_type": "display_data"
    },
    {
     "name": "stdout",
     "output_type": "stream",
     "text": [
      "Epoch 4/100:\n",
      "  Train Loss: 0.6703, Train Acc: 0.5906\n",
      "  Val Loss: 0.7094, Val Acc: 0.4384\n",
      "  Learning Rate: 1.00e-04\n",
      "  Time: 20870.80s\n",
      "--------------------------------------------------\n"
     ]
    },
    {
     "data": {
      "application/vnd.jupyter.widget-view+json": {
       "model_id": "0934e1e539d44bb090ca34547b4e1adf",
       "version_major": 2,
       "version_minor": 0
      },
      "text/plain": [
       "Epoch 5/100:   0%|          | 0/127 [00:00<?, ?it/s]"
      ]
     },
     "metadata": {},
     "output_type": "display_data"
    },
    {
     "data": {
      "application/vnd.jupyter.widget-view+json": {
       "model_id": "5898159830b54393a7212dda0838e015",
       "version_major": 2,
       "version_minor": 0
      },
      "text/plain": [
       "Validating:   0%|          | 0/37 [00:00<?, ?it/s]"
      ]
     },
     "metadata": {},
     "output_type": "display_data"
    },
    {
     "name": "stdout",
     "output_type": "stream",
     "text": [
      "Epoch 5/100:\n",
      "  Train Loss: 0.6747, Train Acc: 0.5748\n",
      "  Val Loss: 0.7354, Val Acc: 0.4795\n",
      "  Learning Rate: 1.00e-04\n",
      "  Time: 21436.71s\n",
      "--------------------------------------------------\n"
     ]
    },
    {
     "data": {
      "application/vnd.jupyter.widget-view+json": {
       "model_id": "66c059d63f69461497d7733e98eea3cd",
       "version_major": 2,
       "version_minor": 0
      },
      "text/plain": [
       "Epoch 6/100:   0%|          | 0/127 [00:00<?, ?it/s]"
      ]
     },
     "metadata": {},
     "output_type": "display_data"
    },
    {
     "data": {
      "application/vnd.jupyter.widget-view+json": {
       "model_id": "4b152c8152b94805b842f12a39c78182",
       "version_major": 2,
       "version_minor": 0
      },
      "text/plain": [
       "Validating:   0%|          | 0/37 [00:00<?, ?it/s]"
      ]
     },
     "metadata": {},
     "output_type": "display_data"
    },
    {
     "name": "stdout",
     "output_type": "stream",
     "text": [
      "Epoch 6/100:\n",
      "  Train Loss: 0.6396, Train Acc: 0.6378\n",
      "  Val Loss: 0.6473, Val Acc: 0.6575\n",
      "  Learning Rate: 1.00e-04\n",
      "  Time: 20058.71s\n",
      "--------------------------------------------------\n",
      "Best model saved to C:\\Users\\kanan\\Desktop\\Project_TMJOA\\3D_Pipeline\\densenet121_tiny_nonrotate_augment\\densenet121_tiny_best.pth\n"
     ]
    },
    {
     "data": {
      "application/vnd.jupyter.widget-view+json": {
       "model_id": "2df8ef31550f45b9b3d49ade116abe9e",
       "version_major": 2,
       "version_minor": 0
      },
      "text/plain": [
       "Epoch 7/100:   0%|          | 0/127 [00:00<?, ?it/s]"
      ]
     },
     "metadata": {},
     "output_type": "display_data"
    },
    {
     "data": {
      "application/vnd.jupyter.widget-view+json": {
       "model_id": "3374d48b816d45218ebf95415f748823",
       "version_major": 2,
       "version_minor": 0
      },
      "text/plain": [
       "Validating:   0%|          | 0/37 [00:00<?, ?it/s]"
      ]
     },
     "metadata": {},
     "output_type": "display_data"
    },
    {
     "name": "stdout",
     "output_type": "stream",
     "text": [
      "Epoch 7/100:\n",
      "  Train Loss: 0.6410, Train Acc: 0.5945\n",
      "  Val Loss: 0.6388, Val Acc: 0.6712\n",
      "  Learning Rate: 1.00e-04\n",
      "  Time: 19766.31s\n",
      "--------------------------------------------------\n",
      "Best model saved to C:\\Users\\kanan\\Desktop\\Project_TMJOA\\3D_Pipeline\\densenet121_tiny_nonrotate_augment\\densenet121_tiny_best.pth\n"
     ]
    },
    {
     "data": {
      "application/vnd.jupyter.widget-view+json": {
       "model_id": "0c3492af459d46ebb344911724e1a618",
       "version_major": 2,
       "version_minor": 0
      },
      "text/plain": [
       "Epoch 8/100:   0%|          | 0/127 [00:00<?, ?it/s]"
      ]
     },
     "metadata": {},
     "output_type": "display_data"
    },
    {
     "data": {
      "application/vnd.jupyter.widget-view+json": {
       "model_id": "2e89d5e75a464d31aa2cfa2714b0ea59",
       "version_major": 2,
       "version_minor": 0
      },
      "text/plain": [
       "Validating:   0%|          | 0/37 [00:00<?, ?it/s]"
      ]
     },
     "metadata": {},
     "output_type": "display_data"
    },
    {
     "name": "stdout",
     "output_type": "stream",
     "text": [
      "Epoch 8/100:\n",
      "  Train Loss: 0.6385, Train Acc: 0.6378\n",
      "  Val Loss: 0.6021, Val Acc: 0.7671\n",
      "  Learning Rate: 1.00e-04\n",
      "  Time: 21033.13s\n",
      "--------------------------------------------------\n",
      "Best model saved to C:\\Users\\kanan\\Desktop\\Project_TMJOA\\3D_Pipeline\\densenet121_tiny_nonrotate_augment\\densenet121_tiny_best.pth\n"
     ]
    },
    {
     "data": {
      "application/vnd.jupyter.widget-view+json": {
       "model_id": "8951abf2cd3c4a2ebb048e2dc1de137d",
       "version_major": 2,
       "version_minor": 0
      },
      "text/plain": [
       "Epoch 9/100:   0%|          | 0/127 [00:00<?, ?it/s]"
      ]
     },
     "metadata": {},
     "output_type": "display_data"
    },
    {
     "data": {
      "application/vnd.jupyter.widget-view+json": {
       "model_id": "fe1bc9dfb5cc4afb84bf783c346a0776",
       "version_major": 2,
       "version_minor": 0
      },
      "text/plain": [
       "Validating:   0%|          | 0/37 [00:00<?, ?it/s]"
      ]
     },
     "metadata": {},
     "output_type": "display_data"
    },
    {
     "name": "stdout",
     "output_type": "stream",
     "text": [
      "Epoch 9/100:\n",
      "  Train Loss: 0.6495, Train Acc: 0.6142\n",
      "  Val Loss: 0.6349, Val Acc: 0.6575\n",
      "  Learning Rate: 1.00e-04\n",
      "  Time: 20789.87s\n",
      "--------------------------------------------------\n"
     ]
    },
    {
     "data": {
      "application/vnd.jupyter.widget-view+json": {
       "model_id": "3b3811175e064ee8b3c62afcce64217b",
       "version_major": 2,
       "version_minor": 0
      },
      "text/plain": [
       "Epoch 10/100:   0%|          | 0/127 [00:00<?, ?it/s]"
      ]
     },
     "metadata": {},
     "output_type": "display_data"
    },
    {
     "data": {
      "application/vnd.jupyter.widget-view+json": {
       "model_id": "958c7847a9e2446292aca29636d8b038",
       "version_major": 2,
       "version_minor": 0
      },
      "text/plain": [
       "Validating:   0%|          | 0/37 [00:00<?, ?it/s]"
      ]
     },
     "metadata": {},
     "output_type": "display_data"
    },
    {
     "name": "stdout",
     "output_type": "stream",
     "text": [
      "Epoch 10/100:\n",
      "  Train Loss: 0.6381, Train Acc: 0.6102\n",
      "  Val Loss: 0.5624, Val Acc: 0.6986\n",
      "  Learning Rate: 1.00e-04\n",
      "  Time: 21021.57s\n",
      "--------------------------------------------------\n",
      "Best model saved to C:\\Users\\kanan\\Desktop\\Project_TMJOA\\3D_Pipeline\\densenet121_tiny_nonrotate_augment\\densenet121_tiny_best.pth\n"
     ]
    },
    {
     "data": {
      "application/vnd.jupyter.widget-view+json": {
       "model_id": "2b203c2f30d149aab01fbba8358d95b1",
       "version_major": 2,
       "version_minor": 0
      },
      "text/plain": [
       "Epoch 11/100:   0%|          | 0/127 [00:00<?, ?it/s]"
      ]
     },
     "metadata": {},
     "output_type": "display_data"
    },
    {
     "data": {
      "application/vnd.jupyter.widget-view+json": {
       "model_id": "703be3d7b06340388eddebed818227cd",
       "version_major": 2,
       "version_minor": 0
      },
      "text/plain": [
       "Validating:   0%|          | 0/37 [00:00<?, ?it/s]"
      ]
     },
     "metadata": {},
     "output_type": "display_data"
    },
    {
     "name": "stdout",
     "output_type": "stream",
     "text": [
      "Epoch 11/100:\n",
      "  Train Loss: 0.6138, Train Acc: 0.6457\n",
      "  Val Loss: 0.6376, Val Acc: 0.6027\n",
      "  Learning Rate: 1.00e-04\n",
      "  Time: 20406.61s\n",
      "--------------------------------------------------\n"
     ]
    },
    {
     "data": {
      "application/vnd.jupyter.widget-view+json": {
       "model_id": "4185319879ef431e875e2d4af672e6e5",
       "version_major": 2,
       "version_minor": 0
      },
      "text/plain": [
       "Epoch 12/100:   0%|          | 0/127 [00:00<?, ?it/s]"
      ]
     },
     "metadata": {},
     "output_type": "display_data"
    },
    {
     "data": {
      "application/vnd.jupyter.widget-view+json": {
       "model_id": "bf14cabb2d1544e5a79e97469322afc2",
       "version_major": 2,
       "version_minor": 0
      },
      "text/plain": [
       "Validating:   0%|          | 0/37 [00:00<?, ?it/s]"
      ]
     },
     "metadata": {},
     "output_type": "display_data"
    },
    {
     "name": "stdout",
     "output_type": "stream",
     "text": [
      "Epoch 12/100:\n",
      "  Train Loss: 0.6248, Train Acc: 0.6142\n",
      "  Val Loss: 0.6536, Val Acc: 0.6301\n",
      "  Learning Rate: 1.00e-04\n",
      "  Time: 20141.14s\n",
      "--------------------------------------------------\n"
     ]
    },
    {
     "data": {
      "application/vnd.jupyter.widget-view+json": {
       "model_id": "0665d1a50a434645bf3edb9cb2554c9e",
       "version_major": 2,
       "version_minor": 0
      },
      "text/plain": [
       "Epoch 13/100:   0%|          | 0/127 [00:00<?, ?it/s]"
      ]
     },
     "metadata": {},
     "output_type": "display_data"
    },
    {
     "data": {
      "application/vnd.jupyter.widget-view+json": {
       "model_id": "971bf1af05ee449a9bff96c2ad4a4762",
       "version_major": 2,
       "version_minor": 0
      },
      "text/plain": [
       "Validating:   0%|          | 0/37 [00:00<?, ?it/s]"
      ]
     },
     "metadata": {},
     "output_type": "display_data"
    },
    {
     "name": "stdout",
     "output_type": "stream",
     "text": [
      "Epoch 13/100:\n",
      "  Train Loss: 0.6418, Train Acc: 0.6260\n",
      "  Val Loss: 0.7283, Val Acc: 0.5068\n",
      "  Learning Rate: 1.00e-04\n",
      "  Time: 21543.90s\n",
      "--------------------------------------------------\n"
     ]
    },
    {
     "data": {
      "application/vnd.jupyter.widget-view+json": {
       "model_id": "953f5f4adec04c2b80bbe2c7a486a386",
       "version_major": 2,
       "version_minor": 0
      },
      "text/plain": [
       "Epoch 14/100:   0%|          | 0/127 [00:00<?, ?it/s]"
      ]
     },
     "metadata": {},
     "output_type": "display_data"
    },
    {
     "data": {
      "application/vnd.jupyter.widget-view+json": {
       "model_id": "ef7f72f40e3b417b9435e071eb4fd40f",
       "version_major": 2,
       "version_minor": 0
      },
      "text/plain": [
       "Validating:   0%|          | 0/37 [00:00<?, ?it/s]"
      ]
     },
     "metadata": {},
     "output_type": "display_data"
    },
    {
     "name": "stdout",
     "output_type": "stream",
     "text": [
      "Epoch 14/100:\n",
      "  Train Loss: 0.5861, Train Acc: 0.6614\n",
      "  Val Loss: 0.6797, Val Acc: 0.6164\n",
      "  Learning Rate: 1.00e-04\n",
      "  Time: 13898.12s\n",
      "--------------------------------------------------\n"
     ]
    },
    {
     "data": {
      "application/vnd.jupyter.widget-view+json": {
       "model_id": "53c6cdb653a34f0c8907296b1c899f04",
       "version_major": 2,
       "version_minor": 0
      },
      "text/plain": [
       "Epoch 15/100:   0%|          | 0/127 [00:00<?, ?it/s]"
      ]
     },
     "metadata": {},
     "output_type": "display_data"
    },
    {
     "data": {
      "application/vnd.jupyter.widget-view+json": {
       "model_id": "3c0cbf22628c4bc2a5649951093b2490",
       "version_major": 2,
       "version_minor": 0
      },
      "text/plain": [
       "Validating:   0%|          | 0/37 [00:00<?, ?it/s]"
      ]
     },
     "metadata": {},
     "output_type": "display_data"
    },
    {
     "name": "stdout",
     "output_type": "stream",
     "text": [
      "Epoch 15/100:\n",
      "  Train Loss: 0.6141, Train Acc: 0.6378\n",
      "  Val Loss: 0.6794, Val Acc: 0.5479\n",
      "  Learning Rate: 1.00e-04\n",
      "  Time: 17788.57s\n",
      "--------------------------------------------------\n"
     ]
    },
    {
     "data": {
      "application/vnd.jupyter.widget-view+json": {
       "model_id": "d9bc2ad66508473c83d962013eebedc3",
       "version_major": 2,
       "version_minor": 0
      },
      "text/plain": [
       "Epoch 16/100:   0%|          | 0/127 [00:00<?, ?it/s]"
      ]
     },
     "metadata": {},
     "output_type": "display_data"
    },
    {
     "data": {
      "application/vnd.jupyter.widget-view+json": {
       "model_id": "cb4e6404d4d245e48cc91166f6769d46",
       "version_major": 2,
       "version_minor": 0
      },
      "text/plain": [
       "Validating:   0%|          | 0/37 [00:00<?, ?it/s]"
      ]
     },
     "metadata": {},
     "output_type": "display_data"
    },
    {
     "name": "stdout",
     "output_type": "stream",
     "text": [
      "Epoch 16/100:\n",
      "  Train Loss: 0.5843, Train Acc: 0.6732\n",
      "  Val Loss: 0.7105, Val Acc: 0.5479\n",
      "  Learning Rate: 1.00e-04\n",
      "  Time: 20704.73s\n",
      "--------------------------------------------------\n"
     ]
    },
    {
     "data": {
      "application/vnd.jupyter.widget-view+json": {
       "model_id": "5d76adffb52c4b29900f7fea8ba22393",
       "version_major": 2,
       "version_minor": 0
      },
      "text/plain": [
       "Epoch 17/100:   0%|          | 0/127 [00:00<?, ?it/s]"
      ]
     },
     "metadata": {},
     "output_type": "display_data"
    },
    {
     "data": {
      "application/vnd.jupyter.widget-view+json": {
       "model_id": "649201d718c7446aa598572167b2b530",
       "version_major": 2,
       "version_minor": 0
      },
      "text/plain": [
       "Validating:   0%|          | 0/37 [00:00<?, ?it/s]"
      ]
     },
     "metadata": {},
     "output_type": "display_data"
    },
    {
     "name": "stdout",
     "output_type": "stream",
     "text": [
      "Epoch 17/100:\n",
      "  Train Loss: 0.5836, Train Acc: 0.6693\n",
      "  Val Loss: 0.5285, Val Acc: 0.6986\n",
      "  Learning Rate: 5.00e-05\n",
      "  Time: 15610.85s\n",
      "--------------------------------------------------\n",
      "Best model saved to C:\\Users\\kanan\\Desktop\\Project_TMJOA\\3D_Pipeline\\densenet121_tiny_nonrotate_augment\\densenet121_tiny_best.pth\n"
     ]
    },
    {
     "data": {
      "application/vnd.jupyter.widget-view+json": {
       "model_id": "26a32ee896134a5d88c0302a7db45049",
       "version_major": 2,
       "version_minor": 0
      },
      "text/plain": [
       "Epoch 18/100:   0%|          | 0/127 [00:00<?, ?it/s]"
      ]
     },
     "metadata": {},
     "output_type": "display_data"
    },
    {
     "data": {
      "application/vnd.jupyter.widget-view+json": {
       "model_id": "0edc962f4a2441ed8776201a6fe53450",
       "version_major": 2,
       "version_minor": 0
      },
      "text/plain": [
       "Validating:   0%|          | 0/37 [00:00<?, ?it/s]"
      ]
     },
     "metadata": {},
     "output_type": "display_data"
    },
    {
     "name": "stdout",
     "output_type": "stream",
     "text": [
      "Epoch 18/100:\n",
      "  Train Loss: 0.6305, Train Acc: 0.6260\n",
      "  Val Loss: 0.5735, Val Acc: 0.6438\n",
      "  Learning Rate: 5.00e-05\n",
      "  Time: 15912.94s\n",
      "--------------------------------------------------\n"
     ]
    },
    {
     "data": {
      "application/vnd.jupyter.widget-view+json": {
       "model_id": "f9fa6666b0634446889102cb84965f7b",
       "version_major": 2,
       "version_minor": 0
      },
      "text/plain": [
       "Epoch 19/100:   0%|          | 0/127 [00:00<?, ?it/s]"
      ]
     },
     "metadata": {},
     "output_type": "display_data"
    },
    {
     "data": {
      "application/vnd.jupyter.widget-view+json": {
       "model_id": "6cc8d403685a4cc09dd2dd5d9bc9fef9",
       "version_major": 2,
       "version_minor": 0
      },
      "text/plain": [
       "Validating:   0%|          | 0/37 [00:00<?, ?it/s]"
      ]
     },
     "metadata": {},
     "output_type": "display_data"
    },
    {
     "name": "stdout",
     "output_type": "stream",
     "text": [
      "Epoch 19/100:\n",
      "  Train Loss: 0.5618, Train Acc: 0.6890\n",
      "  Val Loss: 0.5032, Val Acc: 0.7534\n",
      "  Learning Rate: 5.00e-05\n",
      "  Time: 20146.49s\n",
      "--------------------------------------------------\n",
      "Best model saved to C:\\Users\\kanan\\Desktop\\Project_TMJOA\\3D_Pipeline\\densenet121_tiny_nonrotate_augment\\densenet121_tiny_best.pth\n"
     ]
    },
    {
     "data": {
      "application/vnd.jupyter.widget-view+json": {
       "model_id": "47300133e1944b1c8a15b58d0ce78092",
       "version_major": 2,
       "version_minor": 0
      },
      "text/plain": [
       "Epoch 20/100:   0%|          | 0/127 [00:00<?, ?it/s]"
      ]
     },
     "metadata": {},
     "output_type": "display_data"
    },
    {
     "data": {
      "application/vnd.jupyter.widget-view+json": {
       "model_id": "0b25224869654756bb13fb52be4b1943",
       "version_major": 2,
       "version_minor": 0
      },
      "text/plain": [
       "Validating:   0%|          | 0/37 [00:00<?, ?it/s]"
      ]
     },
     "metadata": {},
     "output_type": "display_data"
    },
    {
     "name": "stdout",
     "output_type": "stream",
     "text": [
      "Epoch 20/100:\n",
      "  Train Loss: 0.5323, Train Acc: 0.7402\n",
      "  Val Loss: 0.5013, Val Acc: 0.7123\n",
      "  Learning Rate: 5.00e-05\n",
      "  Time: 18335.06s\n",
      "--------------------------------------------------\n",
      "Best model saved to C:\\Users\\kanan\\Desktop\\Project_TMJOA\\3D_Pipeline\\densenet121_tiny_nonrotate_augment\\densenet121_tiny_best.pth\n"
     ]
    },
    {
     "data": {
      "application/vnd.jupyter.widget-view+json": {
       "model_id": "31ee92ff5ba941afbc43277b6d565ad2",
       "version_major": 2,
       "version_minor": 0
      },
      "text/plain": [
       "Epoch 21/100:   0%|          | 0/127 [00:00<?, ?it/s]"
      ]
     },
     "metadata": {},
     "output_type": "display_data"
    },
    {
     "data": {
      "application/vnd.jupyter.widget-view+json": {
       "model_id": "1129745ed494469eb548bbaed13fd737",
       "version_major": 2,
       "version_minor": 0
      },
      "text/plain": [
       "Validating:   0%|          | 0/37 [00:00<?, ?it/s]"
      ]
     },
     "metadata": {},
     "output_type": "display_data"
    },
    {
     "name": "stdout",
     "output_type": "stream",
     "text": [
      "Epoch 21/100:\n",
      "  Train Loss: 0.5256, Train Acc: 0.7402\n",
      "  Val Loss: 0.4806, Val Acc: 0.8356\n",
      "  Learning Rate: 5.00e-05\n",
      "  Time: 5884.73s\n",
      "--------------------------------------------------\n",
      "Best model saved to C:\\Users\\kanan\\Desktop\\Project_TMJOA\\3D_Pipeline\\densenet121_tiny_nonrotate_augment\\densenet121_tiny_best.pth\n"
     ]
    },
    {
     "data": {
      "application/vnd.jupyter.widget-view+json": {
       "model_id": "ed0836eaf8b44d1b85792a541a380a73",
       "version_major": 2,
       "version_minor": 0
      },
      "text/plain": [
       "Epoch 22/100:   0%|          | 0/127 [00:00<?, ?it/s]"
      ]
     },
     "metadata": {},
     "output_type": "display_data"
    },
    {
     "data": {
      "application/vnd.jupyter.widget-view+json": {
       "model_id": "829fe35363074ababd5951fb5592cdd5",
       "version_major": 2,
       "version_minor": 0
      },
      "text/plain": [
       "Validating:   0%|          | 0/37 [00:00<?, ?it/s]"
      ]
     },
     "metadata": {},
     "output_type": "display_data"
    },
    {
     "name": "stdout",
     "output_type": "stream",
     "text": [
      "Epoch 22/100:\n",
      "  Train Loss: 0.5269, Train Acc: 0.7677\n",
      "  Val Loss: 0.4979, Val Acc: 0.7945\n",
      "  Learning Rate: 5.00e-05\n",
      "  Time: 7891.10s\n",
      "--------------------------------------------------\n"
     ]
    },
    {
     "data": {
      "application/vnd.jupyter.widget-view+json": {
       "model_id": "4c0c29b0c17b4cb0bbe8df5b9364f4b9",
       "version_major": 2,
       "version_minor": 0
      },
      "text/plain": [
       "Epoch 23/100:   0%|          | 0/127 [00:00<?, ?it/s]"
      ]
     },
     "metadata": {},
     "output_type": "display_data"
    },
    {
     "data": {
      "application/vnd.jupyter.widget-view+json": {
       "model_id": "a3aa78ecbc72419eab7c55ef04fc42da",
       "version_major": 2,
       "version_minor": 0
      },
      "text/plain": [
       "Validating:   0%|          | 0/37 [00:00<?, ?it/s]"
      ]
     },
     "metadata": {},
     "output_type": "display_data"
    },
    {
     "name": "stdout",
     "output_type": "stream",
     "text": [
      "Epoch 23/100:\n",
      "  Train Loss: 0.5438, Train Acc: 0.6929\n",
      "  Val Loss: 0.5147, Val Acc: 0.7808\n",
      "  Learning Rate: 5.00e-05\n",
      "  Time: 4234.03s\n",
      "--------------------------------------------------\n"
     ]
    },
    {
     "data": {
      "application/vnd.jupyter.widget-view+json": {
       "model_id": "31d7b03d8af94d048cf6a6553675b76f",
       "version_major": 2,
       "version_minor": 0
      },
      "text/plain": [
       "Epoch 24/100:   0%|          | 0/127 [00:00<?, ?it/s]"
      ]
     },
     "metadata": {},
     "output_type": "display_data"
    },
    {
     "data": {
      "application/vnd.jupyter.widget-view+json": {
       "model_id": "00f5bbf0dfb14f42a5eb3854120e64f3",
       "version_major": 2,
       "version_minor": 0
      },
      "text/plain": [
       "Validating:   0%|          | 0/37 [00:00<?, ?it/s]"
      ]
     },
     "metadata": {},
     "output_type": "display_data"
    },
    {
     "name": "stdout",
     "output_type": "stream",
     "text": [
      "Epoch 24/100:\n",
      "  Train Loss: 0.5241, Train Acc: 0.7520\n",
      "  Val Loss: 0.5711, Val Acc: 0.6986\n",
      "  Learning Rate: 5.00e-05\n",
      "  Time: 4259.40s\n",
      "--------------------------------------------------\n"
     ]
    },
    {
     "data": {
      "application/vnd.jupyter.widget-view+json": {
       "model_id": "c5b802ea7d214d7588d6d5511f479275",
       "version_major": 2,
       "version_minor": 0
      },
      "text/plain": [
       "Epoch 25/100:   0%|          | 0/127 [00:00<?, ?it/s]"
      ]
     },
     "metadata": {},
     "output_type": "display_data"
    },
    {
     "data": {
      "application/vnd.jupyter.widget-view+json": {
       "model_id": "a624de52f250401581b5947a3fc07259",
       "version_major": 2,
       "version_minor": 0
      },
      "text/plain": [
       "Validating:   0%|          | 0/37 [00:00<?, ?it/s]"
      ]
     },
     "metadata": {},
     "output_type": "display_data"
    },
    {
     "name": "stdout",
     "output_type": "stream",
     "text": [
      "Epoch 25/100:\n",
      "  Train Loss: 0.5092, Train Acc: 0.7677\n",
      "  Val Loss: 0.4736, Val Acc: 0.8082\n",
      "  Learning Rate: 5.00e-05\n",
      "  Time: 4246.77s\n",
      "--------------------------------------------------\n",
      "Best model saved to C:\\Users\\kanan\\Desktop\\Project_TMJOA\\3D_Pipeline\\densenet121_tiny_nonrotate_augment\\densenet121_tiny_best.pth\n"
     ]
    },
    {
     "data": {
      "application/vnd.jupyter.widget-view+json": {
       "model_id": "bf5b27354cae43a4b4b367f2723402c2",
       "version_major": 2,
       "version_minor": 0
      },
      "text/plain": [
       "Epoch 26/100:   0%|          | 0/127 [00:00<?, ?it/s]"
      ]
     },
     "metadata": {},
     "output_type": "display_data"
    },
    {
     "data": {
      "application/vnd.jupyter.widget-view+json": {
       "model_id": "b28ca8ef136b43abb81a9b1418f751d7",
       "version_major": 2,
       "version_minor": 0
      },
      "text/plain": [
       "Validating:   0%|          | 0/37 [00:00<?, ?it/s]"
      ]
     },
     "metadata": {},
     "output_type": "display_data"
    },
    {
     "name": "stdout",
     "output_type": "stream",
     "text": [
      "Epoch 26/100:\n",
      "  Train Loss: 0.5081, Train Acc: 0.7520\n",
      "  Val Loss: 0.5055, Val Acc: 0.7534\n",
      "  Learning Rate: 5.00e-05\n",
      "  Time: 4745.18s\n",
      "--------------------------------------------------\n"
     ]
    },
    {
     "data": {
      "application/vnd.jupyter.widget-view+json": {
       "model_id": "a7374bb565354e96855375e6c441d0d1",
       "version_major": 2,
       "version_minor": 0
      },
      "text/plain": [
       "Epoch 27/100:   0%|          | 0/127 [00:00<?, ?it/s]"
      ]
     },
     "metadata": {},
     "output_type": "display_data"
    },
    {
     "data": {
      "application/vnd.jupyter.widget-view+json": {
       "model_id": "8d689594d8f64a2a9df03e016aac4dcc",
       "version_major": 2,
       "version_minor": 0
      },
      "text/plain": [
       "Validating:   0%|          | 0/37 [00:00<?, ?it/s]"
      ]
     },
     "metadata": {},
     "output_type": "display_data"
    },
    {
     "name": "stdout",
     "output_type": "stream",
     "text": [
      "Epoch 27/100:\n",
      "  Train Loss: 0.4784, Train Acc: 0.7677\n",
      "  Val Loss: 0.4961, Val Acc: 0.7808\n",
      "  Learning Rate: 5.00e-05\n",
      "  Time: 4657.21s\n",
      "--------------------------------------------------\n"
     ]
    },
    {
     "data": {
      "application/vnd.jupyter.widget-view+json": {
       "model_id": "5dcf6601f003452cb392ac98d21c695a",
       "version_major": 2,
       "version_minor": 0
      },
      "text/plain": [
       "Epoch 28/100:   0%|          | 0/127 [00:00<?, ?it/s]"
      ]
     },
     "metadata": {},
     "output_type": "display_data"
    },
    {
     "data": {
      "application/vnd.jupyter.widget-view+json": {
       "model_id": "4e7da1ec385941578b6916c6be3fd93e",
       "version_major": 2,
       "version_minor": 0
      },
      "text/plain": [
       "Validating:   0%|          | 0/37 [00:00<?, ?it/s]"
      ]
     },
     "metadata": {},
     "output_type": "display_data"
    },
    {
     "name": "stdout",
     "output_type": "stream",
     "text": [
      "Epoch 28/100:\n",
      "  Train Loss: 0.4788, Train Acc: 0.7756\n",
      "  Val Loss: 0.4674, Val Acc: 0.8082\n",
      "  Learning Rate: 5.00e-05\n",
      "  Time: 4768.91s\n",
      "--------------------------------------------------\n",
      "Best model saved to C:\\Users\\kanan\\Desktop\\Project_TMJOA\\3D_Pipeline\\densenet121_tiny_nonrotate_augment\\densenet121_tiny_best.pth\n"
     ]
    },
    {
     "data": {
      "application/vnd.jupyter.widget-view+json": {
       "model_id": "26a0679221e04302ad2d4b14dbcb935f",
       "version_major": 2,
       "version_minor": 0
      },
      "text/plain": [
       "Epoch 29/100:   0%|          | 0/127 [00:00<?, ?it/s]"
      ]
     },
     "metadata": {},
     "output_type": "display_data"
    },
    {
     "data": {
      "application/vnd.jupyter.widget-view+json": {
       "model_id": "717b0fd66a354ab0ad1867280c41bc39",
       "version_major": 2,
       "version_minor": 0
      },
      "text/plain": [
       "Validating:   0%|          | 0/37 [00:00<?, ?it/s]"
      ]
     },
     "metadata": {},
     "output_type": "display_data"
    },
    {
     "name": "stdout",
     "output_type": "stream",
     "text": [
      "Epoch 29/100:\n",
      "  Train Loss: 0.4308, Train Acc: 0.8071\n",
      "  Val Loss: 0.8298, Val Acc: 0.5068\n",
      "  Learning Rate: 5.00e-05\n",
      "  Time: 4261.65s\n",
      "--------------------------------------------------\n"
     ]
    },
    {
     "data": {
      "application/vnd.jupyter.widget-view+json": {
       "model_id": "a3b7bb7a13d94cd2a18c0cdd987a1a7d",
       "version_major": 2,
       "version_minor": 0
      },
      "text/plain": [
       "Epoch 30/100:   0%|          | 0/127 [00:00<?, ?it/s]"
      ]
     },
     "metadata": {},
     "output_type": "display_data"
    },
    {
     "data": {
      "application/vnd.jupyter.widget-view+json": {
       "model_id": "669040be5f124ab6b629d1e8fa580b9c",
       "version_major": 2,
       "version_minor": 0
      },
      "text/plain": [
       "Validating:   0%|          | 0/37 [00:00<?, ?it/s]"
      ]
     },
     "metadata": {},
     "output_type": "display_data"
    },
    {
     "name": "stdout",
     "output_type": "stream",
     "text": [
      "Epoch 30/100:\n",
      "  Train Loss: 0.4824, Train Acc: 0.7874\n",
      "  Val Loss: 0.4469, Val Acc: 0.8219\n",
      "  Learning Rate: 5.00e-05\n",
      "  Time: 4315.44s\n",
      "--------------------------------------------------\n",
      "Best model saved to C:\\Users\\kanan\\Desktop\\Project_TMJOA\\3D_Pipeline\\densenet121_tiny_nonrotate_augment\\densenet121_tiny_best.pth\n"
     ]
    },
    {
     "data": {
      "application/vnd.jupyter.widget-view+json": {
       "model_id": "29566b3e4993461cb3af3b95d1a63a8c",
       "version_major": 2,
       "version_minor": 0
      },
      "text/plain": [
       "Epoch 31/100:   0%|          | 0/127 [00:00<?, ?it/s]"
      ]
     },
     "metadata": {},
     "output_type": "display_data"
    },
    {
     "data": {
      "application/vnd.jupyter.widget-view+json": {
       "model_id": "ec749464990c443885d4d1c8ce24e313",
       "version_major": 2,
       "version_minor": 0
      },
      "text/plain": [
       "Validating:   0%|          | 0/37 [00:00<?, ?it/s]"
      ]
     },
     "metadata": {},
     "output_type": "display_data"
    },
    {
     "name": "stdout",
     "output_type": "stream",
     "text": [
      "Epoch 31/100:\n",
      "  Train Loss: 0.4497, Train Acc: 0.8071\n",
      "  Val Loss: 0.4912, Val Acc: 0.7397\n",
      "  Learning Rate: 5.00e-05\n",
      "  Time: 5205.81s\n",
      "--------------------------------------------------\n"
     ]
    },
    {
     "data": {
      "application/vnd.jupyter.widget-view+json": {
       "model_id": "02d5b5cad2494ef697562fed4acd981e",
       "version_major": 2,
       "version_minor": 0
      },
      "text/plain": [
       "Epoch 32/100:   0%|          | 0/127 [00:00<?, ?it/s]"
      ]
     },
     "metadata": {},
     "output_type": "display_data"
    },
    {
     "data": {
      "application/vnd.jupyter.widget-view+json": {
       "model_id": "d40789d99e1f4fd992730393d8add746",
       "version_major": 2,
       "version_minor": 0
      },
      "text/plain": [
       "Validating:   0%|          | 0/37 [00:00<?, ?it/s]"
      ]
     },
     "metadata": {},
     "output_type": "display_data"
    },
    {
     "name": "stdout",
     "output_type": "stream",
     "text": [
      "Epoch 32/100:\n",
      "  Train Loss: 0.4398, Train Acc: 0.7992\n",
      "  Val Loss: 0.4412, Val Acc: 0.8082\n",
      "  Learning Rate: 5.00e-05\n",
      "  Time: 5223.45s\n",
      "--------------------------------------------------\n",
      "Best model saved to C:\\Users\\kanan\\Desktop\\Project_TMJOA\\3D_Pipeline\\densenet121_tiny_nonrotate_augment\\densenet121_tiny_best.pth\n"
     ]
    },
    {
     "data": {
      "application/vnd.jupyter.widget-view+json": {
       "model_id": "f0645a1f6fbd4adf85cb5ac17bf1cb8f",
       "version_major": 2,
       "version_minor": 0
      },
      "text/plain": [
       "Epoch 33/100:   0%|          | 0/127 [00:00<?, ?it/s]"
      ]
     },
     "metadata": {},
     "output_type": "display_data"
    },
    {
     "data": {
      "application/vnd.jupyter.widget-view+json": {
       "model_id": "48ce4fbdc3e24bb4be375fb8b441030c",
       "version_major": 2,
       "version_minor": 0
      },
      "text/plain": [
       "Validating:   0%|          | 0/37 [00:00<?, ?it/s]"
      ]
     },
     "metadata": {},
     "output_type": "display_data"
    },
    {
     "name": "stdout",
     "output_type": "stream",
     "text": [
      "Epoch 33/100:\n",
      "  Train Loss: 0.4321, Train Acc: 0.7992\n",
      "  Val Loss: 0.4438, Val Acc: 0.7534\n",
      "  Learning Rate: 5.00e-05\n",
      "  Time: 4231.82s\n",
      "--------------------------------------------------\n"
     ]
    },
    {
     "data": {
      "application/vnd.jupyter.widget-view+json": {
       "model_id": "417ad3eeec4d43cbaf5976a9aafb13c4",
       "version_major": 2,
       "version_minor": 0
      },
      "text/plain": [
       "Epoch 34/100:   0%|          | 0/127 [00:00<?, ?it/s]"
      ]
     },
     "metadata": {},
     "output_type": "display_data"
    },
    {
     "data": {
      "application/vnd.jupyter.widget-view+json": {
       "model_id": "0a3cba038a654c268e3307e8823b891c",
       "version_major": 2,
       "version_minor": 0
      },
      "text/plain": [
       "Validating:   0%|          | 0/37 [00:00<?, ?it/s]"
      ]
     },
     "metadata": {},
     "output_type": "display_data"
    },
    {
     "name": "stdout",
     "output_type": "stream",
     "text": [
      "Epoch 34/100:\n",
      "  Train Loss: 0.4361, Train Acc: 0.7913\n",
      "  Val Loss: 0.4658, Val Acc: 0.7671\n",
      "  Learning Rate: 5.00e-05\n",
      "  Time: 4251.79s\n",
      "--------------------------------------------------\n"
     ]
    },
    {
     "data": {
      "application/vnd.jupyter.widget-view+json": {
       "model_id": "794697316c304b0b8b1a3d35d7a78ffd",
       "version_major": 2,
       "version_minor": 0
      },
      "text/plain": [
       "Epoch 35/100:   0%|          | 0/127 [00:00<?, ?it/s]"
      ]
     },
     "metadata": {},
     "output_type": "display_data"
    },
    {
     "data": {
      "application/vnd.jupyter.widget-view+json": {
       "model_id": "1cbd64edd39e498bba5d82cd10644149",
       "version_major": 2,
       "version_minor": 0
      },
      "text/plain": [
       "Validating:   0%|          | 0/37 [00:00<?, ?it/s]"
      ]
     },
     "metadata": {},
     "output_type": "display_data"
    },
    {
     "name": "stdout",
     "output_type": "stream",
     "text": [
      "Epoch 35/100:\n",
      "  Train Loss: 0.4035, Train Acc: 0.8268\n",
      "  Val Loss: 0.5689, Val Acc: 0.6849\n",
      "  Learning Rate: 5.00e-05\n",
      "  Time: 4272.85s\n",
      "--------------------------------------------------\n"
     ]
    },
    {
     "data": {
      "application/vnd.jupyter.widget-view+json": {
       "model_id": "9783fa4f10d84ed6b4dde9c98e15b900",
       "version_major": 2,
       "version_minor": 0
      },
      "text/plain": [
       "Epoch 36/100:   0%|          | 0/127 [00:00<?, ?it/s]"
      ]
     },
     "metadata": {},
     "output_type": "display_data"
    },
    {
     "data": {
      "application/vnd.jupyter.widget-view+json": {
       "model_id": "4ae2af85fe364bbda7f77f30d15de925",
       "version_major": 2,
       "version_minor": 0
      },
      "text/plain": [
       "Validating:   0%|          | 0/37 [00:00<?, ?it/s]"
      ]
     },
     "metadata": {},
     "output_type": "display_data"
    },
    {
     "name": "stdout",
     "output_type": "stream",
     "text": [
      "Epoch 36/100:\n",
      "  Train Loss: 0.4067, Train Acc: 0.8346\n",
      "  Val Loss: 0.5545, Val Acc: 0.7260\n",
      "  Learning Rate: 5.00e-05\n",
      "  Time: 4268.43s\n",
      "--------------------------------------------------\n"
     ]
    },
    {
     "data": {
      "application/vnd.jupyter.widget-view+json": {
       "model_id": "cd2272f7b07d44aa90bc66cf18588ec3",
       "version_major": 2,
       "version_minor": 0
      },
      "text/plain": [
       "Epoch 37/100:   0%|          | 0/127 [00:00<?, ?it/s]"
      ]
     },
     "metadata": {},
     "output_type": "display_data"
    },
    {
     "data": {
      "application/vnd.jupyter.widget-view+json": {
       "model_id": "fb1111e41ac249f2904b5d91ad595efc",
       "version_major": 2,
       "version_minor": 0
      },
      "text/plain": [
       "Validating:   0%|          | 0/37 [00:00<?, ?it/s]"
      ]
     },
     "metadata": {},
     "output_type": "display_data"
    },
    {
     "name": "stdout",
     "output_type": "stream",
     "text": [
      "Epoch 37/100:\n",
      "  Train Loss: 0.4246, Train Acc: 0.8031\n",
      "  Val Loss: 0.4068, Val Acc: 0.8356\n",
      "  Learning Rate: 5.00e-05\n",
      "  Time: 4208.86s\n",
      "--------------------------------------------------\n",
      "Best model saved to C:\\Users\\kanan\\Desktop\\Project_TMJOA\\3D_Pipeline\\densenet121_tiny_nonrotate_augment\\densenet121_tiny_best.pth\n"
     ]
    },
    {
     "data": {
      "application/vnd.jupyter.widget-view+json": {
       "model_id": "83fb5c1fb43048eaa73e40abeaf53194",
       "version_major": 2,
       "version_minor": 0
      },
      "text/plain": [
       "Epoch 38/100:   0%|          | 0/127 [00:00<?, ?it/s]"
      ]
     },
     "metadata": {},
     "output_type": "display_data"
    },
    {
     "data": {
      "application/vnd.jupyter.widget-view+json": {
       "model_id": "8fc658cb6673469490e668401f34f6c9",
       "version_major": 2,
       "version_minor": 0
      },
      "text/plain": [
       "Validating:   0%|          | 0/37 [00:00<?, ?it/s]"
      ]
     },
     "metadata": {},
     "output_type": "display_data"
    },
    {
     "name": "stdout",
     "output_type": "stream",
     "text": [
      "Epoch 38/100:\n",
      "  Train Loss: 0.3797, Train Acc: 0.8307\n",
      "  Val Loss: 0.4420, Val Acc: 0.7808\n",
      "  Learning Rate: 5.00e-05\n",
      "  Time: 5178.64s\n",
      "--------------------------------------------------\n"
     ]
    },
    {
     "data": {
      "application/vnd.jupyter.widget-view+json": {
       "model_id": "5ab34f00f4084aefb9749dd51dcfb2d8",
       "version_major": 2,
       "version_minor": 0
      },
      "text/plain": [
       "Epoch 39/100:   0%|          | 0/127 [00:00<?, ?it/s]"
      ]
     },
     "metadata": {},
     "output_type": "display_data"
    },
    {
     "data": {
      "application/vnd.jupyter.widget-view+json": {
       "model_id": "85ea4d659b0f419a9422a0095b2ccc77",
       "version_major": 2,
       "version_minor": 0
      },
      "text/plain": [
       "Validating:   0%|          | 0/37 [00:00<?, ?it/s]"
      ]
     },
     "metadata": {},
     "output_type": "display_data"
    },
    {
     "name": "stdout",
     "output_type": "stream",
     "text": [
      "Epoch 39/100:\n",
      "  Train Loss: 0.3761, Train Acc: 0.8346\n",
      "  Val Loss: 0.6685, Val Acc: 0.6849\n",
      "  Learning Rate: 5.00e-05\n",
      "  Time: 5140.79s\n",
      "--------------------------------------------------\n"
     ]
    },
    {
     "data": {
      "application/vnd.jupyter.widget-view+json": {
       "model_id": "98e24735f7c343409284397c285b7504",
       "version_major": 2,
       "version_minor": 0
      },
      "text/plain": [
       "Epoch 40/100:   0%|          | 0/127 [00:00<?, ?it/s]"
      ]
     },
     "metadata": {},
     "output_type": "display_data"
    },
    {
     "data": {
      "application/vnd.jupyter.widget-view+json": {
       "model_id": "0a3df4f919104d1c943eb89b31f182cb",
       "version_major": 2,
       "version_minor": 0
      },
      "text/plain": [
       "Validating:   0%|          | 0/37 [00:00<?, ?it/s]"
      ]
     },
     "metadata": {},
     "output_type": "display_data"
    },
    {
     "name": "stdout",
     "output_type": "stream",
     "text": [
      "Epoch 40/100:\n",
      "  Train Loss: 0.3707, Train Acc: 0.8228\n",
      "  Val Loss: 0.4862, Val Acc: 0.7945\n",
      "  Learning Rate: 5.00e-05\n",
      "  Time: 5095.02s\n",
      "--------------------------------------------------\n"
     ]
    },
    {
     "data": {
      "application/vnd.jupyter.widget-view+json": {
       "model_id": "6f8ed30016ca42fc9367a5731653d19c",
       "version_major": 2,
       "version_minor": 0
      },
      "text/plain": [
       "Epoch 41/100:   0%|          | 0/127 [00:00<?, ?it/s]"
      ]
     },
     "metadata": {},
     "output_type": "display_data"
    },
    {
     "data": {
      "application/vnd.jupyter.widget-view+json": {
       "model_id": "880668000e194b8fb6acbf9ac95d97f7",
       "version_major": 2,
       "version_minor": 0
      },
      "text/plain": [
       "Validating:   0%|          | 0/37 [00:00<?, ?it/s]"
      ]
     },
     "metadata": {},
     "output_type": "display_data"
    },
    {
     "name": "stdout",
     "output_type": "stream",
     "text": [
      "Epoch 41/100:\n",
      "  Train Loss: 0.3960, Train Acc: 0.8150\n",
      "  Val Loss: 0.4677, Val Acc: 0.8219\n",
      "  Learning Rate: 5.00e-05\n",
      "  Time: 5153.08s\n",
      "--------------------------------------------------\n"
     ]
    },
    {
     "data": {
      "application/vnd.jupyter.widget-view+json": {
       "model_id": "77aa730c00654056aed373621ef27914",
       "version_major": 2,
       "version_minor": 0
      },
      "text/plain": [
       "Epoch 42/100:   0%|          | 0/127 [00:00<?, ?it/s]"
      ]
     },
     "metadata": {},
     "output_type": "display_data"
    },
    {
     "data": {
      "application/vnd.jupyter.widget-view+json": {
       "model_id": "c63313b744b04a729a987f1f306592a1",
       "version_major": 2,
       "version_minor": 0
      },
      "text/plain": [
       "Validating:   0%|          | 0/37 [00:00<?, ?it/s]"
      ]
     },
     "metadata": {},
     "output_type": "display_data"
    },
    {
     "name": "stdout",
     "output_type": "stream",
     "text": [
      "Epoch 42/100:\n",
      "  Train Loss: 0.3914, Train Acc: 0.8031\n",
      "  Val Loss: 0.4930, Val Acc: 0.7945\n",
      "  Learning Rate: 5.00e-05\n",
      "  Time: 5059.43s\n",
      "--------------------------------------------------\n"
     ]
    },
    {
     "data": {
      "application/vnd.jupyter.widget-view+json": {
       "model_id": "64c532b8ab434a1e8aef513aa0493931",
       "version_major": 2,
       "version_minor": 0
      },
      "text/plain": [
       "Epoch 43/100:   0%|          | 0/127 [00:00<?, ?it/s]"
      ]
     },
     "metadata": {},
     "output_type": "display_data"
    },
    {
     "data": {
      "application/vnd.jupyter.widget-view+json": {
       "model_id": "14b7d2219d274accb39c3e2df8e07cff",
       "version_major": 2,
       "version_minor": 0
      },
      "text/plain": [
       "Validating:   0%|          | 0/37 [00:00<?, ?it/s]"
      ]
     },
     "metadata": {},
     "output_type": "display_data"
    },
    {
     "name": "stdout",
     "output_type": "stream",
     "text": [
      "Epoch 43/100:\n",
      "  Train Loss: 0.3685, Train Acc: 0.8150\n",
      "  Val Loss: 0.4593, Val Acc: 0.8082\n",
      "  Learning Rate: 5.00e-05\n",
      "  Time: 5195.87s\n",
      "--------------------------------------------------\n"
     ]
    },
    {
     "data": {
      "application/vnd.jupyter.widget-view+json": {
       "model_id": "143bee37f1c54ff4ac3c242a9e5a5d51",
       "version_major": 2,
       "version_minor": 0
      },
      "text/plain": [
       "Epoch 44/100:   0%|          | 0/127 [00:00<?, ?it/s]"
      ]
     },
     "metadata": {},
     "output_type": "display_data"
    },
    {
     "data": {
      "application/vnd.jupyter.widget-view+json": {
       "model_id": "50192f3ec7864ae683e8cf6b1f43d864",
       "version_major": 2,
       "version_minor": 0
      },
      "text/plain": [
       "Validating:   0%|          | 0/37 [00:00<?, ?it/s]"
      ]
     },
     "metadata": {},
     "output_type": "display_data"
    },
    {
     "name": "stdout",
     "output_type": "stream",
     "text": [
      "Epoch 44/100:\n",
      "  Train Loss: 0.3695, Train Acc: 0.8465\n",
      "  Val Loss: 0.4114, Val Acc: 0.7945\n",
      "  Learning Rate: 2.50e-05\n",
      "  Time: 5061.82s\n",
      "--------------------------------------------------\n"
     ]
    },
    {
     "data": {
      "application/vnd.jupyter.widget-view+json": {
       "model_id": "6048f8f2c7324c048b7b2eb2db613191",
       "version_major": 2,
       "version_minor": 0
      },
      "text/plain": [
       "Epoch 45/100:   0%|          | 0/127 [00:00<?, ?it/s]"
      ]
     },
     "metadata": {},
     "output_type": "display_data"
    },
    {
     "data": {
      "application/vnd.jupyter.widget-view+json": {
       "model_id": "3ed9adbb9d844580bb6091f3578981ec",
       "version_major": 2,
       "version_minor": 0
      },
      "text/plain": [
       "Validating:   0%|          | 0/37 [00:00<?, ?it/s]"
      ]
     },
     "metadata": {},
     "output_type": "display_data"
    },
    {
     "name": "stdout",
     "output_type": "stream",
     "text": [
      "Epoch 45/100:\n",
      "  Train Loss: 0.3413, Train Acc: 0.8543\n",
      "  Val Loss: 0.4343, Val Acc: 0.7671\n",
      "  Learning Rate: 2.50e-05\n",
      "  Time: 5165.50s\n",
      "--------------------------------------------------\n"
     ]
    },
    {
     "data": {
      "application/vnd.jupyter.widget-view+json": {
       "model_id": "261157201a514feebbec9dc320151dff",
       "version_major": 2,
       "version_minor": 0
      },
      "text/plain": [
       "Epoch 46/100:   0%|          | 0/127 [00:00<?, ?it/s]"
      ]
     },
     "metadata": {},
     "output_type": "display_data"
    },
    {
     "data": {
      "application/vnd.jupyter.widget-view+json": {
       "model_id": "3e0670e4619e454ebde0408123a74b27",
       "version_major": 2,
       "version_minor": 0
      },
      "text/plain": [
       "Validating:   0%|          | 0/37 [00:00<?, ?it/s]"
      ]
     },
     "metadata": {},
     "output_type": "display_data"
    },
    {
     "name": "stdout",
     "output_type": "stream",
     "text": [
      "Epoch 46/100:\n",
      "  Train Loss: 0.3159, Train Acc: 0.8740\n",
      "  Val Loss: 0.4946, Val Acc: 0.8219\n",
      "  Learning Rate: 2.50e-05\n",
      "  Time: 5108.53s\n",
      "--------------------------------------------------\n"
     ]
    },
    {
     "data": {
      "application/vnd.jupyter.widget-view+json": {
       "model_id": "bba7fad8c05d46e28631e793ba7add07",
       "version_major": 2,
       "version_minor": 0
      },
      "text/plain": [
       "Epoch 47/100:   0%|          | 0/127 [00:00<?, ?it/s]"
      ]
     },
     "metadata": {},
     "output_type": "display_data"
    },
    {
     "data": {
      "application/vnd.jupyter.widget-view+json": {
       "model_id": "42d7e0c121ff41b5b2311f8d2a675a76",
       "version_major": 2,
       "version_minor": 0
      },
      "text/plain": [
       "Validating:   0%|          | 0/37 [00:00<?, ?it/s]"
      ]
     },
     "metadata": {},
     "output_type": "display_data"
    },
    {
     "name": "stdout",
     "output_type": "stream",
     "text": [
      "Epoch 47/100:\n",
      "  Train Loss: 0.3057, Train Acc: 0.8740\n",
      "  Val Loss: 0.4315, Val Acc: 0.7534\n",
      "  Learning Rate: 2.50e-05\n",
      "  Time: 5231.98s\n",
      "--------------------------------------------------\n"
     ]
    },
    {
     "data": {
      "application/vnd.jupyter.widget-view+json": {
       "model_id": "22a3387f8afc4bc39e6c2c9c95d177ed",
       "version_major": 2,
       "version_minor": 0
      },
      "text/plain": [
       "Epoch 48/100:   0%|          | 0/127 [00:00<?, ?it/s]"
      ]
     },
     "metadata": {},
     "output_type": "display_data"
    },
    {
     "data": {
      "application/vnd.jupyter.widget-view+json": {
       "model_id": "136862b70ddc4b019ef05fcddc434023",
       "version_major": 2,
       "version_minor": 0
      },
      "text/plain": [
       "Validating:   0%|          | 0/37 [00:00<?, ?it/s]"
      ]
     },
     "metadata": {},
     "output_type": "display_data"
    },
    {
     "name": "stdout",
     "output_type": "stream",
     "text": [
      "Epoch 48/100:\n",
      "  Train Loss: 0.3153, Train Acc: 0.8780\n",
      "  Val Loss: 0.4116, Val Acc: 0.8493\n",
      "  Learning Rate: 2.50e-05\n",
      "  Time: 5063.77s\n",
      "--------------------------------------------------\n"
     ]
    },
    {
     "data": {
      "application/vnd.jupyter.widget-view+json": {
       "model_id": "67a56c1e2d6c43eba050c2df0c59f2c4",
       "version_major": 2,
       "version_minor": 0
      },
      "text/plain": [
       "Epoch 49/100:   0%|          | 0/127 [00:00<?, ?it/s]"
      ]
     },
     "metadata": {},
     "output_type": "display_data"
    },
    {
     "data": {
      "application/vnd.jupyter.widget-view+json": {
       "model_id": "d5e21b8ca1df4496b350ff70b14670d3",
       "version_major": 2,
       "version_minor": 0
      },
      "text/plain": [
       "Validating:   0%|          | 0/37 [00:00<?, ?it/s]"
      ]
     },
     "metadata": {},
     "output_type": "display_data"
    },
    {
     "name": "stdout",
     "output_type": "stream",
     "text": [
      "Epoch 49/100:\n",
      "  Train Loss: 0.3167, Train Acc: 0.8780\n",
      "  Val Loss: 0.4331, Val Acc: 0.7671\n",
      "  Learning Rate: 2.50e-05\n",
      "  Time: 5163.94s\n",
      "--------------------------------------------------\n"
     ]
    },
    {
     "data": {
      "application/vnd.jupyter.widget-view+json": {
       "model_id": "89e3e7fbe30b442f873018a1c95999ee",
       "version_major": 2,
       "version_minor": 0
      },
      "text/plain": [
       "Epoch 50/100:   0%|          | 0/127 [00:00<?, ?it/s]"
      ]
     },
     "metadata": {},
     "output_type": "display_data"
    },
    {
     "data": {
      "application/vnd.jupyter.widget-view+json": {
       "model_id": "5cef7aabde36412b8784f7424acf3b9b",
       "version_major": 2,
       "version_minor": 0
      },
      "text/plain": [
       "Validating:   0%|          | 0/37 [00:00<?, ?it/s]"
      ]
     },
     "metadata": {},
     "output_type": "display_data"
    },
    {
     "name": "stdout",
     "output_type": "stream",
     "text": [
      "Epoch 50/100:\n",
      "  Train Loss: 0.3050, Train Acc: 0.8622\n",
      "  Val Loss: 0.4351, Val Acc: 0.7671\n",
      "  Learning Rate: 1.25e-05\n",
      "  Time: 5161.47s\n",
      "--------------------------------------------------\n"
     ]
    },
    {
     "data": {
      "application/vnd.jupyter.widget-view+json": {
       "model_id": "2cfacd5f5ace4977a27b42d699f98f82",
       "version_major": 2,
       "version_minor": 0
      },
      "text/plain": [
       "Epoch 51/100:   0%|          | 0/127 [00:00<?, ?it/s]"
      ]
     },
     "metadata": {},
     "output_type": "display_data"
    },
    {
     "data": {
      "application/vnd.jupyter.widget-view+json": {
       "model_id": "8735ecace60d4a66be8620f2ff163cd9",
       "version_major": 2,
       "version_minor": 0
      },
      "text/plain": [
       "Validating:   0%|          | 0/37 [00:00<?, ?it/s]"
      ]
     },
     "metadata": {},
     "output_type": "display_data"
    },
    {
     "name": "stdout",
     "output_type": "stream",
     "text": [
      "Epoch 51/100:\n",
      "  Train Loss: 0.3118, Train Acc: 0.8740\n",
      "  Val Loss: 0.4128, Val Acc: 0.8219\n",
      "  Learning Rate: 1.25e-05\n",
      "  Time: 5171.56s\n",
      "--------------------------------------------------\n"
     ]
    },
    {
     "data": {
      "application/vnd.jupyter.widget-view+json": {
       "model_id": "9fda096357be41b9bf00b75c512f3b22",
       "version_major": 2,
       "version_minor": 0
      },
      "text/plain": [
       "Epoch 52/100:   0%|          | 0/127 [00:00<?, ?it/s]"
      ]
     },
     "metadata": {},
     "output_type": "display_data"
    },
    {
     "data": {
      "application/vnd.jupyter.widget-view+json": {
       "model_id": "3a71c53ea6fb4ef88dd03fc0f9f2655c",
       "version_major": 2,
       "version_minor": 0
      },
      "text/plain": [
       "Validating:   0%|          | 0/37 [00:00<?, ?it/s]"
      ]
     },
     "metadata": {},
     "output_type": "display_data"
    },
    {
     "name": "stdout",
     "output_type": "stream",
     "text": [
      "Epoch 52/100:\n",
      "  Train Loss: 0.2666, Train Acc: 0.9016\n",
      "  Val Loss: 0.4070, Val Acc: 0.8219\n",
      "  Learning Rate: 1.25e-05\n",
      "  Time: 5150.80s\n",
      "--------------------------------------------------\n"
     ]
    },
    {
     "data": {
      "application/vnd.jupyter.widget-view+json": {
       "model_id": "37667abc29964c37905f92a5fc9a653f",
       "version_major": 2,
       "version_minor": 0
      },
      "text/plain": [
       "Epoch 53/100:   0%|          | 0/127 [00:00<?, ?it/s]"
      ]
     },
     "metadata": {},
     "output_type": "display_data"
    },
    {
     "data": {
      "application/vnd.jupyter.widget-view+json": {
       "model_id": "7a4b1a14f0cf426ebd6aa6564b9ac39a",
       "version_major": 2,
       "version_minor": 0
      },
      "text/plain": [
       "Validating:   0%|          | 0/37 [00:00<?, ?it/s]"
      ]
     },
     "metadata": {},
     "output_type": "display_data"
    },
    {
     "name": "stdout",
     "output_type": "stream",
     "text": [
      "Epoch 53/100:\n",
      "  Train Loss: 0.2392, Train Acc: 0.9134\n",
      "  Val Loss: 1.3217, Val Acc: 0.5068\n",
      "  Learning Rate: 1.25e-05\n",
      "  Time: 5178.38s\n",
      "--------------------------------------------------\n"
     ]
    },
    {
     "data": {
      "application/vnd.jupyter.widget-view+json": {
       "model_id": "5a8bea222bbe4b379a808592f9d80fbf",
       "version_major": 2,
       "version_minor": 0
      },
      "text/plain": [
       "Epoch 54/100:   0%|          | 0/127 [00:00<?, ?it/s]"
      ]
     },
     "metadata": {},
     "output_type": "display_data"
    },
    {
     "data": {
      "application/vnd.jupyter.widget-view+json": {
       "model_id": "d6bc5aec638c4875b6dedc36393a261a",
       "version_major": 2,
       "version_minor": 0
      },
      "text/plain": [
       "Validating:   0%|          | 0/37 [00:00<?, ?it/s]"
      ]
     },
     "metadata": {},
     "output_type": "display_data"
    },
    {
     "name": "stdout",
     "output_type": "stream",
     "text": [
      "Epoch 54/100:\n",
      "  Train Loss: 0.2765, Train Acc: 0.8976\n",
      "  Val Loss: 0.4404, Val Acc: 0.8219\n",
      "  Learning Rate: 1.25e-05\n",
      "  Time: 5115.20s\n",
      "--------------------------------------------------\n"
     ]
    },
    {
     "data": {
      "application/vnd.jupyter.widget-view+json": {
       "model_id": "8c113664d6d14851bd10c67eb42a127f",
       "version_major": 2,
       "version_minor": 0
      },
      "text/plain": [
       "Epoch 55/100:   0%|          | 0/127 [00:00<?, ?it/s]"
      ]
     },
     "metadata": {},
     "output_type": "display_data"
    },
    {
     "data": {
      "application/vnd.jupyter.widget-view+json": {
       "model_id": "01e905e9c09a4bd28544e7504936e894",
       "version_major": 2,
       "version_minor": 0
      },
      "text/plain": [
       "Validating:   0%|          | 0/37 [00:00<?, ?it/s]"
      ]
     },
     "metadata": {},
     "output_type": "display_data"
    },
    {
     "name": "stdout",
     "output_type": "stream",
     "text": [
      "Epoch 55/100:\n",
      "  Train Loss: 0.2494, Train Acc: 0.9252\n",
      "  Val Loss: 0.5308, Val Acc: 0.8082\n",
      "  Learning Rate: 1.25e-05\n",
      "  Time: 5097.25s\n",
      "--------------------------------------------------\n"
     ]
    },
    {
     "data": {
      "application/vnd.jupyter.widget-view+json": {
       "model_id": "e02d39cc126445a8991114844ac133ac",
       "version_major": 2,
       "version_minor": 0
      },
      "text/plain": [
       "Epoch 56/100:   0%|          | 0/127 [00:00<?, ?it/s]"
      ]
     },
     "metadata": {},
     "output_type": "display_data"
    },
    {
     "data": {
      "application/vnd.jupyter.widget-view+json": {
       "model_id": "6085127257a8470bbb5151bb1e2b8175",
       "version_major": 2,
       "version_minor": 0
      },
      "text/plain": [
       "Validating:   0%|          | 0/37 [00:00<?, ?it/s]"
      ]
     },
     "metadata": {},
     "output_type": "display_data"
    },
    {
     "name": "stdout",
     "output_type": "stream",
     "text": [
      "Epoch 56/100:\n",
      "  Train Loss: 0.2361, Train Acc: 0.9134\n",
      "  Val Loss: 0.4774, Val Acc: 0.8082\n",
      "  Learning Rate: 6.25e-06\n",
      "  Time: 5070.26s\n",
      "--------------------------------------------------\n"
     ]
    },
    {
     "data": {
      "application/vnd.jupyter.widget-view+json": {
       "model_id": "2bdf92645be34cdbbacd2c8b555d1b95",
       "version_major": 2,
       "version_minor": 0
      },
      "text/plain": [
       "Epoch 57/100:   0%|          | 0/127 [00:00<?, ?it/s]"
      ]
     },
     "metadata": {},
     "output_type": "display_data"
    },
    {
     "data": {
      "application/vnd.jupyter.widget-view+json": {
       "model_id": "059845913e614f5480b77784f0b086bb",
       "version_major": 2,
       "version_minor": 0
      },
      "text/plain": [
       "Validating:   0%|          | 0/37 [00:00<?, ?it/s]"
      ]
     },
     "metadata": {},
     "output_type": "display_data"
    },
    {
     "name": "stdout",
     "output_type": "stream",
     "text": [
      "Epoch 57/100:\n",
      "  Train Loss: 0.2547, Train Acc: 0.9173\n",
      "  Val Loss: 0.4441, Val Acc: 0.8356\n",
      "  Learning Rate: 6.25e-06\n",
      "  Time: 5077.68s\n",
      "--------------------------------------------------\n"
     ]
    },
    {
     "data": {
      "application/vnd.jupyter.widget-view+json": {
       "model_id": "77b91c06de2b433f9c50708b823fef93",
       "version_major": 2,
       "version_minor": 0
      },
      "text/plain": [
       "Epoch 58/100:   0%|          | 0/127 [00:00<?, ?it/s]"
      ]
     },
     "metadata": {},
     "output_type": "display_data"
    },
    {
     "data": {
      "application/vnd.jupyter.widget-view+json": {
       "model_id": "4c0bdbf506634aa3b504c331e62b810b",
       "version_major": 2,
       "version_minor": 0
      },
      "text/plain": [
       "Validating:   0%|          | 0/37 [00:00<?, ?it/s]"
      ]
     },
     "metadata": {},
     "output_type": "display_data"
    },
    {
     "name": "stdout",
     "output_type": "stream",
     "text": [
      "Epoch 58/100:\n",
      "  Train Loss: 0.2378, Train Acc: 0.9094\n",
      "  Val Loss: 0.7476, Val Acc: 0.7123\n",
      "  Learning Rate: 6.25e-06\n",
      "  Time: 4987.78s\n",
      "--------------------------------------------------\n"
     ]
    },
    {
     "data": {
      "application/vnd.jupyter.widget-view+json": {
       "model_id": "1789a0cf2dbb4265b8ab79cf34ddfa01",
       "version_major": 2,
       "version_minor": 0
      },
      "text/plain": [
       "Epoch 59/100:   0%|          | 0/127 [00:00<?, ?it/s]"
      ]
     },
     "metadata": {},
     "output_type": "display_data"
    },
    {
     "data": {
      "application/vnd.jupyter.widget-view+json": {
       "model_id": "d9e3c3809bb943c08fbed646d7d99d9c",
       "version_major": 2,
       "version_minor": 0
      },
      "text/plain": [
       "Validating:   0%|          | 0/37 [00:00<?, ?it/s]"
      ]
     },
     "metadata": {},
     "output_type": "display_data"
    },
    {
     "name": "stdout",
     "output_type": "stream",
     "text": [
      "Epoch 59/100:\n",
      "  Train Loss: 0.2104, Train Acc: 0.9213\n",
      "  Val Loss: 0.4237, Val Acc: 0.7671\n",
      "  Learning Rate: 6.25e-06\n",
      "  Time: 5107.53s\n",
      "--------------------------------------------------\n"
     ]
    },
    {
     "data": {
      "application/vnd.jupyter.widget-view+json": {
       "model_id": "d59ad1e671324e5389fa24bbf6aee877",
       "version_major": 2,
       "version_minor": 0
      },
      "text/plain": [
       "Epoch 60/100:   0%|          | 0/127 [00:00<?, ?it/s]"
      ]
     },
     "metadata": {},
     "output_type": "display_data"
    },
    {
     "data": {
      "application/vnd.jupyter.widget-view+json": {
       "model_id": "c19226a6c512479b9ec7d73d87008752",
       "version_major": 2,
       "version_minor": 0
      },
      "text/plain": [
       "Validating:   0%|          | 0/37 [00:00<?, ?it/s]"
      ]
     },
     "metadata": {},
     "output_type": "display_data"
    },
    {
     "name": "stdout",
     "output_type": "stream",
     "text": [
      "Epoch 60/100:\n",
      "  Train Loss: 0.2226, Train Acc: 0.9331\n",
      "  Val Loss: 1.1292, Val Acc: 0.6438\n",
      "  Learning Rate: 6.25e-06\n",
      "  Time: 4931.17s\n",
      "--------------------------------------------------\n"
     ]
    },
    {
     "data": {
      "application/vnd.jupyter.widget-view+json": {
       "model_id": "11de32a1349d43669a2a77d9d8cb3056",
       "version_major": 2,
       "version_minor": 0
      },
      "text/plain": [
       "Epoch 61/100:   0%|          | 0/127 [00:00<?, ?it/s]"
      ]
     },
     "metadata": {},
     "output_type": "display_data"
    },
    {
     "data": {
      "application/vnd.jupyter.widget-view+json": {
       "model_id": "b7a1c0c29ba8427baa7e2762ad4ef934",
       "version_major": 2,
       "version_minor": 0
      },
      "text/plain": [
       "Validating:   0%|          | 0/37 [00:00<?, ?it/s]"
      ]
     },
     "metadata": {},
     "output_type": "display_data"
    },
    {
     "name": "stdout",
     "output_type": "stream",
     "text": [
      "Epoch 61/100:\n",
      "  Train Loss: 0.2642, Train Acc: 0.8937\n",
      "  Val Loss: 0.4674, Val Acc: 0.7945\n",
      "  Learning Rate: 6.25e-06\n",
      "  Time: 5208.35s\n",
      "--------------------------------------------------\n"
     ]
    },
    {
     "data": {
      "application/vnd.jupyter.widget-view+json": {
       "model_id": "58559b64e370426391b5913cba2b92f1",
       "version_major": 2,
       "version_minor": 0
      },
      "text/plain": [
       "Epoch 62/100:   0%|          | 0/127 [00:00<?, ?it/s]"
      ]
     },
     "metadata": {},
     "output_type": "display_data"
    },
    {
     "data": {
      "application/vnd.jupyter.widget-view+json": {
       "model_id": "3de97f80ab654f5d927ae92fee4fdee3",
       "version_major": 2,
       "version_minor": 0
      },
      "text/plain": [
       "Validating:   0%|          | 0/37 [00:00<?, ?it/s]"
      ]
     },
     "metadata": {},
     "output_type": "display_data"
    },
    {
     "name": "stdout",
     "output_type": "stream",
     "text": [
      "Epoch 62/100:\n",
      "  Train Loss: 0.2201, Train Acc: 0.9213\n",
      "  Val Loss: 0.4441, Val Acc: 0.7808\n",
      "  Learning Rate: 3.13e-06\n",
      "  Time: 5168.83s\n",
      "--------------------------------------------------\n",
      "Early stopping triggered after 62 epochs\n"
     ]
    }
   ],
   "source": [
    "trained_model, history = train_model(model, train_loader, val_loader, config)"
   ]
  }
 ],
 "metadata": {
  "kernelspec": {
   "display_name": "3dmodel_torch",
   "language": "python",
   "name": "python3"
  },
  "language_info": {
   "codemirror_mode": {
    "name": "ipython",
    "version": 3
   },
   "file_extension": ".py",
   "mimetype": "text/x-python",
   "name": "python",
   "nbconvert_exporter": "python",
   "pygments_lexer": "ipython3",
   "version": "3.12.4"
  }
 },
 "nbformat": 4,
 "nbformat_minor": 5
}
