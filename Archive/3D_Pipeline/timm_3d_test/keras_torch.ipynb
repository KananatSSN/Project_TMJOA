{
 "cells": [
  {
   "cell_type": "code",
   "execution_count": 1,
   "id": "d2e3e02e",
   "metadata": {},
   "outputs": [],
   "source": [
    "import torch\n",
    "\n",
    "import os\n",
    "import numpy as np\n",
    "import keras\n",
    "from keras import layers\n",
    "from keras import ops\n",
    "\n",
    "os.environ[\"KERAS_BACKEND\"] = \"torch\""
   ]
  },
  {
   "cell_type": "code",
   "execution_count": 2,
   "id": "b4718a65",
   "metadata": {},
   "outputs": [],
   "source": [
    "import timm_3d\n",
    "from torchinfo import summary\n",
    "\n",
    "model = timm_3d.create_model(\n",
    "    'resnet18.a1_in1k',\n",
    "    pretrained=False,\n",
    "    num_classes=2\n",
    ")"
   ]
  }
 ],
 "metadata": {
  "kernelspec": {
   "display_name": "3dmodel",
   "language": "python",
   "name": "python3"
  },
  "language_info": {
   "codemirror_mode": {
    "name": "ipython",
    "version": 3
   },
   "file_extension": ".py",
   "mimetype": "text/x-python",
   "name": "python",
   "nbconvert_exporter": "python",
   "pygments_lexer": "ipython3",
   "version": "3.12.4"
  }
 },
 "nbformat": 4,
 "nbformat_minor": 5
}
