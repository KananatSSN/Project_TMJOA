{
 "cells": [
  {
   "cell_type": "code",
   "execution_count": null,
   "metadata": {},
   "outputs": [],
   "source": [
    "import nibabel as nib\n",
    "import os\n",
    "import numpy as np"
   ]
  },
  {
   "cell_type": "code",
   "execution_count": null,
   "metadata": {},
   "outputs": [],
   "source": [
    "def filter_slices(image, axis, background_value):\n",
    "    \"\"\"\n",
    "    Filters out slices that are entirely background along a specific axis.\n",
    "    \"\"\"\n",
    "    non_background_slices = []\n",
    "    for i in range(image.shape[axis]):\n",
    "        if axis == 0:\n",
    "            slice_2d = image[i, :, :]\n",
    "        elif axis == 1:\n",
    "            slice_2d = image[:, i, :]\n",
    "        elif axis == 2:\n",
    "            slice_2d = image[:, :, i]\n",
    "        \n",
    "        if not np.all(slice_2d <= background_value):\n",
    "            non_background_slices.append(i)\n",
    "    \n",
    "    if axis == 0:\n",
    "        filtered_image = image[non_background_slices, :, :]\n",
    "    elif axis == 1:\n",
    "        filtered_image = image[:, non_background_slices, :]\n",
    "    elif axis == 2:\n",
    "        filtered_image = image[:, :, non_background_slices]\n",
    "    \n",
    "    return filtered_image"
   ]
  },
  {
   "cell_type": "code",
   "execution_count": null,
   "metadata": {},
   "outputs": [],
   "source": [
    "def filter_vol(input_path, background_value , output_folder):\n",
    "    img = nib.load(input_path)\n",
    "    vol = img.get_fdata()\n",
    "    \n",
    "    filtered_image = filter_slices(vol, 0, background_value)\n",
    "    filtered_image = filter_slices(filtered_image, 1, background_value)\n",
    "    filtered_image = filter_slices(filtered_image, 2, background_value)\n",
    "\n",
    "    print(f\"Original shape : {vol.shape}, Squeezed shape : {filtered_image.shape}\")\n",
    "\n",
    "    result_img = nib.Nifti1Image(filtered_image, img.affine, img.header)\n",
    "\n",
    "    output_name = os.path.basename(input_path)\n",
    "    output_name = os.path.splitext(output_name)[0]\n",
    "    output_name = os.path.splitext(output_name)[0]\n",
    "    output_name = f\"{output_name}_squeezed.nii.gz\"\n",
    "    output_path = os.path.join(output_folder,output_name)\n",
    "    nib.save(result_img, output_path)"
   ]
  },
  {
   "cell_type": "code",
   "execution_count": null,
   "metadata": {},
   "outputs": [],
   "source": [
    "input_folder = r\"C:\\Users\\acer\\Desktop\\Data_0\\Nii_masked\"\n",
    "output_folder = r\"C:\\Users\\acer\\Desktop\\Data_0\\Nii_masked\\Squeezed\"\n",
    "\n",
    "nii_count = len([filename for filename in os.listdir(input_folder) if filename.endswith('.nii.gz')])\n",
    "print(f\"There are {nii_count} .nii files in the {input_folder}\")\n",
    "\n",
    "progress_count = 0\n",
    "\n",
    "files = sorted(os.listdir(input_folder))\n",
    "\n",
    "for filename in files :\n",
    "    if filename.endswith('.nii.gz'):\n",
    "        progress_count += 1\n",
    "        print(f\"[Processing {progress_count} out of {nii_count}]\")\n",
    "\n",
    "        input_path = os.path.join(input_folder, filename)\n",
    "        background_value = -3900\n",
    "\n",
    "        if os.path.exists(input_path) :\n",
    "            filter_vol(input_path, background_value , output_folder) # Put function here\n",
    "        else:\n",
    "            vol_exist = os.path.exists(input_path)\n",
    "            print(f\"Error : vol {vol_exist}\")\n",
    "\n",
    "print(\"Done\")"
   ]
  },
  {
   "cell_type": "markdown",
   "metadata": {},
   "source": [
    "This part is just to show sample result"
   ]
  },
  {
   "cell_type": "code",
   "execution_count": null,
   "metadata": {},
   "outputs": [],
   "source": [
    "import nibabel as nib\n",
    "from matplotlib import pyplot as plt\n",
    "import numpy as np\n",
    "\n",
    "origin_path = r\"C:\\Users\\acer\\Desktop\\Data_Prep_2\\imagesTr\\5450_2016_02_26_L_masked.nii.gz\"\n",
    "origin_img = nib.load(origin_path)\n",
    "origin_vol = origin_img.get_fdata()\n",
    "\n",
    "squeezed_path = r\"C:\\Users\\acer\\Desktop\\Data_Prep_2\\imagesTr\\Cropped\\5450_2016_02_26_L_masked_cropped.nii.gz\"\n",
    "squeezed_img = nib.load(squeezed_path)\n",
    "squeezed_vol = squeezed_img.get_fdata()\n",
    "\n",
    "print(f\"Origin shape : {origin_vol.shape}, Sqeezed shape : {squeezed_vol.shape}\")\n",
    "\n",
    "origin_slice_number = 260\n",
    "squeezed_slice_number = 132\n",
    "\n",
    "origin_slice = origin_vol[:,:,origin_slice_number]\n",
    "squeezed_slice = squeezed_vol[:,:,squeezed_slice_number]\n",
    "\n",
    "#display result\n",
    "f, axarr = plt.subplots(1,2)\n",
    "axarr[0].set_title(\"Input\")\n",
    "axarr[0].imshow(origin_slice, cmap = 'grey')\n",
    "axarr[1].set_title(\"Output\")\n",
    "axarr[1].imshow(squeezed_slice, cmap = 'grey')"
   ]
  }
 ],
 "metadata": {
  "kernelspec": {
   "display_name": "Python 3",
   "language": "python",
   "name": "python3"
  },
  "language_info": {
   "codemirror_mode": {
    "name": "ipython",
    "version": 3
   },
   "file_extension": ".py",
   "mimetype": "text/x-python",
   "name": "python",
   "nbconvert_exporter": "python",
   "pygments_lexer": "ipython3",
   "version": "3.11.4"
  }
 },
 "nbformat": 4,
 "nbformat_minor": 2
}
