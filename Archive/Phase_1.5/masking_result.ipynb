{
 "cells": [
  {
   "cell_type": "code",
   "execution_count": null,
   "metadata": {},
   "outputs": [],
   "source": [
    "import nibabel as nib\n",
    "from matplotlib import pyplot as plt\n",
    "import numpy as np"
   ]
  },
  {
   "cell_type": "code",
   "execution_count": null,
   "metadata": {},
   "outputs": [],
   "source": [
    "origin_path = r\"C:\\Users\\acer\\Desktop\\Data_Prep_1\\imagesTr\\5450_2016_02_26_L.nii\"\n",
    "origin_img = nib.load(origin_path)\n",
    "origin_vol = origin_img.get_fdata()\n",
    "\n",
    "segment_path = r\"C:\\Users\\acer\\Desktop\\Data_Prep_1\\labelsTr\\Output\\5450_2016_02_26_L_segmented_filled.nii.gz\"\n",
    "segment_img = nib.load(segment_path)\n",
    "segment_vol = segment_img.get_fdata()\n",
    "\n",
    "mask_path = r\"C:\\Users\\acer\\Desktop\\Data_Prep_2\\imagesTr\\5450_2016_02_26_L_masked.nii.gz\"\n",
    "mask_img = nib.load(mask_path)\n",
    "mask_vol = mask_img.get_fdata()\n",
    "\n",
    "slice_number = 260\n",
    "\n",
    "origin_slice = origin_vol[:,:,slice_number]\n",
    "segment_slice = segment_vol[:,:,slice_number]\n",
    "mask_slice = mask_vol[:,:,slice_number]\n",
    "\n",
    "#display result\n",
    "f, axarr = plt.subplots(1,3)\n",
    "axarr[0].set_title(\"Original slice\")\n",
    "axarr[0].imshow(origin_slice, cmap = 'grey')\n",
    "axarr[1].set_title(\"Edited segmentation\")\n",
    "axarr[1].imshow(segment_slice, cmap = 'grey')\n",
    "axarr[2].set_title(\"Masked slice\")\n",
    "axarr[2].imshow(mask_slice, cmap = 'grey')"
   ]
  }
 ],
 "metadata": {
  "kernelspec": {
   "display_name": "Python 3",
   "language": "python",
   "name": "python3"
  },
  "language_info": {
   "codemirror_mode": {
    "name": "ipython",
    "version": 3
   },
   "file_extension": ".py",
   "mimetype": "text/x-python",
   "name": "python",
   "nbconvert_exporter": "python",
   "pygments_lexer": "ipython3",
   "version": "3.11.4"
  }
 },
 "nbformat": 4,
 "nbformat_minor": 2
}
