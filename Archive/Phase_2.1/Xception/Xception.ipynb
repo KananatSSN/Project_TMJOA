{
 "cells": [
  {
   "cell_type": "code",
   "execution_count": 1,
   "metadata": {},
   "outputs": [
    {
     "name": "stdout",
     "output_type": "stream",
     "text": [
      "2.9.0 1.26.4\n"
     ]
    }
   ],
   "source": [
    "import os\n",
    "import numpy as np\n",
    "\n",
    "import tensorflow as tf\n",
    "from tensorflow import keras\n",
    "\n",
    "print(tf.__version__, np.__version__)\n",
    "\n",
    "# Expected output 2.9.0, 1.26.4"
   ]
  },
  {
   "cell_type": "markdown",
   "metadata": {},
   "source": [
    "## Detect GPU and limit GPU memory usage if exist"
   ]
  },
  {
   "cell_type": "code",
   "execution_count": 2,
   "metadata": {},
   "outputs": [],
   "source": [
    "USE_GPU = True"
   ]
  },
  {
   "cell_type": "code",
   "execution_count": 3,
   "metadata": {},
   "outputs": [
    {
     "name": "stdout",
     "output_type": "stream",
     "text": [
      "[PhysicalDevice(name='/physical_device:GPU:0', device_type='GPU')]\n"
     ]
    }
   ],
   "source": [
    "gpus = tf.config.experimental.list_physical_devices('GPU')\n",
    "\n",
    "if gpus != []:\n",
    "    print(gpus)\n",
    "    for gpu in gpus: \n",
    "        tf.config.experimental.set_memory_growth(gpu, True)\n",
    "else:\n",
    "    print(\"No GPU on this machine\")\n",
    "\n",
    "# Expected output [PhysicalDevice(name='/physical_device:GPU:0', device_type='GPU')]"
   ]
  },
  {
   "cell_type": "code",
   "execution_count": 4,
   "metadata": {},
   "outputs": [],
   "source": [
    "if USE_GPU == False:\n",
    "    os.environ['CUDA_VISIBLE_DEVICES'] = '-1'"
   ]
  },
  {
   "cell_type": "code",
   "execution_count": 5,
   "metadata": {},
   "outputs": [
    {
     "name": "stdout",
     "output_type": "stream",
     "text": [
      "GPU found\n"
     ]
    }
   ],
   "source": [
    "if tf.test.gpu_device_name():\n",
    "    print('GPU found')\n",
    "else:\n",
    "    print(\"No GPU found\")"
   ]
  },
  {
   "cell_type": "markdown",
   "metadata": {},
   "source": [
    "# Model selector"
   ]
  },
  {
   "cell_type": "code",
   "execution_count": 6,
   "metadata": {},
   "outputs": [
    {
     "name": "stdout",
     "output_type": "stream",
     "text": [
      "Downloading data from https://storage.googleapis.com/tensorflow/keras-applications/xception/xception_weights_tf_dim_ordering_tf_kernels_notop.h5\n",
      "83683744/83683744 [==============================] - 5s 0us/step\n"
     ]
    }
   ],
   "source": [
    "INPUT_SHAPE = (224,224,3)\n",
    "base_model = tf.keras.applications.Xception(input_shape=INPUT_SHAPE, include_top=False, weights='imagenet')\n",
    "model_name = \"Xception\""
   ]
  },
  {
   "cell_type": "markdown",
   "metadata": {},
   "source": [
    "# Load data"
   ]
  },
  {
   "cell_type": "code",
   "execution_count": 7,
   "metadata": {},
   "outputs": [
    {
     "name": "stdout",
     "output_type": "stream",
     "text": [
      "Found 39703 files belonging to 2 classes.\n"
     ]
    }
   ],
   "source": [
    "import numpy as np\n",
    "from matplotlib import pyplot as plt\n",
    "\n",
    "data_dir = r\"C:\\Users\\kanan\\Desktop\\data_x\\data_x\\train\"\n",
    "data = tf.keras.utils.image_dataset_from_directory(data_dir, image_size=(224, 224))\n",
    "\n",
    "# Expected output Found 39703 files belonging to 2 classes."
   ]
  },
  {
   "cell_type": "code",
   "execution_count": 8,
   "metadata": {},
   "outputs": [],
   "source": [
    "data_iterator = data.as_numpy_iterator()\n",
    "batch = data_iterator.next()"
   ]
  },
  {
   "cell_type": "markdown",
   "metadata": {},
   "source": [
    "# Split Train/Val"
   ]
  },
  {
   "cell_type": "code",
   "execution_count": 9,
   "metadata": {},
   "outputs": [],
   "source": [
    "train_size = int(len(data)*.8)\n",
    "val_size = int(len(data)*.2)"
   ]
  },
  {
   "cell_type": "code",
   "execution_count": 10,
   "metadata": {},
   "outputs": [],
   "source": [
    "train = data.take(train_size)\n",
    "val = data.skip(train_size).take(val_size)"
   ]
  },
  {
   "cell_type": "markdown",
   "metadata": {},
   "source": [
    "# Build model"
   ]
  },
  {
   "cell_type": "code",
   "execution_count": 11,
   "metadata": {},
   "outputs": [],
   "source": [
    "# True = Training the base model\n",
    "\n",
    "TRAIN_FULL_NETWROK = False"
   ]
  },
  {
   "cell_type": "code",
   "execution_count": 12,
   "metadata": {},
   "outputs": [],
   "source": [
    "IMG_DIM = (224,224)"
   ]
  },
  {
   "cell_type": "code",
   "execution_count": 13,
   "metadata": {},
   "outputs": [],
   "source": [
    "base_model.trainable = TRAIN_FULL_NETWROK"
   ]
  },
  {
   "cell_type": "code",
   "execution_count": 14,
   "metadata": {},
   "outputs": [],
   "source": [
    "from tensorflow.keras.layers import Dense, GlobalAveragePooling2D\n",
    "from tensorflow.keras.models import Model"
   ]
  },
  {
   "cell_type": "code",
   "execution_count": 15,
   "metadata": {},
   "outputs": [],
   "source": [
    "inputs = tf.keras.Input(shape=INPUT_SHAPE)\n",
    "\n",
    "x = base_model(inputs, training=TRAIN_FULL_NETWROK)\n",
    "x = GlobalAveragePooling2D()(x)\n",
    "x = Dense(1024, activation='relu')(x)\n",
    "x = Dense(512, activation='relu')(x)\n",
    "\n",
    "# A Dense classifier with a single unit (binary classification)\n",
    "outputs = Dense(1, activation='sigmoid')(x)\n",
    "model = Model(inputs=inputs, outputs=outputs)"
   ]
  },
  {
   "cell_type": "code",
   "execution_count": 16,
   "metadata": {},
   "outputs": [
    {
     "data": {
      "text/html": [
       "<div>\n",
       "<style scoped>\n",
       "    .dataframe tbody tr th:only-of-type {\n",
       "        vertical-align: middle;\n",
       "    }\n",
       "\n",
       "    .dataframe tbody tr th {\n",
       "        vertical-align: top;\n",
       "    }\n",
       "\n",
       "    .dataframe thead th {\n",
       "        text-align: right;\n",
       "    }\n",
       "</style>\n",
       "<table border=\"1\" class=\"dataframe\">\n",
       "  <thead>\n",
       "    <tr style=\"text-align: right;\">\n",
       "      <th></th>\n",
       "      <th>Layer Type</th>\n",
       "      <th>Layer Name</th>\n",
       "      <th>Layer Trainable</th>\n",
       "    </tr>\n",
       "  </thead>\n",
       "  <tbody>\n",
       "    <tr>\n",
       "      <th>0</th>\n",
       "      <td>&lt;keras.engine.input_layer.InputLayer object at 0x000001E07DE83280&gt;</td>\n",
       "      <td>input_2</td>\n",
       "      <td>True</td>\n",
       "    </tr>\n",
       "    <tr>\n",
       "      <th>1</th>\n",
       "      <td>&lt;keras.engine.functional.Functional object at 0x000001DFE0BB4670&gt;</td>\n",
       "      <td>xception</td>\n",
       "      <td>False</td>\n",
       "    </tr>\n",
       "    <tr>\n",
       "      <th>2</th>\n",
       "      <td>&lt;keras.layers.pooling.global_average_pooling2d.GlobalAveragePooling2D object at 0x000001E07DE824D0&gt;</td>\n",
       "      <td>global_average_pooling2d</td>\n",
       "      <td>True</td>\n",
       "    </tr>\n",
       "    <tr>\n",
       "      <th>3</th>\n",
       "      <td>&lt;keras.layers.core.dense.Dense object at 0x000001DFE0BB5EA0&gt;</td>\n",
       "      <td>dense</td>\n",
       "      <td>True</td>\n",
       "    </tr>\n",
       "    <tr>\n",
       "      <th>4</th>\n",
       "      <td>&lt;keras.layers.core.dense.Dense object at 0x000001E07DE82B30&gt;</td>\n",
       "      <td>dense_1</td>\n",
       "      <td>True</td>\n",
       "    </tr>\n",
       "    <tr>\n",
       "      <th>5</th>\n",
       "      <td>&lt;keras.layers.core.dense.Dense object at 0x000001E07DEC52D0&gt;</td>\n",
       "      <td>dense_2</td>\n",
       "      <td>True</td>\n",
       "    </tr>\n",
       "  </tbody>\n",
       "</table>\n",
       "</div>"
      ],
      "text/plain": [
       "                                                                                            Layer Type  \\\n",
       "0                                   <keras.engine.input_layer.InputLayer object at 0x000001E07DE83280>   \n",
       "1                                    <keras.engine.functional.Functional object at 0x000001DFE0BB4670>   \n",
       "2  <keras.layers.pooling.global_average_pooling2d.GlobalAveragePooling2D object at 0x000001E07DE824D0>   \n",
       "3                                         <keras.layers.core.dense.Dense object at 0x000001DFE0BB5EA0>   \n",
       "4                                         <keras.layers.core.dense.Dense object at 0x000001E07DE82B30>   \n",
       "5                                         <keras.layers.core.dense.Dense object at 0x000001E07DEC52D0>   \n",
       "\n",
       "                 Layer Name  Layer Trainable  \n",
       "0                   input_2             True  \n",
       "1                  xception            False  \n",
       "2  global_average_pooling2d             True  \n",
       "3                     dense             True  \n",
       "4                   dense_1             True  \n",
       "5                   dense_2             True  "
      ]
     },
     "execution_count": 16,
     "metadata": {},
     "output_type": "execute_result"
    }
   ],
   "source": [
    "import pandas as pd\n",
    "\n",
    "pd.set_option('max_colwidth', None)\n",
    "layers = [(layer, layer.name, layer.trainable) for layer in model.layers]\n",
    "pd.DataFrame(layers, columns=['Layer Type', 'Layer Name', 'Layer Trainable'])"
   ]
  },
  {
   "cell_type": "code",
   "execution_count": 17,
   "metadata": {},
   "outputs": [
    {
     "name": "stdout",
     "output_type": "stream",
     "text": [
      "Model: \"model\"\n",
      "_________________________________________________________________\n",
      " Layer (type)                Output Shape              Param #   \n",
      "=================================================================\n",
      " input_2 (InputLayer)        [(None, 224, 224, 3)]     0         \n",
      "                                                                 \n",
      " xception (Functional)       (None, 7, 7, 2048)        20861480  \n",
      "                                                                 \n",
      " global_average_pooling2d (G  (None, 2048)             0         \n",
      " lobalAveragePooling2D)                                          \n",
      "                                                                 \n",
      " dense (Dense)               (None, 1024)              2098176   \n",
      "                                                                 \n",
      " dense_1 (Dense)             (None, 512)               524800    \n",
      "                                                                 \n",
      " dense_2 (Dense)             (None, 1)                 513       \n",
      "                                                                 \n",
      "=================================================================\n",
      "Total params: 23,484,969\n",
      "Trainable params: 2,623,489\n",
      "Non-trainable params: 20,861,480\n",
      "_________________________________________________________________\n"
     ]
    }
   ],
   "source": [
    "model.summary()"
   ]
  },
  {
   "cell_type": "code",
   "execution_count": 18,
   "metadata": {},
   "outputs": [],
   "source": [
    "model.compile(loss=keras.losses.BinaryCrossentropy(from_logits=False), # change from_logits=True\n",
    "              optimizer= keras.optimizers.Adam(learning_rate=1e-2),\n",
    "              metrics = [keras.metrics.BinaryAccuracy()])"
   ]
  },
  {
   "cell_type": "markdown",
   "metadata": {},
   "source": [
    "# Set up training metrics"
   ]
  },
  {
   "cell_type": "code",
   "execution_count": 19,
   "metadata": {},
   "outputs": [],
   "source": [
    "from tensorflow.keras.callbacks import ModelCheckpoint, CSVLogger"
   ]
  },
  {
   "cell_type": "code",
   "execution_count": 20,
   "metadata": {},
   "outputs": [],
   "source": [
    "dir_path = r\"C:\\Users\\kanan\\Desktop\\data_x\"\n",
    "\n",
    "results_dir = \"logs\\\\\" + model_name\n",
    "results_dir = os.path.join(dir_path, results_dir)\n",
    "\n",
    "models_dir = \"models\\\\\" + model_name\n",
    "models_dir = os.path.join(dir_path, models_dir)\n",
    "\n",
    "if not os.path.isdir(results_dir):\n",
    "    os.makedirs(results_dir)\n",
    "    \n",
    "if not os.path.isdir(models_dir):\n",
    "    os.makedirs(models_dir)"
   ]
  },
  {
   "cell_type": "code",
   "execution_count": 21,
   "metadata": {},
   "outputs": [],
   "source": [
    "log_file = os.path.join(results_dir, f\"{model_name}_bo20_lr001.csv\")"
   ]
  },
  {
   "cell_type": "code",
   "execution_count": 22,
   "metadata": {},
   "outputs": [],
   "source": [
    "callbacks = [\n",
    "    CSVLogger(log_file),\n",
    "    ModelCheckpoint(\n",
    "        filepath=os.path.join(models_dir, f\"{model_name}_bo20_lr001.h5\"),\n",
    "        save_weights_only=False,\n",
    "        save_best_only=True,\n",
    "        save_freq='epoch',\n",
    "        verbose=1\n",
    "    )\n",
    "]"
   ]
  },
  {
   "cell_type": "markdown",
   "metadata": {},
   "source": [
    "# Train model"
   ]
  },
  {
   "cell_type": "code",
   "execution_count": 23,
   "metadata": {},
   "outputs": [
    {
     "name": "stdout",
     "output_type": "stream",
     "text": [
      "Epoch 1/20\n",
      "992/992 [==============================] - ETA: 0s - loss: 1.6247 - binary_accuracy: 0.6504\n",
      "Epoch 1: val_loss improved from inf to 0.57601, saving model to C:\\Users\\kanan\\Desktop\\data_x\\models\\Xception\\Xception_bo20_lr001.h5\n",
      "992/992 [==============================] - 185s 182ms/step - loss: 1.6247 - binary_accuracy: 0.6504 - val_loss: 0.5760 - val_binary_accuracy: 0.6970\n",
      "Epoch 2/20\n",
      "992/992 [==============================] - ETA: 0s - loss: 0.5700 - binary_accuracy: 0.7066\n",
      "Epoch 2: val_loss improved from 0.57601 to 0.53701, saving model to C:\\Users\\kanan\\Desktop\\data_x\\models\\Xception\\Xception_bo20_lr001.h5\n",
      "992/992 [==============================] - 184s 185ms/step - loss: 0.5700 - binary_accuracy: 0.7066 - val_loss: 0.5370 - val_binary_accuracy: 0.7239\n",
      "Epoch 3/20\n",
      "992/992 [==============================] - ETA: 0s - loss: 0.5499 - binary_accuracy: 0.7251\n",
      "Epoch 3: val_loss did not improve from 0.53701\n",
      "992/992 [==============================] - 190s 191ms/step - loss: 0.5499 - binary_accuracy: 0.7251 - val_loss: 0.5592 - val_binary_accuracy: 0.7058\n",
      "Epoch 4/20\n",
      "992/992 [==============================] - ETA: 0s - loss: 0.5359 - binary_accuracy: 0.7320\n",
      "Epoch 4: val_loss improved from 0.53701 to 0.52636, saving model to C:\\Users\\kanan\\Desktop\\data_x\\models\\Xception\\Xception_bo20_lr001.h5\n",
      "992/992 [==============================] - 191s 193ms/step - loss: 0.5359 - binary_accuracy: 0.7320 - val_loss: 0.5264 - val_binary_accuracy: 0.7375\n",
      "Epoch 5/20\n",
      "992/992 [==============================] - ETA: 0s - loss: 0.6098 - binary_accuracy: 0.6470\n",
      "Epoch 5: val_loss did not improve from 0.52636\n",
      "992/992 [==============================] - 192s 193ms/step - loss: 0.6098 - binary_accuracy: 0.6470 - val_loss: 0.6042 - val_binary_accuracy: 0.6753\n",
      "Epoch 6/20\n",
      "992/992 [==============================] - ETA: 0s - loss: 0.5419 - binary_accuracy: 0.7297\n",
      "Epoch 6: val_loss did not improve from 0.52636\n",
      "992/992 [==============================] - 192s 194ms/step - loss: 0.5419 - binary_accuracy: 0.7297 - val_loss: 0.5350 - val_binary_accuracy: 0.7325\n",
      "Epoch 7/20\n",
      "992/992 [==============================] - ETA: 0s - loss: 0.5150 - binary_accuracy: 0.7492\n",
      "Epoch 7: val_loss improved from 0.52636 to 0.50530, saving model to C:\\Users\\kanan\\Desktop\\data_x\\models\\Xception\\Xception_bo20_lr001.h5\n",
      "992/992 [==============================] - 193s 195ms/step - loss: 0.5150 - binary_accuracy: 0.7492 - val_loss: 0.5053 - val_binary_accuracy: 0.7568\n",
      "Epoch 8/20\n",
      "992/992 [==============================] - ETA: 0s - loss: 0.4983 - binary_accuracy: 0.7634\n",
      "Epoch 8: val_loss did not improve from 0.50530\n",
      "992/992 [==============================] - 193s 195ms/step - loss: 0.4983 - binary_accuracy: 0.7634 - val_loss: 0.5750 - val_binary_accuracy: 0.7034\n",
      "Epoch 9/20\n",
      "992/992 [==============================] - ETA: 0s - loss: 0.4874 - binary_accuracy: 0.7681\n",
      "Epoch 9: val_loss improved from 0.50530 to 0.47803, saving model to C:\\Users\\kanan\\Desktop\\data_x\\models\\Xception\\Xception_bo20_lr001.h5\n",
      "992/992 [==============================] - 193s 195ms/step - loss: 0.4874 - binary_accuracy: 0.7681 - val_loss: 0.4780 - val_binary_accuracy: 0.7732\n",
      "Epoch 10/20\n",
      "992/992 [==============================] - ETA: 0s - loss: 0.4847 - binary_accuracy: 0.7709\n",
      "Epoch 10: val_loss did not improve from 0.47803\n",
      "992/992 [==============================] - 193s 195ms/step - loss: 0.4847 - binary_accuracy: 0.7709 - val_loss: 0.4874 - val_binary_accuracy: 0.7681\n",
      "Epoch 11/20\n",
      "992/992 [==============================] - ETA: 0s - loss: 0.4673 - binary_accuracy: 0.7835\n",
      "Epoch 11: val_loss improved from 0.47803 to 0.47741, saving model to C:\\Users\\kanan\\Desktop\\data_x\\models\\Xception\\Xception_bo20_lr001.h5\n",
      "992/992 [==============================] - 194s 195ms/step - loss: 0.4673 - binary_accuracy: 0.7835 - val_loss: 0.4774 - val_binary_accuracy: 0.7686\n",
      "Epoch 12/20\n",
      "992/992 [==============================] - ETA: 0s - loss: 0.4608 - binary_accuracy: 0.7886\n",
      "Epoch 12: val_loss did not improve from 0.47741\n",
      "992/992 [==============================] - 193s 195ms/step - loss: 0.4608 - binary_accuracy: 0.7886 - val_loss: 0.4806 - val_binary_accuracy: 0.7748\n",
      "Epoch 13/20\n",
      "992/992 [==============================] - ETA: 0s - loss: 0.5415 - binary_accuracy: 0.6995\n",
      "Epoch 13: val_loss improved from 0.47741 to 0.45699, saving model to C:\\Users\\kanan\\Desktop\\data_x\\models\\Xception\\Xception_bo20_lr001.h5\n",
      "992/992 [==============================] - 194s 196ms/step - loss: 0.5415 - binary_accuracy: 0.6995 - val_loss: 0.4570 - val_binary_accuracy: 0.7902\n",
      "Epoch 14/20\n",
      "992/992 [==============================] - ETA: 0s - loss: 0.4516 - binary_accuracy: 0.7940\n",
      "Epoch 14: val_loss improved from 0.45699 to 0.45496, saving model to C:\\Users\\kanan\\Desktop\\data_x\\models\\Xception\\Xception_bo20_lr001.h5\n",
      "992/992 [==============================] - 193s 194ms/step - loss: 0.4516 - binary_accuracy: 0.7940 - val_loss: 0.4550 - val_binary_accuracy: 0.7897\n",
      "Epoch 15/20\n",
      "992/992 [==============================] - ETA: 0s - loss: 0.4512 - binary_accuracy: 0.7957\n",
      "Epoch 15: val_loss did not improve from 0.45496\n",
      "992/992 [==============================] - 191s 193ms/step - loss: 0.4512 - binary_accuracy: 0.7957 - val_loss: 0.4953 - val_binary_accuracy: 0.7641\n",
      "Epoch 16/20\n",
      "992/992 [==============================] - ETA: 0s - loss: 0.4412 - binary_accuracy: 0.8002\n",
      "Epoch 16: val_loss did not improve from 0.45496\n",
      "992/992 [==============================] - 191s 193ms/step - loss: 0.4412 - binary_accuracy: 0.8002 - val_loss: 0.4838 - val_binary_accuracy: 0.7695\n",
      "Epoch 17/20\n",
      "992/992 [==============================] - ETA: 0s - loss: 0.4428 - binary_accuracy: 0.8017\n",
      "Epoch 17: val_loss did not improve from 0.45496\n",
      "992/992 [==============================] - 191s 192ms/step - loss: 0.4428 - binary_accuracy: 0.8017 - val_loss: 0.5036 - val_binary_accuracy: 0.7534\n",
      "Epoch 18/20\n",
      "992/992 [==============================] - ETA: 0s - loss: 0.4332 - binary_accuracy: 0.8061\n",
      "Epoch 18: val_loss did not improve from 0.45496\n",
      "992/992 [==============================] - 191s 193ms/step - loss: 0.4332 - binary_accuracy: 0.8061 - val_loss: 0.4741 - val_binary_accuracy: 0.7894\n",
      "Epoch 19/20\n",
      "992/992 [==============================] - ETA: 0s - loss: 0.4310 - binary_accuracy: 0.8069\n",
      "Epoch 19: val_loss improved from 0.45496 to 0.44024, saving model to C:\\Users\\kanan\\Desktop\\data_x\\models\\Xception\\Xception_bo20_lr001.h5\n",
      "992/992 [==============================] - 191s 193ms/step - loss: 0.4310 - binary_accuracy: 0.8069 - val_loss: 0.4402 - val_binary_accuracy: 0.8056\n",
      "Epoch 20/20\n",
      "992/992 [==============================] - ETA: 0s - loss: 0.4398 - binary_accuracy: 0.8016\n",
      "Epoch 20: val_loss did not improve from 0.44024\n",
      "992/992 [==============================] - 191s 192ms/step - loss: 0.4398 - binary_accuracy: 0.8016 - val_loss: 0.4665 - val_binary_accuracy: 0.7824\n"
     ]
    }
   ],
   "source": [
    "history = model.fit(train, \n",
    "                    validation_data=val,\n",
    "                    epochs=20, \n",
    "                    verbose=1, \n",
    "                    callbacks=callbacks)"
   ]
  },
  {
   "cell_type": "code",
   "execution_count": 24,
   "metadata": {},
   "outputs": [
    {
     "data": {
      "image/png": "[encoded data removed]",
      "text/plain": [
       "<Figure size 640x480 with 1 Axes>"
      ]
     },
     "metadata": {},
     "output_type": "display_data"
    }
   ],
   "source": [
    "fig = plt.figure()\n",
    "plt.plot(history.history['loss'], color='teal', label='loss')\n",
    "plt.plot(history.history['val_loss'], color='orange', label='val_loss')\n",
    "fig.suptitle('Loss', fontsize=20)\n",
    "plt.legend(loc=\"upper left\")\n",
    "plt.show()"
   ]
  },
  {
   "cell_type": "markdown",
   "metadata": {},
   "source": [
    "# Reducing learning rate from 0.01 to 0.001 and continue"
   ]
  },
  {
   "cell_type": "markdown",
   "metadata": {},
   "source": [
    "Load model"
   ]
  },
  {
   "cell_type": "code",
   "execution_count": 25,
   "metadata": {},
   "outputs": [],
   "source": [
    "from tensorflow.keras.models import load_model\n",
    "\n",
    "\n",
    "saved_model_path = os.path.join(models_dir, f\"{model_name}_bo20_lr001.h5\")\n",
    "new_model = load_model(saved_model_path)"
   ]
  },
  {
   "cell_type": "markdown",
   "metadata": {},
   "source": [
    "Set new learning rate"
   ]
  },
  {
   "cell_type": "code",
   "execution_count": 26,
   "metadata": {},
   "outputs": [
    {
     "name": "stdout",
     "output_type": "stream",
     "text": [
      "Old learning rate: 0.009999999776482582\n"
     ]
    }
   ],
   "source": [
    "current_optimizer = new_model.optimizer\n",
    "current_lr = current_optimizer.learning_rate.numpy()\n",
    "\n",
    "print(f\"Old learning rate: {current_lr}\")"
   ]
  },
  {
   "cell_type": "code",
   "execution_count": 27,
   "metadata": {},
   "outputs": [],
   "source": [
    "new_model.compile(loss=keras.losses.BinaryCrossentropy(from_logits=False), \n",
    "              optimizer= keras.optimizers.Adam(learning_rate=1e-3),\n",
    "              metrics = [keras.metrics.BinaryAccuracy()])"
   ]
  },
  {
   "cell_type": "code",
   "execution_count": 28,
   "metadata": {},
   "outputs": [
    {
     "name": "stdout",
     "output_type": "stream",
     "text": [
      "New learning rate: 0.0010000000474974513\n"
     ]
    }
   ],
   "source": [
    "current_optimizer = new_model.optimizer\n",
    "current_lr = current_optimizer.learning_rate.numpy()\n",
    "\n",
    "print(f\"New learning rate: {current_lr}\")"
   ]
  },
  {
   "cell_type": "markdown",
   "metadata": {},
   "source": [
    "Continue training"
   ]
  },
  {
   "cell_type": "code",
   "execution_count": 29,
   "metadata": {},
   "outputs": [],
   "source": [
    "log_file = os.path.join(results_dir, f\"{model_name}_bo20_lr0001.csv\")"
   ]
  },
  {
   "cell_type": "code",
   "execution_count": 30,
   "metadata": {},
   "outputs": [],
   "source": [
    "callbacks = [\n",
    "    CSVLogger(log_file),\n",
    "    ModelCheckpoint(\n",
    "        filepath=os.path.join(models_dir,f\"{model_name}_bo20_lr0001.h5\"),\n",
    "        save_weights_only=False,\n",
    "        save_best_only=True,\n",
    "        save_freq='epoch',\n",
    "        verbose=1\n",
    "    )\n",
    "]"
   ]
  },
  {
   "cell_type": "code",
   "execution_count": 31,
   "metadata": {},
   "outputs": [
    {
     "name": "stdout",
     "output_type": "stream",
     "text": [
      "Epoch 1/20\n",
      "992/992 [==============================] - ETA: 0s - loss: 0.3893 - binary_accuracy: 0.8325\n",
      "Epoch 1: val_loss improved from inf to 0.41968, saving model to C:\\Users\\kanan\\Desktop\\data_x\\models\\Xception\\Xception_bo20_lr0001.h5\n",
      "992/992 [==============================] - 194s 194ms/step - loss: 0.3893 - binary_accuracy: 0.8325 - val_loss: 0.4197 - val_binary_accuracy: 0.8154\n",
      "Epoch 2/20\n",
      "992/992 [==============================] - ETA: 0s - loss: 0.3851 - binary_accuracy: 0.8359\n",
      "Epoch 2: val_loss improved from 0.41968 to 0.41496, saving model to C:\\Users\\kanan\\Desktop\\data_x\\models\\Xception\\Xception_bo20_lr0001.h5\n",
      "992/992 [==============================] - 192s 193ms/step - loss: 0.3851 - binary_accuracy: 0.8359 - val_loss: 0.4150 - val_binary_accuracy: 0.8179\n",
      "Epoch 3/20\n",
      "992/992 [==============================] - ETA: 0s - loss: 0.3821 - binary_accuracy: 0.8361\n",
      "Epoch 3: val_loss did not improve from 0.41496\n",
      "992/992 [==============================] - 192s 193ms/step - loss: 0.3821 - binary_accuracy: 0.8361 - val_loss: 0.4156 - val_binary_accuracy: 0.8167\n",
      "Epoch 4/20\n",
      "992/992 [==============================] - ETA: 0s - loss: 0.3805 - binary_accuracy: 0.8378\n",
      "Epoch 4: val_loss did not improve from 0.41496\n",
      "992/992 [==============================] - 191s 193ms/step - loss: 0.3805 - binary_accuracy: 0.8378 - val_loss: 0.4179 - val_binary_accuracy: 0.8150\n",
      "Epoch 5/20\n",
      "992/992 [==============================] - ETA: 0s - loss: 0.3791 - binary_accuracy: 0.8384\n",
      "Epoch 5: val_loss improved from 0.41496 to 0.41478, saving model to C:\\Users\\kanan\\Desktop\\data_x\\models\\Xception\\Xception_bo20_lr0001.h5\n",
      "992/992 [==============================] - 192s 194ms/step - loss: 0.3791 - binary_accuracy: 0.8384 - val_loss: 0.4148 - val_binary_accuracy: 0.8175\n",
      "Epoch 6/20\n",
      "992/992 [==============================] - ETA: 0s - loss: 0.3787 - binary_accuracy: 0.8384\n",
      "Epoch 6: val_loss did not improve from 0.41478\n",
      "992/992 [==============================] - 193s 194ms/step - loss: 0.3787 - binary_accuracy: 0.8384 - val_loss: 0.4169 - val_binary_accuracy: 0.8179\n",
      "Epoch 7/20\n",
      "992/992 [==============================] - ETA: 0s - loss: 0.3770 - binary_accuracy: 0.8379\n",
      "Epoch 7: val_loss did not improve from 0.41478\n",
      "992/992 [==============================] - 193s 194ms/step - loss: 0.3770 - binary_accuracy: 0.8379 - val_loss: 0.4160 - val_binary_accuracy: 0.8141\n",
      "Epoch 8/20\n",
      "992/992 [==============================] - ETA: 0s - loss: 0.3760 - binary_accuracy: 0.8394\n",
      "Epoch 8: val_loss did not improve from 0.41478\n",
      "992/992 [==============================] - 193s 195ms/step - loss: 0.3760 - binary_accuracy: 0.8394 - val_loss: 0.4222 - val_binary_accuracy: 0.8155\n",
      "Epoch 9/20\n",
      "992/992 [==============================] - ETA: 0s - loss: 0.3742 - binary_accuracy: 0.8401\n",
      "Epoch 9: val_loss improved from 0.41478 to 0.41095, saving model to C:\\Users\\kanan\\Desktop\\data_x\\models\\Xception\\Xception_bo20_lr0001.h5\n",
      "992/992 [==============================] - 194s 195ms/step - loss: 0.3742 - binary_accuracy: 0.8401 - val_loss: 0.4109 - val_binary_accuracy: 0.8194\n",
      "Epoch 10/20\n",
      "992/992 [==============================] - ETA: 0s - loss: 0.3735 - binary_accuracy: 0.8406\n",
      "Epoch 10: val_loss improved from 0.41095 to 0.40779, saving model to C:\\Users\\kanan\\Desktop\\data_x\\models\\Xception\\Xception_bo20_lr0001.h5\n",
      "992/992 [==============================] - 194s 195ms/step - loss: 0.3735 - binary_accuracy: 0.8406 - val_loss: 0.4078 - val_binary_accuracy: 0.8227\n",
      "Epoch 11/20\n",
      "992/992 [==============================] - ETA: 0s - loss: 0.3728 - binary_accuracy: 0.8419\n",
      "Epoch 11: val_loss did not improve from 0.40779\n",
      "992/992 [==============================] - 194s 196ms/step - loss: 0.3728 - binary_accuracy: 0.8419 - val_loss: 0.4245 - val_binary_accuracy: 0.8174\n",
      "Epoch 12/20\n",
      "992/992 [==============================] - ETA: 0s - loss: 0.3713 - binary_accuracy: 0.8424\n",
      "Epoch 12: val_loss improved from 0.40779 to 0.40727, saving model to C:\\Users\\kanan\\Desktop\\data_x\\models\\Xception\\Xception_bo20_lr0001.h5\n",
      "992/992 [==============================] - 194s 196ms/step - loss: 0.3713 - binary_accuracy: 0.8424 - val_loss: 0.4073 - val_binary_accuracy: 0.8203\n",
      "Epoch 13/20\n",
      "992/992 [==============================] - ETA: 0s - loss: 0.3703 - binary_accuracy: 0.8427\n",
      "Epoch 13: val_loss did not improve from 0.40727\n",
      "992/992 [==============================] - 194s 196ms/step - loss: 0.3703 - binary_accuracy: 0.8427 - val_loss: 0.4143 - val_binary_accuracy: 0.8198\n",
      "Epoch 14/20\n",
      "992/992 [==============================] - ETA: 0s - loss: 0.3703 - binary_accuracy: 0.8429\n",
      "Epoch 14: val_loss did not improve from 0.40727\n",
      "992/992 [==============================] - 194s 196ms/step - loss: 0.3703 - binary_accuracy: 0.8429 - val_loss: 0.4171 - val_binary_accuracy: 0.8189\n",
      "Epoch 15/20\n",
      "992/992 [==============================] - ETA: 0s - loss: 0.3689 - binary_accuracy: 0.8430\n",
      "Epoch 15: val_loss improved from 0.40727 to 0.40696, saving model to C:\\Users\\kanan\\Desktop\\data_x\\models\\Xception\\Xception_bo20_lr0001.h5\n",
      "992/992 [==============================] - 194s 196ms/step - loss: 0.3689 - binary_accuracy: 0.8430 - val_loss: 0.4070 - val_binary_accuracy: 0.8217\n",
      "Epoch 16/20\n",
      "992/992 [==============================] - ETA: 0s - loss: 0.3678 - binary_accuracy: 0.8441\n",
      "Epoch 16: val_loss improved from 0.40696 to 0.40609, saving model to C:\\Users\\kanan\\Desktop\\data_x\\models\\Xception\\Xception_bo20_lr0001.h5\n",
      "992/992 [==============================] - 194s 196ms/step - loss: 0.3678 - binary_accuracy: 0.8441 - val_loss: 0.4061 - val_binary_accuracy: 0.8231\n",
      "Epoch 17/20\n",
      "992/992 [==============================] - ETA: 0s - loss: 0.3674 - binary_accuracy: 0.8455\n",
      "Epoch 17: val_loss did not improve from 0.40609\n",
      "992/992 [==============================] - 194s 195ms/step - loss: 0.3674 - binary_accuracy: 0.8455 - val_loss: 0.4099 - val_binary_accuracy: 0.8202\n",
      "Epoch 18/20\n",
      "992/992 [==============================] - ETA: 0s - loss: 0.3661 - binary_accuracy: 0.8460\n",
      "Epoch 18: val_loss did not improve from 0.40609\n",
      "992/992 [==============================] - 193s 195ms/step - loss: 0.3661 - binary_accuracy: 0.8460 - val_loss: 0.4090 - val_binary_accuracy: 0.8221\n",
      "Epoch 19/20\n",
      "992/992 [==============================] - ETA: 0s - loss: 0.3656 - binary_accuracy: 0.8450\n",
      "Epoch 19: val_loss did not improve from 0.40609\n",
      "992/992 [==============================] - 193s 194ms/step - loss: 0.3656 - binary_accuracy: 0.8450 - val_loss: 0.4176 - val_binary_accuracy: 0.8189\n",
      "Epoch 20/20\n",
      "992/992 [==============================] - ETA: 0s - loss: 0.3644 - binary_accuracy: 0.8462\n",
      "Epoch 20: val_loss did not improve from 0.40609\n",
      "992/992 [==============================] - 193s 194ms/step - loss: 0.3644 - binary_accuracy: 0.8462 - val_loss: 0.4080 - val_binary_accuracy: 0.8226\n"
     ]
    }
   ],
   "source": [
    "history = new_model.fit(train, \n",
    "                    validation_data=val,\n",
    "                    epochs=20, \n",
    "                    verbose=1, \n",
    "                    callbacks=callbacks)"
   ]
  },
  {
   "cell_type": "code",
   "execution_count": 32,
   "metadata": {},
   "outputs": [
    {
     "data": {
      "image/png": "[encoded data removed]",
      "text/plain": [
       "<Figure size 640x480 with 1 Axes>"
      ]
     },
     "metadata": {},
     "output_type": "display_data"
    }
   ],
   "source": [
    "fig = plt.figure()\n",
    "plt.plot(history.history['loss'], color='teal', label='loss')\n",
    "plt.plot(history.history['val_loss'], color='orange', label='val_loss')\n",
    "fig.suptitle('Loss', fontsize=20)\n",
    "plt.legend(loc=\"upper left\")\n",
    "plt.show()"
   ]
  },
  {
   "cell_type": "markdown",
   "metadata": {},
   "source": [
    "# Test"
   ]
  },
  {
   "cell_type": "markdown",
   "metadata": {},
   "source": [
    "Load model"
   ]
  },
  {
   "cell_type": "code",
   "execution_count": 33,
   "metadata": {},
   "outputs": [],
   "source": [
    "from tensorflow.keras.models import load_model\n",
    "\n",
    "saved_model_path = os.path.join(models_dir, f\"{model_name}_bo20_lr0001.h5\")\n",
    "test_model = load_model(saved_model_path)"
   ]
  },
  {
   "cell_type": "markdown",
   "metadata": {},
   "source": [
    "Set measurement metrics"
   ]
  },
  {
   "cell_type": "code",
   "execution_count": 34,
   "metadata": {},
   "outputs": [],
   "source": [
    "from tensorflow.keras.metrics import Precision, Recall, BinaryAccuracy\n",
    "\n",
    "pre = Precision()\n",
    "re = Recall()\n",
    "acc = BinaryAccuracy()"
   ]
  },
  {
   "cell_type": "markdown",
   "metadata": {},
   "source": [
    "Load data"
   ]
  },
  {
   "cell_type": "code",
   "execution_count": 35,
   "metadata": {},
   "outputs": [
    {
     "name": "stdout",
     "output_type": "stream",
     "text": [
      "Found 7360 files belonging to 2 classes.\n"
     ]
    }
   ],
   "source": [
    "import numpy as np\n",
    "from matplotlib import pyplot as plt\n",
    "\n",
    "data_dir = r\"C:\\Users\\kanan\\Desktop\\data_x\\data_x\\test\"\n",
    "test = tf.keras.utils.image_dataset_from_directory(data_dir, image_size=(224, 224))\n",
    "\n",
    "# Expected output Found 7360 files belonging to 2 classes."
   ]
  },
  {
   "cell_type": "markdown",
   "metadata": {},
   "source": [
    "Testing"
   ]
  },
  {
   "cell_type": "code",
   "execution_count": 36,
   "metadata": {},
   "outputs": [],
   "source": [
    "test_iterator = test.as_numpy_iterator()\n",
    "batch = test_iterator.next()"
   ]
  },
  {
   "cell_type": "code",
   "execution_count": 37,
   "metadata": {},
   "outputs": [
    {
     "name": "stdout",
     "output_type": "stream",
     "text": [
      "1/1 [==============================] - 1s 593ms/step\n",
      "1/1 [==============================] - 0s 23ms/step\n",
      "1/1 [==============================] - 0s 23ms/step\n",
      "1/1 [==============================] - 0s 23ms/step\n",
      "1/1 [==============================] - 0s 23ms/step\n",
      "1/1 [==============================] - 0s 23ms/step\n",
      "1/1 [==============================] - 0s 23ms/step\n",
      "1/1 [==============================] - 0s 24ms/step\n",
      "1/1 [==============================] - 0s 24ms/step\n",
      "1/1 [==============================] - 0s 24ms/step\n",
      "1/1 [==============================] - 0s 25ms/step\n",
      "1/1 [==============================] - 0s 23ms/step\n",
      "1/1 [==============================] - 0s 23ms/step\n",
      "1/1 [==============================] - 0s 23ms/step\n",
      "1/1 [==============================] - 0s 23ms/step\n",
      "1/1 [==============================] - 0s 24ms/step\n",
      "1/1 [==============================] - 0s 24ms/step\n",
      "1/1 [==============================] - 0s 23ms/step\n",
      "1/1 [==============================] - 0s 23ms/step\n",
      "1/1 [==============================] - 0s 23ms/step\n",
      "1/1 [==============================] - 0s 24ms/step\n",
      "1/1 [==============================] - 0s 23ms/step\n",
      "1/1 [==============================] - 0s 23ms/step\n",
      "1/1 [==============================] - 0s 24ms/step\n",
      "1/1 [==============================] - 0s 24ms/step\n",
      "1/1 [==============================] - 0s 24ms/step\n",
      "1/1 [==============================] - 0s 23ms/step\n",
      "1/1 [==============================] - 0s 24ms/step\n",
      "1/1 [==============================] - 0s 24ms/step\n",
      "1/1 [==============================] - 0s 25ms/step\n",
      "1/1 [==============================] - 0s 24ms/step\n",
      "1/1 [==============================] - 0s 24ms/step\n",
      "1/1 [==============================] - 0s 24ms/step\n",
      "1/1 [==============================] - 0s 24ms/step\n",
      "1/1 [==============================] - 0s 23ms/step\n",
      "1/1 [==============================] - 0s 24ms/step\n",
      "1/1 [==============================] - 0s 25ms/step\n",
      "1/1 [==============================] - 0s 24ms/step\n",
      "1/1 [==============================] - 0s 23ms/step\n",
      "1/1 [==============================] - 0s 24ms/step\n",
      "1/1 [==============================] - 0s 24ms/step\n",
      "1/1 [==============================] - 0s 24ms/step\n",
      "1/1 [==============================] - 0s 23ms/step\n",
      "1/1 [==============================] - 0s 23ms/step\n",
      "1/1 [==============================] - 0s 23ms/step\n",
      "1/1 [==============================] - 0s 23ms/step\n",
      "1/1 [==============================] - 0s 24ms/step\n",
      "1/1 [==============================] - 0s 24ms/step\n",
      "1/1 [==============================] - 0s 22ms/step\n",
      "1/1 [==============================] - 0s 23ms/step\n",
      "1/1 [==============================] - 0s 23ms/step\n",
      "1/1 [==============================] - 0s 24ms/step\n",
      "1/1 [==============================] - 0s 24ms/step\n",
      "1/1 [==============================] - 0s 24ms/step\n",
      "1/1 [==============================] - 0s 23ms/step\n",
      "1/1 [==============================] - 0s 23ms/step\n",
      "1/1 [==============================] - 0s 24ms/step\n",
      "1/1 [==============================] - 0s 24ms/step\n",
      "1/1 [==============================] - 0s 24ms/step\n",
      "1/1 [==============================] - 0s 24ms/step\n",
      "1/1 [==============================] - 0s 22ms/step\n",
      "1/1 [==============================] - 0s 24ms/step\n",
      "1/1 [==============================] - 0s 23ms/step\n",
      "1/1 [==============================] - 0s 24ms/step\n",
      "1/1 [==============================] - 0s 23ms/step\n",
      "1/1 [==============================] - 0s 23ms/step\n",
      "1/1 [==============================] - 0s 23ms/step\n",
      "1/1 [==============================] - 0s 23ms/step\n",
      "1/1 [==============================] - 0s 24ms/step\n",
      "1/1 [==============================] - 0s 23ms/step\n",
      "1/1 [==============================] - 0s 25ms/step\n",
      "1/1 [==============================] - 0s 23ms/step\n",
      "1/1 [==============================] - 0s 24ms/step\n",
      "1/1 [==============================] - 0s 24ms/step\n",
      "1/1 [==============================] - 0s 23ms/step\n",
      "1/1 [==============================] - 0s 24ms/step\n",
      "1/1 [==============================] - 0s 23ms/step\n",
      "1/1 [==============================] - 0s 24ms/step\n",
      "1/1 [==============================] - 0s 24ms/step\n",
      "1/1 [==============================] - 0s 24ms/step\n",
      "1/1 [==============================] - 0s 23ms/step\n",
      "1/1 [==============================] - 0s 23ms/step\n",
      "1/1 [==============================] - 0s 23ms/step\n",
      "1/1 [==============================] - 0s 24ms/step\n",
      "1/1 [==============================] - 0s 24ms/step\n",
      "1/1 [==============================] - 0s 24ms/step\n",
      "1/1 [==============================] - 0s 25ms/step\n",
      "1/1 [==============================] - 0s 23ms/step\n",
      "1/1 [==============================] - 0s 23ms/step\n",
      "1/1 [==============================] - 0s 23ms/step\n",
      "1/1 [==============================] - 0s 24ms/step\n",
      "1/1 [==============================] - 0s 23ms/step\n",
      "1/1 [==============================] - 0s 23ms/step\n",
      "1/1 [==============================] - 0s 24ms/step\n",
      "1/1 [==============================] - 0s 23ms/step\n",
      "1/1 [==============================] - 0s 24ms/step\n",
      "1/1 [==============================] - 0s 24ms/step\n",
      "1/1 [==============================] - 0s 23ms/step\n",
      "1/1 [==============================] - 0s 24ms/step\n",
      "1/1 [==============================] - 0s 23ms/step\n",
      "1/1 [==============================] - 0s 23ms/step\n",
      "1/1 [==============================] - 0s 23ms/step\n",
      "1/1 [==============================] - 0s 23ms/step\n",
      "1/1 [==============================] - 0s 24ms/step\n",
      "1/1 [==============================] - 0s 24ms/step\n",
      "1/1 [==============================] - 0s 23ms/step\n",
      "1/1 [==============================] - 0s 24ms/step\n",
      "1/1 [==============================] - 0s 24ms/step\n",
      "1/1 [==============================] - 0s 23ms/step\n",
      "1/1 [==============================] - 0s 23ms/step\n",
      "1/1 [==============================] - 0s 23ms/step\n",
      "1/1 [==============================] - 0s 23ms/step\n",
      "1/1 [==============================] - 0s 23ms/step\n",
      "1/1 [==============================] - 0s 23ms/step\n",
      "1/1 [==============================] - 0s 23ms/step\n",
      "1/1 [==============================] - 0s 23ms/step\n",
      "1/1 [==============================] - 0s 23ms/step\n",
      "1/1 [==============================] - 0s 23ms/step\n",
      "1/1 [==============================] - 0s 24ms/step\n",
      "1/1 [==============================] - 0s 23ms/step\n",
      "1/1 [==============================] - 0s 23ms/step\n",
      "1/1 [==============================] - 0s 23ms/step\n",
      "1/1 [==============================] - 0s 23ms/step\n",
      "1/1 [==============================] - 0s 23ms/step\n",
      "1/1 [==============================] - 0s 23ms/step\n",
      "1/1 [==============================] - 0s 24ms/step\n",
      "1/1 [==============================] - 0s 24ms/step\n",
      "1/1 [==============================] - 0s 24ms/step\n",
      "1/1 [==============================] - 0s 23ms/step\n",
      "1/1 [==============================] - 0s 24ms/step\n",
      "1/1 [==============================] - 0s 24ms/step\n",
      "1/1 [==============================] - 0s 24ms/step\n",
      "1/1 [==============================] - 0s 23ms/step\n",
      "1/1 [==============================] - 0s 24ms/step\n",
      "1/1 [==============================] - 0s 23ms/step\n",
      "1/1 [==============================] - 0s 23ms/step\n",
      "1/1 [==============================] - 0s 24ms/step\n",
      "1/1 [==============================] - 0s 23ms/step\n",
      "1/1 [==============================] - 0s 23ms/step\n",
      "1/1 [==============================] - 0s 23ms/step\n",
      "1/1 [==============================] - 0s 23ms/step\n",
      "1/1 [==============================] - 0s 23ms/step\n",
      "1/1 [==============================] - 0s 23ms/step\n",
      "1/1 [==============================] - 0s 24ms/step\n",
      "1/1 [==============================] - 0s 23ms/step\n",
      "1/1 [==============================] - 0s 23ms/step\n",
      "1/1 [==============================] - 0s 23ms/step\n",
      "1/1 [==============================] - 0s 23ms/step\n",
      "1/1 [==============================] - 0s 23ms/step\n",
      "1/1 [==============================] - 0s 24ms/step\n",
      "1/1 [==============================] - 0s 23ms/step\n",
      "1/1 [==============================] - 0s 25ms/step\n",
      "1/1 [==============================] - 0s 23ms/step\n",
      "1/1 [==============================] - 0s 24ms/step\n",
      "1/1 [==============================] - 0s 24ms/step\n",
      "1/1 [==============================] - 0s 24ms/step\n",
      "1/1 [==============================] - 0s 24ms/step\n",
      "1/1 [==============================] - 0s 24ms/step\n",
      "1/1 [==============================] - 0s 23ms/step\n",
      "1/1 [==============================] - 0s 24ms/step\n",
      "1/1 [==============================] - 0s 23ms/step\n",
      "1/1 [==============================] - 0s 23ms/step\n",
      "1/1 [==============================] - 0s 23ms/step\n",
      "1/1 [==============================] - 0s 24ms/step\n",
      "1/1 [==============================] - 0s 24ms/step\n",
      "1/1 [==============================] - 0s 24ms/step\n",
      "1/1 [==============================] - 0s 23ms/step\n",
      "1/1 [==============================] - 0s 23ms/step\n",
      "1/1 [==============================] - 0s 23ms/step\n",
      "1/1 [==============================] - 0s 23ms/step\n",
      "1/1 [==============================] - 0s 23ms/step\n",
      "1/1 [==============================] - 0s 23ms/step\n",
      "1/1 [==============================] - 0s 23ms/step\n",
      "1/1 [==============================] - 0s 23ms/step\n",
      "1/1 [==============================] - 0s 23ms/step\n",
      "1/1 [==============================] - 0s 24ms/step\n",
      "1/1 [==============================] - 0s 24ms/step\n",
      "1/1 [==============================] - 0s 23ms/step\n",
      "1/1 [==============================] - 0s 24ms/step\n",
      "1/1 [==============================] - 0s 23ms/step\n",
      "1/1 [==============================] - 0s 24ms/step\n",
      "1/1 [==============================] - 0s 23ms/step\n",
      "1/1 [==============================] - 0s 24ms/step\n",
      "1/1 [==============================] - 0s 23ms/step\n",
      "1/1 [==============================] - 0s 23ms/step\n",
      "1/1 [==============================] - 0s 23ms/step\n",
      "1/1 [==============================] - 0s 24ms/step\n",
      "1/1 [==============================] - 0s 24ms/step\n",
      "1/1 [==============================] - 0s 23ms/step\n",
      "1/1 [==============================] - 0s 23ms/step\n",
      "1/1 [==============================] - 0s 23ms/step\n",
      "1/1 [==============================] - 0s 23ms/step\n",
      "1/1 [==============================] - 0s 24ms/step\n",
      "1/1 [==============================] - 0s 23ms/step\n",
      "1/1 [==============================] - 0s 23ms/step\n",
      "1/1 [==============================] - 0s 23ms/step\n",
      "1/1 [==============================] - 0s 23ms/step\n",
      "1/1 [==============================] - 0s 24ms/step\n",
      "1/1 [==============================] - 0s 24ms/step\n",
      "1/1 [==============================] - 0s 24ms/step\n",
      "1/1 [==============================] - 0s 24ms/step\n",
      "1/1 [==============================] - 0s 24ms/step\n",
      "1/1 [==============================] - 0s 24ms/step\n",
      "1/1 [==============================] - 0s 23ms/step\n",
      "1/1 [==============================] - 0s 24ms/step\n",
      "1/1 [==============================] - 0s 24ms/step\n",
      "1/1 [==============================] - 0s 24ms/step\n",
      "1/1 [==============================] - 0s 24ms/step\n",
      "1/1 [==============================] - 0s 23ms/step\n",
      "1/1 [==============================] - 0s 23ms/step\n",
      "1/1 [==============================] - 0s 23ms/step\n",
      "1/1 [==============================] - 0s 24ms/step\n",
      "1/1 [==============================] - 0s 23ms/step\n",
      "1/1 [==============================] - 0s 23ms/step\n",
      "1/1 [==============================] - 0s 23ms/step\n",
      "1/1 [==============================] - 0s 23ms/step\n",
      "1/1 [==============================] - 0s 23ms/step\n",
      "1/1 [==============================] - 0s 23ms/step\n",
      "1/1 [==============================] - 0s 23ms/step\n",
      "1/1 [==============================] - 0s 23ms/step\n",
      "1/1 [==============================] - 0s 23ms/step\n",
      "1/1 [==============================] - 0s 24ms/step\n",
      "1/1 [==============================] - 0s 23ms/step\n",
      "1/1 [==============================] - 0s 23ms/step\n",
      "1/1 [==============================] - 0s 23ms/step\n",
      "1/1 [==============================] - 0s 23ms/step\n",
      "1/1 [==============================] - 0s 23ms/step\n",
      "1/1 [==============================] - 0s 23ms/step\n",
      "1/1 [==============================] - 0s 23ms/step\n"
     ]
    }
   ],
   "source": [
    "for batch in test_iterator: \n",
    "    X, y = batch\n",
    "    yhat = test_model.predict(X)\n",
    "    pre.update_state(y, yhat)\n",
    "    re.update_state(y, yhat)\n",
    "    acc.update_state(y, yhat)"
   ]
  },
  {
   "cell_type": "markdown",
   "metadata": {},
   "source": [
    "Test results"
   ]
  },
  {
   "cell_type": "code",
   "execution_count": 38,
   "metadata": {},
   "outputs": [
    {
     "name": "stdout",
     "output_type": "stream",
     "text": [
      "Precision : 0.8131147623062134\n",
      "Recall : 0.7150143980979919\n",
      "Accuracy : 0.7235261797904968\n",
      "F1 Score : 0.7609157562255859\n"
     ]
    }
   ],
   "source": [
    "f1_score = 2 * (pre.result() * re.result()) / (pre.result() + re.result())\n",
    "print(f\"Precision : {pre.result().numpy()}\")\n",
    "print(f\"Recall : {re.result().numpy()}\")\n",
    "print(f\"Accuracy : {acc.result().numpy()}\")\n",
    "print(f\"F1 Score : {f1_score.numpy()}\")"
   ]
  }
 ],
 "metadata": {
  "kernelspec": {
   "display_name": "2dmodelGPU",
   "language": "python",
   "name": "python3"
  },
  "language_info": {
   "codemirror_mode": {
    "name": "ipython",
    "version": 3
   },
   "file_extension": ".py",
   "mimetype": "text/x-python",
   "name": "python",
   "nbconvert_exporter": "python",
   "pygments_lexer": "ipython3",
   "version": "3.10.14"
  }
 },
 "nbformat": 4,
 "nbformat_minor": 2
}
