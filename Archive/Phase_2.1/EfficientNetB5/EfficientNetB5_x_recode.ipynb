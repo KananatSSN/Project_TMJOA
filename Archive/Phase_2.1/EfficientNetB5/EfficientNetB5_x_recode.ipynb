{
 "cells": [
  {
   "cell_type": "code",
   "execution_count": 1,
   "metadata": {},
   "outputs": [
    {
     "name": "stdout",
     "output_type": "stream",
     "text": [
      "2.9.0 1.26.4\n"
     ]
    }
   ],
   "source": [
    "import os\n",
    "import numpy as np\n",
    "\n",
    "import tensorflow as tf\n",
    "from tensorflow import keras\n",
    "\n",
    "print(tf.__version__, np.__version__)\n",
    "\n",
    "# Expected output 2.9.0, 1.26.4"
   ]
  },
  {
   "cell_type": "markdown",
   "metadata": {},
   "source": [
    "## Detect GPU and limit GPU memory usage if exist"
   ]
  },
  {
   "cell_type": "code",
   "execution_count": 2,
   "metadata": {},
   "outputs": [],
   "source": [
    "USE_GPU = True"
   ]
  },
  {
   "cell_type": "code",
   "execution_count": 3,
   "metadata": {},
   "outputs": [
    {
     "name": "stdout",
     "output_type": "stream",
     "text": [
      "[PhysicalDevice(name='/physical_device:GPU:0', device_type='GPU')]\n"
     ]
    }
   ],
   "source": [
    "gpus = tf.config.experimental.list_physical_devices('GPU')\n",
    "if gpus != []:\n",
    "    print(gpus)\n",
    "    for gpu in gpus: \n",
    "        tf.config.experimental.set_memory_growth(gpu, True)\n",
    "else:\n",
    "    print(\"No GPU on this machine\")\n",
    "\n",
    "# Expected output [PhysicalDevice(name='/physical_device:GPU:0', device_type='GPU')]"
   ]
  },
  {
   "cell_type": "code",
   "execution_count": 4,
   "metadata": {},
   "outputs": [],
   "source": [
    "if USE_GPU == False:\n",
    "    os.environ['CUDA_VISIBLE_DEVICES'] = '-1'"
   ]
  },
  {
   "cell_type": "code",
   "execution_count": 5,
   "metadata": {},
   "outputs": [
    {
     "name": "stdout",
     "output_type": "stream",
     "text": [
      "GPU found\n"
     ]
    }
   ],
   "source": [
    "if tf.test.gpu_device_name():\n",
    "    print('GPU found')\n",
    "else:\n",
    "    print(\"No GPU found\")"
   ]
  },
  {
   "cell_type": "markdown",
   "metadata": {},
   "source": [
    "# Load data"
   ]
  },
  {
   "cell_type": "code",
   "execution_count": 6,
   "metadata": {},
   "outputs": [
    {
     "name": "stdout",
     "output_type": "stream",
     "text": [
      "Found 39703 files belonging to 2 classes.\n"
     ]
    }
   ],
   "source": [
    "import numpy as np\n",
    "from matplotlib import pyplot as plt\n",
    "\n",
    "data_dir = r\"C:\\Users\\kanan\\Desktop\\data_x\\data_x\\train\"\n",
    "data = tf.keras.utils.image_dataset_from_directory(data_dir, image_size=(224, 224))\n",
    "\n",
    "# Expected output Found 32560 files belonging to 2 classes."
   ]
  },
  {
   "cell_type": "code",
   "execution_count": 7,
   "metadata": {},
   "outputs": [
    {
     "data": {
      "text/plain": [
       "<BatchDataset element_spec=(TensorSpec(shape=(None, 224, 224, 3), dtype=tf.float32, name=None), TensorSpec(shape=(None,), dtype=tf.int32, name=None))>"
      ]
     },
     "execution_count": 7,
     "metadata": {},
     "output_type": "execute_result"
    }
   ],
   "source": [
    "data"
   ]
  },
  {
   "cell_type": "code",
   "execution_count": 8,
   "metadata": {},
   "outputs": [],
   "source": [
    "data_iterator = data.as_numpy_iterator()\n",
    "batch = data_iterator.next()"
   ]
  },
  {
   "cell_type": "code",
   "execution_count": 9,
   "metadata": {},
   "outputs": [
    {
     "data": {
      "text/plain": [
       "(array([[[[  0.,   0.,   0.],\n",
       "          [  0.,   0.,   0.],\n",
       "          [  0.,   0.,   0.],\n",
       "          ...,\n",
       "          [  0.,   0.,   0.],\n",
       "          [  0.,   0.,   0.],\n",
       "          [  0.,   0.,   0.]],\n",
       " \n",
       "         [[  0.,   0.,   0.],\n",
       "          [  0.,   0.,   0.],\n",
       "          [  0.,   0.,   0.],\n",
       "          ...,\n",
       "          [  0.,   0.,   0.],\n",
       "          [  0.,   0.,   0.],\n",
       "          [  0.,   0.,   0.]],\n",
       " \n",
       "         [[  0.,   0.,   0.],\n",
       "          [  0.,   0.,   0.],\n",
       "          [  0.,   0.,   0.],\n",
       "          ...,\n",
       "          [  0.,   0.,   0.],\n",
       "          [  0.,   0.,   0.],\n",
       "          [  0.,   0.,   0.]],\n",
       " \n",
       "         ...,\n",
       " \n",
       "         [[  0.,   0.,   0.],\n",
       "          [  0.,   0.,   0.],\n",
       "          [  0.,   0.,   0.],\n",
       "          ...,\n",
       "          [  0.,   0.,   0.],\n",
       "          [  0.,   0.,   0.],\n",
       "          [  0.,   0.,   0.]],\n",
       " \n",
       "         [[  0.,   0.,   0.],\n",
       "          [  0.,   0.,   0.],\n",
       "          [  0.,   0.,   0.],\n",
       "          ...,\n",
       "          [  0.,   0.,   0.],\n",
       "          [  0.,   0.,   0.],\n",
       "          [  0.,   0.,   0.]],\n",
       " \n",
       "         [[  0.,   0.,   0.],\n",
       "          [  0.,   0.,   0.],\n",
       "          [  0.,   0.,   0.],\n",
       "          ...,\n",
       "          [  0.,   0.,   0.],\n",
       "          [  0.,   0.,   0.],\n",
       "          [  0.,   0.,   0.]]],\n",
       " \n",
       " \n",
       "        [[[  0.,   0.,   0.],\n",
       "          [  0.,   0.,   0.],\n",
       "          [  0.,   0.,   0.],\n",
       "          ...,\n",
       "          [  0.,   0.,   0.],\n",
       "          [  0.,   0.,   0.],\n",
       "          [  0.,   0.,   0.]],\n",
       " \n",
       "         [[  0.,   0.,   0.],\n",
       "          [  0.,   0.,   0.],\n",
       "          [  0.,   0.,   0.],\n",
       "          ...,\n",
       "          [  0.,   0.,   0.],\n",
       "          [  0.,   0.,   0.],\n",
       "          [  0.,   0.,   0.]],\n",
       " \n",
       "         [[  0.,   0.,   0.],\n",
       "          [  0.,   0.,   0.],\n",
       "          [  0.,   0.,   0.],\n",
       "          ...,\n",
       "          [  0.,   0.,   0.],\n",
       "          [  0.,   0.,   0.],\n",
       "          [  0.,   0.,   0.]],\n",
       " \n",
       "         ...,\n",
       " \n",
       "         [[  0.,   0.,   0.],\n",
       "          [  0.,   0.,   0.],\n",
       "          [  0.,   0.,   0.],\n",
       "          ...,\n",
       "          [  0.,   0.,   0.],\n",
       "          [  0.,   0.,   0.],\n",
       "          [  0.,   0.,   0.]],\n",
       " \n",
       "         [[  0.,   0.,   0.],\n",
       "          [  0.,   0.,   0.],\n",
       "          [  0.,   0.,   0.],\n",
       "          ...,\n",
       "          [  0.,   0.,   0.],\n",
       "          [  0.,   0.,   0.],\n",
       "          [  0.,   0.,   0.]],\n",
       " \n",
       "         [[  0.,   0.,   0.],\n",
       "          [  0.,   0.,   0.],\n",
       "          [  0.,   0.,   0.],\n",
       "          ...,\n",
       "          [  0.,   0.,   0.],\n",
       "          [  0.,   0.,   0.],\n",
       "          [  0.,   0.,   0.]]],\n",
       " \n",
       " \n",
       "        [[[  0.,   0.,   0.],\n",
       "          [  0.,   0.,   0.],\n",
       "          [  0.,   0.,   0.],\n",
       "          ...,\n",
       "          [  0.,   0.,   0.],\n",
       "          [  0.,   0.,   0.],\n",
       "          [  0.,   0.,   0.]],\n",
       " \n",
       "         [[  0.,   0.,   0.],\n",
       "          [  0.,   0.,   0.],\n",
       "          [  0.,   0.,   0.],\n",
       "          ...,\n",
       "          [  0.,   0.,   0.],\n",
       "          [  0.,   0.,   0.],\n",
       "          [  0.,   0.,   0.]],\n",
       " \n",
       "         [[  0.,   0.,   0.],\n",
       "          [  0.,   0.,   0.],\n",
       "          [  0.,   0.,   0.],\n",
       "          ...,\n",
       "          [  0.,   0.,   0.],\n",
       "          [  0.,   0.,   0.],\n",
       "          [  0.,   0.,   0.]],\n",
       " \n",
       "         ...,\n",
       " \n",
       "         [[  0.,   0.,   0.],\n",
       "          [  0.,   0.,   0.],\n",
       "          [  0.,   0.,   0.],\n",
       "          ...,\n",
       "          [223., 222., 220.],\n",
       "          [219., 217., 218.],\n",
       "          [215., 214., 212.]],\n",
       " \n",
       "         [[  0.,   0.,   0.],\n",
       "          [  0.,   0.,   0.],\n",
       "          [  0.,   0.,   0.],\n",
       "          ...,\n",
       "          [226., 224., 225.],\n",
       "          [222., 220., 223.],\n",
       "          [219., 217., 218.]],\n",
       " \n",
       "         [[  0.,   0.,   0.],\n",
       "          [  0.,   0.,   0.],\n",
       "          [  0.,   0.,   0.],\n",
       "          ...,\n",
       "          [227., 225., 228.],\n",
       "          [223., 221., 224.],\n",
       "          [220., 218., 221.]]],\n",
       " \n",
       " \n",
       "        ...,\n",
       " \n",
       " \n",
       "        [[[  0.,   0.,   0.],\n",
       "          [  0.,   0.,   0.],\n",
       "          [  0.,   0.,   0.],\n",
       "          ...,\n",
       "          [  0.,   0.,   0.],\n",
       "          [  0.,   0.,   0.],\n",
       "          [  0.,   0.,   0.]],\n",
       " \n",
       "         [[  0.,   0.,   0.],\n",
       "          [  0.,   0.,   0.],\n",
       "          [  0.,   0.,   0.],\n",
       "          ...,\n",
       "          [  0.,   0.,   0.],\n",
       "          [  0.,   0.,   0.],\n",
       "          [  0.,   0.,   0.]],\n",
       " \n",
       "         [[  0.,   0.,   0.],\n",
       "          [  0.,   0.,   0.],\n",
       "          [  0.,   0.,   0.],\n",
       "          ...,\n",
       "          [  0.,   0.,   0.],\n",
       "          [  0.,   0.,   0.],\n",
       "          [  0.,   0.,   0.]],\n",
       " \n",
       "         ...,\n",
       " \n",
       "         [[  0.,   0.,   0.],\n",
       "          [  0.,   0.,   0.],\n",
       "          [  0.,   0.,   0.],\n",
       "          ...,\n",
       "          [  0.,   0.,   0.],\n",
       "          [  0.,   0.,   0.],\n",
       "          [  0.,   0.,   0.]],\n",
       " \n",
       "         [[  0.,   0.,   0.],\n",
       "          [  0.,   0.,   0.],\n",
       "          [  0.,   0.,   0.],\n",
       "          ...,\n",
       "          [  0.,   0.,   0.],\n",
       "          [  0.,   0.,   0.],\n",
       "          [  0.,   0.,   0.]],\n",
       " \n",
       "         [[  0.,   0.,   0.],\n",
       "          [  0.,   0.,   0.],\n",
       "          [  0.,   0.,   0.],\n",
       "          ...,\n",
       "          [  0.,   0.,   0.],\n",
       "          [  0.,   0.,   0.],\n",
       "          [  0.,   0.,   0.]]],\n",
       " \n",
       " \n",
       "        [[[  0.,   0.,   0.],\n",
       "          [  0.,   0.,   0.],\n",
       "          [  0.,   0.,   0.],\n",
       "          ...,\n",
       "          [  0.,   0.,   0.],\n",
       "          [  0.,   0.,   0.],\n",
       "          [  0.,   0.,   0.]],\n",
       " \n",
       "         [[  0.,   0.,   0.],\n",
       "          [  0.,   0.,   0.],\n",
       "          [  0.,   0.,   0.],\n",
       "          ...,\n",
       "          [  0.,   0.,   0.],\n",
       "          [  0.,   0.,   0.],\n",
       "          [  0.,   0.,   0.]],\n",
       " \n",
       "         [[  0.,   0.,   0.],\n",
       "          [  0.,   0.,   0.],\n",
       "          [  0.,   0.,   0.],\n",
       "          ...,\n",
       "          [  0.,   0.,   0.],\n",
       "          [  0.,   0.,   0.],\n",
       "          [  0.,   0.,   0.]],\n",
       " \n",
       "         ...,\n",
       " \n",
       "         [[  0.,   0.,   0.],\n",
       "          [  0.,   0.,   0.],\n",
       "          [  0.,   0.,   0.],\n",
       "          ...,\n",
       "          [  0.,   0.,   0.],\n",
       "          [  0.,   0.,   0.],\n",
       "          [  0.,   0.,   0.]],\n",
       " \n",
       "         [[  0.,   0.,   0.],\n",
       "          [  0.,   0.,   0.],\n",
       "          [  0.,   0.,   0.],\n",
       "          ...,\n",
       "          [  0.,   0.,   0.],\n",
       "          [  0.,   0.,   0.],\n",
       "          [  0.,   0.,   0.]],\n",
       " \n",
       "         [[  0.,   0.,   0.],\n",
       "          [  0.,   0.,   0.],\n",
       "          [  0.,   0.,   0.],\n",
       "          ...,\n",
       "          [  0.,   0.,   0.],\n",
       "          [  0.,   0.,   0.],\n",
       "          [  0.,   0.,   0.]]],\n",
       " \n",
       " \n",
       "        [[[  0.,   0.,   0.],\n",
       "          [  0.,   0.,   0.],\n",
       "          [  0.,   0.,   0.],\n",
       "          ...,\n",
       "          [  0.,   0.,   0.],\n",
       "          [  0.,   0.,   0.],\n",
       "          [  0.,   0.,   0.]],\n",
       " \n",
       "         [[  0.,   0.,   0.],\n",
       "          [  0.,   0.,   0.],\n",
       "          [  0.,   0.,   0.],\n",
       "          ...,\n",
       "          [  0.,   0.,   0.],\n",
       "          [  0.,   0.,   0.],\n",
       "          [  0.,   0.,   0.]],\n",
       " \n",
       "         [[  0.,   0.,   0.],\n",
       "          [  0.,   0.,   0.],\n",
       "          [  0.,   0.,   0.],\n",
       "          ...,\n",
       "          [  0.,   0.,   0.],\n",
       "          [  0.,   0.,   0.],\n",
       "          [  0.,   0.,   0.]],\n",
       " \n",
       "         ...,\n",
       " \n",
       "         [[  0.,   0.,   0.],\n",
       "          [  0.,   0.,   0.],\n",
       "          [  0.,   0.,   0.],\n",
       "          ...,\n",
       "          [  0.,   0.,   0.],\n",
       "          [  0.,   0.,   0.],\n",
       "          [  0.,   0.,   0.]],\n",
       " \n",
       "         [[  0.,   0.,   0.],\n",
       "          [  0.,   0.,   0.],\n",
       "          [  0.,   0.,   0.],\n",
       "          ...,\n",
       "          [  0.,   0.,   0.],\n",
       "          [  0.,   0.,   0.],\n",
       "          [  0.,   0.,   0.]],\n",
       " \n",
       "         [[  0.,   0.,   0.],\n",
       "          [  0.,   0.,   0.],\n",
       "          [  0.,   0.,   0.],\n",
       "          ...,\n",
       "          [  0.,   0.,   0.],\n",
       "          [  0.,   0.,   0.],\n",
       "          [  0.,   0.,   0.]]]], dtype=float32),\n",
       " array([0, 1, 1, 0, 0, 1, 0, 1, 1, 1, 0, 1, 0, 1, 1, 0, 1, 1, 1, 0, 0, 0,\n",
       "        1, 1, 0, 0, 1, 1, 0, 1, 0, 0]))"
      ]
     },
     "execution_count": 9,
     "metadata": {},
     "output_type": "execute_result"
    }
   ],
   "source": [
    "data.as_numpy_iterator().next()"
   ]
  },
  {
   "cell_type": "markdown",
   "metadata": {},
   "source": [
    "# Split Train/Val"
   ]
  },
  {
   "cell_type": "code",
   "execution_count": 10,
   "metadata": {},
   "outputs": [],
   "source": [
    "train_size = int(len(data)*.8)\n",
    "val_size = int(len(data)*.2)"
   ]
  },
  {
   "cell_type": "code",
   "execution_count": 11,
   "metadata": {},
   "outputs": [
    {
     "data": {
      "text/plain": [
       "992"
      ]
     },
     "execution_count": 11,
     "metadata": {},
     "output_type": "execute_result"
    }
   ],
   "source": [
    "train_size"
   ]
  },
  {
   "cell_type": "code",
   "execution_count": 12,
   "metadata": {},
   "outputs": [],
   "source": [
    "train = data.take(train_size)\n",
    "val = data.skip(train_size).take(val_size)"
   ]
  },
  {
   "cell_type": "markdown",
   "metadata": {},
   "source": [
    "# Build model"
   ]
  },
  {
   "cell_type": "code",
   "execution_count": 13,
   "metadata": {},
   "outputs": [
    {
     "data": {
      "text/plain": [
       "<TakeDataset element_spec=(TensorSpec(shape=(None, 224, 224, 3), dtype=tf.float32, name=None), TensorSpec(shape=(None,), dtype=tf.int32, name=None))>"
      ]
     },
     "execution_count": 13,
     "metadata": {},
     "output_type": "execute_result"
    }
   ],
   "source": [
    "train"
   ]
  },
  {
   "cell_type": "code",
   "execution_count": 14,
   "metadata": {},
   "outputs": [],
   "source": [
    "# True = Training the base model\n",
    "\n",
    "TRAIN_FULL_NETWROK = False"
   ]
  },
  {
   "cell_type": "code",
   "execution_count": 15,
   "metadata": {},
   "outputs": [],
   "source": [
    "IMG_DIM = (224,224)\n",
    "INPUT_SHAPE = (224,224,3)"
   ]
  },
  {
   "cell_type": "code",
   "execution_count": 16,
   "metadata": {},
   "outputs": [],
   "source": [
    "base_model = tf.keras.applications.EfficientNetB5(input_shape=INPUT_SHAPE, include_top=False, weights='imagenet')\n",
    "base_model.trainable = TRAIN_FULL_NETWROK"
   ]
  },
  {
   "cell_type": "code",
   "execution_count": 18,
   "metadata": {},
   "outputs": [],
   "source": [
    "from tensorflow.keras.layers import Dense, GlobalAveragePooling2D\n",
    "from tensorflow.keras.models import Model"
   ]
  },
  {
   "cell_type": "code",
   "execution_count": 19,
   "metadata": {},
   "outputs": [],
   "source": [
    "inputs = tf.keras.Input(shape=INPUT_SHAPE)\n",
    "\n",
    "x = base_model(inputs, training=TRAIN_FULL_NETWROK)\n",
    "x = GlobalAveragePooling2D()(x)\n",
    "x = Dense(1024, activation='relu')(x)\n",
    "x = Dense(512, activation='relu')(x)\n",
    "\n",
    "# A Dense classifier with a single unit (binary classification)\n",
    "outputs = Dense(1, activation='sigmoid')(x)\n",
    "model = Model(inputs=inputs, outputs=outputs)"
   ]
  },
  {
   "cell_type": "code",
   "execution_count": 20,
   "metadata": {},
   "outputs": [
    {
     "data": {
      "text/html": [
       "<div>\n",
       "<style scoped>\n",
       "    .dataframe tbody tr th:only-of-type {\n",
       "        vertical-align: middle;\n",
       "    }\n",
       "\n",
       "    .dataframe tbody tr th {\n",
       "        vertical-align: top;\n",
       "    }\n",
       "\n",
       "    .dataframe thead th {\n",
       "        text-align: right;\n",
       "    }\n",
       "</style>\n",
       "<table border=\"1\" class=\"dataframe\">\n",
       "  <thead>\n",
       "    <tr style=\"text-align: right;\">\n",
       "      <th></th>\n",
       "      <th>Layer Type</th>\n",
       "      <th>Layer Name</th>\n",
       "      <th>Layer Trainable</th>\n",
       "    </tr>\n",
       "  </thead>\n",
       "  <tbody>\n",
       "    <tr>\n",
       "      <th>0</th>\n",
       "      <td>&lt;keras.engine.input_layer.InputLayer object at 0x000001E4C0683B50&gt;</td>\n",
       "      <td>input_2</td>\n",
       "      <td>True</td>\n",
       "    </tr>\n",
       "    <tr>\n",
       "      <th>1</th>\n",
       "      <td>&lt;keras.engine.functional.Functional object at 0x000001E486853FD0&gt;</td>\n",
       "      <td>efficientnetb5</td>\n",
       "      <td>False</td>\n",
       "    </tr>\n",
       "    <tr>\n",
       "      <th>2</th>\n",
       "      <td>&lt;keras.layers.pooling.global_average_pooling2d.GlobalAveragePooling2D object at 0x000001E4C0683EE0&gt;</td>\n",
       "      <td>global_average_pooling2d</td>\n",
       "      <td>True</td>\n",
       "    </tr>\n",
       "    <tr>\n",
       "      <th>3</th>\n",
       "      <td>&lt;keras.layers.core.dense.Dense object at 0x000001E48BC08340&gt;</td>\n",
       "      <td>dense</td>\n",
       "      <td>True</td>\n",
       "    </tr>\n",
       "    <tr>\n",
       "      <th>4</th>\n",
       "      <td>&lt;keras.layers.core.dense.Dense object at 0x000001E48687DD20&gt;</td>\n",
       "      <td>dense_1</td>\n",
       "      <td>True</td>\n",
       "    </tr>\n",
       "    <tr>\n",
       "      <th>5</th>\n",
       "      <td>&lt;keras.layers.core.dense.Dense object at 0x000001E4C125DBA0&gt;</td>\n",
       "      <td>dense_2</td>\n",
       "      <td>True</td>\n",
       "    </tr>\n",
       "  </tbody>\n",
       "</table>\n",
       "</div>"
      ],
      "text/plain": [
       "                                                                                            Layer Type  \\\n",
       "0                                   <keras.engine.input_layer.InputLayer object at 0x000001E4C0683B50>   \n",
       "1                                    <keras.engine.functional.Functional object at 0x000001E486853FD0>   \n",
       "2  <keras.layers.pooling.global_average_pooling2d.GlobalAveragePooling2D object at 0x000001E4C0683EE0>   \n",
       "3                                         <keras.layers.core.dense.Dense object at 0x000001E48BC08340>   \n",
       "4                                         <keras.layers.core.dense.Dense object at 0x000001E48687DD20>   \n",
       "5                                         <keras.layers.core.dense.Dense object at 0x000001E4C125DBA0>   \n",
       "\n",
       "                 Layer Name  Layer Trainable  \n",
       "0                   input_2             True  \n",
       "1            efficientnetb5            False  \n",
       "2  global_average_pooling2d             True  \n",
       "3                     dense             True  \n",
       "4                   dense_1             True  \n",
       "5                   dense_2             True  "
      ]
     },
     "execution_count": 20,
     "metadata": {},
     "output_type": "execute_result"
    }
   ],
   "source": [
    "import pandas as pd\n",
    "\n",
    "pd.set_option('max_colwidth', None)\n",
    "layers = [(layer, layer.name, layer.trainable) for layer in model.layers]\n",
    "pd.DataFrame(layers, columns=['Layer Type', 'Layer Name', 'Layer Trainable'])"
   ]
  },
  {
   "cell_type": "code",
   "execution_count": 21,
   "metadata": {},
   "outputs": [
    {
     "name": "stdout",
     "output_type": "stream",
     "text": [
      "Model: \"model\"\n",
      "_________________________________________________________________\n",
      " Layer (type)                Output Shape              Param #   \n",
      "=================================================================\n",
      " input_2 (InputLayer)        [(None, 224, 224, 3)]     0         \n",
      "                                                                 \n",
      " efficientnetb5 (Functional)  (None, 7, 7, 2048)       28513527  \n",
      "                                                                 \n",
      " global_average_pooling2d (G  (None, 2048)             0         \n",
      " lobalAveragePooling2D)                                          \n",
      "                                                                 \n",
      " dense (Dense)               (None, 1024)              2098176   \n",
      "                                                                 \n",
      " dense_1 (Dense)             (None, 512)               524800    \n",
      "                                                                 \n",
      " dense_2 (Dense)             (None, 1)                 513       \n",
      "                                                                 \n",
      "=================================================================\n",
      "Total params: 31,137,016\n",
      "Trainable params: 2,623,489\n",
      "Non-trainable params: 28,513,527\n",
      "_________________________________________________________________\n"
     ]
    }
   ],
   "source": [
    "model.summary()"
   ]
  },
  {
   "cell_type": "code",
   "execution_count": 22,
   "metadata": {},
   "outputs": [],
   "source": [
    "model.compile(loss=keras.losses.BinaryCrossentropy(from_logits=False), # change from_logits=True\n",
    "              optimizer= keras.optimizers.RMSprop(learning_rate=1e-2),\n",
    "              metrics = [keras.metrics.BinaryAccuracy()])"
   ]
  },
  {
   "cell_type": "markdown",
   "metadata": {},
   "source": [
    "# Set up training metrics"
   ]
  },
  {
   "cell_type": "code",
   "execution_count": 23,
   "metadata": {},
   "outputs": [],
   "source": [
    "from tensorflow.keras.callbacks import ModelCheckpoint, CSVLogger"
   ]
  },
  {
   "cell_type": "code",
   "execution_count": 24,
   "metadata": {},
   "outputs": [],
   "source": [
    "dir_path = r\"C:\\Users\\kanan\\Desktop\\data_x\"\n",
    "results_dir = os.path.join(dir_path, r'logs\\EfficientNet-B5')\n",
    "models_dir = os.path.join(dir_path, r'models\\EfficientNet-B5')\n",
    "\n",
    "if not os.path.isdir(results_dir):\n",
    "    os.makedirs(results_dir)\n",
    "    \n",
    "if not os.path.isdir(models_dir):\n",
    "    os.makedirs(models_dir)"
   ]
  },
  {
   "cell_type": "code",
   "execution_count": 25,
   "metadata": {},
   "outputs": [],
   "source": [
    "log_file = os.path.join(results_dir, 'EfficientNetB5_bo20_lr001.csv')"
   ]
  },
  {
   "cell_type": "code",
   "execution_count": 26,
   "metadata": {},
   "outputs": [],
   "source": [
    "callbacks = [\n",
    "    CSVLogger(log_file),\n",
    "    ModelCheckpoint(\n",
    "        filepath=os.path.join(models_dir,\"EfficientNetB5_bo20_lr001.h5\"),\n",
    "        save_weights_only=False,\n",
    "        save_best_only=True,\n",
    "        save_freq='epoch',\n",
    "        verbose=1\n",
    "    )\n",
    "]"
   ]
  },
  {
   "cell_type": "markdown",
   "metadata": {},
   "source": [
    "# Train model"
   ]
  },
  {
   "cell_type": "code",
   "execution_count": 28,
   "metadata": {},
   "outputs": [
    {
     "name": "stdout",
     "output_type": "stream",
     "text": [
      "Epoch 1/50\n",
      "992/992 [==============================] - ETA: 0s - loss: 1.0018 - binary_accuracy: 0.7374\n",
      "Epoch 1: saving model to C:\\Users\\kanan\\Desktop\\data_x\\models\\EfficientNet-B5\\Eff-epoch-01.h5\n",
      "992/992 [==============================] - 338s 329ms/step - loss: 1.0018 - binary_accuracy: 0.7374 - val_loss: 0.4759 - val_binary_accuracy: 0.7752\n",
      "Epoch 2/50\n",
      "992/992 [==============================] - ETA: 0s - loss: 0.4183 - binary_accuracy: 0.8160\n",
      "Epoch 2: saving model to C:\\Users\\kanan\\Desktop\\data_x\\models\\EfficientNet-B5\\Eff-epoch-02.h5\n",
      "992/992 [==============================] - 334s 337ms/step - loss: 0.4183 - binary_accuracy: 0.8160 - val_loss: 0.3832 - val_binary_accuracy: 0.8367\n",
      "Epoch 3/50\n",
      "992/992 [==============================] - ETA: 0s - loss: 0.3499 - binary_accuracy: 0.8491\n",
      "Epoch 3: saving model to C:\\Users\\kanan\\Desktop\\data_x\\models\\EfficientNet-B5\\Eff-epoch-03.h5\n",
      "992/992 [==============================] - 335s 338ms/step - loss: 0.3499 - binary_accuracy: 0.8491 - val_loss: 0.4483 - val_binary_accuracy: 0.8220\n",
      "Epoch 4/50\n",
      "992/992 [==============================] - ETA: 0s - loss: 0.3052 - binary_accuracy: 0.8727\n",
      "Epoch 4: saving model to C:\\Users\\kanan\\Desktop\\data_x\\models\\EfficientNet-B5\\Eff-epoch-04.h5\n",
      "992/992 [==============================] - 336s 339ms/step - loss: 0.3052 - binary_accuracy: 0.8727 - val_loss: 0.3093 - val_binary_accuracy: 0.8667\n",
      "Epoch 5/50\n",
      "992/992 [==============================] - ETA: 0s - loss: 0.2786 - binary_accuracy: 0.8819\n",
      "Epoch 5: saving model to C:\\Users\\kanan\\Desktop\\data_x\\models\\EfficientNet-B5\\Eff-epoch-05.h5\n",
      "992/992 [==============================] - 336s 339ms/step - loss: 0.2786 - binary_accuracy: 0.8819 - val_loss: 0.2888 - val_binary_accuracy: 0.8799\n",
      "Epoch 6/50\n",
      "992/992 [==============================] - ETA: 0s - loss: 0.2653 - binary_accuracy: 0.8904\n",
      "Epoch 6: saving model to C:\\Users\\kanan\\Desktop\\data_x\\models\\EfficientNet-B5\\Eff-epoch-06.h5\n",
      "992/992 [==============================] - 337s 340ms/step - loss: 0.2653 - binary_accuracy: 0.8904 - val_loss: 0.3437 - val_binary_accuracy: 0.8440\n",
      "Epoch 7/50\n",
      "992/992 [==============================] - ETA: 0s - loss: 0.2508 - binary_accuracy: 0.8978\n",
      "Epoch 7: saving model to C:\\Users\\kanan\\Desktop\\data_x\\models\\EfficientNet-B5\\Eff-epoch-07.h5\n",
      "992/992 [==============================] - 338s 341ms/step - loss: 0.2508 - binary_accuracy: 0.8978 - val_loss: 0.3143 - val_binary_accuracy: 0.8808\n",
      "Epoch 8/50\n",
      "992/992 [==============================] - ETA: 0s - loss: 0.2362 - binary_accuracy: 0.9071\n",
      "Epoch 8: saving model to C:\\Users\\kanan\\Desktop\\data_x\\models\\EfficientNet-B5\\Eff-epoch-08.h5\n",
      "992/992 [==============================] - 337s 340ms/step - loss: 0.2362 - binary_accuracy: 0.9071 - val_loss: 0.3448 - val_binary_accuracy: 0.8813\n",
      "Epoch 9/50\n",
      "992/992 [==============================] - ETA: 0s - loss: 0.2265 - binary_accuracy: 0.9091\n",
      "Epoch 9: saving model to C:\\Users\\kanan\\Desktop\\data_x\\models\\EfficientNet-B5\\Eff-epoch-09.h5\n",
      "992/992 [==============================] - 338s 341ms/step - loss: 0.2265 - binary_accuracy: 0.9091 - val_loss: 0.5146 - val_binary_accuracy: 0.8832\n",
      "Epoch 10/50\n",
      "992/992 [==============================] - ETA: 0s - loss: 0.2363 - binary_accuracy: 0.9068\n",
      "Epoch 10: saving model to C:\\Users\\kanan\\Desktop\\data_x\\models\\EfficientNet-B5\\Eff-epoch-10.h5\n",
      "992/992 [==============================] - 339s 342ms/step - loss: 0.2363 - binary_accuracy: 0.9068 - val_loss: 0.4259 - val_binary_accuracy: 0.8450\n",
      "Epoch 11/50\n",
      "992/992 [==============================] - ETA: 0s - loss: 0.2393 - binary_accuracy: 0.9079\n",
      "Epoch 11: saving model to C:\\Users\\kanan\\Desktop\\data_x\\models\\EfficientNet-B5\\Eff-epoch-11.h5\n",
      "992/992 [==============================] - 339s 342ms/step - loss: 0.2393 - binary_accuracy: 0.9079 - val_loss: 0.2676 - val_binary_accuracy: 0.9027\n",
      "Epoch 12/50\n",
      "992/992 [==============================] - ETA: 0s - loss: 0.2436 - binary_accuracy: 0.9055\n",
      "Epoch 12: saving model to C:\\Users\\kanan\\Desktop\\data_x\\models\\EfficientNet-B5\\Eff-epoch-12.h5\n",
      "992/992 [==============================] - 339s 342ms/step - loss: 0.2436 - binary_accuracy: 0.9055 - val_loss: 0.2960 - val_binary_accuracy: 0.8803\n",
      "Epoch 13/50\n",
      "992/992 [==============================] - ETA: 0s - loss: 0.2518 - binary_accuracy: 0.9082\n",
      "Epoch 13: saving model to C:\\Users\\kanan\\Desktop\\data_x\\models\\EfficientNet-B5\\Eff-epoch-13.h5\n",
      "992/992 [==============================] - 340s 343ms/step - loss: 0.2518 - binary_accuracy: 0.9082 - val_loss: 0.3745 - val_binary_accuracy: 0.8816\n",
      "Epoch 14/50\n",
      "992/992 [==============================] - ETA: 0s - loss: 0.2482 - binary_accuracy: 0.8995\n",
      "Epoch 14: saving model to C:\\Users\\kanan\\Desktop\\data_x\\models\\EfficientNet-B5\\Eff-epoch-14.h5\n",
      "992/992 [==============================] - 340s 343ms/step - loss: 0.2482 - binary_accuracy: 0.8995 - val_loss: 0.2975 - val_binary_accuracy: 0.8955\n",
      "Epoch 15/50\n",
      "992/992 [==============================] - ETA: 0s - loss: 0.2678 - binary_accuracy: 0.9002\n",
      "Epoch 15: saving model to C:\\Users\\kanan\\Desktop\\data_x\\models\\EfficientNet-B5\\Eff-epoch-15.h5\n",
      "992/992 [==============================] - 340s 343ms/step - loss: 0.2678 - binary_accuracy: 0.9002 - val_loss: 0.8911 - val_binary_accuracy: 0.7907\n",
      "Epoch 16/50\n",
      "992/992 [==============================] - ETA: 0s - loss: 0.2721 - binary_accuracy: 0.8945\n",
      "Epoch 16: saving model to C:\\Users\\kanan\\Desktop\\data_x\\models\\EfficientNet-B5\\Eff-epoch-16.h5\n",
      "992/992 [==============================] - 339s 341ms/step - loss: 0.2721 - binary_accuracy: 0.8945 - val_loss: 0.3509 - val_binary_accuracy: 0.8755\n",
      "Epoch 17/50\n",
      "992/992 [==============================] - ETA: 0s - loss: 0.2905 - binary_accuracy: 0.8863\n",
      "Epoch 17: saving model to C:\\Users\\kanan\\Desktop\\data_x\\models\\EfficientNet-B5\\Eff-epoch-17.h5\n",
      "992/992 [==============================] - 338s 341ms/step - loss: 0.2905 - binary_accuracy: 0.8863 - val_loss: 0.4280 - val_binary_accuracy: 0.8347\n",
      "Epoch 18/50\n",
      "992/992 [==============================] - ETA: 0s - loss: 0.3024 - binary_accuracy: 0.8795\n",
      "Epoch 18: saving model to C:\\Users\\kanan\\Desktop\\data_x\\models\\EfficientNet-B5\\Eff-epoch-18.h5\n",
      "992/992 [==============================] - 338s 341ms/step - loss: 0.3024 - binary_accuracy: 0.8795 - val_loss: 0.3312 - val_binary_accuracy: 0.8663\n",
      "Epoch 19/50\n",
      "992/992 [==============================] - ETA: 0s - loss: 0.3447 - binary_accuracy: 0.8681\n",
      "Epoch 19: saving model to C:\\Users\\kanan\\Desktop\\data_x\\models\\EfficientNet-B5\\Eff-epoch-19.h5\n",
      "992/992 [==============================] - 338s 340ms/step - loss: 0.3447 - binary_accuracy: 0.8681 - val_loss: 0.8489 - val_binary_accuracy: 0.8386\n",
      "Epoch 20/50\n",
      "992/992 [==============================] - ETA: 0s - loss: 0.3410 - binary_accuracy: 0.8704\n",
      "Epoch 20: saving model to C:\\Users\\kanan\\Desktop\\data_x\\models\\EfficientNet-B5\\Eff-epoch-20.h5\n",
      "992/992 [==============================] - 338s 340ms/step - loss: 0.3410 - binary_accuracy: 0.8704 - val_loss: 0.4998 - val_binary_accuracy: 0.8836\n",
      "Epoch 21/50\n",
      "992/992 [==============================] - ETA: 0s - loss: 0.3622 - binary_accuracy: 0.8635\n",
      "Epoch 21: saving model to C:\\Users\\kanan\\Desktop\\data_x\\models\\EfficientNet-B5\\Eff-epoch-21.h5\n",
      "992/992 [==============================] - 338s 340ms/step - loss: 0.3622 - binary_accuracy: 0.8635 - val_loss: 0.6729 - val_binary_accuracy: 0.8068\n",
      "Epoch 22/50\n",
      "992/992 [==============================] - ETA: 0s - loss: 0.4002 - binary_accuracy: 0.8432\n",
      "Epoch 22: saving model to C:\\Users\\kanan\\Desktop\\data_x\\models\\EfficientNet-B5\\Eff-epoch-22.h5\n",
      "992/992 [==============================] - 338s 341ms/step - loss: 0.4002 - binary_accuracy: 0.8432 - val_loss: 0.6091 - val_binary_accuracy: 0.8697\n",
      "Epoch 23/50\n",
      "992/992 [==============================] - ETA: 0s - loss: 0.4191 - binary_accuracy: 0.8225\n",
      "Epoch 23: saving model to C:\\Users\\kanan\\Desktop\\data_x\\models\\EfficientNet-B5\\Eff-epoch-23.h5\n",
      "992/992 [==============================] - 338s 340ms/step - loss: 0.4191 - binary_accuracy: 0.8225 - val_loss: 0.5370 - val_binary_accuracy: 0.7632\n",
      "Epoch 24/50\n",
      "992/992 [==============================] - ETA: 0s - loss: 0.4823 - binary_accuracy: 0.7992\n",
      "Epoch 24: saving model to C:\\Users\\kanan\\Desktop\\data_x\\models\\EfficientNet-B5\\Eff-epoch-24.h5\n",
      "992/992 [==============================] - 337s 340ms/step - loss: 0.4823 - binary_accuracy: 0.7992 - val_loss: 0.7897 - val_binary_accuracy: 0.6726\n",
      "Epoch 25/50\n",
      "992/992 [==============================] - ETA: 0s - loss: 0.4487 - binary_accuracy: 0.7868\n",
      "Epoch 25: saving model to C:\\Users\\kanan\\Desktop\\data_x\\models\\EfficientNet-B5\\Eff-epoch-25.h5\n",
      "992/992 [==============================] - 337s 340ms/step - loss: 0.4487 - binary_accuracy: 0.7868 - val_loss: 0.8168 - val_binary_accuracy: 0.7715\n",
      "Epoch 26/50\n",
      "992/992 [==============================] - ETA: 0s - loss: 0.5147 - binary_accuracy: 0.7536\n",
      "Epoch 26: saving model to C:\\Users\\kanan\\Desktop\\data_x\\models\\EfficientNet-B5\\Eff-epoch-26.h5\n",
      "992/992 [==============================] - 337s 340ms/step - loss: 0.5147 - binary_accuracy: 0.7536 - val_loss: 0.7953 - val_binary_accuracy: 0.7685\n",
      "Epoch 27/50\n",
      "992/992 [==============================] - ETA: 0s - loss: 0.5618 - binary_accuracy: 0.7352\n",
      "Epoch 27: saving model to C:\\Users\\kanan\\Desktop\\data_x\\models\\EfficientNet-B5\\Eff-epoch-27.h5\n",
      "992/992 [==============================] - 338s 341ms/step - loss: 0.5618 - binary_accuracy: 0.7352 - val_loss: 0.8903 - val_binary_accuracy: 0.6975\n",
      "Epoch 28/50\n",
      "992/992 [==============================] - ETA: 0s - loss: 0.5986 - binary_accuracy: 0.7169\n",
      "Epoch 28: saving model to C:\\Users\\kanan\\Desktop\\data_x\\models\\EfficientNet-B5\\Eff-epoch-28.h5\n",
      "992/992 [==============================] - 338s 341ms/step - loss: 0.5986 - binary_accuracy: 0.7169 - val_loss: 0.8725 - val_binary_accuracy: 0.7397\n",
      "Epoch 29/50\n",
      "992/992 [==============================] - ETA: 0s - loss: 0.5769 - binary_accuracy: 0.7126\n",
      "Epoch 29: saving model to C:\\Users\\kanan\\Desktop\\data_x\\models\\EfficientNet-B5\\Eff-epoch-29.h5\n",
      "992/992 [==============================] - 338s 341ms/step - loss: 0.5769 - binary_accuracy: 0.7126 - val_loss: 1.0384 - val_binary_accuracy: 0.7118\n",
      "Epoch 30/50\n",
      "992/992 [==============================] - ETA: 0s - loss: 0.6207 - binary_accuracy: 0.6994\n",
      "Epoch 30: saving model to C:\\Users\\kanan\\Desktop\\data_x\\models\\EfficientNet-B5\\Eff-epoch-30.h5\n",
      "992/992 [==============================] - 338s 341ms/step - loss: 0.6207 - binary_accuracy: 0.6994 - val_loss: 0.8027 - val_binary_accuracy: 0.7378\n",
      "Epoch 31/50\n",
      "992/992 [==============================] - ETA: 0s - loss: 0.6112 - binary_accuracy: 0.7058\n",
      "Epoch 31: saving model to C:\\Users\\kanan\\Desktop\\data_x\\models\\EfficientNet-B5\\Eff-epoch-31.h5\n",
      "992/992 [==============================] - 338s 340ms/step - loss: 0.6112 - binary_accuracy: 0.7058 - val_loss: 0.7631 - val_binary_accuracy: 0.6970\n",
      "Epoch 32/50\n",
      "992/992 [==============================] - ETA: 0s - loss: 0.6535 - binary_accuracy: 0.6953\n",
      "Epoch 32: saving model to C:\\Users\\kanan\\Desktop\\data_x\\models\\EfficientNet-B5\\Eff-epoch-32.h5\n",
      "992/992 [==============================] - 338s 340ms/step - loss: 0.6535 - binary_accuracy: 0.6953 - val_loss: 0.8593 - val_binary_accuracy: 0.6794\n",
      "Epoch 33/50\n",
      "992/992 [==============================] - ETA: 0s - loss: 0.6168 - binary_accuracy: 0.7011\n",
      "Epoch 33: saving model to C:\\Users\\kanan\\Desktop\\data_x\\models\\EfficientNet-B5\\Eff-epoch-33.h5\n",
      "992/992 [==============================] - 338s 341ms/step - loss: 0.6168 - binary_accuracy: 0.7011 - val_loss: 0.6745 - val_binary_accuracy: 0.7159\n",
      "Epoch 34/50\n",
      "992/992 [==============================] - ETA: 0s - loss: 0.5463 - binary_accuracy: 0.7747\n",
      "Epoch 34: saving model to C:\\Users\\kanan\\Desktop\\data_x\\models\\EfficientNet-B5\\Eff-epoch-34.h5\n",
      "992/992 [==============================] - 337s 340ms/step - loss: 0.5463 - binary_accuracy: 0.7747 - val_loss: 0.7755 - val_binary_accuracy: 0.7175\n",
      "Epoch 35/50\n",
      "992/992 [==============================] - ETA: 0s - loss: 0.5142 - binary_accuracy: 0.7952\n",
      "Epoch 35: saving model to C:\\Users\\kanan\\Desktop\\data_x\\models\\EfficientNet-B5\\Eff-epoch-35.h5\n",
      "992/992 [==============================] - 337s 340ms/step - loss: 0.5142 - binary_accuracy: 0.7952 - val_loss: 0.5737 - val_binary_accuracy: 0.7700\n",
      "Epoch 36/50\n",
      "992/992 [==============================] - ETA: 0s - loss: 0.4806 - binary_accuracy: 0.8075\n",
      "Epoch 36: saving model to C:\\Users\\kanan\\Desktop\\data_x\\models\\EfficientNet-B5\\Eff-epoch-36.h5\n",
      "992/992 [==============================] - 337s 340ms/step - loss: 0.4806 - binary_accuracy: 0.8075 - val_loss: 1.3899 - val_binary_accuracy: 0.7870\n",
      "Epoch 37/50\n",
      "992/992 [==============================] - ETA: 0s - loss: 0.4855 - binary_accuracy: 0.8142\n",
      "Epoch 37: saving model to C:\\Users\\kanan\\Desktop\\data_x\\models\\EfficientNet-B5\\Eff-epoch-37.h5\n",
      "992/992 [==============================] - 338s 340ms/step - loss: 0.4855 - binary_accuracy: 0.8142 - val_loss: 1.1230 - val_binary_accuracy: 0.8333\n",
      "Epoch 38/50\n",
      "992/992 [==============================] - ETA: 0s - loss: 0.4899 - binary_accuracy: 0.8120\n",
      "Epoch 38: saving model to C:\\Users\\kanan\\Desktop\\data_x\\models\\EfficientNet-B5\\Eff-epoch-38.h5\n",
      "992/992 [==============================] - 338s 341ms/step - loss: 0.4899 - binary_accuracy: 0.8120 - val_loss: 0.5928 - val_binary_accuracy: 0.7981\n",
      "Epoch 39/50\n",
      "992/992 [==============================] - ETA: 0s - loss: 0.5293 - binary_accuracy: 0.8100\n",
      "Epoch 39: saving model to C:\\Users\\kanan\\Desktop\\data_x\\models\\EfficientNet-B5\\Eff-epoch-39.h5\n",
      "992/992 [==============================] - 339s 342ms/step - loss: 0.5293 - binary_accuracy: 0.8100 - val_loss: 0.7436 - val_binary_accuracy: 0.7698\n",
      "Epoch 40/50\n",
      "992/992 [==============================] - ETA: 0s - loss: 0.5047 - binary_accuracy: 0.8113\n",
      "Epoch 40: saving model to C:\\Users\\kanan\\Desktop\\data_x\\models\\EfficientNet-B5\\Eff-epoch-40.h5\n",
      "992/992 [==============================] - 339s 341ms/step - loss: 0.5047 - binary_accuracy: 0.8113 - val_loss: 0.8190 - val_binary_accuracy: 0.7826\n",
      "Epoch 41/50\n",
      "992/992 [==============================] - ETA: 0s - loss: 0.5369 - binary_accuracy: 0.8034\n",
      "Epoch 41: saving model to C:\\Users\\kanan\\Desktop\\data_x\\models\\EfficientNet-B5\\Eff-epoch-41.h5\n",
      "992/992 [==============================] - 339s 341ms/step - loss: 0.5369 - binary_accuracy: 0.8034 - val_loss: 0.9585 - val_binary_accuracy: 0.7923\n",
      "Epoch 42/50\n",
      "992/992 [==============================] - ETA: 0s - loss: 0.5498 - binary_accuracy: 0.7994\n",
      "Epoch 42: saving model to C:\\Users\\kanan\\Desktop\\data_x\\models\\EfficientNet-B5\\Eff-epoch-42.h5\n",
      "992/992 [==============================] - 339s 342ms/step - loss: 0.5498 - binary_accuracy: 0.7994 - val_loss: 0.9268 - val_binary_accuracy: 0.6648\n",
      "Epoch 43/50\n",
      "992/992 [==============================] - ETA: 0s - loss: 0.5025 - binary_accuracy: 0.7973\n",
      "Epoch 43: saving model to C:\\Users\\kanan\\Desktop\\data_x\\models\\EfficientNet-B5\\Eff-epoch-43.h5\n",
      "992/992 [==============================] - 340s 342ms/step - loss: 0.5025 - binary_accuracy: 0.7973 - val_loss: 0.9398 - val_binary_accuracy: 0.7949\n",
      "Epoch 44/50\n",
      "992/992 [==============================] - ETA: 0s - loss: 0.5297 - binary_accuracy: 0.7919\n",
      "Epoch 44: saving model to C:\\Users\\kanan\\Desktop\\data_x\\models\\EfficientNet-B5\\Eff-epoch-44.h5\n",
      "992/992 [==============================] - 340s 343ms/step - loss: 0.5297 - binary_accuracy: 0.7919 - val_loss: 0.8011 - val_binary_accuracy: 0.7923\n",
      "Epoch 45/50\n",
      "992/992 [==============================] - ETA: 0s - loss: 0.5131 - binary_accuracy: 0.7865\n",
      "Epoch 45: saving model to C:\\Users\\kanan\\Desktop\\data_x\\models\\EfficientNet-B5\\Eff-epoch-45.h5\n",
      "992/992 [==============================] - 340s 342ms/step - loss: 0.5131 - binary_accuracy: 0.7865 - val_loss: 1.4792 - val_binary_accuracy: 0.7826\n",
      "Epoch 46/50\n",
      "992/992 [==============================] - ETA: 0s - loss: 0.6465 - binary_accuracy: 0.7791\n",
      "Epoch 46: saving model to C:\\Users\\kanan\\Desktop\\data_x\\models\\EfficientNet-B5\\Eff-epoch-46.h5\n",
      "992/992 [==============================] - 340s 343ms/step - loss: 0.6465 - binary_accuracy: 0.7791 - val_loss: 1.0580 - val_binary_accuracy: 0.7356\n",
      "Epoch 47/50\n",
      "992/992 [==============================] - ETA: 0s - loss: 0.5651 - binary_accuracy: 0.7797\n",
      "Epoch 47: saving model to C:\\Users\\kanan\\Desktop\\data_x\\models\\EfficientNet-B5\\Eff-epoch-47.h5\n",
      "992/992 [==============================] - 340s 342ms/step - loss: 0.5651 - binary_accuracy: 0.7797 - val_loss: 2.2451 - val_binary_accuracy: 0.7829\n",
      "Epoch 48/50\n",
      "992/992 [==============================] - ETA: 0s - loss: 0.5967 - binary_accuracy: 0.7713\n",
      "Epoch 48: saving model to C:\\Users\\kanan\\Desktop\\data_x\\models\\EfficientNet-B5\\Eff-epoch-48.h5\n",
      "992/992 [==============================] - 340s 342ms/step - loss: 0.5967 - binary_accuracy: 0.7713 - val_loss: 0.9106 - val_binary_accuracy: 0.7641\n",
      "Epoch 49/50\n",
      "992/992 [==============================] - ETA: 0s - loss: 0.6497 - binary_accuracy: 0.7776\n",
      "Epoch 49: saving model to C:\\Users\\kanan\\Desktop\\data_x\\models\\EfficientNet-B5\\Eff-epoch-49.h5\n",
      "992/992 [==============================] - 340s 343ms/step - loss: 0.6497 - binary_accuracy: 0.7776 - val_loss: 1.7535 - val_binary_accuracy: 0.7248\n",
      "Epoch 50/50\n",
      "992/992 [==============================] - ETA: 0s - loss: 0.6280 - binary_accuracy: 0.7653\n",
      "Epoch 50: saving model to C:\\Users\\kanan\\Desktop\\data_x\\models\\EfficientNet-B5\\Eff-epoch-50.h5\n",
      "992/992 [==============================] - 340s 343ms/step - loss: 0.6280 - binary_accuracy: 0.7653 - val_loss: 1.5460 - val_binary_accuracy: 0.6978\n"
     ]
    }
   ],
   "source": [
    "history = model.fit(train, \n",
    "                    validation_data=val,\n",
    "                    epochs=20, \n",
    "                    verbose=1, \n",
    "                    callbacks=callbacks)"
   ]
  },
  {
   "cell_type": "code",
   "execution_count": 29,
   "metadata": {},
   "outputs": [
    {
     "data": {
      "image/png": "[encoded data removed]",
      "text/plain": [
       "<Figure size 640x480 with 1 Axes>"
      ]
     },
     "metadata": {},
     "output_type": "display_data"
    }
   ],
   "source": [
    "fig = plt.figure()\n",
    "plt.plot(history.history['loss'], color='teal', label='loss')\n",
    "plt.plot(history.history['val_loss'], color='orange', label='val_loss')\n",
    "fig.suptitle('Loss', fontsize=20)\n",
    "plt.legend(loc=\"upper left\")\n",
    "plt.show()"
   ]
  },
  {
   "cell_type": "markdown",
   "metadata": {},
   "source": [
    "# Reducing learning rate from 0.01 to 0.001 and continue from epoch 11"
   ]
  },
  {
   "cell_type": "markdown",
   "metadata": {},
   "source": [
    "Load model from epoch 11"
   ]
  },
  {
   "cell_type": "code",
   "execution_count": 42,
   "metadata": {},
   "outputs": [],
   "source": [
    "from numpy.testing import assert_allclose\n",
    "from tensorflow.keras.models import load_model\n",
    "\n",
    "saved_model_path = r\"C:\\Users\\kanan\\Desktop\\data_x\\models\\EfficientNet-B5_lr001_50epoch\\Eff-epoch-11.h5\"\n",
    "new_model = load_model(saved_model_path)"
   ]
  },
  {
   "cell_type": "markdown",
   "metadata": {},
   "source": [
    "Set new learning rate"
   ]
  },
  {
   "cell_type": "code",
   "execution_count": 43,
   "metadata": {},
   "outputs": [
    {
     "name": "stdout",
     "output_type": "stream",
     "text": [
      "Old learning rate: 0.009999999776482582\n"
     ]
    }
   ],
   "source": [
    "current_optimizer = new_model.optimizer\n",
    "current_lr = current_optimizer.learning_rate.numpy()\n",
    "\n",
    "print(f\"Old learning rate: {current_lr}\")"
   ]
  },
  {
   "cell_type": "code",
   "execution_count": 44,
   "metadata": {},
   "outputs": [],
   "source": [
    "new_model.compile(loss=keras.losses.BinaryCrossentropy(from_logits=False), \n",
    "              optimizer= keras.optimizers.RMSprop(learning_rate=1e-3),\n",
    "              metrics = [keras.metrics.BinaryAccuracy()])"
   ]
  },
  {
   "cell_type": "code",
   "execution_count": 45,
   "metadata": {},
   "outputs": [
    {
     "name": "stdout",
     "output_type": "stream",
     "text": [
      "New learning rate: 0.0010000000474974513\n"
     ]
    }
   ],
   "source": [
    "current_optimizer = new_model.optimizer\n",
    "current_lr = current_optimizer.learning_rate.numpy()\n",
    "\n",
    "print(f\"New learning rate: {current_lr}\")"
   ]
  },
  {
   "cell_type": "markdown",
   "metadata": {},
   "source": [
    "Continue training"
   ]
  },
  {
   "cell_type": "code",
   "execution_count": 47,
   "metadata": {},
   "outputs": [],
   "source": [
    "log_file = os.path.join(results_dir, 'EfficientNetB5_bo20_lr0001.csv')"
   ]
  },
  {
   "cell_type": "code",
   "execution_count": 48,
   "metadata": {},
   "outputs": [],
   "source": [
    "callbacks = [\n",
    "    CSVLogger(log_file),\n",
    "    ModelCheckpoint(\n",
    "        filepath=os.path.join(models_dir,\"EfficientNetB5_bo20_lr0001\"),\n",
    "        save_weights_only=False,\n",
    "        save_best_only=True,\n",
    "        save_freq='epoch',\n",
    "        verbose=1\n",
    "    )\n",
    "]"
   ]
  },
  {
   "cell_type": "code",
   "execution_count": 49,
   "metadata": {},
   "outputs": [
    {
     "name": "stdout",
     "output_type": "stream",
     "text": [
      "Epoch 1/20\n",
      "992/992 [==============================] - ETA: 0s - loss: 0.1140 - binary_accuracy: 0.9504\n",
      "Epoch 1: saving model to C:\\Users\\kanan\\Desktop\\data_x\\models\\EfficientNet-B5\\Eff-epoch-continue-01.h5\n",
      "992/992 [==============================] - 349s 340ms/step - loss: 0.1140 - binary_accuracy: 0.9504 - val_loss: 0.2165 - val_binary_accuracy: 0.9279\n",
      "Epoch 2/20\n",
      "992/992 [==============================] - ETA: 0s - loss: 0.0973 - binary_accuracy: 0.9575\n",
      "Epoch 2: saving model to C:\\Users\\kanan\\Desktop\\data_x\\models\\EfficientNet-B5\\Eff-epoch-continue-02.h5\n",
      "992/992 [==============================] - 342s 345ms/step - loss: 0.0973 - binary_accuracy: 0.9575 - val_loss: 0.2071 - val_binary_accuracy: 0.9308\n",
      "Epoch 3/20\n",
      "992/992 [==============================] - ETA: 0s - loss: 0.0887 - binary_accuracy: 0.9615\n",
      "Epoch 3: saving model to C:\\Users\\kanan\\Desktop\\data_x\\models\\EfficientNet-B5\\Eff-epoch-continue-03.h5\n",
      "992/992 [==============================] - 342s 345ms/step - loss: 0.0887 - binary_accuracy: 0.9615 - val_loss: 0.2136 - val_binary_accuracy: 0.9341\n",
      "Epoch 4/20\n",
      "992/992 [==============================] - ETA: 0s - loss: 0.0832 - binary_accuracy: 0.9641\n",
      "Epoch 4: saving model to C:\\Users\\kanan\\Desktop\\data_x\\models\\EfficientNet-B5\\Eff-epoch-continue-04.h5\n",
      "992/992 [==============================] - 342s 345ms/step - loss: 0.0832 - binary_accuracy: 0.9641 - val_loss: 0.2001 - val_binary_accuracy: 0.9369\n",
      "Epoch 5/20\n",
      "992/992 [==============================] - ETA: 0s - loss: 0.0779 - binary_accuracy: 0.9667\n",
      "Epoch 5: saving model to C:\\Users\\kanan\\Desktop\\data_x\\models\\EfficientNet-B5\\Eff-epoch-continue-05.h5\n",
      "992/992 [==============================] - 342s 345ms/step - loss: 0.0779 - binary_accuracy: 0.9667 - val_loss: 0.2118 - val_binary_accuracy: 0.9354\n",
      "Epoch 6/20\n",
      "992/992 [==============================] - ETA: 0s - loss: 0.0748 - binary_accuracy: 0.9691\n",
      "Epoch 6: saving model to C:\\Users\\kanan\\Desktop\\data_x\\models\\EfficientNet-B5\\Eff-epoch-continue-06.h5\n",
      "992/992 [==============================] - 342s 345ms/step - loss: 0.0748 - binary_accuracy: 0.9691 - val_loss: 0.2100 - val_binary_accuracy: 0.9378\n",
      "Epoch 7/20\n",
      "992/992 [==============================] - ETA: 0s - loss: 0.0715 - binary_accuracy: 0.9701\n",
      "Epoch 7: saving model to C:\\Users\\kanan\\Desktop\\data_x\\models\\EfficientNet-B5\\Eff-epoch-continue-07.h5\n",
      "992/992 [==============================] - 341s 344ms/step - loss: 0.0715 - binary_accuracy: 0.9701 - val_loss: 0.1953 - val_binary_accuracy: 0.9351\n",
      "Epoch 8/20\n",
      "992/992 [==============================] - ETA: 0s - loss: 0.0682 - binary_accuracy: 0.9709\n",
      "Epoch 8: saving model to C:\\Users\\kanan\\Desktop\\data_x\\models\\EfficientNet-B5\\Eff-epoch-continue-08.h5\n",
      "992/992 [==============================] - 339s 342ms/step - loss: 0.0682 - binary_accuracy: 0.9709 - val_loss: 0.1867 - val_binary_accuracy: 0.9414\n",
      "Epoch 9/20\n",
      "992/992 [==============================] - ETA: 0s - loss: 0.0652 - binary_accuracy: 0.9732\n",
      "Epoch 9: saving model to C:\\Users\\kanan\\Desktop\\data_x\\models\\EfficientNet-B5\\Eff-epoch-continue-09.h5\n",
      "992/992 [==============================] - 340s 343ms/step - loss: 0.0652 - binary_accuracy: 0.9732 - val_loss: 0.1915 - val_binary_accuracy: 0.9388\n",
      "Epoch 10/20\n",
      "992/992 [==============================] - ETA: 0s - loss: 0.0627 - binary_accuracy: 0.9739\n",
      "Epoch 10: saving model to C:\\Users\\kanan\\Desktop\\data_x\\models\\EfficientNet-B5\\Eff-epoch-continue-10.h5\n",
      "992/992 [==============================] - 340s 342ms/step - loss: 0.0627 - binary_accuracy: 0.9739 - val_loss: 0.1932 - val_binary_accuracy: 0.9427\n",
      "Epoch 11/20\n",
      "992/992 [==============================] - ETA: 0s - loss: 0.0607 - binary_accuracy: 0.9747\n",
      "Epoch 11: saving model to C:\\Users\\kanan\\Desktop\\data_x\\models\\EfficientNet-B5\\Eff-epoch-continue-11.h5\n",
      "992/992 [==============================] - 340s 343ms/step - loss: 0.0607 - binary_accuracy: 0.9747 - val_loss: 0.2025 - val_binary_accuracy: 0.9403\n",
      "Epoch 12/20\n",
      "992/992 [==============================] - ETA: 0s - loss: 0.0573 - binary_accuracy: 0.9757\n",
      "Epoch 12: saving model to C:\\Users\\kanan\\Desktop\\data_x\\models\\EfficientNet-B5\\Eff-epoch-continue-12.h5\n",
      "992/992 [==============================] - 340s 342ms/step - loss: 0.0573 - binary_accuracy: 0.9757 - val_loss: 0.2265 - val_binary_accuracy: 0.9434\n",
      "Epoch 13/20\n",
      "992/992 [==============================] - ETA: 0s - loss: 0.0555 - binary_accuracy: 0.9769\n",
      "Epoch 13: saving model to C:\\Users\\kanan\\Desktop\\data_x\\models\\EfficientNet-B5\\Eff-epoch-continue-13.h5\n",
      "992/992 [==============================] - 340s 343ms/step - loss: 0.0555 - binary_accuracy: 0.9769 - val_loss: 0.2930 - val_binary_accuracy: 0.9351\n",
      "Epoch 14/20\n",
      "992/992 [==============================] - ETA: 0s - loss: 0.0534 - binary_accuracy: 0.9779\n",
      "Epoch 14: saving model to C:\\Users\\kanan\\Desktop\\data_x\\models\\EfficientNet-B5\\Eff-epoch-continue-14.h5\n",
      "992/992 [==============================] - 340s 342ms/step - loss: 0.0534 - binary_accuracy: 0.9779 - val_loss: 0.2206 - val_binary_accuracy: 0.9423\n",
      "Epoch 15/20\n",
      "992/992 [==============================] - ETA: 0s - loss: 0.0509 - binary_accuracy: 0.9788\n",
      "Epoch 15: saving model to C:\\Users\\kanan\\Desktop\\data_x\\models\\EfficientNet-B5\\Eff-epoch-continue-15.h5\n",
      "992/992 [==============================] - 340s 343ms/step - loss: 0.0509 - binary_accuracy: 0.9788 - val_loss: 0.2168 - val_binary_accuracy: 0.9434\n",
      "Epoch 16/20\n",
      "992/992 [==============================] - ETA: 0s - loss: 0.0495 - binary_accuracy: 0.9788\n",
      "Epoch 16: saving model to C:\\Users\\kanan\\Desktop\\data_x\\models\\EfficientNet-B5\\Eff-epoch-continue-16.h5\n",
      "992/992 [==============================] - 339s 342ms/step - loss: 0.0495 - binary_accuracy: 0.9788 - val_loss: 0.2420 - val_binary_accuracy: 0.9439\n",
      "Epoch 17/20\n",
      "992/992 [==============================] - ETA: 0s - loss: 0.0482 - binary_accuracy: 0.9798\n",
      "Epoch 17: saving model to C:\\Users\\kanan\\Desktop\\data_x\\models\\EfficientNet-B5\\Eff-epoch-continue-17.h5\n",
      "992/992 [==============================] - 339s 342ms/step - loss: 0.0482 - binary_accuracy: 0.9798 - val_loss: 0.2669 - val_binary_accuracy: 0.9405\n",
      "Epoch 18/20\n",
      "992/992 [==============================] - ETA: 0s - loss: 0.0458 - binary_accuracy: 0.9808\n",
      "Epoch 18: saving model to C:\\Users\\kanan\\Desktop\\data_x\\models\\EfficientNet-B5\\Eff-epoch-continue-18.h5\n",
      "992/992 [==============================] - 340s 343ms/step - loss: 0.0458 - binary_accuracy: 0.9808 - val_loss: 0.2087 - val_binary_accuracy: 0.9444\n",
      "Epoch 19/20\n",
      "992/992 [==============================] - ETA: 0s - loss: 0.0452 - binary_accuracy: 0.9813\n",
      "Epoch 19: saving model to C:\\Users\\kanan\\Desktop\\data_x\\models\\EfficientNet-B5\\Eff-epoch-continue-19.h5\n",
      "992/992 [==============================] - 338s 341ms/step - loss: 0.0452 - binary_accuracy: 0.9813 - val_loss: 0.2334 - val_binary_accuracy: 0.9430\n",
      "Epoch 20/20\n",
      "992/992 [==============================] - ETA: 0s - loss: 0.0443 - binary_accuracy: 0.9812\n",
      "Epoch 20: saving model to C:\\Users\\kanan\\Desktop\\data_x\\models\\EfficientNet-B5\\Eff-epoch-continue-20.h5\n",
      "992/992 [==============================] - 336s 339ms/step - loss: 0.0443 - binary_accuracy: 0.9812 - val_loss: 0.2326 - val_binary_accuracy: 0.9403\n"
     ]
    }
   ],
   "source": [
    "history = new_model.fit(train, \n",
    "                    validation_data=val,\n",
    "                    epochs=20, \n",
    "                    verbose=1, \n",
    "                    callbacks=callbacks)"
   ]
  },
  {
   "cell_type": "markdown",
   "metadata": {},
   "source": [
    "# Test"
   ]
  },
  {
   "cell_type": "code",
   "execution_count": 84,
   "metadata": {},
   "outputs": [],
   "source": [
    "from numpy.testing import assert_allclose\n",
    "from tensorflow.keras.models import load_model\n",
    "\n",
    "saved_model_path = r\"C:\\Users\\kanan\\Desktop\\data_x\\models\\EfficientNet-B5\\Eff-epoch-continue-08.h5\"\n",
    "test_model = load_model(saved_model_path)"
   ]
  },
  {
   "cell_type": "code",
   "execution_count": 93,
   "metadata": {},
   "outputs": [
    {
     "name": "stdout",
     "output_type": "stream",
     "text": [
      "Found 7360 files belonging to 2 classes.\n"
     ]
    }
   ],
   "source": [
    "import numpy as np\n",
    "from matplotlib import pyplot as plt\n",
    "\n",
    "data_dir = r\"C:\\Users\\kanan\\Desktop\\data_x\\data_x\\test\"\n",
    "test = tf.keras.utils.image_dataset_from_directory(data_dir, image_size=(224, 224))\n",
    "\n",
    "# Expected output Found 7360 files belonging to 2 classes."
   ]
  },
  {
   "cell_type": "code",
   "execution_count": 94,
   "metadata": {},
   "outputs": [],
   "source": [
    "from tensorflow.keras.metrics import Precision, Recall, BinaryAccuracy\n",
    "\n",
    "pre = Precision()\n",
    "re = Recall()\n",
    "acc = BinaryAccuracy()"
   ]
  },
  {
   "cell_type": "code",
   "execution_count": 95,
   "metadata": {},
   "outputs": [],
   "source": [
    "test_iterator = test.as_numpy_iterator()\n",
    "batch = test_iterator.next()"
   ]
  },
  {
   "cell_type": "code",
   "execution_count": 96,
   "metadata": {},
   "outputs": [
    {
     "name": "stdout",
     "output_type": "stream",
     "text": [
      "1/1 [==============================] - 3s 3s/step\n",
      "1/1 [==============================] - 0s 44ms/step\n",
      "1/1 [==============================] - 0s 43ms/step\n",
      "1/1 [==============================] - 0s 44ms/step\n",
      "1/1 [==============================] - 0s 49ms/step\n",
      "1/1 [==============================] - 0s 47ms/step\n",
      "1/1 [==============================] - 0s 46ms/step\n",
      "1/1 [==============================] - 0s 46ms/step\n",
      "1/1 [==============================] - 0s 49ms/step\n",
      "1/1 [==============================] - 0s 49ms/step\n",
      "1/1 [==============================] - 0s 45ms/step\n",
      "1/1 [==============================] - 0s 47ms/step\n",
      "1/1 [==============================] - 0s 44ms/step\n",
      "1/1 [==============================] - 0s 43ms/step\n",
      "1/1 [==============================] - 0s 43ms/step\n",
      "1/1 [==============================] - 0s 43ms/step\n",
      "1/1 [==============================] - 0s 47ms/step\n",
      "1/1 [==============================] - 0s 49ms/step\n",
      "1/1 [==============================] - 0s 44ms/step\n",
      "1/1 [==============================] - 0s 43ms/step\n",
      "1/1 [==============================] - 0s 45ms/step\n",
      "1/1 [==============================] - 0s 45ms/step\n",
      "1/1 [==============================] - 0s 42ms/step\n",
      "1/1 [==============================] - 0s 41ms/step\n",
      "1/1 [==============================] - 0s 42ms/step\n",
      "1/1 [==============================] - 0s 43ms/step\n",
      "1/1 [==============================] - 0s 43ms/step\n",
      "1/1 [==============================] - 0s 48ms/step\n",
      "1/1 [==============================] - 0s 43ms/step\n",
      "1/1 [==============================] - 0s 45ms/step\n",
      "1/1 [==============================] - 0s 44ms/step\n",
      "1/1 [==============================] - 0s 44ms/step\n",
      "1/1 [==============================] - 0s 44ms/step\n",
      "1/1 [==============================] - 0s 42ms/step\n",
      "1/1 [==============================] - 0s 42ms/step\n",
      "1/1 [==============================] - 0s 42ms/step\n",
      "1/1 [==============================] - 0s 42ms/step\n",
      "1/1 [==============================] - 0s 43ms/step\n",
      "1/1 [==============================] - 0s 43ms/step\n",
      "1/1 [==============================] - 0s 45ms/step\n",
      "1/1 [==============================] - 0s 42ms/step\n",
      "1/1 [==============================] - 0s 41ms/step\n",
      "1/1 [==============================] - 0s 41ms/step\n",
      "1/1 [==============================] - 0s 45ms/step\n",
      "1/1 [==============================] - 0s 43ms/step\n",
      "1/1 [==============================] - 0s 43ms/step\n",
      "1/1 [==============================] - 0s 43ms/step\n",
      "1/1 [==============================] - 0s 42ms/step\n",
      "1/1 [==============================] - 0s 42ms/step\n",
      "1/1 [==============================] - 0s 42ms/step\n",
      "1/1 [==============================] - 0s 40ms/step\n",
      "1/1 [==============================] - 0s 41ms/step\n",
      "1/1 [==============================] - 0s 42ms/step\n",
      "1/1 [==============================] - 0s 42ms/step\n",
      "1/1 [==============================] - 0s 41ms/step\n",
      "1/1 [==============================] - 0s 42ms/step\n",
      "1/1 [==============================] - 0s 43ms/step\n",
      "1/1 [==============================] - 0s 41ms/step\n",
      "1/1 [==============================] - 0s 43ms/step\n",
      "1/1 [==============================] - 0s 45ms/step\n",
      "1/1 [==============================] - 0s 49ms/step\n",
      "1/1 [==============================] - 0s 40ms/step\n",
      "1/1 [==============================] - 0s 42ms/step\n",
      "1/1 [==============================] - 0s 43ms/step\n",
      "1/1 [==============================] - 0s 42ms/step\n",
      "1/1 [==============================] - 0s 41ms/step\n",
      "1/1 [==============================] - 0s 44ms/step\n",
      "1/1 [==============================] - 0s 42ms/step\n",
      "1/1 [==============================] - 0s 44ms/step\n",
      "1/1 [==============================] - 0s 54ms/step\n",
      "1/1 [==============================] - 0s 42ms/step\n",
      "1/1 [==============================] - 0s 42ms/step\n",
      "1/1 [==============================] - 0s 40ms/step\n",
      "1/1 [==============================] - 0s 44ms/step\n",
      "1/1 [==============================] - 0s 43ms/step\n",
      "1/1 [==============================] - 0s 44ms/step\n",
      "1/1 [==============================] - 0s 43ms/step\n",
      "1/1 [==============================] - 0s 43ms/step\n",
      "1/1 [==============================] - 0s 42ms/step\n",
      "1/1 [==============================] - 0s 42ms/step\n",
      "1/1 [==============================] - 0s 44ms/step\n",
      "1/1 [==============================] - 0s 41ms/step\n",
      "1/1 [==============================] - 0s 43ms/step\n",
      "1/1 [==============================] - 0s 47ms/step\n",
      "1/1 [==============================] - 0s 43ms/step\n",
      "1/1 [==============================] - 0s 42ms/step\n",
      "1/1 [==============================] - 0s 42ms/step\n",
      "1/1 [==============================] - 0s 44ms/step\n",
      "1/1 [==============================] - 0s 46ms/step\n",
      "1/1 [==============================] - 0s 43ms/step\n",
      "1/1 [==============================] - 0s 40ms/step\n",
      "1/1 [==============================] - 0s 43ms/step\n",
      "1/1 [==============================] - 0s 40ms/step\n",
      "1/1 [==============================] - 0s 42ms/step\n",
      "1/1 [==============================] - 0s 43ms/step\n",
      "1/1 [==============================] - 0s 41ms/step\n",
      "1/1 [==============================] - 0s 42ms/step\n",
      "1/1 [==============================] - 0s 42ms/step\n",
      "1/1 [==============================] - 0s 43ms/step\n",
      "1/1 [==============================] - 0s 45ms/step\n",
      "1/1 [==============================] - 0s 43ms/step\n",
      "1/1 [==============================] - 0s 45ms/step\n",
      "1/1 [==============================] - 0s 42ms/step\n",
      "1/1 [==============================] - 0s 43ms/step\n",
      "1/1 [==============================] - 0s 45ms/step\n",
      "1/1 [==============================] - 0s 44ms/step\n",
      "1/1 [==============================] - 0s 43ms/step\n",
      "1/1 [==============================] - 0s 44ms/step\n",
      "1/1 [==============================] - 0s 43ms/step\n",
      "1/1 [==============================] - 0s 42ms/step\n",
      "1/1 [==============================] - 0s 42ms/step\n",
      "1/1 [==============================] - 0s 42ms/step\n",
      "1/1 [==============================] - 0s 46ms/step\n",
      "1/1 [==============================] - 0s 43ms/step\n",
      "1/1 [==============================] - 0s 40ms/step\n",
      "1/1 [==============================] - 0s 46ms/step\n",
      "1/1 [==============================] - 0s 43ms/step\n",
      "1/1 [==============================] - 0s 40ms/step\n",
      "1/1 [==============================] - 0s 42ms/step\n",
      "1/1 [==============================] - 0s 42ms/step\n",
      "1/1 [==============================] - 0s 44ms/step\n",
      "1/1 [==============================] - 0s 44ms/step\n",
      "1/1 [==============================] - 0s 41ms/step\n",
      "1/1 [==============================] - 0s 42ms/step\n",
      "1/1 [==============================] - 0s 41ms/step\n",
      "1/1 [==============================] - 0s 42ms/step\n",
      "1/1 [==============================] - 0s 43ms/step\n",
      "1/1 [==============================] - 0s 44ms/step\n",
      "1/1 [==============================] - 0s 42ms/step\n",
      "1/1 [==============================] - 0s 41ms/step\n",
      "1/1 [==============================] - 0s 43ms/step\n",
      "1/1 [==============================] - 0s 45ms/step\n",
      "1/1 [==============================] - 0s 43ms/step\n",
      "1/1 [==============================] - 0s 47ms/step\n",
      "1/1 [==============================] - 0s 42ms/step\n",
      "1/1 [==============================] - 0s 42ms/step\n",
      "1/1 [==============================] - 0s 44ms/step\n",
      "1/1 [==============================] - 0s 43ms/step\n",
      "1/1 [==============================] - 0s 44ms/step\n",
      "1/1 [==============================] - 0s 42ms/step\n",
      "1/1 [==============================] - 0s 42ms/step\n",
      "1/1 [==============================] - 0s 41ms/step\n",
      "1/1 [==============================] - 0s 42ms/step\n",
      "1/1 [==============================] - 0s 44ms/step\n",
      "1/1 [==============================] - 0s 41ms/step\n",
      "1/1 [==============================] - 0s 44ms/step\n",
      "1/1 [==============================] - 0s 43ms/step\n",
      "1/1 [==============================] - 0s 42ms/step\n",
      "1/1 [==============================] - 0s 45ms/step\n",
      "1/1 [==============================] - 0s 40ms/step\n",
      "1/1 [==============================] - 0s 42ms/step\n",
      "1/1 [==============================] - 0s 41ms/step\n",
      "1/1 [==============================] - 0s 40ms/step\n",
      "1/1 [==============================] - 0s 41ms/step\n",
      "1/1 [==============================] - 0s 40ms/step\n",
      "1/1 [==============================] - 0s 44ms/step\n",
      "1/1 [==============================] - 0s 42ms/step\n",
      "1/1 [==============================] - 0s 43ms/step\n",
      "1/1 [==============================] - 0s 43ms/step\n",
      "1/1 [==============================] - 0s 43ms/step\n",
      "1/1 [==============================] - 0s 49ms/step\n",
      "1/1 [==============================] - 0s 46ms/step\n",
      "1/1 [==============================] - 0s 45ms/step\n",
      "1/1 [==============================] - 0s 42ms/step\n",
      "1/1 [==============================] - 0s 43ms/step\n",
      "1/1 [==============================] - 0s 44ms/step\n",
      "1/1 [==============================] - 0s 43ms/step\n",
      "1/1 [==============================] - 0s 44ms/step\n",
      "1/1 [==============================] - 0s 43ms/step\n",
      "1/1 [==============================] - 0s 45ms/step\n",
      "1/1 [==============================] - 0s 43ms/step\n",
      "1/1 [==============================] - 0s 48ms/step\n",
      "1/1 [==============================] - 0s 43ms/step\n",
      "1/1 [==============================] - 0s 41ms/step\n",
      "1/1 [==============================] - 0s 44ms/step\n",
      "1/1 [==============================] - 0s 43ms/step\n",
      "1/1 [==============================] - 0s 45ms/step\n",
      "1/1 [==============================] - 0s 44ms/step\n",
      "1/1 [==============================] - 0s 43ms/step\n",
      "1/1 [==============================] - 0s 43ms/step\n",
      "1/1 [==============================] - 0s 43ms/step\n",
      "1/1 [==============================] - 0s 41ms/step\n",
      "1/1 [==============================] - 0s 40ms/step\n",
      "1/1 [==============================] - 0s 42ms/step\n",
      "1/1 [==============================] - 0s 40ms/step\n",
      "1/1 [==============================] - 0s 40ms/step\n",
      "1/1 [==============================] - 0s 40ms/step\n",
      "1/1 [==============================] - 0s 44ms/step\n",
      "1/1 [==============================] - 0s 42ms/step\n",
      "1/1 [==============================] - 0s 54ms/step\n",
      "1/1 [==============================] - 0s 44ms/step\n",
      "1/1 [==============================] - 0s 43ms/step\n",
      "1/1 [==============================] - 0s 42ms/step\n",
      "1/1 [==============================] - 0s 40ms/step\n",
      "1/1 [==============================] - 0s 42ms/step\n",
      "1/1 [==============================] - 0s 41ms/step\n",
      "1/1 [==============================] - 0s 40ms/step\n",
      "1/1 [==============================] - 0s 41ms/step\n",
      "1/1 [==============================] - 0s 41ms/step\n",
      "1/1 [==============================] - 0s 43ms/step\n",
      "1/1 [==============================] - 0s 48ms/step\n",
      "1/1 [==============================] - 0s 43ms/step\n",
      "1/1 [==============================] - 0s 42ms/step\n",
      "1/1 [==============================] - 0s 42ms/step\n",
      "1/1 [==============================] - 0s 44ms/step\n",
      "1/1 [==============================] - 0s 40ms/step\n",
      "1/1 [==============================] - 0s 40ms/step\n",
      "1/1 [==============================] - 0s 41ms/step\n",
      "1/1 [==============================] - 0s 42ms/step\n",
      "1/1 [==============================] - 0s 40ms/step\n",
      "1/1 [==============================] - 0s 40ms/step\n",
      "1/1 [==============================] - 0s 41ms/step\n",
      "1/1 [==============================] - 0s 41ms/step\n",
      "1/1 [==============================] - 0s 42ms/step\n",
      "1/1 [==============================] - 0s 44ms/step\n",
      "1/1 [==============================] - 0s 45ms/step\n",
      "1/1 [==============================] - 0s 42ms/step\n",
      "1/1 [==============================] - 0s 44ms/step\n",
      "1/1 [==============================] - 0s 42ms/step\n",
      "1/1 [==============================] - 0s 41ms/step\n",
      "1/1 [==============================] - 0s 41ms/step\n",
      "1/1 [==============================] - 0s 40ms/step\n",
      "1/1 [==============================] - 0s 39ms/step\n",
      "1/1 [==============================] - 0s 41ms/step\n",
      "1/1 [==============================] - 0s 41ms/step\n",
      "1/1 [==============================] - 0s 42ms/step\n",
      "1/1 [==============================] - 0s 41ms/step\n",
      "1/1 [==============================] - 0s 43ms/step\n",
      "1/1 [==============================] - 0s 44ms/step\n"
     ]
    }
   ],
   "source": [
    "for batch in test_iterator: \n",
    "    X, y = batch\n",
    "    yhat = test_model.predict(X)\n",
    "    pre.update_state(y, yhat)\n",
    "    re.update_state(y, yhat)\n",
    "    acc.update_state(y, yhat)"
   ]
  },
  {
   "cell_type": "code",
   "execution_count": 98,
   "metadata": {},
   "outputs": [
    {
     "name": "stdout",
     "output_type": "stream",
     "text": [
      "tf.Tensor(0.8294409, shape=(), dtype=float32) tf.Tensor(0.7797738, shape=(), dtype=float32) tf.Tensor(0.7658297, shape=(), dtype=float32)\n"
     ]
    }
   ],
   "source": [
    "f1_score = 2 * (pre.result() * re.result()) / (pre.result() + re.result())\n",
    "print(pre.result(), re.result(), acc.result(), f1_score)"
   ]
  }
 ],
 "metadata": {
  "kernelspec": {
   "display_name": "2dmodelGPU",
   "language": "python",
   "name": "python3"
  },
  "language_info": {
   "codemirror_mode": {
    "name": "ipython",
    "version": 3
   },
   "file_extension": ".py",
   "mimetype": "text/x-python",
   "name": "python",
   "nbconvert_exporter": "python",
   "pygments_lexer": "ipython3",
   "version": "3.10.14"
  }
 },
 "nbformat": 4,
 "nbformat_minor": 2
}
